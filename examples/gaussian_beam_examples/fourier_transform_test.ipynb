{
 "cells": [
  {
   "cell_type": "code",
   "execution_count": 11,
   "metadata": {},
   "outputs": [],
   "source": [
    "import sys\n",
    "from temgymbasic.model import (\n",
    "    Model,\n",
    ")\n",
    "from temgymbasic import components as comp\n",
    "import matplotlib.pyplot as plt\n",
    "from PySide6.QtWidgets import QApplication\n",
    "from temgymbasic.gui import TemGymWindow\n",
    "\n",
    "import numpy as np\n",
    "from temgymbasic.utils import calculate_phi_0\n",
    "from temgymbasic import gbd\n",
    "\n",
    "from typing import Tuple, NamedTuple\n",
    "from temgymbasic.plotting import plot_model\n",
    "import cupy as np\n",
    "#%matplotlib widget\n",
    "\n",
    "np.get_default_memory_pool().free_all_blocks()\n",
    "np.get_default_pinned_memory_pool().free_all_blocks()\n"
   ]
  },
  {
   "cell_type": "code",
   "execution_count": 19,
   "metadata": {},
   "outputs": [],
   "source": [
    "def zero_phase(u, idx_x, idx_y):\n",
    "    u_centre = u[idx_x, idx_y]\n",
    "    phase_difference =  0 - np.angle(u_centre)\n",
    "    u = u * np.exp(1j * phase_difference)\n",
    "    \n",
    "    return u\n",
    "\n",
    "def abssqr(x):\n",
    "    return np.real(x*np.conj(x))\n",
    "\n",
    "def FT(x):\n",
    "    return np.fft.fftshift(np.fft.fft2(x))\n",
    "\n",
    "def iFT(x):\n",
    "    return np.fft.ifft2(np.fft.ifftshift(x))\n",
    "    \n",
    "def FresnelPropagator(E0, ps, lambda0, z):\n",
    "    \"\"\"\n",
    "    Parameters:\n",
    "        E0 : 2D array\n",
    "            The initial complex field in the x-y source plane.\n",
    "        ps : float\n",
    "            Pixel size in the object plane (same units as wavelength).\n",
    "        lambda0 : float\n",
    "            Wavelength of the light (in the same units as ps).\n",
    "        z : float\n",
    "            Propagation distance (in the same units as ps).\n",
    "\n",
    "    Returns:\n",
    "        Ef : 2D array\n",
    "            The complex field after propagating a distance z.\n",
    "    \"\"\"\n",
    "    n, m = E0.shape\n",
    "\n",
    "    fx = np.fft.fftfreq(n, ps)\n",
    "    fy = np.fft.fftfreq(m, ps)\n",
    "    Fx, Fy = np.meshgrid(fx, fy)\n",
    "    \n",
    "    H = np.exp(-1j * (2 * np.pi / lambda0) * z) * np.exp(-1j * np.pi * lambda0 * z * (Fx**2 + Fy**2))\n",
    "    E0fft = np.fft.fft2(E0)\n",
    "    G = H * E0fft\n",
    "    Ef = np.fft.ifft2(G)\n",
    "    \n",
    "    return Ef\n",
    "\n",
    "def LensMask(X, Y, lambda0, f):\n",
    "    \"\"\"\n",
    "    Compute the phase factor introduced by an ideal lens.\n",
    "    \n",
    "    Parameters:\n",
    "        n : int\n",
    "            Number of pixels (assuming square grid, n x n).\n",
    "        ps : float\n",
    "            Pixel size (in the same units as wavelength and focal length).\n",
    "        lambda0 : float\n",
    "            Wavelength of the light (in the same units as ps).\n",
    "        f : float\n",
    "            focal length of the lens (in the same units as ps).\n",
    "    \n",
    "    Returns:\n",
    "        phase_factor : 2D array (n x n)\n",
    "            The phase factor to multiply with the field.\n",
    "    \"\"\"\n",
    "    phase_factor = np.exp(-1j * np.pi * (X**2 + Y**2) / (lambda0 * f) + 1j * np.pi)\n",
    "    \n",
    "    return phase_factor\n"
   ]
  },
  {
   "cell_type": "code",
   "execution_count": 13,
   "metadata": {},
   "outputs": [],
   "source": [
    "#Params\n",
    "n_rays = 1000\n",
    "wavelength = 0.0001\n",
    "k = 2 * np.pi / wavelength\n",
    "\n",
    "wavelengths = np.full(n_rays, wavelength)\n",
    "\n",
    "size = 512\n",
    "det_shape = (size, size)\n",
    "pixel_size = 0.001\n",
    "\n",
    "wo = 0.01\n",
    "wos = np.full(n_rays, wo)\n",
    "\n",
    "x0 = 0.03\n",
    "y0 = 0\n",
    "\n",
    "coeffs = [0.0, 0, 0.0, 0.0, 0]"
   ]
  },
  {
   "cell_type": "code",
   "execution_count": 14,
   "metadata": {},
   "outputs": [],
   "source": [
    "components = [\n",
    "    comp.GaussBeam(\n",
    "        z=0.0,\n",
    "        voltage=calculate_phi_0(wavelength),\n",
    "        radius=x0,\n",
    "        wo=wo,\n",
    "    )\n",
    "]\n",
    "\n",
    "z_detector = 1.0\n",
    "num_lenses = 50\n",
    "focal_length = 1.0\n",
    "z_lenses = np.linspace(0.1, z_detector, num_lenses, endpoint=False)\n",
    "for i in range(num_lenses):\n",
    "    components.append(\n",
    "        comp.Lens(\n",
    "            z=z_lenses[i],\n",
    "            f=focal_length,\n",
    "        )\n",
    "    )\n",
    "\n",
    "\n",
    "components.append(\n",
    "    comp.AccumulatingDetector(\n",
    "        z=z_detector,\n",
    "        pixel_size=pixel_size,\n",
    "        shape=det_shape,\n",
    "        buffer_length=1,\n",
    "        interference='gauss'\n",
    "    )\n",
    ")\n"
   ]
  },
  {
   "cell_type": "code",
   "execution_count": 15,
   "metadata": {},
   "outputs": [],
   "source": [
    "model = Model(components)\n",
    "rays = tuple(model.run_iter(num_rays=n_rays, random = False))\n",
    "image = model.detector.get_image(rays[-1])"
   ]
  },
  {
   "cell_type": "code",
   "execution_count": 16,
   "metadata": {},
   "outputs": [
    {
     "data": {
      "text/plain": [
       "<matplotlib.image.AxesImage at 0x7fd79bfba090>"
      ]
     },
     "execution_count": 16,
     "metadata": {},
     "output_type": "execute_result"
    },
    {
     "data": {
      "image/png": "[encoded data removed]",
      "text/plain": [
       "<Figure size 640x480 with 1 Axes>"
      ]
     },
     "metadata": {},
     "output_type": "display_data"
    }
   ],
   "source": [
    "init_image = model.detector.get_image(rays[0])\n",
    "plt.figure()\n",
    "plt.imshow(init_image)"
   ]
  },
  {
   "cell_type": "code",
   "execution_count": 17,
   "metadata": {},
   "outputs": [
    {
     "data": {
      "text/plain": [
       "<matplotlib.image.AxesImage at 0x7fd7981b3610>"
      ]
     },
     "execution_count": 17,
     "metadata": {},
     "output_type": "execute_result"
    },
    {
     "data": {
      "image/png": "[encoded data removed]",
      "text/plain": [
       "<Figure size 640x480 with 1 Axes>"
      ]
     },
     "metadata": {},
     "output_type": "display_data"
    }
   ],
   "source": [
    "plt.figure()\n",
    "plt.imshow(np.abs(image))"
   ]
  },
  {
   "cell_type": "code",
   "execution_count": 23,
   "metadata": {},
   "outputs": [
    {
     "name": "stdout",
     "output_type": "stream",
     "text": [
      "1\n",
      "2\n",
      "3\n",
      "4\n",
      "5\n",
      "6\n",
      "7\n",
      "8\n",
      "9\n",
      "10\n",
      "11\n",
      "12\n",
      "13\n",
      "14\n",
      "15\n",
      "16\n",
      "17\n",
      "18\n",
      "19\n",
      "20\n",
      "21\n",
      "22\n",
      "23\n",
      "24\n",
      "25\n",
      "26\n",
      "27\n",
      "28\n",
      "29\n",
      "30\n",
      "31\n",
      "32\n",
      "33\n",
      "34\n",
      "35\n",
      "36\n",
      "37\n",
      "38\n",
      "39\n",
      "40\n",
      "41\n",
      "42\n",
      "43\n",
      "44\n",
      "45\n",
      "46\n",
      "47\n",
      "48\n",
      "49\n",
      "50\n",
      "51\n"
     ]
    }
   ],
   "source": [
    "\n",
    "# np.get_default_memory_pool().free_all_blocks()\n",
    "# np.get_default_pinned_memory_pool().free_all_blocks()\n",
    "\n",
    "# size = 4096\n",
    "\n",
    "image = init_image\n",
    "x, y = np.meshgrid(np.linspace(-size/2, size/2, size), np.linspace(-size/2, size/2, size))\n",
    "\n",
    "x = np.linspace(-size/2, size/2 - 1, size) * pixel_size\n",
    "y = np.linspace(-size/2, size/2 - 1, size) * pixel_size\n",
    "X, Y = np.meshgrid(x, y)\n",
    "\n",
    "for i in range(1, len(model.components)):\n",
    "    d = model.components[i].z - model.components[i-1].z\n",
    "    image = FresnelPropagator(image, pixel_size, wavelength, d) \n",
    "    if isinstance(model.components[i], comp.Lens):\n",
    "        image *= LensMask(X, Y, focal_length, wavelength)\n",
    "    print(i)\n",
    "\n",
    "# Propagate to the detector\n",
    "d = z_detector - model.components[-1].z\n",
    "\n",
    "image = FresnelPropagator(image, pixel_size, wavelength, d)\n",
    "# image = np.asnumpy(image)\n",
    "\n"
   ]
  },
  {
   "cell_type": "code",
   "execution_count": 22,
   "metadata": {},
   "outputs": [
    {
     "data": {
      "text/plain": [
       "<matplotlib.image.AxesImage at 0x7fd7d32324d0>"
      ]
     },
     "execution_count": 22,
     "metadata": {},
     "output_type": "execute_result"
    },
    {
     "data": {
      "image/png": "[encoded data removed]",
      "text/plain": [
       "<Figure size 640x480 with 1 Axes>"
      ]
     },
     "metadata": {},
     "output_type": "display_data"
    }
   ],
   "source": [
    "plt.figure()\n",
    "plt.imshow(np.abs(image))"
   ]
  }
 ],
 "metadata": {
  "kernelspec": {
   "display_name": "TemGym",
   "language": "python",
   "name": "python3"
  },
  "language_info": {
   "codemirror_mode": {
    "name": "ipython",
    "version": 3
   },
   "file_extension": ".py",
   "mimetype": "text/x-python",
   "name": "python",
   "nbconvert_exporter": "python",
   "pygments_lexer": "ipython3",
   "version": "3.11.9"
  }
 },
 "nbformat": 4,
 "nbformat_minor": 2
}
