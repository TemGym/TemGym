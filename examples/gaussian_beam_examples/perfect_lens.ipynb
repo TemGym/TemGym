{
 "cells": [
  {
   "cell_type": "code",
   "execution_count": 9,
   "metadata": {},
   "outputs": [],
   "source": [
    "from temgymbasic.model import (\n",
    "    Model,\n",
    ")\n",
    "from temgymbasic import components as comp\n",
    "import numpy as np\n",
    "from temgymbasic.utils import calculate_phi_0\n",
    "\n",
    "\n",
    "n_rays = 1\n",
    "wavelength = 0.01\n",
    "k = 2 * np.pi / wavelength\n",
    "\n",
    "wavelengths = np.full(n_rays, wavelength)\n",
    "\n",
    "size = 512\n",
    "det_shape = (size, size)\n",
    "pixel_size = 0.005\n",
    "dsize = det_shape[0] * pixel_size\n",
    "\n",
    "x_det = np.linspace(-dsize / 2, dsize / 2, size)\n",
    "\n",
    "wo = 0.1\n",
    "wos = np.full(n_rays, wo)\n",
    "\n",
    "div = wavelength / (np.pi * wo)\n",
    "\n",
    "dPx = wo\n",
    "dPy = wo\n",
    "dHx = div\n",
    "dHy = div\n",
    "\n",
    "z_r = (np.pi * wo ** 2) / wavelengths \n",
    "\n",
    "theta_x = 5\n",
    "theta_y = 0\n",
    "\n",
    "deg_yx = np.deg2rad((theta_y, theta_x))\n",
    "tilt_yx = np.tan(deg_yx)\n",
    "\n",
    "x0 = -0.2\n",
    "y0 = 0\n",
    "\n",
    "lens_dist = 1\n",
    "focal = 0.7\n",
    "prop_dist = 1\n",
    "\n",
    "components = (\n",
    "    comp.GaussBeam(\n",
    "        z=0.0,\n",
    "        voltage=calculate_phi_0(wavelength),\n",
    "        radius=x0,\n",
    "        wo=wo,\n",
    "        tilt_yx=tilt_yx\n",
    "    ),\n",
    "    comp.Lens(\n",
    "        z = lens_dist,\n",
    "        f = focal,\n",
    "    ),\n",
    "    comp.AccumulatingDetector(\n",
    "        z = lens_dist + prop_dist,\n",
    "        pixel_size=pixel_size,\n",
    "        shape=det_shape,\n",
    "        buffer_length=1,\n",
    "    ),\n",
    ")\n",
    "\n",
    "model = Model(components)\n",
    "\n",
    "for _ in range(1):\n",
    "    rays = tuple(model.run_iter(num_rays=n_rays, random = False))\n",
    "    image = model.detector.get_image(rays[-1])\n"
   ]
  },
  {
   "cell_type": "code",
   "execution_count": 10,
   "metadata": {},
   "outputs": [
    {
     "data": {
      "text/plain": [
       "<matplotlib.image.AxesImage at 0x7f6c6ec28c50>"
      ]
     },
     "execution_count": 10,
     "metadata": {},
     "output_type": "execute_result"
    },
    {
     "data": {
      "image/png": "[encoded data removed]",
      "text/plain": [
       "<Figure size 640x480 with 1 Axes>"
      ]
     },
     "metadata": {},
     "output_type": "display_data"
    }
   ],
   "source": [
    "import matplotlib.pyplot as plt\n",
    "plt.imshow(np.angle(image))\n",
    "plt.savefig(\"phase.png\")\n",
    "plt.imshow(np.abs(image))\n",
    "plt.savefig(\"amp.png\")"
   ]
  }
 ],
 "metadata": {
  "kernelspec": {
   "display_name": "TemGym",
   "language": "python",
   "name": "python3"
  },
  "language_info": {
   "codemirror_mode": {
    "name": "ipython",
    "version": 3
   },
   "file_extension": ".py",
   "mimetype": "text/x-python",
   "name": "python",
   "nbconvert_exporter": "python",
   "pygments_lexer": "ipython3",
   "version": "3.11.9"
  }
 },
 "nbformat": 4,
 "nbformat_minor": 2
}
