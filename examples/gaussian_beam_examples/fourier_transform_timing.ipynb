{
 "cells": [
  {
   "cell_type": "code",
   "execution_count": 1,
   "metadata": {},
   "outputs": [],
   "source": [
    "from temgymbasic.model import (\n",
    "    Model,\n",
    ")\n",
    "from temgymbasic import components as comp\n",
    "import matplotlib.pyplot as plt\n",
    "\n",
    "import numpy as np\n",
    "from temgymbasic.utils import calculate_phi_0\n",
    "\n",
    "import numpy as np\n",
    "#%matplotlib widget\n",
    "\n"
   ]
  },
  {
   "cell_type": "code",
   "execution_count": 2,
   "metadata": {},
   "outputs": [],
   "source": [
    "def zero_phase(u, idx_x, idx_y):\n",
    "    u_centre = u[idx_x, idx_y]\n",
    "    phase_difference =  0 - np.angle(u_centre)\n",
    "    u = u * np.exp(1j * phase_difference)\n",
    "    \n",
    "    return u\n",
    "\n",
    "def abssqr(x):\n",
    "    return np.real(x*np.conj(x))\n",
    "\n",
    "def FT(x):\n",
    "    return np.fft.fftshift(np.fft.fft2(x))\n",
    "\n",
    "def iFT(x):\n",
    "    return np.fft.ifft2(np.fft.ifftshift(x))\n",
    "    \n",
    "def FresnelPropagator(E0, ps, lambda0, z):\n",
    "    \"\"\"\n",
    "    Parameters:\n",
    "        E0 : 2D array\n",
    "            The initial complex field in the x-y source plane.\n",
    "        ps : float\n",
    "            Pixel size in the object plane (same units as wavelength).\n",
    "        lambda0 : float\n",
    "            Wavelength of the light (in the same units as ps).\n",
    "        z : float\n",
    "            Propagation distance (in the same units as ps).\n",
    "\n",
    "    Returns:\n",
    "        Ef : 2D array\n",
    "            The complex field after propagating a distance z.\n",
    "    \"\"\"\n",
    "    n, m = E0.shape\n",
    "\n",
    "    fx = np.fft.fftfreq(n, ps)\n",
    "    fy = np.fft.fftfreq(m, ps)\n",
    "    Fx, Fy = np.meshgrid(fx, fy)\n",
    "    \n",
    "    H = np.exp(-1j * (2 * np.pi / lambda0) * z) * np.exp(-1j * np.pi * lambda0 * z * (Fx**2 + Fy**2))\n",
    "    E0fft = np.fft.fft2(E0)\n",
    "    G = H * E0fft\n",
    "    Ef = np.fft.ifft2(G)\n",
    "    \n",
    "    return Ef\n",
    "\n",
    "def LensMask(X, Y, lambda0, f):\n",
    "    \"\"\"\n",
    "    Compute the phase factor introduced by an ideal lens.\n",
    "    \n",
    "    Parameters:\n",
    "        n : int\n",
    "            Number of pixels (assuming square grid, n x n).\n",
    "        ps : float\n",
    "            Pixel size (in the same units as wavelength and focal length).\n",
    "        lambda0 : float\n",
    "            Wavelength of the light (in the same units as ps).\n",
    "        f : float\n",
    "            focal length of the lens (in the same units as ps).\n",
    "    \n",
    "    Returns:\n",
    "        phase_factor : 2D array (n x n)\n",
    "            The phase factor to multiply with the field.\n",
    "    \"\"\"\n",
    "    phase_factor = np.exp(-1j * np.pi * (X**2 + Y**2) / (lambda0 * f) + 1j * np.pi)\n",
    "    \n",
    "    return phase_factor\n"
   ]
  },
  {
   "cell_type": "code",
   "execution_count": 3,
   "metadata": {},
   "outputs": [],
   "source": [
    "#Params\n",
    "n_rays = 1000\n",
    "wavelength = 0.0001\n",
    "k = 2 * np.pi / wavelength\n",
    "\n",
    "wavelengths = np.full(n_rays, wavelength)\n",
    "\n",
    "size = 512\n",
    "det_shape = (size, size)\n",
    "pixel_size = 0.001\n",
    "\n",
    "wo = 0.01\n",
    "wos = np.full(n_rays, wo)\n",
    "\n",
    "x0 = 0.03\n",
    "y0 = 0\n",
    "\n",
    "coeffs = [0.0, 0, 0.0, 0.0, 0]"
   ]
  },
  {
   "cell_type": "code",
   "execution_count": 4,
   "metadata": {},
   "outputs": [],
   "source": [
    "components = [\n",
    "    comp.GaussBeam(\n",
    "        z=0.0,\n",
    "        voltage=calculate_phi_0(wavelength),\n",
    "        radius=x0,\n",
    "        wo=wo,\n",
    "    )\n",
    "]\n",
    "\n",
    "z_detector = 1.0\n",
    "num_lenses = 50\n",
    "focal_length = 1.0\n",
    "z_lenses = np.linspace(0.1, z_detector, num_lenses, endpoint=False)\n",
    "for i in range(num_lenses):\n",
    "    components.append(\n",
    "        comp.Lens(\n",
    "            z=z_lenses[i],\n",
    "            f=focal_length,\n",
    "        )\n",
    "    )\n",
    "\n",
    "\n",
    "components.append(\n",
    "    comp.AccumulatingDetector(\n",
    "        z=z_detector,\n",
    "        pixel_size=pixel_size,\n",
    "        shape=det_shape,\n",
    "        buffer_length=1,\n",
    "        interference='gauss'\n",
    "    )\n",
    ")\n"
   ]
  },
  {
   "cell_type": "code",
   "execution_count": 5,
   "metadata": {},
   "outputs": [
    {
     "ename": "TypeError",
     "evalue": "Implicit conversion to a NumPy array is not allowed. Please use `.get()` to construct a NumPy array explicitly.",
     "output_type": "error",
     "traceback": [
      "\u001b[0;31m---------------------------------------------------------------------------\u001b[0m",
      "\u001b[0;31mTypeError\u001b[0m                                 Traceback (most recent call last)",
      "Cell \u001b[0;32mIn[5], line 2\u001b[0m\n\u001b[1;32m      1\u001b[0m model \u001b[38;5;241m=\u001b[39m Model(components)\n\u001b[0;32m----> 2\u001b[0m rays \u001b[38;5;241m=\u001b[39m \u001b[38;5;28;43mtuple\u001b[39;49m\u001b[43m(\u001b[49m\u001b[43mmodel\u001b[49m\u001b[38;5;241;43m.\u001b[39;49m\u001b[43mrun_iter\u001b[49m\u001b[43m(\u001b[49m\u001b[43mnum_rays\u001b[49m\u001b[38;5;241;43m=\u001b[39;49m\u001b[43mn_rays\u001b[49m\u001b[43m,\u001b[49m\u001b[43m \u001b[49m\u001b[43mrandom\u001b[49m\u001b[43m \u001b[49m\u001b[38;5;241;43m=\u001b[39;49m\u001b[43m \u001b[49m\u001b[38;5;28;43;01mFalse\u001b[39;49;00m\u001b[43m)\u001b[49m\u001b[43m)\u001b[49m\n\u001b[1;32m      3\u001b[0m image \u001b[38;5;241m=\u001b[39m model\u001b[38;5;241m.\u001b[39mdetector\u001b[38;5;241m.\u001b[39mget_image(rays[\u001b[38;5;241m-\u001b[39m\u001b[38;5;241m1\u001b[39m])\n",
      "File \u001b[0;32m~/TemGym/src/temgymbasic/model.py:115\u001b[0m, in \u001b[0;36mModel.run_iter\u001b[0;34m(self, num_rays, random)\u001b[0m\n\u001b[1;32m    113\u001b[0m rays \u001b[38;5;241m=\u001b[39m source\u001b[38;5;241m.\u001b[39mget_rays(num_rays, random\u001b[38;5;241m=\u001b[39mrandom)\n\u001b[1;32m    114\u001b[0m \u001b[38;5;28;01mfor\u001b[39;00m component \u001b[38;5;129;01min\u001b[39;00m \u001b[38;5;28mself\u001b[39m\u001b[38;5;241m.\u001b[39mcomponents:\n\u001b[0;32m--> 115\u001b[0m     rays \u001b[38;5;241m=\u001b[39m \u001b[43mrays\u001b[49m\u001b[38;5;241;43m.\u001b[39;49m\u001b[43mpropagate_to\u001b[49m\u001b[43m(\u001b[49m\u001b[43mcomponent\u001b[49m\u001b[38;5;241;43m.\u001b[39;49m\u001b[43mentrance_z\u001b[49m\u001b[43m)\u001b[49m\n\u001b[1;32m    116\u001b[0m     \u001b[38;5;28;01mfor\u001b[39;00m rays \u001b[38;5;129;01min\u001b[39;00m component\u001b[38;5;241m.\u001b[39mstep(rays):\n\u001b[1;32m    117\u001b[0m         \u001b[38;5;66;03m# Could use generator with return value here...\u001b[39;00m\n\u001b[1;32m    118\u001b[0m         \u001b[38;5;28;01myield\u001b[39;00m rays\n",
      "File \u001b[0;32m~/TemGym/src/temgymbasic/rays.py:169\u001b[0m, in \u001b[0;36mRays.propagate_to\u001b[0;34m(self, z)\u001b[0m\n\u001b[1;32m    168\u001b[0m \u001b[38;5;28;01mdef\u001b[39;00m \u001b[38;5;21mpropagate_to\u001b[39m(\u001b[38;5;28mself\u001b[39m, z: \u001b[38;5;28mfloat\u001b[39m) \u001b[38;5;241m-\u001b[39m\u001b[38;5;241m>\u001b[39m Self:\n\u001b[0;32m--> 169\u001b[0m     \u001b[38;5;28;01mreturn\u001b[39;00m \u001b[38;5;28;43mself\u001b[39;49m\u001b[38;5;241;43m.\u001b[39;49m\u001b[43mpropagate\u001b[49m\u001b[43m(\u001b[49m\u001b[43mz\u001b[49m\u001b[43m \u001b[49m\u001b[38;5;241;43m-\u001b[39;49m\u001b[43m \u001b[49m\u001b[38;5;28;43mself\u001b[39;49m\u001b[38;5;241;43m.\u001b[39;49m\u001b[43mz\u001b[49m\u001b[43m)\u001b[49m\n",
      "File \u001b[0;32m~/TemGym/src/temgymbasic/rays.py:158\u001b[0m, in \u001b[0;36mRays.propagate\u001b[0;34m(self, distance)\u001b[0m\n\u001b[1;32m    153\u001b[0m \u001b[38;5;28;01melif\u001b[39;00m np\u001b[38;5;241m.\u001b[39many(degree_y \u001b[38;5;241m>\u001b[39m \u001b[38;5;241m20\u001b[39m):\n\u001b[1;32m    154\u001b[0m     \u001b[38;5;28;01mraise\u001b[39;00m \u001b[38;5;167;01mValueError\u001b[39;00m(\u001b[38;5;124mf\u001b[39m\u001b[38;5;124m\"\u001b[39m\u001b[38;5;124mdy is too large for parabasal representation: \u001b[39m\u001b[38;5;132;01m{\u001b[39;00mnp\u001b[38;5;241m.\u001b[39mmax(degree_y)\u001b[38;5;132;01m}\u001b[39;00m\u001b[38;5;124m\"\u001b[39m)\n\u001b[1;32m    156\u001b[0m \u001b[38;5;28;01mreturn\u001b[39;00m \u001b[38;5;28mself\u001b[39m\u001b[38;5;241m.\u001b[39mnew_with(\n\u001b[1;32m    157\u001b[0m     data\u001b[38;5;241m=\u001b[39mnp\u001b[38;5;241m.\u001b[39mmatmul(\n\u001b[0;32m--> 158\u001b[0m         \u001b[38;5;28;43mself\u001b[39;49m\u001b[38;5;241;43m.\u001b[39;49m\u001b[43mpropagation_matrix\u001b[49m\u001b[43m(\u001b[49m\u001b[43mdistance\u001b[49m\u001b[43m)\u001b[49m,\n\u001b[1;32m    159\u001b[0m         \u001b[38;5;28mself\u001b[39m\u001b[38;5;241m.\u001b[39mdata,\n\u001b[1;32m    160\u001b[0m     ),\n\u001b[1;32m    161\u001b[0m     location\u001b[38;5;241m=\u001b[39m\u001b[38;5;28mself\u001b[39m\u001b[38;5;241m.\u001b[39mz \u001b[38;5;241m+\u001b[39m distance,\n\u001b[1;32m    162\u001b[0m     path_length\u001b[38;5;241m=\u001b[39m(\n\u001b[1;32m    163\u001b[0m         \u001b[38;5;28mself\u001b[39m\u001b[38;5;241m.\u001b[39mpath_length\n\u001b[1;32m    164\u001b[0m         \u001b[38;5;241m+\u001b[39m \u001b[38;5;241m1.0\u001b[39m \u001b[38;5;241m*\u001b[39m distance \u001b[38;5;241m*\u001b[39m (\u001b[38;5;241m1\u001b[39m \u001b[38;5;241m+\u001b[39m \u001b[38;5;28mself\u001b[39m\u001b[38;5;241m.\u001b[39mdx \u001b[38;5;241m*\u001b[39m\u001b[38;5;241m*\u001b[39m \u001b[38;5;241m2\u001b[39m \u001b[38;5;241m+\u001b[39m \u001b[38;5;28mself\u001b[39m\u001b[38;5;241m.\u001b[39mdy \u001b[38;5;241m*\u001b[39m\u001b[38;5;241m*\u001b[39m \u001b[38;5;241m2\u001b[39m) \u001b[38;5;241m*\u001b[39m\u001b[38;5;241m*\u001b[39m \u001b[38;5;241m0.5\u001b[39m\n\u001b[1;32m    165\u001b[0m     ),\n\u001b[1;32m    166\u001b[0m )\n",
      "File \u001b[0;32m~/TemGym/src/temgymbasic/rays.py:139\u001b[0m, in \u001b[0;36mRays.propagation_matrix\u001b[0;34m(z)\u001b[0m\n\u001b[1;32m    124\u001b[0m \u001b[38;5;129m@staticmethod\u001b[39m\n\u001b[1;32m    125\u001b[0m \u001b[38;5;28;01mdef\u001b[39;00m \u001b[38;5;21mpropagation_matrix\u001b[39m(z):\n\u001b[1;32m    126\u001b[0m \u001b[38;5;250m    \u001b[39m\u001b[38;5;124;03m'''\u001b[39;00m\n\u001b[1;32m    127\u001b[0m \u001b[38;5;124;03m    Propagation matrix\u001b[39;00m\n\u001b[1;32m    128\u001b[0m \n\u001b[0;32m   (...)\u001b[0m\n\u001b[1;32m    137\u001b[0m \u001b[38;5;124;03m        Propagation matrix\u001b[39;00m\n\u001b[1;32m    138\u001b[0m \u001b[38;5;124;03m    '''\u001b[39;00m\n\u001b[0;32m--> 139\u001b[0m     \u001b[38;5;28;01mreturn\u001b[39;00m \u001b[43mnp\u001b[49m\u001b[38;5;241;43m.\u001b[39;49m\u001b[43marray\u001b[49m\u001b[43m(\u001b[49m\n\u001b[1;32m    140\u001b[0m \u001b[43m        \u001b[49m\u001b[43m[\u001b[49m\u001b[43m[\u001b[49m\u001b[38;5;241;43m1\u001b[39;49m\u001b[43m,\u001b[49m\u001b[43m \u001b[49m\u001b[43mz\u001b[49m\u001b[43m,\u001b[49m\u001b[43m \u001b[49m\u001b[38;5;241;43m0\u001b[39;49m\u001b[43m,\u001b[49m\u001b[43m \u001b[49m\u001b[38;5;241;43m0\u001b[39;49m\u001b[43m,\u001b[49m\u001b[43m \u001b[49m\u001b[38;5;241;43m0\u001b[39;49m\u001b[43m]\u001b[49m\u001b[43m,\u001b[49m\n\u001b[1;32m    141\u001b[0m \u001b[43m         \u001b[49m\u001b[43m[\u001b[49m\u001b[38;5;241;43m0\u001b[39;49m\u001b[43m,\u001b[49m\u001b[43m \u001b[49m\u001b[38;5;241;43m1\u001b[39;49m\u001b[43m,\u001b[49m\u001b[43m \u001b[49m\u001b[38;5;241;43m0\u001b[39;49m\u001b[43m,\u001b[49m\u001b[43m \u001b[49m\u001b[38;5;241;43m0\u001b[39;49m\u001b[43m,\u001b[49m\u001b[43m \u001b[49m\u001b[38;5;241;43m0\u001b[39;49m\u001b[43m]\u001b[49m\u001b[43m,\u001b[49m\n\u001b[1;32m    142\u001b[0m \u001b[43m         \u001b[49m\u001b[43m[\u001b[49m\u001b[38;5;241;43m0\u001b[39;49m\u001b[43m,\u001b[49m\u001b[43m \u001b[49m\u001b[38;5;241;43m0\u001b[39;49m\u001b[43m,\u001b[49m\u001b[43m \u001b[49m\u001b[38;5;241;43m1\u001b[39;49m\u001b[43m,\u001b[49m\u001b[43m \u001b[49m\u001b[43mz\u001b[49m\u001b[43m,\u001b[49m\u001b[43m \u001b[49m\u001b[38;5;241;43m0\u001b[39;49m\u001b[43m]\u001b[49m\u001b[43m,\u001b[49m\n\u001b[1;32m    143\u001b[0m \u001b[43m         \u001b[49m\u001b[43m[\u001b[49m\u001b[38;5;241;43m0\u001b[39;49m\u001b[43m,\u001b[49m\u001b[43m \u001b[49m\u001b[38;5;241;43m0\u001b[39;49m\u001b[43m,\u001b[49m\u001b[43m \u001b[49m\u001b[38;5;241;43m0\u001b[39;49m\u001b[43m,\u001b[49m\u001b[43m \u001b[49m\u001b[38;5;241;43m1\u001b[39;49m\u001b[43m,\u001b[49m\u001b[43m \u001b[49m\u001b[38;5;241;43m0\u001b[39;49m\u001b[43m]\u001b[49m\u001b[43m,\u001b[49m\n\u001b[1;32m    144\u001b[0m \u001b[43m         \u001b[49m\u001b[43m[\u001b[49m\u001b[38;5;241;43m0\u001b[39;49m\u001b[43m,\u001b[49m\u001b[43m \u001b[49m\u001b[38;5;241;43m0\u001b[39;49m\u001b[43m,\u001b[49m\u001b[43m \u001b[49m\u001b[38;5;241;43m0\u001b[39;49m\u001b[43m,\u001b[49m\u001b[43m \u001b[49m\u001b[38;5;241;43m0\u001b[39;49m\u001b[43m,\u001b[49m\u001b[43m \u001b[49m\u001b[38;5;241;43m1\u001b[39;49m\u001b[43m]\u001b[49m\u001b[43m]\u001b[49m\n\u001b[1;32m    145\u001b[0m \u001b[43m    \u001b[49m\u001b[43m)\u001b[49m\n",
      "File \u001b[0;32mcupy/_core/core.pyx:1481\u001b[0m, in \u001b[0;36mcupy._core.core._ndarray_base.__array__\u001b[0;34m()\u001b[0m\n",
      "\u001b[0;31mTypeError\u001b[0m: Implicit conversion to a NumPy array is not allowed. Please use `.get()` to construct a NumPy array explicitly."
     ]
    }
   ],
   "source": [
    "model = Model(components)\n",
    "rays = tuple(model.run_iter(num_rays=n_rays, random = False))\n",
    "image = model.detector.get_image(rays[-1])"
   ]
  },
  {
   "cell_type": "code",
   "execution_count": null,
   "metadata": {},
   "outputs": [],
   "source": [
    "init_image = model.detector.get_image(rays[0])\n",
    "plt.figure()\n",
    "plt.imshow(init_image)"
   ]
  },
  {
   "cell_type": "code",
   "execution_count": null,
   "metadata": {},
   "outputs": [],
   "source": [
    "plt.figure()\n",
    "plt.imshow(np.abs(image))"
   ]
  },
  {
   "cell_type": "code",
   "execution_count": null,
   "metadata": {},
   "outputs": [],
   "source": [
    "\n",
    "# np.get_default_memory_pool().free_all_blocks()\n",
    "# np.get_default_pinned_memory_pool().free_all_blocks()\n",
    "\n",
    "# size = 4096\n",
    "\n",
    "image = init_image\n",
    "x, y = np.meshgrid(np.linspace(-size/2, size/2, size), np.linspace(-size/2, size/2, size))\n",
    "\n",
    "x = np.linspace(-size/2, size/2 - 1, size) * pixel_size\n",
    "y = np.linspace(-size/2, size/2 - 1, size) * pixel_size\n",
    "X, Y = np.meshgrid(x, y)\n",
    "\n",
    "for i in range(1, len(model.components)):\n",
    "    d = model.components[i].z - model.components[i-1].z\n",
    "    image = FresnelPropagator(image, pixel_size, wavelength, d) \n",
    "    if isinstance(model.components[i], comp.Lens):\n",
    "        image *= LensMask(X, Y, focal_length, wavelength)\n",
    "\n",
    "# Propagate to the detector\n",
    "d = z_detector - model.components[-1].z\n",
    "\n",
    "image = FresnelPropagator(image, pixel_size, wavelength, d)\n",
    "# image = np.asnumpy(image)\n",
    "\n"
   ]
  },
  {
   "cell_type": "code",
   "execution_count": null,
   "metadata": {},
   "outputs": [],
   "source": [
    "plt.figure()\n",
    "plt.imshow(np.abs(image))"
   ]
  }
 ],
 "metadata": {
  "kernelspec": {
   "display_name": "TemGym",
   "language": "python",
   "name": "python3"
  },
  "language_info": {
   "codemirror_mode": {
    "name": "ipython",
    "version": 3
   },
   "file_extension": ".py",
   "mimetype": "text/x-python",
   "name": "python",
   "nbconvert_exporter": "python",
   "pygments_lexer": "ipython3",
   "version": "3.11.9"
  }
 },
 "nbformat": 4,
 "nbformat_minor": 2
}
