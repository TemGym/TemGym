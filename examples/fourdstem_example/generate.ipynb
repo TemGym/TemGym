{
 "cells": [
  {
   "cell_type": "code",
   "execution_count": 1,
   "metadata": {},
   "outputs": [],
   "source": [
    "import os\n",
    "os.environ[\"XLA_PYTHON_CLIENT_MEM_FRACTION\"] = \".01\"\n",
    "\n",
    "from jax import numpy as jnp\n",
    "import jax\n",
    "from jax.scipy.interpolate import RegularGridInterpolator\n",
    "\n",
    "import temgymbasic.jax_components as comp\n",
    "from temgymbasic.jax_run import run_to_end, run_to_component\n",
    "from temgymbasic.jax_ray import Ray, propagate\n",
    "from temgymbasic.jax_utils import get_pytree_idx_from_model, get_pixel_coords\n",
    "import matplotlib.pyplot as plt\n",
    "\n",
    "import tqdm.auto as tqdm\n",
    "%matplotlib widget\n",
    "import numpy as np\n",
    "\n",
    "# set jax to use cpu\n",
    "jax.config.update(\"jax_platform_name\", \"cpu\")\n",
    "# jax.config.update(\"jax_enable_x64\", True)"
   ]
  },
  {
   "cell_type": "markdown",
   "metadata": {},
   "source": [
    "SYMPY Mathematics just to understand how to model the descanner with descan error, and how the variables propagate to the end. Feel free to ignore. "
   ]
  },
  {
   "cell_type": "code",
   "execution_count": 2,
   "metadata": {},
   "outputs": [
    {
     "data": {
      "text/latex": [
       "$\\displaystyle \\left[\\begin{matrix}x_{out}\\\\y_{out}\\\\\\theta_{x out}\\\\\\theta_{y out}\\\\1\\end{matrix}\\right] = \\left[\\begin{matrix}A_{xx} scan_{x} + A_{xy} scan_{y} + B_{xx} \\alpha \\cos{\\left(\\phi \\right)} + B_{xy} \\alpha \\sin{\\left(\\phi \\right)} + \\delta_{x}\\\\A_{yx} scan_{x} + A_{yy} scan_{y} + B_{yx} \\alpha \\cos{\\left(\\phi \\right)} + B_{yy} \\alpha \\sin{\\left(\\phi \\right)} + \\delta_{y}\\\\C_{xx} scan_{x} + C_{xy} scan_{y} + D_{xx} \\alpha \\cos{\\left(\\phi \\right)} + D_{xy} \\alpha \\sin{\\left(\\phi \\right)} + \\delta_{\\theta x}\\\\C_{yx} scan_{x} + C_{yy} scan_{y} + D_{yx} \\alpha \\cos{\\left(\\phi \\right)} + D_{yy} \\alpha \\sin{\\left(\\phi \\right)} + \\delta_{\\theta y}\\\\1\\end{matrix}\\right]$"
      ],
      "text/plain": [
       "Eq(Matrix([\n",
       "[      x_out],\n",
       "[      y_out],\n",
       "[theta_x_out],\n",
       "[theta_y_out],\n",
       "[          1]]), Matrix([\n",
       "[      A_xx*scan_{x} + A_xy*scan_{y} + B_xx*\\alpha*cos(\\phi) + B_xy*\\alpha*sin(\\phi) + delta_x],\n",
       "[      A_yx*scan_{x} + A_yy*scan_{y} + B_yx*\\alpha*cos(\\phi) + B_yy*\\alpha*sin(\\phi) + delta_y],\n",
       "[C_xx*scan_{x} + C_xy*scan_{y} + D_xx*\\alpha*cos(\\phi) + D_xy*\\alpha*sin(\\phi) + delta_theta_x],\n",
       "[C_yx*scan_{x} + C_yy*scan_{y} + D_yx*\\alpha*cos(\\phi) + D_yy*\\alpha*sin(\\phi) + delta_theta_y],\n",
       "[                                                                                            1]]))"
      ]
     },
     "metadata": {},
     "output_type": "display_data"
    },
    {
     "data": {
      "text/latex": [
       "$\\displaystyle x_{out} = A_{xx} scan_{x} + A_{xy} scan_{y} + B_{xx} \\alpha \\cos{\\left(\\phi \\right)} + B_{xy} \\alpha \\sin{\\left(\\phi \\right)} + \\delta_{x}$"
      ],
      "text/plain": [
       "Eq(x_out, A_xx*scan_{x} + A_xy*scan_{y} + B_xx*\\alpha*cos(\\phi) + B_xy*\\alpha*sin(\\phi) + delta_x)"
      ]
     },
     "metadata": {},
     "output_type": "display_data"
    },
    {
     "data": {
      "text/latex": [
       "$\\displaystyle y_{out} = A_{yx} scan_{x} + A_{yy} scan_{y} + B_{yx} \\alpha \\cos{\\left(\\phi \\right)} + B_{yy} \\alpha \\sin{\\left(\\phi \\right)} + \\delta_{y}$"
      ],
      "text/plain": [
       "Eq(y_out, A_yx*scan_{x} + A_yy*scan_{y} + B_yx*\\alpha*cos(\\phi) + B_yy*\\alpha*sin(\\phi) + delta_y)"
      ]
     },
     "metadata": {},
     "output_type": "display_data"
    },
    {
     "data": {
      "text/latex": [
       "$\\displaystyle \\theta_{x out} = C_{xx} scan_{x} + C_{xy} scan_{y} + D_{xx} \\alpha \\cos{\\left(\\phi \\right)} + D_{xy} \\alpha \\sin{\\left(\\phi \\right)} + \\delta_{\\theta x}$"
      ],
      "text/plain": [
       "Eq(theta_x_out, C_xx*scan_{x} + C_xy*scan_{y} + D_xx*\\alpha*cos(\\phi) + D_xy*\\alpha*sin(\\phi) + delta_theta_x)"
      ]
     },
     "metadata": {},
     "output_type": "display_data"
    },
    {
     "data": {
      "text/latex": [
       "$\\displaystyle \\theta_{y out} = C_{yx} scan_{x} + C_{yy} scan_{y} + D_{yx} \\alpha \\cos{\\left(\\phi \\right)} + D_{yy} \\alpha \\sin{\\left(\\phi \\right)} + \\delta_{\\theta y}$"
      ],
      "text/plain": [
       "Eq(theta_y_out, C_yx*scan_{x} + C_yy*scan_{y} + D_yx*\\alpha*cos(\\phi) + D_yy*\\alpha*sin(\\phi) + delta_theta_y)"
      ]
     },
     "metadata": {},
     "output_type": "display_data"
    },
    {
     "name": "stdout",
     "output_type": "stream",
     "text": [
      "(-A_xx*B_yy*scan_{x} - A_xy*B_yy*scan_{y} + A_yx*B_xy*scan_{x} + A_yy*B_xy*scan_{y} + B_xy*delta_y - B_xy*y_out - B_yy*delta_x + B_yy*x_out)/(B_xx*B_yy - B_xy*B_yx)\n",
      "(A_xx*B_yx*scan_{x} + A_xy*B_yx*scan_{y} - A_yx*B_xx*scan_{x} - A_yy*B_xx*scan_{y} - B_xx*delta_y + B_xx*y_out + B_yx*delta_x - B_yx*x_out)/(B_xx*B_yy - B_xy*B_yx)\n"
     ]
    }
   ],
   "source": [
    "import sympy as sp\n",
    "\n",
    "def create_2d_rotation_matrix_5x5(theta, flip_y=False):\n",
    "    \"\"\"\n",
    "    Returns a 5x5 sympy Matrix that applies a 2D rotation (for x,y and their slopes)\n",
    "    by angle 'theta', with an option to flip the y-axis.\n",
    "    \"\"\"\n",
    "    c = sp.cos(theta)\n",
    "    s = sp.sin(theta)\n",
    "\n",
    "    # By default: normal rotation blocks\n",
    "    #     [ c  -s ]\n",
    "    #     [ s   c ]\n",
    "    # If we 'flip_y', we reflect the final y-coordinates about the x-axis, i.e.\n",
    "    # (x, y) -> (x, -y) after rotation. That yields:\n",
    "    #     x' =  c*x - s*y\n",
    "    #     y' = -s*x - c*y\n",
    "    if flip_y:\n",
    "        # Rotation followed by flip in y\n",
    "        m11 =  c\n",
    "        m12 = -s\n",
    "        m21 = -s\n",
    "        m22 = -c\n",
    "    else:\n",
    "        # Normal rotation\n",
    "        m11 =  c\n",
    "        m12 = -s\n",
    "        m21 =  s\n",
    "        m22 =  c\n",
    "\n",
    "    M = sp.eye(5)  # Start as 5x5 identity\n",
    "    # Fill in the (x, y) rotation/flip block:\n",
    "    M[0, 0] = m11\n",
    "    M[0, 1] = m12\n",
    "    M[1, 0] = m21\n",
    "    M[1, 1] = m22\n",
    "\n",
    "    # # Fill in the (dx, dy) rotation/flip block:\n",
    "    # M[2, 2] = m11\n",
    "    # M[2, 3] = m12\n",
    "    # M[3, 2] = m21\n",
    "    # M[3, 3] = m22\n",
    "\n",
    "    return M\n",
    "\n",
    "x_out, y_out, theta_x_out, theta_y_out = sp.symbols('x_out y_out theta_x_out theta_y_out')\n",
    "x_in, y_in, theta_x_in, theta_y_in = sp.symbols('x_in y_in theta_x_in theta_y_in')\n",
    "\n",
    "# Lit pixels from Point Source\n",
    "# Make a 5x5 matrix for use in sympy with Axx, Axy, Ayx, Ayy, Bxx, Bxy, Byx, Byy... etc values in each quadrant\n",
    "A_xx, A_xy, A_yx, A_yy = sp.symbols('A_xx A_xy A_yx A_yy', real=True)\n",
    "B_xx, B_xy, B_yx, B_yy = sp.symbols('B_xx B_xy B_yx B_yy', real=True)\n",
    "C_xx, C_xy, C_yx, C_yy = sp.symbols('C_xx C_xy C_yx C_yy', real=True)\n",
    "D_xx, D_xy, D_yx, D_yy = sp.symbols('D_xx D_xy D_yx D_yy', real=True)\n",
    "delta_x, delta_y, delta_theta_x, delta_theta_y = sp.symbols('delta_x delta_y delta_theta_x delta_theta_y', real=True)\n",
    "\n",
    "#Populate the 5x5 matrix with the these symbols, with 0s in the bottom row, and 1 in the bottom right corner\n",
    "TransferMatrix = sp.Matrix([[A_xx, A_xy, B_xx, B_xy, delta_x],\n",
    "                            [A_yx, A_yy, B_yx, B_yy, delta_y],\n",
    "                            [C_xx, C_xy, D_xx, D_xy, delta_theta_x],\n",
    "                            [C_yx, C_yy, D_yx, D_yy, delta_theta_y],\n",
    "                            [0, 0, 0, 0, 1]])\n",
    "\n",
    "# create column vector of output coordinates, x_out, y_out, theta_x_out, theta_y_out 1\n",
    "out_coords = sp.Matrix([x_out, y_out, theta_x_out, theta_y_out, 1])\n",
    "semi_conv, phi = sp.symbols(r'\\alpha, \\phi')\n",
    "\n",
    "#Now for the incoordinates, I want the vector to be populated via the following:\n",
    "# x_in = scan_pos_x, y_in = scan_pos_y, but theta_x_in and theta_y_in should be a function to define a cone of rays \n",
    "# with a semi-convergence angle.\n",
    "theta_x_in = semi_conv * sp.cos(phi)\n",
    "theta_y_in = semi_conv * sp.sin(phi)\n",
    "scan_position_x, scan_position_y = sp.symbols('scan_{x} scan_{y}')\n",
    "\n",
    "in_coords = sp.Matrix([scan_position_x, scan_position_y, theta_x_in, theta_y_in, 1])\n",
    "transfer_equation = sp.Eq(out_coords, TransferMatrix * in_coords, evaluate=False)\n",
    "# reverse_equation = sp.Eq(in_coords, InvertedTransferMatrix * out_coords, evaluate=False)\n",
    "\n",
    "x_out_eq = sp.Eq(out_coords[0], transfer_equation.rhs[0])\n",
    "y_out_eq = sp.Eq(out_coords[1], transfer_equation.rhs[1])\n",
    "theta_x_out_eq = sp.Eq(out_coords[2], transfer_equation.rhs[2])\n",
    "theta_y_out_eq = sp.Eq(out_coords[3], transfer_equation.rhs[3])\n",
    "\n",
    "display(transfer_equation)\n",
    "display(x_out_eq)\n",
    "display(y_out_eq)\n",
    "display(theta_x_out_eq)\n",
    "display(theta_y_out_eq)\n",
    "\n",
    "#replace alpha * cos(phi) with u and alpha * sin(phi) with v, and use both equations to solve for u and v\n",
    "u, v = sp.symbols('u v')\n",
    "x_out_eq = x_out_eq.subs({theta_x_in: u, theta_y_in: v})\n",
    "y_out_eq = y_out_eq.subs({theta_x_in: u, theta_y_in: v})\n",
    "\n",
    "u_v_eq = sp.solve([x_out_eq, y_out_eq], [u, v])\n",
    "print(u_v_eq[u])\n",
    "print(u_v_eq[v])"
   ]
  },
  {
   "cell_type": "markdown",
   "metadata": {},
   "source": [
    "In the case where we are specific about the propagation and descan steps, we have the following, and for a ray with 0 initial slope. "
   ]
  },
  {
   "cell_type": "code",
   "execution_count": 3,
   "metadata": {},
   "outputs": [
    {
     "data": {
      "text/latex": [
       "$\\displaystyle \\left[\\begin{matrix}x_{out}\\\\y_{out}\\\\\\theta_{x out}\\\\\\theta_{y out}\\\\1\\end{matrix}\\right] = \\left[\\begin{matrix}\\alpha z_{def} \\left(E_{xy} \\cos{\\left(\\Omega \\right)} - E_{yy} \\sin{\\left(\\Omega \\right)} + E_{dxy} z_{samp}\\right) \\sin{\\left(\\phi \\right)} + \\alpha \\left(z_{def} \\left(E_{xx} \\cos{\\left(\\Omega \\right)} - E_{yx} \\sin{\\left(\\Omega \\right)} + E_{dxx} z_{samp}\\right) + z_{samp}\\right) \\cos{\\left(\\phi \\right)} - scan_{x} \\cos{\\left(\\Omega \\right)} + scan_{y} \\sin{\\left(\\Omega \\right)} + scan_{x} \\left(E_{xx} \\cos{\\left(\\Omega \\right)} - E_{yx} \\sin{\\left(\\Omega \\right)} + E_{dxx} z_{samp}\\right) + scan_{y} \\left(E_{xy} \\cos{\\left(\\Omega \\right)} - E_{yy} \\sin{\\left(\\Omega \\right)} + E_{dxy} z_{samp}\\right)\\\\- \\alpha z_{def} \\left(E_{xx} \\sin{\\left(\\Omega \\right)} + E_{yx} \\cos{\\left(\\Omega \\right)} - E_{dyx} z_{samp}\\right) \\cos{\\left(\\phi \\right)} - \\alpha \\left(z_{def} \\left(E_{xy} \\sin{\\left(\\Omega \\right)} + E_{yy} \\cos{\\left(\\Omega \\right)} - E_{dyy} z_{samp}\\right) - z_{samp}\\right) \\sin{\\left(\\phi \\right)} + scan_{x} \\sin{\\left(\\Omega \\right)} + scan_{y} \\cos{\\left(\\Omega \\right)} - scan_{x} \\left(E_{xx} \\sin{\\left(\\Omega \\right)} + E_{yx} \\cos{\\left(\\Omega \\right)} - E_{dyx} z_{samp}\\right) - scan_{y} \\left(E_{xy} \\sin{\\left(\\Omega \\right)} + E_{yy} \\cos{\\left(\\Omega \\right)} - E_{dyy} z_{samp}\\right)\\\\E_{dxx} scan_{x} + E_{dxy} \\alpha z_{def} \\sin{\\left(\\phi \\right)} + E_{dxy} scan_{y} + \\alpha \\left(E_{dxx} z_{def} + 1\\right) \\cos{\\left(\\phi \\right)}\\\\E_{dyx} \\alpha z_{def} \\cos{\\left(\\phi \\right)} + E_{dyx} scan_{x} + E_{dyy} scan_{y} + \\alpha \\left(E_{dyy} z_{def} + 1\\right) \\sin{\\left(\\phi \\right)}\\\\1\\end{matrix}\\right]$"
      ],
      "text/plain": [
       "Eq(Matrix([\n",
       "[      x_out],\n",
       "[      y_out],\n",
       "[theta_x_out],\n",
       "[theta_y_out],\n",
       "[          1]]), Matrix([\n",
       "[ \\alpha*z_def*(E_xy*cos(Omega) - E_yy*sin(Omega) + E_{dxy}*z_samp)*sin(\\phi) + \\alpha*(z_def*(E_xx*cos(Omega) - E_yx*sin(Omega) + E_{dxx}*z_samp) + z_samp)*cos(\\phi) - scan_x*cos(Omega) + scan_y*sin(Omega) + scan_{x}*(E_xx*cos(Omega) - E_yx*sin(Omega) + E_{dxx}*z_samp) + scan_{y}*(E_xy*cos(Omega) - E_yy*sin(Omega) + E_{dxy}*z_samp)],\n",
       "[-\\alpha*z_def*(E_xx*sin(Omega) + E_yx*cos(Omega) - E_{dyx}*z_samp)*cos(\\phi) - \\alpha*(z_def*(E_xy*sin(Omega) + E_yy*cos(Omega) - E_{dyy}*z_samp) - z_samp)*sin(\\phi) + scan_x*sin(Omega) + scan_y*cos(Omega) - scan_{x}*(E_xx*sin(Omega) + E_yx*cos(Omega) - E_{dyx}*z_samp) - scan_{y}*(E_xy*sin(Omega) + E_yy*cos(Omega) - E_{dyy}*z_samp)],\n",
       "[                                                                                                                                                                                                                                  E_{dxx}*scan_{x} + E_{dxy}*\\alpha*z_def*sin(\\phi) + E_{dxy}*scan_{y} + \\alpha*(E_{dxx}*z_def + 1)*cos(\\phi)],\n",
       "[                                                                                                                                                                                                                                  E_{dyx}*\\alpha*z_def*cos(\\phi) + E_{dyx}*scan_{x} + E_{dyy}*scan_{y} + \\alpha*(E_{dyy}*z_def + 1)*sin(\\phi)],\n",
       "[                                                                                                                                                                                                                                                                                                                                            1]]))"
      ]
     },
     "metadata": {},
     "output_type": "display_data"
    },
    {
     "data": {
      "text/latex": [
       "$\\displaystyle x_{out} = - scan_{x} \\cos{\\left(\\Omega \\right)} + scan_{y} \\sin{\\left(\\Omega \\right)} + scan_{x} \\left(E_{xx} \\cos{\\left(\\Omega \\right)} - E_{yx} \\sin{\\left(\\Omega \\right)} + E_{dxx} z_{samp}\\right) + scan_{y} \\left(E_{xy} \\cos{\\left(\\Omega \\right)} - E_{yy} \\sin{\\left(\\Omega \\right)} + E_{dxy} z_{samp}\\right)$"
      ],
      "text/plain": [
       "Eq(x_out, -scan_x*cos(Omega) + scan_y*sin(Omega) + scan_{x}*(E_xx*cos(Omega) - E_yx*sin(Omega) + E_{dxx}*z_samp) + scan_{y}*(E_xy*cos(Omega) - E_yy*sin(Omega) + E_{dxy}*z_samp))"
      ]
     },
     "metadata": {},
     "output_type": "display_data"
    },
    {
     "data": {
      "text/latex": [
       "$\\displaystyle y_{out} = scan_{x} \\sin{\\left(\\Omega \\right)} + scan_{y} \\cos{\\left(\\Omega \\right)} - scan_{x} \\left(E_{xx} \\sin{\\left(\\Omega \\right)} + E_{yx} \\cos{\\left(\\Omega \\right)} - E_{dyx} z_{samp}\\right) - scan_{y} \\left(E_{xy} \\sin{\\left(\\Omega \\right)} + E_{yy} \\cos{\\left(\\Omega \\right)} - E_{dyy} z_{samp}\\right)$"
      ],
      "text/plain": [
       "Eq(y_out, scan_x*sin(Omega) + scan_y*cos(Omega) - scan_{x}*(E_xx*sin(Omega) + E_yx*cos(Omega) - E_{dyx}*z_samp) - scan_{y}*(E_xy*sin(Omega) + E_yy*cos(Omega) - E_{dyy}*z_samp))"
      ]
     },
     "metadata": {},
     "output_type": "display_data"
    },
    {
     "data": {
      "text/latex": [
       "$\\displaystyle \\theta_{x out} = E_{dxx} scan_{x} + E_{dxy} scan_{y}$"
      ],
      "text/plain": [
       "Eq(theta_x_out, E_{dxx}*scan_{x} + E_{dxy}*scan_{y})"
      ]
     },
     "metadata": {},
     "output_type": "display_data"
    },
    {
     "data": {
      "text/latex": [
       "$\\displaystyle \\theta_{y out} = E_{dyx} scan_{x} + E_{dyy} scan_{y}$"
      ],
      "text/plain": [
       "Eq(theta_y_out, E_{dyx}*scan_{x} + E_{dyy}*scan_{y})"
      ]
     },
     "metadata": {},
     "output_type": "display_data"
    }
   ],
   "source": [
    "import sympy as sp\n",
    "\n",
    "defocus, sample_to_det_z, scan_x, scan_y = sp.symbols('z_def z_samp scan_x scan_y', real=True)\n",
    "E_xx, E_xy, E_yx, E_yy, E_dxx, E_dxy, E_dyx, E_dyy = sp.symbols(r'E_xx E_xy E_yx E_yy E_{dxx} E_{dxy} E_{dyx} E_{dyy}', real=True)\n",
    "rot = sp.symbols('Omega', real=True)\n",
    "\n",
    "DefocusMatrix = sp.Matrix([[1, 0, defocus, 0, 0],\n",
    "                            [0, 1, 0, defocus, 0],\n",
    "                            [0, 0, 1, 0, 0],\n",
    "                            [0, 0, 0, 1, 0],\n",
    "                            [0, 0, 0, 0, 1]])\n",
    "\n",
    "DescannerMatrixError = sp.Matrix([[E_xx, E_xy, 0, 0, -scan_x],\n",
    "                            [E_yx, E_yy, 0, 0, -scan_y],\n",
    "                            [E_dxx, E_dxy, 1, 0, 0],\n",
    "                            [E_dyx, E_dyy, 0, 1, 0],\n",
    "                            [0, 0, 0, 0, 1]])\n",
    "\n",
    "DescannerMatrixNoError = sp.Matrix([[1, 0, 0, 0, -scan_x],\n",
    "                                    [0, 1, 0, 0, -scan_y],\n",
    "                                    [0, 0, 1, 0, 0],\n",
    "                                    [0, 0, 0, 1, 0],\n",
    "                                    [0, 0, 0, 0, 1]])\n",
    "\n",
    "SampleDetMatrix = sp.Matrix([[1, 0, sample_to_det_z, 0, 0],\n",
    "                            [0, 1, 0, sample_to_det_z, 0],\n",
    "                            [0, 0, 1, 0, 0],\n",
    "                            [0, 0, 0, 1, 0],\n",
    "                            [0, 0, 0, 0, 1]])\n",
    "\n",
    "RotationMatrix = create_2d_rotation_matrix_5x5(rot, flip_y=True)\n",
    "\n",
    "TransferMatrix = SampleDetMatrix * RotationMatrix * DescannerMatrixError * DefocusMatrix\n",
    "\n",
    "transfer_equation = sp.Eq(out_coords, TransferMatrix * in_coords, evaluate=False)\n",
    "\n",
    "display(transfer_equation.simplify())\n",
    "\n",
    "x_out_eq = sp.Eq(out_coords[0], transfer_equation.rhs[0])\n",
    "y_out_eq = sp.Eq(out_coords[1], transfer_equation.rhs[1])\n",
    "\n",
    "r_sqr = x_out_eq.rhs ** 2 + y_out_eq.rhs ** 2\n",
    "theta_x_out_eq = sp.Eq(out_coords[2], transfer_equation.rhs[2])\n",
    "theta_y_out_eq = sp.Eq(out_coords[3], transfer_equation.rhs[3])\n",
    "\n",
    "#replace alpha with 0\n",
    "x_out_eq = x_out_eq.subs({semi_conv: 0})\n",
    "y_out_eq = y_out_eq.subs({semi_conv: 0})\n",
    "theta_x_out_eq = theta_x_out_eq.subs({semi_conv: 0})\n",
    "theta_y_out_eq = theta_y_out_eq.subs({semi_conv: 0})\n",
    "\n",
    "display(x_out_eq.simplify())\n",
    "display(y_out_eq.simplify())\n",
    "display(theta_x_out_eq)\n",
    "display(theta_y_out_eq)\n",
    "\n"
   ]
  },
  {
   "cell_type": "markdown",
   "metadata": {},
   "source": [
    "Begin by importing test image"
   ]
  },
  {
   "cell_type": "code",
   "execution_count": 4,
   "metadata": {},
   "outputs": [],
   "source": [
    "from scipy.ndimage import zoom\n",
    "\n",
    "sample_image = plt.imread(r'SilverFast_Resolution_Target_USAF_1951.png')[:, :, 0]\n",
    "image_shape = sample_image.shape\n",
    "\n",
    "#remove the black pixel border on the edges\n",
    "sample_image = sample_image[1:-1, 1:-1]\n",
    "\n",
    "# Downsample the sample_image by a factor of 2\n",
    "downsample_factor = 0.5\n",
    "sample_image = zoom(sample_image, downsample_factor)\n",
    "sample_image_shape = sample_image.shape\n",
    "\n",
    "\n",
    "sample_image = jnp.array(sample_image, dtype=jnp.complex64)\n"
   ]
  },
  {
   "cell_type": "markdown",
   "metadata": {},
   "source": [
    "Modelling Descan Error: In order to determine how the descan error description should look like, I thought only about what basic operations a descanner should apply so that we have a 5x5 coordinate transform that is still invertible, and I used jax to find where the operations I apply would populate the jacobian, which has helped me discover the following analysis. \n",
    "\n",
    "Importantly, even in the non-linear case (not yet demonstrated in this notebook but can be soon) we can always find a polynomial which we can then find roots of, that relate outgoing coordinates (positions and slopes), EXCEPT in certain circumstances like when a lens performs perfect imaging from the object plane to the image plane. In this case, there is no single angle that maps positions to positions. When certain coeffients in the polynomial description relating coordinates are zero, you will know you are in this regime, and there is no direct mapping. This is an advantage to this approach, that I don't see with an optimiser being sent at the model to find where rays go - with gradients in jax we will always be able to find a simpler polynomial we can find roots of (if certain terms exist) to tell us what angle ray will take us back to the input plane. \n",
    "\n",
    "All of this means that from my limited understanding so far I don't think an optimiser is entirely neccessary in the way it was implemented in pytorch: This does not mean I don't think an optimiser won't be needed to solve other parts of this problem, or be used in a different way, just strictly for ray tracing in this context: I can also write an optimiser to find where rays should go, and implement in jax if needed.\n",
    "\n",
    "For now though here is why I went with the approach of using gradients to obtain a polynomial coefficients to map one plane to another, and did not set out to demonstrate what you had in Pytorch:\n",
    "\n",
    "1: An optimiser won't understand if the setup of the system has a 1 to 1 mapping from input plane to output plane. With the polynomial coefficients I get from gradients, if the terms B (see matrix below) are zero, we know we are in perfect imaging and no unique angle mapping from input plane to output plane exists.  \n",
    "\n",
    "2: An optimiser won't understand if there are multiple solutions for paths through the system, where as with a polynomial description we know how many roots there are. \n",
    "\n",
    "3: One ray and it's gradients characterises the system and all it's coefficients each time with our nmethod. (It can even tell you the phase an amplitude of a local description around the wavefront if needed, not yet implemented), so we only need to send one ray through the system.\n",
    "\n",
    "With that noted here is the model we have for descan error:\n",
    "\n",
    "The overall matrix description we aiming for is as follows: (whereby we did not restrict ourselves to writing matrices for each component to discover the terms in this matrix, it's just a convenient representation. ***We have noted your critique for TemGym that components should be simple and apply basic operations, and not be restricted to matrices when writing this new version!***)\n",
    "\n",
    "***NOTE ABOUT TESTS:*** There are some tests for the absolute basics, but nothing for this 4D stem calibration now. That is next on my to do list also if you don't have time do so!\n",
    "\n",
    "$\\displaystyle \n",
    "\\left(\\begin{matrix} \n",
    "x_{out} \\\\[0.3em] \n",
    "y_{out} \\\\[0.3em] \n",
    "\\theta_{x-out} \\\\[0.3em] \n",
    "\\theta_{y-out} \\\\[0.3em]\n",
    "1 \n",
    "\\end{matrix}\\right)\n",
    "\\;=\\;\n",
    "\\left(\\begin{matrix} \n",
    "A_{xx} & A_{xy} & B_{xx} & B_{xy} & {\\Delta}x \\\\[0.5em] \n",
    "A_{yx} & A_{yy} & B_{yx} & B_{yy} & {\\Delta}y \\\\[0.5em] \n",
    "C_{xx} & C_{xy} & D_{xx} & D_{xy} & {\\Delta}\\theta_{x} \\\\[0.5em] \n",
    "C_{yx} & C_{yy} & D_{yx} & D_{yy} & {\\Delta}\\theta_{y} \\\\[0.5em] \n",
    "0      & 0      & 0      & 0      & 1 \n",
    "\\end{matrix}\\right)\n",
    "\\left(\\begin{matrix} \n",
    "x_{in} \\\\[0.3em] \n",
    "y_{in} \\\\[0.3em] \n",
    "\\theta_{x-in} \\\\[0.3em] \n",
    "\\theta_{y-in} \\\\[0.3em]\n",
    "1 \n",
    "\\end{matrix}\\right)$\n",
    "\n",
    "For an ideal descanner to perform it's job, and have a matrix that is invertible I have come up with the following:\n",
    "\n",
    "$\\displaystyle \n",
    "\\left(\\begin{matrix} \n",
    "x_{out} \\\\[0.3em] \n",
    "y_{out} \\\\[0.3em] \n",
    "\\theta_{x-out} \\\\[0.3em] \n",
    "\\theta_{y-out} \\\\[0.3em]\n",
    "1 \n",
    "\\end{matrix}\\right)\n",
    "\\;=\\;\n",
    "\\left(\\begin{matrix} \n",
    "1 & 0 & 0 & 0 & {\\Delta}scan-pos_x \\\\[0.5em]  \n",
    "0 & 1 & 0 & 0 & {\\Delta}scan-pos_y \\\\[0.5em]  \n",
    "0 & 0 & 1 & 0 & 0 \\\\[0.5em]  \n",
    "0 & 0 & 0 & 1 & 0 \\\\[0.5em]  \n",
    "0 & 0 & 0 & 0 & 1\n",
    "\\end{matrix}\\right)\n",
    "\\left(\\begin{matrix} \n",
    "x_{in} \\\\[0.3em] \n",
    "y_{in} \\\\[0.3em] \n",
    "\\theta_{x-in} \\\\[0.3em] \n",
    "\\theta_{y-in} \\\\[0.3em]\n",
    "1 \n",
    "\\end{matrix}\\right)$\n",
    "\n",
    "Where are the descan error terms in the matrix? \n",
    "\n",
    "Hidden in the Axx, Ayy and Cxx, Cyy positions: Axx and Ayy for descan position error, because they are the values \n",
    "that change outgoing position as a function of incoming position (A is actually the magnification value too in ABCD matrices). \n",
    "\n",
    "Cxx and Cyy because they are the values that affect outgoing angle as a function of incoming position.\n",
    "\n",
    "$\\displaystyle \n",
    "\\left(\\begin{matrix} \n",
    "x_{out} \\\\[0.3em] \n",
    "y_{out} \\\\[0.3em] \n",
    "\\theta_{x-out} \\\\[0.3em] \n",
    "\\theta_{y-out} \\\\[0.3em]\n",
    "1 \n",
    "\\end{matrix}\\right)\n",
    "\\;=\\;\n",
    "\\left(\\begin{matrix} \n",
    "DescanError \\; pos_{xx} & DescanError \\; pos_{xy} & 0 & 0 & {\\Delta}scan-pos_x \\\\[0.5em]  \n",
    "DescanError \\; pos_{yx} & DescanError \\; pos_{yy} & 0 & 0 & {\\Delta}scan-pos_y \\\\[0.5em]  \n",
    "DescanError \\; \\theta_{xx} & DescanError \\; \\theta_{xy} & 1 & 0 & 0 \\\\[0.5em]  \n",
    "DescanError \\; \\theta_{yx} & DescanError \\; \\theta_{yy} & 0 & 1 & 0 \\\\[0.5em]  \n",
    "0 & 0 & 0 & 0 & 1\n",
    "\\end{matrix}\\right)\n",
    "\\left(\\begin{matrix} \n",
    "x_{in} \\\\[0.3em] \n",
    "y_{in} \\\\[0.3em] \n",
    "\\theta_{x-in} \\\\[0.3em] \n",
    "\\theta_{y-in} \\\\[0.3em]\n",
    "1 \n",
    "\\end{matrix}\\right)$\n",
    "\n",
    "The bad news is this matrix changes it's ${\\Delta}scan-pos_x$ and ${\\Delta}scan-pos_y$ values each time, but the internal 4x4 matrix values are constant. \n",
    "\n",
    "Of course if there are mixed errors then they show up as cross terms in the matrix, and if there are errors as a function of input slope $\\theta_{in}$, they occupy the B and D quadrants. \n",
    "\n",
    "Ultimately, I think that in the linear case this should be the transfer matrix one is trying to figure out from the 4D stem dataset. \n"
   ]
  },
  {
   "cell_type": "markdown",
   "metadata": {},
   "source": [
    "Now we demonstrate the newer version of temgym to try and generate a forward model of the 4D stem overfocus experiment. \n",
    "\n",
    "***Set input Parameters***"
   ]
  },
  {
   "cell_type": "code",
   "execution_count": 5,
   "metadata": {},
   "outputs": [],
   "source": [
    "# Linear Descan Error #1, 1, 0, 0 represents no descan pos or tilt error \n",
    "Axx, Ayy, Cxx, Cyy = 4, 3, -5, -4 # Normal Descan Error terms Axx, Ayy, Cxx, Cyy in transfer matrix\n",
    "Axy, Ayx, Cxy, Cyx = 6, -7, -3, 5 # Cross Descan Error terms Axy, Ayx, Cxy, Cyx in transfer matrix\n",
    "\n",
    "descan_error = [Axx, Axy, Ayx, Ayy, Cxx, Cxy, Cyx, Cyy]\n",
    "\n",
    "#Set up the parameters for the simulation\n",
    "defocus = 0.01\n",
    "semi_conv = 0.025\n",
    "camera_length = 1.0\n",
    "scan_size = sample_image_shape\n",
    "det_size = (64, 64)\n",
    "scan_px_size = 0.0001\n",
    "det_px_size= 0.002\n",
    "rotation = 45\n",
    "\n",
    "#Create ray input z plane\n",
    "crossover_z = jnp.zeros((1))"
   ]
  },
  {
   "cell_type": "code",
   "execution_count": 6,
   "metadata": {},
   "outputs": [],
   "source": [
    "# Set up the function to calculate the jacobian after propagation from one component to another\n",
    "# We can run multiple rays if we want, but no need for now. \n",
    "jac_run_to_component = jax.vmap(jax.jacobian(run_to_component), in_axes=(0, None))\n",
    "\n",
    "@jax.jit\n",
    "def run_model_for_jacobians(ray, model):\n",
    "\n",
    "    model_jacobians = []\n",
    "\n",
    "    # Get all jacobians from one component to another\n",
    "    for i in range(1, len(model)):\n",
    "        distance = (model[i-1].z - ray.z).squeeze()\n",
    "        ray = propagate(distance, ray)\n",
    "        ray = model[i-1].step(ray)\n",
    "        \n",
    "        jacobian = jac_run_to_component(ray, model[i])\n",
    "        model_jacobians.append({\n",
    "            'jacobian': jacobian\n",
    "        })\n",
    "\n",
    "    # Edit the jacobian matrices to include shifts calculated \n",
    "    # from the opl derivative\n",
    "    each_ABCD = [] #ABCD matrices at each component\n",
    "    total_ABCD = jnp.eye(5)\n",
    "\n",
    "    for jacobian in model_jacobians:\n",
    "        ray_jacobian = jacobian['jacobian'] #dr_out/dr_in\n",
    "        shift_vectors = ray_jacobian.pathlength.matrix # This is the shift vector for each ray, dopl_out/dr_in\n",
    "        ABCD = ray_jacobian.matrix.matrix # This is the ABCD matrix for each ray, dr_out/dr_in\n",
    "        ABCD = ABCD.at[0, :, -1].set(shift_vectors[0, :])\n",
    "        ABCD = ABCD.at[0, -1, -1].set(1.0) # \n",
    "        each_ABCD.append(ABCD)\n",
    "        total_ABCD = ABCD @ total_ABCD\n",
    "\n",
    "    return model_jacobians, each_ABCD, total_ABCD, ray\n",
    "\n",
    "@jax.jit\n",
    "def run_model_for_rays(model, each_ABCD, input_slopes, scan_position):\n",
    "    #Given input model and it's transfer matrix, run the model to find the positions of the rays at the sample and detector\n",
    "\n",
    "    scan_pos_y, scan_pos_x = scan_position\n",
    "\n",
    "    input_slopes_x = input_slopes[0]\n",
    "    input_slopes_y = input_slopes[1]\n",
    "\n",
    "    # Make the input rays we can run through one last time in the model to find positions at sample and detector\n",
    "    rays_at_source_with_semi_conv = jnp.vstack([\n",
    "        jnp.full(len(input_slopes_x), scan_pos_x),\n",
    "        jnp.full(len(input_slopes_y), scan_pos_y),\n",
    "        input_slopes_x,\n",
    "        input_slopes_y,\n",
    "        jnp.ones_like(input_slopes_x)\n",
    "    ])\n",
    "\n",
    "    # Propagate the point source coordinates through the forward ABCD matrices\n",
    "    coord_list = [rays_at_source_with_semi_conv]\n",
    "    for ABCD in each_ABCD:\n",
    "        new_coord = jnp.dot(ABCD[0], coord_list[-1])\n",
    "        coord_list.append(new_coord)\n",
    "        \n",
    "    # Stack the propagated coordinates into an array for easier indexing\n",
    "    coords_array = jnp.stack(coord_list, axis=0)\n",
    "    \n",
    "    xs = coords_array[:, 0, :]\n",
    "    ys = coords_array[:, 1, :]\n",
    "    zs = jnp.array([comp.z for comp in model])\n",
    "\n",
    "    return xs, ys, zs\n",
    "\n",
    "@jax.jit\n",
    "def find_input_slopes_that_hit_detpx_from_pt_source_with_semiconv(pixel_coords, scan_pos, semi_conv, transformation_matrix):\n",
    "    \"\"\"\n",
    "    Given a set of detector pixel coordinates, a semi-convergence angle from a source, and a transformation matrix, find a mask that tells us \n",
    "    what slopes will hit the detector pixels from the point source.\n",
    "\n",
    "    Args:\n",
    "    - pixel_coords (jnp.array): A (N, 2) array of pixel coordinates in y, x format.\n",
    "    - scan_pos (jnp.array): A (2,) array of the scan position in x and y format.\n",
    "    - semi_conv (float): The semi-convergence angle of the point source.q\n",
    "    - transformation_matrix (jnp.array): A (5, 5) transformation matrix.\n",
    "    \"\"\"\n",
    "    # We rely on the fact that theta_x_in**2 + theta_y_in**2 = semi_conv**2, \n",
    "    # which can be evaluated to find all pixels less than any semi_conv from the point source \n",
    "    # For a point source, our system of equations is:\n",
    "    # [x_out, y_out, theta_x_out, theta_y_out, 1] = transformation_matrix @ [scan_pos_x, scan_pos_y, theta_x_in, theta_y_in, 1]\n",
    "    # where theta_x_in and theta_y_in are given by alpha * cos(phi) and alpha * sin(phi), with alpha being the semi convergence angle\n",
    "    # and phi the azimuthal angle of a ray from the point source. This is a parametric equation for a cone of rays from the point source\n",
    "    # giving us the means to find a mask, which will tell us which slopes will hit the detector pixel from the point source for a given semi_conv.\n",
    "    scan_pos_y, scan_pos_x = scan_pos\n",
    "    A_xx, A_xy, B_xx, B_xy = transformation_matrix[0, :4] # Select first row not including the last column of values from the 5x5 transfer matrix\n",
    "    A_yx, A_yy, B_yx, B_yy = transformation_matrix[1, :4] # Select second row not including the last column of values from the 5x5 transfer matrix\n",
    "    delta_x, delta_y = transformation_matrix[0, 4], transformation_matrix[1, 4] # Get the shift values from the final column of the transfer matrix\n",
    "    y_out, x_out = pixel_coords[:, 0], pixel_coords[:, 1]\n",
    "\n",
    "    denom = (B_xx*B_yy - B_xy*B_yx)\n",
    "    theta_x_in = (-A_xx*B_yy*scan_pos_x - A_xy*B_yy*scan_pos_y + A_yx*B_xy*scan_pos_x + \n",
    "         A_yy*B_xy*scan_pos_y + B_xy*delta_y - B_xy*y_out - B_yy*delta_x + B_yy*x_out) / denom\n",
    "    theta_y_in = (A_xx*B_yx*scan_pos_x + A_xy*B_yx*scan_pos_y - A_yx*B_xx*scan_pos_x - \n",
    "         A_yy*B_xx*scan_pos_y - B_xx*delta_y + B_xx*y_out + B_yx*delta_x - B_yx*x_out) / denom\n",
    "    F = (theta_x_in**2 + theta_y_in**2) - semi_conv **2\n",
    "    mask = F <= 0\n",
    "    input_slopes_x_masked = jnp.where(mask, theta_x_in, 0.0)\n",
    "    input_slopes_y_masked = jnp.where(mask, theta_y_in, 0.0)\n",
    "    input_slopes_masked = jnp.stack([input_slopes_x_masked, input_slopes_y_masked])\n",
    "    \n",
    "    return input_slopes_masked, mask\n",
    "    \n",
    "@jax.jit\n",
    "def map_px_on_sample_to_detector(sample_image, detector_image,\n",
    "                                 sample_pixel_size, det_pixel_size,\n",
    "                                 ray_sample_coords_x, ray_sample_coords_y,\n",
    "                                 ray_det_coords_x, ray_det_coords_y):\n",
    "    \"\"\"\n",
    "    Map the pixel values from the sample to the detector image.\n",
    "    \"\"\"\n",
    "    sample_image_shape = sample_image.shape  # (n_rows, n_cols)\n",
    "    detector_image_shape = detector_image.shape\n",
    "\n",
    "    # Create an interpolant defined on the image grid (note image indexing is row, col)\n",
    "    y = jnp.arange(sample_image_shape[0])\n",
    "    x = jnp.arange(sample_image_shape[1])\n",
    "\n",
    "    image_interpolant = RegularGridInterpolator((y, x), sample_image,\n",
    "                                                bounds_error=False, fill_value=1.0)\n",
    "\n",
    "    sample_pixel_xs = ray_sample_coords_x / sample_pixel_size + sample_image_shape[1] / 2\n",
    "    sample_pixel_ys = ray_sample_coords_y / sample_pixel_size + sample_image_shape[0] / 2\n",
    "\n",
    "    sample_pts = jnp.stack([sample_pixel_ys, sample_pixel_xs], axis=-1)\n",
    "    \n",
    "    # Get the pixel values from the image using nearest neighbor interpolation\n",
    "    sample_px_hit_by_rays = image_interpolant(sample_pts, method='nearest')\n",
    "\n",
    "    det_pixel_xs = (ray_det_coords_x / det_pixel_size) + detector_image_shape[1] / 2\n",
    "    det_pixel_ys = (ray_det_coords_y / det_pixel_size) + detector_image_shape[0] / 2\n",
    "    \n",
    "    det_pixel_xs = jnp.round(det_pixel_xs).astype(jnp.int32)\n",
    "    det_pixel_ys = jnp.round(det_pixel_ys).astype(jnp.int32)\n",
    "    \n",
    "    # detector_image = jnp.zeros(detector_image_shape, dtype=jnp.complex64)\n",
    "    det_image = detector_image.at[(det_pixel_ys, det_pixel_xs)].set(sample_px_hit_by_rays)\n",
    "    \n",
    "    return det_image\n"
   ]
  },
  {
   "cell_type": "markdown",
   "metadata": {},
   "source": [
    "Create the model: Just 3 components: Sample, Descanner and Detector, and create a forward dataset. ***Warning:*** this will probably take a minute or two to complete on a modern workstation.\n",
    "\n",
    "\n",
    "**Note:** there is one small extra trick to fill in the final column of the matrix as the partial derivative of a constant shift value is 0, so the jacobian will not tell us the shift or tilt delta that was applied by the decsanner. We are storing those values in the path length function of the descanner, which is a bit of a fudge for now: Ultimately, all of the terms in the coordinate transform should actually be calculated by differentiating an optical path length function, because the optical path length is the generating function behind the coordinate transform (It is to do with the optical path length representing the lagrangian of the system). For now though to keep it simple I just use optical path length to store shift and tilt deltas."
   ]
  },
  {
   "cell_type": "code",
   "execution_count": 7,
   "metadata": {},
   "outputs": [
    {
     "data": {
      "application/vnd.jupyter.widget-view+json": {
       "model_id": "b2f99215545c4d4d946ad9ed88502f26",
       "version_major": 2,
       "version_minor": 0
      },
      "text/plain": [
       "Scan Y:   0%|          | 0/103 [00:00<?, ?it/s]"
      ]
     },
     "metadata": {},
     "output_type": "display_data"
    }
   ],
   "source": [
    "InputPlane = comp.InputPlane(z=crossover_z)\n",
    "Sample = comp.Sample(z=jnp.array([defocus]), complex_image=sample_image, pixel_size=scan_px_size)\n",
    "Descanner = comp.Descanner(z=jnp.array([defocus]), descan_error=descan_error, offset_x=0.0, offset_y=0.0)\n",
    "Rotator = comp.Rotator(z=jnp.array([defocus]), angle=rotation)\n",
    "Detector = comp.Detector(z=jnp.array([camera_length]), shape=det_size, pixel_size=det_px_size)\n",
    "init_model = [InputPlane, Sample, Descanner, Rotator, Detector]\n",
    "\n",
    "sample_coords = Sample.get_coords()\n",
    "detector_coords = Detector.get_coords()\n",
    "\n",
    "beam_radius_on_sample = defocus * semi_conv\n",
    "\n",
    "det_coords_y = detector_coords[:, 0]\n",
    "det_coords_x = detector_coords[:, 1]\n",
    "\n",
    "sample_coords_y = sample_coords[:, 0]\n",
    "sample_coords_x = sample_coords[:, 1]\n",
    "\n",
    "#Only select coordinates in sample_coords which are 1 beam radius in from the edge of the sample\n",
    "sample_coords = sample_coords.reshape((*sample_image_shape, 2))\n",
    "\n",
    "fourdstem_array = np.zeros((scan_size+det_size), dtype=np.complex64)\n",
    "\n",
    "x_out_centre = []\n",
    "y_out_centre = []\n",
    "x_out_centre_rm = []\n",
    "y_out_centre_rm = []\n",
    "\n",
    "scan_x_in = []\n",
    "scan_y_in = []\n",
    "\n",
    "for scan_idx_y in tqdm.trange(sample_image_shape[0], desc='Scan Y'):\n",
    "    for scan_idx_x in range(sample_image_shape[1]):\n",
    "        scan_pos = sample_coords[scan_idx_y, scan_idx_x] #Y X coords\n",
    "\n",
    "        # Make the input ray\n",
    "        input_ray_positions = jnp.vstack([\n",
    "            scan_pos[1], # x\n",
    "            scan_pos[0], # y\n",
    "            jnp.array([0.0]), # dx\n",
    "            jnp.array([0.0]), # dy\n",
    "            jnp.ones((1))\n",
    "        ]).T\n",
    "\n",
    "        ray = Ray(z=InputPlane.z, \n",
    "                matrix=input_ray_positions, \n",
    "                amplitude=jnp.ones(1), \n",
    "                pathlength=jnp.zeros(1), \n",
    "                wavelength=jnp.ones(1),\n",
    "                blocked=jnp.zeros(1, dtype=float))\n",
    "        \n",
    "        #Make a new descanner with the new scan position, and update the model\n",
    "        Descanner = comp.Descanner(z=jnp.array([defocus]), descan_error=descan_error, offset_x=scan_pos[1], offset_y=scan_pos[0])\n",
    "\n",
    "        ## NOTE - We are making a new model each time also as requested in the design of TemGym in January. Model creation is never fixed. \n",
    "        model = [InputPlane, Sample, Descanner, Rotator, Detector]\n",
    "\n",
    "        # Run the model to get the jacobians of output with respect to input\n",
    "        model_jacobians, each_ABCD, total_ABCD, ray = run_model_for_jacobians(ray, model)\n",
    "\n",
    "        # Now for the most important function in here: \n",
    "        input_slopes, mask = find_input_slopes_that_hit_detpx_from_pt_source_with_semiconv(detector_coords, scan_pos, semi_conv, total_ABCD[0])\n",
    "\n",
    "        # Run the model for the rays at each plane\n",
    "        xs, ys, zs = run_model_for_rays(model, each_ABCD, input_slopes, scan_pos)\n",
    "\n",
    "        ray_sample_coords_x, ray_sample_coords_y = xs[1], ys[1] # The ray coordinates at the sample plane\n",
    "        ray_det_coords_x, ray_det_coords_y = xs[-1], ys[-1] # The ray coordinates at the detector plane\n",
    "\n",
    "        detector_image = jnp.zeros(det_size, dtype=jnp.complex64)\n",
    "        det_image = map_px_on_sample_to_detector(sample_image, \n",
    "                                                    detector_image, \n",
    "                                                    scan_px_size, \n",
    "                                                    det_px_size, \n",
    "                                                    ray_sample_coords_x, \n",
    "                                                    ray_sample_coords_y, \n",
    "                                                    ray_det_coords_x, \n",
    "                                                    ray_det_coords_y)\n",
    "        \n",
    "        fourdstem_array[scan_idx_y, scan_idx_x] = det_image"
   ]
  },
  {
   "cell_type": "code",
   "execution_count": 8,
   "metadata": {},
   "outputs": [],
   "source": [
    "np.save(\"fourdstem_overfocused.npy\", fourdstem_array)"
   ]
  },
  {
   "cell_type": "code",
   "execution_count": 9,
   "metadata": {},
   "outputs": [
    {
     "data": {
      "application/vnd.jupyter.widget-view+json": {
       "model_id": "3048afdd670f444e83fdda048ef7b276",
       "version_major": 2,
       "version_minor": 0
      },
      "image/png": "[encoded data removed]",
      "text/html": [
       "\n",
       "            <div style=\"display: inline-block;\">\n",
       "                <div class=\"jupyter-widgets widget-label\" style=\"text-align: center;\">\n",
       "                    Figure\n",
       "                </div>\n",
       "                <img src='data:image/png;base64,iVBORw0KGgoAAAANSUhEUgAAA+gAAAH0CAYAAACuKActAAAAOXRFWHRTb2Z0d2FyZQBNYXRwbG90bGliIHZlcnNpb24zLjkuMiwgaHR0cHM6Ly9tYXRwbG90bGliLm9yZy8hTgPZAAAACXBIWXMAAA9hAAAPYQGoP6dpAACFTUlEQVR4nO3deXQUVfr/8U8SsrEFQUjYiYjgKIKCQERxAcUFBWVGQR1BGVAMKOAyorIOGkUHEEUQF3D8iigqbgjogMKobIL7gqCoCCSAkIQECCGp3x/8cr1VpGNn7Up4v87JOU93PV19q7o7nZt67r1hjuM4AgAAAAAAIRUe6gYAAAAAAAA66AAAAAAA+AIddAAAAAAAfIAOOgAAAAAAPkAHHQAAAAAAH6CDDgAAAACAD9BBBwAAAADAB+igAwAAAADgA3TQAQAAAADwATroAAAAAAD4AB10AAAAAAB8gA46AAAAAAA+QAcdAAAAAAAfoIMOAAAAAIAP0EEHAAAAAMAH6KADAAAAAOADdNABAAAAAPABOugAAAAAAPgAHXQAAAAAAHyADjoAAAAAAD5ABx0AAAAAAB+ggw4AAAAAgA/QQQcAAAAAwAfooAMAAAAA4AN00AEAAAAA8AE66AAAAAAA+AAddAAAAAAAfIAOOgAAAAAAPkAHHQAAAAAAH6CDDgAAAACAD9BBBwAAAADAB+igAwAAAADgA3TQAQAAAADwATroAAAAAAD4AB10AAAAAAB8gA46AAAAAAA+QAcdAAAAAAAfoIMOAAAAAIAP0EEHAAAAAMAH6KADAAAAAOADdNABAAAAAPABOugAAAAAAPgAHXQAAAAAAHyADjoAAAAAAD5ABx0AAAAAAB+ggw4AAAAAgA/QQQcAAAAAwAfooAMAAAAA4AN00AEAAAAA8AE66AAAAAAA+AAddAAAAAAAfIAOOgAAAAAAPkAHHQAAAAAAH6CDDgAAAACAD9BBBwAAQKnMnTtXYWFh5icmJkaNGjVSz549NX36dO3bt6/E+/722281fvx4/fzzz2XX4EJ88sknGj9+vNLT08v1eWwDBw5UzZo1K+z5APgfHXQAAACUiYkTJ+qFF17QzJkzNXz4cEnSiBEj1LZtW3355Zcl2ue3336rCRMmVEgHfcKECRXaQQcAr2qhbgAAAACqhksuuUQdO3Y0t0ePHq3ly5erV69euuKKK/Tdd98pNjY2hC2sWI7j6ODBg8fUMQMoHa6gAwAAoNxccMEFGjNmjH755Rf93//9n2vb999/r7/+9a+qW7euYmJi1LFjR7311ltm+9y5c/W3v/1NknT++eebEvoPP/zQ5CxevFjnnHOOatSooVq1aumyyy7TN998c1Q7vv/+e1199dWqX7++YmNj1bp1a913332SpPHjx+uuu+6SJCUmJprnKbhqf/jwYf3rX/9Sy5YtFR0drRYtWujee+9VTk6O6zlatGihXr16aenSperYsaNiY2P11FNPFet8Fezjww8/NPto27atOebXX39dbdu2VUxMjDp06KDPPvvM9fgvv/xSAwcO1AknnKCYmBglJCTopptu0u+//37UcxU8R0xMjFq2bKmnnnpK48ePV1hY2FG5//d//6cOHTooNjZWdevWVb9+/bR169ZiHRuAP0cHHcAxJywsTOPHjw91MwDgmPH3v/9dkvTee++Z+7755ht16dJF3333ne655x79+9//Vo0aNdSnTx8tXLhQktStWzfddtttkqR7771XL7zwgl544QWdfPLJkqQXXnhBl112mWrWrKmHH35YY8aM0bfffquzzz7bVRL/5ZdfqnPnzlq+fLkGDx6sxx57TH369NHbb78tSbrqqqvUv39/SdLUqVPN89SvX1+S9I9//ENjx47VGWecoalTp+rcc89VSkqK+vXrd9Sxbty4Uf3799eFF16oxx57TO3bty/2+dq8ebOuvfZaXX755UpJSdHevXt1+eWX68UXX9TIkSN1/fXXa8KECfrxxx919dVXKz8/3zz2/fff108//aQbb7xRjz/+uPr166f58+fr0ksvleM4Ju+zzz7TxRdfrN9//10TJkzQoEGDNHHiRL3xxhtHteeBBx7QDTfcoFatWmnKlCkaMWKEli1bpm7dujEkAChrDgCU0Jdffun07dvXadasmRMdHe00atTI6dGjhzN9+vRQN61Ikpxx48aFuhkAUGXMmTPHkeSsW7cuYE5cXJxz+umnm9vdu3d32rZt6xw8eNDcl5+f75x11llOq1atzH0LFixwJDkffPCBa3/79u1z6tSp4wwePNh1f2pqqhMXF+e6v1u3bk6tWrWcX375xZWbn59v4kceecSR5GzZssWV8/nnnzuSnH/84x+u+++8805HkrN8+XJzX/PmzR1JzpIlSwKeB9uAAQOcGjVquO4r2Mcnn3xi7lu6dKkjyYmNjXUdw1NPPXXUudm/f/9Rz/PSSy85kpyVK1ea+y6//HKnevXqzrZt28x9mzZtcqpVq+bYXYSff/7ZiYiIcB544AHXPr/66iunWrVqR90PoHS4gg6gRD755BN17NhRX3zxhQYPHqwnnnhC//jHPxQeHq7HHnss1M0DAPhMzZo1zWzue/bs0fLly3X11Vdr37592r17t3bv3q3ff/9dPXv21KZNm7Rt27Yi9/f+++8rPT1d/fv3N4/fvXu3IiIi1LlzZ33wwQeSpF27dmnlypW66aab1KxZM9c+Civl9nr33XclSaNGjXLdf8cdd0iSFi1a5Lo/MTFRPXv2/NP9FuUvf/mLkpKSzO3OnTtLOjJcwD6Ggvt/+uknc5893v3gwYPavXu3unTpIknasGGDJCkvL0///e9/1adPHzVq1Mjkn3jiibrkkktcbXn99deVn5+vq6++2nWeExIS1KpVK3OeAZQNJokDUCIPPPCA4uLitG7dOtWpU8e1befOnaFpFADAt7KystSgQQNJR0q4HcfRmDFjNGbMmELzd+7cqcaNGwfc36ZNmyQd6bQWpnbt2pL+6LyeeuqpJWr3L7/8ovDwcJ144omu+xMSElSnTh398ssvrvsTExNL9Dw27z8S4uLiJElNmzYt9P69e/ea+/bs2aMJEyZo/vz5R30fZ2RkSDpybg8cOHDUMUk66r5NmzbJcRy1atWq0LZGRkYGc0gAgkQHHUCJ/PjjjzrllFOO6pxLMn+ASdKcOXP0wgsv6Ouvv1ZGRoZatmyp4cOHa+jQoa7HtGjRQqeeeqruvPNO3Xnnnfrmm2904okn6vHHH9d5552n119/XePGjdOmTZt0yimn6JlnntHpp59uHj9w4EC9+uqr+vLLLzV06FB99NFHiouL0y233KIxY8b86VWSbdu2acyYMVq0aJHS09N14okn6o477tBNN91UuhMFANBvv/2mjIwM0/krGDN95513BrzaXFjn0VawjxdeeEEJCQlHba9WrWz/zA3marukMpmxPSIiolj3O9bY8quvvlqffPKJ7rrrLrVv3141a9ZUfn6+Lr74YtdY9WDl5+crLCxMixcvLvT5WccdKFt00AGUSPPmzbVq1Sp9/fXXRV6VmDlzpk455RRdccUVqlatmt5++23deuutys/PV3Jysiu3YFKcm2++Wddff70effRRXX755Zo1a5buvfde3XrrrZKklJQUXX311dq4caPCw/8YqZOXl6eLL75YXbp00eTJk7VkyRKNGzdOhw8f1sSJEwO2MS0tTV26dFFYWJiGDRum+vXra/HixRo0aJAyMzM1YsSI0p0sADjGvfDCC5JkOuMnnHCCpCNXX3v06FHkYwN1jFu2bCnpyD+Fi9pHwXN9/fXXJXqe5s2bKz8/X5s2bTKT00lHvjvS09PVvHnzIvdbkfbu3atly5ZpwoQJGjt2rLm/oNqgQIMGDRQTE6PNmzcftQ/vfS1btpTjOEpMTNRJJ51UPg0H8IfQDoEHUFm99957TkREhBMREeEkJSU5d999t7N06VLn0KFDrrzCJqvp2bOnc8IJJ7juK+2kOAMGDHAkOcOHDzf35efnO5dddpkTFRXl7Nq1y9wvzyRxgwYNcho2bOjs3r3b1aZ+/fo5cXFxhR4DAOAPRU0St2zZMic2NtZJTEx0Dhw4YO4/77zznLp16zrbt28/6jE7d+408eLFix1JzsKFC105GRkZTu3atZ1zzz33qO8e7z6CmSRu5syZjiTns88+c+UUTBI3ZMgQ1/133313oZPEXXbZZUe1JZBAk8QVtg9JTnJysuu+LVu2OJKcRx55xHGcI+dEkjN+/HhX3q233nrUd1+vXr2CmiRu8+bNTkREhHPttde6zpfjHDl/3u9OAKXDFXQAJXLhhRdq1apVSklJ0dKlS7Vq1SpNnjxZ9evX1zPPPKMrrrhCkrvULyMjQ7m5uTr33HO1dOlSZWRkmPFzUskmxTnvvPNc7Ro2bJiJC66IL1q0SP/9738LXQ7HcRy99tpruvrqq+U4jnbv3m229ezZU/Pnz9eGDRvUtWvXkpwmADimLF68WN9//70OHz6stLQ0LV++XO+//76aN2+ut956SzExMSZ3xowZOvvss9W2bVsNHjxYJ5xwgtLS0rRq1Sr99ttv+uKLLyRJ7du3V0REhB5++GFlZGQoOjpaF1xwgRo0aKCZM2fq73//u8444wz169dP9evX16+//qpFixapa9eueuKJJyRJ06dP19lnn60zzjhDQ4YMUWJion7++WctWrRIn3/+uSSpQ4cOkqT77rtP/fr1U2RkpC6//HK1a9dOAwYM0OzZs5Wenq5zzz1Xa9eu1fPPP68+ffro/PPPr9iTXITatWurW7dumjx5snJzc9W4cWO999572rJly1G548eP13vvvaeuXbtq6NChysvL0xNPPKFTTz3VnBPpyBX0SZMmafTo0fr555/Vp08f1apVS1u2bNHChQs1ZMgQ3XnnnRV4lEAVF+r/EACo/HJycpy1a9c6o0ePdmJiYpzIyEjnm2++cRzHcT766COne/fuTvXq1R1Jrh/7Skbz5s2diy+++Kh9S3JuueUW130FVwweffRRc9+AAQOc8PBwJzc315X7448/OpKclJQU1z4LriKkpaUd1S7vz+uvv17qcwQAVVnBFfSCn6ioKCchIcG58MILnccee8zJzMws9HE//vijc8MNNzgJCQlOZGSk07hxY6dXr17Oq6++6sp7+umnnRNOOMGJiIg4qoLqgw8+cHr27OnExcU5MTExTsuWLZ2BAwc6n376qWsfX3/9tXPllVc6derUcWJiYpzWrVs7Y8aMceX861//cho3buyEh4e7llzLzc11JkyY4CQmJjqRkZFO06ZNndGjR7uWiHOc0F9BdxzH+e2338xxxsXFOX/729+c7du3F7rE6LJly5zTTz/diYqKclq2bOk888wzzh133OHExMQc9fyvvfaac/bZZzs1atRwatSo4bRp08ZJTk52Nm7cGPTxAvhzYY5jzSoBAKU0d+5c3XjjjRo/fryuv/56nXLKKWrTpo2GDh2qpk2bKioqSu+++66mTp2qLVu2qEWLFpL+mCTunXfece0vLCxMycnJ5iqIJP38889KTEzUI488Yv5rP3DgQL3wwgvKyclxTQz0008/qWXLlkpJSdE999xj9jlu3DiNHz9eqampatiwoa6//noNGDCg0GM67bTTXBPfAQBQVfXp00fffPPNUePWAVQMStwBlKmOHTtKknbs2KG3335bOTk5euutt1wl6uW1Zmp+fr5++ukn1yQ2P/zwgySZfwR41a9fX7Vq1VJeXt6fTlQEAEBVcuDAAddQtE2bNundd98N+A9rAOUv/M9TAOBoH3zwgQorwHn33XclSa1btzbLsdh5GRkZmjNnTrm1y77S7jiOnnjiCUVGRqp79+6F5kdERKhv37567bXXCp3hd9euXeXWVgAAQumEE07Q6NGj9fTTT+v+++9Xly5dFBUVpbvvvjvUTQOOWVxBB1Aiw4cP1/79+3XllVeqTZs2OnTokD755BO9/PLLatGihW688UalpaUpKipKl19+uW6++WZlZWXp6aefVoMGDbRjx44yb1NMTIyWLFmiAQMGqHPnzlq8eLEWLVqke++9V/Xr1w/4uIceekgffPCBOnfurMGDB+svf/mL9uzZow0bNui///2v9uzZU+ZtBQAg1C6++GK99NJLSk1NVXR0tJKSkvTggw+qVatWoW4acMyigw6gRB599FEtWLBA7777rmbPnq1Dhw6pWbNmuvXWW3X//ferTp06qlOnjl599VXdf//9uvPOO5WQkKChQ4eqfv36uummm8q8TREREVqyZImGDh2qu+66S7Vq1dK4ceNca8EWJj4+XmvXrtXEiRP1+uuv68knn1S9evV0yimn6OGHHy7zdgIA4AflWdEGoGSYJA5AlTBw4EC9+uqrysrKCnVTAAAAgBJhDDoAAAAAAD5AiTsAACi1GTNm6JFHHlFqaqratWunxx9/XJ06dQrqsfn5+dq+fbtq1aqlsLCwcm4pAKCA4zjat2+fGjVqpPBwrt36AR10AABQKi+//LJGjRqlWbNmqXPnzpo2bZp69uypjRs3qkGDBn/6+O3bt6tp06YV0FIAQGG2bt2qJk2ahLoZEGPQAQBAKXXu3FlnnnmmWeYwPz9fTZs21fDhw3XPPff86eMzMjJUp06dcm4lACCQ9PR0xcXFhboZEGPQAQBAKRw6dEjr169Xjx49zH3h4eHq0aOHVq1aVehjcnJylJmZaX727dtXUc0FABSC4UX+QQe9EpoxY4ZatGihmJgYde7cWWvXrg11kwAAx6jdu3crLy9P8fHxrvvj4+OVmppa6GNSUlIUFxdnfihvR1UQGxurr776Sl999ZViY2ND3RwAlRRj0CuZ0o7zYyIeAAgNJuL5w+jRozVq1ChzOzMzk046AACig17pTJkyRYMHD9aNN94oSZo1a5YWLVqk5557LqhxfkzEAwChVdUm4jn++OMVERGhtLQ01/1paWlKSEgo9DHR0dGKjo6uiOYBAFCp0EGvRArG+Y0ePdrcF8w4v5ycHHO7YE7A//73v6pRo0b5NhgAYGRnZ6tHjx6qVatWqJtSpqKiotShQwctW7ZMffr0kXSkWmvZsmUaNmxYaBsHAEAlQwe9EilqnN/3339f6GNSUlI0YcKEo+6vUaOGatasWS7tBAAEVhWHF40aNUoDBgxQx44d1alTJ02bNk3Z2dmm2gsAAASHDnoVxzg/AEB5u+aaa7Rr1y6NHTtWqampat++vZYsWXLUP5QBAEDR6KBXIozzAwD41bBhwyhpBwCglI7taWQrGXucX4GCcX5JSUkhbBkAAMCxLS8vTytXrtTKlSuVl5cX6uYAqKS4gl7JMM4PAADAfw4dOqTk5ORQNwNAJUcHvZJhnB8AAAAAVE100CshxvkBAAAAQNXDGHQAAACglGJjY7VmzRqtWbNGsbGxoW4OgEqKK+hAFZCfn2/i8HD+7wYAQChUr1491E0AUMnxlzwAAAAAAD5ABx0AAAAAAB+gxB2oJLKzs018wQUXuLbt37/fxBERESaePXu2K69Tp07l1DpUVvaQiBo1api4S5currykpCQTT5o0ycT28AoAAACUDlfQAQAAAADwATroAAAAAAD4ACXuAAAAQCnl5+dr3bp1JgaAkqCDDviId4m06OhoE59xxhkmvvrqq115KSkpJrbHpw8aNMiV9+abb5o4MTHRxGFhYSVsMSq7qKgoE/fo0cPEe/bsCUVzAKDSysnJ0U033RTqZgCo5ChxBwAAAADAB+igAwAAAADgA5S4Az6Sl5fnuj148GATt27d2sQTJkxw5WVlZZl4+fLlhT5Gkvr06WPiH3/80cQHDhxw5TF2ruqyl+uTpPbt25vYfv9Vq8bXAwAUR2xsrJYsWSJJuvjii4/6bgWAYPAXGAAAAFAG6tatG+omAKjkKHEHAAAAAMAHuIIOhFhERISJ69Wr59r2ySefmHjSpEkmtkvavfuwZ9/u27evK++ll14y8ebNm03csGHD4jYbPme/J+wrOhdeeKErz3EcExeUZkrStddeGzAPAAAA5YMr6AAAAAAA+AAddAAAAAAAfIAOOgAAAAAAPsAYdCDEDh8+bOK33347YF6DBg1MHBYWFjDPHnv8j3/8w7Vt/vz5Jv7iiy9MzBj0qsceM24vn9a9e3dX3rhx40xcp04dE7PUHgAUT35+vr7++msTA0BJ0EEHAAAASiknJ0f9+/cPdTMAVHKUuAMAAAAA4ANcQQdCzC6Ds5c+k6Tw8D/+h2aXuNv3e9kl7qeccoprW2RkpIntEvdevXq58uyye1RO9vvKXnrvnnvuceXxWgMAAPgHV9ABAACAUoqJidGSJUu0ZMkSxcTEhLo5ACoprqADAAAApRQWFqbGjRubGABKgg464GP2TNx2XFL2Hwy///57ofdL7hJ6ZqIFAAAAKgYl7gAAAAAA+AAddAAAAAAAfIAOOgAAAAAAPsAYdMBH7CXSJCknJ8fEaWlpJi6YhKaAPWY8Ly/PxJs2bXLlHTp0yMRnnXWWiXNzc0vYYgAAAABlhQ46AAAAUEqO42jz5s0mBoCSoIMOAAAAlNLBgwd15ZVXhroZACo5OuhAiNnl6a1bt3Zts5c/W7ZsmYk7d+7syrPL2u1l0RYsWBBwf506dSphiwEAAACUByaJAwAAAADAB+igAwAAAKUUExOjhQsXauHChYqJiQl1cwBUUpS4AyFWrdofH8NLL73Uta127domfvvtt008fvx4V54923tsbKyJ582b58o7fPiwiVu2bFno4yV3mTwAAPhzYWFhOvHEE00MACXBFXQAAAAAAHyADjoAAAAAAD5ABx0AAAAAAB9gDDoQYvYSaTt27HBta9eunYlXrVpl4n/84x+uvClTppjYHp++c+dOV549Jn3//v0mZqwcAAAAEHpcQQcAAAAAwAfooAMAgIBWrlypyy+/XI0aNVJYWJjeeOMN13bHcTR27Fg1bNhQsbGx6tGjhzZt2hSaxgIh5DiOtm3bpm3btslxnFA3B0AlRYk74CPh4e7/mc2ZM8fEXbp0MfH//vc/V94555xj4uzsbBPffvvtrjy7ZN4urQe8IiIiXLf5Y/PYlZ2drXbt2ummm27SVVddddT2yZMna/r06Xr++eeVmJioMWPGqGfPnvr2229ZCxrHlIMHD+riiy8OdTMAVHJ00AEAQECXXHKJLrnkkkK3OY6jadOm6f7771fv3r0lSf/5z38UHx+vN954Q/369avIpgIAUOlR4g4AAEpky5YtSk1NVY8ePcx9cXFx6ty5s2tiS6+cnBxlZma6fgAAAFfQAV87cOCAiZctW2biPXv2uPI2b95s4m7duhX6eImydhzNLl3ft2+fiQcPHuzKa926dYW1CZVHamqqJCk+Pt51f3x8vNlWmJSUFE2YMKFc2wZUtOjoaM2dO1eSNHDgQOXk5IS2QQAqJa6gAwCACjV69GhlZGSYn61bt4a6SUCphYeH69RTT9Wpp5561JwyABAsfnsAAIASSUhIkCSlpaW57k9LSzPbChMdHa3atWu7fgAAAB10AABQQomJiUpISHANwcnMzNSaNWuUlJQUwpYBAFA5MQYdxxRvyVllKkHLz883cd26dV3bOnXqZOJDhw6ZOCwszJVXrVrhH3nvElqBxqoHerzX4cOHA24ri30EI9jn8Ytgj9c+Lvt1875mwebZnwF7vOR1110XsA32+6q8z3Np3wcovaysLNc8F1u2bNHnn3+uunXrqlmzZhoxYoQmTZqkVq1amWXWGjVqpD59+oSu0QAAVFKV6y9YAABQoT799FOdf/755vaoUaMkSQMGDNDcuXN19913Kzs7W0OGDFF6errOPvtsLVmyhDXQAQAoATroAAAgoPPOO++oKhtbWFiYJk6cqIkTJ1ZgqwAAqJrooMMX7DJZe7IhbzlugwYNSvU83uXJJk+eXGgb/KJGjRomHjdunIntMnbJXf5ui4uLc92++eabTVy9enUTt23b1pV3zTXXmNgugR4/frwr7+DBg4XGU6ZMceXZZcr2H/H2Y7xK+8f+Pffc47rtt+EM3mN/6qmnTJyVlWXiyMhIV96//vUvE9ufh2HDhrnyhgwZYuIOHTqYeOjQoQHzLrvsMhPby/VJ7s/HCy+8YOJNmza58kq7lJ93srD77rvPxLm5uSb2vuft1zfQ5wEAypv37wwAKC7/9UgAAACASubAgQM699xzQ90MAJWcvy4pAQAAAABwjOIKOkLCu2buRRddZGJvSa/NLl2dP3++iU866aSgnnf//v2u2++9956J7RmsvbOfh4pdoj5p0iQTe0vcbXbbvZM0rVixwsSBytMlqV+/fia2S4ffeecdV55dim2X43vLye3XbdGiRYU+3ptX2hJ3b1v9UPZsj+O1z5ckxcbGmjg7O9vE3s/D4sWLTdyyZUsT33nnna68devWmdguDR85cqQr75NPPjFxYmKiic8+++wARyGtXr260MdLpZ91vX79+q7bY8eONbH9GfW+x+xhGh9//LGJa9asWar2AAAAVCSuoPtISkqKzjzzTNWqVUsNGjRQnz59tHHjRlfOwYMHlZycrHr16qlmzZrq27fvUZ1dAAAAVKzo6Gg999xzeu655xQdHR3q5gCopOig+8iKFSuUnJys1atX6/3331dubq4uuugi19W0kSNH6u2339aCBQu0YsUKbd++XVdddVUIWw0AAIDw8HCdeeaZOvPMM303MSmAyoMSdx9ZsmSJ6/bcuXPVoEEDrV+/Xt26dVNGRoaeffZZzZs3TxdccIEkac6cOTr55JO1evVqdenSJRTNBgAAAACUATroPpaRkSFJqlu3riRp/fr1ys3NVY8ePUxOmzZt1KxZM61atarQDnpOTo5r3GZmZmY5tzowe7zxFVdc4dpmj5VetmyZib3jUTt27Ghie5z0W2+95cpr0qRJoW3wjkO2lxqz/9td1Jq/FenAgQNlur9Axxjs+Gxvnr2PYK8WFPW8ZTn239ue0i7/VdZKenUl2PemfS7/bA3rYNiv1XPPPWfi8l6eMD093cT2WPqkpCRXnl/mjQAAACgN6m98Kj8/XyNGjFDXrl116qmnSpJSU1MVFRWlOnXquHLj4+OVmppa6H5SUlIUFxdnfpo2bVreTQcAAAAAlAAddJ9KTk7W119/7ZqpvCRGjx6tjIwM87N169YyaiEAAAAAoCxR4u5Dw4YN0zvvvKOVK1e6SrUTEhJ06NAhpaenu66ip6WlKSEhodB9RUdHV+hMot6yXbv8tU+fPib2lm7//PPPJrYnxbPL8yVp1apVJu7QoYOJBw4c6Mr76KOPTGwvSdaiRQtX3nfffWdiv5S12+yy4j179oSwJRWDMuWKF+w5tz/bs2bNMvEPP/zgyivtcna1atVy3b733ntNbJfWf/DBB648e9gM7yMAAFBZcQXdRxzH0bBhw7Rw4UItX77ctSaxdKRDGhkZ6RqjvXHjRv36669HjccEAABAxdq/f7/2798f6mYAqMS4gu4jycnJmjdvnt58803VqlXLjCuPi4tTbGys4uLiNGjQII0aNUp169ZV7dq1NXz4cCUlJTGDOwAAQAgdOHBAnTt3DnUzAFRydNB9ZObMmZKk8847z3X/nDlzTAn31KlTFR4err59+yonJ0c9e/bUk08+WcEtDcxb3mqXlycnJ5t4y5Ytrjx7hnd7H96S+aioKBPbMzofPHjQlWeX1tttOHz4sCtv165dhRwFgKKsXbvWxJ988olrW2lny/eu3DBhwgQT33jjjSaOiIhw5VHWDgAAqgI66D4SzBjomJgYzZgxQzNmzKiAFgEAAAAAKgpj0AEAAIBSioqKMhdR7Io/ACgOrqADAAAApRQREaFu3bqZGABKgg46Koy9zJq3nD/Q0kze+z/++ONCt5177rmuvIyMDBPbX5LeMeibNm0ysXe8ux/YbW/durWJSzvOFygQ7PKC9uftP//5j4nL+iqR9zO/e/duEzPOHAAAVHX+65EAAAAAAHAMooMOAAAAAIAPUOKOCmOXpwZbqrp//37X7dtvv73QfcyePduV9/vvv5vYLpnduXOnK69///6lal95i4uLM/Gnn35q4uzsbFdeoCECqHqCfW/apetFPSbYEnd7CMiIESNMbL8vJfd7Mdh92+2rW7eua9trr71m4pycnKD2BwAAUFlxBR0AAAAAAB+ggw4AAAAAgA9Q4g7fsctYL7zwQte2Q4cOmXjx4sUm3rVrV1D79pbcxsbGmvjgwYMm9kvJuN0mHJu879natWubuGbNmgHz9u7da+IaNWqY2Pve3rdvn4ljYmKCapP9vvQOtyjtCgPR0dGu28GW9PtxFQYAx5YDBw6obdu2oW4GgEqOv2gAAAAAAPABOugAAAAAAPgAHXQAAACglKKiovTvf/9b//73vxUVFRXq5gCopBiDDl+wlz+7/PLLTewdL7to0SIT169fv9jPU69ePdft+++/38QRERHF3l95s7/gGY9+7LDHk2dlZbm2LVmypNC83bt3u/J+/PFHE9vjwr3zNWzevNnEubm5hcaS+7M4depUE5f12G/vWHrvUouBrF271sT2OfPLfBIAqr6IiAhddNFFktx/XwBAcXAFHQAAAAAAH6CDDgAAAACAD1DijpBIS0tz3b7qqqtMbJfW2iXtkrusPdjll2zeZaQuueSSYu8jVLwlxzg22UsN2ryl3IFKw7159tCJopZIsz9v9nvx8OHDgRtbAt7PdaDPubcUnrJ2AABQFXAFHQAAAAAAH6CDDgAAAACAD1Dijgpjl9L+9a9/dW2zy3G/+OILE3tLVYOdMTpQiau3LHbv3r0mLknJfHmz22TPQE8J77HLfk8cd9xxJj7//PNdefbwjYSEBBM//fTTrrzPPvvMxO3btzfxiSee6MqbNm2aiWvXrm3ik046yZXnHUZSXOnp6a7bmzZtMnF2draJvcNkXn/9dRNfeeWVJm7SpIkrr6gyfgAAgFCjgw4AAACU0oEDB9SpUycTA0BJ0EEHAAAAygAdcwClxRh0AAAAAAB8gCvoKFfVqv3xFuvWrZuJveNAhw4dauJnnnnGxN4x44F4x4/feuutJrbHvm/bts2V179//0Lzgn3e8mYf1/fff29ieyyuVHXGpPvlvFcW9vnKyMhwbYuKijKx/TnMzMwMuI8aNWqYODY2NmCe/f6bOHGiK6+078Xo6GjX7ZycHBPbn9+LL77Ylffee++Z+NJLLzXxf//7X1eePZcDAJSlyMhIjRs3TpI0YcIElkcFUCJcQQcAAABKqVq1aurdu7d69+7t+scoABQHHXQAAAAAAHyAf++hXO3evdvEdsmttwzWLmsvicOHD7tujxo1ysR26bp3mTa7VNcuu/fLkmtxcXFluj/7PEVERBQaF8WbZ9/2vgY2+3zaj/FeYSjLJbC87Qn2GMuTXSbubV+w5f2B8kr7eCn49729D+97tLQl7vbvCe9z2fteuXKlK88uz7fL37/99ltX3jnnnFOq9gEAAJQnrqADAAAAAOADdNABAAAAAPABStxRruwZkzdv3mxib5ltaUvKvftLS0srNM87Q3S7du1MbJdbe0vhQ8Uu2w22/Ns+F/YM2JLUpk2bQvd94oknBtyHXVbcoUMHV5693qsdF1VGbe/Du15sWc5Gf+aZZ7pu269pqF5f+/jsoReSXLP9lmQ2+4qcAb969eomvuuuu1zbvO+54jr++ONdtz/44AMTN23aNODjfvvtNxMvXrzYxCkpKaVqDwAAQEXyRy8EAAD4UkpKis4880zVqlVLDRo0UJ8+fbRx40ZXzsGDB5WcnKx69eqpZs2a6tu3b8B/lAIAgMDooAMAgIBWrFih5ORkrV69Wu+//75yc3N10UUXuSbZHDlypN5++20tWLBAK1as0Pbt23XVVVeFsNVAxTtw4IC6deumbt26HVUhBgDBosQdAAAEtGTJEtftuXPnqkGDBlq/fr26deumjIwMPfvss5o3b54uuOACSdKcOXN08skna/Xq1erSpUsomg2ExN69e0PdBACVHB10lCt73PSuXbtC2JIj7DHxkjR79uwQtSQ49th8e8xyUWO17W2ZmZmubc8991yhj/GOybaXALO3TZkyxZUXaNyzPZ5ach/Ho48++qePLwuzZs0qt32Xh/T0dBOX5Vh8r5Kec/tx9h+g9twSUunnk/Ae+44dOwptw5o1a1x5N998s4k/++yzQh9TFu2DlJGRIUmqW7euJGn9+vXKzc1Vjx49TE6bNm3UrFkzrVq1qtAOek5Ojmu+Au/vKgAAjlWUuAMAgKDk5+drxIgR6tq1q0499VRJUmpqqqKiolSnTh1Xbnx8vFJTUwvdT0pKiuLi4sxPURMAApVFZGSk7rvvPt13332KjIwMdXMAVFJ00AEAQFCSk5P19ddfa/78+aXaz+jRo5WRkWF+tm7dWkYtBEKnWrVq6tevn/r16+daGQYAioPfHqgwwS4TVpEq03+4gy17LmoJsWCPN9A+gv2Dw/t4u+0V9UdLZXptpdKXtdvDEqTAy8p58+wS8IiIiEJjyV0abl8pPeOMM1x5hw4dKkarj+YdhvLGG2+Y+NdffzXx0KFDXXkfffSRiX///XcT165d25XnXWoRwRs2bJjeeecdrVy5Uk2aNDH3JyQk6NChQ0pPT3e9N9LS0pSQkFDovqKjo3ktAAAoBFfQAQBAQI7jaNiwYVq4cKGWL1+uxMRE1/YOHTooMjJSy5YtM/dt3LhRv/76q5KSkiq6uUCRDh8+XC4/juMoKyvLPE9WVpYcxynWDwBIXEEHAABFSE5O1rx58/Tmm2+qVq1aZlx5XFycYmNjFRcXp0GDBmnUqFGqW7euateureHDhyspKYkZ3AEAKCY66PCdokq0bSUpCfbu229l0N7y45IMCyjqmOz92/v2lp17y5sL2LMue0VFRZnYO1O2/VzeY0TJ2bPleyfZatSokYntsuMTTjjBlWevDtCuXTsTBypNltyvZ+vWrQO2qSTi4uJct+33y7Rp0wI+7w033GBi+/3rLYW/8MILTVyes+VXJTNnzpQknXfeea7758yZo4EDB0qSpk6dqvDwcPXt21c5OTnq2bOnnnzyyQpuKQAAlR8ddAAAEFAwpbcxMTGaMWOGZsyYUQEtAgCg6mIMOgAAAAAAPsAVdAAAAFRaFT10KtAwsLCwMJ100kkmLq7iTBRXkv0DqBzCHKaNPKZkZmYqLi5Oq1atUs2aNUPdHMN+G9aqVcvE3rHR2dnZJi7JWFd7+SVJ+uc//2niUI1Ht5+3X79+rm32BEuBls2S3EtJ9e7du9D7Jen22283cYsWLUz8+uuvu/KWL19uYnuM8ty5c115djvuuOMOE+/fv9+VZ49dveaaa0zMGODSsc+//TpJ7veV/Yecdxm02NjYQrd5//gLtDyed16C0v7R6H18oKXfivqD3M7z03ssKytLSUlJysjIOOqzeawr+G4CSsIvHfSKRAcdZY3vJv+gxB0AAAAAAB+gxB0AAAAopfz8fO3cuVOS1KBBg6BXpQEAGx10hIT3S+unn34y8ZAhQ0zsLSNr27atiR9++GETB1vq5S3HXb9+vYkrcrSH3V67FPn888935QVqk/d4Y2JiTLxx40YTe8v+brzxRhPbpb/2+Zekjz/+2MTVq1cvtA1ea9euNXFmZqZrW/PmzQO2PRTs959fSqAD/SFXVPvsbfYyd5K0Z88eE9vLXT3++OOuPHvYw1//+lcTb9682ZVnl8J37949YPvsWby9bQqG9/12yy23mNgus3/nnXdcedHR0Sbu0aNHsZ8XAMrC7t27JR3poANASfCvPQAAAAAAfIAr6AAAAPCVip74rbKpV69e0LneCXIB+BsddITEDz/84Lp9/fXXm/jUU08t9H5JSklJMXH79u1NvGnTJleePaO1XYLrLZmvU6eOie0S2fJml3nbZbvBlpMXpajy7UAl8948u33BjqGz9xHs84aKPUtpenp66Bpisd8H9vn3rlYQqOTde47t47Jn5ff+Ubd48WITd+jQwcQffPCBK8/+rNgl7nl5ea68VatWmTjY97N9vPbzSO7jsoe/JCUlufJ27dplYvvYr7rqqqDaAAAA4AeUuAMAAAAA4AN00AEAAAAA8AE66AAAAAAA+ABj0FGu7PHL9vjv5ORkV17NmjVN/Pzzz5vYuyzaueeea+KuXbuaePz48a68O+64o9DnbdSokSvPXhrMDw4dOuS67R1/HAx7PK9fxn77oR179+418YgRI0x89dVXu/LOOuuscmuD/Xmwx5xL0qBBg0zcpEkTE3vf27ailmCzz7m9lJ93mTu7HUXNI+Ada17AXuJPku6++24T28cb7PJ6dlsl93HMnz/fxD///LMrz15KjrWHgcrFrxPCeeet+TNhYWE68cQTTVxWjj/++FI9PtCEckweB/gTHXQAAACglMLCwo76pyUAFBeXGQAAAAAA8AGuoPvUQw89pNGjR+v222/XtGnTJB1ZOuyOO+7Q/PnzlZOTo549e+rJJ59UfHx8aBtbhEAlsxs2bHDl/fbbbya2y7q9pdGpqakmtsvf7RL5onhLzmJjYwM+Vyh4y4jt20WVM+PP1ahRw8SPPPKIiR988EFXnr18V1mWKEru19A7nGHq1KkmtpcGK+s2eJV2/5mZma7bdkl+VlaWiYv6fNnbsrOzXds2btxoYvvzv2TJElfejz/+aGL794G3RDVQqT4AlFZ+fr5Z8rF+/foMtwFQIvzm8KF169bpqaee0mmnnea6f+TIkXr77be1YMECrVixQtu3b2eNXwAAAJ/YtWuX6aQDQEnQQfeZrKwsXXfddXr66ad13HHHmfszMjL07LPPasqUKbrgggvUoUMHzZkzR5988olWr14dwhYDAAAAAMoCJe4+k5ycrMsuu0w9evTQpEmTzP3r169Xbm6uevToYe5r06aNmjVrplWrVqlLly6haG6J7dmzx3U7OjraxHbp+uLFi115Dz/8sIntMtaxY8cG3L9dVvzTTz+58uzZ5A8cOGDiiix3t0udb7nlFte2a665xsTeWb9RPPb76tZbbzXx7NmzXXnlXVJewPt6vv766yY+5ZRTTNygQQNX3o4dO4r9XCU5pqI+A/b+vLML//LLLyYOdliG/Vze2Zx/+OEHEz/11FMmvvnmm115gwcPNnG7du1MbM/YLx0ZKlTc9gEoG36drV0q/ozt5aG0s7UXV2GzuzOzOxB6/MXvI/Pnz9eGDRu0bt26o7alpqYqKipKderUcd0fHx/vGpfplZOT4+qYeMeLAgAAAAD8gRJ3n9i6datuv/12vfjii2W6REdKSori4uLMT9OmTcts3wAAAACAskMH3SfWr1+vnTt36owzzlC1atVUrVo1rVixQtOnT1e1atUUHx+vQ4cOKT093fW4tLQ0JSQkBNzv6NGjlZGRYX62bt1azkcCAAAAACgJStx9onv37vrqq69c9914441q06aN/vnPf6pp06aKjIzUsmXL1LdvX0lHlh/69ddfXctCeUVHR7vGd/tFUUsdLV++3MQvvviia5s9RqxZs2YmtpdzKop3jNnOnTtNbA8FqMgx6PZ43rKsnqjs7OVp7PdLUeOpi1rSZt++fSa+/vrrTfzpp5+68s4555yg9m2PXw52KR37Md6xmGeffXah8fbt24Pat5f9HrZ/B3jPn72tqPbZt+19e8crnnzyySYOdpk1m3fIjr3Mmj22/NJLL3Xl2Z9fexm9/fv3B/W8AAAAfkAH3Sdq1aqlU0891XVfjRo1VK9ePXP/oEGDNGrUKNWtW1e1a9fW8OHDlZSUVOkmiAMAAFWbXyeEK8/J4MLCwnTCCSeYuCgVPSEcgMqDDnolMnXqVIWHh6tv377KyclRz5499eSTT4a6WQAAAMe8sLAwVa9ePdTNAFDJ0UH3sQ8//NB1OyYmRjNmzNCMGTNC06AyVFS58JVXXmnignL+Aj/++KOJe/XqZeLevXu78l5++eVCn9c7C769zFqoljGzz0X79u1d2/yw7Euo2H/krFq1ysRt27Z15dml0/Zye0UtoZWSkmLi+++/37XNXnamdu3aJv78889deXYZelH/KLOX9frnP/9p4g0bNrjy7HJw+7343nvvufLs9739/qhfv74rr0mTJia+++67Tfzzzz+78uxz1qZNGxPbpeqS+31qn1v7HEnSqFGjCm1fsKKioly37WUIO3fubOL//e9/rjx7GIS9ZCIAAEBlQgcdAAAAKKX8/HwzL0e9evWCnp8EAGx00AEAAIAykJaWJsldjQUAxUEHHRXG/k+yt9TcngnaLmn1atiwoYnt8nRviXF8fLyJd+/ebeIaNWq48q655hoT/9mELhXBW2bvhzaFymWXXWbiO++808Tesmm7tLlTp05B7ds+z6+99pprm70P+/22Zs0aV94ZZ5xhYntIhfc1s0u2b7vtNhN7V22w36etW7c2sbck/bvvviv0ubp16+bKs1cEOOuss0zsXarxzDPPNLE9XKBWrVquPHtbUTPYd+jQwcRFrdYQiPf82c9rP5d3dvZAbSpqqAMAAIDf0EEHAABAleOHeVz8PFv73r17j7ovUFk+/+wEKg6DYwAAAAAA8AE66AAAAAAA+AAl7qgw9phRe3yxJJ100kkmfuihh0xsj6OV3ON5vctU2XJyckxsj2G175fcy3fZZV0VOfbbfq5WrVq5ttlj6f0ofN8+hWdn63BCwlHbGjuO9knKLMa5tF+D//73vya2x0kvWbLE9Rj79f3hhx9MXFQ5nn3OveP+7f0FGnftVdQ2u8SycePGJm7ZsqUr78QTTzSxPR49MzPTlWe/R+wl3LzvWftcRkdHm7hHjx6uvGHDhpn48ccfN/Hll1/uyvv0009NbI93v+qqq1x59lJy9nj5yMhIBSM1NdV1e9OmTSYuavk0e5k6e2m6v/3tb668koyLBwAAqCh00AGUSPi+fWo2dKiq7dmjn+fMcW1r4jha7jjaKenS0DQPAAAAqHTooAMokfDsbFXbs0dRW7eqxY03qnF+vraFh6txfr7edBwVXB+uVeReAACV2eHDh0PdBF9MBicdqWRq0aKFif2isMngiquwyeOYOA4oH3TQUWFq1qxp4qSkJNe2+fPnm9guSb30Uvf112nTppn4448/NvG4ceNceXv27DGx/SVplw5L7nJcu1y4rNml0l72Hxb333+/a1vv3r1N7C3FDsQ+3qKeN9h9BPoj43BCgn6eM0ctbrxRUVu36u3wcN0cG6unDhxQoqQfJZ0v6bdiPK/9ZX/KKaeY2F4Oz/tHQm5uronfeeedgO22z8X48eP/OI4i/ri02+Mt0bb3bw+98D6vPbQjwRoKMGXKFFeeXcZ/9dVXm/j777935f322x9ndNGiRSb+17/+FeAo3OzPoeQ+LnsZQrssXpJiY2NNbB+vdxjKzJkzTRxoNuDiyM7OLnR/3iUTe/bsaeJA5xIAylNYWNhRv2MBoLiYJA5AiR1u2FA/z5mjQ02bKjE/X+9lZysxP/+PzrmPriAAAAAAfkcHHUCpHG7YUNtSUlz33SA65wCAY4vjOPr999/1+++/l7iCDQAocUeFscuF7733Xtc2u8x79OjRJp4wYYIrzy5dHzNmjIntUnApcFm29wvTLkWzS8gr8ov10KFDJrbLtYvDPt5atf4Y9e2dtT7QDNbe8n57H/Y5Kuy8VNuxQ42t10ySXggL0yUxMdr2/0uSve0Ixpdffllou/ft2+fKs9879goAR7XTen3toQ6ffPKJK2/79u0m3rlzp4kfeeQRV559zjZv3mziomZTt2coP+uss1x5iYmJJraP1zvGz27TueeeW+jzlFRRYyYD7d/73klOTjbx1q1bTRzsLO47duxw3f7mm29MbM9of9ttt7nyXnnlFRPfd999JuaPZAAVxXEc8zvsuOOO89U4dACVB1fQAZRYtR07zBj0HyWdEx6uHyWd4DhafPCgGjOBDAAAABA0rqADKJFqqalqMWiQorZu1aGmTdV92zb9Fham7uHhWu44ppN+sWcSMQAASsovM7Z7HX/88YqJidGSJUskSc2aNSvXyWcDKYsZ2wGEFlfQAZRIfo0aOly3rg41baqf58wxY85/+//l7T+FhWlXWJiyKPEDAAAAgsIVdFSYotbLtJc7u/vuu038+eefu/K6detm4vT0dBMHO86rSZMmrttvvvlmsfdRnrxLWwVaWs07ltwel7xgwQITe4/JXirLHlPsXd7Nfj3sMbyuJdxq19bPM2cqPDtbh+PjXWO5HcdRxs6diqheXQtr1nSNPw40Dt7rp59+MrG97y5durjyjj/+eBP/+uuvhbZbcl91adq0qYkXL17sylu7dq2JV65caWJ7TLx3f/bSYtdee633UIx3333XxFdddZVr28SJE018wgknmHjjxo2uvK5du5rYPl7v/AVlfZUp0OfX+56dNWtWmT6vvUydfYze1+2kk04y8ZYtW0yclZXlyrM/AwAAAH5DBx1AieXXqqV8a0I526EGDSq4NQAAAEDlRok7AAAIaObMmTrttNNUu3Zt1a5dW0lJSa4KhoMHDyo5OVn16tVTzZo11bdvX6WlpYWwxQAAVF5cQYfv2KW57du3d23Lzs4uNK+k7CXEKjO7bLwkxxQVFVXk7WBUr1692I8pSt26dU1sl7h7hynUq1fPxNu2bQu4v2CPyX5f2cMAMjIyXHnz588vdNvbb7/tyvv4449NbC879uyzz7ryevXqZeIGVvXB+eef78qLi4szcf369Qtta2G3C3hL4e3SdXs5PO9QBPtx9jZ7mUBJmjRpkonfeecdEx8+fLjQ9njZxyS5z5/NuzxeQkKCidevX29i7+ch2CEW+EOTJk300EMPqVWrVnIcR88//7x69+6tzz77TKeccopGjhypRYsWacGCBYqLi9OwYcN01VVXBXztUHkF+zkuC36dDE5yf+8UCAsLU25uru655x5JJV82NVhMBgdUXXTQAQBAQJdffrnr9gMPPKCZM2dq9erVatKkiZ599lnNmzdPF1xwgSRpzpw5Ovnkk7V69eqj5owAqrK8vDytXr061M0AUMlR4g4AAIKSl5en+fPnKzs7W0lJSVq/fr1yc3PVo0cPk9OmTRs1a9ZMq1atCrifnJwcZWZmun4AAABX0OFDdsltUTOr2yW8Rc0QXxS7BK0iZ3G3Zxi3ZzgPVlFlhoFmfpfc5b12G7ylhPa5CPQYyf0aBCqpLqnff//dxHa5uz0Du+R+7efMmWNib1uPO+44E9szqHtLoO0S61atWpnYWxq9b98+E9vl895Zze3S63Xr1pnYuz7uk08+aWJ7JvkNGza48uwSd3um+3bt2rny7NfQLkOfPHmyK8+eBb958+YmrlOnjiuve/fuJq5Ro4aJYzzr3A8ZMsTE9nkO9jPqHYpgl93b+7DbILk/ywMGDDCx932Akvnqq6+UlJSkgwcPqmbNmlq4cKH+8pe/6PPPP1dUVNRR75f4+HilpqYG3F9KSoomTJhQzq0GKlZERIQuvPBCSdL777/PkBoAJUIHHQAAFKl169b6/PPPlZGRoVdffVUDBgzQihUrSry/0aNHa9SoUeZ2ZmbmUf98AyqbyMhIMwb9ww8/pIMOoETooAMAgCJFRUXpxBNPlCR16NBB69at02OPPaZrrrlGhw4dUnp6uusqelpamqt6xCs6OvqoahMAAEAHHZWMXUZtl2XbZbBFycrKct3+z3/+U+j+yrrc3Vtma/9X/dprrzWxt0w00PHOmzfPlWcfV9++fU3snWn29ddfN7E983hSUpIr7y9/+Uuhj0lPT3fltWnTxsTnnnuuiUs65MBmt/3f//63iXfs2OHKs89t//79A7bBLr3+3//+Z2JvJ+H000838QMPPGBib7nurl27TLxnzx4Tf/HFF668QGW+DRs2dN2++eabTWyXedfyrDN/5plnmthe5SDYoQ0tWrRwbbOPwy7b934G7FL27777zsSnnnqqK69Zs2Ym/vrrr00c7HvC+3qcdtppheZ5S9zt47cnJivvmZSPVfn5+crJyVGHDh0UGRmpZcuWmd89Gzdu1K+//nrU7xUgEL/O2F7YbO2BOI7j+j4quF0Wf08wYztwbKGDDgAAAho9erQuueQSNWvWTPv27dO8efP04YcfaunSpYqLi9OgQYM0atQo1a1bV7Vr19bw4cOVlJTEDO4AAJQAHXQAABDQzp07dcMNN2jHjh2Ki4vTaaedpqVLl5rJsKZOnarw8HD17dtXOTk56tmzp2vSQwAAEDw66AAAIKBnn322yO0xMTGaMWOGZsyYUUEtAgCg6qKDDt+xx117x9UOHjzYxPHx8Sa+7777XHmBxrPZY2wladasWSb2LhdVnuwlti699FITe8eg2+xz4R2Dbo/LtseCe8fPvfLKKybeunWrib3jnO2x5fZjfvnlF1feFVdcYeLzzjsvYNtLyx5Xby+lJrnH39uvr3fMsz0WeeHChSb2vsfsx1155ZUmjo2NdeXZ4/F/+OEHEy9evNiV99tvv5n4k08+MXFaWporzx4nbrfJ277Nmzeb2B7bePLJJ7vygh33+NVXX5l40aJFJm7durUrz/68zZ4928Rjx4515dkzcT/99NMmDnYsuL0cnuT+fNjj0+2x+N7nHThwoIkvuOACV15ZzI8AAABQXuigAwAA4E/Z/0AvUJx/evl1MjipeBPCBZKbm6tx48aZWDp6ktgCZT0ZbXkbNmzYUfdNnz49BC0Bqj466AAAwBdiYmIK7bjk5eXp0KFD5ra3osVWMMN8SXIDPb90pKNlVz8VJzc6OrrQzm2BAwcOlCg3KiqqyE5vSXMjIyMLXRmioDMeFhZmjv3POuh+y/XOtl6goIouNzfXVDRFREQoMjIy4H4Ly129erWkI+fQfqw3116to6j9hoeHF/kezs3N1eHDh01uUcsX2rlhYWFFVg56cwt7PxS06/Dhw64qqaLaW5zc4nzu+R1ReG5xPvfwDzro8B37i/att95ybVu3bp2J7eWXvF/OgX4Zeb+MCiY5kuT6Ii3vZdbsLyfvclGB2G3ylgvbX0pF/aFS8GXr3YddXu1l53mf135cWZwz+wvHjs844wwTv/nmm67HdO/e3cT2HxDe82C3LzMz08TeP77sc2TzniN7OTZ76TLvMmtr1qwptH32UmWSu5y+R48eJq5du7Yrzy4Bt4+9pOe/JI8r6jH2e9EeAlHUe8xWvXp11237dbSPvUmTJq68bt26mfjiiy82sf0HEPzvgw8+UM2aNY+6f+XKlUpOTja3P/zww6PeKwXWrVunm266ydxesmSJ6tatW2ju119/7Vqe8Y033lDjxo0Lzd28ebPrc/rSSy+ZteG9tm3b5nofzp0796glCQvs2bPHNTRp5syZRw3hKLB//3517tzZ3J46darrve/Vtm1bE6ekpOiiiy4KmNupUyfzx/q4cePUu3fvo3IKfm+1bt3a/D7buXNnkcuAtWzZ0nRGd+7cqd27dwfMPfHEE8339K5du1zLQHqdcMIJ5j3w+++/HzVsyNaiRQvzvtqzZ89Ry3VK0tKlSyVJ//znP00n+8ILL9To0aMD7nfcuHH68MMPJUnnnHOOJkyYEDA3JSVFS5YskXRkiM7DDz8cMHfatGl64403JB35W2fatGkBc6dMmaLnn39e0pGhTt4hcLaZM2eaoX0nnHCCaxlVr7lz52rq1KmSjiwLeuONNx6VU3Df/PnzzbKkxx13nFauXBlwv2+++abuv/9+SUc6xmvXrg2Y+9577+mOO+4wt4vK5XfEEaX5HQH/CPzvFwAAAAAAUGG4gg4AAHzh/PPPD1jibitqUkpv9Yx9lerPcvv06VNkSaqtf//+QecOHDiwyJJU29ChQ4POHTlyZNDjukePHm2uXBbGLnWdMGGCuSJqK5iI0z7uBg0aqEGDBgH3W9Lc+vXrq379+kHl1qtXr8gx5HZu3bp1j5qMUvpjokm7Uuz99983V8gLY+f+73//0xVXXGEq/6644gpXabSdu27duiLfl3bul19+qS5dugSV+9133wWd+9NPPwWdu2PHjqMmaJWOXMmV3JVne/fuVadOnQLu1849cOBAkbnez31xcvkdcURxfkfAP+igw3fsmbi95WL2LOeBJl4pivdL+ZFHHin2PspasL9ky4J9zkpy/krymOKwvwjteNSoUSb2jhWzSxULm8SmgF2+VlAOWBi7DN0u1/aO67vlllsC7sN21llnFXq/91zax2uXxWdnZ7vy7HbYYxi9X8Chmq3cfj//+uuvJg62xL2w8ubC9uctv23evLmJp0yZYmLve4JZ3P0t2CEJxRk3WZzc4gyJKE6u3VEry1z7d1RZ5ubm5ha68kJh31fF+Q7zQ649Ht1W2OuZl5cX9O+uvLw812uXk5MT8D2Sl5cX9PsnPz8/6PdwcXIdxylWbmHDvwI9vrw+n37Ircq/I+AfdNABAABQIoE6x36dpbwsZmsvC4X9w9tevjNUivpHt9dtt91W6P3M7g6UDmPQAQAAAADwATroAAAAAAD4ACXuCAlvSZx9215i6pprrnHlvfvuuyYuyVhS7zijxYsXB2xTebLbbi97U9T422OZvRxe3759XduuvvpqExcsCSMdXT44duxYE8+ePdvE3vdEv379TNyyZcuAbbKXZ7PH5nmXbbPbYY8b864pa48nt5cD9C6zZo8LtZ/XOzbfPq6iPitlPReB/TnKyMgwcaDl67yKaqu9PF5qaqprmz3W3z52v5bZAgAAFIYr6AAAAAAA+ABX0AEAAIBSys3NVUpKiokBoCTooCMkvOXk9rJIdpm3dx3W999/P+A+grFnzx7X7YceesjE9nIYZb2cmLfM1l4qq3379iauUaNGmT5vVVGwPq0kPfzww65tf/vb30xsL4dT1GtoL0nmXZ4sUEm0N6/gjzBJuuqqqwq939v2xx57zMSPP/64K+/ZZ581sV0O7v0jb9q0aSY+/vjjTfzCCy+48u655x4T22X33s+N/f6Lj483sfe9aJfdJyQkmPikk05y5dlt79Wrl4mDHZJil/pL7tfUPt5WrVq58p577jkTjx49utDHAyh7fh5G4h1yVBTvcKKSyMvL05IlS4LK3bt3b9D7La9zXJwZ2wvDbO1A+aDEHQAAAAAAH+AKOgAAAFBKEREROvPMMyVJ69ato4IHQInQQUdIeGdg/r//+z8Tr1ixwsT2LNCSu0zWjr1lwIHK2rzlvfbjqlevbuKyLifzllvbs3nbbfJzqWAojRkzxsR2ibfkfh90797dxN5zaZeo//WvfzWx973TuHHjQtvg3Z/9Hj506JCJf/nlF1ee/fraM7fbbZWkNm3amNh+v3jfO+3atTPxhg0bTJyWlubKC3aYhl02bs8E7z0Oe1vbtm1N/P3337vy7PJ3+5i2b9/uygs0RKWoWfDtP3a9KzxceumlJmbsJ4BQiIyMNMOwevbsSQcdQIlQ4g4AAAAAgA9wBR0AAAB/yq9VXsWZDC6QzMzMo+4ri4njijMZXCCFVUQV57Uo7WRwACoWV9ABAAAAAPABrqCjwthjgC+++GLXtjp16ph46tSpJraXdpLc/+G2xx7bSyxJ0qhRo0xsL/vUpEkTV97mzZuDaXq52r9/v4kZr1Y4e16CpUuXurY98cQTJrbHp9vjvSX31Qb7/fLll1+68tavXx9Um+z3X6Bx0t5tti1btrhu28do78O7P3vMeM+ePU08d+7cIFp9NLt99rjzESNGuPLsz+xFF11k4vvuu8+Vt2bNGhNv2rTJxIsWLXLlBbr6U6tWLddtexk4+/N/ww03uPLsMe7/+9//TGx//qXgl3sDAAAIBa6gAwAAAADgA3TQAQAAAADwAUrcUWHsUt3ExETXNnuJs59++snE3jJYezkruzTcWy5sP66o5djWrl1r4kDLPpUHu02nnnqqiaOjoyusDZWJ/dp4l/+yFbW8ln3O7bLnkp5zewlAe3+///67K88uSbeHeXz66aeuvFdffdXEdnl+VFSUK++8884z8WmnnWbiE044wZVXksmc7PPsfV57EiZ73/aSgV72Z3Tnzp1BtcG7P/vcjh8/3sTeyZsuv/xyE9u/ayhpB1BRcnNzzTA9lnsEUFJ00AEAAPCnCvvHX6B5NspLWczYHqzCZnaXCp/dvWC29jlz5pRrmwoEOu/Dhw+vkOcHUH4ocQcAAAAAwAe4go6QeOedd1y37f8E2/+h95Yfd+nSxcSNGzc2sT3zuxS47DYtLc11e+TIkSY+ePBgoe0pC96rDvZx2bNve8uUA/G2L9hyZvtxgWIvu1zYm1dRV0769u1r4n79+rm22a/bZ599ZmJv2+yS9KuuusrE3tne7TVrA5XFS9LLL79s4gMHDpj4559/duXZ52/r1q0mvvPOO115Y8eONXFRr6d9HOnp6SYePXq0K89ub7Bl3kW9JwK91t622mX83bt3N/E555wTVBu8+7M/y/a5fOihh1x5t912m4l79eplYnv4DACUp/DwcJ1xxhmSpA0bNjDEBkCJcAXdZ7Zt26brr79e9erVU2xsrNq2besaq+o4jsaOHauGDRsqNjZWPXr0cC1lBAAAgIoXHR2t5557Ts899xxzygAoMTroPrJ371517dpVkZGRWrx4sb799lv9+9//1nHHHWdyJk+erOnTp2vWrFlas2aNatSooZ49e7quIgIAAAAAKh9K3H3k4YcfVtOmTV0TjNiznTuOo2nTpun+++9X7969JUn/+c9/FB8frzfeeOOo0l8AAIDKKNAEbX7g5xnaCxuOVJJVPQCEDh10H3nrrbfUs2dP/e1vf9OKFSvUuHFj3XrrrRo8eLCkI0uJpaamqkePHuYxcXFx6ty5s1atWlVoBz0nJ8c1htMvX3hFLc1k8y59tnv3bhPHxsYG3F+gWV6948Hi4uJM7F1WqjzZbQ92jJr9Betdyqt+/fom9o6Vtu3Zs8fENWvWNLE9hlpyf8Hb45zr1Knjytu3b1/RjS4j9thjO5bc589+f3jZx2T/ceX9wyXY1yMrK6vQ++3z5WU/l7fqJdjPRKCx4N7XvSRjH+192O8VyX289vmLj4935dmvz7Rp00xsL2noZR/Tjh07XNvseQUeffRRE1977bWuPHvsu1115P1DmjGhAADAzyhx95GffvpJM2fOVKtWrbR06VINHTpUt912m55//nlJUmpqqqSj/yCOj48327xSUlIUFxdnfpo2bVq+BwEAAAAAKBE66D6Sn5+vM844Qw8++KBOP/10DRkyRIMHD9asWbNKvM/Ro0crIyPD/NizSAMAAAAA/IMSdx9p2LCh/vKXv7juO/nkk/Xaa69JkhISEiQdWSqsYcOGJictLU3t27cvdJ/R0dG+nEk02DLT7Oxs1+3Nmzeb2C6L9ZZaB9q/dxmzVatWBdWO8mSXRBdVpmyfix9//NGVZ5f32sMYvOXgX331VaGP2b9/vyvPLrcO9BhvXqCS77IQ7PvFe7zlqbSl0mVdal3S/dll9wXLA0nSd99958qzS8UPHTpk4mXLlrnydu3aZeL77rvPxPawjqJ4j8P+fNhtfeuttwI+jkkzAQBAZUUH3Ue6du2qjRs3uu774Ycf1Lx5c0lHJoxLSEjQsmXLTIc8MzNTa9as0dChQyu6uQAAAPj/cnNzNWXKFBMDQEnQQfeRkSNH6qyzztKDDz6oq6++WmvXrtXs2bM1e/ZsSUeuHo0YMUKTJk1Sq1atlJiYqDFjxqhRo0bq06dPaBsPAABQAsWZwNY7Saok1atXryybYwRb+SP9MfHqq6++KkmKiYmRVH7VZcOGDQs6N9DkosWZ3X369OlB5wIoHTroPnLmmWdq4cKFGj16tCZOnKjExERNmzZN1113ncm5++67lZ2drSFDhig9PV1nn322lixZYr4Iqjq7lN3+wgm2vLeo8tmKZLe9qLJsexZ7+4s02NnTvV++gc6fd7Z8+3H2H07e/QX60kflZL8Xg/2D2Tvbu80eAhHsLPVFKWoWfAAAgKqADrrP9OrVS7169Qq4PSwsTBMnTtTEiRMrsFUAAAAoSnh4uFq3bi1J2rhxI8s6AigROugAAABAKUVFRenZZ5+VJF1wwQVU+gAoEZZZAwAAAADAB7iCDt/xLuUViD0e1TuGOlBZmTevfv36Ji7P8dTe501NTQ0qz56gplatWib2Lj9njy0//vjjTVytmvsjbk+uYy+VVbCEX2G2b98ecBuqFr8s/RbqfQMIXqCJxgr7Ti3OZHDFUdjEcVLxJo8rzoRwxVEweZxXcSaPK86EcMVR2GtUnInjAJQPrqADAAAAAOADdNABAAAAAPABStzhO3a59eHDh4N6jHcJJ7uMzi6F3bJliyuvR48eJrYncymLcne7TKxOnTqubfPnzzexvURebm6uK++pp54y8Zw5c0zcu3dvV969995r4jPPPNPE3uXY5s6da+KkpCQTn3766a48u01Lliwx8YEDB1x5lBkDAAAAZYcr6AAAICgPPfSQwsLCNGLECHPfwYMHlZycrHr16qlmzZrq27ev0tLSQtdIAAAqMa6gAwCAP7Vu3To99dRTOu2001z3jxw5UosWLdKCBQsUFxenYcOG6aqrrtLHH38copYCoXH48GGzzFqwFYAA4EUHHSHhna3cnm28Y8eOJvbOJpqXl2di+8svOjralffKK6+YODIy0sTe0nV7m12uXdYl7vbzFId9XPbM7XYJupc9Y+xvv/3m2mbPkG8f4969e1159v7Lc3Z7AJVDVlaWrrvuOj399NOaNGmSuT8jI0PPPvus5s2bpwsuuEDSkeE4J598slavXq0uXbqEqskIsfKasb04CpvdvUmTJuX2fHYH/c8UNrv7wIEDy7hFxTd9+vRQNwE45lHiDgAAipScnKzLLrvMNW+HJK1fv165ubmu+9u0aaNmzZpp1apVAfeXk5OjzMxM1w8AAOAKOgAAKML8+fO1YcMGrVu37qhtqampioqKOmoizPj4eKWmpgbcZ0pKiiZMmFDWTQVCKiwsTC1atJAk/fzzz1SgASgRrqADAIBCbd26VbfffrtefPHFIofWFNfo0aOVkZFhfrZu3Vpm+wZCJTo6Wi+++KJefPHFo4beAUCwuIKOkPAuz2WPE9u5c6eJv/zyS1eePVbaHsfuHatuj7W2JSYmum6vWLHCxOX5n25v+7Kyskwc7FJl9j68+wv2eQPxHjv/9QcgHSlh37lzp8444wxzX15enlauXKknnnhCS5cu1aFDh5Senu66ip6WluZaMtMrOjqaDgwAAIWggw4AAArVvXt3ffXVV677brzxRrVp00b//Oc/1bRpU0VGRmrZsmXq27evJGnjxo369ddflZSUFIomwyfi4uKOui8jI6NC21DYP5sDVWs0bdq0vJvjcs011xx134EDBwrNjY2NLe/mAPAROugAAKBQtWrV0qmnnuq6r0aNGqpXr565f9CgQRo1apTq1q2r2rVra/jw4UpKSmIGdwAASoAOOkLC+19tewZfe5yjXe4uHbkyU+Dcc8818f79+1159nJsNu9/7x9//HETl3QptEDsYzx06JBr29ChQ00cqBxfCr5EHQBCZerUqQoPD1ffvn2Vk5Ojnj176sknnwx1swAAqJTooAMAgKB9+OGHrtsxMTGaMWOGZsyYEZoGAQBQhTCLOwAAAAAAPsAVdISEt6x77dq1JrZnOO/Tp48rzy5lt0vSvbO926Xsdrm7XUovSU8//bSJ7dnUy6K03C5x907wMnjwYBMXVeKO4snNzQ24zX5Nq1UL/KvPft0OHz4cMM9+3ewVBbzs919RM/bbbSrJ+8/bhpycnGLvww+8xx4VFWXiYFc8AIBQOHz4sF588UUTA0BJ0EEHAABAuStsZnep9LO7l8XSoIXN7l7cmd0PHz581FCPwmZrL67CZncvi5nd7Xl4APgHJe4AAAAAAPgAV9ABAACAUgoLC1N8fLwkKS0trUyu7AM49tBBR0h4x5nWrl3bxKNHjzbxgAEDXHn2l13Pnj1NfOGFF7ryFixYUOjz1qpVy3X7pptuMnF5jgX3LrNW1BhoFI89LnnkyJEB8+xywMmTJ5vY+17csGGDiefOnVvo80hS165dTdy/f38Te5fre+6550z82Wefmdg7Xj45OdnEbdu2LfwgPOxx5zVr1nRts9tkf76KGi8fKvZrYLdVkqZMmWJi+3NU0vHogeYYKOtlFgEce6Kjo/X6669Lki644AIdPHgwxC0CUBn57y81AAAAAACOQVzGAwAAQMgUNnlcoInjKrJsvLCJ46TCJ4+75pprXNVxffv2LdeZ3AubOE6SnnnmmXJ7TgAVgw46QsJeekqSevfubWK7jDU7Ozvg4+wy5b/+9a+uPLtM1l5azftHwIgRI4rR6rLjPX6UnP3H2ieffFLo/ZK7BNze5i1x37VrV6H7875mBeMM/2x/33//vYk//vhjE3tL3Pv16xfU/mz2Nm+J9m+//Wbi9PR0E/uxxN1Wv3591+3SttdbCr969WoTz54928T2cAYAAIBQ8fdfagAAAAAAHCPooAMAAAAA4AOUuKPC2KWqUVFRrm3nn3++idu0aWPiSZMmufKio6NN/OGHH5q4Xr16rjy7fNgucbXLlyX3LO72vosqKw6WXaaclZXl2vbWW2+Z2HsuAu0Df66o8X7BDiuwz7n9GO/jg51F3M6z91HeM/kfy+8d+5ynpaW5ttmz5fu93B8AABx76KADAAAApeQ4jr744gsTA0BJ0EEHAACArxQ2s3sg9kSYFcFbmSNJt912m/Ly8lzVfeWJ2dqBqov6PgAAAAAAfIAr6Kgw9rjQgwcPurY9++yzJraXTJsxY4Yrzx63++KLL5p47Nixrjx7zLc9nty7tNX27dtNbC/vVtZj0GvVqhVwW0n2F+zjg83zHm9ZHH+olbS8sCTnuST7Luv9edfEtT9H1atXL9PnLQuB3mOxsbGu28GuI2zn2cvjeZdStPP8eF4AVG4Fv8MCrVMOAH+GK+gAAABAKVWrVk1DhgzRkCFDyn0iUABVFx10AAAAAAB8gH/vwRcSEhJMvHDhQhM/9thjrjy7dP25554zcbt27Vx5gcpiGzRo4Lo9f/58E5dnWbd3SS57STdbRESE6/YVV1xh4q5du5r4uOOOc+XZpc5TpkwxcU5OjiuvSZMmJs7IyDDx3LlzA+7P3kewS4uhYtivx/79+13bvKXdlZU99KQow4cPN/GqVatM7C1jD7ZkHkDlUadOnVLvo7CJ5opaBtVr+vTpys/P15YtWyRJjz76qMLDw3XbbbcVms8kbwAC4Qo6AAAAAAA+QAcdAAAAAAAfoMQdvmCX6tarV8/EKSkpAR9jl74GW7bqnbSlVatWwTaxVIKdvdtb4l63bl0T22vCFjXretOmTQM+r73/vLw8Exd1Huw8VB72e6KsZ4/3A3sFBsld1p6YmGjiV155xZV39tlnm7gqnhcAAFC5cQUdAAAAAAAf4Ao6AAAAUEphYWGqVauWiQGgJOigAwAA4JhWFjPBA0BZoIMOX8vNzXXdtseqh4cXf4SGdwy6Pd69LMaj2v8xt9vnHS8biPcPBHuJlx07dpjYHo8uSTExMSbevXt3wP0ff/zxJraXrMvOzg6qffAX+z1Wu3Zt17ZTTjnFxPZcBn5kH4d3CcGXX37ZxPaSf97jnTdvnok7dOhgYu/SgIw7BwAAfsYYdAAAAKAMxMbGKjY2NtTNAFCJ0UEHAAAASik2NlZr167V2rVr6aQDKDFK3OELgcrVv/vuO9ftRYsWmXjo0KEmjo6ODmp/P//8s+t2165dTXzw4EETl7QM1n7e+vXrm3jt2rWuPLsM3W77aaed5sqzy3iXL19u4uuvv96V98UXX5j4tddeM7H3OM466ywTDxw40MSDBw925XnLguFP9pAK7/CNyMhIE9vv+5IMDalI3uEWgSZa8pa4n3zyySa2S+HtYSIAAAB+5++/1AAAAAAAOEbQQQcAAAAAwAcocYcv2GW3kydPNvHzzz/vyps0aZKJzz//fBPPmjXLldeuXTsT2yWyNWrUcOWdfvrpJrZLgku6fqldUp6ZmWliu3y+KNWrV3fdtmdat/ftLem3y4KLarudZx8vKj/vcIa8vDwT2+Xvfl+bNyIiIqg87zAMvx8XAABAMLiCDgAAAACAD9BBBwAAAADAByhxBwAAAEopLy9P7733nokBoCTooMMX7GWR7KXUvMuT2WOvTzrpJBMXfCEWOOOMM0xsj1U9/vjjXXnPPvtsoe0p6TJr9jhYO87IyHDlBbvUVaB2lMUYeVR+geY8kKQZM2aYuDKNQfcuF2f/bmD5PwB+dujQId1xxx2hbgaASo4SdwAAAAAAfIAOOgAAAAAAPkCJu4/k5eVp/Pjx+r//+z+lpqaqUaNGGjhwoO6//35Tluo4jsaNG6enn35a6enp6tq1q2bOnKlWrVqFuPWls3v3bhPb47bscndJevrpp008aNAgEw8fPtyVF6gU9rfffnPd7tWrl4nt8vmSlgHbz2uX5v7666+uvL1795Zo/4DNfr953/Nt27at6OaUC8ZxAqgsYmNjzdC8Tp066cCBAyFuEYDKiCvoPvLwww9r5syZeuKJJ/Tdd9/p4Ycf1uTJk/X444+bnMmTJ2v69OmaNWuW1qxZoxo1aqhnz55Br7MNAAAAAPAnrqD7yCeffKLevXvrsssukyS1aNFCL730kvlvrOM4mjZtmu6//3717t1bkvSf//xH8fHxeuONN9SvX7+QtR0AAAAAUDp00H3krLPO0uzZs/XDDz/opJNO0hdffKGPPvpIU6ZMkSRt2bJFqamp6tGjh3lMXFycOnfurFWrVlWqDrp3NnG7DMyejfqVV15x5T333HMm7tmzZ8D9X3nllSa2Z0z3lsvGxcWZ2K5CKOls0fZzNWvWzMQREREl2h9QUtWrVzdxZZq939tWe6gIAABAVUcH3UfuueceZWZmqk2bNoqIiFBeXp4eeOABXXfddZKk1NRUSVJ8fLzrcfHx8WabV05OjusPXO9STAAAAAAAf2AMuo+88sorevHFFzVv3jxt2LBBzz//vB599FE9//zzJd5nSkqK4uLizE/Tpk3LsMUAAAAAgLJCB91H7rrrLt1zzz3q16+f2rZtq7///e8aOXKkUlJSJEkJCQmSpLS0NNfj0tLSzDav0aNHKyMjw/xs3bq1fA8CAFCljB8/XmFhYa6fNm3amO0HDx5UcnKy6tWrp5o1a6pv375HfU8BAIDgUOLuI/v373eNYZaOjF0uGA+dmJiohIQELVu2TO3bt5d0pGR9zZo1Gjp0aKH7jI6Odi0f5hfeZczs8bL2+O93333XlZeenm7iBQsWmDg5OdmV9/e//93Edol/kyZNXHlLly4N2KbSssfS7tq1q0z3DUjuOQ+OO+4417bExEQTV6tWrdDH+FG9evVct5ctW2bispgnAiVzyimn6L///a+5bb+nRo4cqUWLFmnBggWKi4vTsGHDdNVVV+njjz8ORVOBkMnLy9PKlStNDAAlQQfdRy6//HI98MADatasmU455RR99tlnmjJlim666SZJRzqQI0aM0KRJk9SqVSslJiZqzJgxatSokfr06RPaxgMAqqxq1aoVWqmVkZGhZ599VvPmzdMFF1wgSZozZ45OPvlkrV69Wl26dKnopgIhc+jQoaMuGABAcdFB95HHH39cY8aM0a233qqdO3eqUaNGuvnmmzV27FiTc/fddys7O1tDhgxRenq6zj77bC1ZskQxMTEhbDkAoCrbtGmTGjVqpJiYGCUlJSklJUXNmjXT+vXrlZub61pdpE2bNmrWrJlWrVoVsIPOBKYAABSODrqP1KpVS9OmTdO0adMC5oSFhWnixImaOHFixTWsAjRq1MjEderUMXFubm7Ax+zZs8fExx9/vGvboUOHTGyXwtol8pI0efJkE9slm2UhKyvLxM8884xrW3Z2dpk+F45N9rAM7xCN2rVrm9jvQyzstsfGxoawJShM586dNXfuXLVu3Vo7duzQhAkTdM455+jrr79WamqqoqKiXL+3paJXF5GOTGA6YcKEcm45AACVDx10AAAQ0CWXXGLi0047TZ07d1bz5s31yiuvlPgfKqNHj9aoUaPM7czMTFYZQaUXGxurDz/8UJJ03nnn6cCBA6FtEIBKyd+zBQEAAF+pU6eOTjrpJG3evFkJCQk6dOjQUdVJRa0uIh2ZwLR27dquH6AqqF69umviWwAoLq6gwxcOHz5s4hkzZpj4pJNOcuXZV1wef/xxE3/00UeuvECzp3pLy+1Zie0ZokvKLtWtX7++ib1zBARb4h5oZnl7hvjiKOuZ6v2mqPNS0nNWluw2lPdrYc/Wbsd+nP3cPi8V2b6q/nkoL1lZWfrxxx/197//XR06dFBkZKSWLVumvn37SpI2btyoX3/9VUlJSSFuKQAAlQ8ddAAAENCdd96pyy+/XM2bN9f27ds1btw4RUREqH///oqLi9OgQYM0atQo1a1bV7Vr19bw4cOVlJTEDO4AAJQAHXQAABDQb7/9pv79++v3339X/fr1dfbZZ2v16tWmSmjq1KkKDw9X3759lZOTo549e+rJJ58McasBAKic6KADAICA5s+fX+T2mJgYzZgxwzU8CQAAlEyY44eBmagwmZmZiouL06pVq1SzZs1QN6dQ9njZtLQ017b//e9/JrZnFg52JmHv2/33338vSRODYo+lbdiwoWubPUbePl5ve+xl5uwJlzIyMlx59nrC9erVC9gme//26+8dI19ZFfV62uON69atGzDPXqJv3759Jva+d+z3XI0aNUxsv56Se31n+3Xy7i8uLs7EkZGRAdsXSEREhOv2jh07ArbJz7zHYb+fSzI+3Xvs9pJz9v7sOSPKS1ZWlpKSkpSRkcGkaB4F301AZRYbG6u1a9dKkjp16sQs7qhU+G7yD66gAwAAAKWUn5+vdevWmRgASoIOOgAAAFBKOTk5uummm0LdDACVHCXux5jKUOJeFL8vFwUAgVDiHhgl7gAQWnw3+UflGZgIAAAAAEAVRgcdAAAAKKXY2FitWLFCK1asCHryWgDwYgw6KhXK2gEAgF8VtUoIAASDK+gAAAAAAPgAHXQAAAAAAHyADjoAAAAAAD7AGHQARQp2abui8iIiIkxsr+xY0v0F2rfNu4Jkaecv8D5PXl5eUHnBHi8AAADAFXQAAAAAAHyAK+gAAABAKeXn5+vrr782MQCUBB10AEWKjIw0cW5urmub/QdIdHS0iQ8cOODKq1OnjokPHTpk4n379gV83tq1a5s4PT09YJ69b1tmZmbAttrsUnpvnr3tuOOOc+Xt3r270Dxvew4fPmxi+3jDwsJceYFK5gEAlUNOTo769+8f6mYAqOQocQcAAAAAwAfooAMAAAAA4AOUuAM4ij3z+PPPP2/iyy67zJVXv359E48ZM8bExx9/vCvvvPPOM/FHH31k4muvvdaVV7NmTRP369fPxLNmzQrY1m+++cbEdjl5QkKCK69atcJ/3XXs2NF1+7vvvjPxv/71LxP/4x//cOWNHDnSxHfffbeJvaX1TZs2NXGDBg1M3KFDB1fetm3bTLxr1y4TU/oOAJVDTEyM3njjDUlSnz59dPDgwdA2CEClRAcdAAAAKKWwsDA1btzYxABQEpS4AwAAAADgA3TQAQAAAADwAUrcARTJuwxZIPZybOeff75r2z333GPiu+66y8QxMTGuvIKxe5J77Ls9LrxFixaux0yYMKHQ9syePdt1O9BY7ocffth1OyoqysQ///yziU844QRX3o8//mhiexx8amqqK++JJ54w8YwZM0w8efLkgM8LAACAYxNX0AEAAAAA8AE66AAAAAAA+AAl7gCKlJ+fH1ReTk6OiZ9++mnXtrfeesvE9rIzH3/8sSvvqaeeMvEPP/xg4iVLlph46dKlrsc888wzJs7NzTVxsMuT2Uuzeffx5JNPmvj111935cXFxZn4rLPOMnGTJk1ceQ888ICJjzvuOBPbS9kBACo/x3G0efNmEwNASdBBBwAAAErp4MGDuvLKK0PdDACVHCXuAAAAAAD4AFfQARwlIiLCxDfccIOJL7vsMlfe7t27Tfz++++b2Fs23qVLFxPbpeH2TO2S9PLLL5u4Vq1aJr7oootMHBYW5nqMfduecb6o0nw7z9tWmz2Le3Jysmvb22+/bWK7nP7kk0925T3++OMmzsrKCvi83uMCAADAsYcr6AAAAEApxcTEaOHChVq4cOFRy4gCQLC4gg4AAACUUlhYmE488UQTA0BJcAUdAAAAAAAfCHNYB+KYkpmZqbi4OK1atUo1a9YMdXNQyURGRgbcZi9PFuzjvEuhBRo3HuzY8pKw913U/qOioly3Dx06FFSePdbc3newz4uqIysrS0lJScrIyFDt2rVD3RxfKfhuAiqz2NhYrV27VpLUqVMnHThwIMQtAoLHd5N/cAUdAAAAAAAfoIMOAAAAAIAPMEkcUEnYo1FCNfmMt4zdLtMuqn12KXtJSrnLuvzbbmuw+w5U0u7dR1F5gR4DAAAASHTQAQAAgFJzHEfbtm0zMQCUBB10AAAAoJQOHjyoiy++ONTNAFDJ0UEHiunnn3828SOPPOLaNmPGDBNPmjTJxNdff70rr1mzZia2y8EjIiJcefbs59dee62JX3vtNVdeRkZGofuzZxCXpIcfftjEd999d6HP41XUDOr27aSkJBN/9tlnrjy7NL6oqwp224ua8dwWqLTe+zz2tgsvvNDEHTt2dOVNnjzZxN5Z5m3Z2dkm7t69u4lHjhzpyrv66qtNnJ6ebuK5c+e68oYPH25i+33gHS4QaHiD97UJdM68x/TDDz+YeOPGjSa+7LLLXHnVqv3xdWG3r6hzxDrAAAAAxcMkcQAAAAAA+AAddAAAAKCUoqOj9dJLL+mll15SdHR0qJsDoJKixB0AAAAopfDwcJ166qkmBoCSoIMOBMEez5yTk2PiDRs2uPJat25t4mXLlpnYOwa9d+/eJq5Tp46J3333XVdekyZNCo3tNkjSueeea+IlS5aYOCoqypVnjx0+77zzTLxgwQJX3qOPPmril19+2cTPPfecK69nz54m3r9/vwKxx0fbY7LtsfOStHjxYhO3b9/exG+++aaJ7XHSkvTAAw+YeMWKFSb2nvOzzjrLxI899piJ7fkAJGnPnj0mvvLKK01sj7GX3K/9gQMHTDxt2jRXnj22PDMz08QxMTGuvA4dOhS6rXHjxq68v/71r4W2/fbbb3fl2efMfn3ffvttV94tt9xiYnuuAPu1laT69eub+P333zfxiSee6Mqz22t/BrKyslx5LDMHAABwNP69BwAAAACAD9BBBwAAAADAByhxB4op0NJikrvM2F7Kyy6BlqSTTz7ZxB999JGJ+/fv78r79ttvTfyPf/zDxHaZuOQuB7fb4C1Jt0uY7TJlu/xbks4880wT33rrrYXuuzjssXiJiYkmXrp0qStv+/btJrZL/2NjY008fvx412MKxvtJ0jPPPGNie+kzyV3K/euvv5p48ODBrryUlBQT2+dv9+7drrwbbrjBxHZZd58+fVx5v/32m4mLWjrOPsYnnnjCxPZrK0mjRo0yccuWLQuNJenDDz80sb0U2r333uvK27Vrl4ntpdTOP/98V569FN/AgQNNvHbtWleeXdLPGEwAAIDi4a8nAAAQ0LZt23T99derXr16io2NVdu2bfXpp5+a7Y7jaOzYsWrYsKFiY2PVo0cPbdq0KYQtBgCg8qKDDgAACrV371517dpVkZGRWrx4sb799lv9+9//1nHHHWdyJk+erOnTp2vWrFlas2aNatSooZ49e+rgwYMhbDkQGnv27HFNNgoAxUWJO1BMdhnwxRdf7Npmzw4+ffp0E3/55ZcB97dv3z4TDxo0yLVt3LhxJl61apWJb7rpJlde3bp1TfzLL7+Y+PDhw668GjVqmNieMd1bMn/XXXeZ2C7jnzhxoivPLpm3S6BnzpzpyrNL5qtXr27iuLg4V96PP/5o4rvvvtvEdlm3/Xjvvu2Z6T/++GNXnl3WnpycHHB/jRo1MvFll11mYu+ats8//7yJ7fNsv56SVLt2bRNnZ2crEHulALsUPiwszJVnn7N//etfJr7iiitceenp6SZ+6623TLx8+XJXnj10wl4dwPu89nH069fPxEOHDnXl2bPb26X1qJwefvhhNW3aVHPmzDH32cNUHMfRtGnTdP/995vVKf7zn/8oPj5eb7zxhuu9AlR1Bw4ccK2qAgAlwRV0AABQqLfeeksdO3bU3/72NzVo0ECnn366nn76abN9y5YtSk1NVY8ePcx9cXFx6ty5s+ufil45OTnKzMx0/QAAADroAAAggJ9++kkzZ85Uq1attHTpUg0dOlS33XabqSBJTU2VJMXHx7seFx8fb7YVJiUlRXFxceanadOm5XcQAABUInTQAQBAofLz83XGGWfowQcf1Omnn64hQ4Zo8ODBmjVrVqn2O3r0aGVkZJifrVu3llGLgdCJjo7Wc889p+eee+6oYVEAEKwwxx74iHKzcuVKPfLII1q/fr127NihhQsXupZjchxH48aN09NPP6309HR17drVXLUosGfPHg0fPlxvv/22wsPD1bdvXz322GOqWbNm0O3IzMxUXFycVq1aVazHoWwVtdyWzf542mOCvY+xx/pGREQU+jxFtcEePy5JL774oonbtGljYu+SX4F4f63YbQ90TJL7uAIdk5ed593fsaxWrVomtsdE2su5SdJ7771nYnv8vPe9Y5/nZcuWmfinn35y5dlL5T344IMm9s6HcCzKyspSUlKSMjIyXGP6/ax58+a68MILXUsYzpw5U5MmTdK2bdv0008/qWXLlvrss89cvx/OPfdctW/f3jUvR1EKvpuAyiw2NtYsPdmpU6ejllgF/KwyfTdVdVxBryDZ2dlq166dZsyYUej2YGbBve666/TNN9/o/fff1zvvvKOVK1dqyJAhFXUIAIBjTNeuXbVx40bXfT/88IOaN28u6ciEcQkJCa5/2mRmZmrNmjWuCSYBAEBwmMW9glxyySW65JJLCt0WzCy43333nZYsWaJ169apY8eOkqTHH39cl156qR599FHXzNMAAJSFkSNH6qyzztKDDz6oq6++WmvXrtXs2bM1e/ZsSUeqVkaMGKFJkyapVatWSkxM1JgxY9SoUSNXlRgAAAgOHXQf+LNZcPv166dVq1apTp06pnMuST169FB4eLjWrFmjK6+8stB95+TkuJZOYqZcfyiqrN0WqGTbW35s5xVV1h6oDd7lsEq7NFJRpeZFbQu0vFhRx0RZe+HscvV33nknYF5GRkZQ+7OHGdjLCxb12lDWXvmdeeaZWrhwoUaPHq2JEycqMTFR06ZN03XXXWdy7r77bmVnZ2vIkCFKT0/X2WefrSVLligmJiaELQcAoHKig+4DwcyCm5qaqgYNGri2V6tWTXXr1v3TmXInTJhQxi0GABwrevXqpV69egXcHhYWpokTJ2rixIkV2CoAAKomxqBXccyUCwAAAACVA1fQfSAhIUGSlJaWpoYNG5r709LSzKy4CQkJ2rlzp+txhw8f1p49e8zjCxMdHc1SHwDKVLDDKADgWLN///5QNwFAJccVdB8IZhbcpKQkpaena/369SZn+fLlys/PV+fOnSu8zQAAAPjDgQMH1LlzZ3Xu3Jkl1gCUGFfQK0hWVpY2b95sbm/ZskWff/656tatq2bNmv3pLLgnn3yyLr74Yg0ePFizZs1Sbm6uhg0bpn79+jGDOwAAAABUAXTQK8inn36q888/39weNWqUJGnAgAGaO3duULPgvvjiixo2bJi6d++u8PBw9e3bV9OnT6/wYwEAAAAAlL0wx3GcUDcCFSczM1NxcXFatWqVatasGermAMAxIysrS0lJScrIyFDt2rVD3RxfKfhuAiqzqKgoTZ06VZI0cuRIHTp0KMQtAoLHd5N/cAUdAAAAKKWIiAh169bNxABQEnTQjzEFBRPZ2dkhbgkAHFsKfu9SuAYAAAKhg36M2bdvnySpR48eIW4JAByb9u3bRzk3AAAoFB30Y0yjRo20detWOY6jZs2aaevWrcf0eJPMzEw1bdr0mD8PEueiAOfhD5yLI8rqPDiOo3379rHyBgAACIgO+jEmPDxcTZo0UWZmpiSpdu3ax/Qf3gU4D3/gXBzBefgD5+KIsjgPXDkHAABFCQ91AwAAAAAAAFfQAQBAiDFxHqoCx3GUlZVlYqAy4T3rH3TQj1HR0dEaN26coqOjQ92UkOI8/IFzcQTn4Q+ciyM4D+WvYAJToDI7ePCgkpKSQt0MoESYwNQ/whz+XQIAAEIoPz9f27dvr/ITmFbliRc5tsqJY6ucyvLY7AlMw8MZ/ewHXEEHAAAhdaxNYFqVj49jq5w4tsqprI6NK+f+wr9JAAAAAADwATroAAAAAAD4AB30Y9CMGTPUokULxcTEqHPnzlq7dm2om1SuUlJSdOaZZ6pWrVpq0KCB+vTpo40bN7pyDh48qOTkZNWrV081a9ZU3759lZaWFqIWV5yHHnpIYWFhGjFihLnvWDkX27Zt0/XXX6969eopNjZWbdu21aeffmq2O46jsWPHqmHDhoqNjVWPHj20adOmELa4fOTl5WnMmDFKTExUbGysWrZsqX/961+u2Vyr4rlYuXKlLr/8cjVq1EhhYWF64403XNuDOeY9e/bouuuuU+3atVWnTh0NGjTIzOCMkqnqE/JV5ePj2Conjq1yqsrHBkkOjinz5893oqKinOeee8755ptvnMGDBzt16tRx0tLSQt20ctOzZ09nzpw5ztdff+18/vnnzqWXXuo0a9bMycrKMjm33HKL07RpU2fZsmXOp59+6nTp0sU566yzQtjq8rd27VqnRYsWzmmnnebcfvvt5v5j4Vzs2bPHad68uTNw4EBnzZo1zk8//eQsXbrU2bx5s8l56KGHnLi4OOeNN95wvvjiC+eKK65wEhMTnQMHDoSw5WXvgQcecOrVq+e88847zpYtW5wFCxY4NWvWdB577DGTUxXPxbvvvuvcd999zuuvv+5IchYuXOjaHswxX3zxxU67du2c1atXO//73/+cE0880enfv38FHwkAAKhK6KAfYzp16uQkJyeb23l5eU6jRo2clJSUELaqYu3cudOR5KxYscJxHMdJT093IiMjnQULFpic7777zpHkrFq1KlTNLFf79u1zWrVq5bz//vvOueeeazrox8q5+Oc//+mcffbZAbfn5+c7CQkJziOPPGLuS09Pd6Kjo52XXnqpIppYYS677DLnpptuct131VVXOdddd53jOMfGufB20IM55m+//daR5Kxbt87kLF682AkLC3O2bdtWYW0HAABVCyXux5BDhw5p/fr16tGjh7kvPDxcPXr00KpVq0LYsoqVkZEhSapbt64kaf369crNzXWdlzZt2qhZs2ZV9rwkJyfrsssucx2zdOyci7feeksdO3bU3/72NzVo0ECnn366nn76abN9y5YtSk1NdZ2HuLg4de7cuUqdB0k666yztGzZMv3www+SpC+++EIfffSRLrnkEknH1rkoEMwxr1q1SnXq1FHHjh1NTo8ePRQeHq41a9ZUeJsBAEDVwDJrx5Ddu3crLy9P8fHxrvvj4+P1/fffh6hVFSs/P18jRoxQ165ddeqpp0qSUlNTFRUVpTp16rhy4+PjlZqaGoJWlq/58+drw4YNWrdu3VHbjpVz8dNPP2nmzJkaNWqU7r33Xq1bt0633XaboqKiNGDAAHOshX1WqtJ5kKR77rlHmZmZatOmjSIiIpSXl6cHHnhA1113nSQdU+eiQDDHnJqaqgYNGri2V6tWTXXr1q2y5wUAAJQ/rqDjmJKcnKyvv/5a8+fPD3VTQmLr1q26/fbb9eKLLyomJibUzQmZ/Px8nXHGGXrwwQd1+umna8iQIRo8eLBmzZoV6qZVuFdeeUUvvvii5s2bpw0bNuj555/Xo48+queffz7UTcMxqCpMYloWExD6VVWedHXmzJk67bTTzLrSSUlJWrx4sdleWY+rMFVpgtjx48crLCzM9dOmTRuzvbIeVwEmtD020UE/hhx//PGKiIg46hdTWlqaEhISQtSqijNs2DC98847+uCDD9SkSRNzf0JCgg4dOqT09HRXflU8L+vXr9fOnTt1xhlnqFq1aqpWrZpWrFih6dOnq1q1aoqPjz8mzkXDhg31l7/8xXXfySefrF9//VWSzLEeC5+Vu+66S/fcc4/69euntm3b6u9//7tGjhyplJQUScfWuSgQzDEnJCRo586dru2HDx/Wnj17qux5KW8vv/yyRo0apXHjxmnDhg1q166devbsedR59rvs7Gy1a9dOM2bMKHT75MmTNX36dM2aNUtr1qxRjRo11LNnTx08eLCCW1p8K1asUHJyslavXq33339fubm5uuiii5SdnW1yRo4cqbffflsLFizQihUrtH37dl111VUhbHVwmjRpooceekjr16/Xp59+qgsuuEC9e/fWN998I6nyHpfXunXr9NRTT+m0005z3V+Zj++UU07Rjh07zM9HH31ktlXm49q7d6+6du2qyMhILV68WN9++63+/e9/67jjjjM5lfn3CYoQ6kHwqFidOnVyhg0bZm7n5eU5jRs3rtKTxOXn5zvJyclOo0aNnB9++OGo7QUTo7366qvmvu+//77KTYzmOI6TmZnpfPXVV66fjh07Otdff73z1VdfHTPnon///kdNEjdixAgnKSnJcZw/Jgl79NFHzfaMjIwqNTFagbp16zpPPvmk674HH3zQadWqleM4x8a5UIBJ4oo65oJJ4j799FOTs3TpUiaJK4WqOIlpoPdWVZl0sapPunrcccc5zzzzTJU5rqo4Qey4ceOcdu3aFbqtMh+X4zCh7bGMDvoxZv78+U50dLQzd+5c59tvv3WGDBni1KlTx0lNTQ1108rN0KFDnbi4OOfDDz90duzYYX72799vcm655RanWbNmzvLly51PP/3USUpKMp21qs7+knacY+NcrF271qlWrZrzwAMPOJs2bXJefPFFp3r16s7//d//mZyHHnrIqVOnjvPmm286X375pdO7d+9Kv7RYYQYMGOA0btzYLLP2+uuvO8cff7xz9913m5yqeC727dvnfPbZZ85nn33mSHKmTJnifPbZZ84vv/ziOE5wx3zxxRc7p59+urNmzRrno48+clq1asUyayWUk5PjREREHLXc3Q033OBcccUVoWlUGfB20H/88UdHkvPZZ5+58rp16+bcdtttFdu4MrBp0yZHkvPVV185juM4y5YtcyQ5e/fudeU1a9bMmTJlSghaWDKHDx92XnrpJScqKsr55ptvqsxx3XDDDc6IESMcx3F/91fm4xs3bpxTvXp1p2HDhk5iYqJz7bXXmt/jlfm4HMdxTj75ZGfEiBHOX//6V6d+/fpO+/btndmzZ5vtVe33Cf7AJHHHmGuuuUa7du3S2LFjlZqaqvbt22vJkiVHTYZUlcycOVOSdN5557nunzNnjgYOHChJmjp1qsLDw9W3b1/l5OSoZ8+eevLJJyu4pf5wLJyLM888UwsXLtTo0aM1ceJEJSYmatq0aWZiNEm6++67lZ2drSFDhig9PV1nn322lixZUuXG7j/++OMaM2aMbr31Vu3cuVONGjXSzTffrLFjx5qcqnguPv30U51//vnm9qhRoyRJAwYM0Ny5c4M65hdffFHDhg1T9+7dzWdm+vTpFX4sVcGxMolpVZp0sSpOuvrVV18pKSlJBw8eVM2aNbVw4UL95S9/0eeff16pj0uquhPEdu7cWXPnzlXr1q21Y8cOTZgwQeecc46+/vrrSn1cEhPaHsvooB+Dhg0bpmHDhoW6GRXGcZw/zYmJidGMGTMCjhmsyj788EPX7WPlXPTq1Uu9evUKuD0sLEwTJ07UxIkTK7BVFa9WrVqaNm2apk2bFjCnKp6L8847r8jfDcEcc926dTVv3rzyaB7gewWTrtrjfSu71q1b6/PPP1dGRoZeffVVDRgwQCtWrAh1s0qtYILY999/v1L/Y7UwBUuCStJpp52mzp07q3nz5nrllVcUGxsbwpaVXn5+vjp27KgHH3xQknT66afr66+/1qxZszRgwIAQtw7liUniAABASB0rk5hWlUkXq+qkq1FRUTrxxBPVoUMHpaSkqF27dnrssccq/XEdSxPE1qlTRyeddJI2b95c6V83JrQ9dtFBBwAAIRUVFaUOHTpo2bJl5r78/HwtW7ZMSUlJIWxZ2UpMTFRCQoLrODMzM7VmzZpKcZyO42jYsGFauHChli9frsTERNf2Dh06KDIy0nV8Gzdu1K+//lopjs8rPz9fOTk5lf64unfvrq+++kqff/65+enYsaOuu+46E1fm47NlZWXpxx9/VMOGDSv969a1a9ejljH84Ycf1Lx5c0mV//cJAqPEHQAAhNyoUaM0YMAAdezYUZ06ddK0adOUnZ2tG2+8MdRNK5asrCxt3rzZ3N6yZYs+//xz1a1bV82aNdOIESM0adIktWrVSomJiRozZowaNWqkPn36hK7RQUpOTta8efP05ptvqlatWmaca1xcnGJjYxUXF6dBgwZp1KhRqlu3rmrXrq3hw4crKSlJXbp0CXHrizZ69Ghdcsklatasmfbt26d58+bpww8/1NKlSyv1cUlHhjIVzBNQoEaNGqpXr565v7Ie35133qnLL79czZs31/bt2zVu3DhFRESof//+lf51GzlypM466yw9+OCDuvrqq7V27VrNnj1bs2fPliSzln1l/X2CIoR4kjoAAADHcRzn8ccfd5o1a+ZERUU5nTp1clavXh3qJhXbBx984Eg66mfAgAGO4xxZGmnMmDFOfHy8Ex0d7XTv3t3ZuHFjaBsdpMKOS5IzZ84ck3PgwAHn1ltvdY477jinevXqzpVXXuns2LEjdI0O0k033eQ0b97ciYqKcurXr+90797dee+998z2ynpcgXhXcKmsx3fNNdc4DRs2dKKiopzGjRs711xzjbN582azvbIeV4G3337bOfXUU53o6GinTZs2rlncHady/z5BYGGOE8QMWgAAAAAAoFwxBh0AAAAAAB+ggw4AAAAAgA/QQQcAAAAAwAfooAMAAAAA4AN00AEAAAAA8AE66AAAAAAA+AAddAAAAAAAfIAOOgAAAAAAPkAHHQAAAAAAH6CDDgAAAACAD9BBBwAAAADAB+igAwAAAADgA3TQAQAAAADwATroAAAAAAD4AB10AAAAAAB8gA46AAAAAAA+QAcdAAAAAAAfoIMOAAAAAIAP0EEHAAAAAMAH6KADAAAAAOADdNABAAAAAPABOugAAAAAAPgAHXQAAAAAAHyADjoAAAAAAD5ABx0AAAAAAB+ggw4AAAAAgA/QQQcAAAAAwAfooAMAAAAA4AN00AEAAAAA8AE66AAAAAAA+AAddAAAAAAAfIAOOgAAAAAAPkAHHQAAAAAAH6CDDgAAAACAD9BBBwAAAADAB+igAwAAAADgA3TQAQAAAADwATroAAAAAAD4AB10AAAAAAB8gA46AAAAAAA+QAcdAAAAAAAfoIMOAAAAAIAP0EEHAAAAAMAH6KADAAAAAOADdNABAAAAAPABOugAAAAAAPgAHXQAAAAAAHyADjoAAAAAAD5ABx0AAAAAAB+ggw4AAAAAgA/8P6CzL7vynWkeAAAAAElFTkSuQmCC' width=1000.0/>\n",
       "            </div>\n",
       "        "
      ],
      "text/plain": [
       "Canvas(toolbar=Toolbar(toolitems=[('Home', 'Reset original view', 'home', 'home'), ('Back', 'Back to previous …"
      ]
     },
     "metadata": {},
     "output_type": "display_data"
    }
   ],
   "source": [
    "scan_idx_x, scan_idx_y = 45, 45\n",
    "det_image_selected = fourdstem_array[scan_idx_y, scan_idx_x]\n",
    "fig, ax = plt.subplots(1, 2, figsize=(10, 5))\n",
    "ax[0].imshow(np.abs(sample_image), \n",
    "             cmap='gray')\n",
    "ax[0].scatter(scan_idx_x, scan_idx_y, c='r', marker='x', alpha=1)\n",
    "ax[0].set_title('Sample')\n",
    "\n",
    "ax[1].imshow(np.abs(det_image_selected), cmap='gray')\n",
    "ax[1].axhline(detector_image.shape[0]/2, color='lightgrey', linestyle='--')\n",
    "ax[1].axvline(detector_image.shape[1]/2, color='lightgrey', linestyle='--')\n",
    "ax[1].set_title('Detector Image')\n",
    "plt.show()"
   ]
  }
 ],
 "metadata": {
  "kernelspec": {
   "display_name": "temgym",
   "language": "python",
   "name": "python3"
  },
  "language_info": {
   "codemirror_mode": {
    "name": "ipython",
    "version": 3
   },
   "file_extension": ".py",
   "mimetype": "text/x-python",
   "name": "python",
   "nbconvert_exporter": "python",
   "pygments_lexer": "ipython3",
   "version": "3.12.6"
  }
 },
 "nbformat": 4,
 "nbformat_minor": 2
}
