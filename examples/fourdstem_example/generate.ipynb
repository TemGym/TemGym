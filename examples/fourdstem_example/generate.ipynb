{
 "cells": [
  {
   "cell_type": "code",
   "execution_count": 1,
   "metadata": {},
   "outputs": [],
   "source": [
    "import os\n",
    "os.environ[\"XLA_PYTHON_CLIENT_MEM_FRACTION\"] = \".01\"\n",
    "\n",
    "from jax import numpy as jnp\n",
    "import jax\n",
    "from jax.scipy.interpolate import RegularGridInterpolator\n",
    "\n",
    "import temgymbasic.jax_components as comp\n",
    "from temgymbasic.jax_run import run_to_end, run_to_component\n",
    "from temgymbasic.jax_ray import Ray, propagate\n",
    "from temgymbasic.jax_utils import get_pytree_idx_from_model, get_pixel_coords\n",
    "import matplotlib.pyplot as plt\n",
    "\n",
    "import tqdm.auto as tqdm\n",
    "%matplotlib widget\n",
    "import numpy as np\n",
    "\n",
    "# set jax to use cpu\n",
    "jax.config.update(\"jax_platform_name\", \"cpu\")\n",
    "# jax.config.update(\"jax_enable_x64\", True)"
   ]
  },
  {
   "cell_type": "markdown",
   "metadata": {},
   "source": [
    "SYMPY Mathematics just to understand how to model the descanner with descan error, and how the variables propagate to the end. Feel free to ignore. "
   ]
  },
  {
   "cell_type": "code",
   "execution_count": 2,
   "metadata": {},
   "outputs": [
    {
     "data": {
      "text/latex": [
       "$\\displaystyle \\left[\\begin{matrix}x_{out}\\\\y_{out}\\\\\\theta_{x out}\\\\\\theta_{y out}\\\\1\\end{matrix}\\right] = \\left[\\begin{matrix}A_{xx} scan_{x} + A_{xy} scan_{y} + B_{xx} \\alpha \\cos{\\left(\\phi \\right)} + B_{xy} \\alpha \\sin{\\left(\\phi \\right)} + \\delta_{x}\\\\A_{yx} scan_{x} + A_{yy} scan_{y} + B_{yx} \\alpha \\cos{\\left(\\phi \\right)} + B_{yy} \\alpha \\sin{\\left(\\phi \\right)} + \\delta_{y}\\\\C_{xx} scan_{x} + C_{xy} scan_{y} + D_{xx} \\alpha \\cos{\\left(\\phi \\right)} + D_{xy} \\alpha \\sin{\\left(\\phi \\right)} + \\delta_{\\theta x}\\\\C_{yx} scan_{x} + C_{yy} scan_{y} + D_{yx} \\alpha \\cos{\\left(\\phi \\right)} + D_{yy} \\alpha \\sin{\\left(\\phi \\right)} + \\delta_{\\theta y}\\\\1\\end{matrix}\\right]$"
      ],
      "text/plain": [
       "Eq(Matrix([\n",
       "[      x_out],\n",
       "[      y_out],\n",
       "[theta_x_out],\n",
       "[theta_y_out],\n",
       "[          1]]), Matrix([\n",
       "[      A_xx*scan_{x} + A_xy*scan_{y} + B_xx*\\alpha*cos(\\phi) + B_xy*\\alpha*sin(\\phi) + delta_x],\n",
       "[      A_yx*scan_{x} + A_yy*scan_{y} + B_yx*\\alpha*cos(\\phi) + B_yy*\\alpha*sin(\\phi) + delta_y],\n",
       "[C_xx*scan_{x} + C_xy*scan_{y} + D_xx*\\alpha*cos(\\phi) + D_xy*\\alpha*sin(\\phi) + delta_theta_x],\n",
       "[C_yx*scan_{x} + C_yy*scan_{y} + D_yx*\\alpha*cos(\\phi) + D_yy*\\alpha*sin(\\phi) + delta_theta_y],\n",
       "[                                                                                            1]]))"
      ]
     },
     "metadata": {},
     "output_type": "display_data"
    },
    {
     "data": {
      "text/latex": [
       "$\\displaystyle x_{out} = A_{xx} scan_{x} + A_{xy} scan_{y} + B_{xx} \\alpha \\cos{\\left(\\phi \\right)} + B_{xy} \\alpha \\sin{\\left(\\phi \\right)} + \\delta_{x}$"
      ],
      "text/plain": [
       "Eq(x_out, A_xx*scan_{x} + A_xy*scan_{y} + B_xx*\\alpha*cos(\\phi) + B_xy*\\alpha*sin(\\phi) + delta_x)"
      ]
     },
     "metadata": {},
     "output_type": "display_data"
    },
    {
     "data": {
      "text/latex": [
       "$\\displaystyle y_{out} = A_{yx} scan_{x} + A_{yy} scan_{y} + B_{yx} \\alpha \\cos{\\left(\\phi \\right)} + B_{yy} \\alpha \\sin{\\left(\\phi \\right)} + \\delta_{y}$"
      ],
      "text/plain": [
       "Eq(y_out, A_yx*scan_{x} + A_yy*scan_{y} + B_yx*\\alpha*cos(\\phi) + B_yy*\\alpha*sin(\\phi) + delta_y)"
      ]
     },
     "metadata": {},
     "output_type": "display_data"
    },
    {
     "data": {
      "text/latex": [
       "$\\displaystyle \\theta_{x out} = C_{xx} scan_{x} + C_{xy} scan_{y} + D_{xx} \\alpha \\cos{\\left(\\phi \\right)} + D_{xy} \\alpha \\sin{\\left(\\phi \\right)} + \\delta_{\\theta x}$"
      ],
      "text/plain": [
       "Eq(theta_x_out, C_xx*scan_{x} + C_xy*scan_{y} + D_xx*\\alpha*cos(\\phi) + D_xy*\\alpha*sin(\\phi) + delta_theta_x)"
      ]
     },
     "metadata": {},
     "output_type": "display_data"
    },
    {
     "data": {
      "text/latex": [
       "$\\displaystyle \\theta_{y out} = C_{yx} scan_{x} + C_{yy} scan_{y} + D_{yx} \\alpha \\cos{\\left(\\phi \\right)} + D_{yy} \\alpha \\sin{\\left(\\phi \\right)} + \\delta_{\\theta y}$"
      ],
      "text/plain": [
       "Eq(theta_y_out, C_yx*scan_{x} + C_yy*scan_{y} + D_yx*\\alpha*cos(\\phi) + D_yy*\\alpha*sin(\\phi) + delta_theta_y)"
      ]
     },
     "metadata": {},
     "output_type": "display_data"
    },
    {
     "name": "stdout",
     "output_type": "stream",
     "text": [
      "(-A_xx*B_yy*scan_{x} - A_xy*B_yy*scan_{y} + A_yx*B_xy*scan_{x} + A_yy*B_xy*scan_{y} + B_xy*delta_y - B_xy*y_out - B_yy*delta_x + B_yy*x_out)/(B_xx*B_yy - B_xy*B_yx)\n",
      "(A_xx*B_yx*scan_{x} + A_xy*B_yx*scan_{y} - A_yx*B_xx*scan_{x} - A_yy*B_xx*scan_{y} - B_xx*delta_y + B_xx*y_out + B_yx*delta_x - B_yx*x_out)/(B_xx*B_yy - B_xy*B_yx)\n"
     ]
    }
   ],
   "source": [
    "import sympy as sp\n",
    "\n",
    "def create_2d_rotation_matrix_5x5(theta, flip_y=False):\n",
    "    \"\"\"\n",
    "    Returns a 5x5 sympy Matrix that applies a 2D rotation (for x,y and their slopes)\n",
    "    by angle 'theta', with an option to flip the y-axis.\n",
    "    \"\"\"\n",
    "    c = sp.cos(theta)\n",
    "    s = sp.sin(theta)\n",
    "\n",
    "    # By default: normal rotation blocks\n",
    "    #     [ c  -s ]\n",
    "    #     [ s   c ]\n",
    "    # If we 'flip_y', we reflect the final y-coordinates about the x-axis, i.e.\n",
    "    # (x, y) -> (x, -y) after rotation. That yields:\n",
    "    #     x' =  c*x - s*y\n",
    "    #     y' = -s*x - c*y\n",
    "    if flip_y:\n",
    "        # Rotation followed by flip in y\n",
    "        m11 =  c\n",
    "        m12 = -s\n",
    "        m21 = -s\n",
    "        m22 = -c\n",
    "    else:\n",
    "        # Normal rotation\n",
    "        m11 =  c\n",
    "        m12 = -s\n",
    "        m21 =  s\n",
    "        m22 =  c\n",
    "\n",
    "    M = sp.eye(5)  # Start as 5x5 identity\n",
    "    # Fill in the (x, y) rotation/flip block:\n",
    "    M[0, 0] = m11\n",
    "    M[0, 1] = m12\n",
    "    M[1, 0] = m21\n",
    "    M[1, 1] = m22\n",
    "\n",
    "    # # Fill in the (dx, dy) rotation/flip block:\n",
    "    # M[2, 2] = m11\n",
    "    # M[2, 3] = m12\n",
    "    # M[3, 2] = m21\n",
    "    # M[3, 3] = m22\n",
    "\n",
    "    return M\n",
    "\n",
    "x_out, y_out, theta_x_out, theta_y_out = sp.symbols('x_out y_out theta_x_out theta_y_out')\n",
    "x_in, y_in, theta_x_in, theta_y_in = sp.symbols('x_in y_in theta_x_in theta_y_in')\n",
    "\n",
    "# Lit pixels from Point Source\n",
    "# Make a 5x5 matrix for use in sympy with Axx, Axy, Ayx, Ayy, Bxx, Bxy, Byx, Byy... etc values in each quadrant\n",
    "A_xx, A_xy, A_yx, A_yy = sp.symbols('A_xx A_xy A_yx A_yy', real=True)\n",
    "B_xx, B_xy, B_yx, B_yy = sp.symbols('B_xx B_xy B_yx B_yy', real=True)\n",
    "C_xx, C_xy, C_yx, C_yy = sp.symbols('C_xx C_xy C_yx C_yy', real=True)\n",
    "D_xx, D_xy, D_yx, D_yy = sp.symbols('D_xx D_xy D_yx D_yy', real=True)\n",
    "delta_x, delta_y, delta_theta_x, delta_theta_y = sp.symbols('delta_x delta_y delta_theta_x delta_theta_y', real=True)\n",
    "\n",
    "#Populate the 5x5 matrix with the these symbols, with 0s in the bottom row, and 1 in the bottom right corner\n",
    "TransferMatrix = sp.Matrix([[A_xx, A_xy, B_xx, B_xy, delta_x],\n",
    "                            [A_yx, A_yy, B_yx, B_yy, delta_y],\n",
    "                            [C_xx, C_xy, D_xx, D_xy, delta_theta_x],\n",
    "                            [C_yx, C_yy, D_yx, D_yy, delta_theta_y],\n",
    "                            [0, 0, 0, 0, 1]])\n",
    "\n",
    "# create column vector of output coordinates, x_out, y_out, theta_x_out, theta_y_out 1\n",
    "out_coords = sp.Matrix([x_out, y_out, theta_x_out, theta_y_out, 1])\n",
    "semi_conv, phi = sp.symbols(r'\\alpha, \\phi')\n",
    "\n",
    "#Now for the incoordinates, I want the vector to be populated via the following:\n",
    "# x_in = scan_pos_x, y_in = scan_pos_y, but theta_x_in and theta_y_in should be a function to define a cone of rays \n",
    "# with a semi-convergence angle.\n",
    "theta_x_in = semi_conv * sp.cos(phi)\n",
    "theta_y_in = semi_conv * sp.sin(phi)\n",
    "scan_position_x, scan_position_y = sp.symbols('scan_{x} scan_{y}')\n",
    "\n",
    "in_coords = sp.Matrix([scan_position_x, scan_position_y, theta_x_in, theta_y_in, 1])\n",
    "transfer_equation = sp.Eq(out_coords, TransferMatrix * in_coords, evaluate=False)\n",
    "# reverse_equation = sp.Eq(in_coords, InvertedTransferMatrix * out_coords, evaluate=False)\n",
    "\n",
    "x_out_eq = sp.Eq(out_coords[0], transfer_equation.rhs[0])\n",
    "y_out_eq = sp.Eq(out_coords[1], transfer_equation.rhs[1])\n",
    "theta_x_out_eq = sp.Eq(out_coords[2], transfer_equation.rhs[2])\n",
    "theta_y_out_eq = sp.Eq(out_coords[3], transfer_equation.rhs[3])\n",
    "\n",
    "display(transfer_equation)\n",
    "display(x_out_eq)\n",
    "display(y_out_eq)\n",
    "display(theta_x_out_eq)\n",
    "display(theta_y_out_eq)\n",
    "\n",
    "#replace alpha * cos(phi) with u and alpha * sin(phi) with v, and use both equations to solve for u and v\n",
    "u, v = sp.symbols('u v')\n",
    "x_out_eq = x_out_eq.subs({theta_x_in: u, theta_y_in: v})\n",
    "y_out_eq = y_out_eq.subs({theta_x_in: u, theta_y_in: v})\n",
    "\n",
    "u_v_eq = sp.solve([x_out_eq, y_out_eq], [u, v])\n",
    "print(u_v_eq[u])\n",
    "print(u_v_eq[v])"
   ]
  },
  {
   "cell_type": "markdown",
   "metadata": {},
   "source": [
    "In the case where we are specific about the propagation and descan steps, we have the following, and for a ray with 0 initial slope. "
   ]
  },
  {
   "cell_type": "code",
   "execution_count": 3,
   "metadata": {},
   "outputs": [
    {
     "data": {
      "text/latex": [
       "$\\displaystyle \\left[\\begin{matrix}x_{out}\\\\y_{out}\\\\\\theta_{x out}\\\\\\theta_{y out}\\\\1\\end{matrix}\\right] = \\left[\\begin{matrix}\\alpha z_{def} \\left(E_{xy} \\cos{\\left(\\Omega \\right)} - E_{yy} \\sin{\\left(\\Omega \\right)} + E_{dxy} z_{samp}\\right) \\sin{\\left(\\phi \\right)} + \\alpha \\left(z_{def} \\left(E_{xx} \\cos{\\left(\\Omega \\right)} - E_{yx} \\sin{\\left(\\Omega \\right)} + E_{dxx} z_{samp}\\right) + z_{samp}\\right) \\cos{\\left(\\phi \\right)} - scan_{x} \\cos{\\left(\\Omega \\right)} + scan_{y} \\sin{\\left(\\Omega \\right)} + scan_{x} \\left(E_{xx} \\cos{\\left(\\Omega \\right)} - E_{yx} \\sin{\\left(\\Omega \\right)} + E_{dxx} z_{samp}\\right) + scan_{y} \\left(E_{xy} \\cos{\\left(\\Omega \\right)} - E_{yy} \\sin{\\left(\\Omega \\right)} + E_{dxy} z_{samp}\\right)\\\\- \\alpha z_{def} \\left(E_{xx} \\sin{\\left(\\Omega \\right)} + E_{yx} \\cos{\\left(\\Omega \\right)} - E_{dyx} z_{samp}\\right) \\cos{\\left(\\phi \\right)} - \\alpha \\left(z_{def} \\left(E_{xy} \\sin{\\left(\\Omega \\right)} + E_{yy} \\cos{\\left(\\Omega \\right)} - E_{dyy} z_{samp}\\right) - z_{samp}\\right) \\sin{\\left(\\phi \\right)} + scan_{x} \\sin{\\left(\\Omega \\right)} + scan_{y} \\cos{\\left(\\Omega \\right)} - scan_{x} \\left(E_{xx} \\sin{\\left(\\Omega \\right)} + E_{yx} \\cos{\\left(\\Omega \\right)} - E_{dyx} z_{samp}\\right) - scan_{y} \\left(E_{xy} \\sin{\\left(\\Omega \\right)} + E_{yy} \\cos{\\left(\\Omega \\right)} - E_{dyy} z_{samp}\\right)\\\\E_{dxx} scan_{x} + E_{dxy} \\alpha z_{def} \\sin{\\left(\\phi \\right)} + E_{dxy} scan_{y} + \\alpha \\left(E_{dxx} z_{def} + 1\\right) \\cos{\\left(\\phi \\right)}\\\\E_{dyx} \\alpha z_{def} \\cos{\\left(\\phi \\right)} + E_{dyx} scan_{x} + E_{dyy} scan_{y} + \\alpha \\left(E_{dyy} z_{def} + 1\\right) \\sin{\\left(\\phi \\right)}\\\\1\\end{matrix}\\right]$"
      ],
      "text/plain": [
       "Eq(Matrix([\n",
       "[      x_out],\n",
       "[      y_out],\n",
       "[theta_x_out],\n",
       "[theta_y_out],\n",
       "[          1]]), Matrix([\n",
       "[ \\alpha*z_def*(E_xy*cos(Omega) - E_yy*sin(Omega) + E_{dxy}*z_samp)*sin(\\phi) + \\alpha*(z_def*(E_xx*cos(Omega) - E_yx*sin(Omega) + E_{dxx}*z_samp) + z_samp)*cos(\\phi) - scan_x*cos(Omega) + scan_y*sin(Omega) + scan_{x}*(E_xx*cos(Omega) - E_yx*sin(Omega) + E_{dxx}*z_samp) + scan_{y}*(E_xy*cos(Omega) - E_yy*sin(Omega) + E_{dxy}*z_samp)],\n",
       "[-\\alpha*z_def*(E_xx*sin(Omega) + E_yx*cos(Omega) - E_{dyx}*z_samp)*cos(\\phi) - \\alpha*(z_def*(E_xy*sin(Omega) + E_yy*cos(Omega) - E_{dyy}*z_samp) - z_samp)*sin(\\phi) + scan_x*sin(Omega) + scan_y*cos(Omega) - scan_{x}*(E_xx*sin(Omega) + E_yx*cos(Omega) - E_{dyx}*z_samp) - scan_{y}*(E_xy*sin(Omega) + E_yy*cos(Omega) - E_{dyy}*z_samp)],\n",
       "[                                                                                                                                                                                                                                  E_{dxx}*scan_{x} + E_{dxy}*\\alpha*z_def*sin(\\phi) + E_{dxy}*scan_{y} + \\alpha*(E_{dxx}*z_def + 1)*cos(\\phi)],\n",
       "[                                                                                                                                                                                                                                  E_{dyx}*\\alpha*z_def*cos(\\phi) + E_{dyx}*scan_{x} + E_{dyy}*scan_{y} + \\alpha*(E_{dyy}*z_def + 1)*sin(\\phi)],\n",
       "[                                                                                                                                                                                                                                                                                                                                            1]]))"
      ]
     },
     "metadata": {},
     "output_type": "display_data"
    },
    {
     "data": {
      "text/latex": [
       "$\\displaystyle x_{out} = - scan_{x} \\cos{\\left(\\Omega \\right)} + scan_{y} \\sin{\\left(\\Omega \\right)} + scan_{x} \\left(E_{xx} \\cos{\\left(\\Omega \\right)} - E_{yx} \\sin{\\left(\\Omega \\right)} + E_{dxx} z_{samp}\\right) + scan_{y} \\left(E_{xy} \\cos{\\left(\\Omega \\right)} - E_{yy} \\sin{\\left(\\Omega \\right)} + E_{dxy} z_{samp}\\right)$"
      ],
      "text/plain": [
       "Eq(x_out, -scan_x*cos(Omega) + scan_y*sin(Omega) + scan_{x}*(E_xx*cos(Omega) - E_yx*sin(Omega) + E_{dxx}*z_samp) + scan_{y}*(E_xy*cos(Omega) - E_yy*sin(Omega) + E_{dxy}*z_samp))"
      ]
     },
     "metadata": {},
     "output_type": "display_data"
    },
    {
     "data": {
      "text/latex": [
       "$\\displaystyle y_{out} = scan_{x} \\sin{\\left(\\Omega \\right)} + scan_{y} \\cos{\\left(\\Omega \\right)} - scan_{x} \\left(E_{xx} \\sin{\\left(\\Omega \\right)} + E_{yx} \\cos{\\left(\\Omega \\right)} - E_{dyx} z_{samp}\\right) - scan_{y} \\left(E_{xy} \\sin{\\left(\\Omega \\right)} + E_{yy} \\cos{\\left(\\Omega \\right)} - E_{dyy} z_{samp}\\right)$"
      ],
      "text/plain": [
       "Eq(y_out, scan_x*sin(Omega) + scan_y*cos(Omega) - scan_{x}*(E_xx*sin(Omega) + E_yx*cos(Omega) - E_{dyx}*z_samp) - scan_{y}*(E_xy*sin(Omega) + E_yy*cos(Omega) - E_{dyy}*z_samp))"
      ]
     },
     "metadata": {},
     "output_type": "display_data"
    },
    {
     "data": {
      "text/latex": [
       "$\\displaystyle \\theta_{x out} = E_{dxx} scan_{x} + E_{dxy} scan_{y}$"
      ],
      "text/plain": [
       "Eq(theta_x_out, E_{dxx}*scan_{x} + E_{dxy}*scan_{y})"
      ]
     },
     "metadata": {},
     "output_type": "display_data"
    },
    {
     "data": {
      "text/latex": [
       "$\\displaystyle \\theta_{y out} = E_{dyx} scan_{x} + E_{dyy} scan_{y}$"
      ],
      "text/plain": [
       "Eq(theta_y_out, E_{dyx}*scan_{x} + E_{dyy}*scan_{y})"
      ]
     },
     "metadata": {},
     "output_type": "display_data"
    }
   ],
   "source": [
    "import sympy as sp\n",
    "\n",
    "defocus, sample_to_det_z, scan_x, scan_y = sp.symbols('z_def z_samp scan_x scan_y', real=True)\n",
    "E_xx, E_xy, E_yx, E_yy, E_dxx, E_dxy, E_dyx, E_dyy = sp.symbols(r'E_xx E_xy E_yx E_yy E_{dxx} E_{dxy} E_{dyx} E_{dyy}', real=True)\n",
    "rot = sp.symbols('Omega', real=True)\n",
    "\n",
    "DefocusMatrix = sp.Matrix([[1, 0, defocus, 0, 0],\n",
    "                            [0, 1, 0, defocus, 0],\n",
    "                            [0, 0, 1, 0, 0],\n",
    "                            [0, 0, 0, 1, 0],\n",
    "                            [0, 0, 0, 0, 1]])\n",
    "\n",
    "DescannerMatrixError = sp.Matrix([[E_xx, E_xy, 0, 0, -scan_x],\n",
    "                            [E_yx, E_yy, 0, 0, -scan_y],\n",
    "                            [E_dxx, E_dxy, 1, 0, 0],\n",
    "                            [E_dyx, E_dyy, 0, 1, 0],\n",
    "                            [0, 0, 0, 0, 1]])\n",
    "\n",
    "DescannerMatrixNoError = sp.Matrix([[1, 0, 0, 0, -scan_x],\n",
    "                                    [0, 1, 0, 0, -scan_y],\n",
    "                                    [0, 0, 1, 0, 0],\n",
    "                                    [0, 0, 0, 1, 0],\n",
    "                                    [0, 0, 0, 0, 1]])\n",
    "\n",
    "SampleDetMatrix = sp.Matrix([[1, 0, sample_to_det_z, 0, 0],\n",
    "                            [0, 1, 0, sample_to_det_z, 0],\n",
    "                            [0, 0, 1, 0, 0],\n",
    "                            [0, 0, 0, 1, 0],\n",
    "                            [0, 0, 0, 0, 1]])\n",
    "\n",
    "RotationMatrix = create_2d_rotation_matrix_5x5(rot, flip_y=True)\n",
    "\n",
    "TransferMatrix = SampleDetMatrix * RotationMatrix * DescannerMatrixError * DefocusMatrix\n",
    "\n",
    "transfer_equation = sp.Eq(out_coords, TransferMatrix * in_coords, evaluate=False)\n",
    "\n",
    "display(transfer_equation.simplify())\n",
    "\n",
    "x_out_eq = sp.Eq(out_coords[0], transfer_equation.rhs[0])\n",
    "y_out_eq = sp.Eq(out_coords[1], transfer_equation.rhs[1])\n",
    "\n",
    "r_sqr = x_out_eq.rhs ** 2 + y_out_eq.rhs ** 2\n",
    "theta_x_out_eq = sp.Eq(out_coords[2], transfer_equation.rhs[2])\n",
    "theta_y_out_eq = sp.Eq(out_coords[3], transfer_equation.rhs[3])\n",
    "\n",
    "#replace alpha with 0\n",
    "x_out_eq = x_out_eq.subs({semi_conv: 0})\n",
    "y_out_eq = y_out_eq.subs({semi_conv: 0})\n",
    "theta_x_out_eq = theta_x_out_eq.subs({semi_conv: 0})\n",
    "theta_y_out_eq = theta_y_out_eq.subs({semi_conv: 0})\n",
    "\n",
    "display(x_out_eq.simplify())\n",
    "display(y_out_eq.simplify())\n",
    "display(theta_x_out_eq)\n",
    "display(theta_y_out_eq)\n",
    "\n"
   ]
  },
  {
   "cell_type": "markdown",
   "metadata": {},
   "source": [
    "Begin by importing test image"
   ]
  },
  {
   "cell_type": "code",
   "execution_count": 4,
   "metadata": {},
   "outputs": [],
   "source": [
    "from scipy.ndimage import zoom\n",
    "\n",
    "sample_image = plt.imread(r'SilverFast_Resolution_Target_USAF_1951.png')[:, :, 0]\n",
    "image_shape = sample_image.shape\n",
    "\n",
    "#remove the black pixel border on the edges\n",
    "sample_image = sample_image[1:-1, 1:-1]\n",
    "\n",
    "# Downsample the sample_image by a factor of 2\n",
    "downsample_factor = 0.5\n",
    "sample_image = zoom(sample_image, downsample_factor)\n",
    "sample_image_shape = sample_image.shape\n",
    "\n",
    "\n",
    "sample_image = jnp.array(sample_image, dtype=jnp.complex64)"
   ]
  },
  {
   "cell_type": "markdown",
   "metadata": {},
   "source": [
    "Modelling Descan Error: In order to determine how the descan error description should look like, I thought only about what basic operations a descanner should apply so that we have a 5x5 coordinate transform that is still invertible, and I used jax to find where the operations I apply would populate the jacobian, which has helped me discover the following analysis. \n",
    "\n",
    "Importantly, even in the non-linear case (not yet demonstrated in this notebook but can be soon) we can always find a polynomial which we can then find roots of, that relate outgoing coordinates (positions and slopes), EXCEPT in certain circumstances like when a lens performs perfect imaging from the object plane to the image plane. In this case, there is no single angle that maps positions to positions. When certain coeffients in the polynomial description relating coordinates are zero, you will know you are in this regime, and there is no direct mapping. This is an advantage to this approach, that I don't see with an optimiser being sent at the model to find where rays go - with gradients in jax we will always be able to find a simpler polynomial we can find roots of (if certain terms exist) to tell us what angle ray will take us back to the input plane. \n",
    "\n",
    "All of this means that from my limited understanding so far I don't think an optimiser is entirely neccessary in the way it was implemented in pytorch: This does not mean I don't think an optimiser won't be needed to solve other parts of this problem, or be used in a different way, just strictly for ray tracing in this context: I can also write an optimiser to find where rays should go, and implement in jax if needed.\n",
    "\n",
    "For now though here is why I went with the approach of using gradients to obtain a polynomial coefficients to map one plane to another, and did not set out to demonstrate what you had in Pytorch:\n",
    "\n",
    "1: An optimiser won't understand if the setup of the system has a 1 to 1 mapping from input plane to output plane. With the polynomial coefficients I get from gradients, if the terms B (see matrix below) are zero, we know we are in perfect imaging and no unique angle mapping from input plane to output plane exists.  \n",
    "\n",
    "2: An optimiser won't understand if there are multiple solutions for paths through the system, where as with a polynomial description we know how many roots there are. \n",
    "\n",
    "3: One ray and it's gradients characterises the system and all it's coefficients each time with our nmethod. (It can even tell you the phase an amplitude of a local description around the wavefront if needed, not yet implemented), so we only need to send one ray through the system.\n",
    "\n",
    "With that noted here is the model we have for descan error:\n",
    "\n",
    "The overall matrix description we aiming for is as follows: (whereby we did not restrict ourselves to writing matrices for each component to discover the terms in this matrix, it's just a convenient representation. ***We have noted your critique for TemGym that components should be simple and apply basic operations, and not be restricted to matrices when writing this new version!***)\n",
    "\n",
    "***NOTE ABOUT TESTS:*** There are some tests for the absolute basics, but nothing for this 4D stem calibration now. That is next on my to do list also if you don't have time do so!\n",
    "\n",
    "$\\displaystyle \n",
    "\\left(\\begin{matrix} \n",
    "x_{out} \\\\[0.3em] \n",
    "y_{out} \\\\[0.3em] \n",
    "\\theta_{x-out} \\\\[0.3em] \n",
    "\\theta_{y-out} \\\\[0.3em]\n",
    "1 \n",
    "\\end{matrix}\\right)\n",
    "\\;=\\;\n",
    "\\left(\\begin{matrix} \n",
    "A_{xx} & A_{xy} & B_{xx} & B_{xy} & {\\Delta}x \\\\[0.5em] \n",
    "A_{yx} & A_{yy} & B_{yx} & B_{yy} & {\\Delta}y \\\\[0.5em] \n",
    "C_{xx} & C_{xy} & D_{xx} & D_{xy} & {\\Delta}\\theta_{x} \\\\[0.5em] \n",
    "C_{yx} & C_{yy} & D_{yx} & D_{yy} & {\\Delta}\\theta_{y} \\\\[0.5em] \n",
    "0      & 0      & 0      & 0      & 1 \n",
    "\\end{matrix}\\right)\n",
    "\\left(\\begin{matrix} \n",
    "x_{in} \\\\[0.3em] \n",
    "y_{in} \\\\[0.3em] \n",
    "\\theta_{x-in} \\\\[0.3em] \n",
    "\\theta_{y-in} \\\\[0.3em]\n",
    "1 \n",
    "\\end{matrix}\\right)$\n",
    "\n",
    "For an ideal descanner to perform it's job, and have a matrix that is invertible I have come up with the following:\n",
    "\n",
    "$\\displaystyle \n",
    "\\left(\\begin{matrix} \n",
    "x_{out} \\\\[0.3em] \n",
    "y_{out} \\\\[0.3em] \n",
    "\\theta_{x-out} \\\\[0.3em] \n",
    "\\theta_{y-out} \\\\[0.3em]\n",
    "1 \n",
    "\\end{matrix}\\right)\n",
    "\\;=\\;\n",
    "\\left(\\begin{matrix} \n",
    "1 & 0 & 0 & 0 & {\\Delta}scan-pos_x \\\\[0.5em]  \n",
    "0 & 1 & 0 & 0 & {\\Delta}scan-pos_y \\\\[0.5em]  \n",
    "0 & 0 & 1 & 0 & 0 \\\\[0.5em]  \n",
    "0 & 0 & 0 & 1 & 0 \\\\[0.5em]  \n",
    "0 & 0 & 0 & 0 & 1\n",
    "\\end{matrix}\\right)\n",
    "\\left(\\begin{matrix} \n",
    "x_{in} \\\\[0.3em] \n",
    "y_{in} \\\\[0.3em] \n",
    "\\theta_{x-in} \\\\[0.3em] \n",
    "\\theta_{y-in} \\\\[0.3em]\n",
    "1 \n",
    "\\end{matrix}\\right)$\n",
    "\n",
    "Where are the descan error terms in the matrix? \n",
    "\n",
    "Hidden in the Axx, Ayy and Cxx, Cyy positions: Axx and Ayy for descan position error, because they are the values \n",
    "that change outgoing position as a function of incoming position (A is actually the magnification value too in ABCD matrices). \n",
    "\n",
    "Cxx and Cyy because they are the values that affect outgoing angle as a function of incoming position.\n",
    "\n",
    "$\\displaystyle \n",
    "\\left(\\begin{matrix} \n",
    "x_{out} \\\\[0.3em] \n",
    "y_{out} \\\\[0.3em] \n",
    "\\theta_{x-out} \\\\[0.3em] \n",
    "\\theta_{y-out} \\\\[0.3em]\n",
    "1 \n",
    "\\end{matrix}\\right)\n",
    "\\;=\\;\n",
    "\\left(\\begin{matrix} \n",
    "DescanError \\; pos_{xx} & DescanError \\; pos_{xy} & 0 & 0 & {\\Delta}scan-pos_x \\\\[0.5em]  \n",
    "DescanError \\; pos_{yx} & DescanError \\; pos_{yy} & 0 & 0 & {\\Delta}scan-pos_y \\\\[0.5em]  \n",
    "DescanError \\; \\theta_{xx} & DescanError \\; \\theta_{xy} & 1 & 0 & 0 \\\\[0.5em]  \n",
    "DescanError \\; \\theta_{yx} & DescanError \\; \\theta_{yy} & 0 & 1 & 0 \\\\[0.5em]  \n",
    "0 & 0 & 0 & 0 & 1\n",
    "\\end{matrix}\\right)\n",
    "\\left(\\begin{matrix} \n",
    "x_{in} \\\\[0.3em] \n",
    "y_{in} \\\\[0.3em] \n",
    "\\theta_{x-in} \\\\[0.3em] \n",
    "\\theta_{y-in} \\\\[0.3em]\n",
    "1 \n",
    "\\end{matrix}\\right)$\n",
    "\n",
    "The bad news is this matrix changes it's ${\\Delta}scan-pos_x$ and ${\\Delta}scan-pos_y$ values each time, but the internal 4x4 matrix values are constant. \n",
    "\n",
    "Of course if there are mixed errors then they show up as cross terms in the matrix, and if there are errors as a function of input slope $\\theta_{in}$, they occupy the B and D quadrants. \n",
    "\n",
    "Ultimately, I think that in the linear case this should be the transfer matrix one is trying to figure out from the 4D stem dataset. \n"
   ]
  },
  {
   "cell_type": "markdown",
   "metadata": {},
   "source": [
    "Now we demonstrate the newer version of temgym to try and generate a forward model of the 4D stem overfocus experiment. \n",
    "\n",
    "***Set input Parameters***"
   ]
  },
  {
   "cell_type": "code",
   "execution_count": 5,
   "metadata": {},
   "outputs": [],
   "source": [
    "Axx, Ayy, Cxx, Cyy = 4, 3, -5, -4 # Normal Descan Error terms Axx, Ayy, Cxx, Cyy in transfer matrix\n",
    "Axy, Ayx, Cxy, Cyx = 6, -7, -3, 5 # Cross Descan Error terms Axy, Ayx, Cxy, Cyx in transfer matrix\n",
    "Axx, Ayy, Cxx, Cyy = 1, 1, 0, 0\n",
    "Axy, Ayx, Cxy, Cyx = 0, 0, 0, 0\n",
    "\n",
    "descan_error = [Axx, Axy, Ayx, Ayy, Cxx, Cxy, Cyx, Cyy]\n",
    "\n",
    "#Set up the parameters for the simulation\n",
    "defocus = 0.01\n",
    "semi_conv = 0.05\n",
    "camera_length = 1.0\n",
    "scan_size = sample_image_shape\n",
    "det_size = (64, 64)\n",
    "scan_px_size = 0.0001\n",
    "det_px_size= 0.002\n",
    "rotation = 45\n",
    "\n",
    "sample_image_shape = sample_image.shape  # (n_rows, n_cols)\n",
    "\n",
    "sample_extent_x_half = sample_image_shape[1] * scan_px_size / 2\n",
    "sample_extent_y_half = sample_image_shape[0] * scan_px_size / 2\n",
    "\n",
    "sample_coords_y = jnp.linspace(-sample_extent_y_half, sample_extent_y_half, sample_image_shape[0])\n",
    "sample_coords_x = jnp.linspace(-sample_extent_x_half, sample_extent_x_half, sample_image_shape[1])\n",
    "\n",
    "image_interpolant = RegularGridInterpolator((sample_coords_y, sample_coords_x), sample_image,\n",
    "                                            bounds_error=False, fill_value=1.0)\n",
    "\n",
    "\n",
    "#Create ray input z plane\n",
    "crossover_z = jnp.zeros((1))"
   ]
  },
  {
   "cell_type": "code",
   "execution_count": 6,
   "metadata": {},
   "outputs": [],
   "source": [
    "# Set up the function to calculate the jacobian after propagation from one component to another\n",
    "# We can run multiple rays if we want, but no need for now. \n",
    "jac_run_to_component = jax.vmap(jax.jacobian(run_to_component), in_axes=(0, None))\n",
    "\n",
    "@jax.jit\n",
    "def run_model_for_jacobians(ray, model):\n",
    "\n",
    "    model_jacobians = []\n",
    "\n",
    "    # Get all jacobians from one component to another\n",
    "    for i in range(1, len(model)):\n",
    "        distance = (model[i-1].z - ray.z).squeeze()\n",
    "        ray = propagate(distance, ray)\n",
    "        ray = model[i-1].step(ray)\n",
    "        \n",
    "        jacobian = jac_run_to_component(ray, model[i])\n",
    "        model_jacobians.append({\n",
    "            'jacobian': jacobian\n",
    "        })\n",
    "\n",
    "    # Edit the jacobian matrices to include shifts calculated \n",
    "    # from the opl derivative\n",
    "    each_ABCD = [] #ABCD matrices at each component\n",
    "    total_ABCD = jnp.eye(5)\n",
    "\n",
    "    for jacobian in model_jacobians:\n",
    "        ray_jacobian = jacobian['jacobian'] #dr_out/dr_in\n",
    "        shift_vectors = ray_jacobian.pathlength.matrix # This is the shift vector for each ray, dopl_out/dr_in\n",
    "        ABCD = ray_jacobian.matrix.matrix # This is the ABCD matrix for each ray, dr_out/dr_in\n",
    "        ABCD = ABCD.at[0, :, -1].set(shift_vectors[0, :])\n",
    "        ABCD = ABCD.at[0, -1, -1].set(1.0) # \n",
    "        each_ABCD.append(ABCD)\n",
    "        total_ABCD = ABCD @ total_ABCD\n",
    "\n",
    "    return model_jacobians, each_ABCD, total_ABCD, ray\n",
    "\n",
    "@jax.jit\n",
    "def run_model_for_rays(model, each_ABCD, input_slopes, scan_position):\n",
    "    #Given input model and it's transfer matrix, run the model to find the positions of the rays at the sample and detector\n",
    "\n",
    "    scan_pos_y, scan_pos_x = scan_position\n",
    "\n",
    "    input_slopes_x = input_slopes[0]\n",
    "    input_slopes_y = input_slopes[1]\n",
    "\n",
    "    # Make the input rays we can run through one last time in the model to find positions at sample and detector\n",
    "    rays_at_source_with_semi_conv = jnp.vstack([\n",
    "        jnp.full(len(input_slopes_x), scan_pos_x),\n",
    "        jnp.full(len(input_slopes_y), scan_pos_y),\n",
    "        input_slopes_x,\n",
    "        input_slopes_y,\n",
    "        jnp.ones_like(input_slopes_x)\n",
    "    ])\n",
    "\n",
    "    # Propagate the point source coordinates through the forward ABCD matrices\n",
    "    coord_list = [rays_at_source_with_semi_conv]\n",
    "    for ABCD in each_ABCD:\n",
    "        new_coord = jnp.dot(ABCD[0], coord_list[-1])\n",
    "        coord_list.append(new_coord)\n",
    "        \n",
    "    # Stack the propagated coordinates into an array for easier indexing\n",
    "    coords_array = jnp.stack(coord_list, axis=0)\n",
    "    \n",
    "    xs = coords_array[:, 0, :]\n",
    "    ys = coords_array[:, 1, :]\n",
    "    zs = jnp.array([comp.z for comp in model])\n",
    "\n",
    "    return xs, ys, zs\n",
    "\n",
    "@jax.jit\n",
    "def find_input_slopes_that_hit_detpx_from_pt_source_with_semiconv(pixel_coords, scan_pos, semi_conv, transformation_matrix):\n",
    "    \"\"\"\n",
    "    Given a set of detector pixel coordinates, a semi-convergence angle from a source, and a transformation matrix, find a mask that tells us \n",
    "    what slopes will hit the detector pixels from the point source.\n",
    "\n",
    "    Args:\n",
    "    - pixel_coords (jnp.array): A (N, 2) array of pixel coordinates in y, x format.\n",
    "    - scan_pos (jnp.array): A (2,) array of the scan position in x and y format.\n",
    "    - semi_conv (float): The semi-convergence angle of the point source.q\n",
    "    - transformation_matrix (jnp.array): A (5, 5) transformation matrix.\n",
    "    \"\"\"\n",
    "    # We rely on the fact that theta_x_in**2 + theta_y_in**2 = semi_conv**2, \n",
    "    # which can be evaluated to find all pixels less than any semi_conv from the point source \n",
    "    # For a point source, our system of equations is:\n",
    "    # [x_out, y_out, theta_x_out, theta_y_out, 1] = transformation_matrix @ [scan_pos_x, scan_pos_y, theta_x_in, theta_y_in, 1]\n",
    "    # where theta_x_in and theta_y_in are given by alpha * cos(phi) and alpha * sin(phi), with alpha being the semi convergence angle\n",
    "    # and phi the azimuthal angle of a ray from the point source. This is a parametric equation for a cone of rays from the point source\n",
    "    # giving us the means to find a mask, which will tell us which slopes will hit the detector pixel from the point source for a given semi_conv.\n",
    "    scan_pos_y, scan_pos_x = scan_pos\n",
    "    A_xx, A_xy, B_xx, B_xy = transformation_matrix[0, :4] # Select first row not including the last column of values from the 5x5 transfer matrix\n",
    "    A_yx, A_yy, B_yx, B_yy = transformation_matrix[1, :4] # Select second row not including the last column of values from the 5x5 transfer matrix\n",
    "    delta_x, delta_y = transformation_matrix[0, 4], transformation_matrix[1, 4] # Get the shift values from the final column of the transfer matrix\n",
    "    y_out, x_out = pixel_coords[:, 0], pixel_coords[:, 1]\n",
    "\n",
    "    denom = (B_xx*B_yy - B_xy*B_yx)\n",
    "    theta_x_in = (-A_xx*B_yy*scan_pos_x - A_xy*B_yy*scan_pos_y + A_yx*B_xy*scan_pos_x + \n",
    "         A_yy*B_xy*scan_pos_y + B_xy*delta_y - B_xy*y_out - B_yy*delta_x + B_yy*x_out) / denom\n",
    "    theta_y_in = (A_xx*B_yx*scan_pos_x + A_xy*B_yx*scan_pos_y - A_yx*B_xx*scan_pos_x - \n",
    "         A_yy*B_xx*scan_pos_y - B_xx*delta_y + B_xx*y_out + B_yx*delta_x - B_yx*x_out) / denom\n",
    "    F = (theta_x_in**2 + theta_y_in**2) - semi_conv **2\n",
    "    mask = F <= 0\n",
    "    input_slopes_x_masked = jnp.where(mask, theta_x_in, 0.0)\n",
    "    input_slopes_y_masked = jnp.where(mask, theta_y_in, 0.0)\n",
    "    input_slopes_masked = jnp.stack([input_slopes_x_masked, input_slopes_y_masked])\n",
    "    \n",
    "    return input_slopes_masked, mask\n",
    "    \n",
    "@jax.jit\n",
    "def map_px_on_sample_to_detector(detector_image, det_pixel_size,\n",
    "                                 ray_sample_coords_x, ray_sample_coords_y,\n",
    "                                 ray_det_coords_x, ray_det_coords_y):\n",
    "    # \"\"\"\n",
    "    # Map the pixel values from the sample to the detector image.\n",
    "    # \"\"\"\n",
    "    # sample_image_shape = sample_image.shape  # (n_rows, n_cols)\n",
    "\n",
    "    # # Create an interpolant defined on the image grid (note image indexing is row, col)\n",
    "    # y = jnp.arange(sample_image_shape[0])\n",
    "    # x = jnp.arange(sample_image_shape[1])\n",
    "\n",
    "    # image_interpolant = RegularGridInterpolator((y, x), sample_image,\n",
    "    #                                             bounds_error=False, fill_value=1.0)\n",
    "    detector_image_shape = detector_image.shape\n",
    "    \n",
    "    sample_pts = jnp.stack([ray_sample_coords_y, ray_sample_coords_x], axis=-1)\n",
    "    \n",
    "    # Get the pixel values from the image using nearest neighbor interpolation\n",
    "    sample_px_hit_by_rays = image_interpolant(sample_pts, method='nearest')\n",
    "\n",
    "    det_pixel_xs = (ray_det_coords_x / det_pixel_size) + detector_image_shape[1] / 2\n",
    "    det_pixel_ys = (ray_det_coords_y / det_pixel_size) + detector_image_shape[0] / 2\n",
    "    \n",
    "    det_pixel_xs = jnp.round(det_pixel_xs).astype(jnp.int32)\n",
    "    det_pixel_ys = jnp.round(det_pixel_ys).astype(jnp.int32)\n",
    "    \n",
    "    # detector_image = jnp.zeros(detector_image_shape, dtype=jnp.complex64)\n",
    "    det_image = detector_image.at[(det_pixel_ys, det_pixel_xs)].set(sample_px_hit_by_rays)\n",
    "    \n",
    "    return det_image\n"
   ]
  },
  {
   "cell_type": "markdown",
   "metadata": {},
   "source": [
    "Create the model: Just 3 components: Sample, Descanner and Detector, and create a forward dataset. ***Warning:*** this will probably take a minute or two to complete on a modern workstation.\n",
    "\n",
    "\n",
    "**Note:** there is one small extra trick to fill in the final column of the matrix as the partial derivative of a constant shift value is 0, so the jacobian will not tell us the shift or tilt delta that was applied by the decsanner. We are storing those values in the path length function of the descanner, which is a bit of a fudge for now: Ultimately, all of the terms in the coordinate transform should actually be calculated by differentiating an optical path length function, because the optical path length is the generating function behind the coordinate transform (It is to do with the optical path length representing the lagrangian of the system). For now though to keep it simple I just use optical path length to store shift and tilt deltas."
   ]
  },
  {
   "cell_type": "code",
   "execution_count": 7,
   "metadata": {},
   "outputs": [
    {
     "data": {
      "application/vnd.jupyter.widget-view+json": {
       "model_id": "03776faffcec442aada8d3745e9df546",
       "version_major": 2,
       "version_minor": 0
      },
      "text/plain": [
       "Scan Y:   0%|          | 0/103 [00:00<?, ?it/s]"
      ]
     },
     "metadata": {},
     "output_type": "display_data"
    }
   ],
   "source": [
    "InputPlane = comp.InputPlane(z=crossover_z, semi_conv=semi_conv)\n",
    "ScanGrid = comp.ScanGrid(z=jnp.array([defocus]), scan_step=[scan_px_size, scan_px_size], scan_shape=sample_image_shape, scan_rotation=rotation)\n",
    "Descanner = comp.Descanner(z=jnp.array([defocus]), descan_error=descan_error, offset_x=0.0, offset_y=0.0)\n",
    "Detector = comp.Detector(z=jnp.array([camera_length]), shape=det_size, pixel_size=det_px_size)\n",
    "\n",
    "scan_coords = ScanGrid.get_coords()\n",
    "detector_coords = Detector.get_coords()\n",
    "\n",
    "beam_radius_on_sample = defocus * semi_conv\n",
    "\n",
    "det_coords_y = detector_coords[:, 0]\n",
    "det_coords_x = detector_coords[:, 1]\n",
    "\n",
    "scan_coords_y = scan_coords[:, 0]\n",
    "scan_coords_x = scan_coords[:, 1]\n",
    "\n",
    "#Only select coordinates in scan_coords which are 1 beam radius in from the edge of the scan\n",
    "scan_coords = scan_coords.reshape((*sample_image_shape, 2))\n",
    "\n",
    "fourdstem_array = np.zeros((scan_size+det_size), dtype=np.complex64)\n",
    "\n",
    "x_out_centre = []\n",
    "y_out_centre = []\n",
    "x_out_centre_rm = []\n",
    "y_out_centre_rm = []\n",
    "\n",
    "scan_x_in = []\n",
    "scan_y_in = []\n",
    "\n",
    "for scan_idx_y in tqdm.trange(sample_image_shape[0], desc='Scan Y'):\n",
    "    for scan_idx_x in range(sample_image_shape[1]):\n",
    "        scan_pos = scan_coords[scan_idx_y, scan_idx_x] #Y X coords\n",
    "        \n",
    "        # Make the input ray\n",
    "        input_ray_positions = jnp.vstack([\n",
    "            scan_pos[1], # x\n",
    "            scan_pos[0], # y\n",
    "            jnp.array([0.0]), # dx\n",
    "            jnp.array([0.0]), # dy\n",
    "            jnp.ones((1))\n",
    "        ]).T\n",
    "\n",
    "        ray = Ray(z=InputPlane.z, \n",
    "                matrix=input_ray_positions, \n",
    "                amplitude=jnp.ones(1), \n",
    "                pathlength=jnp.zeros(1), \n",
    "                wavelength=jnp.ones(1),\n",
    "                blocked=jnp.zeros(1, dtype=float))\n",
    "        \n",
    "        #Make a new descanner with the new scan position, and update the model\n",
    "        Descanner = comp.Descanner(z=jnp.array([defocus]), descan_error=descan_error, offset_x=scan_pos[1], offset_y=scan_pos[0])\n",
    "\n",
    "        ## NOTE - We are making a new model each time also as requested in the design of TemGym in January. Model creation is never fixed. \n",
    "        model = [InputPlane, ScanGrid, Descanner, Detector]\n",
    "\n",
    "        # Run the model to get the jacobians of output with respect to input\n",
    "        model_jacobians, each_ABCD, total_ABCD, ray = run_model_for_jacobians(ray, model)\n",
    "\n",
    "        # Now for the most important function in here: \n",
    "        input_slopes, mask = find_input_slopes_that_hit_detpx_from_pt_source_with_semiconv(detector_coords, scan_pos, semi_conv, total_ABCD[0])\n",
    "\n",
    "        # Run the model for the rays at each plane\n",
    "        xs, ys, zs = run_model_for_rays(model, each_ABCD, input_slopes, scan_pos)\n",
    "\n",
    "        ray_sample_coords_x, ray_sample_coords_y = xs[1], ys[1] # The ray coordinates at the sample plane\n",
    "        ray_det_coords_x, ray_det_coords_y = xs[-1], ys[-1] # The ray coordinates at the detector plane\n",
    "\n",
    "        detector_image = jnp.zeros(det_size, dtype=jnp.complex64)\n",
    "\n",
    "        det_image = map_px_on_sample_to_detector(detector_image, \n",
    "                                                 det_px_size, \n",
    "                                                 ray_sample_coords_x, \n",
    "                                                 ray_sample_coords_y, \n",
    "                                                 ray_det_coords_x, \n",
    "                                                 ray_det_coords_y)\n",
    "        \n",
    "        fourdstem_array[scan_idx_y, scan_idx_x] = det_image"
   ]
  },
  {
   "cell_type": "code",
   "execution_count": 8,
   "metadata": {},
   "outputs": [],
   "source": [
    "np.save(\"fourdstem_overfocused.npy\", np.abs(fourdstem_array))"
   ]
  },
  {
   "cell_type": "code",
   "execution_count": 9,
   "metadata": {},
   "outputs": [
    {
     "data": {
      "application/vnd.jupyter.widget-view+json": {
       "model_id": "b93b2b9d617e42f09b14ae10bad141f0",
       "version_major": 2,
       "version_minor": 0
      },
      "image/png": "[encoded data removed]",
      "text/html": [
       "\n",
       "            <div style=\"display: inline-block;\">\n",
       "                <div class=\"jupyter-widgets widget-label\" style=\"text-align: center;\">\n",
       "                    Figure\n",
       "                </div>\n",
       "                <img src='data:image/png;base64,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' width=1000.0/>\n",
       "            </div>\n",
       "        "
      ],
      "text/plain": [
       "Canvas(toolbar=Toolbar(toolitems=[('Home', 'Reset original view', 'home', 'home'), ('Back', 'Back to previous …"
      ]
     },
     "metadata": {},
     "output_type": "display_data"
    }
   ],
   "source": [
    "scan_idx_x, scan_idx_y = 12, 25\n",
    "det_image_selected = fourdstem_array[scan_idx_y, scan_idx_x]\n",
    "fig, ax = plt.subplots(1, 2, figsize=(10, 5))\n",
    "ax[0].imshow(np.abs(sample_image), \n",
    "             cmap='gray')\n",
    "ax[0].scatter(scan_idx_x, scan_idx_y, c='r', marker='x', alpha=1)\n",
    "ax[0].set_title('Sample')\n",
    "\n",
    "ax[1].imshow(np.abs(det_image_selected), cmap='gray')\n",
    "ax[1].axhline(detector_image.shape[0]/2, color='lightgrey', linestyle='--')\n",
    "ax[1].axvline(detector_image.shape[1]/2, color='lightgrey', linestyle='--')\n",
    "ax[1].set_title('Detector Image')\n",
    "plt.show()"
   ]
  }
 ],
 "metadata": {
  "kernelspec": {
   "display_name": "temgym",
   "language": "python",
   "name": "python3"
  },
  "language_info": {
   "codemirror_mode": {
    "name": "ipython",
    "version": 3
   },
   "file_extension": ".py",
   "mimetype": "text/x-python",
   "name": "python",
   "nbconvert_exporter": "python",
   "pygments_lexer": "ipython3",
   "version": "3.12.6"
  }
 },
 "nbformat": 4,
 "nbformat_minor": 2
}
