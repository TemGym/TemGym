{
 "cells": [
  {
   "cell_type": "code",
   "execution_count": 1,
   "metadata": {},
   "outputs": [],
   "source": [
    "import os\n",
    "os.environ[\"XLA_PYTHON_CLIENT_MEM_FRACTION\"] = \".01\"\n",
    "\n",
    "from jax import numpy as jnp\n",
    "import jax\n",
    "from jax.scipy.interpolate import RegularGridInterpolator\n",
    "\n",
    "import temgymbasic.jax_components as comp\n",
    "from temgymbasic.jax_run import run_to_end, run_to_component\n",
    "from temgymbasic.jax_ray import Ray, propagate\n",
    "from temgymbasic.jax_utils import get_pytree_idx_from_model, get_pixel_coords\n",
    "import matplotlib.pyplot as plt\n",
    "\n",
    "import tqdm.auto as tqdm\n",
    "%matplotlib widget\n",
    "import numpy as np\n",
    "\n",
    "# set jax to use cpu\n",
    "jax.config.update(\"jax_platform_name\", \"cpu\")\n",
    "# jax.config.update(\"jax_enable_x64\", True)"
   ]
  },
  {
   "cell_type": "markdown",
   "metadata": {},
   "source": [
    "SYMPY Mathematics just to understand how to model the descanner with descan error, and how the variables propagate to the end. Feel free to ignore. "
   ]
  },
  {
   "cell_type": "code",
   "execution_count": 2,
   "metadata": {},
   "outputs": [
    {
     "data": {
      "text/latex": [
       "$\\displaystyle \\left[\\begin{matrix}x_{out}\\\\y_{out}\\\\\\theta_{x out}\\\\\\theta_{y out}\\\\1\\end{matrix}\\right] = \\left[\\begin{matrix}A_{xx} scan_{x} + A_{xy} scan_{y} + B_{xx} \\alpha \\cos{\\left(\\phi \\right)} + B_{xy} \\alpha \\sin{\\left(\\phi \\right)} + \\delta_{x}\\\\A_{yx} scan_{x} + A_{yy} scan_{y} + B_{yx} \\alpha \\cos{\\left(\\phi \\right)} + B_{yy} \\alpha \\sin{\\left(\\phi \\right)} + \\delta_{y}\\\\C_{xx} scan_{x} + C_{xy} scan_{y} + D_{xx} \\alpha \\cos{\\left(\\phi \\right)} + D_{xy} \\alpha \\sin{\\left(\\phi \\right)} + \\delta_{\\theta x}\\\\C_{yx} scan_{x} + C_{yy} scan_{y} + D_{yx} \\alpha \\cos{\\left(\\phi \\right)} + D_{yy} \\alpha \\sin{\\left(\\phi \\right)} + \\delta_{\\theta y}\\\\1\\end{matrix}\\right]$"
      ],
      "text/plain": [
       "Eq(Matrix([\n",
       "[      x_out],\n",
       "[      y_out],\n",
       "[theta_x_out],\n",
       "[theta_y_out],\n",
       "[          1]]), Matrix([\n",
       "[      A_xx*scan_{x} + A_xy*scan_{y} + B_xx*\\alpha*cos(\\phi) + B_xy*\\alpha*sin(\\phi) + delta_x],\n",
       "[      A_yx*scan_{x} + A_yy*scan_{y} + B_yx*\\alpha*cos(\\phi) + B_yy*\\alpha*sin(\\phi) + delta_y],\n",
       "[C_xx*scan_{x} + C_xy*scan_{y} + D_xx*\\alpha*cos(\\phi) + D_xy*\\alpha*sin(\\phi) + delta_theta_x],\n",
       "[C_yx*scan_{x} + C_yy*scan_{y} + D_yx*\\alpha*cos(\\phi) + D_yy*\\alpha*sin(\\phi) + delta_theta_y],\n",
       "[                                                                                            1]]))"
      ]
     },
     "metadata": {},
     "output_type": "display_data"
    },
    {
     "data": {
      "text/latex": [
       "$\\displaystyle x_{out} = A_{xx} scan_{x} + A_{xy} scan_{y} + B_{xx} \\alpha \\cos{\\left(\\phi \\right)} + B_{xy} \\alpha \\sin{\\left(\\phi \\right)} + \\delta_{x}$"
      ],
      "text/plain": [
       "Eq(x_out, A_xx*scan_{x} + A_xy*scan_{y} + B_xx*\\alpha*cos(\\phi) + B_xy*\\alpha*sin(\\phi) + delta_x)"
      ]
     },
     "metadata": {},
     "output_type": "display_data"
    },
    {
     "data": {
      "text/latex": [
       "$\\displaystyle y_{out} = A_{yx} scan_{x} + A_{yy} scan_{y} + B_{yx} \\alpha \\cos{\\left(\\phi \\right)} + B_{yy} \\alpha \\sin{\\left(\\phi \\right)} + \\delta_{y}$"
      ],
      "text/plain": [
       "Eq(y_out, A_yx*scan_{x} + A_yy*scan_{y} + B_yx*\\alpha*cos(\\phi) + B_yy*\\alpha*sin(\\phi) + delta_y)"
      ]
     },
     "metadata": {},
     "output_type": "display_data"
    },
    {
     "data": {
      "text/latex": [
       "$\\displaystyle \\theta_{x out} = C_{xx} scan_{x} + C_{xy} scan_{y} + D_{xx} \\alpha \\cos{\\left(\\phi \\right)} + D_{xy} \\alpha \\sin{\\left(\\phi \\right)} + \\delta_{\\theta x}$"
      ],
      "text/plain": [
       "Eq(theta_x_out, C_xx*scan_{x} + C_xy*scan_{y} + D_xx*\\alpha*cos(\\phi) + D_xy*\\alpha*sin(\\phi) + delta_theta_x)"
      ]
     },
     "metadata": {},
     "output_type": "display_data"
    },
    {
     "data": {
      "text/latex": [
       "$\\displaystyle \\theta_{y out} = C_{yx} scan_{x} + C_{yy} scan_{y} + D_{yx} \\alpha \\cos{\\left(\\phi \\right)} + D_{yy} \\alpha \\sin{\\left(\\phi \\right)} + \\delta_{\\theta y}$"
      ],
      "text/plain": [
       "Eq(theta_y_out, C_yx*scan_{x} + C_yy*scan_{y} + D_yx*\\alpha*cos(\\phi) + D_yy*\\alpha*sin(\\phi) + delta_theta_y)"
      ]
     },
     "metadata": {},
     "output_type": "display_data"
    },
    {
     "name": "stdout",
     "output_type": "stream",
     "text": [
      "(-A_xx*B_yy*scan_{x} - A_xy*B_yy*scan_{y} + A_yx*B_xy*scan_{x} + A_yy*B_xy*scan_{y} + B_xy*delta_y - B_xy*y_out - B_yy*delta_x + B_yy*x_out)/(B_xx*B_yy - B_xy*B_yx)\n",
      "(A_xx*B_yx*scan_{x} + A_xy*B_yx*scan_{y} - A_yx*B_xx*scan_{x} - A_yy*B_xx*scan_{y} - B_xx*delta_y + B_xx*y_out + B_yx*delta_x - B_yx*x_out)/(B_xx*B_yy - B_xy*B_yx)\n"
     ]
    }
   ],
   "source": [
    "import sympy as sp\n",
    "\n",
    "def create_2d_rotation_matrix_5x5(theta, flip_y=False):\n",
    "    \"\"\"\n",
    "    Returns a 5x5 sympy Matrix that applies a 2D rotation (for x,y and their slopes)\n",
    "    by angle 'theta', with an option to flip the y-axis.\n",
    "    \"\"\"\n",
    "    c = sp.cos(theta)\n",
    "    s = sp.sin(theta)\n",
    "\n",
    "    # By default: normal rotation blocks\n",
    "    #     [ c  -s ]\n",
    "    #     [ s   c ]\n",
    "    # If we 'flip_y', we reflect the final y-coordinates about the x-axis, i.e.\n",
    "    # (x, y) -> (x, -y) after rotation. That yields:\n",
    "    #     x' =  c*x - s*y\n",
    "    #     y' = -s*x - c*y\n",
    "    if flip_y:\n",
    "        # Rotation followed by flip in y\n",
    "        m11 =  c\n",
    "        m12 = -s\n",
    "        m21 = -s\n",
    "        m22 = -c\n",
    "    else:\n",
    "        # Normal rotation\n",
    "        m11 =  c\n",
    "        m12 = -s\n",
    "        m21 =  s\n",
    "        m22 =  c\n",
    "\n",
    "    M = sp.eye(5)  # Start as 5x5 identity\n",
    "    # Fill in the (x, y) rotation/flip block:\n",
    "    M[0, 0] = m11\n",
    "    M[0, 1] = m12\n",
    "    M[1, 0] = m21\n",
    "    M[1, 1] = m22\n",
    "\n",
    "    # # Fill in the (dx, dy) rotation/flip block:\n",
    "    # M[2, 2] = m11\n",
    "    # M[2, 3] = m12\n",
    "    # M[3, 2] = m21\n",
    "    # M[3, 3] = m22\n",
    "\n",
    "    return M\n",
    "\n",
    "x_out, y_out, theta_x_out, theta_y_out = sp.symbols('x_out y_out theta_x_out theta_y_out')\n",
    "x_in, y_in, theta_x_in, theta_y_in = sp.symbols('x_in y_in theta_x_in theta_y_in')\n",
    "\n",
    "# Lit pixels from Point Source\n",
    "# Make a 5x5 matrix for use in sympy with Axx, Axy, Ayx, Ayy, Bxx, Bxy, Byx, Byy... etc values in each quadrant\n",
    "A_xx, A_xy, A_yx, A_yy = sp.symbols('A_xx A_xy A_yx A_yy', real=True)\n",
    "B_xx, B_xy, B_yx, B_yy = sp.symbols('B_xx B_xy B_yx B_yy', real=True)\n",
    "C_xx, C_xy, C_yx, C_yy = sp.symbols('C_xx C_xy C_yx C_yy', real=True)\n",
    "D_xx, D_xy, D_yx, D_yy = sp.symbols('D_xx D_xy D_yx D_yy', real=True)\n",
    "delta_x, delta_y, delta_theta_x, delta_theta_y = sp.symbols('delta_x delta_y delta_theta_x delta_theta_y', real=True)\n",
    "\n",
    "#Populate the 5x5 matrix with the these symbols, with 0s in the bottom row, and 1 in the bottom right corner\n",
    "TransferMatrix = sp.Matrix([[A_xx, A_xy, B_xx, B_xy, delta_x],\n",
    "                            [A_yx, A_yy, B_yx, B_yy, delta_y],\n",
    "                            [C_xx, C_xy, D_xx, D_xy, delta_theta_x],\n",
    "                            [C_yx, C_yy, D_yx, D_yy, delta_theta_y],\n",
    "                            [0, 0, 0, 0, 1]])\n",
    "\n",
    "# create column vector of output coordinates, x_out, y_out, theta_x_out, theta_y_out 1\n",
    "out_coords = sp.Matrix([x_out, y_out, theta_x_out, theta_y_out, 1])\n",
    "semi_conv, phi = sp.symbols(r'\\alpha, \\phi')\n",
    "\n",
    "#Now for the incoordinates, I want the vector to be populated via the following:\n",
    "# x_in = scan_pos_x, y_in = scan_pos_y, but theta_x_in and theta_y_in should be a function to define a cone of rays \n",
    "# with a semi-convergence angle.\n",
    "theta_x_in = semi_conv * sp.cos(phi)\n",
    "theta_y_in = semi_conv * sp.sin(phi)\n",
    "scan_position_x, scan_position_y = sp.symbols('scan_{x} scan_{y}')\n",
    "\n",
    "in_coords = sp.Matrix([scan_position_x, scan_position_y, theta_x_in, theta_y_in, 1])\n",
    "transfer_equation = sp.Eq(out_coords, TransferMatrix * in_coords, evaluate=False)\n",
    "# reverse_equation = sp.Eq(in_coords, InvertedTransferMatrix * out_coords, evaluate=False)\n",
    "\n",
    "x_out_eq = sp.Eq(out_coords[0], transfer_equation.rhs[0])\n",
    "y_out_eq = sp.Eq(out_coords[1], transfer_equation.rhs[1])\n",
    "theta_x_out_eq = sp.Eq(out_coords[2], transfer_equation.rhs[2])\n",
    "theta_y_out_eq = sp.Eq(out_coords[3], transfer_equation.rhs[3])\n",
    "\n",
    "display(transfer_equation)\n",
    "display(x_out_eq)\n",
    "display(y_out_eq)\n",
    "display(theta_x_out_eq)\n",
    "display(theta_y_out_eq)\n",
    "\n",
    "#replace alpha * cos(phi) with u and alpha * sin(phi) with v, and use both equations to solve for u and v\n",
    "u, v = sp.symbols('u v')\n",
    "x_out_eq = x_out_eq.subs({theta_x_in: u, theta_y_in: v})\n",
    "y_out_eq = y_out_eq.subs({theta_x_in: u, theta_y_in: v})\n",
    "\n",
    "u_v_eq = sp.solve([x_out_eq, y_out_eq], [u, v])\n",
    "print(u_v_eq[u])\n",
    "print(u_v_eq[v])"
   ]
  },
  {
   "cell_type": "markdown",
   "metadata": {},
   "source": [
    "In the case where we are specific about the propagation and descan steps, we have the following, and for a ray with 0 initial slope. "
   ]
  },
  {
   "cell_type": "code",
   "execution_count": 3,
   "metadata": {},
   "outputs": [
    {
     "data": {
      "text/latex": [
       "$\\displaystyle \\left[\\begin{matrix}x_{out}\\\\y_{out}\\\\\\theta_{x out}\\\\\\theta_{y out}\\\\1\\end{matrix}\\right] = \\left[\\begin{matrix}\\alpha z_{def} \\left(E_{xy} \\cos{\\left(\\Omega \\right)} - E_{yy} \\sin{\\left(\\Omega \\right)} + E_{dxy} z_{samp}\\right) \\sin{\\left(\\phi \\right)} + \\alpha \\left(z_{def} \\left(E_{xx} \\cos{\\left(\\Omega \\right)} - E_{yx} \\sin{\\left(\\Omega \\right)} + E_{dxx} z_{samp}\\right) + z_{samp}\\right) \\cos{\\left(\\phi \\right)} - scan_{x} \\cos{\\left(\\Omega \\right)} + scan_{y} \\sin{\\left(\\Omega \\right)} + scan_{x} \\left(E_{xx} \\cos{\\left(\\Omega \\right)} - E_{yx} \\sin{\\left(\\Omega \\right)} + E_{dxx} z_{samp}\\right) + scan_{y} \\left(E_{xy} \\cos{\\left(\\Omega \\right)} - E_{yy} \\sin{\\left(\\Omega \\right)} + E_{dxy} z_{samp}\\right)\\\\- \\alpha z_{def} \\left(E_{xx} \\sin{\\left(\\Omega \\right)} + E_{yx} \\cos{\\left(\\Omega \\right)} - E_{dyx} z_{samp}\\right) \\cos{\\left(\\phi \\right)} - \\alpha \\left(z_{def} \\left(E_{xy} \\sin{\\left(\\Omega \\right)} + E_{yy} \\cos{\\left(\\Omega \\right)} - E_{dyy} z_{samp}\\right) - z_{samp}\\right) \\sin{\\left(\\phi \\right)} + scan_{x} \\sin{\\left(\\Omega \\right)} + scan_{y} \\cos{\\left(\\Omega \\right)} - scan_{x} \\left(E_{xx} \\sin{\\left(\\Omega \\right)} + E_{yx} \\cos{\\left(\\Omega \\right)} - E_{dyx} z_{samp}\\right) - scan_{y} \\left(E_{xy} \\sin{\\left(\\Omega \\right)} + E_{yy} \\cos{\\left(\\Omega \\right)} - E_{dyy} z_{samp}\\right)\\\\E_{dxx} scan_{x} + E_{dxy} \\alpha z_{def} \\sin{\\left(\\phi \\right)} + E_{dxy} scan_{y} + \\alpha \\left(E_{dxx} z_{def} + 1\\right) \\cos{\\left(\\phi \\right)}\\\\E_{dyx} \\alpha z_{def} \\cos{\\left(\\phi \\right)} + E_{dyx} scan_{x} + E_{dyy} scan_{y} + \\alpha \\left(E_{dyy} z_{def} + 1\\right) \\sin{\\left(\\phi \\right)}\\\\1\\end{matrix}\\right]$"
      ],
      "text/plain": [
       "Eq(Matrix([\n",
       "[      x_out],\n",
       "[      y_out],\n",
       "[theta_x_out],\n",
       "[theta_y_out],\n",
       "[          1]]), Matrix([\n",
       "[ \\alpha*z_def*(E_xy*cos(Omega) - E_yy*sin(Omega) + E_{dxy}*z_samp)*sin(\\phi) + \\alpha*(z_def*(E_xx*cos(Omega) - E_yx*sin(Omega) + E_{dxx}*z_samp) + z_samp)*cos(\\phi) - scan_x*cos(Omega) + scan_y*sin(Omega) + scan_{x}*(E_xx*cos(Omega) - E_yx*sin(Omega) + E_{dxx}*z_samp) + scan_{y}*(E_xy*cos(Omega) - E_yy*sin(Omega) + E_{dxy}*z_samp)],\n",
       "[-\\alpha*z_def*(E_xx*sin(Omega) + E_yx*cos(Omega) - E_{dyx}*z_samp)*cos(\\phi) - \\alpha*(z_def*(E_xy*sin(Omega) + E_yy*cos(Omega) - E_{dyy}*z_samp) - z_samp)*sin(\\phi) + scan_x*sin(Omega) + scan_y*cos(Omega) - scan_{x}*(E_xx*sin(Omega) + E_yx*cos(Omega) - E_{dyx}*z_samp) - scan_{y}*(E_xy*sin(Omega) + E_yy*cos(Omega) - E_{dyy}*z_samp)],\n",
       "[                                                                                                                                                                                                                                  E_{dxx}*scan_{x} + E_{dxy}*\\alpha*z_def*sin(\\phi) + E_{dxy}*scan_{y} + \\alpha*(E_{dxx}*z_def + 1)*cos(\\phi)],\n",
       "[                                                                                                                                                                                                                                  E_{dyx}*\\alpha*z_def*cos(\\phi) + E_{dyx}*scan_{x} + E_{dyy}*scan_{y} + \\alpha*(E_{dyy}*z_def + 1)*sin(\\phi)],\n",
       "[                                                                                                                                                                                                                                                                                                                                            1]]))"
      ]
     },
     "metadata": {},
     "output_type": "display_data"
    },
    {
     "data": {
      "text/latex": [
       "$\\displaystyle x_{out} = - scan_{x} \\cos{\\left(\\Omega \\right)} + scan_{y} \\sin{\\left(\\Omega \\right)} + scan_{x} \\left(E_{xx} \\cos{\\left(\\Omega \\right)} - E_{yx} \\sin{\\left(\\Omega \\right)} + E_{dxx} z_{samp}\\right) + scan_{y} \\left(E_{xy} \\cos{\\left(\\Omega \\right)} - E_{yy} \\sin{\\left(\\Omega \\right)} + E_{dxy} z_{samp}\\right)$"
      ],
      "text/plain": [
       "Eq(x_out, -scan_x*cos(Omega) + scan_y*sin(Omega) + scan_{x}*(E_xx*cos(Omega) - E_yx*sin(Omega) + E_{dxx}*z_samp) + scan_{y}*(E_xy*cos(Omega) - E_yy*sin(Omega) + E_{dxy}*z_samp))"
      ]
     },
     "metadata": {},
     "output_type": "display_data"
    },
    {
     "data": {
      "text/latex": [
       "$\\displaystyle y_{out} = scan_{x} \\sin{\\left(\\Omega \\right)} + scan_{y} \\cos{\\left(\\Omega \\right)} - scan_{x} \\left(E_{xx} \\sin{\\left(\\Omega \\right)} + E_{yx} \\cos{\\left(\\Omega \\right)} - E_{dyx} z_{samp}\\right) - scan_{y} \\left(E_{xy} \\sin{\\left(\\Omega \\right)} + E_{yy} \\cos{\\left(\\Omega \\right)} - E_{dyy} z_{samp}\\right)$"
      ],
      "text/plain": [
       "Eq(y_out, scan_x*sin(Omega) + scan_y*cos(Omega) - scan_{x}*(E_xx*sin(Omega) + E_yx*cos(Omega) - E_{dyx}*z_samp) - scan_{y}*(E_xy*sin(Omega) + E_yy*cos(Omega) - E_{dyy}*z_samp))"
      ]
     },
     "metadata": {},
     "output_type": "display_data"
    },
    {
     "data": {
      "text/latex": [
       "$\\displaystyle \\theta_{x out} = E_{dxx} scan_{x} + E_{dxy} scan_{y}$"
      ],
      "text/plain": [
       "Eq(theta_x_out, E_{dxx}*scan_{x} + E_{dxy}*scan_{y})"
      ]
     },
     "metadata": {},
     "output_type": "display_data"
    },
    {
     "data": {
      "text/latex": [
       "$\\displaystyle \\theta_{y out} = E_{dyx} scan_{x} + E_{dyy} scan_{y}$"
      ],
      "text/plain": [
       "Eq(theta_y_out, E_{dyx}*scan_{x} + E_{dyy}*scan_{y})"
      ]
     },
     "metadata": {},
     "output_type": "display_data"
    }
   ],
   "source": [
    "import sympy as sp\n",
    "\n",
    "defocus, sample_to_det_z, scan_x, scan_y = sp.symbols('z_def z_samp scan_x scan_y', real=True)\n",
    "E_xx, E_xy, E_yx, E_yy, E_dxx, E_dxy, E_dyx, E_dyy = sp.symbols(r'E_xx E_xy E_yx E_yy E_{dxx} E_{dxy} E_{dyx} E_{dyy}', real=True)\n",
    "rot = sp.symbols('Omega', real=True)\n",
    "\n",
    "DefocusMatrix = sp.Matrix([[1, 0, defocus, 0, 0],\n",
    "                            [0, 1, 0, defocus, 0],\n",
    "                            [0, 0, 1, 0, 0],\n",
    "                            [0, 0, 0, 1, 0],\n",
    "                            [0, 0, 0, 0, 1]])\n",
    "\n",
    "DescannerMatrixError = sp.Matrix([[E_xx, E_xy, 0, 0, -scan_x],\n",
    "                            [E_yx, E_yy, 0, 0, -scan_y],\n",
    "                            [E_dxx, E_dxy, 1, 0, 0],\n",
    "                            [E_dyx, E_dyy, 0, 1, 0],\n",
    "                            [0, 0, 0, 0, 1]])\n",
    "\n",
    "DescannerMatrixNoError = sp.Matrix([[1, 0, 0, 0, -scan_x],\n",
    "                                    [0, 1, 0, 0, -scan_y],\n",
    "                                    [0, 0, 1, 0, 0],\n",
    "                                    [0, 0, 0, 1, 0],\n",
    "                                    [0, 0, 0, 0, 1]])\n",
    "\n",
    "SampleDetMatrix = sp.Matrix([[1, 0, sample_to_det_z, 0, 0],\n",
    "                            [0, 1, 0, sample_to_det_z, 0],\n",
    "                            [0, 0, 1, 0, 0],\n",
    "                            [0, 0, 0, 1, 0],\n",
    "                            [0, 0, 0, 0, 1]])\n",
    "\n",
    "RotationMatrix = create_2d_rotation_matrix_5x5(rot, flip_y=True)\n",
    "\n",
    "TransferMatrix = SampleDetMatrix * RotationMatrix * DescannerMatrixError * DefocusMatrix\n",
    "\n",
    "transfer_equation = sp.Eq(out_coords, TransferMatrix * in_coords, evaluate=False)\n",
    "\n",
    "display(transfer_equation.simplify())\n",
    "\n",
    "x_out_eq = sp.Eq(out_coords[0], transfer_equation.rhs[0])\n",
    "y_out_eq = sp.Eq(out_coords[1], transfer_equation.rhs[1])\n",
    "\n",
    "r_sqr = x_out_eq.rhs ** 2 + y_out_eq.rhs ** 2\n",
    "theta_x_out_eq = sp.Eq(out_coords[2], transfer_equation.rhs[2])\n",
    "theta_y_out_eq = sp.Eq(out_coords[3], transfer_equation.rhs[3])\n",
    "\n",
    "#replace alpha with 0\n",
    "x_out_eq = x_out_eq.subs({semi_conv: 0})\n",
    "y_out_eq = y_out_eq.subs({semi_conv: 0})\n",
    "theta_x_out_eq = theta_x_out_eq.subs({semi_conv: 0})\n",
    "theta_y_out_eq = theta_y_out_eq.subs({semi_conv: 0})\n",
    "\n",
    "display(x_out_eq.simplify())\n",
    "display(y_out_eq.simplify())\n",
    "display(theta_x_out_eq)\n",
    "display(theta_y_out_eq)\n",
    "\n"
   ]
  },
  {
   "cell_type": "markdown",
   "metadata": {},
   "source": [
    "Begin by importing test image"
   ]
  },
  {
   "cell_type": "code",
   "execution_count": 4,
   "metadata": {},
   "outputs": [],
   "source": [
    "from scipy.ndimage import zoom\n",
    "\n",
    "sample_image = plt.imread(r'SilverFast_Resolution_Target_USAF_1951.png')[:, :, 0]\n",
    "image_shape = sample_image.shape\n",
    "\n",
    "#remove the black pixel border on the edges\n",
    "sample_image = sample_image[1:-1, 1:-1]\n",
    "\n",
    "# Downsample the sample_image by a factor of 2\n",
    "downsample_factor = 0.5\n",
    "sample_image = zoom(sample_image, downsample_factor)\n",
    "sample_image_shape = sample_image.shape\n",
    "\n",
    "\n",
    "sample_image = jnp.array(sample_image, dtype=jnp.complex64)\n"
   ]
  },
  {
   "cell_type": "markdown",
   "metadata": {},
   "source": [
    "Modelling Descan Error: In order to determine how the descan error description should look like, I thought only about what basic operations a descanner should apply so that we have a 5x5 coordinate transform that is still invertible, and I used jax to find where the operations I apply would populate the jacobian, which has helped me discover the following analysis. \n",
    "\n",
    "Importantly, even in the non-linear case (not yet demonstrated in this notebook but can be soon) we can always find a polynomial which we can then find roots of, that relate outgoing coordinates (positions and slopes), EXCEPT in certain circumstances like when a lens performs perfect imaging from the object plane to the image plane. In this case, there is no single angle that maps positions to positions. When certain coeffients in the polynomial description relating coordinates are zero, you will know you are in this regime, and there is no direct mapping. This is an advantage to this approach, that I don't see with an optimiser being sent at the model to find where rays go - with gradients in jax we will always be able to find a simpler polynomial we can find roots of (if certain terms exist) to tell us what angle ray will take us back to the input plane. \n",
    "\n",
    "All of this means that from my limited understanding so far I don't think an optimiser is entirely neccessary in the way it was implemented in pytorch: This does not mean I don't think an optimiser won't be needed to solve other parts of this problem, or be used in a different way, just strictly for ray tracing in this context: I can also write an optimiser to find where rays should go, and implement in jax if needed.\n",
    "\n",
    "For now though here is why I went with the approach of using gradients to obtain a polynomial coefficients to map one plane to another, and did not set out to demonstrate what you had in Pytorch:\n",
    "\n",
    "1: An optimiser won't understand if the setup of the system has a 1 to 1 mapping from input plane to output plane. With the polynomial coefficients I get from gradients, if the terms B (see matrix below) are zero, we know we are in perfect imaging and no unique angle mapping from input plane to output plane exists.  \n",
    "\n",
    "2: An optimiser won't understand if there are multiple solutions for paths through the system, where as with a polynomial description we know how many roots there are. \n",
    "\n",
    "3: One ray and it's gradients characterises the system and all it's coefficients each time with our nmethod. (It can even tell you the phase an amplitude of a local description around the wavefront if needed, not yet implemented), so we only need to send one ray through the system.\n",
    "\n",
    "With that noted here is the model we have for descan error:\n",
    "\n",
    "The overall matrix description we aiming for is as follows: (whereby we did not restrict ourselves to writing matrices for each component to discover the terms in this matrix, it's just a convenient representation. ***We have noted your critique for TemGym that components should be simple and apply basic operations, and not be restricted to matrices when writing this new version!***)\n",
    "\n",
    "***NOTE ABOUT TESTS:*** There are some tests for the absolute basics, but nothing for this 4D stem calibration now. That is next on my to do list also if you don't have time do so!\n",
    "\n",
    "$\\displaystyle \n",
    "\\left(\\begin{matrix} \n",
    "x_{out} \\\\[0.3em] \n",
    "y_{out} \\\\[0.3em] \n",
    "\\theta_{x-out} \\\\[0.3em] \n",
    "\\theta_{y-out} \\\\[0.3em]\n",
    "1 \n",
    "\\end{matrix}\\right)\n",
    "\\;=\\;\n",
    "\\left(\\begin{matrix} \n",
    "A_{xx} & A_{xy} & B_{xx} & B_{xy} & {\\Delta}x \\\\[0.5em] \n",
    "A_{yx} & A_{yy} & B_{yx} & B_{yy} & {\\Delta}y \\\\[0.5em] \n",
    "C_{xx} & C_{xy} & D_{xx} & D_{xy} & {\\Delta}\\theta_{x} \\\\[0.5em] \n",
    "C_{yx} & C_{yy} & D_{yx} & D_{yy} & {\\Delta}\\theta_{y} \\\\[0.5em] \n",
    "0      & 0      & 0      & 0      & 1 \n",
    "\\end{matrix}\\right)\n",
    "\\left(\\begin{matrix} \n",
    "x_{in} \\\\[0.3em] \n",
    "y_{in} \\\\[0.3em] \n",
    "\\theta_{x-in} \\\\[0.3em] \n",
    "\\theta_{y-in} \\\\[0.3em]\n",
    "1 \n",
    "\\end{matrix}\\right)$\n",
    "\n",
    "For an ideal descanner to perform it's job, and have a matrix that is invertible I have come up with the following:\n",
    "\n",
    "$\\displaystyle \n",
    "\\left(\\begin{matrix} \n",
    "x_{out} \\\\[0.3em] \n",
    "y_{out} \\\\[0.3em] \n",
    "\\theta_{x-out} \\\\[0.3em] \n",
    "\\theta_{y-out} \\\\[0.3em]\n",
    "1 \n",
    "\\end{matrix}\\right)\n",
    "\\;=\\;\n",
    "\\left(\\begin{matrix} \n",
    "1 & 0 & 0 & 0 & {\\Delta}scan-pos_x \\\\[0.5em]  \n",
    "0 & 1 & 0 & 0 & {\\Delta}scan-pos_y \\\\[0.5em]  \n",
    "0 & 0 & 1 & 0 & 0 \\\\[0.5em]  \n",
    "0 & 0 & 0 & 1 & 0 \\\\[0.5em]  \n",
    "0 & 0 & 0 & 0 & 1\n",
    "\\end{matrix}\\right)\n",
    "\\left(\\begin{matrix} \n",
    "x_{in} \\\\[0.3em] \n",
    "y_{in} \\\\[0.3em] \n",
    "\\theta_{x-in} \\\\[0.3em] \n",
    "\\theta_{y-in} \\\\[0.3em]\n",
    "1 \n",
    "\\end{matrix}\\right)$\n",
    "\n",
    "Where are the descan error terms in the matrix? \n",
    "\n",
    "Hidden in the Axx, Ayy and Cxx, Cyy positions: Axx and Ayy for descan position error, because they are the values \n",
    "that change outgoing position as a function of incoming position (A is actually the magnification value too in ABCD matrices). \n",
    "\n",
    "Cxx and Cyy because they are the values that affect outgoing angle as a function of incoming position.\n",
    "\n",
    "$\\displaystyle \n",
    "\\left(\\begin{matrix} \n",
    "x_{out} \\\\[0.3em] \n",
    "y_{out} \\\\[0.3em] \n",
    "\\theta_{x-out} \\\\[0.3em] \n",
    "\\theta_{y-out} \\\\[0.3em]\n",
    "1 \n",
    "\\end{matrix}\\right)\n",
    "\\;=\\;\n",
    "\\left(\\begin{matrix} \n",
    "DescanError \\; pos_{xx} & DescanError \\; pos_{xy} & 0 & 0 & {\\Delta}scan-pos_x \\\\[0.5em]  \n",
    "DescanError \\; pos_{yx} & DescanError \\; pos_{yy} & 0 & 0 & {\\Delta}scan-pos_y \\\\[0.5em]  \n",
    "DescanError \\; \\theta_{xx} & DescanError \\; \\theta_{xy} & 1 & 0 & 0 \\\\[0.5em]  \n",
    "DescanError \\; \\theta_{yx} & DescanError \\; \\theta_{yy} & 0 & 1 & 0 \\\\[0.5em]  \n",
    "0 & 0 & 0 & 0 & 1\n",
    "\\end{matrix}\\right)\n",
    "\\left(\\begin{matrix} \n",
    "x_{in} \\\\[0.3em] \n",
    "y_{in} \\\\[0.3em] \n",
    "\\theta_{x-in} \\\\[0.3em] \n",
    "\\theta_{y-in} \\\\[0.3em]\n",
    "1 \n",
    "\\end{matrix}\\right)$\n",
    "\n",
    "The bad news is this matrix changes it's ${\\Delta}scan-pos_x$ and ${\\Delta}scan-pos_y$ values each time, but the internal 4x4 matrix values are constant. \n",
    "\n",
    "Of course if there are mixed errors then they show up as cross terms in the matrix, and if there are errors as a function of input slope $\\theta_{in}$, they occupy the B and D quadrants. \n",
    "\n",
    "Ultimately, I think that in the linear case this should be the transfer matrix one is trying to figure out from the 4D stem dataset. \n"
   ]
  },
  {
   "cell_type": "markdown",
   "metadata": {},
   "source": [
    "Now we demonstrate the newer version of temgym to try and generate a forward model of the 4D stem overfocus experiment. \n",
    "\n",
    "***Set input Parameters***"
   ]
  },
  {
   "cell_type": "code",
   "execution_count": 5,
   "metadata": {},
   "outputs": [],
   "source": [
    "# Linear Descan Error #1, 1, 0, 0 represents no descan pos or tilt error \n",
    "Axx, Ayy, Cxx, Cyy = 4, 3, -5, -4 # Normal Descan Error terms Axx, Ayy, Cxx, Cyy in transfer matrix\n",
    "Axy, Ayx, Cxy, Cyx = 6, -7, -3, 5 # Cross Descan Error terms Axy, Ayx, Cxy, Cyx in transfer matrix\n",
    "\n",
    "descan_error = [Axx, Axy, Ayx, Ayy, Cxx, Cxy, Cyx, Cyy]\n",
    "\n",
    "#Set up the parameters for the simulation\n",
    "defocus = 0.01\n",
    "semi_conv = 0.025\n",
    "camera_length = 1.0\n",
    "scan_size = sample_image_shape\n",
    "det_size = (64, 64)\n",
    "scan_px_size = 0.0001\n",
    "det_px_size= 0.002\n",
    "rotation = 0\n",
    "\n",
    "#Create ray input z plane\n",
    "crossover_z = jnp.zeros((1))"
   ]
  },
  {
   "cell_type": "code",
   "execution_count": 6,
   "metadata": {},
   "outputs": [],
   "source": [
    "# Set up the function to calculate the jacobian after propagation from one component to another\n",
    "# We can run multiple rays if we want, but no need for now. \n",
    "jac_run_to_component = jax.vmap(jax.jacobian(run_to_component), in_axes=(0, None))\n",
    "\n",
    "@jax.jit\n",
    "def run_model_for_jacobians(ray, model):\n",
    "\n",
    "    model_jacobians = []\n",
    "\n",
    "    # Get all jacobians from one component to another\n",
    "    for i in range(1, len(model)):\n",
    "        distance = (model[i-1].z - ray.z).squeeze()\n",
    "        ray = propagate(distance, ray)\n",
    "        ray = model[i-1].step(ray)\n",
    "        \n",
    "        jacobian = jac_run_to_component(ray, model[i])\n",
    "        model_jacobians.append({\n",
    "            'jacobian': jacobian\n",
    "        })\n",
    "\n",
    "    # Edit the jacobian matrices to include shifts calculated \n",
    "    # from the opl derivative\n",
    "    each_ABCD = [] #ABCD matrices at each component\n",
    "    total_ABCD = jnp.eye(5)\n",
    "\n",
    "    for jacobian in model_jacobians:\n",
    "        ray_jacobian = jacobian['jacobian'] #dr_out/dr_in\n",
    "        shift_vectors = ray_jacobian.pathlength.matrix # This is the shift vector for each ray, dopl_out/dr_in\n",
    "        ABCD = ray_jacobian.matrix.matrix # This is the ABCD matrix for each ray, dr_out/dr_in\n",
    "        ABCD = ABCD.at[0, :, -1].set(shift_vectors[0, :])\n",
    "        ABCD = ABCD.at[0, -1, -1].set(1.0) # \n",
    "        each_ABCD.append(ABCD)\n",
    "        total_ABCD = ABCD @ total_ABCD\n",
    "\n",
    "    return model_jacobians, each_ABCD, total_ABCD, ray\n",
    "\n",
    "@jax.jit\n",
    "def run_model_for_rays(model, each_ABCD, input_slopes, scan_position):\n",
    "    #Given input model and it's transfer matrix, run the model to find the positions of the rays at the sample and detector\n",
    "\n",
    "    scan_pos_y, scan_pos_x = scan_position\n",
    "\n",
    "    input_slopes_x = input_slopes[0]\n",
    "    input_slopes_y = input_slopes[1]\n",
    "\n",
    "    # Make the input rays we can run through one last time in the model to find positions at sample and detector\n",
    "    rays_at_source_with_semi_conv = jnp.vstack([\n",
    "        jnp.full(len(input_slopes_x), scan_pos_x),\n",
    "        jnp.full(len(input_slopes_y), scan_pos_y),\n",
    "        input_slopes_x,\n",
    "        input_slopes_y,\n",
    "        jnp.ones_like(input_slopes_x)\n",
    "    ])\n",
    "\n",
    "    # Propagate the point source coordinates through the forward ABCD matrices\n",
    "    coord_list = [rays_at_source_with_semi_conv]\n",
    "    for ABCD in each_ABCD:\n",
    "        new_coord = jnp.dot(ABCD[0], coord_list[-1])\n",
    "        coord_list.append(new_coord)\n",
    "        \n",
    "    # Stack the propagated coordinates into an array for easier indexing\n",
    "    coords_array = jnp.stack(coord_list, axis=0)\n",
    "    \n",
    "    xs = coords_array[:, 0, :]\n",
    "    ys = coords_array[:, 1, :]\n",
    "    zs = jnp.array([comp.z for comp in model])\n",
    "\n",
    "    return xs, ys, zs\n",
    "\n",
    "@jax.jit\n",
    "def find_input_slopes_that_hit_detpx_from_pt_source_with_semiconv(pixel_coords, scan_pos, semi_conv, transformation_matrix):\n",
    "    \"\"\"\n",
    "    Given a set of detector pixel coordinates, a semi-convergence angle from a source, and a transformation matrix, find a mask that tells us \n",
    "    what slopes will hit the detector pixels from the point source.\n",
    "\n",
    "    Args:\n",
    "    - pixel_coords (jnp.array): A (N, 2) array of pixel coordinates in y, x format.\n",
    "    - scan_pos (jnp.array): A (2,) array of the scan position in x and y format.\n",
    "    - semi_conv (float): The semi-convergence angle of the point source.q\n",
    "    - transformation_matrix (jnp.array): A (5, 5) transformation matrix.\n",
    "    \"\"\"\n",
    "    # We rely on the fact that theta_x_in**2 + theta_y_in**2 = semi_conv**2, \n",
    "    # which can be evaluated to find all pixels less than any semi_conv from the point source \n",
    "    # For a point source, our system of equations is:\n",
    "    # [x_out, y_out, theta_x_out, theta_y_out, 1] = transformation_matrix @ [scan_pos_x, scan_pos_y, theta_x_in, theta_y_in, 1]\n",
    "    # where theta_x_in and theta_y_in are given by alpha * cos(phi) and alpha * sin(phi), with alpha being the semi convergence angle\n",
    "    # and phi the azimuthal angle of a ray from the point source. This is a parametric equation for a cone of rays from the point source\n",
    "    # giving us the means to find a mask, which will tell us which slopes will hit the detector pixel from the point source for a given semi_conv.\n",
    "    scan_pos_y, scan_pos_x = scan_pos\n",
    "    A_xx, A_xy, B_xx, B_xy = transformation_matrix[0, :4] # Select first row not including the last column of values from the 5x5 transfer matrix\n",
    "    A_yx, A_yy, B_yx, B_yy = transformation_matrix[1, :4] # Select second row not including the last column of values from the 5x5 transfer matrix\n",
    "    delta_x, delta_y = transformation_matrix[0, 4], transformation_matrix[1, 4] # Get the shift values from the final column of the transfer matrix\n",
    "    y_out, x_out = pixel_coords[:, 0], pixel_coords[:, 1]\n",
    "\n",
    "    denom = (B_xx*B_yy - B_xy*B_yx)\n",
    "    theta_x_in = (-A_xx*B_yy*scan_pos_x - A_xy*B_yy*scan_pos_y + A_yx*B_xy*scan_pos_x + \n",
    "         A_yy*B_xy*scan_pos_y + B_xy*delta_y - B_xy*y_out - B_yy*delta_x + B_yy*x_out) / denom\n",
    "    theta_y_in = (A_xx*B_yx*scan_pos_x + A_xy*B_yx*scan_pos_y - A_yx*B_xx*scan_pos_x - \n",
    "         A_yy*B_xx*scan_pos_y - B_xx*delta_y + B_xx*y_out + B_yx*delta_x - B_yx*x_out) / denom\n",
    "    F = (theta_x_in**2 + theta_y_in**2) - semi_conv **2\n",
    "    mask = F <= 0\n",
    "    input_slopes_x_masked = jnp.where(mask, theta_x_in, 0.0)\n",
    "    input_slopes_y_masked = jnp.where(mask, theta_y_in, 0.0)\n",
    "    input_slopes_masked = jnp.stack([input_slopes_x_masked, input_slopes_y_masked])\n",
    "    \n",
    "    return input_slopes_masked, mask\n",
    "    \n",
    "@jax.jit\n",
    "def map_px_on_sample_to_detector(sample_image, detector_image,\n",
    "                                 sample_pixel_size, det_pixel_size,\n",
    "                                 ray_sample_coords_x, ray_sample_coords_y,\n",
    "                                 ray_det_coords_x, ray_det_coords_y):\n",
    "    \"\"\"\n",
    "    Map the pixel values from the sample to the detector image.\n",
    "    \"\"\"\n",
    "    sample_image_shape = sample_image.shape  # (n_rows, n_cols)\n",
    "    detector_image_shape = detector_image.shape\n",
    "\n",
    "    # Create an interpolant defined on the image grid (note image indexing is row, col)\n",
    "    y = jnp.arange(sample_image_shape[0])\n",
    "    x = jnp.arange(sample_image_shape[1])\n",
    "\n",
    "    image_interpolant = RegularGridInterpolator((y, x), sample_image,\n",
    "                                                bounds_error=False, fill_value=1.0)\n",
    "\n",
    "    sample_pixel_xs = ray_sample_coords_x / sample_pixel_size + sample_image_shape[1] / 2\n",
    "    sample_pixel_ys = ray_sample_coords_y / sample_pixel_size + sample_image_shape[0] / 2\n",
    "\n",
    "    sample_pts = jnp.stack([sample_pixel_ys, sample_pixel_xs], axis=-1)\n",
    "    \n",
    "    # Get the pixel values from the image using nearest neighbor interpolation\n",
    "    sample_px_hit_by_rays = image_interpolant(sample_pts, method='nearest')\n",
    "\n",
    "    det_pixel_xs = (ray_det_coords_x / det_pixel_size) + detector_image_shape[1] / 2\n",
    "    det_pixel_ys = (ray_det_coords_y / det_pixel_size) + detector_image_shape[0] / 2\n",
    "    \n",
    "    det_pixel_xs = jnp.round(det_pixel_xs).astype(jnp.int32)\n",
    "    det_pixel_ys = jnp.round(det_pixel_ys).astype(jnp.int32)\n",
    "    \n",
    "    # detector_image = jnp.zeros(detector_image_shape, dtype=jnp.complex64)\n",
    "    det_image = detector_image.at[(det_pixel_ys, det_pixel_xs)].set(sample_px_hit_by_rays)\n",
    "    \n",
    "    return det_image\n"
   ]
  },
  {
   "cell_type": "markdown",
   "metadata": {},
   "source": [
    "Create the model: Just 3 components: Sample, Descanner and Detector, and create a forward dataset. ***Warning:*** this will probably take a minute or two to complete on a modern workstation.\n",
    "\n",
    "\n",
    "**Note:** there is one small extra trick to fill in the final column of the matrix as the partial derivative of a constant shift value is 0, so the jacobian will not tell us the shift or tilt delta that was applied by the decsanner. We are storing those values in the path length function of the descanner, which is a bit of a fudge for now: Ultimately, all of the terms in the coordinate transform should actually be calculated by differentiating an optical path length function, because the optical path length is the generating function behind the coordinate transform (It is to do with the optical path length representing the lagrangian of the system). For now though to keep it simple I just use optical path length to store shift and tilt deltas."
   ]
  },
  {
   "cell_type": "code",
   "execution_count": 7,
   "metadata": {},
   "outputs": [
    {
     "data": {
      "application/vnd.jupyter.widget-view+json": {
       "model_id": "0f0acb61bfe74438b5832f372032f4ea",
       "version_major": 2,
       "version_minor": 0
      },
      "text/plain": [
       "Scan Y:   0%|          | 0/103 [00:00<?, ?it/s]"
      ]
     },
     "metadata": {},
     "output_type": "display_data"
    }
   ],
   "source": [
    "InputPlane = comp.InputPlane(z=crossover_z)\n",
    "Sample = comp.Sample(z=jnp.array([defocus]), complex_image=sample_image, pixel_size=scan_px_size)\n",
    "Descanner = comp.Descanner(z=jnp.array([defocus]), descan_error=descan_error, offset_x=0.0, offset_y=0.0)\n",
    "Rotator = comp.Rotator(z=jnp.array([defocus]), angle=rotation)\n",
    "Detector = comp.Detector(z=jnp.array([camera_length]), shape=det_size, pixel_size=det_px_size)\n",
    "init_model = [InputPlane, Sample, Descanner, Rotator, Detector]\n",
    "\n",
    "sample_coords = Sample.get_coords()\n",
    "detector_coords = Detector.get_coords()\n",
    "\n",
    "beam_radius_on_sample = defocus * semi_conv\n",
    "\n",
    "det_coords_y = detector_coords[:, 0]\n",
    "det_coords_x = detector_coords[:, 1]\n",
    "\n",
    "sample_coords_y = sample_coords[:, 0]\n",
    "sample_coords_x = sample_coords[:, 1]\n",
    "\n",
    "#Only select coordinates in sample_coords which are 1 beam radius in from the edge of the sample\n",
    "sample_coords = sample_coords.reshape((*sample_image_shape, 2))\n",
    "\n",
    "fourdstem_array = np.zeros((scan_size+det_size), dtype=np.complex64)\n",
    "\n",
    "x_out_centre = []\n",
    "y_out_centre = []\n",
    "x_out_centre_rm = []\n",
    "y_out_centre_rm = []\n",
    "\n",
    "scan_x_in = []\n",
    "scan_y_in = []\n",
    "\n",
    "for scan_idx_y in tqdm.trange(sample_image_shape[0], desc='Scan Y'):\n",
    "    for scan_idx_x in range(sample_image_shape[1]):\n",
    "        scan_pos = sample_coords[scan_idx_y, scan_idx_x] #Y X coords\n",
    "\n",
    "        # Make the input ray\n",
    "        input_ray_positions = jnp.vstack([\n",
    "            scan_pos[1], # x\n",
    "            scan_pos[0], # y\n",
    "            jnp.array([0.0]), # dx\n",
    "            jnp.array([0.0]), # dy\n",
    "            jnp.ones((1))\n",
    "        ]).T\n",
    "\n",
    "        ray = Ray(z=InputPlane.z, \n",
    "                matrix=input_ray_positions, \n",
    "                amplitude=jnp.ones(1), \n",
    "                pathlength=jnp.zeros(1), \n",
    "                wavelength=jnp.ones(1),\n",
    "                blocked=jnp.zeros(1, dtype=float))\n",
    "        \n",
    "        #Make a new descanner with the new scan position, and update the model\n",
    "        Descanner = comp.Descanner(z=jnp.array([defocus]), descan_error=descan_error, offset_x=scan_pos[1], offset_y=scan_pos[0])\n",
    "\n",
    "        ## NOTE - We are making a new model each time also as requested in the design of TemGym in January. Model creation is never fixed. \n",
    "        model = [InputPlane, Sample, Descanner, Rotator, Detector]\n",
    "\n",
    "        # Run the model to get the jacobians of output with respect to input\n",
    "        model_jacobians, each_ABCD, total_ABCD, ray = run_model_for_jacobians(ray, model)\n",
    "\n",
    "        # Now for the most important function in here: \n",
    "        input_slopes, mask = find_input_slopes_that_hit_detpx_from_pt_source_with_semiconv(detector_coords, scan_pos, semi_conv, total_ABCD[0])\n",
    "\n",
    "        # Run the model for the rays at each plane\n",
    "        xs, ys, zs = run_model_for_rays(model, each_ABCD, input_slopes, scan_pos)\n",
    "\n",
    "        ray_sample_coords_x, ray_sample_coords_y = xs[1], ys[1] # The ray coordinates at the sample plane\n",
    "        ray_det_coords_x, ray_det_coords_y = xs[-1], ys[-1] # The ray coordinates at the detector plane\n",
    "\n",
    "        detector_image = jnp.zeros(det_size, dtype=jnp.complex64)\n",
    "        det_image = map_px_on_sample_to_detector(sample_image, \n",
    "                                                    detector_image, \n",
    "                                                    scan_px_size, \n",
    "                                                    det_px_size, \n",
    "                                                    ray_sample_coords_x, \n",
    "                                                    ray_sample_coords_y, \n",
    "                                                    ray_det_coords_x, \n",
    "                                                    ray_det_coords_y)\n",
    "        \n",
    "        fourdstem_array[scan_idx_y, scan_idx_x] = det_image"
   ]
  },
  {
   "cell_type": "code",
   "execution_count": 8,
   "metadata": {},
   "outputs": [],
   "source": [
    "np.save(\"fourdstem_overfocused.npy\", fourdstem_array)"
   ]
  },
  {
   "cell_type": "code",
   "execution_count": 9,
   "metadata": {},
   "outputs": [
    {
     "data": {
      "application/vnd.jupyter.widget-view+json": {
       "model_id": "885c7ffdd18b4b71aa8725eb0d7ba384",
       "version_major": 2,
       "version_minor": 0
      },
      "image/png": "[encoded data removed]",
      "text/html": [
       "\n",
       "            <div style=\"display: inline-block;\">\n",
       "                <div class=\"jupyter-widgets widget-label\" style=\"text-align: center;\">\n",
       "                    Figure\n",
       "                </div>\n",
       "                <img src='data:image/png;base64,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' width=1000.0/>\n",
       "            </div>\n",
       "        "
      ],
      "text/plain": [
       "Canvas(toolbar=Toolbar(toolitems=[('Home', 'Reset original view', 'home', 'home'), ('Back', 'Back to previous …"
      ]
     },
     "metadata": {},
     "output_type": "display_data"
    }
   ],
   "source": [
    "scan_idx_x, scan_idx_y = 45, 45\n",
    "det_image_selected = fourdstem_array[scan_idx_y, scan_idx_x]\n",
    "fig, ax = plt.subplots(1, 2, figsize=(10, 5))\n",
    "ax[0].imshow(np.abs(sample_image), \n",
    "             cmap='gray')\n",
    "ax[0].scatter(scan_idx_x, scan_idx_y, c='r', marker='x', alpha=1)\n",
    "ax[0].set_title('Sample')\n",
    "\n",
    "ax[1].imshow(np.abs(det_image_selected), cmap='gray')\n",
    "ax[1].axhline(detector_image.shape[0]/2, color='lightgrey', linestyle='--')\n",
    "ax[1].axvline(detector_image.shape[1]/2, color='lightgrey', linestyle='--')\n",
    "ax[1].set_title('Detector Image')\n",
    "plt.show()"
   ]
  }
 ],
 "metadata": {
  "kernelspec": {
   "display_name": "temgym",
   "language": "python",
   "name": "python3"
  },
  "language_info": {
   "codemirror_mode": {
    "name": "ipython",
    "version": 3
   },
   "file_extension": ".py",
   "mimetype": "text/x-python",
   "name": "python",
   "nbconvert_exporter": "python",
   "pygments_lexer": "ipython3",
   "version": "3.12.6"
  }
 },
 "nbformat": 4,
 "nbformat_minor": 2
}
