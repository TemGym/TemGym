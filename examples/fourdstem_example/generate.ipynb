{
 "cells": [
  {
   "cell_type": "code",
   "execution_count": 1,
   "metadata": {},
   "outputs": [],
   "source": [
    "import os\n",
    "os.environ[\"XLA_PYTHON_CLIENT_MEM_FRACTION\"] = \".01\"\n",
    "\n",
    "from jax import numpy as jnp\n",
    "import jax\n",
    "from jax.scipy.interpolate import RegularGridInterpolator\n",
    "\n",
    "import temgymbasic.jax_components as comp\n",
    "from temgymbasic.jax_run import run_to_end, run_to_component\n",
    "from temgymbasic.jax_ray import Ray, propagate\n",
    "from temgymbasic.jax_utils import get_pytree_idx_from_model, get_pixel_coords\n",
    "import matplotlib.pyplot as plt\n",
    "\n",
    "import tqdm.auto as tqdm\n",
    "%matplotlib widget\n",
    "import numpy as np\n",
    "\n",
    "# set jax to use cpu\n",
    "jax.config.update(\"jax_platform_name\", \"cpu\")\n",
    "# jax.config.update(\"jax_enable_x64\", True)"
   ]
  },
  {
   "cell_type": "markdown",
   "metadata": {},
   "source": [
    "SYMPY Mathematics just to understand how to model the descanner with descan error, and how the variables propagate to the end. Feel free to ignore. "
   ]
  },
  {
   "cell_type": "code",
   "execution_count": 2,
   "metadata": {},
   "outputs": [
    {
     "data": {
      "text/latex": [
       "$\\displaystyle \\left[\\begin{matrix}x_{out}\\\\y_{out}\\\\\\theta_{x out}\\\\\\theta_{y out}\\\\1\\end{matrix}\\right] = \\left[\\begin{matrix}A_{xx} scan_{x} + A_{xy} scan_{y} + B_{xx} \\alpha \\cos{\\left(\\phi \\right)} + B_{xy} \\alpha \\sin{\\left(\\phi \\right)} + \\delta_{x}\\\\A_{yx} scan_{x} + A_{yy} scan_{y} + B_{yx} \\alpha \\cos{\\left(\\phi \\right)} + B_{yy} \\alpha \\sin{\\left(\\phi \\right)} + \\delta_{y}\\\\C_{xx} scan_{x} + C_{xy} scan_{y} + D_{xx} \\alpha \\cos{\\left(\\phi \\right)} + D_{xy} \\alpha \\sin{\\left(\\phi \\right)} + \\delta_{\\theta x}\\\\C_{yx} scan_{x} + C_{yy} scan_{y} + D_{yx} \\alpha \\cos{\\left(\\phi \\right)} + D_{yy} \\alpha \\sin{\\left(\\phi \\right)} + \\delta_{\\theta y}\\\\1\\end{matrix}\\right]$"
      ],
      "text/plain": [
       "Eq(Matrix([\n",
       "[      x_out],\n",
       "[      y_out],\n",
       "[theta_x_out],\n",
       "[theta_y_out],\n",
       "[          1]]), Matrix([\n",
       "[      A_xx*scan_{x} + A_xy*scan_{y} + B_xx*\\alpha*cos(\\phi) + B_xy*\\alpha*sin(\\phi) + delta_x],\n",
       "[      A_yx*scan_{x} + A_yy*scan_{y} + B_yx*\\alpha*cos(\\phi) + B_yy*\\alpha*sin(\\phi) + delta_y],\n",
       "[C_xx*scan_{x} + C_xy*scan_{y} + D_xx*\\alpha*cos(\\phi) + D_xy*\\alpha*sin(\\phi) + delta_theta_x],\n",
       "[C_yx*scan_{x} + C_yy*scan_{y} + D_yx*\\alpha*cos(\\phi) + D_yy*\\alpha*sin(\\phi) + delta_theta_y],\n",
       "[                                                                                            1]]))"
      ]
     },
     "metadata": {},
     "output_type": "display_data"
    },
    {
     "data": {
      "text/latex": [
       "$\\displaystyle x_{out} = A_{xx} scan_{x} + A_{xy} scan_{y} + B_{xx} \\alpha \\cos{\\left(\\phi \\right)} + B_{xy} \\alpha \\sin{\\left(\\phi \\right)} + \\delta_{x}$"
      ],
      "text/plain": [
       "Eq(x_out, A_xx*scan_{x} + A_xy*scan_{y} + B_xx*\\alpha*cos(\\phi) + B_xy*\\alpha*sin(\\phi) + delta_x)"
      ]
     },
     "metadata": {},
     "output_type": "display_data"
    },
    {
     "data": {
      "text/latex": [
       "$\\displaystyle y_{out} = A_{yx} scan_{x} + A_{yy} scan_{y} + B_{yx} \\alpha \\cos{\\left(\\phi \\right)} + B_{yy} \\alpha \\sin{\\left(\\phi \\right)} + \\delta_{y}$"
      ],
      "text/plain": [
       "Eq(y_out, A_yx*scan_{x} + A_yy*scan_{y} + B_yx*\\alpha*cos(\\phi) + B_yy*\\alpha*sin(\\phi) + delta_y)"
      ]
     },
     "metadata": {},
     "output_type": "display_data"
    },
    {
     "data": {
      "text/latex": [
       "$\\displaystyle \\theta_{x out} = C_{xx} scan_{x} + C_{xy} scan_{y} + D_{xx} \\alpha \\cos{\\left(\\phi \\right)} + D_{xy} \\alpha \\sin{\\left(\\phi \\right)} + \\delta_{\\theta x}$"
      ],
      "text/plain": [
       "Eq(theta_x_out, C_xx*scan_{x} + C_xy*scan_{y} + D_xx*\\alpha*cos(\\phi) + D_xy*\\alpha*sin(\\phi) + delta_theta_x)"
      ]
     },
     "metadata": {},
     "output_type": "display_data"
    },
    {
     "data": {
      "text/latex": [
       "$\\displaystyle \\theta_{y out} = C_{yx} scan_{x} + C_{yy} scan_{y} + D_{yx} \\alpha \\cos{\\left(\\phi \\right)} + D_{yy} \\alpha \\sin{\\left(\\phi \\right)} + \\delta_{\\theta y}$"
      ],
      "text/plain": [
       "Eq(theta_y_out, C_yx*scan_{x} + C_yy*scan_{y} + D_yx*\\alpha*cos(\\phi) + D_yy*\\alpha*sin(\\phi) + delta_theta_y)"
      ]
     },
     "metadata": {},
     "output_type": "display_data"
    },
    {
     "name": "stdout",
     "output_type": "stream",
     "text": [
      "(-A_xx*B_yy*scan_{x} - A_xy*B_yy*scan_{y} + A_yx*B_xy*scan_{x} + A_yy*B_xy*scan_{y} + B_xy*delta_y - B_xy*y_out - B_yy*delta_x + B_yy*x_out)/(B_xx*B_yy - B_xy*B_yx)\n",
      "(A_xx*B_yx*scan_{x} + A_xy*B_yx*scan_{y} - A_yx*B_xx*scan_{x} - A_yy*B_xx*scan_{y} - B_xx*delta_y + B_xx*y_out + B_yx*delta_x - B_yx*x_out)/(B_xx*B_yy - B_xy*B_yx)\n"
     ]
    }
   ],
   "source": [
    "import sympy as sp\n",
    "\n",
    "def create_2d_rotation_matrix_5x5(theta, flip_y=False):\n",
    "    \"\"\"\n",
    "    Returns a 5x5 sympy Matrix that applies a 2D rotation (for x,y and their slopes)\n",
    "    by angle 'theta', with an option to flip the y-axis.\n",
    "    \"\"\"\n",
    "    c = sp.cos(theta)\n",
    "    s = sp.sin(theta)\n",
    "\n",
    "    # By default: normal rotation blocks\n",
    "    #     [ c  -s ]\n",
    "    #     [ s   c ]\n",
    "    # If we 'flip_y', we reflect the final y-coordinates about the x-axis, i.e.\n",
    "    # (x, y) -> (x, -y) after rotation. That yields:\n",
    "    #     x' =  c*x - s*y\n",
    "    #     y' = -s*x - c*y\n",
    "    if flip_y:\n",
    "        # Rotation followed by flip in y\n",
    "        m11 =  c\n",
    "        m12 = -s\n",
    "        m21 = -s\n",
    "        m22 = -c\n",
    "    else:\n",
    "        # Normal rotation\n",
    "        m11 =  c\n",
    "        m12 = -s\n",
    "        m21 =  s\n",
    "        m22 =  c\n",
    "\n",
    "    M = sp.eye(5)  # Start as 5x5 identity\n",
    "    # Fill in the (x, y) rotation/flip block:\n",
    "    M[0, 0] = m11\n",
    "    M[0, 1] = m12\n",
    "    M[1, 0] = m21\n",
    "    M[1, 1] = m22\n",
    "\n",
    "    # # Fill in the (dx, dy) rotation/flip block:\n",
    "    # M[2, 2] = m11\n",
    "    # M[2, 3] = m12\n",
    "    # M[3, 2] = m21\n",
    "    # M[3, 3] = m22\n",
    "\n",
    "    return M\n",
    "\n",
    "x_out, y_out, theta_x_out, theta_y_out = sp.symbols('x_out y_out theta_x_out theta_y_out')\n",
    "x_in, y_in, theta_x_in, theta_y_in = sp.symbols('x_in y_in theta_x_in theta_y_in')\n",
    "\n",
    "# Lit pixels from Point Source\n",
    "# Make a 5x5 matrix for use in sympy with Axx, Axy, Ayx, Ayy, Bxx, Bxy, Byx, Byy... etc values in each quadrant\n",
    "A_xx, A_xy, A_yx, A_yy = sp.symbols('A_xx A_xy A_yx A_yy', real=True)\n",
    "B_xx, B_xy, B_yx, B_yy = sp.symbols('B_xx B_xy B_yx B_yy', real=True)\n",
    "C_xx, C_xy, C_yx, C_yy = sp.symbols('C_xx C_xy C_yx C_yy', real=True)\n",
    "D_xx, D_xy, D_yx, D_yy = sp.symbols('D_xx D_xy D_yx D_yy', real=True)\n",
    "delta_x, delta_y, delta_theta_x, delta_theta_y = sp.symbols('delta_x delta_y delta_theta_x delta_theta_y', real=True)\n",
    "\n",
    "#Populate the 5x5 matrix with the these symbols, with 0s in the bottom row, and 1 in the bottom right corner\n",
    "TransferMatrix = sp.Matrix([[A_xx, A_xy, B_xx, B_xy, delta_x],\n",
    "                            [A_yx, A_yy, B_yx, B_yy, delta_y],\n",
    "                            [C_xx, C_xy, D_xx, D_xy, delta_theta_x],\n",
    "                            [C_yx, C_yy, D_yx, D_yy, delta_theta_y],\n",
    "                            [0, 0, 0, 0, 1]])\n",
    "\n",
    "# create column vector of output coordinates, x_out, y_out, theta_x_out, theta_y_out 1\n",
    "out_coords = sp.Matrix([x_out, y_out, theta_x_out, theta_y_out, 1])\n",
    "semi_conv, phi = sp.symbols(r'\\alpha, \\phi')\n",
    "\n",
    "#Now for the incoordinates, I want the vector to be populated via the following:\n",
    "# x_in = scan_pos_x, y_in = scan_pos_y, but theta_x_in and theta_y_in should be a function to define a cone of rays \n",
    "# with a semi-convergence angle.\n",
    "theta_x_in = semi_conv * sp.cos(phi)\n",
    "theta_y_in = semi_conv * sp.sin(phi)\n",
    "scan_position_x, scan_position_y = sp.symbols('scan_{x} scan_{y}')\n",
    "\n",
    "in_coords = sp.Matrix([scan_position_x, scan_position_y, theta_x_in, theta_y_in, 1])\n",
    "transfer_equation = sp.Eq(out_coords, TransferMatrix * in_coords, evaluate=False)\n",
    "# reverse_equation = sp.Eq(in_coords, InvertedTransferMatrix * out_coords, evaluate=False)\n",
    "\n",
    "x_out_eq = sp.Eq(out_coords[0], transfer_equation.rhs[0])\n",
    "y_out_eq = sp.Eq(out_coords[1], transfer_equation.rhs[1])\n",
    "theta_x_out_eq = sp.Eq(out_coords[2], transfer_equation.rhs[2])\n",
    "theta_y_out_eq = sp.Eq(out_coords[3], transfer_equation.rhs[3])\n",
    "\n",
    "display(transfer_equation)\n",
    "display(x_out_eq)\n",
    "display(y_out_eq)\n",
    "display(theta_x_out_eq)\n",
    "display(theta_y_out_eq)\n",
    "\n",
    "#replace alpha * cos(phi) with u and alpha * sin(phi) with v, and use both equations to solve for u and v\n",
    "u, v = sp.symbols('u v')\n",
    "x_out_eq = x_out_eq.subs({theta_x_in: u, theta_y_in: v})\n",
    "y_out_eq = y_out_eq.subs({theta_x_in: u, theta_y_in: v})\n",
    "\n",
    "u_v_eq = sp.solve([x_out_eq, y_out_eq], [u, v])\n",
    "print(u_v_eq[u])\n",
    "print(u_v_eq[v])"
   ]
  },
  {
   "cell_type": "markdown",
   "metadata": {},
   "source": [
    "In the case where we are specific about the propagation and descan steps, we have the following, and for a ray with 0 initial slope. "
   ]
  },
  {
   "cell_type": "code",
   "execution_count": 3,
   "metadata": {},
   "outputs": [
    {
     "data": {
      "text/latex": [
       "$\\displaystyle \\left[\\begin{matrix}x_{out}\\\\y_{out}\\\\\\theta_{x out}\\\\\\theta_{y out}\\\\1\\end{matrix}\\right] = \\left[\\begin{matrix}\\alpha z_{def} \\left(E_{xy} \\cos{\\left(\\Omega \\right)} - E_{yy} \\sin{\\left(\\Omega \\right)} + E_{dxy} z_{samp}\\right) \\sin{\\left(\\phi \\right)} + \\alpha \\left(z_{def} \\left(E_{xx} \\cos{\\left(\\Omega \\right)} - E_{yx} \\sin{\\left(\\Omega \\right)} + E_{dxx} z_{samp}\\right) + z_{samp}\\right) \\cos{\\left(\\phi \\right)} - scan_{x} \\cos{\\left(\\Omega \\right)} + scan_{y} \\sin{\\left(\\Omega \\right)} + scan_{x} \\left(E_{xx} \\cos{\\left(\\Omega \\right)} - E_{yx} \\sin{\\left(\\Omega \\right)} + E_{dxx} z_{samp}\\right) + scan_{y} \\left(E_{xy} \\cos{\\left(\\Omega \\right)} - E_{yy} \\sin{\\left(\\Omega \\right)} + E_{dxy} z_{samp}\\right)\\\\- \\alpha z_{def} \\left(E_{xx} \\sin{\\left(\\Omega \\right)} + E_{yx} \\cos{\\left(\\Omega \\right)} - E_{dyx} z_{samp}\\right) \\cos{\\left(\\phi \\right)} - \\alpha \\left(z_{def} \\left(E_{xy} \\sin{\\left(\\Omega \\right)} + E_{yy} \\cos{\\left(\\Omega \\right)} - E_{dyy} z_{samp}\\right) - z_{samp}\\right) \\sin{\\left(\\phi \\right)} + scan_{x} \\sin{\\left(\\Omega \\right)} + scan_{y} \\cos{\\left(\\Omega \\right)} - scan_{x} \\left(E_{xx} \\sin{\\left(\\Omega \\right)} + E_{yx} \\cos{\\left(\\Omega \\right)} - E_{dyx} z_{samp}\\right) - scan_{y} \\left(E_{xy} \\sin{\\left(\\Omega \\right)} + E_{yy} \\cos{\\left(\\Omega \\right)} - E_{dyy} z_{samp}\\right)\\\\E_{dxx} scan_{x} + E_{dxy} \\alpha z_{def} \\sin{\\left(\\phi \\right)} + E_{dxy} scan_{y} + \\alpha \\left(E_{dxx} z_{def} + 1\\right) \\cos{\\left(\\phi \\right)}\\\\E_{dyx} \\alpha z_{def} \\cos{\\left(\\phi \\right)} + E_{dyx} scan_{x} + E_{dyy} scan_{y} + \\alpha \\left(E_{dyy} z_{def} + 1\\right) \\sin{\\left(\\phi \\right)}\\\\1\\end{matrix}\\right]$"
      ],
      "text/plain": [
       "Eq(Matrix([\n",
       "[      x_out],\n",
       "[      y_out],\n",
       "[theta_x_out],\n",
       "[theta_y_out],\n",
       "[          1]]), Matrix([\n",
       "[ \\alpha*z_def*(E_xy*cos(Omega) - E_yy*sin(Omega) + E_{dxy}*z_samp)*sin(\\phi) + \\alpha*(z_def*(E_xx*cos(Omega) - E_yx*sin(Omega) + E_{dxx}*z_samp) + z_samp)*cos(\\phi) - scan_x*cos(Omega) + scan_y*sin(Omega) + scan_{x}*(E_xx*cos(Omega) - E_yx*sin(Omega) + E_{dxx}*z_samp) + scan_{y}*(E_xy*cos(Omega) - E_yy*sin(Omega) + E_{dxy}*z_samp)],\n",
       "[-\\alpha*z_def*(E_xx*sin(Omega) + E_yx*cos(Omega) - E_{dyx}*z_samp)*cos(\\phi) - \\alpha*(z_def*(E_xy*sin(Omega) + E_yy*cos(Omega) - E_{dyy}*z_samp) - z_samp)*sin(\\phi) + scan_x*sin(Omega) + scan_y*cos(Omega) - scan_{x}*(E_xx*sin(Omega) + E_yx*cos(Omega) - E_{dyx}*z_samp) - scan_{y}*(E_xy*sin(Omega) + E_yy*cos(Omega) - E_{dyy}*z_samp)],\n",
       "[                                                                                                                                                                                                                                  E_{dxx}*scan_{x} + E_{dxy}*\\alpha*z_def*sin(\\phi) + E_{dxy}*scan_{y} + \\alpha*(E_{dxx}*z_def + 1)*cos(\\phi)],\n",
       "[                                                                                                                                                                                                                                  E_{dyx}*\\alpha*z_def*cos(\\phi) + E_{dyx}*scan_{x} + E_{dyy}*scan_{y} + \\alpha*(E_{dyy}*z_def + 1)*sin(\\phi)],\n",
       "[                                                                                                                                                                                                                                                                                                                                            1]]))"
      ]
     },
     "metadata": {},
     "output_type": "display_data"
    },
    {
     "data": {
      "text/latex": [
       "$\\displaystyle x_{out} = - scan_{x} \\cos{\\left(\\Omega \\right)} + scan_{y} \\sin{\\left(\\Omega \\right)} + scan_{x} \\left(E_{xx} \\cos{\\left(\\Omega \\right)} - E_{yx} \\sin{\\left(\\Omega \\right)} + E_{dxx} z_{samp}\\right) + scan_{y} \\left(E_{xy} \\cos{\\left(\\Omega \\right)} - E_{yy} \\sin{\\left(\\Omega \\right)} + E_{dxy} z_{samp}\\right)$"
      ],
      "text/plain": [
       "Eq(x_out, -scan_x*cos(Omega) + scan_y*sin(Omega) + scan_{x}*(E_xx*cos(Omega) - E_yx*sin(Omega) + E_{dxx}*z_samp) + scan_{y}*(E_xy*cos(Omega) - E_yy*sin(Omega) + E_{dxy}*z_samp))"
      ]
     },
     "metadata": {},
     "output_type": "display_data"
    },
    {
     "data": {
      "text/latex": [
       "$\\displaystyle y_{out} = scan_{x} \\sin{\\left(\\Omega \\right)} + scan_{y} \\cos{\\left(\\Omega \\right)} - scan_{x} \\left(E_{xx} \\sin{\\left(\\Omega \\right)} + E_{yx} \\cos{\\left(\\Omega \\right)} - E_{dyx} z_{samp}\\right) - scan_{y} \\left(E_{xy} \\sin{\\left(\\Omega \\right)} + E_{yy} \\cos{\\left(\\Omega \\right)} - E_{dyy} z_{samp}\\right)$"
      ],
      "text/plain": [
       "Eq(y_out, scan_x*sin(Omega) + scan_y*cos(Omega) - scan_{x}*(E_xx*sin(Omega) + E_yx*cos(Omega) - E_{dyx}*z_samp) - scan_{y}*(E_xy*sin(Omega) + E_yy*cos(Omega) - E_{dyy}*z_samp))"
      ]
     },
     "metadata": {},
     "output_type": "display_data"
    },
    {
     "data": {
      "text/latex": [
       "$\\displaystyle \\theta_{x out} = E_{dxx} scan_{x} + E_{dxy} scan_{y}$"
      ],
      "text/plain": [
       "Eq(theta_x_out, E_{dxx}*scan_{x} + E_{dxy}*scan_{y})"
      ]
     },
     "metadata": {},
     "output_type": "display_data"
    },
    {
     "data": {
      "text/latex": [
       "$\\displaystyle \\theta_{y out} = E_{dyx} scan_{x} + E_{dyy} scan_{y}$"
      ],
      "text/plain": [
       "Eq(theta_y_out, E_{dyx}*scan_{x} + E_{dyy}*scan_{y})"
      ]
     },
     "metadata": {},
     "output_type": "display_data"
    }
   ],
   "source": [
    "import sympy as sp\n",
    "\n",
    "defocus, sample_to_det_z, scan_x, scan_y = sp.symbols('z_def z_samp scan_x scan_y', real=True)\n",
    "E_xx, E_xy, E_yx, E_yy, E_dxx, E_dxy, E_dyx, E_dyy = sp.symbols(r'E_xx E_xy E_yx E_yy E_{dxx} E_{dxy} E_{dyx} E_{dyy}', real=True)\n",
    "rot = sp.symbols('Omega', real=True)\n",
    "\n",
    "DefocusMatrix = sp.Matrix([[1, 0, defocus, 0, 0],\n",
    "                            [0, 1, 0, defocus, 0],\n",
    "                            [0, 0, 1, 0, 0],\n",
    "                            [0, 0, 0, 1, 0],\n",
    "                            [0, 0, 0, 0, 1]])\n",
    "\n",
    "DescannerMatrixError = sp.Matrix([[E_xx, E_xy, 0, 0, -scan_x],\n",
    "                            [E_yx, E_yy, 0, 0, -scan_y],\n",
    "                            [E_dxx, E_dxy, 1, 0, 0],\n",
    "                            [E_dyx, E_dyy, 0, 1, 0],\n",
    "                            [0, 0, 0, 0, 1]])\n",
    "\n",
    "DescannerMatrixNoError = sp.Matrix([[1, 0, 0, 0, -scan_x],\n",
    "                                    [0, 1, 0, 0, -scan_y],\n",
    "                                    [0, 0, 1, 0, 0],\n",
    "                                    [0, 0, 0, 1, 0],\n",
    "                                    [0, 0, 0, 0, 1]])\n",
    "\n",
    "SampleDetMatrix = sp.Matrix([[1, 0, sample_to_det_z, 0, 0],\n",
    "                            [0, 1, 0, sample_to_det_z, 0],\n",
    "                            [0, 0, 1, 0, 0],\n",
    "                            [0, 0, 0, 1, 0],\n",
    "                            [0, 0, 0, 0, 1]])\n",
    "\n",
    "RotationMatrix = create_2d_rotation_matrix_5x5(rot, flip_y=True)\n",
    "\n",
    "TransferMatrix = SampleDetMatrix * RotationMatrix * DescannerMatrixError * DefocusMatrix\n",
    "\n",
    "transfer_equation = sp.Eq(out_coords, TransferMatrix * in_coords, evaluate=False)\n",
    "\n",
    "display(transfer_equation.simplify())\n",
    "\n",
    "x_out_eq = sp.Eq(out_coords[0], transfer_equation.rhs[0])\n",
    "y_out_eq = sp.Eq(out_coords[1], transfer_equation.rhs[1])\n",
    "\n",
    "r_sqr = x_out_eq.rhs ** 2 + y_out_eq.rhs ** 2\n",
    "theta_x_out_eq = sp.Eq(out_coords[2], transfer_equation.rhs[2])\n",
    "theta_y_out_eq = sp.Eq(out_coords[3], transfer_equation.rhs[3])\n",
    "\n",
    "#replace alpha with 0\n",
    "x_out_eq = x_out_eq.subs({semi_conv: 0})\n",
    "y_out_eq = y_out_eq.subs({semi_conv: 0})\n",
    "theta_x_out_eq = theta_x_out_eq.subs({semi_conv: 0})\n",
    "theta_y_out_eq = theta_y_out_eq.subs({semi_conv: 0})\n",
    "\n",
    "display(x_out_eq.simplify())\n",
    "display(y_out_eq.simplify())\n",
    "display(theta_x_out_eq)\n",
    "display(theta_y_out_eq)\n",
    "\n"
   ]
  },
  {
   "cell_type": "markdown",
   "metadata": {},
   "source": [
    "Begin by importing test image"
   ]
  },
  {
   "cell_type": "code",
   "execution_count": null,
   "metadata": {},
   "outputs": [],
   "source": [
    "from scipy.ndimage import zoom\n",
    "\n",
    "sample_image = plt.imread(r'SilverFast_Resolution_Target_USAF_1951.png')[:, :, 0]\n",
    "image_shape = sample_image.shape\n",
    "\n",
    "#remove the black pixel border on the edges\n",
    "sample_image = sample_image[1:-1, 1:-1]\n",
    "\n",
    "# Downsample the sample_image by a factor of 2\n",
    "downsample_factor = 0.5\n",
    "sample_image = zoom(sample_image, downsample_factor)\n",
    "sample_image_shape = sample_image.shape\n",
    "\n",
    "\n",
    "sample_image = jnp.array(sample_image, dtype=jnp.complex64)"
   ]
  },
  {
   "cell_type": "markdown",
   "metadata": {},
   "source": [
    "Modelling Descan Error: In order to determine how the descan error description should look like, I thought only about what basic operations a descanner should apply so that we have a 5x5 coordinate transform that is still invertible, and I used jax to find where the operations I apply would populate the jacobian, which has helped me discover the following analysis. \n",
    "\n",
    "Importantly, even in the non-linear case (not yet demonstrated in this notebook but can be soon) we can always find a polynomial which we can then find roots of, that relate outgoing coordinates (positions and slopes), EXCEPT in certain circumstances like when a lens performs perfect imaging from the object plane to the image plane. In this case, there is no single angle that maps positions to positions. When certain coeffients in the polynomial description relating coordinates are zero, you will know you are in this regime, and there is no direct mapping. This is an advantage to this approach, that I don't see with an optimiser being sent at the model to find where rays go - with gradients in jax we will always be able to find a simpler polynomial we can find roots of (if certain terms exist) to tell us what angle ray will take us back to the input plane. \n",
    "\n",
    "All of this means that from my limited understanding so far I don't think an optimiser is entirely neccessary in the way it was implemented in pytorch: This does not mean I don't think an optimiser won't be needed to solve other parts of this problem, or be used in a different way, just strictly for ray tracing in this context: I can also write an optimiser to find where rays should go, and implement in jax if needed.\n",
    "\n",
    "For now though here is why I went with the approach of using gradients to obtain a polynomial coefficients to map one plane to another, and did not set out to demonstrate what you had in Pytorch:\n",
    "\n",
    "1: An optimiser won't understand if the setup of the system has a 1 to 1 mapping from input plane to output plane. With the polynomial coefficients I get from gradients, if the terms B (see matrix below) are zero, we know we are in perfect imaging and no unique angle mapping from input plane to output plane exists.  \n",
    "\n",
    "2: An optimiser won't understand if there are multiple solutions for paths through the system, where as with a polynomial description we know how many roots there are. \n",
    "\n",
    "3: One ray and it's gradients characterises the system and all it's coefficients each time with our nmethod. (It can even tell you the phase an amplitude of a local description around the wavefront if needed, not yet implemented), so we only need to send one ray through the system.\n",
    "\n",
    "With that noted here is the model we have for descan error:\n",
    "\n",
    "The overall matrix description we aiming for is as follows: (whereby we did not restrict ourselves to writing matrices for each component to discover the terms in this matrix, it's just a convenient representation. ***We have noted your critique for TemGym that components should be simple and apply basic operations, and not be restricted to matrices when writing this new version!***)\n",
    "\n",
    "***NOTE ABOUT TESTS:*** There are some tests for the absolute basics, but nothing for this 4D stem calibration now. That is next on my to do list also if you don't have time do so!\n",
    "\n",
    "$\\displaystyle \n",
    "\\left(\\begin{matrix} \n",
    "x_{out} \\\\[0.3em] \n",
    "y_{out} \\\\[0.3em] \n",
    "\\theta_{x-out} \\\\[0.3em] \n",
    "\\theta_{y-out} \\\\[0.3em]\n",
    "1 \n",
    "\\end{matrix}\\right)\n",
    "\\;=\\;\n",
    "\\left(\\begin{matrix} \n",
    "A_{xx} & A_{xy} & B_{xx} & B_{xy} & {\\Delta}x \\\\[0.5em] \n",
    "A_{yx} & A_{yy} & B_{yx} & B_{yy} & {\\Delta}y \\\\[0.5em] \n",
    "C_{xx} & C_{xy} & D_{xx} & D_{xy} & {\\Delta}\\theta_{x} \\\\[0.5em] \n",
    "C_{yx} & C_{yy} & D_{yx} & D_{yy} & {\\Delta}\\theta_{y} \\\\[0.5em] \n",
    "0      & 0      & 0      & 0      & 1 \n",
    "\\end{matrix}\\right)\n",
    "\\left(\\begin{matrix} \n",
    "x_{in} \\\\[0.3em] \n",
    "y_{in} \\\\[0.3em] \n",
    "\\theta_{x-in} \\\\[0.3em] \n",
    "\\theta_{y-in} \\\\[0.3em]\n",
    "1 \n",
    "\\end{matrix}\\right)$\n",
    "\n",
    "For an ideal descanner to perform it's job, and have a matrix that is invertible I have come up with the following:\n",
    "\n",
    "$\\displaystyle \n",
    "\\left(\\begin{matrix} \n",
    "x_{out} \\\\[0.3em] \n",
    "y_{out} \\\\[0.3em] \n",
    "\\theta_{x-out} \\\\[0.3em] \n",
    "\\theta_{y-out} \\\\[0.3em]\n",
    "1 \n",
    "\\end{matrix}\\right)\n",
    "\\;=\\;\n",
    "\\left(\\begin{matrix} \n",
    "1 & 0 & 0 & 0 & {\\Delta}scan-pos_x \\\\[0.5em]  \n",
    "0 & 1 & 0 & 0 & {\\Delta}scan-pos_y \\\\[0.5em]  \n",
    "0 & 0 & 1 & 0 & 0 \\\\[0.5em]  \n",
    "0 & 0 & 0 & 1 & 0 \\\\[0.5em]  \n",
    "0 & 0 & 0 & 0 & 1\n",
    "\\end{matrix}\\right)\n",
    "\\left(\\begin{matrix} \n",
    "x_{in} \\\\[0.3em] \n",
    "y_{in} \\\\[0.3em] \n",
    "\\theta_{x-in} \\\\[0.3em] \n",
    "\\theta_{y-in} \\\\[0.3em]\n",
    "1 \n",
    "\\end{matrix}\\right)$\n",
    "\n",
    "Where are the descan error terms in the matrix? \n",
    "\n",
    "Hidden in the Axx, Ayy and Cxx, Cyy positions: Axx and Ayy for descan position error, because they are the values \n",
    "that change outgoing position as a function of incoming position (A is actually the magnification value too in ABCD matrices). \n",
    "\n",
    "Cxx and Cyy because they are the values that affect outgoing angle as a function of incoming position.\n",
    "\n",
    "$\\displaystyle \n",
    "\\left(\\begin{matrix} \n",
    "x_{out} \\\\[0.3em] \n",
    "y_{out} \\\\[0.3em] \n",
    "\\theta_{x-out} \\\\[0.3em] \n",
    "\\theta_{y-out} \\\\[0.3em]\n",
    "1 \n",
    "\\end{matrix}\\right)\n",
    "\\;=\\;\n",
    "\\left(\\begin{matrix} \n",
    "DescanError \\; pos_{xx} & DescanError \\; pos_{xy} & 0 & 0 & {\\Delta}scan-pos_x \\\\[0.5em]  \n",
    "DescanError \\; pos_{yx} & DescanError \\; pos_{yy} & 0 & 0 & {\\Delta}scan-pos_y \\\\[0.5em]  \n",
    "DescanError \\; \\theta_{xx} & DescanError \\; \\theta_{xy} & 1 & 0 & 0 \\\\[0.5em]  \n",
    "DescanError \\; \\theta_{yx} & DescanError \\; \\theta_{yy} & 0 & 1 & 0 \\\\[0.5em]  \n",
    "0 & 0 & 0 & 0 & 1\n",
    "\\end{matrix}\\right)\n",
    "\\left(\\begin{matrix} \n",
    "x_{in} \\\\[0.3em] \n",
    "y_{in} \\\\[0.3em] \n",
    "\\theta_{x-in} \\\\[0.3em] \n",
    "\\theta_{y-in} \\\\[0.3em]\n",
    "1 \n",
    "\\end{matrix}\\right)$\n",
    "\n",
    "The bad news is this matrix changes it's ${\\Delta}scan-pos_x$ and ${\\Delta}scan-pos_y$ values each time, but the internal 4x4 matrix values are constant. \n",
    "\n",
    "Of course if there are mixed errors then they show up as cross terms in the matrix, and if there are errors as a function of input slope $\\theta_{in}$, they occupy the B and D quadrants. \n",
    "\n",
    "Ultimately, I think that in the linear case this should be the transfer matrix one is trying to figure out from the 4D stem dataset. \n"
   ]
  },
  {
   "cell_type": "markdown",
   "metadata": {},
   "source": [
    "Now we demonstrate the newer version of temgym to try and generate a forward model of the 4D stem overfocus experiment. \n",
    "\n",
    "***Set input Parameters***"
   ]
  },
  {
   "cell_type": "code",
   "execution_count": null,
   "metadata": {},
   "outputs": [],
   "source": [
    "Axx, Ayy, Cxx, Cyy = 4, 3, -5, -4 # Normal Descan Error terms Axx, Ayy, Cxx, Cyy in transfer matrix\n",
    "Axy, Ayx, Cxy, Cyx = 6, -7, -3, 5 # Cross Descan Error terms Axy, Ayx, Cxy, Cyx in transfer matrix\n",
    "Axx, Ayy, Cxx, Cyy = 0, 0, 0, 0\n",
    "Axy, Ayx, Cxy, Cyx = 0, 0, 0, 0\n",
    "\n",
    "descan_error = [Axx, Axy, Ayx, Ayy, Cxx, Cxy, Cyx, Cyy]\n",
    "\n",
    "#Set up the parameters for the simulation\n",
    "defocus = 0.01\n",
    "semi_conv = 0.05\n",
    "camera_length = 1.0\n",
    "scan_size = sample_image_shape\n",
    "det_size = (64, 64)\n",
    "scan_px_size = 0.0001\n",
    "det_px_size= 0.002\n",
    "rotation = 45\n",
    "\n",
    "sample_image_shape = sample_image.shape  # (n_rows, n_cols)\n",
    "\n",
    "sample_extent_x_half = sample_image_shape[1] * scan_px_size / 2\n",
    "sample_extent_y_half = sample_image_shape[0] * scan_px_size / 2\n",
    "\n",
    "sample_coords_y = jnp.linspace(-sample_extent_y_half, sample_extent_y_half, sample_image_shape[0])\n",
    "sample_coords_x = jnp.linspace(-sample_extent_x_half, sample_extent_x_half, sample_image_shape[1])\n",
    "\n",
    "image_interpolant = RegularGridInterpolator((sample_coords_y, sample_coords_x), sample_image,\n",
    "                                            bounds_error=False, fill_value=1.0)\n",
    "\n",
    "\n",
    "#Create ray input z plane\n",
    "crossover_z = jnp.zeros((1))"
   ]
  },
  {
   "cell_type": "code",
   "execution_count": null,
   "metadata": {},
   "outputs": [],
   "source": [
    "# Set up the function to calculate the jacobian after propagation from one component to another\n",
    "# We can run multiple rays if we want, but no need for now. \n",
    "jac_run_to_component = jax.vmap(jax.jacobian(run_to_component), in_axes=(0, None))\n",
    "\n",
    "@jax.jit\n",
    "def run_model_for_jacobians(ray, model):\n",
    "\n",
    "    model_jacobians = []\n",
    "\n",
    "    # Get all jacobians from one component to another\n",
    "    for i in range(1, len(model)):\n",
    "        distance = (model[i-1].z - ray.z).squeeze()\n",
    "        ray = propagate(distance, ray)\n",
    "        ray = model[i-1].step(ray)\n",
    "        \n",
    "        jacobian = jac_run_to_component(ray, model[i])\n",
    "        model_jacobians.append({\n",
    "            'jacobian': jacobian\n",
    "        })\n",
    "\n",
    "    # Edit the jacobian matrices to include shifts calculated \n",
    "    # from the opl derivative\n",
    "    each_ABCD = [] #ABCD matrices at each component\n",
    "    total_ABCD = jnp.eye(5)\n",
    "\n",
    "    for jacobian in model_jacobians:\n",
    "        ray_jacobian = jacobian['jacobian'] #dr_out/dr_in\n",
    "        shift_vectors = ray_jacobian.pathlength.matrix # This is the shift vector for each ray, dopl_out/dr_in\n",
    "        ABCD = ray_jacobian.matrix.matrix # This is the ABCD matrix for each ray, dr_out/dr_in\n",
    "        ABCD = ABCD.at[0, :, -1].set(shift_vectors[0, :])\n",
    "        ABCD = ABCD.at[0, -1, -1].set(1.0) # \n",
    "        each_ABCD.append(ABCD)\n",
    "        total_ABCD = ABCD @ total_ABCD\n",
    "\n",
    "    return model_jacobians, each_ABCD, total_ABCD, ray\n",
    "\n",
    "@jax.jit\n",
    "def run_model_for_rays(model, each_ABCD, input_slopes, scan_position):\n",
    "    #Given input model and it's transfer matrix, run the model to find the positions of the rays at the sample and detector\n",
    "\n",
    "    scan_pos_y, scan_pos_x = scan_position\n",
    "\n",
    "    input_slopes_x = input_slopes[0]\n",
    "    input_slopes_y = input_slopes[1]\n",
    "\n",
    "    # Make the input rays we can run through one last time in the model to find positions at sample and detector\n",
    "    rays_at_source_with_semi_conv = jnp.vstack([\n",
    "        jnp.full(len(input_slopes_x), scan_pos_x),\n",
    "        jnp.full(len(input_slopes_y), scan_pos_y),\n",
    "        input_slopes_x,\n",
    "        input_slopes_y,\n",
    "        jnp.ones_like(input_slopes_x)\n",
    "    ])\n",
    "\n",
    "    # Propagate the point source coordinates through the forward ABCD matrices\n",
    "    coord_list = [rays_at_source_with_semi_conv]\n",
    "    for ABCD in each_ABCD:\n",
    "        new_coord = jnp.dot(ABCD[0], coord_list[-1])\n",
    "        coord_list.append(new_coord)\n",
    "        \n",
    "    # Stack the propagated coordinates into an array for easier indexing\n",
    "    coords_array = jnp.stack(coord_list, axis=0)\n",
    "    \n",
    "    xs = coords_array[:, 0, :]\n",
    "    ys = coords_array[:, 1, :]\n",
    "    zs = jnp.array([comp.z for comp in model])\n",
    "\n",
    "    return xs, ys, zs\n",
    "\n",
    "@jax.jit\n",
    "def find_input_slopes_that_hit_detpx_from_pt_source_with_semiconv(pixel_coords, scan_pos, semi_conv, transformation_matrix):\n",
    "    \"\"\"\n",
    "    Given a set of detector pixel coordinates, a semi-convergence angle from a source, and a transformation matrix, find a mask that tells us \n",
    "    what slopes will hit the detector pixels from the point source.\n",
    "\n",
    "    Args:\n",
    "    - pixel_coords (jnp.array): A (N, 2) array of pixel coordinates in y, x format.\n",
    "    - scan_pos (jnp.array): A (2,) array of the scan position in x and y format.\n",
    "    - semi_conv (float): The semi-convergence angle of the point source.q\n",
    "    - transformation_matrix (jnp.array): A (5, 5) transformation matrix.\n",
    "    \"\"\"\n",
    "    # We rely on the fact that theta_x_in**2 + theta_y_in**2 = semi_conv**2, \n",
    "    # which can be evaluated to find all pixels less than any semi_conv from the point source \n",
    "    # For a point source, our system of equations is:\n",
    "    # [x_out, y_out, theta_x_out, theta_y_out, 1] = transformation_matrix @ [scan_pos_x, scan_pos_y, theta_x_in, theta_y_in, 1]\n",
    "    # where theta_x_in and theta_y_in are given by alpha * cos(phi) and alpha * sin(phi), with alpha being the semi convergence angle\n",
    "    # and phi the azimuthal angle of a ray from the point source. This is a parametric equation for a cone of rays from the point source\n",
    "    # giving us the means to find a mask, which will tell us which slopes will hit the detector pixel from the point source for a given semi_conv.\n",
    "    scan_pos_y, scan_pos_x = scan_pos\n",
    "    A_xx, A_xy, B_xx, B_xy = transformation_matrix[0, :4] # Select first row not including the last column of values from the 5x5 transfer matrix\n",
    "    A_yx, A_yy, B_yx, B_yy = transformation_matrix[1, :4] # Select second row not including the last column of values from the 5x5 transfer matrix\n",
    "    delta_x, delta_y = transformation_matrix[0, 4], transformation_matrix[1, 4] # Get the shift values from the final column of the transfer matrix\n",
    "    y_out, x_out = pixel_coords[:, 0], pixel_coords[:, 1]\n",
    "\n",
    "    denom = (B_xx*B_yy - B_xy*B_yx)\n",
    "    theta_x_in = (-A_xx*B_yy*scan_pos_x - A_xy*B_yy*scan_pos_y + A_yx*B_xy*scan_pos_x + \n",
    "         A_yy*B_xy*scan_pos_y + B_xy*delta_y - B_xy*y_out - B_yy*delta_x + B_yy*x_out) / denom\n",
    "    theta_y_in = (A_xx*B_yx*scan_pos_x + A_xy*B_yx*scan_pos_y - A_yx*B_xx*scan_pos_x - \n",
    "         A_yy*B_xx*scan_pos_y - B_xx*delta_y + B_xx*y_out + B_yx*delta_x - B_yx*x_out) / denom\n",
    "    F = (theta_x_in**2 + theta_y_in**2) - semi_conv **2\n",
    "    mask = F <= 0\n",
    "    input_slopes_x_masked = jnp.where(mask, theta_x_in, 0.0)\n",
    "    input_slopes_y_masked = jnp.where(mask, theta_y_in, 0.0)\n",
    "    input_slopes_masked = jnp.stack([input_slopes_x_masked, input_slopes_y_masked])\n",
    "    \n",
    "    return input_slopes_masked, mask\n",
    "    \n",
    "@jax.jit\n",
    "def map_px_on_sample_to_detector(detector_image, det_pixel_size,\n",
    "                                 ray_sample_coords_x, ray_sample_coords_y,\n",
    "                                 ray_det_coords_x, ray_det_coords_y):\n",
    "    # \"\"\"\n",
    "    # Map the pixel values from the sample to the detector image.\n",
    "    # \"\"\"\n",
    "    # sample_image_shape = sample_image.shape  # (n_rows, n_cols)\n",
    "\n",
    "    # # Create an interpolant defined on the image grid (note image indexing is row, col)\n",
    "    # y = jnp.arange(sample_image_shape[0])\n",
    "    # x = jnp.arange(sample_image_shape[1])\n",
    "\n",
    "    # image_interpolant = RegularGridInterpolator((y, x), sample_image,\n",
    "    #                                             bounds_error=False, fill_value=1.0)\n",
    "    detector_image_shape = detector_image.shape\n",
    "    \n",
    "    sample_pts = jnp.stack([ray_sample_coords_y, ray_sample_coords_x], axis=-1)\n",
    "    \n",
    "    # Get the pixel values from the image using nearest neighbor interpolation\n",
    "    sample_px_hit_by_rays = image_interpolant(sample_pts, method='nearest')\n",
    "\n",
    "    det_pixel_xs = (ray_det_coords_x / det_pixel_size) + detector_image_shape[1] / 2\n",
    "    det_pixel_ys = (ray_det_coords_y / det_pixel_size) + detector_image_shape[0] / 2\n",
    "    \n",
    "    det_pixel_xs = jnp.round(det_pixel_xs).astype(jnp.int32)\n",
    "    det_pixel_ys = jnp.round(det_pixel_ys).astype(jnp.int32)\n",
    "    \n",
    "    # detector_image = jnp.zeros(detector_image_shape, dtype=jnp.complex64)\n",
    "    det_image = detector_image.at[(det_pixel_ys, det_pixel_xs)].set(sample_px_hit_by_rays)\n",
    "    \n",
    "    return det_image\n"
   ]
  },
  {
   "cell_type": "markdown",
   "metadata": {},
   "source": [
    "Create the model: Just 3 components: Sample, Descanner and Detector, and create a forward dataset. ***Warning:*** this will probably take a minute or two to complete on a modern workstation.\n",
    "\n",
    "\n",
    "**Note:** there is one small extra trick to fill in the final column of the matrix as the partial derivative of a constant shift value is 0, so the jacobian will not tell us the shift or tilt delta that was applied by the decsanner. We are storing those values in the path length function of the descanner, which is a bit of a fudge for now: Ultimately, all of the terms in the coordinate transform should actually be calculated by differentiating an optical path length function, because the optical path length is the generating function behind the coordinate transform (It is to do with the optical path length representing the lagrangian of the system). For now though to keep it simple I just use optical path length to store shift and tilt deltas."
   ]
  },
  {
   "cell_type": "code",
   "execution_count": null,
   "metadata": {},
   "outputs": [
    {
     "data": {
      "application/vnd.jupyter.widget-view+json": {
       "model_id": "d3b1eead3e6f480ba4fb6613a7b372de",
       "version_major": 2,
       "version_minor": 0
      },
      "text/plain": [
       "Scan Y:   0%|          | 0/103 [00:00<?, ?it/s]"
      ]
     },
     "metadata": {},
     "output_type": "display_data"
    }
   ],
   "source": [
    "InputPlane = comp.InputPlane(z=crossover_z)\n",
    "ScanGrid = comp.ScanGrid(z=jnp.array([defocus]), pixel_size=scan_px_size, shape=sample_image_shape)\n",
    "Descanner = comp.Descanner(z=jnp.array([defocus]), descan_error=descan_error, offset_x=0.0, offset_y=0.0)\n",
    "Detector = comp.Detector(z=jnp.array([camera_length]), shape=det_size, pixel_size=det_px_size)\n",
    "\n",
    "scan_coords = ScanGrid.get_coords()\n",
    "detector_coords = Detector.get_coords()\n",
    "\n",
    "beam_radius_on_sample = defocus * semi_conv\n",
    "\n",
    "det_coords_y = detector_coords[:, 0]\n",
    "det_coords_x = detector_coords[:, 1]\n",
    "\n",
    "scan_coords_y = scan_coords[:, 0]\n",
    "scan_coords_x = scan_coords[:, 1]\n",
    "\n",
    "#Only select coordinates in scan_coords which are 1 beam radius in from the edge of the scan\n",
    "scan_coords = scan_coords.reshape((*sample_image_shape, 2))\n",
    "\n",
    "fourdstem_array = np.zeros((scan_size+det_size), dtype=np.complex64)\n",
    "\n",
    "x_out_centre = []\n",
    "y_out_centre = []\n",
    "x_out_centre_rm = []\n",
    "y_out_centre_rm = []\n",
    "\n",
    "scan_x_in = []\n",
    "scan_y_in = []\n",
    "\n",
    "for scan_idx_y in tqdm.trange(sample_image_shape[0], desc='Scan Y'):\n",
    "    for scan_idx_x in range(sample_image_shape[1]):\n",
    "        scan_pos = scan_coords[scan_idx_y, scan_idx_x] #Y X coords\n",
    "        \n",
    "        # Make the input ray\n",
    "        input_ray_positions = jnp.vstack([\n",
    "            scan_pos[1], # x\n",
    "            scan_pos[0], # y\n",
    "            jnp.array([0.0]), # dx\n",
    "            jnp.array([0.0]), # dy\n",
    "            jnp.ones((1))\n",
    "        ]).T\n",
    "\n",
    "        ray = Ray(z=InputPlane.z, \n",
    "                matrix=input_ray_positions, \n",
    "                amplitude=jnp.ones(1), \n",
    "                pathlength=jnp.zeros(1), \n",
    "                wavelength=jnp.ones(1),\n",
    "                blocked=jnp.zeros(1, dtype=float))\n",
    "        \n",
    "        #Make a new descanner with the new scan position, and update the model\n",
    "        Descanner = comp.Descanner(z=jnp.array([defocus]), descan_error=descan_error, offset_x=scan_pos[1], offset_y=scan_pos[0])\n",
    "\n",
    "        ## NOTE - We are making a new model each time also as requested in the design of TemGym in January. Model creation is never fixed. \n",
    "        model = [InputPlane, ScanGrid, Descanner, Detector]\n",
    "\n",
    "        # Run the model to get the jacobians of output with respect to input\n",
    "        model_jacobians, each_ABCD, total_ABCD, ray = run_model_for_jacobians(ray, model)\n",
    "\n",
    "        # Now for the most important function in here: \n",
    "        input_slopes, mask = find_input_slopes_that_hit_detpx_from_pt_source_with_semiconv(detector_coords, scan_pos, semi_conv, total_ABCD[0])\n",
    "\n",
    "        # Run the model for the rays at each plane\n",
    "        xs, ys, zs = run_model_for_rays(model, each_ABCD, input_slopes, scan_pos)\n",
    "\n",
    "        ray_sample_coords_x, ray_sample_coords_y = xs[1], ys[1] # The ray coordinates at the sample plane\n",
    "        ray_det_coords_x, ray_det_coords_y = xs[-1], ys[-1] # The ray coordinates at the detector plane\n",
    "\n",
    "        detector_image = jnp.zeros(det_size, dtype=jnp.complex64)\n",
    "\n",
    "        det_image = map_px_on_sample_to_detector(detector_image, \n",
    "                                                 det_px_size, \n",
    "                                                 ray_sample_coords_x, \n",
    "                                                 ray_sample_coords_y, \n",
    "                                                 ray_det_coords_x, \n",
    "                                                 ray_det_coords_y)\n",
    "        \n",
    "        fourdstem_array[scan_idx_y, scan_idx_x] = det_image"
   ]
  },
  {
   "cell_type": "code",
   "execution_count": 8,
   "metadata": {},
   "outputs": [],
   "source": [
    "np.save(\"fourdstem_overfocused.npy\", fourdstem_array)"
   ]
  },
  {
   "cell_type": "code",
   "execution_count": 9,
   "metadata": {},
   "outputs": [
    {
     "data": {
      "application/vnd.jupyter.widget-view+json": {
       "model_id": "fa65a6c80e4246f8bb729d68f28a2f3b",
       "version_major": 2,
       "version_minor": 0
      },
      "image/png": "[encoded data removed]",
      "text/html": [
       "\n",
       "            <div style=\"display: inline-block;\">\n",
       "                <div class=\"jupyter-widgets widget-label\" style=\"text-align: center;\">\n",
       "                    Figure\n",
       "                </div>\n",
       "                <img src='data:image/png;base64,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' width=1000.0/>\n",
       "            </div>\n",
       "        "
      ],
      "text/plain": [
       "Canvas(toolbar=Toolbar(toolitems=[('Home', 'Reset original view', 'home', 'home'), ('Back', 'Back to previous …"
      ]
     },
     "metadata": {},
     "output_type": "display_data"
    }
   ],
   "source": [
    "scan_idx_x, scan_idx_y = 12, 25\n",
    "det_image_selected = fourdstem_array[scan_idx_y, scan_idx_x]\n",
    "fig, ax = plt.subplots(1, 2, figsize=(10, 5))\n",
    "ax[0].imshow(np.abs(sample_image), \n",
    "             cmap='gray')\n",
    "ax[0].scatter(scan_idx_x, scan_idx_y, c='r', marker='x', alpha=1)\n",
    "ax[0].set_title('Sample')\n",
    "\n",
    "ax[1].imshow(np.abs(det_image_selected), cmap='gray')\n",
    "ax[1].axhline(detector_image.shape[0]/2, color='lightgrey', linestyle='--')\n",
    "ax[1].axvline(detector_image.shape[1]/2, color='lightgrey', linestyle='--')\n",
    "ax[1].set_title('Detector Image')\n",
    "plt.show()"
   ]
  }
 ],
 "metadata": {
  "kernelspec": {
   "display_name": "temgym",
   "language": "python",
   "name": "python3"
  },
  "language_info": {
   "codemirror_mode": {
    "name": "ipython",
    "version": 3
   },
   "file_extension": ".py",
   "mimetype": "text/x-python",
   "name": "python",
   "nbconvert_exporter": "python",
   "pygments_lexer": "ipython3",
   "version": "3.12.6"
  }
 },
 "nbformat": 4,
 "nbformat_minor": 2
}
