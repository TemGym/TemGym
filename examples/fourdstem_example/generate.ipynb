{
 "cells": [
  {
   "cell_type": "code",
   "execution_count": 1,
   "metadata": {},
   "outputs": [],
   "source": [
    "import os\n",
    "os.environ[\"XLA_PYTHON_CLIENT_MEM_FRACTION\"] = \".01\"\n",
    "\n",
    "from jax import numpy as jnp\n",
    "import jax\n",
    "from jax.scipy.interpolate import RegularGridInterpolator\n",
    "\n",
    "import temgymbasic.jax_components as comp\n",
    "from temgymbasic.jax_run import run_to_end, run_to_component\n",
    "from temgymbasic.jax_ray import Ray, propagate\n",
    "from temgymbasic.jax_utils import get_pytree_idx_from_model, get_pixel_coords\n",
    "import matplotlib.pyplot as plt\n",
    "\n",
    "import tqdm.auto as tqdm\n",
    "%matplotlib widget\n",
    "import numpy as np\n",
    "\n",
    "# set jax to use cpu\n",
    "jax.config.update(\"jax_platform_name\", \"cpu\")\n",
    "# jax.config.update(\"jax_enable_x64\", True)"
   ]
  },
  {
   "cell_type": "markdown",
   "metadata": {},
   "source": [
    "SYMPY Mathematics just to understand how to model the descanner with descan error, and how the variables propagate to the end. Feel free to ignore. "
   ]
  },
  {
   "cell_type": "code",
   "execution_count": 2,
   "metadata": {},
   "outputs": [
    {
     "data": {
      "text/latex": [
       "$\\displaystyle \\left[\\begin{matrix}x_{out}\\\\y_{out}\\\\\\theta_{x out}\\\\\\theta_{y out}\\\\1\\end{matrix}\\right] = \\left[\\begin{matrix}A_{xx} scan_{x} + A_{xy} scan_{y} + B_{xx} \\alpha \\cos{\\left(\\phi \\right)} + B_{xy} \\alpha \\sin{\\left(\\phi \\right)} + \\delta_{x}\\\\A_{yx} scan_{x} + A_{yy} scan_{y} + B_{yx} \\alpha \\cos{\\left(\\phi \\right)} + B_{yy} \\alpha \\sin{\\left(\\phi \\right)} + \\delta_{y}\\\\C_{xx} scan_{x} + C_{xy} scan_{y} + D_{xx} \\alpha \\cos{\\left(\\phi \\right)} + D_{xy} \\alpha \\sin{\\left(\\phi \\right)} + \\delta_{\\theta x}\\\\C_{yx} scan_{x} + C_{yy} scan_{y} + D_{yx} \\alpha \\cos{\\left(\\phi \\right)} + D_{yy} \\alpha \\sin{\\left(\\phi \\right)} + \\delta_{\\theta y}\\\\1\\end{matrix}\\right]$"
      ],
      "text/plain": [
       "Eq(Matrix([\n",
       "[      x_out],\n",
       "[      y_out],\n",
       "[theta_x_out],\n",
       "[theta_y_out],\n",
       "[          1]]), Matrix([\n",
       "[      A_xx*scan_{x} + A_xy*scan_{y} + B_xx*\\alpha*cos(\\phi) + B_xy*\\alpha*sin(\\phi) + delta_x],\n",
       "[      A_yx*scan_{x} + A_yy*scan_{y} + B_yx*\\alpha*cos(\\phi) + B_yy*\\alpha*sin(\\phi) + delta_y],\n",
       "[C_xx*scan_{x} + C_xy*scan_{y} + D_xx*\\alpha*cos(\\phi) + D_xy*\\alpha*sin(\\phi) + delta_theta_x],\n",
       "[C_yx*scan_{x} + C_yy*scan_{y} + D_yx*\\alpha*cos(\\phi) + D_yy*\\alpha*sin(\\phi) + delta_theta_y],\n",
       "[                                                                                            1]]))"
      ]
     },
     "metadata": {},
     "output_type": "display_data"
    },
    {
     "data": {
      "text/latex": [
       "$\\displaystyle x_{out} = A_{xx} scan_{x} + A_{xy} scan_{y} + B_{xx} \\alpha \\cos{\\left(\\phi \\right)} + B_{xy} \\alpha \\sin{\\left(\\phi \\right)} + \\delta_{x}$"
      ],
      "text/plain": [
       "Eq(x_out, A_xx*scan_{x} + A_xy*scan_{y} + B_xx*\\alpha*cos(\\phi) + B_xy*\\alpha*sin(\\phi) + delta_x)"
      ]
     },
     "metadata": {},
     "output_type": "display_data"
    },
    {
     "data": {
      "text/latex": [
       "$\\displaystyle y_{out} = A_{yx} scan_{x} + A_{yy} scan_{y} + B_{yx} \\alpha \\cos{\\left(\\phi \\right)} + B_{yy} \\alpha \\sin{\\left(\\phi \\right)} + \\delta_{y}$"
      ],
      "text/plain": [
       "Eq(y_out, A_yx*scan_{x} + A_yy*scan_{y} + B_yx*\\alpha*cos(\\phi) + B_yy*\\alpha*sin(\\phi) + delta_y)"
      ]
     },
     "metadata": {},
     "output_type": "display_data"
    },
    {
     "data": {
      "text/latex": [
       "$\\displaystyle \\theta_{x out} = C_{xx} scan_{x} + C_{xy} scan_{y} + D_{xx} \\alpha \\cos{\\left(\\phi \\right)} + D_{xy} \\alpha \\sin{\\left(\\phi \\right)} + \\delta_{\\theta x}$"
      ],
      "text/plain": [
       "Eq(theta_x_out, C_xx*scan_{x} + C_xy*scan_{y} + D_xx*\\alpha*cos(\\phi) + D_xy*\\alpha*sin(\\phi) + delta_theta_x)"
      ]
     },
     "metadata": {},
     "output_type": "display_data"
    },
    {
     "data": {
      "text/latex": [
       "$\\displaystyle \\theta_{y out} = C_{yx} scan_{x} + C_{yy} scan_{y} + D_{yx} \\alpha \\cos{\\left(\\phi \\right)} + D_{yy} \\alpha \\sin{\\left(\\phi \\right)} + \\delta_{\\theta y}$"
      ],
      "text/plain": [
       "Eq(theta_y_out, C_yx*scan_{x} + C_yy*scan_{y} + D_yx*\\alpha*cos(\\phi) + D_yy*\\alpha*sin(\\phi) + delta_theta_y)"
      ]
     },
     "metadata": {},
     "output_type": "display_data"
    },
    {
     "name": "stdout",
     "output_type": "stream",
     "text": [
      "(-A_xx*B_yy*scan_{x} - A_xy*B_yy*scan_{y} + A_yx*B_xy*scan_{x} + A_yy*B_xy*scan_{y} + B_xy*delta_y - B_xy*y_out - B_yy*delta_x + B_yy*x_out)/(B_xx*B_yy - B_xy*B_yx)\n",
      "(A_xx*B_yx*scan_{x} + A_xy*B_yx*scan_{y} - A_yx*B_xx*scan_{x} - A_yy*B_xx*scan_{y} - B_xx*delta_y + B_xx*y_out + B_yx*delta_x - B_yx*x_out)/(B_xx*B_yy - B_xy*B_yx)\n"
     ]
    }
   ],
   "source": [
    "import sympy as sp\n",
    "\n",
    "def create_2d_rotation_matrix_5x5(theta, flip_y=False):\n",
    "    \"\"\"\n",
    "    Returns a 5x5 sympy Matrix that applies a 2D rotation (for x,y and their slopes)\n",
    "    by angle 'theta', with an option to flip the y-axis.\n",
    "    \"\"\"\n",
    "    c = sp.cos(theta)\n",
    "    s = sp.sin(theta)\n",
    "\n",
    "    # By default: normal rotation blocks\n",
    "    #     [ c  -s ]\n",
    "    #     [ s   c ]\n",
    "    # If we 'flip_y', we reflect the final y-coordinates about the x-axis, i.e.\n",
    "    # (x, y) -> (x, -y) after rotation. That yields:\n",
    "    #     x' =  c*x - s*y\n",
    "    #     y' = -s*x - c*y\n",
    "    if flip_y:\n",
    "        # Rotation followed by flip in y\n",
    "        m11 =  c\n",
    "        m12 = -s\n",
    "        m21 = -s\n",
    "        m22 = -c\n",
    "    else:\n",
    "        # Normal rotation\n",
    "        m11 =  c\n",
    "        m12 = -s\n",
    "        m21 =  s\n",
    "        m22 =  c\n",
    "\n",
    "    M = sp.eye(5)  # Start as 5x5 identity\n",
    "    # Fill in the (x, y) rotation/flip block:\n",
    "    M[0, 0] = m11\n",
    "    M[0, 1] = m12\n",
    "    M[1, 0] = m21\n",
    "    M[1, 1] = m22\n",
    "\n",
    "    # # Fill in the (dx, dy) rotation/flip block:\n",
    "    # M[2, 2] = m11\n",
    "    # M[2, 3] = m12\n",
    "    # M[3, 2] = m21\n",
    "    # M[3, 3] = m22\n",
    "\n",
    "    return M\n",
    "\n",
    "x_out, y_out, theta_x_out, theta_y_out = sp.symbols('x_out y_out theta_x_out theta_y_out')\n",
    "x_in, y_in, theta_x_in, theta_y_in = sp.symbols('x_in y_in theta_x_in theta_y_in')\n",
    "\n",
    "# Lit pixels from Point Source\n",
    "# Make a 5x5 matrix for use in sympy with Axx, Axy, Ayx, Ayy, Bxx, Bxy, Byx, Byy... etc values in each quadrant\n",
    "A_xx, A_xy, A_yx, A_yy = sp.symbols('A_xx A_xy A_yx A_yy', real=True)\n",
    "B_xx, B_xy, B_yx, B_yy = sp.symbols('B_xx B_xy B_yx B_yy', real=True)\n",
    "C_xx, C_xy, C_yx, C_yy = sp.symbols('C_xx C_xy C_yx C_yy', real=True)\n",
    "D_xx, D_xy, D_yx, D_yy = sp.symbols('D_xx D_xy D_yx D_yy', real=True)\n",
    "delta_x, delta_y, delta_theta_x, delta_theta_y = sp.symbols('delta_x delta_y delta_theta_x delta_theta_y', real=True)\n",
    "\n",
    "#Populate the 5x5 matrix with the these symbols, with 0s in the bottom row, and 1 in the bottom right corner\n",
    "TransferMatrix = sp.Matrix([[A_xx, A_xy, B_xx, B_xy, delta_x],\n",
    "                            [A_yx, A_yy, B_yx, B_yy, delta_y],\n",
    "                            [C_xx, C_xy, D_xx, D_xy, delta_theta_x],\n",
    "                            [C_yx, C_yy, D_yx, D_yy, delta_theta_y],\n",
    "                            [0, 0, 0, 0, 1]])\n",
    "\n",
    "# create column vector of output coordinates, x_out, y_out, theta_x_out, theta_y_out 1\n",
    "out_coords = sp.Matrix([x_out, y_out, theta_x_out, theta_y_out, 1])\n",
    "semi_conv, phi = sp.symbols(r'\\alpha, \\phi')\n",
    "\n",
    "#Now for the incoordinates, I want the vector to be populated via the following:\n",
    "# x_in = scan_pos_x, y_in = scan_pos_y, but theta_x_in and theta_y_in should be a function to define a cone of rays \n",
    "# with a semi-convergence angle.\n",
    "theta_x_in = semi_conv * sp.cos(phi)\n",
    "theta_y_in = semi_conv * sp.sin(phi)\n",
    "scan_position_x, scan_position_y = sp.symbols('scan_{x} scan_{y}')\n",
    "\n",
    "in_coords = sp.Matrix([scan_position_x, scan_position_y, theta_x_in, theta_y_in, 1])\n",
    "transfer_equation = sp.Eq(out_coords, TransferMatrix * in_coords, evaluate=False)\n",
    "# reverse_equation = sp.Eq(in_coords, InvertedTransferMatrix * out_coords, evaluate=False)\n",
    "\n",
    "x_out_eq = sp.Eq(out_coords[0], transfer_equation.rhs[0])\n",
    "y_out_eq = sp.Eq(out_coords[1], transfer_equation.rhs[1])\n",
    "theta_x_out_eq = sp.Eq(out_coords[2], transfer_equation.rhs[2])\n",
    "theta_y_out_eq = sp.Eq(out_coords[3], transfer_equation.rhs[3])\n",
    "\n",
    "display(transfer_equation)\n",
    "display(x_out_eq)\n",
    "display(y_out_eq)\n",
    "display(theta_x_out_eq)\n",
    "display(theta_y_out_eq)\n",
    "\n",
    "#replace alpha * cos(phi) with u and alpha * sin(phi) with v, and use both equations to solve for u and v\n",
    "u, v = sp.symbols('u v')\n",
    "x_out_eq = x_out_eq.subs({theta_x_in: u, theta_y_in: v})\n",
    "y_out_eq = y_out_eq.subs({theta_x_in: u, theta_y_in: v})\n",
    "\n",
    "u_v_eq = sp.solve([x_out_eq, y_out_eq], [u, v])\n",
    "print(u_v_eq[u])\n",
    "print(u_v_eq[v])"
   ]
  },
  {
   "cell_type": "markdown",
   "metadata": {},
   "source": [
    "In the case where we are specific about the propagation and descan steps, we have the following, and for a ray with 0 initial slope. "
   ]
  },
  {
   "cell_type": "code",
   "execution_count": 3,
   "metadata": {},
   "outputs": [
    {
     "data": {
      "text/latex": [
       "$\\displaystyle \\left[\\begin{matrix}x_{out}\\\\y_{out}\\\\\\theta_{x out}\\\\\\theta_{y out}\\\\1\\end{matrix}\\right] = \\left[\\begin{matrix}\\alpha z_{def} \\left(E_{xy} \\cos{\\left(\\Omega \\right)} - E_{yy} \\sin{\\left(\\Omega \\right)} + E_{dxy} z_{samp}\\right) \\sin{\\left(\\phi \\right)} + \\alpha \\left(z_{def} \\left(E_{xx} \\cos{\\left(\\Omega \\right)} - E_{yx} \\sin{\\left(\\Omega \\right)} + E_{dxx} z_{samp}\\right) + z_{samp}\\right) \\cos{\\left(\\phi \\right)} - scan_{x} \\cos{\\left(\\Omega \\right)} + scan_{y} \\sin{\\left(\\Omega \\right)} + scan_{x} \\left(E_{xx} \\cos{\\left(\\Omega \\right)} - E_{yx} \\sin{\\left(\\Omega \\right)} + E_{dxx} z_{samp}\\right) + scan_{y} \\left(E_{xy} \\cos{\\left(\\Omega \\right)} - E_{yy} \\sin{\\left(\\Omega \\right)} + E_{dxy} z_{samp}\\right)\\\\- \\alpha z_{def} \\left(E_{xx} \\sin{\\left(\\Omega \\right)} + E_{yx} \\cos{\\left(\\Omega \\right)} - E_{dyx} z_{samp}\\right) \\cos{\\left(\\phi \\right)} - \\alpha \\left(z_{def} \\left(E_{xy} \\sin{\\left(\\Omega \\right)} + E_{yy} \\cos{\\left(\\Omega \\right)} - E_{dyy} z_{samp}\\right) - z_{samp}\\right) \\sin{\\left(\\phi \\right)} + scan_{x} \\sin{\\left(\\Omega \\right)} + scan_{y} \\cos{\\left(\\Omega \\right)} - scan_{x} \\left(E_{xx} \\sin{\\left(\\Omega \\right)} + E_{yx} \\cos{\\left(\\Omega \\right)} - E_{dyx} z_{samp}\\right) - scan_{y} \\left(E_{xy} \\sin{\\left(\\Omega \\right)} + E_{yy} \\cos{\\left(\\Omega \\right)} - E_{dyy} z_{samp}\\right)\\\\E_{dxx} scan_{x} + E_{dxy} \\alpha z_{def} \\sin{\\left(\\phi \\right)} + E_{dxy} scan_{y} + \\alpha \\left(E_{dxx} z_{def} + 1\\right) \\cos{\\left(\\phi \\right)}\\\\E_{dyx} \\alpha z_{def} \\cos{\\left(\\phi \\right)} + E_{dyx} scan_{x} + E_{dyy} scan_{y} + \\alpha \\left(E_{dyy} z_{def} + 1\\right) \\sin{\\left(\\phi \\right)}\\\\1\\end{matrix}\\right]$"
      ],
      "text/plain": [
       "Eq(Matrix([\n",
       "[      x_out],\n",
       "[      y_out],\n",
       "[theta_x_out],\n",
       "[theta_y_out],\n",
       "[          1]]), Matrix([\n",
       "[ \\alpha*z_def*(E_xy*cos(Omega) - E_yy*sin(Omega) + E_{dxy}*z_samp)*sin(\\phi) + \\alpha*(z_def*(E_xx*cos(Omega) - E_yx*sin(Omega) + E_{dxx}*z_samp) + z_samp)*cos(\\phi) - scan_x*cos(Omega) + scan_y*sin(Omega) + scan_{x}*(E_xx*cos(Omega) - E_yx*sin(Omega) + E_{dxx}*z_samp) + scan_{y}*(E_xy*cos(Omega) - E_yy*sin(Omega) + E_{dxy}*z_samp)],\n",
       "[-\\alpha*z_def*(E_xx*sin(Omega) + E_yx*cos(Omega) - E_{dyx}*z_samp)*cos(\\phi) - \\alpha*(z_def*(E_xy*sin(Omega) + E_yy*cos(Omega) - E_{dyy}*z_samp) - z_samp)*sin(\\phi) + scan_x*sin(Omega) + scan_y*cos(Omega) - scan_{x}*(E_xx*sin(Omega) + E_yx*cos(Omega) - E_{dyx}*z_samp) - scan_{y}*(E_xy*sin(Omega) + E_yy*cos(Omega) - E_{dyy}*z_samp)],\n",
       "[                                                                                                                                                                                                                                  E_{dxx}*scan_{x} + E_{dxy}*\\alpha*z_def*sin(\\phi) + E_{dxy}*scan_{y} + \\alpha*(E_{dxx}*z_def + 1)*cos(\\phi)],\n",
       "[                                                                                                                                                                                                                                  E_{dyx}*\\alpha*z_def*cos(\\phi) + E_{dyx}*scan_{x} + E_{dyy}*scan_{y} + \\alpha*(E_{dyy}*z_def + 1)*sin(\\phi)],\n",
       "[                                                                                                                                                                                                                                                                                                                                            1]]))"
      ]
     },
     "metadata": {},
     "output_type": "display_data"
    },
    {
     "data": {
      "text/latex": [
       "$\\displaystyle x_{out} = - scan_{x} \\cos{\\left(\\Omega \\right)} + scan_{y} \\sin{\\left(\\Omega \\right)} + scan_{x} \\left(E_{xx} \\cos{\\left(\\Omega \\right)} - E_{yx} \\sin{\\left(\\Omega \\right)} + E_{dxx} z_{samp}\\right) + scan_{y} \\left(E_{xy} \\cos{\\left(\\Omega \\right)} - E_{yy} \\sin{\\left(\\Omega \\right)} + E_{dxy} z_{samp}\\right)$"
      ],
      "text/plain": [
       "Eq(x_out, -scan_x*cos(Omega) + scan_y*sin(Omega) + scan_{x}*(E_xx*cos(Omega) - E_yx*sin(Omega) + E_{dxx}*z_samp) + scan_{y}*(E_xy*cos(Omega) - E_yy*sin(Omega) + E_{dxy}*z_samp))"
      ]
     },
     "metadata": {},
     "output_type": "display_data"
    },
    {
     "data": {
      "text/latex": [
       "$\\displaystyle y_{out} = scan_{x} \\sin{\\left(\\Omega \\right)} + scan_{y} \\cos{\\left(\\Omega \\right)} - scan_{x} \\left(E_{xx} \\sin{\\left(\\Omega \\right)} + E_{yx} \\cos{\\left(\\Omega \\right)} - E_{dyx} z_{samp}\\right) - scan_{y} \\left(E_{xy} \\sin{\\left(\\Omega \\right)} + E_{yy} \\cos{\\left(\\Omega \\right)} - E_{dyy} z_{samp}\\right)$"
      ],
      "text/plain": [
       "Eq(y_out, scan_x*sin(Omega) + scan_y*cos(Omega) - scan_{x}*(E_xx*sin(Omega) + E_yx*cos(Omega) - E_{dyx}*z_samp) - scan_{y}*(E_xy*sin(Omega) + E_yy*cos(Omega) - E_{dyy}*z_samp))"
      ]
     },
     "metadata": {},
     "output_type": "display_data"
    },
    {
     "data": {
      "text/latex": [
       "$\\displaystyle \\theta_{x out} = E_{dxx} scan_{x} + E_{dxy} scan_{y}$"
      ],
      "text/plain": [
       "Eq(theta_x_out, E_{dxx}*scan_{x} + E_{dxy}*scan_{y})"
      ]
     },
     "metadata": {},
     "output_type": "display_data"
    },
    {
     "data": {
      "text/latex": [
       "$\\displaystyle \\theta_{y out} = E_{dyx} scan_{x} + E_{dyy} scan_{y}$"
      ],
      "text/plain": [
       "Eq(theta_y_out, E_{dyx}*scan_{x} + E_{dyy}*scan_{y})"
      ]
     },
     "metadata": {},
     "output_type": "display_data"
    }
   ],
   "source": [
    "import sympy as sp\n",
    "\n",
    "defocus, sample_to_det_z, scan_x, scan_y = sp.symbols('z_def z_samp scan_x scan_y', real=True)\n",
    "E_xx, E_xy, E_yx, E_yy, E_dxx, E_dxy, E_dyx, E_dyy = sp.symbols(r'E_xx E_xy E_yx E_yy E_{dxx} E_{dxy} E_{dyx} E_{dyy}', real=True)\n",
    "rot = sp.symbols('Omega', real=True)\n",
    "\n",
    "DefocusMatrix = sp.Matrix([[1, 0, defocus, 0, 0],\n",
    "                            [0, 1, 0, defocus, 0],\n",
    "                            [0, 0, 1, 0, 0],\n",
    "                            [0, 0, 0, 1, 0],\n",
    "                            [0, 0, 0, 0, 1]])\n",
    "\n",
    "DescannerMatrixError = sp.Matrix([[E_xx, E_xy, 0, 0, -scan_x],\n",
    "                            [E_yx, E_yy, 0, 0, -scan_y],\n",
    "                            [E_dxx, E_dxy, 1, 0, 0],\n",
    "                            [E_dyx, E_dyy, 0, 1, 0],\n",
    "                            [0, 0, 0, 0, 1]])\n",
    "\n",
    "DescannerMatrixNoError = sp.Matrix([[1, 0, 0, 0, -scan_x],\n",
    "                                    [0, 1, 0, 0, -scan_y],\n",
    "                                    [0, 0, 1, 0, 0],\n",
    "                                    [0, 0, 0, 1, 0],\n",
    "                                    [0, 0, 0, 0, 1]])\n",
    "\n",
    "SampleDetMatrix = sp.Matrix([[1, 0, sample_to_det_z, 0, 0],\n",
    "                            [0, 1, 0, sample_to_det_z, 0],\n",
    "                            [0, 0, 1, 0, 0],\n",
    "                            [0, 0, 0, 1, 0],\n",
    "                            [0, 0, 0, 0, 1]])\n",
    "\n",
    "RotationMatrix = create_2d_rotation_matrix_5x5(rot, flip_y=True)\n",
    "\n",
    "TransferMatrix = SampleDetMatrix * RotationMatrix * DescannerMatrixError * DefocusMatrix\n",
    "\n",
    "transfer_equation = sp.Eq(out_coords, TransferMatrix * in_coords, evaluate=False)\n",
    "\n",
    "display(transfer_equation.simplify())\n",
    "\n",
    "x_out_eq = sp.Eq(out_coords[0], transfer_equation.rhs[0])\n",
    "y_out_eq = sp.Eq(out_coords[1], transfer_equation.rhs[1])\n",
    "\n",
    "r_sqr = x_out_eq.rhs ** 2 + y_out_eq.rhs ** 2\n",
    "theta_x_out_eq = sp.Eq(out_coords[2], transfer_equation.rhs[2])\n",
    "theta_y_out_eq = sp.Eq(out_coords[3], transfer_equation.rhs[3])\n",
    "\n",
    "#replace alpha with 0\n",
    "x_out_eq = x_out_eq.subs({semi_conv: 0})\n",
    "y_out_eq = y_out_eq.subs({semi_conv: 0})\n",
    "theta_x_out_eq = theta_x_out_eq.subs({semi_conv: 0})\n",
    "theta_y_out_eq = theta_y_out_eq.subs({semi_conv: 0})\n",
    "\n",
    "display(x_out_eq.simplify())\n",
    "display(y_out_eq.simplify())\n",
    "display(theta_x_out_eq)\n",
    "display(theta_y_out_eq)\n",
    "\n"
   ]
  },
  {
   "cell_type": "markdown",
   "metadata": {},
   "source": [
    "Begin by importing test image"
   ]
  },
  {
   "cell_type": "code",
   "execution_count": 4,
   "metadata": {},
   "outputs": [],
   "source": [
    "from scipy.ndimage import zoom\n",
    "\n",
    "sample_image = plt.imread(r'SilverFast_Resolution_Target_USAF_1951.png')[:, :, 0]\n",
    "image_shape = sample_image.shape\n",
    "\n",
    "#remove the black pixel border on the edges\n",
    "sample_image = sample_image[1:-1, 1:-1]\n",
    "\n",
    "# Downsample the sample_image by a factor of 2\n",
    "downsample_factor = 0.5\n",
    "sample_image = zoom(sample_image, downsample_factor)\n",
    "sample_image_shape = sample_image.shape\n",
    "\n",
    "\n",
    "sample_image = jnp.array(sample_image, dtype=jnp.complex64)\n"
   ]
  },
  {
   "cell_type": "markdown",
   "metadata": {},
   "source": [
    "Modelling Descan Error: In order to determine how the descan error description should look like, I thought only about what basic operations a descanner should apply so that we have a 5x5 coordinate transform that is still invertible, and I used jax to find where the operations I apply would populate the jacobian, which has helped me discover the following analysis. \n",
    "\n",
    "Importantly, even in the non-linear case (not yet demonstrated in this notebook but can be soon) we can always find a polynomial which we can then find roots of, that relate outgoing coordinates (positions and slopes), EXCEPT in certain circumstances like when a lens performs perfect imaging from the object plane to the image plane. In this case, there is no single angle that maps positions to positions. When certain coeffients in the polynomial description relating coordinates are zero, you will know you are in this regime, and there is no direct mapping. This is an advantage to this approach, that I don't see with an optimiser being sent at the model to find where rays go - with gradients in jax we will always be able to find a simpler polynomial we can find roots of (if certain terms exist) to tell us what angle ray will take us back to the input plane. \n",
    "\n",
    "All of this means that from my limited understanding so far I don't think an optimiser is entirely neccessary in the way it was implemented in pytorch: This does not mean I don't think an optimiser won't be needed to solve other parts of this problem, or be used in a different way, just strictly for ray tracing in this context: I can also write an optimiser to find where rays should go, and implement in jax if needed.\n",
    "\n",
    "For now though here is why I went with the approach of using gradients to obtain a polynomial coefficients to map one plane to another, and did not set out to demonstrate what you had in Pytorch:\n",
    "\n",
    "1: An optimiser won't understand if the setup of the system has a 1 to 1 mapping from input plane to output plane. With the polynomial coefficients I get from gradients, if the terms B (see matrix below) are zero, we know we are in perfect imaging and no unique angle mapping from input plane to output plane exists.  \n",
    "\n",
    "2: An optimiser won't understand if there are multiple solutions for paths through the system, where as with a polynomial description we know how many roots there are. \n",
    "\n",
    "3: One ray and it's gradients characterises the system and all it's coefficients each time with our nmethod. (It can even tell you the phase an amplitude of a local description around the wavefront if needed, not yet implemented), so we only need to send one ray through the system.\n",
    "\n",
    "With that noted here is the model we have for descan error:\n",
    "\n",
    "The overall matrix description we aiming for is as follows: (whereby we did not restrict ourselves to writing matrices for each component to discover the terms in this matrix, it's just a convenient representation. ***We have noted your critique for TemGym that components should be simple and apply basic operations, and not be restricted to matrices when writing this new version!***)\n",
    "\n",
    "***NOTE ABOUT TESTS:*** There are some tests for the absolute basics, but nothing for this 4D stem calibration now. That is next on my to do list also if you don't have time do so!\n",
    "\n",
    "$\\displaystyle \n",
    "\\left(\\begin{matrix} \n",
    "x_{out} \\\\[0.3em] \n",
    "y_{out} \\\\[0.3em] \n",
    "\\theta_{x-out} \\\\[0.3em] \n",
    "\\theta_{y-out} \\\\[0.3em]\n",
    "1 \n",
    "\\end{matrix}\\right)\n",
    "\\;=\\;\n",
    "\\left(\\begin{matrix} \n",
    "A_{xx} & A_{xy} & B_{xx} & B_{xy} & {\\Delta}x \\\\[0.5em] \n",
    "A_{yx} & A_{yy} & B_{yx} & B_{yy} & {\\Delta}y \\\\[0.5em] \n",
    "C_{xx} & C_{xy} & D_{xx} & D_{xy} & {\\Delta}\\theta_{x} \\\\[0.5em] \n",
    "C_{yx} & C_{yy} & D_{yx} & D_{yy} & {\\Delta}\\theta_{y} \\\\[0.5em] \n",
    "0      & 0      & 0      & 0      & 1 \n",
    "\\end{matrix}\\right)\n",
    "\\left(\\begin{matrix} \n",
    "x_{in} \\\\[0.3em] \n",
    "y_{in} \\\\[0.3em] \n",
    "\\theta_{x-in} \\\\[0.3em] \n",
    "\\theta_{y-in} \\\\[0.3em]\n",
    "1 \n",
    "\\end{matrix}\\right)$\n",
    "\n",
    "For an ideal descanner to perform it's job, and have a matrix that is invertible I have come up with the following:\n",
    "\n",
    "$\\displaystyle \n",
    "\\left(\\begin{matrix} \n",
    "x_{out} \\\\[0.3em] \n",
    "y_{out} \\\\[0.3em] \n",
    "\\theta_{x-out} \\\\[0.3em] \n",
    "\\theta_{y-out} \\\\[0.3em]\n",
    "1 \n",
    "\\end{matrix}\\right)\n",
    "\\;=\\;\n",
    "\\left(\\begin{matrix} \n",
    "1 & 0 & 0 & 0 & {\\Delta}scan-pos_x \\\\[0.5em]  \n",
    "0 & 1 & 0 & 0 & {\\Delta}scan-pos_y \\\\[0.5em]  \n",
    "0 & 0 & 1 & 0 & 0 \\\\[0.5em]  \n",
    "0 & 0 & 0 & 1 & 0 \\\\[0.5em]  \n",
    "0 & 0 & 0 & 0 & 1\n",
    "\\end{matrix}\\right)\n",
    "\\left(\\begin{matrix} \n",
    "x_{in} \\\\[0.3em] \n",
    "y_{in} \\\\[0.3em] \n",
    "\\theta_{x-in} \\\\[0.3em] \n",
    "\\theta_{y-in} \\\\[0.3em]\n",
    "1 \n",
    "\\end{matrix}\\right)$\n",
    "\n",
    "Where are the descan error terms in the matrix? \n",
    "\n",
    "Hidden in the Axx, Ayy and Cxx, Cyy positions: Axx and Ayy for descan position error, because they are the values \n",
    "that change outgoing position as a function of incoming position (A is actually the magnification value too in ABCD matrices). \n",
    "\n",
    "Cxx and Cyy because they are the values that affect outgoing angle as a function of incoming position.\n",
    "\n",
    "$\\displaystyle \n",
    "\\left(\\begin{matrix} \n",
    "x_{out} \\\\[0.3em] \n",
    "y_{out} \\\\[0.3em] \n",
    "\\theta_{x-out} \\\\[0.3em] \n",
    "\\theta_{y-out} \\\\[0.3em]\n",
    "1 \n",
    "\\end{matrix}\\right)\n",
    "\\;=\\;\n",
    "\\left(\\begin{matrix} \n",
    "DescanError \\; pos_{xx} & DescanError \\; pos_{xy} & 0 & 0 & {\\Delta}scan-pos_x \\\\[0.5em]  \n",
    "DescanError \\; pos_{yx} & DescanError \\; pos_{yy} & 0 & 0 & {\\Delta}scan-pos_y \\\\[0.5em]  \n",
    "DescanError \\; \\theta_{xx} & DescanError \\; \\theta_{xy} & 1 & 0 & 0 \\\\[0.5em]  \n",
    "DescanError \\; \\theta_{yx} & DescanError \\; \\theta_{yy} & 0 & 1 & 0 \\\\[0.5em]  \n",
    "0 & 0 & 0 & 0 & 1\n",
    "\\end{matrix}\\right)\n",
    "\\left(\\begin{matrix} \n",
    "x_{in} \\\\[0.3em] \n",
    "y_{in} \\\\[0.3em] \n",
    "\\theta_{x-in} \\\\[0.3em] \n",
    "\\theta_{y-in} \\\\[0.3em]\n",
    "1 \n",
    "\\end{matrix}\\right)$\n",
    "\n",
    "The bad news is this matrix changes it's ${\\Delta}scan-pos_x$ and ${\\Delta}scan-pos_y$ values each time, but the internal 4x4 matrix values are constant. \n",
    "\n",
    "Of course if there are mixed errors then they show up as cross terms in the matrix, and if there are errors as a function of input slope $\\theta_{in}$, they occupy the B and D quadrants. \n",
    "\n",
    "Ultimately, I think that in the linear case this should be the transfer matrix one is trying to figure out from the 4D stem dataset. \n"
   ]
  },
  {
   "cell_type": "markdown",
   "metadata": {},
   "source": [
    "Now we demonstrate the newer version of temgym to try and generate a forward model of the 4D stem overfocus experiment. \n",
    "\n",
    "***Set input Parameters***"
   ]
  },
  {
   "cell_type": "code",
   "execution_count": 5,
   "metadata": {},
   "outputs": [],
   "source": [
    "Axx, Ayy, Cxx, Cyy = 1, 1, 0, 0 # Normal Descan Error terms Axx, Ayy, Cxx, Cyy in transfer matrix\n",
    "Axy, Ayx, Cxy, Cyx = 0, 0, 0, 0 # Cross Descan Error terms Axy, Ayx, Cxy, Cyx in transfer matrix\n",
    "\n",
    "descan_error = [Axx, Axy, Ayx, Ayy, Cxx, Cxy, Cyx, Cyy]\n",
    "\n",
    "#Set up the parameters for the simulation\n",
    "defocus = 0.01\n",
    "semi_conv = 0.05\n",
    "camera_length = 1.0\n",
    "scan_size = sample_image_shape\n",
    "det_size = (64, 64)\n",
    "scan_px_size = 0.0001\n",
    "det_px_size= 0.002\n",
    "rotation = 45\n",
    "\n",
    "#Create ray input z plane\n",
    "crossover_z = jnp.zeros((1))"
   ]
  },
  {
   "cell_type": "code",
   "execution_count": 6,
   "metadata": {},
   "outputs": [],
   "source": [
    "# Set up the function to calculate the jacobian after propagation from one component to another\n",
    "# We can run multiple rays if we want, but no need for now. \n",
    "jac_run_to_component = jax.vmap(jax.jacobian(run_to_component), in_axes=(0, None))\n",
    "\n",
    "@jax.jit\n",
    "def run_model_for_jacobians(ray, model):\n",
    "\n",
    "    model_jacobians = []\n",
    "\n",
    "    # Get all jacobians from one component to another\n",
    "    for i in range(1, len(model)):\n",
    "        distance = (model[i-1].z - ray.z).squeeze()\n",
    "        ray = propagate(distance, ray)\n",
    "        ray = model[i-1].step(ray)\n",
    "        \n",
    "        jacobian = jac_run_to_component(ray, model[i])\n",
    "        model_jacobians.append({\n",
    "            'jacobian': jacobian\n",
    "        })\n",
    "\n",
    "    # Edit the jacobian matrices to include shifts calculated \n",
    "    # from the opl derivative\n",
    "    each_ABCD = [] #ABCD matrices at each component\n",
    "    total_ABCD = jnp.eye(5)\n",
    "\n",
    "    for jacobian in model_jacobians:\n",
    "        ray_jacobian = jacobian['jacobian'] #dr_out/dr_in\n",
    "        shift_vectors = ray_jacobian.pathlength.matrix # This is the shift vector for each ray, dopl_out/dr_in\n",
    "        ABCD = ray_jacobian.matrix.matrix # This is the ABCD matrix for each ray, dr_out/dr_in\n",
    "        ABCD = ABCD.at[0, :, -1].set(shift_vectors[0, :])\n",
    "        ABCD = ABCD.at[0, -1, -1].set(1.0) # \n",
    "        each_ABCD.append(ABCD)\n",
    "        total_ABCD = ABCD @ total_ABCD\n",
    "\n",
    "    return model_jacobians, each_ABCD, total_ABCD, ray\n",
    "\n",
    "@jax.jit\n",
    "def run_model_for_rays(model, each_ABCD, input_slopes, scan_position):\n",
    "    #Given input model and it's transfer matrix, run the model to find the positions of the rays at the sample and detector\n",
    "\n",
    "    scan_pos_y, scan_pos_x = scan_position\n",
    "\n",
    "    input_slopes_x = input_slopes[0]\n",
    "    input_slopes_y = input_slopes[1]\n",
    "\n",
    "    # Make the input rays we can run through one last time in the model to find positions at sample and detector\n",
    "    rays_at_source_with_semi_conv = jnp.vstack([\n",
    "        jnp.full(len(input_slopes_x), scan_pos_x),\n",
    "        jnp.full(len(input_slopes_y), scan_pos_y),\n",
    "        input_slopes_x,\n",
    "        input_slopes_y,\n",
    "        jnp.ones_like(input_slopes_x)\n",
    "    ])\n",
    "\n",
    "    # Propagate the point source coordinates through the forward ABCD matrices\n",
    "    coord_list = [rays_at_source_with_semi_conv]\n",
    "    for ABCD in each_ABCD:\n",
    "        new_coord = jnp.dot(ABCD[0], coord_list[-1])\n",
    "        coord_list.append(new_coord)\n",
    "        \n",
    "    # Stack the propagated coordinates into an array for easier indexing\n",
    "    coords_array = jnp.stack(coord_list, axis=0)\n",
    "    \n",
    "    xs = coords_array[:, 0, :]\n",
    "    ys = coords_array[:, 1, :]\n",
    "    zs = jnp.array([comp.z for comp in model])\n",
    "\n",
    "    return xs, ys, zs\n",
    "\n",
    "@jax.jit\n",
    "def find_input_slopes_that_hit_detpx_from_pt_source_with_semiconv(pixel_coords, scan_pos, semi_conv, transformation_matrix):\n",
    "    \"\"\"\n",
    "    Given a set of detector pixel coordinates, a semi-convergence angle from a source, and a transformation matrix, find a mask that tells us \n",
    "    what slopes will hit the detector pixels from the point source.\n",
    "\n",
    "    Args:\n",
    "    - pixel_coords (jnp.array): A (N, 2) array of pixel coordinates in y, x format.\n",
    "    - scan_pos (jnp.array): A (2,) array of the scan position in x and y format.\n",
    "    - semi_conv (float): The semi-convergence angle of the point source.q\n",
    "    - transformation_matrix (jnp.array): A (5, 5) transformation matrix.\n",
    "    \"\"\"\n",
    "    # We rely on the fact that theta_x_in**2 + theta_y_in**2 = semi_conv**2, \n",
    "    # which can be evaluated to find all pixels less than any semi_conv from the point source \n",
    "    # For a point source, our system of equations is:\n",
    "    # [x_out, y_out, theta_x_out, theta_y_out, 1] = transformation_matrix @ [scan_pos_x, scan_pos_y, theta_x_in, theta_y_in, 1]\n",
    "    # where theta_x_in and theta_y_in are given by alpha * cos(phi) and alpha * sin(phi), with alpha being the semi convergence angle\n",
    "    # and phi the azimuthal angle of a ray from the point source. This is a parametric equation for a cone of rays from the point source\n",
    "    # giving us the means to find a mask, which will tell us which slopes will hit the detector pixel from the point source for a given semi_conv.\n",
    "    scan_pos_y, scan_pos_x = scan_pos\n",
    "    A_xx, A_xy, B_xx, B_xy = transformation_matrix[0, :4] # Select first row not including the last column of values from the 5x5 transfer matrix\n",
    "    A_yx, A_yy, B_yx, B_yy = transformation_matrix[1, :4] # Select second row not including the last column of values from the 5x5 transfer matrix\n",
    "    delta_x, delta_y = transformation_matrix[0, 4], transformation_matrix[1, 4] # Get the shift values from the final column of the transfer matrix\n",
    "    y_out, x_out = pixel_coords[:, 0], pixel_coords[:, 1]\n",
    "\n",
    "    denom = (B_xx*B_yy - B_xy*B_yx)\n",
    "    theta_x_in = (-A_xx*B_yy*scan_pos_x - A_xy*B_yy*scan_pos_y + A_yx*B_xy*scan_pos_x + \n",
    "         A_yy*B_xy*scan_pos_y + B_xy*delta_y - B_xy*y_out - B_yy*delta_x + B_yy*x_out) / denom\n",
    "    theta_y_in = (A_xx*B_yx*scan_pos_x + A_xy*B_yx*scan_pos_y - A_yx*B_xx*scan_pos_x - \n",
    "         A_yy*B_xx*scan_pos_y - B_xx*delta_y + B_xx*y_out + B_yx*delta_x - B_yx*x_out) / denom\n",
    "    F = (theta_x_in**2 + theta_y_in**2) - semi_conv **2\n",
    "    mask = F <= 0\n",
    "    input_slopes_x_masked = jnp.where(mask, theta_x_in, 0.0)\n",
    "    input_slopes_y_masked = jnp.where(mask, theta_y_in, 0.0)\n",
    "    input_slopes_masked = jnp.stack([input_slopes_x_masked, input_slopes_y_masked])\n",
    "    \n",
    "    return input_slopes_masked, mask\n",
    "    \n",
    "@jax.jit\n",
    "def map_px_on_sample_to_detector(sample_image, detector_image,\n",
    "                                 sample_pixel_size, det_pixel_size,\n",
    "                                 ray_sample_coords_x, ray_sample_coords_y,\n",
    "                                 ray_det_coords_x, ray_det_coords_y):\n",
    "    \"\"\"\n",
    "    Map the pixel values from the sample to the detector image.\n",
    "    \"\"\"\n",
    "    sample_image_shape = sample_image.shape  # (n_rows, n_cols)\n",
    "    detector_image_shape = detector_image.shape\n",
    "\n",
    "    # Create an interpolant defined on the image grid (note image indexing is row, col)\n",
    "    y = jnp.arange(sample_image_shape[0])\n",
    "    x = jnp.arange(sample_image_shape[1])\n",
    "\n",
    "    image_interpolant = RegularGridInterpolator((y, x), sample_image,\n",
    "                                                bounds_error=False, fill_value=1.0)\n",
    "\n",
    "    sample_pixel_xs = ray_sample_coords_x / sample_pixel_size + sample_image_shape[1] / 2\n",
    "    sample_pixel_ys = ray_sample_coords_y / sample_pixel_size + sample_image_shape[0] / 2\n",
    "\n",
    "    sample_pts = jnp.stack([sample_pixel_ys, sample_pixel_xs], axis=-1)\n",
    "    \n",
    "    # Get the pixel values from the image using nearest neighbor interpolation\n",
    "    sample_px_hit_by_rays = image_interpolant(sample_pts, method='nearest')\n",
    "\n",
    "    det_pixel_xs = (ray_det_coords_x / det_pixel_size) + detector_image_shape[1] / 2\n",
    "    det_pixel_ys = (ray_det_coords_y / det_pixel_size) + detector_image_shape[0] / 2\n",
    "    \n",
    "    det_pixel_xs = jnp.round(det_pixel_xs).astype(jnp.int32)\n",
    "    det_pixel_ys = jnp.round(det_pixel_ys).astype(jnp.int32)\n",
    "    \n",
    "    # detector_image = jnp.zeros(detector_image_shape, dtype=jnp.complex64)\n",
    "    det_image = detector_image.at[(det_pixel_ys, det_pixel_xs)].set(sample_px_hit_by_rays)\n",
    "    \n",
    "    return det_image\n"
   ]
  },
  {
   "cell_type": "markdown",
   "metadata": {},
   "source": [
    "Create the model: Just 3 components: Sample, Descanner and Detector, and create a forward dataset. ***Warning:*** this will probably take a minute or two to complete on a modern workstation.\n",
    "\n",
    "\n",
    "**Note:** there is one small extra trick to fill in the final column of the matrix as the partial derivative of a constant shift value is 0, so the jacobian will not tell us the shift or tilt delta that was applied by the decsanner. We are storing those values in the path length function of the descanner, which is a bit of a fudge for now: Ultimately, all of the terms in the coordinate transform should actually be calculated by differentiating an optical path length function, because the optical path length is the generating function behind the coordinate transform (It is to do with the optical path length representing the lagrangian of the system). For now though to keep it simple I just use optical path length to store shift and tilt deltas."
   ]
  },
  {
   "cell_type": "code",
   "execution_count": null,
   "metadata": {},
   "outputs": [
    {
     "ename": "TypeError",
     "evalue": "Rotator.__init__() got an unexpected keyword argument 'rotation'",
     "output_type": "error",
     "traceback": [
      "\u001b[0;31m---------------------------------------------------------------------------\u001b[0m",
      "\u001b[0;31mTypeError\u001b[0m                                 Traceback (most recent call last)",
      "Cell \u001b[0;32mIn[7], line 3\u001b[0m\n\u001b[1;32m      1\u001b[0m InputPlane \u001b[38;5;241m=\u001b[39m comp\u001b[38;5;241m.\u001b[39mInputPlane(z\u001b[38;5;241m=\u001b[39mcrossover_z)\n\u001b[1;32m      2\u001b[0m ScanGrid \u001b[38;5;241m=\u001b[39m comp\u001b[38;5;241m.\u001b[39mScanGrid(z\u001b[38;5;241m=\u001b[39mjnp\u001b[38;5;241m.\u001b[39marray([defocus]), pixel_size\u001b[38;5;241m=\u001b[39mscan_px_size, shape\u001b[38;5;241m=\u001b[39msample_image_shape)\n\u001b[0;32m----> 3\u001b[0m Rotator \u001b[38;5;241m=\u001b[39m \u001b[43mcomp\u001b[49m\u001b[38;5;241;43m.\u001b[39;49m\u001b[43mRotator\u001b[49m\u001b[43m(\u001b[49m\u001b[43mz\u001b[49m\u001b[38;5;241;43m=\u001b[39;49m\u001b[43mjnp\u001b[49m\u001b[38;5;241;43m.\u001b[39;49m\u001b[43marray\u001b[49m\u001b[43m(\u001b[49m\u001b[43m[\u001b[49m\u001b[43mdefocus\u001b[49m\u001b[43m]\u001b[49m\u001b[43m)\u001b[49m\u001b[43m,\u001b[49m\u001b[43m \u001b[49m\u001b[43mrotation\u001b[49m\u001b[38;5;241;43m=\u001b[39;49m\u001b[43mrotation\u001b[49m\u001b[43m)\u001b[49m\n\u001b[1;32m      4\u001b[0m Descanner \u001b[38;5;241m=\u001b[39m comp\u001b[38;5;241m.\u001b[39mDescanner(z\u001b[38;5;241m=\u001b[39mjnp\u001b[38;5;241m.\u001b[39marray([defocus]), descan_error\u001b[38;5;241m=\u001b[39mdescan_error, offset_x\u001b[38;5;241m=\u001b[39m\u001b[38;5;241m0.0\u001b[39m, offset_y\u001b[38;5;241m=\u001b[39m\u001b[38;5;241m0.0\u001b[39m)\n\u001b[1;32m      5\u001b[0m Detector \u001b[38;5;241m=\u001b[39m comp\u001b[38;5;241m.\u001b[39mDetector(z\u001b[38;5;241m=\u001b[39mjnp\u001b[38;5;241m.\u001b[39marray([camera_length]), shape\u001b[38;5;241m=\u001b[39mdet_size, pixel_size\u001b[38;5;241m=\u001b[39mdet_px_size)\n",
      "\u001b[0;31mTypeError\u001b[0m: Rotator.__init__() got an unexpected keyword argument 'rotation'"
     ]
    }
   ],
   "source": [
    "InputPlane = comp.InputPlane(z=crossover_z)\n",
    "ScanGrid = comp.ScanGrid(z=jnp.array([defocus]), pixel_size=scan_px_size, shape=sample_image_shape)\n",
    "Rotator = comp.Rotator(z=jnp.array([defocus]), angle=rotation)\n",
    "Descanner = comp.Descanner(z=jnp.array([defocus]), descan_error=descan_error, offset_x=0.0, offset_y=0.0)\n",
    "Detector = comp.Detector(z=jnp.array([camera_length]), shape=det_size, pixel_size=det_px_size)\n",
    "\n",
    "sample_coords = ScanGrid.get_coords()\n",
    "detector_coords = Detector.get_coords()\n",
    "\n",
    "beam_radius_on_sample = defocus * semi_conv\n",
    "\n",
    "det_coords_y = detector_coords[:, 0]\n",
    "det_coords_x = detector_coords[:, 1]\n",
    "\n",
    "sample_coords_y = sample_coords[:, 0]\n",
    "sample_coords_x = sample_coords[:, 1]\n",
    "\n",
    "#Only select coordinates in sample_coords which are 1 beam radius in from the edge of the sample\n",
    "sample_coords = sample_coords.reshape((*sample_image_shape, 2))\n",
    "\n",
    "fourdstem_array = np.zeros((scan_size+det_size), dtype=np.complex64)\n",
    "\n",
    "x_out_centre = []\n",
    "y_out_centre = []\n",
    "x_out_centre_rm = []\n",
    "y_out_centre_rm = []\n",
    "\n",
    "scan_x_in = []\n",
    "scan_y_in = []\n",
    "\n",
    "for scan_idx_y in tqdm.trange(sample_image_shape[0], desc='Scan Y'):\n",
    "    for scan_idx_x in range(sample_image_shape[1]):\n",
    "        scan_pos = sample_coords[scan_idx_y, scan_idx_x] #Y X coords\n",
    "        \n",
    "        # Make the input ray\n",
    "        input_ray_positions = jnp.vstack([\n",
    "            scan_pos[1], # x\n",
    "            scan_pos[0], # y\n",
    "            jnp.array([0.0]), # dx\n",
    "            jnp.array([0.0]), # dy\n",
    "            jnp.ones((1))\n",
    "        ]).T\n",
    "\n",
    "        ray = Ray(z=InputPlane.z, \n",
    "                matrix=input_ray_positions, \n",
    "                amplitude=jnp.ones(1), \n",
    "                pathlength=jnp.zeros(1), \n",
    "                wavelength=jnp.ones(1),\n",
    "                blocked=jnp.zeros(1, dtype=float))\n",
    "        \n",
    "        #Make a new descanner with the new scan position, and update the model\n",
    "        Descanner = comp.Descanner(z=jnp.array([defocus]), descan_error=descan_error, offset_x=scan_pos[1], offset_y=scan_pos[0])\n",
    "\n",
    "        ## NOTE - We are making a new model each time also as requested in the design of TemGym in January. Model creation is never fixed. \n",
    "        model = [InputPlane, ScanGrid, Rotator, Descanner, Detector]\n",
    "\n",
    "        # Run the model to get the jacobians of output with respect to input\n",
    "        model_jacobians, each_ABCD, total_ABCD, ray = run_model_for_jacobians(ray, model)\n",
    "\n",
    "        # Now for the most important function in here: \n",
    "        input_slopes, mask = find_input_slopes_that_hit_detpx_from_pt_source_with_semiconv(detector_coords, scan_pos, semi_conv, total_ABCD[0])\n",
    "\n",
    "        # Run the model for the rays at each plane\n",
    "        xs, ys, zs = run_model_for_rays(model, each_ABCD, input_slopes, scan_pos)\n",
    "\n",
    "        ray_sample_coords_x, ray_sample_coords_y = xs[1], ys[1] # The ray coordinates at the sample plane\n",
    "        ray_det_coords_x, ray_det_coords_y = xs[-1], ys[-1] # The ray coordinates at the detector plane\n",
    "\n",
    "        detector_image = jnp.zeros(det_size, dtype=jnp.complex64)\n",
    "        det_image = map_px_on_sample_to_detector(sample_image, \n",
    "                                                    detector_image, \n",
    "                                                    scan_px_size, \n",
    "                                                    det_px_size, \n",
    "                                                    ray_sample_coords_x, \n",
    "                                                    ray_sample_coords_y, \n",
    "                                                    ray_det_coords_x, \n",
    "                                                    ray_det_coords_y)\n",
    "        \n",
    "        fourdstem_array[scan_idx_y, scan_idx_x] = det_image"
   ]
  },
  {
   "cell_type": "code",
   "execution_count": null,
   "metadata": {},
   "outputs": [],
   "source": [
    "np.save(\"fourdstem_overfocused.npy\", fourdstem_array)"
   ]
  },
  {
   "cell_type": "code",
   "execution_count": null,
   "metadata": {},
   "outputs": [
    {
     "data": {
      "application/vnd.jupyter.widget-view+json": {
       "model_id": "81395eb6f423422393f6e6e186e6b622",
       "version_major": 2,
       "version_minor": 0
      },
      "image/png": "[encoded data removed]",
      "text/html": [
       "\n",
       "            <div style=\"display: inline-block;\">\n",
       "                <div class=\"jupyter-widgets widget-label\" style=\"text-align: center;\">\n",
       "                    Figure\n",
       "                </div>\n",
       "                <img src='data:image/png;base64,iVBORw0KGgoAAAANSUhEUgAAA+gAAAH0CAYAAACuKActAAAAOXRFWHRTb2Z0d2FyZQBNYXRwbG90bGliIHZlcnNpb24zLjkuMiwgaHR0cHM6Ly9tYXRwbG90bGliLm9yZy8hTgPZAAAACXBIWXMAAA9hAAAPYQGoP6dpAACDsElEQVR4nO3deXQUVfr/8U8nkAWyEYSELRgVBRVBQCHiuIGDigvKDOIygiIoBhQY9Ssq66BRdAQXBHEBxxFRxn0BdFBxVATEfUNQlDVhTQIBEiD1+8NfrreKdGyydSV5v87JOU93PV19q7o7ye167r0Bx3EcAQAAAACAsIoIdwMAAAAAAAAddAAAAAAAfIEOOgAAAAAAPkAHHQAAAAAAH6CDDgAAAACAD9BBBwAAAADAB+igAwAAAADgA3TQAQAAAADwATroAAAAAAD4AB10AAAAAAB8gA46AAAAAAA+QAcdAAAAAAAfoIMOAAAAAIAP0EEHAAAAAMAH6KADAAAAAOADdNABAAAAAPABOugAAAAAAPgAHXQAAAAAAHyADjoAAAAAAD5ABx0AAAAAAB+ggw4AAAAAgA/QQQcAAAAAwAfooAMAAAAA4AN00AEAAAAA8AE66AAAAAAA+AAddAAAAAAAfIAOOgAAAAAAPkAHHQAAAAAAH6CDDgAAAACAD9BBBwAAAADAB+igAwAAAADgA3TQAQAAAADwATroAAAAAAD4AB10AAAAAAB8gA46AAAAAAA+QAcdAAAAAAAfoIMOAAAAAIAP0EEHAAAAAMAH6KADAAAAAOADdNABAAAAAPABOugAAAAAAPgAHXQAAAAAAHyADjoAAAAAAD5ABx0AAAAAAB+ggw4AAAAAgA/QQQcAAAAAwAfooAMAAAAA4AN00AEAAAAA8AE66AAAAAAA+AAddAAAAAAAfIAOOgAAAAAAPkAHHQAAAAAAH6CDDgAAAACAD9BBBwAAAADAB+igAwAAoEJmz56tQCBgfmJiYtS8eXP16tVLDz30kHbu3FnufX/33XcaP368fvnll8prcCk+/vhjjR8/Xrm5uVX6PLaBAwcqLi6u2p4PgP/RQQcAAEClmDhxop555hlNnz5dw4cPlySNGDFC7du311dffVWufX733XeaMGFCtXTQJ0yYUK0ddADwqhfuBgAAAKB2OPfcc9WlSxdze/To0Xr33Xd1/vnn68ILL9T333+v2NjYMLawejmOo71799apYwZQMVxBBwAAQJU566yzNGbMGP3666/697//7dr2ww8/6C9/+YuSk5MVExOjLl266LXXXjPbZ8+erb/+9a+SpDPPPNOU0L///vsmZ/78+frTn/6khg0bKj4+Xr1799a33357UDt++OEH9evXT02aNFFsbKyOOeYY3XHHHZKk8ePH65ZbbpEkpaenm+cpuWq/f/9+/eMf/9CRRx6p6OhoHX744br99ttVWFjoeo7DDz9c559/vhYuXKguXbooNjZWjz322CGdr5J9vP/++2Yf7du3N8f80ksvqX379oqJiVHnzp31+eefux7/1VdfaeDAgTriiCMUExOj1NRUXXPNNdq2bdtBz1XyHDExMTryyCP12GOPafz48QoEAgfl/vvf/1bnzp0VGxur5ORk9e/fX+vWrTukYwPwx+igA6hzAoGAxo8fH+5mAECd8be//U2S9Pbbb5v7vv32W3Xr1k3ff/+9brvtNv3zn/9Uw4YN1adPH7388suSpNNOO0033nijJOn222/XM888o2eeeUbt2rWTJD3zzDPq3bu34uLidO+992rMmDH67rvvdOqpp7pK4r/66it17dpV7777rgYPHqwHH3xQffr00euvvy5JuuSSS3TZZZdJkqZMmWKep0mTJpKka6+9VmPHjlWnTp00ZcoUnX766crKylL//v0POtaVK1fqsssu09lnn60HH3xQHTt2POTztXr1al1++eW64IILlJWVpR07duiCCy7Qs88+q5EjR+rKK6/UhAkT9NNPP6lfv34qLi42j33nnXf0888/6+qrr9bDDz+s/v37a+7cuTrvvPPkOI7J+/zzz3XOOedo27ZtmjBhggYNGqSJEyfqlVdeOag9d911l6666iq1adNGDzzwgEaMGKFFixbptNNOY0gAUNkcACinr776yunbt6+TlpbmREdHO82bN3d69uzpPPTQQ+FuWpkkOePGjQt3MwCg1pg1a5YjyVm+fHnQnMTEROfEE080t3v06OG0b9/e2bt3r7mvuLjYOeWUU5w2bdqY++bNm+dIct577z3X/nbu3OkkJSU5gwcPdt2fnZ3tJCYmuu4/7bTTnPj4eOfXX3915RYXF5v4vvvucyQ5a9asceV88cUXjiTn2muvdd1/8803O5Kcd99919zXunVrR5KzYMGCoOfBNmDAAKdhw4au+0r28fHHH5v7Fi5c6EhyYmNjXcfw2GOPHXRudu/efdDzPPfcc44k54MPPjD3XXDBBU6DBg2cDRs2mPtWrVrl1KtXz7G7CL/88osTGRnp3HXXXa59fv311069evUOuh9AxXAFHUC5fPzxx+rSpYu+/PJLDR48WI888oiuvfZaRURE6MEHHwx38wAAPhMXF2dmc9++fbveffdd9evXTzt37tTWrVu1detWbdu2Tb169dKqVau0YcOGMvf3zjvvKDc3V5dddpl5/NatWxUZGamuXbvqvffekyRt2bJFH3zwga655hqlpaW59lFaKbfXW2+9JUkaNWqU6/6///3vkqQ333zTdX96erp69er1h/sty7HHHquMjAxzu2vXrpJ+Gy5gH0PJ/T///LO5zx7vvnfvXm3dulXdunWTJH322WeSpAMHDui///2v+vTpo+bNm5v8o446Sueee66rLS+99JKKi4vVr18/13lOTU1VmzZtzHkGUDmYJA5Audx1111KTEzU8uXLlZSU5Nq2efPm8DQKAOBbu3btUtOmTSX9VsLtOI7GjBmjMWPGlJq/efNmtWjRIuj+Vq1aJem3TmtpEhISJP3eeT3++OPL1e5ff/1VEREROuqoo1z3p6amKikpSb/++qvr/vT09HI9j837RUJiYqIkqVWrVqXev2PHDnPf9u3bNWHCBM2dO/egv8d5eXmSfju3e/bsOeiYJB1036pVq+Q4jtq0aVNqW+vXrx/KIQEIER10AOXy008/6bjjjjuocy7J/AMmSbNmzdIzzzyjb775Rnl5eTryyCM1fPhwDR061PWYww8/XMcff7xuvvlm3Xzzzfr222911FFH6eGHH9YZZ5yhl156SePGjdOqVat03HHH6YknntCJJ55oHj9w4ED95z//0VdffaWhQ4fqww8/VGJioq6//nqNGTPmD6+SbNiwQWPGjNGbb76p3NxcHXXUUfr73/+ua665pmInCgCg9evXKy8vz3T+SsZM33zzzUGvNpfWebSV7OOZZ55RamrqQdvr1avcf3NDudouqVJmbI+MjDyk+x1rbHm/fv308ccf65ZbblHHjh0VFxen4uJinXPOOa6x6qEqLi5WIBDQ/PnzS31+1nEHKhcddADl0rp1ay1ZskTffPNNmVclpk+fruOOO04XXnih6tWrp9dff1033HCDiouLlZmZ6cotmRTnuuuu05VXXqn7779fF1xwgWbMmKHbb79dN9xwgyQpKytL/fr108qVKxUR8ftInQMHDuicc85Rt27dNHnyZC1YsEDjxo3T/v37NXHixKBtzMnJUbdu3RQIBDRs2DA1adJE8+fP16BBg5Sfn68RI0ZU7GQBQB33zDPPSJLpjB9xxBGSfrv62rNnzzIfG6xjfOSRR0r67UvhsvZR8lzffPNNuZ6ndevWKi4u1qpVq8zkdNJvfztyc3PVunXrMvdbnXbs2KFFixZpwoQJGjt2rLm/pNqgRNOmTRUTE6PVq1cftA/vfUceeaQcx1F6erqOPvroqmk4gN+Fdwg8gJrq7bffdiIjI53IyEgnIyPDufXWW52FCxc6RUVFrrzSJqvp1auXc8QRR7juq+ikOAMGDHAkOcOHDzf3FRcXO71793aioqKcLVu2mPvlmSRu0KBBTrNmzZytW7e62tS/f38nMTGx1GMAAPyurEniFi1a5MTGxjrp6enOnj17zP1nnHGGk5yc7GzcuPGgx2zevNnE8+fPdyQ5L7/8sisnLy/PSUhIcE4//fSD/vZ49xHKJHHTp093JDmff/65K6dkkrghQ4a47r/11ltLnSSud+/eB7UlmGCTxJW2D0lOZmam6741a9Y4kpz77rvPcZzfzokkZ/z48a68G2644aC/feeff35Ik8StXr3aiYyMdC6//HLX+XKc386f928ngIrhCjqAcjn77LO1ZMkSZWVlaeHChVqyZIkmT56sJk2a6IknntCFF14oyV3ql5eXp3379un000/XwoULlZeXZ8bPSeWbFOeMM85wtWvYsGEmLrki/uabb+q///1vqcvhOI6jF198Uf369ZPjONq6davZ1qtXL82dO1efffaZunfvXp7TBAB1yvz58/XDDz9o//79ysnJ0bvvvqt33nlHrVu31muvvaaYmBiTO23aNJ166qlq3769Bg8erCOOOEI5OTlasmSJ1q9fry+//FKS1LFjR0VGRuree+9VXl6eoqOjddZZZ6lp06aaPn26/va3v6lTp07q37+/mjRporVr1+rNN99U9+7d9cgjj0iSHnroIZ166qnq1KmThgwZovT0dP3yyy9688039cUXX0iSOnfuLEm644471L9/f9WvX18XXHCBOnTooAEDBmjmzJnKzc3V6aefrmXLlunpp59Wnz59dOaZZ1bvSS5DQkKCTjvtNE2ePFn79u1TixYt9Pbbb2vNmjUH5Y4fP15vv/22unfvrqFDh+rAgQN65JFHdPzxx5tzIv12BX3SpEkaPXq0fvnlF/Xp00fx8fFas2aNXn75ZQ0ZMkQ333xzNR4lUMuF+xsCADVfYWGhs2zZMmf06NFOTEyMU79+fefbb791HMdxPvzwQ6dHjx5OgwYNHEmuH/tKRuvWrZ1zzjnnoH1Lcq6//nrXfSVXDO6//35z34ABA5yIiAhn3759rtyffvrJkeRkZWW59llyFSEnJ+egdnl/XnrppQqfIwCozUquoJf8REVFOampqc7ZZ5/tPPjgg05+fn6pj/vpp5+cq666yklNTXXq16/vtGjRwjn//POd//znP668xx9/3DniiCOcyMjIgyqo3nvvPadXr15OYmKiExMT4xx55JHOwIEDnU8//dS1j2+++ca5+OKLnaSkJCcmJsY55phjnDFjxrhy/vGPfzgtWrRwIiIiXEuu7du3z5kwYYKTnp7u1K9f32nVqpUzevRo1xJxjhP+K+iO4zjr1683x5mYmOj89a9/dTZu3FjqEqOLFi1yTjzxRCcqKso58sgjnSeeeML5+9//7sTExBz0/C+++KJz6qmnOg0bNnQaNmzotG3b1snMzHRWrlwZ8vEC+GMBx7FmlQCACpo9e7auvvpqjR8/XldeeaWOO+44tW3bVkOHDlWrVq0UFRWlt956S1OmTNGaNWt0+OGHS/p9krg33njDtb9AIKDMzExzFUSSfvnlF6Wnp+u+++4z39oPHDhQzzzzjAoLC10TA/3888868sgjlZWVpdtuu83sc9y4cRo/fryys7PVrFkzXXnllRowYECpx3TCCSe4Jr4DAKC26tOnj7799tuDxq0DqB6UuAOoVF26dJEkbdq0Sa+//roKCwv12muvuUrUq2rN1OLiYv3888+uSWx+/PFHSTJfBHg1adJE8fHxOnDgwB9OVAQAQG2yZ88e11C0VatW6a233gr6hTWAqhfxxykAcLD33ntPpRXgvPXWW5KkY445xizHYufl5eVp1qxZVdYu+0q74zh65JFHVL9+ffXo0aPU/MjISPXt21cvvvhiqTP8btmypcraCgBAOB1xxBEaPXq0Hn/8cd15553q1q2boqKidOutt4a7aUCdxRV0AOUyfPhw7d69WxdffLHatm2roqIiffzxx3r++ed1+OGH6+qrr1ZOTo6ioqJ0wQUX6LrrrtOuXbv0+OOPq2nTptq0aVOltykmJkYLFizQgAED1LVrV82fP19vvvmmbr/9djVp0iTo4+655x6999576tq1qwYPHqxjjz1W27dv12effab//ve/2r59e6W3FQCAcDvnnHP03HPPKTs7W9HR0crIyNDdd9+tNm3ahLtpQJ1FBx1Audx///2aN2+e3nrrLc2cOVNFRUVKS0vTDTfcoDvvvFNJSUlKSkrSf/7zH9155526+eablZqaqqFDh6pJkya65pprKr1NkZGRWrBggYYOHapbbrlF8fHxGjdunGst2NKkpKRo2bJlmjhxol566SU9+uijaty4sY477jjde++9ld5OAAD8oCor2gCUD5PEAagVBg4cqP/85z/atWtXuJsCAAAAlAtj0AEAAAAA8AFK3AEAQIVNmzZN9913n7Kzs9WhQwc9/PDDOvnkk0N6bHFxsTZu3Kj4+HgFAoEqbikAoITjONq5c6eaN2+uiAiu3foBHXQAAFAhzz//vEaNGqUZM2aoa9eumjp1qnr16qWVK1eqadOmf/j4jRs3qlWrVtXQUgBAadatW6eWLVuGuxkQY9ABAEAFde3aVSeddJJZ5rC4uFitWrXS8OHDddttt/3h4/Py8pSUlFTFrQQABJObm6vExMRwNwNiDDoAAKiAoqIirVixQj179jT3RUREqGfPnlqyZEmpjyksLFR+fr752blzZ3U1FwBQCoYX+Qcd9Bpo2rRpOvzwwxUTE6OuXbtq2bJl4W4SAKCO2rp1qw4cOKCUlBTX/SkpKcrOzi71MVlZWUpMTDQ/lLejNoiNjdXXX3+tr7/+WrGxseFuDoAaijHoNUxFx/kxEQ8AhAcT8fxu9OjRGjVqlLmdn59PJx0AANFBr3EeeOABDR48WFdffbUkacaMGXrzzTf11FNPhTTOj4l4ACC8attEPIcddpgiIyOVk5Pjuj8nJ0epqamlPiY6OlrR0dHV0TwAAGoUOug1SMk4v9GjR5v7QhnnV1hYaG6XzAn43//+Vw0bNqzaBgMAjIKCAvXs2VPx8fHhbkqlioqKUufOnbVo0SL16dNH0m/VWosWLdKwYcPC2zgAAGoYOug1SFnj/H744YdSH5OVlaUJEyYcdH/Dhg0VFxdXJe0EAARXG4cXjRo1SgMGDFCXLl108skna+rUqSooKDDVXgAAIDR00Gs5xvkBAKrapZdeqi1btmjs2LHKzs5Wx44dtWDBgoO+UAYAAGWjg16DMM4PAOBXw4YNo6QdAIAKqtvTyNYw9ji/EiXj/DIyMsLYMgAAgLrtwIED+uCDD/TBBx/owIED4W4OgBqKK+g1DOP8AAAA/KeoqEiZmZnhbgaAGo4Oeg3DOD8AAAAAqJ3ooNdAjPMDAAAAgNqHMegAAABABcXGxmrp0qVaunSpYmNjw90cADUUV9CBWqC4uNjEERF87wYAQDg0aNAg3E0AUMPxnzwAAAAAAD5ABx0AAAAAAB+gxB2oIQoKCkx81llnubbt3r3bxJGRkSaeOXOmK+/kk0+uotahprKHRDRs2NDE3bp1c+VlZGSYeNKkSSa2h1cAAACgYriCDgAAAACAD9BBBwAAAADAByhxBwAAACqouLhYy5cvNzEAlAcddMBHvEukRUdHm7hTp04m7tevnysvKyvLxPb49EGDBrnyXn31VROnp6ebOBAIlLPFqOmioqJM3LNnTxNv3749HM0BgBqrsLBQ11xzTbibAaCGo8QdAAAAAAAfoIMOAAAAAIAPUOIO+MiBAwdctwcPHmziY445xsQTJkxw5e3atcvE7777bqmPkaQ+ffqY+KeffjLxnj17XHmMnau97OX6JKljx44mtt9/9erx5wEADkVsbKwWLFggSTrnnHMO+tsKAKHgPzAAAACgEiQnJ4e7CQBqOErcAQAAAADwAa6gA2EWGRlp4saNG7u2ffzxxyaeNGmSie2Sdu8+7Nm3+/bt68p77rnnTLx69WoTN2vW7FCbDZ+z3xP2FZ2zzz7blec4jolLSjMl6fLLLw+aBwAAgKrBFXQAAAAAAHyADjoAAAAAAD5ABx0AAAAAAB9gDDoQZvv37zfx66+/HjSvadOmJg4EAkHz7LHH1157rWvb3LlzTfzll1+amDHotY89ZtxePq1Hjx6uvHHjxpk4KSnJxCy1BwCHpri4WN98842JAaA86KADAAAAFVRYWKjLLrss3M0AUMNR4g4AAAAAgA9wBR0IM7sMzl76TJIiIn7/Ds0ucbfv97JL3I877jjXtvr165vYLnE///zzXXl22T1qJvt9ZS+9d9ttt7nyeK0BAAD8gyvoAAAAQAXFxMRowYIFWrBggWJiYsLdHAA1FFfQAQAAgAoKBAJq0aKFiQGgPOigAz5mz8Rtx+Vl/8Owbdu2Uu+X3CX0zEQLAAAAVA9K3AEAAAAA8AE66AAAAAAA+AAddAAAAAAAfIAx6ICP2EukSVJhYaGJc3JyTFwyCU0Je8z4gQMHTLxq1SpXXlFRkYlPOeUUE+/bt6+cLQYAAABQWeigAwAAABXkOI5Wr15tYgAoDzroAAAAqBF27twZ7iaEZMuWLeFughEfHx/uJgA4BHTQgTCzy9OPOeYY1zZ7+bNFixaZuGvXrq48u6zdXhZt3rx5Qfd38sknl7PFAAAAAKoCk8QBAAAAAOADXEEHAAAAKqi4uFibNm2SJDVr1sxVIQcAoaKDDoRZvXq/fwzPO+8817aEhAQTv/766yYeP368K8+e7T02NtbEc+bMceXt37/fxEceeWSpj5fcZfIAACA0rIoCoKL4ag8AAAAAAB/gCjoAAADCpqbMzF5TVcb5ZSZ4oPpwBR0AAAAAAB/gCjoQZvYSaSWTy5To0KGDiZcsWWLia6+91pX3wAMPmNgen75582ZXnj0mfffu3Sa2l18DAAAAEB5cQQcAAAAAwAfooAMAgKA++OADXXDBBWrevLkCgYBeeeUV13bHcTR27Fg1a9ZMsbGx6tmzp1atWhWexgJhFhkZqcjIyHA3A0ANRok74CPeNVNnzZpl4m7dupn4f//7nyvvT3/6k4kLCgpMfNNNN7ny7JJ5u7Qe8PL+g+k4TphagnArKChQhw4ddM011+iSSy45aPvkyZP10EMP6emnn1Z6errGjBmjXr166bvvvlNMTEwYWgw/qIsTv0VERKhVq1bhbkaVOJTXkwnlgIqhgw4AAII699xzde6555a6zXEcTZ06VXfeeacuuugiSdK//vUvpaSk6JVXXlH//v2rs6kAANR4lLgDAIByWbNmjbKzs9WzZ09zX2Jiorp27eqa2NKrsLBQ+fn5rh8AAMAVdMDX9uzZY+JFixaZePv27a681atXm/i0004r9fESZe04mF26bpcwDh482JV3zDHHVFubUHNkZ2dLklJSUlz3p6SkmG2lycrK0oQJE6q0bUB1Ky4uNu/71NTUg4atAUAo+M0BAACq1ejRo5WXl2d+1q1bF+4mAZWiqKhIRUVF4W4GgBqMDjoAACiX1NRUSVJOTo7r/pycHLOtNNHR0UpISHD9AAAAStwBAEA5paenKzU1VYsWLVLHjh0lSfn5+Vq6dKmGDh0a3sah0tXFmdlx6JjxHagYOuioU7zjwWrS+LDi4mITJycnu7adfPLJJrZL6wKBgCuvXr3SP/LeJbSCjVUP9niv/fv3B91WGfsIRajP4xehHq99XPbr5n3NQs2zPwOFhYUmvuKKK4K2wX5fVfV5ruj7ABW3a9cu1zwXa9as0RdffKHk5GSlpaVpxIgRmjRpktq0aWOWWWvevLn69OkTvkYDAFBD1az/YAEAQLX69NNPdeaZZ5rbo0aNkiQNGDBAs2fP1q233qqCggINGTJEubm5OvXUU7VgwQLWQAcAoBzooAMAgKDOOOOMg6psbIFAQBMnTtTEiROrsVUAANROdNDhC3aZrD3ZkLcct2nTphV6Hu/yZJMnTy61DX7RsGFDE48bN87E3hli7fJ3W2Jiouv2ddddZ+IGDRqYuH379q68Sy+91MR2CfT48eNdeXv37i01fuCBB1x5dpmy/U+8/Riviv6zf9ttt7lu+204g/fYH3vsMRPv2rXLxPXr13fl/eMf/zCx/XkYNmyYK2/IkCEm7ty5s4m944LtvN69e5vYXq5Pcn8+nnnmGROvWrXKlVfRpfy8k4XdcccdJt63b5+Jve95+/UN9nkAgKrmt781AGoe//VIAAAAUC2Y+K3yREREKC0tLdzNqFFKe/8xcRzqOr7mAwAAAADAB7iCjrDwrpn75z//2cTekl6bXbo6d+5cEx999NEhPe/u3btdt99++20T2zNYe2c/Dxe7RH3SpEkm9pa42+y2eydpWrx4sYmDladLUv/+/U1sl+u98cYbrjy7FNsux/eW+Nmv25tvvlnq4715FS1x97bVD2XP9jhe+3xJUmxsrIkLCgpM7P08zJ8/38RHHnmkiW+++WZX3vLly01sl4aPHDnSlffxxx+bOD093cSnnnpqkKOQPvnkk1IfL1V81vUmTZq4bo8dO9bE9mfU+x6zh2l89NFHJo6Li6tQewAAAKoTV9B9JCsrSyeddJLi4+PVtGlT9enTRytXrnTl7N27V5mZmWrcuLHi4uLUt2/fgzq7AAAAqF7FxcXatGmTNm3a5IsvhQHUTHTQfWTx4sXKzMzUJ598onfeeUf79u3Tn//8Z9fVtJEjR+r111/XvHnztHjxYm3cuFGXXHJJGFsNAAAA6bdKH7vaBwAOFSXuPrJgwQLX7dmzZ6tp06ZasWKFTjvtNOXl5enJJ5/UnDlzdNZZZ0mSZs2apXbt2umTTz5Rt27dwtFsAAAAAEAloIPuY3l5eZKk5ORkSdKKFSu0b98+9ezZ0+S0bdtWaWlpWrJkSakddO83ufn5+VXc6uDs8cYXXniha5s9VnrRokUm9o5H7dKli4ntcdKvvfaaK69ly5altsFbcmYvNWaPaS1rzd/qtGfPnkrdX7BjDLUUz5tn7yPUpWXKet7KHPvvbU9Fl/+qbOVdiifU96Z9Lv9oDetQ2K/VU089ZeKqXp4wNzfXxPZY+oyMDFeeX+aNAPyK2dpRUxzKe5UZ31EbUeLuU8XFxRoxYoS6d++u448/XpKUnZ2tqKgoJSUluXJTUlKUnZ1d6n6ysrKUmJhoflq1alXVTQcAAAAAlAMddJ/KzMzUN99845qpvDxGjx6tvLw887Nu3bpKaiEAAAAAoDJR4u5Dw4YN0xtvvKEPPvjAVaqdmpqqoqIi5ebmuq6i5+TkKDU1tdR9RUdHKzo6uqqbbHjLdu3y1z59+pjYW7r9yy+/mNieFM870cqSJUtM3LlzZxMPHDjQlffhhx+a2F6S7PDDD3flff/99yb2S1m7zS4r3r59exhbUj0oU65+oZ5z+7M9Y8YME//444+uvIrOXOwtV7z99ttNbJfWv/fee648e9gM7yMAAFBTcQXdRxzH0bBhw/Tyyy/r3Xffda1JLP3WIa1fv75rjPbKlSu1du3ag8ZjAgAAoHoFAgG+JARQIVxB95HMzEzNmTNHr776quLj48248sTERMXGxioxMVGDBg3SqFGjlJycrISEBA0fPlwZGRnM4A4AACQxIVy4REREqHXr1uFuRp0S7L3O5HGoyeig+8j06dMlSWeccYbr/lmzZpkS7ilTpigiIkJ9+/ZVYWGhevXqpUcffbSaWxqct7zVLi/PzMw08Zo1a1x59gzv9j68JfNRUVEmtmd03rt3ryvPLq2327B//35X3pYtW0o5CgBlWbZsmYk//vhj17aKzpbvXblhwoQJJr766qtNHBkZ6crjihUAAKgN6KD7SChjoGNiYjRt2jRNmzatGloEAAAAAKgudNABAACACiouLjaVeU2aNDmoChAAQkEHHQAAAKgE3lVqAOBQ0UFHtbGXWfOW8wdbmsl7/0cffVTqttNPP92Vl5eXZ2J7rKp3DPqqVatM7Mdvuu22H3PMMSau6DhfoESoywvan7d//etfJrbnhagM3s/81q1bTcw4cwAAUNvRQQcAAKiBmK0dKF1pnw1mdkdN4b9LhgAAAAAA1EFcQUe1sctTSytVjdi5UxEFBdqfmmru2717tySpfk6Oihs21E033VTqPmbOnOna17Zt20xsl8xu3rzZlXfZZZeF3L5wSExMNPGnn35q4oKCAldesCECqH1CfW/apetlPSbUEnd7CMiIESNMbL8vJfd7MdR92+1LTk52bXvxxRdNXFhYGNL+AAAAaio66PCFiJ07dfj116ve9u1aM2uW9lmd9KicHLUdOlT7GzVSvONop086zwAAAABQmShxhy9EFBSo3vbtilq/XulXX6362dmSfu+cx2zYoHo7dig+xCtyAAAAAFDTcAUdvrA/NVVrZs1S+tVXK2r9eh0+cKDWTJyohtdeqxjH0ZpAQL3z8rTGmoV9/vz5Ji5Zd/SPeEtuY2NjTbx3714T+6Vk3G4T6ibvezYhIcHEcXFxQfN27Nhh4oYNG5rY+962J9KJiYkJqU32+9I73KKiKwxER0e7boda0u/HVRiAysSEcP4XERGhww8/PNzNQBDBPkNMHge/4T8a+Ma+/99JL2zRQtEbNqjtoEFKL+mcN2yoDfwDDgAAAKAWo8cDX9mXmqo1Eye67hsSG0vnHAAAAECtR68HvlI/O1vpY8e67pu5Z49a+KTkHAAAoDTFxcXavHmzNm/e7JuhcgBqHsagwxc2b96s6M2b1WnUKEVv2qSfAwFdGxWlJ4qKdITj6I2CAvWKitJjb71lHtOkSZNDfp7GjRu7bt95550mjoyMLP8BVJGoqCgTMx697rDHk+/atcu1bcGCBaXmbd261ZX3008/mdgeF+6dr2H16tUm3rdvX6mx5B67PmXKFBNX9thv71j6kqUW/8iyZctMbJ8z/kkGUJ1C/Z0FAMFwBR2+EL1lizqNGqXY/985Pyc6WksjI9UrKko/BwI6wnG0sKhI0SFOBgcAAAAANQ1X0OEL+2NjVZSUJEk6Z8cOM+Z8fSCgXlFRWlhUpC3/Pw8AgNqK2doBoG6jg46wyMnJcd2+5G9/U4LjKM5x9MuBA9L/L8l98803JUnrt2zRgQYNdFh6unlMqMsv2bzLSJ177rmHvI9w8ZYco24qKioq9X5vKXewMktvnj10oqwl0uzPm/1e3G8tfVgZvJ/rYJ9zbyk8Ze0AAKA2oIMO38gPBJQf5J/xwnKMNwcAAACAmoQx6AAAAAAA+ABX0FFt7FLav/zlL65tdjnul19+aWJvqWqoM0YHK3H1lsXu2LHDxOUpma9qdpvsGegp4a277PdEo0aNTHzmmWe68uzhG6mpqSZ+/PHHXXmff/65iTt27Gjio446ypU3depUEyckJJj46KOPduV5h5EcqtzcXNftVatWmbigoMDE3mEyL730kokvvvhiE7ds2dKVV1YZPwAAQLjRQQcAAAAqKBAIKC0tzcSoGUqbmDE+Pj4MLQF+QwcdAAAAqKBAIEDHHECFMQYdAAAAAAAf4Ao6qlS9er+/xU477TQTe8eBDh061MRPPPGEib1jxoPxfmN9ww03mNge+75hwwZX3mWXXVZqXqjPW9Xs4/rhhx9MbI/FlWrPmHS/nPeawj5feXl5rm1RUVEmtj+H+fn5QffRsGFDE8fGxgbNs99/EydOdOVV9L0YHR3tul1YWGhi+/N7zjnnuPLefvttE5933nkm/u9//+vKs+dyAIDK5DiOtm7dKkk67LDDuJoOoFy4gg4AAABUkOM4KigoUEFBAV84Ayg3OugAAAAAAPgAJe6oUiWlXpK75NZbBmuXtZfH/v37XbdHjRplYrt03btMm12qa5fd+6UsLTExsVL3Z5+nyMjIUuOyePPs297XwGafT/sxdum1VLlLYHnbE+oxViX7ioq3faFebQmWV9HHS6G/7+19eN+jFS1xt39PeJ/L3vcHH3zgyrPL8+3y9++++86V96c//alC7QMqU2mzRwMIv2CfTWZ3R3XgCjoAAAAAAD5ABx0AAAAAAB+gxB1Vyp4xefXq1Sb2ltlWtKTcu7+cnJxS87wzRHfo0MHEdrm1txQ+XOyy3VDLv+1zYc+ALUlt27Ytdd9HHXVU0H3YZcWdO3d25e3Zs6fUuKwyansf9mO8z1VRJ510kuu2/ZqG6/W1j88eeiFJ+/btM3F5JheqzgmJGjRoYOJbbrnFtc37njtUhx12mOv2e++9Z+JWrVoFfdz69etNPH/+fBNnZWVVqD0AAADVyR+9EAAA4EtZWVk66aSTFB8fr6ZNm6pPnz5auXKlK2fv3r3KzMxU48aNFRcXp759+wb9ohQAAARHBx0AAAS1ePFiZWZm6pNPPtE777yjffv26c9//rNrks2RI0fq9ddf17x587R48WJt3LhRl1xySRhbDVS/QCCgVq1aqVWrVr6ZbBZAzUOJOwAACGrBggWu27Nnz1bTpk21YsUKnXbaacrLy9OTTz6pOXPm6KyzzpIkzZo1S+3atdMnn3yibt26haPZQLULBAK+WDEEQM1GBx1Vyh43vWXLljC25Df2mHhJmjlzZphaEhr7G3h7zHJZY7Xtbfn5+a5tTz31VKmP8Y7JtpcAs7c98MADrrxg457t8dSS+zjuv//+P3x8ZZgxY0aV7bsq5Obmmrgyx+J7lfec24/bsWOHie25JaSKzyfhPfZNmzaV2oalS5e68q677joTf/7556U+pjLaBykvL0+SlJycLElasWKF9u3bp549e5qctm3bKi0tTUuWLCm1g15YWOiar8D7uwoAgLqKEncAABCS4uJijRgxQt27d9fxxx8vScrOzlZUVJSSkpJcuSkpKcrOzi51P1lZWUpMTDQ/ZU0ACNQUjuNo27Zt2rZtW7VO3AmgdqGDDgAAQpKZmalvvvlGc+fOrdB+Ro8erby8PPOzbt26SmohED6O42jnzp3auXMnHXQA5UaJO6pNqMuEVaf69euHuwkhC7XsuawlxEI93mD7sJeiO5TH220PdR8VVZNeW6niZe32sAQp+LJy3jz7n0h77KR3HKVdGm5fKe3UqZMrr6io6BBafTDvMJRXXnnFxGvXrjXx0KFDXXkffvihibdt22bihIQEV553qUWEbtiwYXrjjTf0wQcfqGXLlub+1NRUFRUVKTc31/XeyMnJUWpqaqn7io6O5rUAAKAUdNABAEBQjuNo+PDhevnll/X+++8rPT3dtb1z586qX7++Fi1apL59+0qSVq5cqbVr1yojIyMcTfadnTt3hrsJACpBaZ/l+Pj4MLQEtRkddAAAEFRmZqbmzJmjV199VfHx8WZceWJiomJjY5WYmKhBgwZp1KhRSk5OVkJCgoYPH66MjAxmcAcA4BDRQYfvlFWibStPSbB3334rg/aWH5dnWEBZx2Tv3963t+w82DIx9qzLXlFRUSb2zpRtP5f3GFF+9mz53km2mjdvbmK77PiII45w5dmrA3To0MHEwUqTJffrecwxxwRtU3kkJia6btvvl6lTpwZ93quuusrE9vvXWwp/9tlnm7gqZ8uvTaZPny5JOuOMM1z3z5o1SwMHDpQkTZkyRREREerbt68KCwvVq1cvPfroo9XcUgAAaj466AAAIKhQJruKiYnRtGnTNG3atGpoEQAAtRezuAMAAAAA4ANcQQcAAAAqKBAIqEWLFiYGgPIIOCzUWKfk5+crMTFRS5YsUVxcXLibY9hvQ3s2TO/Y6IKCAhOXZ6yrvfySJP3f//2ficM1Ht1+3v79+7u22RMsBVs2S3IvJXXRRReVer8k3XTTTSY+/PDDTfzSSy+58t59910T22OUZ8+e7cqz2/H3v//dxLt373bl2WNXL730UhMzBrhi7PNvv06S+31l/6PoXQYtNja21G3efy6DLY/nnZegov+Ueh8fbOm3suYysPP89B7btWuXMjIylJeXd9Bns64r+dtUWzGLO1B71ZZZ3Pnb5B+UuAMAAAAA4AOUuAMAAAAV5DiOduzYIUlq1KgRZe4AyoUOOsLCW6L9888/m3jIkCEm9i731b59exPfe++9Jg71j6C3HHfFihUmrs7RHnZ77VLkM88805UXrE3e442JiTHxypUrTewtA7766qtNbJf+2udfkj766CMTN2jQoNQ2eC1btszE+fn5rm2tW7cO2vZwsN9/fimBDra8YFnts7fZy9xJ0vbt201sL3f18MMPu/LsYQ9/+ctfTLx69WpXnl0K36NHj6Dts2fx9rYpFN732/XXX29iu8z+jTfecOVFR0ebuGfPnof8vABQUY7jmL9/SUlJvvh7B6DmocQdAAAAAAAf4Ao6AABAJWFCOKBuCfaZry2Tx6H60UFHWPz444+u21deeaWJjz/++FLvl6SsrCwTd+zY0cSrVq1y5dkzWtsluN6S+aSkJBPbJbJVzS57s8t2Qy0nL0tZ5dvBSua9eXb7gpVel7WPUJ83XOxZSnNzc8PXEIv9PrDPv3e1gmAl795zbB+XPSt/48aNXXnz5883cefOnU383nvvufLsz4pd4n7gwAFX3pIlS0wc6vvZPl77eST3cdnDXzIyMlx5W7ZsMbF97JdccklIbQAAAPADStwBAAAAAPABOugAAAAAAPgAHXQAAAAAAHyAMeioUvb4ZXv8d2ZmpisvLi7OxE8//bSJvcuinX766Sbu3r27icePH+/K+/vf/17q8zZv3tyVZy8N5gdFRUWu297xx6Gwx/P6Zey3H9pRsjatJI0YMcLE/fr1c+WdcsopVdYG+/NgjzmXpEGDBpm4ZcuWJva+t21lLcFmn3N7KT/vsj92O8qaR8A71ryEvcSfJN16660mto831OWG7LZK7uOYO3euiX/55RdXnr2UXKjzJgBAZQoEAub/DJZYA1BedNABAACACgoEAoqKigp3MwDUcFxmAAAAAADAB7iC7lP33HOPRo8erZtuuklTp06V9NvSYX//+981d+5cFRYWqlevXnr00UeVkpIS3saWIVjJ7GeffebKW79+vYntsm5vaXR2draJ7fJ3u0S+LN6Ss9jY2KDPFQ7eMmL7dlnlzPhjDRs2NPF9991n4rvvvtuVZy/fVdklivZr6B3OMGXKFBPbS4NVdZlkRfefn5/vum2X5O/atcvEZX2+7G0FBQWubStXrjSx/flfsGCBK++nn34ysf37wLu0YrBSfQCoKMdxzDKPSUlJlLkDKBeuoPvQ8uXL9dhjj+mEE05w3T9y5Ei9/vrrmjdvnhYvXqyNGzeyxi8AAIAPOI6jvLw85eXl+eJLfwA1Ex10n9m1a5euuOIKPf7442rUqJG5Py8vT08++aQeeOABnXXWWercubNmzZqljz/+WJ988kkYWwwAAAAAqAyUuPtMZmamevfurZ49e2rSpEnm/hUrVmjfvn3q2bOnua9t27ZKS0vTkiVL1K1bt3A0t9y2b9/uuh0dHW1iu3R9/vz5rrx7773XxHYZ69ixY4Pu3y4r/vnnn1159mzye/bsMXF1fvNtlzpff/31rm2XXnqpib2zfuPQ2O+rG264wcQzZ8505VVXSaL39XzppZdMfNxxx5m4adOmrrxNmzYd8nOV55jK+gzY+zvssMNc23799VcThzosw36u/fv3u7b9+OOPJn7sscdMfN1117nyBg8ebOIOHTqY2J6xX/ptqNChtg8AAKC68B+/j8ydO1efffaZli9fftC27OxsRUVFKSkpyXV/SkqKa1ymV2Fhoatj4h0vCgAAAADwB0rcfWLdunW66aab9Oyzzx60rnBFZGVlKTEx0fy0atWq0vYNAAAAAKg8dNB9YsWKFdq8ebM6deqkevXqqV69elq8eLEeeugh1atXTykpKSoqKjKzg5bIyclRampq0P2OHj3aTFiSl5endevWVfGRAAAAAADKgxJ3n+jRo4e+/vpr131XX3212rZtq//7v/9Tq1atVL9+fS1atEh9+/aV9NvyQ2vXrnUtC+UVHR3tGt/tF2UtdfTuu++a+Nlnn3Vts5dMSktLM7G9nFNZvEsubd682cT2UIDqHINuj+etzOqJmi4i4vfvD+33S1njqe3HeO3cudPEV155pYk//fRTV96f/vSnkPZtj18u63mDPcY71vrUU08tNd64cWNI+/ay38P27wDv+bO3ldU++7a9723btrny2rVrZ+JQl1mzeYfs2Mus2WPLzzvvPFee/fm1l9HbvXt3SM8LAADgB3TQfSI+Pl7HH3+8676GDRuqcePG5v5BgwZp1KhRSk5OVkJCgoYPH66MjIwaN0EcAAA1nf2lHyD99gVos2bNTIy6rbTfEfHx8WFoCWoaOug1yJQpUxQREaG+ffuqsLBQvXr10qOPPhruZgEAANR5gUDAl1WLAGoWOug+9v7777tux8TEaNq0aZo2bVp4GlSJyioXvvjii01cUs5f4qeffjLx+eefb+KLLrrIlff888+X+rzeWfDtZdbCtYyZfS46duzo2uYtya9LGjRoYOIlS5aYuH379q48u3TaXm6vrCW0srKyTHznnXe6tjVu3NjECQkJJv7iiy9ceXYZellflNnLev3f//2fiT/77DNXnl0Obr8X3377bVee/b633x9NmjRx5bVs2dLEt956q4l/+eUXV559ztq2bWtiu1Rdcr9P7XNrnyNJGjVqVKntC1VUVJTrtr0MYdeuXU38v//9z5VnD4Owl0wEAACoSeigAwAAABXkOI5ZzjYhIYEydwDlQgcdAAAAqCDHcbRjxw5Jv401poMOoDzooKPa2CWy3lJzeyZou6TVq2TyFcldnu4tMU5JSTHx1q1bTdywYUNX3qWXXmpiP/wh9ZbZ+6FN4dK7d28T33zzzSb2lk3bpc0nn3xySPu2z/OLL77o2mbvw36/LV261JXXqVMnE9tDKryvmV2yfeONN5rYu2qD/T495phjTOwtSf/+++9Lfa7TTjvNlWevCHDKKaeY2LtU40knnWRie7iAdyIbe1tZM9h37tzZxGWt1hCM9/zZz2s/l3d29mBtKmuoAwAAgN+wDjoAAAAAAD5ABx0AAAAAAB+ggw4AAAAAgA8wBh3Vxh4zao8vlqSjjz7axPfcc4+J7XG0kns8r3eZKlthYaGJ7TGs9v2Se/kue9xqdY79tp+rTZs2rm32WPq6wH4N/vvf/5rYHie9YMEC12Ps1/fHH380cVljj+1z7h33b+8v2Lhrr7K22WPmW7RoYeIjjzzSlXfUUUeZ2B6PXjIjcAn7PWIv4eZ9z9rn0l6Xt2fPnq68YcOGmfjhhx828QUXXODK+/TTT01sj3e/5JJLXHn2UnL2ePn69esrFNnZ2a7bq1atMnFZy6fZy9TZS9P99a9/deWVZ1w8AABAdeEKOgAAAAAAPsAVdAAAAKCCAoGAqXyry6uwAKgYOuioNnFxcSbOyMhwbZs7d66J7ZLU8847z5U3depUE3/00UcmHjdunCtv+/btJrb/SNqlw5K7HNcuF65sdqm0l10Cfeedd7q2XXTRRSb2lmIHYx9vWc8b6j5C/ScjWGn4obBLxY877jgT28vheZf12rdvn4nfeOMNE5e1XNf48eNNvH///pDa4y3RtvdvD73wPq89tCM1NdXEDzzwgCvPLuPv16+fiX/44QdX3vr160385ptvmvgf//hHkKNwsz+Hkvu47GUI7bJ4SYqNjTWxfbzeYSjTp083sfe1Ko+CgoJS9+ddMrFXr14mDnYuAaAqBQIB1+9KACgPStwBAAAAAPABrqADAAAAFeQ4jnbu3ClJio+Pp8wdQLnQQUe1scuFb7/9dtc2u8x79OjRJp4wYYIrzy5dHzNmjIntUnApeFm2t/TaLve1S8jLW6JdHkVFRSa2y7UPhX288fHxJvbOWh9sBmtveb+9D/sclXVe7Fm0GzRo4NrmbUcovvrqKxPb7S7556eE/d6xVwDwsl9fe6jDxx9/7MrbuHGjiTdv3mzi++67z5Vnn7PVq1ebuKzZ1O0Zyk855RRXXnp6uont4/XOEG+36fTTTy/1ecqrrH8mg+3f+97JzMw08bp160wc6izumzZtct3+9ttvTWzPaH/jjTe68l544QUT33HHHSauzs8ygLrNcRzzf0pcXBwddADlQok7AAAAAAA+QAcdAAAAAAAfoIMOAAAAAIAPMAYd1cY7ltZmL3d26623mviLL75w5Z122mkmzs3NNXGo47xatmzpuv3qq68e8j6qkndpq2BLq3nHktvjkufNm2di7zHZy7/YY4q9y7vZr4c9hte7P/s1tcdye8f92uOPg42D9/r5559L3Xe3bt1ceYcddpiJ165dG7QN9lj1Vq1amXj+/PmuvGXLlpn4gw8+MLE9Jt67P3tpscsvv9x7KMZbb71l4ksuucS1beLEiSY+4ogjTLxy5UpXXvfu3U1sH693/gK7fZUh2OfX+56dMWNGpT6vvUydfYze1+3oo4828Zo1a0xsz40giSWQAACAr3EFHQAAAAAAH6CDDgAAgpo+fbpOOOEEJSQkKCEhQRkZGa4Khr179yozM1ONGzdWXFyc+vbtq5ycnDC2GACAmosSd/iOXZrbsWNH17aCgoJS88rLXkKsJrPLxstzTFFRUWXeDoV3abWKSk5ONrFd4u4dptC4cWMTb9iwIej+Qj0m+31lDwPIy8tz5c2dO7fUba+//ror76OPPjKxvezYk08+6co7//zzTdy0aVMTn3nmma68xMREEzdp0qTUtpZ2u4S3FN4uXbeXw/MORbAfZ2+zlwmUpEmTJpn4jTfeMPH+/ftLbY+XfUyS+/zZvMvjpaammnjFihUm9n4eQh1igd+1bNlS99xzj9q0aSPHcfT000/roosu0ueff67jjjtOI0eO1Jtvvql58+YpMTFRw4YN0yWXXBL0tQNqq0AgYH5/+2HYHICaiQ46AAAI6oILLnDdvuuuuzR9+nR98sknatmypZ588knNmTNHZ511liRp1qxZateunT755JOD5owAarNAIFDpX1YDqHsocQcAACE5cOCA5s6dq4KCAmVkZGjFihXat2+fevbsaXLatm2rtLQ0LVmyJOh+CgsLlZ+f7/oBAABcQYcP2SW3ZZWI2SW8Zc0QXxa7bLc6y9HsGcbtGc5DVVa5cLCZ3yV3ea/dBu9wAftcBHuM5H4NgpVUl9e2bdtMbJe72zOwS+7XftasWSb2trVRo0YmtmdQ95ZA2yXWbdq0MbG3NHrnzp0mtsvnvbOa26XXy5cvN/HevXtdeY8++qiJ7ZnkP/vsM1eeXeJuz3TfoUMHV579Gtpl6JMnT3bl2bPgt27d2sRJSUmuvB49epi4YcOGJo6JiXHlDRkyxMT2eQ71M+odimCX3dv7sNsguT/LAwYMMLH3fYDy+frrr5WRkaG9e/cqLi5OL7/8so499lh98cUXioqKOuj9kpKSouzs7KD7y8rK0oQJE6q41UD1chzHrBwRFxdHmTuAcuEKOgAAKNMxxxyjL774QkuXLtXQoUM1YMAAfffdd+Xe3+jRo5WXl2d+7PkZgJrKcRxt27ZN27Zt48tBAOXGFXQAAFCmqKgoHXXUUZKkzp07a/ny5XrwwQd16aWXqqioSLm5ua6r6Dk5Oa7qEa/o6OiDqk0AAAAddNQwdhm1XZZtl8GWpaT0rMS//vWvUvdX2WVp3m/S7XLpyy+/3MTeMtFgxztnzhxXnn1cffv2NbE9w7kkvfTSSya2Zx7PyMhw5R177LGlPiY3N9eV17ZtWxOffvrpJi7vkAOb3fZ//vOfJt60aZMrzz63l112WdA22KXX//vf/0zs7SSceOKJJr7rrrtM7C3X3bJli4m3b99u4i+//NKVF6zMt1mzZq7b1113nYntMu/4+HhX3kknnWRie5WDUIc2HH744a5t9nHYZfvez4Bdyv7999+b+Pjjj3flpaWlmfibb74xcajvCe/rccIJJ5Sa5y1xt4/fnpjMO2s9KkdxcbEKCwvVuXNn1a9fX4sWLTK/e1auXKm1a9ce9HsFAAD8MTroAAAgqNGjR+vcc89VWlqadu7cqTlz5uj999/XwoULlZiYqEGDBmnUqFFKTk5WQkKChg8froyMDGZwBwCgHOigAwCAoDZv3qyrrrpKmzZtUmJiok444QQtXLhQZ599tiRpypQpioiIUN++fVVYWKhevXq5Jj0EAACho4MOAACCevLJJ8vcHhMTo2nTpmnatGnV1CIAAGovOujwHXvctXdc7eDBg02ckpJi4jvuuMOV5102rIQ9xlaSZsyYYWLvclFVyV5i67zzzjOxdwy6zT4X3jHo9rhseyy4dwz6Cy+8YGJ71mTvOGd7bLn9mF9//dWVd+GFF5r4jDPOCNr2irLH1dtLqUnu8ff26+sd82yPRX755ZdN7H2P2Y+7+OKLTRwbG+vKs8fj//jjjyaeP3++K2/9+vUm/vjjj02ck5PjyrPHidtt8rZv9erVJrbHibdr186VF+o8Cl9//bWJ33zzTRMfc8wxrjz78zZz5kwTjx071pVnL4P3+OOPmzjUseD2cniS+/Nhj0+3x+J7n3fgwIEmPuuss1x5lTE/AgAAQFWhgw4AAABUUCAQUJMmTUwMAOVBBx0AAPhCTExMqR2bAwcOqKioyNz2VrTYSmaYL09usOeXflsxwq5++qNqDLsarCbkBgIBc+yO45S5jje5wXNL3m/ex/q1vX7Olfzx2ajMXPv9Yf8+iY6Odj3Wa8+ePeXKjYqKClpV6s2Ff9BBh+/Yv9Bee+0117bly5eb2F5+yftLMNgvI28Ze8kkR5JUv359E1f1Mmt2ua93uahg7DZ5y4Xtf1zL+uOxf//+Uvdhl1d72Xne57UfVxnnzP6DY8edOnUy8auvvup6TI8ePUxsl4N7z4Pdvvz8fBPbr7vkPkc27zmyl2Ozly7zLrO2dOnSUttnL1Umucvpe/bsaeKEhARXnl0Cbh97ec9/eR5X1mPs96I9BKKs95itQYMGrtv262gfe8uWLV15p512monPOeccE9v/AMH/3nvvPcXFxR10/wcffKDMzExz+/333z/ovVJi+fLluuaaa8ztBQsWKDk5udTcb775xrU84yuvvKIWLVqUmrt69WrX53TTpk1Bh25ERka6hl1kZ2e7Phu2iIgI1/KEOTk5QZcODQQCat26tbm9ZcuWMv/Btn83bd26Vbt37w6am5aWZj7bW7duVUFBQdDcVq1amb+z27dvP2j4mK1Fixbm9+yOHTtcv3+9mjdvbpaZzM3NdS0H6tWsWTMz7CU/P187duwImpuSkmI6Rjt37nQtjenVtGlT897atWuXtm3bFjS3SZMm5m/47t27XctWejVu3NgMJ9uzZ482b94cNLdkRQTpt99h3iFRtkaNGikxMVHSb79/vUuR2hITE83v0X379mnjxo1BcxMSEsznZv/+/dqwYUPQ3Pj4eDOkrri42DWEzqthw4amysBxHK1duzZoboMGDdS0aVNzu6zc2NhY11CsdevWBe38R0dHu5Y6Xb9+fdD/naKiotS8eXNze8OGDUH/ntWvX9/1+6O03xHLli0z+7H/Vs2ePfugZUtLbN++3TV8cfr06QcN8yqxe/dude3a1dyeMmWK6++jV/v27YNuQ/gE//oFAAAAAABUG66gAwAAXzjzzDODlrjbypqU0nslzL5K9Ue5ffr0KbPE3WZfgfsjqampIefaVwH/SMmVyFAcdthhZW63j/uwww47aJLRYLnJyckHTe4YLLdRo0ZlToZq5yYlJZkrw3+Um5CQcNBkp8Fy4+PjS63SKC03Li6uzCo3O7dBgwZq2bKlmRi0ZcuWrkowOzc2NtZVNVHWfmNiYkLOjYqKCjm3fv36IefWq1cv5FxvRUhZuYFAoMxcr0PJtStY/oi3IqsswSpsSlPa74iS3wXe3ycDBw4ss2zdNnTo0JBzR44cWWaJO/yJDjp8xy6VmzBhgmub/Yf9j8Ytlcb7T8R99913yPuobKH+kq0M9jkrz/krz2MOhf3Psh2PGjXKxN7xpHY537Bhw4Lu2y5xffrpp4Pm2WXodkmqPYO4JF1//fVB92E75ZRTSr3fey7t47XL4r1lpnY7SkpBpYOHdYRrtnL7/WyXI4Za4l7WP872/i666CLXNrvs94EHHjCx9z3BLO7+FuqQhEMZN3kouYcyJOJQfnfXtFx7nDC5oed6h2kFO+d+aW9NypX88dmoaG6w30fBhrVUNDfY0Br4GyXuAAAAAAD4AB10AAAAAAB8gA46AAAAAAA+wBh0hIV3XI59215i6tJLL3XlvfXWWyYuz1hS79if+fPnB21TVbLb/uc//9nEZY2/rcvs5fD69u3r2tavXz8TT5kyxcTeMd5jx4418cyZM03sfU/079/fxEceeWTQNtnLs9lLs3mXbbPbYY8bs8e6S+7x5PZygN5l1uwlW+zn9Y7Nt4+rrM9KZc9FYH+O7CWSgi1f51VWW+3lmbKzs13b7LH+9rFX9pKJAAAAVYkr6AAAAAAA+ABX0AEAAIAKCgQCZnk6qncAlBcddISFt5zcXhbJLvO+6667XHnvvPNO0H2EYvv27a7b99xzj4nt5XUqezkx7x9qe6msjh07mris9VbrMns903vvvde17a9//auJ7aW8ynoN7SXJvMuTBfunypuXlZVl4ksuuaTU+71tf/DBB0388MMPu/KefPJJE9vl4HZJuyRNnTrVxPa6xs8884wr77bbbjOxXXbv/dzY7z97/WXve9Euu7fXdD766KNdeXbbzz//fBOHOiTFLvWX3K+pfbxt2rRx5T311FMmHj16dKmPB4CqFAgEylyPHQBCQYk7AAAAAAA+wBV0AAAAoIIcxzGTVMbGxlLmDqBc6KAjLLwzMP/73/828eLFi01szwItuctk7dhbBuydSbuEt7zXflyDBg1MXNl/VL3l1vZs3nab+GNeujFjxpjYLvGW3O+DHj16mNh7Lu0S9b/85S8m9r53WrRoUWobvPuz38NFRUUm/vXXX1159utrz9xut1WS2rZta2L7/eJ973To0MHEn332mYlzcnJceaEO07DLxu2Z4L3HYW9r3769iX/44QdXnl3+bh/Txo0bXXnBhqiUNQu+Xa7uXeHhvPPOM7H3NQWA6uA4jjZv3ixJSktL4286gHKhxB0AAAAAAB+ggw4AAAAAgA/QQQcAAAAAwAcYg45qY48BPuecc1zbkpKSTDxlyhQT20s7SVJ+fr6J7bHH9hJLkjRq1CgT28s+tWzZ0pW3evXqUJpepXbv3m1iloQqnT0vwcKFC13bHnnkERPb49Pt8d6Sewy5/X756quvXHkrVqwIqU32+y/YOGnvNtuaNWtct+1jtPfh3Z89ZrxXr14mnj17dgitPpjdPnvc+YgRI1x59mf2z3/+s4nvuOMOV97SpUtNvGrVKhO/+eabrrxgYzO9SxTZy8DZn/+rrrrKlWePcf/f//5nYvvzL4W+3BsAAEA4cAUdAAAAAAAfoIMOAAAAAIAPUOKOamOX6qanp7u22Uuc/fzzzyb2lsHay1nZpeHecmH7cWUtx7Zs2TITB1v2qSrYbTr++ONNHB0dXW1tqEns18a7/JetrOW17HNulz2X95zbSwDa+9u2bZsrzy5Jt4d5fPrpp668//znPya2y/OjoqJceWeccYaJTzjhBBMfccQRrrzyLO9jn2fv89rLn9n7tpcM9LI/oyVLD/0R7/7sczt+/HgTJyQkuPIuuOACE9u/ayhpB1BdAoGAkpOTTQwA5UEHHQAA4BCtXLmywvs4+uijK6EloaHDWPUCgcBBXx4CwKGixB0AAAAAAB/gCjrC4o033nDdtmeStr/l95Yfd+vWzcQtWrQwsT3zuxS87DYnJ8d1e+TIkSbeu3dvqe2pDN4rF/Zx2bNve8uUg/G2L9QrI/bjgsVedrmwN6+yz1Mwffv2NXH//v1d2+zX7fPPPzext212Sfoll1xiYu9s7zt27DBxsLJ4SXr++edNvGfPHhP/8ssvrjz7/K1bt87EN998sytv7NixJi7r9bSPIzc318SjR4925dntDbXMu6z3RLDX2ttWu4y/R48eJv7Tn/4UUhu8+7M/y/a5vOeee1x5N954o4nPP/98E9vDZwCgKjmOY/4mxcTEULUAoFy4gu4zGzZs0JVXXqnGjRsrNjZW7du3d41VdRxHY8eOVbNmzRQbG6uePXu6ljICAABA9XMcRzk5OcrJyam2L7AB1D500H1kx44d6t69u+rXr6/58+fru+++0z//+U81atTI5EyePFkPPfSQZsyYoaVLl6phw4bq1auX6yoiAAAAAKDmocTdR+699161atVKs2bNMvfZs507jqOpU6fqzjvv1EUXXSRJ+te//qWUlBS98sorB5X+AgAAAABqDjroPvLaa6+pV69e+utf/6rFixerRYsWuuGGGzR48GBJvy0llp2drZ49e5rHJCYmqmvXrlqyZEmpHfTCwkLXGM78/PyqP5AQlLU0k8279NnWrVtNHBsbG3R/9pJQNu9Y3MTERBN7l5WqSnbbQx0fbI9l8y7l1aRJExN7x0rbtm/fbuK4uDgT22OoJfd4Y3ucc1JSkitv586dZTe6kthjj+1Ycp8/+/3hZR+TvRybd4xgqK/Hrl27Sr3fPl9e9nN5q15C/UwEK5v0vu7lWV7M3of9XpHcx2ufv5SUFFee/fpMnTrVxPaShl72MW3atMm1zZ5X4P777zfx5Zdf7sqzx77bVUfepfdYdg0AAPgZJe4+8vPPP2v69Olq06aNFi5cqKFDh+rGG2/U008/LUnKzs6WdPA/xCkpKWabV1ZWlhITE81Pq1atqvYgAAAAAADlQgfdR4qLi9WpUyfdfffdOvHEEzVkyBANHjxYM2bMKPc+R48erby8PPNjzyINAAAAAPAPStx9pFmzZjr22GNd97Vr104vvviiJCk1NVXSb0uFNWvWzOTk5OSoY8eOpe4zOjr6oKXK/CDUMtOCggLX7dWrV5vYLov1lloH2793GbMlS5aE1I6qZJdEl1WmbJ+Ln376yZVnl/fawxi85eBff/11qY/ZvXu3K88utw72GG9esJLvyhDq+8V7vFWpoqXSlV1qXd792WX3nTp1MvH333/vyrNLxYuKiky8aNEiV96WLVtMfMcdd5jYHtZRFu9x2J8Pu62vvfZa0McxaSYAAKipuILuI927d9fKlStd9/34449q3bq1pN8mjEtNTXX9Q5yfn6+lS5cqIyOjWtsKAACA3wUCATVq1EiNGjViDXQA5cYVdB8ZOXKkTjnlFN19993q16+fli1bppkzZ2rmzJmSfvvFP2LECE2aNElt2rRRenq6xowZo+bNm6tPnz7hbTwAAEAdFggEXJPPAkB50EH3kZNOOkkvv/yyRo8erYkTJyo9PV1Tp07VFVdcYXJuvfVWFRQUaMiQIcrNzdWpp56qBQsWKCYmJowtrz52Kbtd4h5qeW9Z5bPVyW57WWXZ9iz29rfxoc6e7v0GP9j5886Wbz/OLpn37i/YjOKomez3YqgrPnhne7fZQyBCnaW+LGXNgg8AAFAbBBz+w65T8vPzlZiYqCVLlriW2aop7DHQ5emgezui3tvVpaId9Mpug/c82NvsuKwOOstX1Xzl+Tx43xP2+7kyPl/B3ldl7duv78Vdu3YpIyNDeXl5SkhICHdzfKXkb1NN8umnn1Z4H0cffXQltCQ0lFxXPcdxzBwdUVFRnHMcJD4+PtxNCIq/Tf7BGHQAAACgghzH0aZNm7Rp0yYqzACUGx10AAAAAAB8gDHo8B3vUl7B2KVj3nLXUMtimzRpYuKq/Lbb+7zZ2dkh5dlLU9llUd7l5+yx5YcddpiJ69Vzf8S3bdtmYnuprJIl/EqzcePGoNtQu/hl6bdw7xsIRZcuXUq9vzJK3wHUfH4uZ4e/cQUdAAAAAAAfoIMOAAAAAIAPUOIO37HLrffv3x/SY7xLONlLRNmlsGvWrHHl9ezZ08T2sk2VUe5ul+AnJSW5ts2dO9fE9hJ5+/btc+U99thjJp41a5aJL7roIlfe7bffbuKTTjrJxN7l2GbPnm3ijIwME5944omuPLtNCxYsMPGePXtceZQZAwAAAJWHK+gAACAk99xzjwKBgEaMGGHu27t3rzIzM9W4cWPFxcWpb9++ysnJCV8jAQCoweigAwCAP7R8+XI99thjOuGEE1z3jxw5Uq+//rrmzZunxYsXa+PGjbrkkkvC1EogfAKBgBITE5WYmMga6ADKjRJ3hIV3tnJ7tnF7ZlzvH7gDBw6Y2C5/j46OduW98MILJq5fv76JvaXr9ja7XLuyS9zt5zkU9nHZM7fbJehecXFxJl6/fr1rmz1Dvn2MO3bscOXZ+2ctVwC7du3SFVdcoccff1yTJk0y9+fl5enJJ5/UnDlzdNZZZ0n6bThOu3bt9Mknn6hbt27hajJQ7QKBgBo1ahTuZgCo4biCDgAAypSZmanevXu75u2QpBUrVmjfvn2u+9u2bau0tDQtWbIk6P4KCwuVn5/v+gEAAFxBBwAAZZg7d64+++wzLV++/KBt2dnZioqKOmgizJSUFGVnZwfdZ1ZWliZMmFDZTQXCynEcM9lr/fr1KXMHUC5cQQcAAKVat26dbrrpJj377LNlDq05VKNHj1ZeXp75WbduXaXtGwgXx3G0ceNGbdy4keFhAMqNK+gIC+/yXNu2bTPx5s2bTfzVV1+58uyx0vY4du+31PZYa1t6errr9uLFi01clX9Mve3btWuXiUNdqszeR6jfyoea5z12/rEAIP1Wwr5582Z16tTJ3HfgwAF98MEHeuSRR7Rw4UIVFRUpNzfXdRU9JyfHtWSmV3R09EFzhwAAADroAAAgiB49eujrr7923Xf11Verbdu2+r//+z+1atVK9evX16JFi9S3b19J0sqVK7V27VplZGSEo8lhd/LJJ4eca098WtV2795dbc8lhf7lMwDAjQ46AAAoVXx8vI4//njXfQ0bNlTjxo3N/YMGDdKoUaOUnJyshIQEDR8+XBkZGczgDgBAOdBBR1h4S6jtGXztcY52ubv025WZEqeffrqJvVcGgl2VyMvLc91++OGHTVzepdCCsY+xqKjItW3o0KEmDlaOL4Veog4A4TJlyhRFRESob9++KiwsVK9evfToo4+Gu1kAANRIdNABAEDI3n//fdftmJgYTZs2TdOmTQtPgwAAqEWYxR0AAAAAAB/gCjrCwlvWvWzZMhPbM5z36dPHlWeXstsl6d7Z3u1Sdrvc3S6ll6THH3/cxPaENpVRWm6XuMfGxrq2DR482MRllbjj0JSsP1sa+zWtVy/4rz77ddu/f3/QPPt1s1cU8LLff2VNmmS3qTzvP28bCgsLD3kffuA99qioKBMz6RQAPwsEAkpISDAxAJQHHXQAAIBKUtoXSWV9iYfaIxAIKDk5OdzNQDWLj48PdxNQy/AXAwAAAAAAH+AKOgAAAFBBjuOYoVH16tWjzB1AudBBR1h4/2iVjNmSpNGjR5t4wIABrjx7fHCvXr1MfPbZZ7vy5s2bV+rzesuQrrnmGhNX5Vhw7zJrZY2BxqGxy0lHjhwZNM+eB2Dy5Mkm9r4XP/vsMxPPnj271OeRpO7du5v4sssuM7F3ub6nnnrKxJ9//rmJvePlMzMzTdy+ffvSD8LDLpuNi4tzbbPbZH++/Fhqa78Gdlsl6YEHHjCx/Tkq73j0YHMMVPYyiwDqHsdxtGHDBklSWloaHXQA5eK//9QAAAAAAKiD6KADAAAAAOAD1NkiLOylpyTpoosuMrFdxlpQUBD0cXaZ8l/+8hdXnl0may+tlpiY6MobMWLEIbS68niPH+Vnlyx//PHHpd4vuUvA7W3eEsQtW7aUuj/va5aSkhLS/n744QcTf/TRRyb2lrj3798/pP3Z7G3eEu3169ebODc318R+LHG3NWnSxHW7ou31lsJ/8sknJp45c6aJ7eEMAAAA4eLv/9QAAAAAAKgj6KADAAAAAOADlLij2tilqlFRUa5tZ555ponbtm1r4kmTJrnyoqOjTfz++++buHHjxq48u3zYLnG1y5cl9yzu9r4rY+ZVu0x5165drm2vvfaaib3nItg+8MfsWbm9Qh1WYJ9z+zHex4c6i7idZ++jqmfyr8vvHfuc5+TkuLbZs+X7vdwfAADUPXTQAQAAgAoKBAJmOVeWWANQXnTQAQAAqlCoFTeo2QKBwEEVfahdSr6AAaoS9X0AAAAAAPgAV9BRbewrCHv37nVte/LJJ01sL5k2bdo0V549bvfZZ5818dixY1159phvu8zMu7TVxo0bTWwv71bZY9C937iWZ3yw/ZhQHx9qnvd4a0NpXnnHYJfnPJdn35W9vz179ri22Z+jBg0aVOrzVoZg77HY2FjX7bLmFQiWZy+P511K0c7z43kBUHM5jmP+14mIiKgVf0sBVD+uoAMAAAAV5DiO1q1bp3Xr1tXpiToBVAwddAAAAAAAfIASd/hCamqqiV9++WUTP/jgg648u3T9qaeeMnGHDh1cecHKYps2beq6PXfuXBNXZSmad4Ige0k3W2RkpOv2hRdeaOLu3bubuFGjRq48+5v6Bx54wMSFhYWuvJYtW5o4Ly/PxLNnzw66P3sfTHTkL/brsXv3btc2b2l3TWUPPSnL8OHDTbxkyRITe8vYQy2ZBwAACAeuoAMAAAAA4AN00AEAAAAA8AFK3OELdqmuvYZoVlZW0MfYpa+hlq3as8BLUps2bUJtYoWEOlmMt8Q9OTnZxImJiSYua9b1Vq1aBX1ee/8HDhwwcVnnwc5DzWG/J2rjZEX2CgySu6w9PT3dxC+88IIr79RTTzVxbTwvAACgZuMKOgAAAAAAPsAVdAAAAKCCAoGAGjZsaGIAKA866AAAAGFQWifuu+++q5LnslfxqA51sYMaCATUpEmTcDcDlSA+Pj7cTUAdRgcdvrZv3z7XbXusekTEoY/Q8I5Bt8e7V8Z4VPsfErt93vGywSQlJbluR0VFmXjTpk0mtsejS1JMTIyJt27dGnT/hx12mIntJesKCgpCah/8xX6PJSQkuLYdd9xxJrbnMvAj+zi8Swg+//zzJraX/PMe75w5c0zcuXNnE3uXBmTcOQAA8DM66AAAAEAFOY5jvgQMBAJ1sooAQMUxSRwAAABQQY7jaO3atVq7di3VOgDKjSvo8IVg5erff/+96/abb75p4qFDh5o4Ojo6pP398ssvrtvdu3c38d69e01c3j+s9vPa49CWLVvmyrPL0O22n3DCCa48u4z33XffNfGVV17pyvvyyy9N/OKLL5rYexynnHKKiQcOHGjiwYMHu/K8ZcHwJ/vqjHf4Rv369U1sv+/LMzSkOnmHWwS7AuUtcW/Xrp2J7VJ4e5gIAACA39FBBwAA8Iljjz221PuravI4oK5jQjj4jb8vpQAAAAAAUEdwBR2+YJfdTp482cRPP/20K2/SpEkmPvPMM008Y8YMV16HDh1MbJfIlqxPWuLEE080sV0SXN6JXeyS8vz8fBPb5fNladCggeu2PdO6vW9vSb9dFlxW2+08+3hR83mHMxw4cMDEdvm73yctioyMDCnPOwzD78cFAAAQCq6gAwAAAADgA3TQAQAAAADwAUrcAQAAgErgHaoGAIeKDjp8wV4WyV5Kzbs8mT32+uijjzbx22+/7crr1KmTie2xqocddpgr78knnyy1PeVdZs0eB2vHeXl5rrxQl7oK1o7KGCOPmi/YnAeSNG3aNBPXpDHo3uXi7N8NLP8HwM8iIiLUtGnTcDcDQA1HiTsAAAAAAD5ABx0AAAAAAB+gxN1HDhw4oPHjx+vf//63srOz1bx5cw0cOFB33nmnKUt1HEfjxo3T448/rtzcXHXv3l3Tp09XmzZtwtz6itm6dauJ7eWh7HJ3SXr88cdNPGjQIBMPHz7clResFHb9+vWu2+eff76J7fL58pYB289rl+auXbvWlbdjx45y7R+w2e8373u+ffv21d2cKmH/PgAAPysuLjZ/79PS0kIezgYANn5z+Mi9996r6dOn65FHHtH333+ve++9V5MnT9bDDz9sciZPnqyHHnpIM2bM0NKlS9WwYUP16tUr5HW2AQAAAAD+xBV0H/n444910UUXqXfv3pKkww8/XM8995yZKM1xHE2dOlV33nmnLrroIknSv/71L6WkpOiVV15R//79w9Z2AABQdY499tiD7vvuu+/C0BKgZoqPjw93E4CQ0EH3kVNOOUUzZ87Ujz/+qKOPPlpffvmlPvzwQz3wwAOSpDVr1ig7O1s9e/Y0j0lMTFTXrl21ZMmSGtVB984mvmfPHhPbs1G/8MILrrynnnrKxL169Qq6/4svvtjEdomZt1w2MTHRxHYVQnlni7afKy0tzcSRkZHl2h9QXvZSPzVp9n5vW+2hIgAAALUdHXQfue2225Sfn6+2bdsqMjJSBw4c0F133aUrrrhCkpSdnS1JSklJcT0uJSXFbPMqLCx0/YPrXYoJAAAAAOAPjEH3kRdeeEHPPvus5syZo88++0xPP/207r//fj399NPl3mdWVpYSExPNT6tWrSqxxQAAAACAykIH3UduueUW3Xbbberfv7/at2+vv/3tbxo5cqSysrIkSampqZKknJwc1+NycnLMNq/Ro0crLy/P/Kxbt65qDwIAUKuMHz9egUDA9dO2bVuzfe/evcrMzFTjxo0VFxenvn37HvR3CgAAhIYSdx/ZvXv3QUtyREZGmvHQ6enpSk1N1aJFi9SxY0dJv5WsL126VEOHDi11n9HR0a7lw/zCu4yZPV7WHv/91ltvufJyc3NNPG/ePBNnZma68v72t7+Z2C7xb9mypStv4cKFQdtUUfZY2i1btlTqvgHJPedBo0aNXNvS09NNXK9evVIf40eNGzd23V60aJGJK2OeCJTPcccdp//+97/mtv2eGjlypN58803NmzdPiYmJGjZsmC655BJ99NFH4WgqEFaxsbHhbgKAGo4Ouo9ccMEFuuuuu5SWlqbjjjtOn3/+uR544AFdc801kn7rQI4YMUKTJk1SmzZtlJ6erjFjxqh58+bq06dPeBsPAKi16tWrV2qlVl5enp588knNmTNHZ511liRp1qxZateunT755BN169atuptap5Q2s7vE7O7hEhERcdA8QQgPZmxHTUYH3UcefvhhjRkzRjfccIM2b96s5s2b67rrrtPYsWNNzq233qqCggINGTJEubm5OvXUU7VgwQLFxMSEseUAgNps1apVat68uWJiYpSRkaGsrCylpaVpxYoV2rdvn2t1kbZt2yotLU1LliwJ2kFnAlMAAEpHB91H4uPjNXXqVE2dOjVoTiAQ0MSJEzVx4sTqa1g1aN68uYmTkpJMvG/fvqCP2b59u4kPO+ww17aioiIT26Wwdom8JE2ePNnEdslmZdi1a5eJn3jiCde2goKCSn0u1E32sAzvEI2EhAQT+32Ihd12ykP9p2vXrpo9e7aOOeYYbdq0SRMmTNCf/vQnffPNN8rOzlZUVJTr97ZU9uoi0m8TmE6YMKGKWw4AQM1DBx0AAAR17rnnmviEE05Q165d1bp1a73wwgvl/kJl9OjRGjVqlLmdn5/PKiOo8YqLi81kvK1atfL9nB8A/InfHAAAIGRJSUk6+uijtXr1aqWmpqqoqOig6qSyVheRfpvANCEhwfUD1AaO47gmiQWAQ8UVdPjC/v37TTxt2jQTH3300a48+4rLww8/bOIPP/zQlXfgwIFSn8dbWm7PSmzPEF1edqlukyZNTOydIyDUEvdgM8uX949/Zc9U7zdlnRc//MNkt6GqXwv7yo0d+3H2c/u8VGf7avvnoars2rVLP/30k/72t7+pc+fOql+/vhYtWqS+fftKklauXKm1a9cqIyMjzC2tu0qbPG7nzp1haAlQtZgMDrURHXQAABDUzTffrAsuuECtW7fWxo0bNW7cOEVGRuqyyy5TYmKiBg0apFGjRik5OVkJCQkaPny4MjIymMEdAIByoIMOAACCWr9+vS677DJt27ZNTZo00amnnqpPPvnEVAlNmTJFERER6tu3rwoLC9WrVy89+uijYW41AAA1Ex10AAAQ1Ny5c8vcHhMTo2nTprmGJwEAgPIJOH4YmIlqk5+fr8TERC1ZskRxcXHhbk6p7PGyOTk5rm3/+9//TGzPLBzqTMLet/u2bdvK08SQ2GNpmzVr5tpmj5G3j9fbHnuZOXvCpby8PFeevZ5w48aNg7bJ3r/9+nvHyNdUZb2e9njj5OTkoHn2En32mE3ve8d+zzVs2NDE3ll77fWd7dfJu7/ExEQT169fP2j7gomMjHTd3rRpU9A2+Zn3OOz3c3nGp3uP3V5yzt6fPWdEVdm1a5cyMjKUl5fHpGgeJX+bUHUYg171iouLtXbtWklSWlpajfrdW1MxBr3y8LfJP7iCDgAAAFSC6OjocDcBQA1HBx0AAKCWO5QrjVxtL5+IiIiDKuZw6LgqjrqOEvc6piaUuJfF78tFAUAwlLgHR4m7v9BBRzjRQQ8P/jb5B4NjAAAAAADwAUrcAQAAgAoqLi7W+vXrJUktW7ZkkjgA5UIHHTUKZe0AAMCv+D8FQEXRQQcAAIARbAwwY9NR2RhvDhyM2hsAAAAAAHyADjoAAAAAAD5AiTuAMoW6tF1ZeZGRkSa2V3Ys7/6C7dvmXUGyouMCvc9z4MCBkPJCPV4AAACAK+gAAAAAAPgAV9ABAACAShAVFRXuJgCo4eigAyhT/fr1Tbxv3z7XNrtkOzo62sR79uxx5SUlJZm4qKjIxGXNCJyQkGDi3NzcoHn2vm35+flB22rzrlNr59nbGjVq5MrbunVrqXne9uzfv9/E9vEGAgFXXrCSeQDwi0OZcbsuzvgeERGh5s2bh7sZYcfM7EDFUOIOAAAAAIAP0EEHAAAAAMAHKHEHcBB75vGnn37axL1793blNWnSxMRjxowx8WGHHebKO+OMM0z84Ycfmvjyyy935cXFxZm4f//+Jp4xY0bQtn777bcmtsvJU1NTXXn16pX+665Lly6u299//72J//GPf5j42muvdeWNHDnSxLfeequJvaX1rVq1MnHTpk1N3LlzZ1fehg0bTLxlyxYTU/oOADVDcXGx+V3eokWLg4ZQAUAo6KADAAAAlYAvVQFUFB10AAAAVComlKtdmPgNqD7U3gAAAAAA4ANcQQdQplDH0NnLsZ155pmubbfddpuJb7nlFhPHxMS48l555RUT22Pf7XHhhx9+uOsxEyZMKLU9M2fOdN0OVnZ47733um7ba9j+8ssvJj7iiCNceT/99JOJ7XHw2dnZrrxHHnnExNOmTTPx5MmTgz4vAAAA6iauoAMAAAAA4AN00AEAAAAA8AFK3AGUqbi4OKS8wsJCEz/++OOuba+99pqJ9+7da+KPPvrIlffYY4+Z+McffzTxggULTLxw4ULXY5544gkT79u3z8ShzqRrL83m3cejjz5q4pdeesmVl5iYaOJTTjnFxC1btnTl3XXXXSZu1KiRie2l7AAAtYM93AsAyoMOOgAAAMLmUGYILygoOOi+UL9IrmoRERFq0aJFuJtxEGZgB2oWStwBAAAAAPABrqADOEhkZKSJr7rqKhP37t3blbd161YTv/POOyb2lo1369bNxHZpuD1TuyQ9//zzJra/8f/zn/9s4kAg4HqMfduecb6sKyp2nretNnsW98zMTNe2119/3cR2OX27du1ceQ8//LCJd+3aFfR5vccFAACAuocOOgAAAFBBxcXF2rRpkySpWbNmIS9TCgA2OugAAABAJbAnGgWA8qCDDgAAgBqhYcOG4W5CULGxsVq2bJkkKTU1VXv27AlziwDURAGHtX7qlPz8fCUmJmrJkiWKi4sLd3NQw5S1fExZVw2CPc67FFqwceOhji0vD28JYrD9R0VFuW4XFRWFlGePNbf3HerzovbYtWuXMjIylJeXp4SEhHA3x1dK/jYBNZndQT/55JPpoKNG4W+TfzA4BgAAAAAAH6CDDgAAAACADzAGHagh7NEo4VqSy1vGbpdpl9U+u5S9PKXclV3+bbc11H0HK2n37qOsvGCPAQAAACQ66AAAAECFOY6jDRs2mBgAyoMOOgAAAFBBe/fu1TnnnBPuZgCo4eigA4fol19+MfF9993n2jZt2jQTT5o0ycRXXnmlKy8tLc3Edjl4ZGSkK8+e/fzyyy838YsvvujKy8vLK3V/9gziknTvvfea+NZbby31ebzKmkHdvp2RkWHizz//3JVnl8aXdVXBbntZM57bgpXWe5/H3nb22WebuEuXLq68yZMnm9g7y7ytoKDAxD169DDxyJEjXXn9+vUzcW5urolnz57tyhs+fLiJ7feBd7hAsOEN3tcm2DnzHtOPP/5o4pUrV5q4d+/errx69X7/c2G3r6xzFK6hGAAAADUVk8QBAAAAAOADdNABAACACoqOjtZzzz2n5557TtHR0eFuDoAaihJ3AAAAoIIiIiJ0/PHHmxgAyoMOOhACezxzYWGhiT/77DNX3jHHHGPiRYsWmdg7Bv2iiy4ycVJSkonfeustV17Lli1Lje02SNLpp59u4gULFpg4KirKlWePHT7jjDNMPG/ePFfe/fffb+Lnn3/exE899ZQrr1evXibevXu3grHHR9tjsu2x85I0f/58E3fs2NHEr776qontcdKSdNddd5l48eLFJvae81NOOcXEDz74oInt+QAkafv27Sa++OKLTWyPsZfcr/2ePXtMPHXqVFeePbY8Pz/fxDExMa68zp07l7qtRYsWrry//OUvpbb9pptucuXZ58x+fV9//XVX3vXXX29ie64A+7WVpCZNmpj4nXfeMfFRRx3lyrPba38Gdu3a5cpjmTkAAICD8fUeAAAAAAA+QAcdAAAAAAAfoMQdOETBlhaT3GXG9lJedgm0JLVr187EH374oYkvu+wyV953331n4muvvdbEdpm45C4Ht9vgLUm3S5jtMmW7/FuSTjrpJBPfcMMNpe77UNhj8dLT0028cOFCV97GjRtNbJf+x8bGmnj8+PGux5SM95OkJ554wsT20meSu5R77dq1Jh48eLArLysry8T2+du6dasr76qrrjKxXdbdp08fV9769etNXNbScfYxPvLIIya2X1tJGjVqlImPPPLIUmNJev/9901sL4V2++23u/K2bNliYnsptTPPPNOVZy/FN3DgQBMvW7bMlWeX9DMGEwAA4NDw3xMAAAhqw4YNuvLKK9W4cWPFxsaqffv2+vTTT812x3E0duxYNWvWTLGxserZs6dWrVoVxhYDAFBz0UEHAACl2rFjh7p376769etr/vz5+u677/TPf/5TjRo1MjmTJ0/WQw89pBkzZmjp0qVq2LChevXqpb1794ax5UB4bN++3TXZKAAcKkrcgUNklwGfc845rm327OAPPfSQib/66qug+9u5c6eJBw0a5No2btw4Ey9ZssTE11xzjSsvOTnZxL/++quJ9+/f78pr2LChie0Z070l87fccouJ7TL+iRMnuvLsknm7BHr69OmuPLtkvkGDBiZOTEx05f30008mvvXWW01sl3Xbj/fu256Z/qOPPnLl2WXtmZmZQffXvHlzE/fu3dvE3jVtn376aRPb59l+PSUpISHBxAUFBQrGXinALoUPBAKuPPuc/eMf/zDxhRde6MrLzc018WuvvWbid99915VnD52wVwfwPq99HP379zfx0KFDXXn27PZ2aT1qpnvvvVetWrXSrFmzzH32MBXHcTR16lTdeeedZnWKf/3rX0pJSdErr7zieq8Atd2ePXtcq6oAQHlwBR0AAJTqtddeU5cuXfTXv/5VTZs21YknnqjHH3/cbF+zZo2ys7PVs2dPc19iYqK6du3q+lLRq7CwUPn5+a4fAABABx0AAATx888/a/r06WrTpo0WLlyooUOH6sYbbzQVJNnZ2ZKklJQU1+NSUlLMttJkZWUpMTHR/LRq1arqDgIAgBqEDjoAAChVcXGxOnXqpLvvvlsnnniihgwZosGDB2vGjBkV2u/o0aOVl5dnftatW1dJLQbCJzo6Wk899ZSeeuqpg4ZFAUCoAo498BFV5oMPPtB9992nFStWaNOmTXr55ZddyzE5jqNx48bp8ccfV25urrp3726uWpTYvn27hg8frtdff10RERHq27evHnzwQcXFxYXcjvz8fCUmJmrJkiWH9DhUrrKW27LZH097TLD3MfZY38jIyFKfp6w22OPHJenZZ581cdu2bU3sXfIrGO+vFbvtwY5Jch9XsGPysvO8+6vL4uPjTWyPibSXc5Okt99+28T2+Hnve8c+z4sWLTLxzz//7Mqzl8q7++67TeydD6Eu2rVrlzIyMpSXl+ca0+9nrVu31tlnn+1awnD69OmaNGmSNmzYoJ9//llHHnmkPv/8c9fvh9NPP10dO3Z0zctRlpK/TUBNFhsba5aePPnkkw9aYhXws5r0t6m24wp6NSkoKFCHDh00bdq0UreHMgvuFVdcoW+//VbvvPOO3njjDX3wwQcaMmRIdR0CAKCO6d69u1auXOm678cff1Tr1q0l/TZhXGpqqutLm/z8fC1dutQ1wSQAAAgNs7hXk3PPPVfnnntuqdtCmQX3+++/14IFC7R8+XJ16dJFkvTwww/rvPPO0/333++aeRoAgMowcuRInXLKKbr77rvVr18/LVu2TDNnztTMmTMl/Va1MmLECE2aNElt2rRRenq6xowZo+bNm7uqxAAAQGjooPvAH82C279/fy1ZskRJSUmmcy5JPXv2VEREhJYuXaqLL7641H0XFha6lk5iplx/KKus3RasZNtbfmznlVXWHqwN3uWwKro0Ulml5mVtC7a8WFnHRFl76exy9TfeeCNoXl5eXkj7s4cZ2MsLlvXaUNZe85100kl6+eWXNXr0aE2cOFHp6emaOnWqrrjiCpNz6623qqCgQEOGDFFubq5OPfVULViwQDExMWFsOQAANRMddB8IZRbc7OxsNW3a1LW9Xr16Sk5O/sOZcidMmFDJLQYA1BXnn3++zj///KDbA4GAJk6cqIkTJ1ZjqwAAqJ0Yg17LMVMuAAAAANQMXEH3gdTUVElSTk6OmjVrZu7Pyckxs+KmpqZq8+bNrsft379f27dvN48vTXR0NEt9AKhUoQ6jAIC6Zvfu3eFuAoAajivoPhDKLLgZGRnKzc3VihUrTM67776r4uJide3atdrbDAAAgN/t2bNHXbt2VdeuXVliDUC5cQW9muzatUurV682t9esWaMvvvhCycnJSktL+8NZcNu1a6dzzjlHgwcP1owZM7Rv3z4NGzZM/fv3ZwZ3AAAAAKgF6KBXk08//VRnnnmmuT1q1ChJ0oABAzR79uyQZsF99tlnNWzYMPXo0UMRERHq27evHnrooWo/FgAAAABA5Qs4juOEuxGoPvn5+UpMTNSSJUsUFxcX7uYAQJ2xa9cuZWRkKC8vTwkJCeFujq+U/G0CarKoqChNmTJFkjRy5EgVFRWFuUVA6Pjb5B9cQQcAAAAqKDIyUqeddpqJAaA86KDXMSUFEwUFBWFuCQDULSW/dylcAwAAwdBBr2N27twpSerZs2eYWwIAddPOnTsp5wYAAKWig17HNG/eXOvWrZPjOEpLS9O6devq9HiT/Px8tWrVqs6fB4lzUYLz8DvOxW8q6zw4jqOdO3ey8gYAAAiKDnodExERoZYtWyo/P1+SlJCQUKf/8S7Befgd5+I3nIffcS5+UxnngSvnAACgLBHhbgAAAAAAAOAKOgAACDMmzkNt4DiOdu3aZWKgJuE96x900Ouo6OhojRs3TtHR0eFuSlhxHn7HufgN5+F3nIvfcB6qXskEpkBNtnfvXmVkZIS7GUC5MIGpfwQcvi4BAABhVFxcrI0bN9b6CUxr88SLHFvNxLHVTJV5bPYEphERjH72A66gAwCAsKprE5jW5uPj2Gomjq1mqqxj48q5v/A1CQAAAAAAPkAHHQAAAAAAH6CDXgdNmzZNhx9+uGJiYtS1a1ctW7Ys3E2qUllZWTrppJMUHx+vpk2bqk+fPlq5cqUrZ+/evcrMzFTjxo0VFxenvn37KicnJ0wtrj733HOPAoGARowYYe6rK+diw4YNuvLKK9W4cWPFxsaqffv2+vTTT812x3E0duxYNWvWTLGxserZs6dWrVoVxhZXjQMHDmjMmDFKT09XbGysjjzySP3jH/9wzeZaG8/FBx98oAsuuEDNmzdXIBDQK6+84toeyjFv375dV1xxhRISEpSUlKRBgwaZGZxRPrV9Qr7afHwcW83EsdVMtfnYIMlBnTJ37lwnKirKeeqpp5xvv/3WGTx4sJOUlOTk5OSEu2lVplevXs6sWbOcb775xvniiy+c8847z0lLS3N27dplcq6//nqnVatWzqJFi5xPP/3U6datm3PKKaeEsdVVb9myZc7hhx/unHDCCc5NN91k7q8L52L79u1O69atnYEDBzpLly51fv75Z2fhwoXO6tWrTc4999zjJCYmOq+88orz5ZdfOhdeeKGTnp7u7NmzJ4wtr3x33XWX07hxY+eNN95w1qxZ48ybN8+Ji4tzHnzwQZNTG8/FW2+95dxxxx3OSy+95EhyXn75Zdf2UI75nHPOcTp06OB88sknzv/+9z/nqKOOci677LJqPhIAAFCb0EGvY04++WQnMzPT3D5w4IDTvHlzJysrK4ytql6bN292JDmLFy92HMdxcnNznfr16zvz5s0zOd9//70jyVmyZEm4mlmldu7c6bRp08Z55513nNNPP9100OvKufi///s/59RTTw26vbi42ElNTXXuu+8+c19ubq4THR3tPPfcc9XRxGrTu3dv55prrnHdd8kllzhXXHGF4zh141x4O+ihHPN3333nSHKWL19ucubPn+8EAgFnw4YN1dZ2AABQu1DiXocUFRVpxYoV6tmzp7kvIiJCPXv21JIlS8LYsuqVl5cnSUpOTpYkrVixQvv27XOdl7Zt2yotLa3WnpfMzEz17t3bdcxS3TkXr732mrp06aK//vWvatq0qU488UQ9/vjjZvuaNWuUnZ3tOg+JiYnq2rVrrToPknTKKado0aJF+vHHHyVJX375pT788EOde+65kurWuSgRyjEvWbJESUlJ6tKli8np2bOnIiIitHTp0mpvMwAAqB1YZq0O2bp1qw4cOKCUlBTX/SkpKfrhhx/C1KrqVVxcrBEjRqh79+46/vjjJUnZ2dmKiopSUlKSKzclJUXZ2dlhaGXVmjt3rj777DMtX778oG115Vz8/PPPmj59ukaNGqXbb79dy5cv14033qioqCgNGDDAHGtpn5XadB4k6bbbblN+fr7atm2ryMhIHThwQHfddZeuuOIKSapT56JEKMecnZ2tpk2burbXq1dPycnJtfa8AACAqscVdNQpmZmZ+uabbzR37txwNyUs1q1bp5tuuknPPvusYmJiwt2csCkuLlanTp10991368QTT9SQIUM0ePBgzZgxI9xNq3YvvPCCnn32Wc2ZM0efffaZnn76ad1///16+umnw9001EG1YRLTypiA0K9q86Sr06dP1wknnGDWlc7IyND8+fPN9pp6XKWpTRPEjh8/XoFAwPXTtm1bs72mHlcJJrStm+ig1yGHHXaYIiMjD/rFlJOTo9TU1DC1qvoMGzZMb7zxht577z21bNnS3J+amqqioiLl5ua68mvjeVmxYoU2b96sTp06qV69eqpXr54WL16shx56SPXq1VNKSkqdOBfNmjXTscce67qvXbt2Wrt2rSSZY60Ln5VbbrlFt912m/r376/27dvrb3/7m0aOHKmsrCxJdetclAjlmFNTU7V582bX9v3792v79u219rxUteeff16jRo3SuHHj9Nlnn6lDhw7q1avXQefZ7woKCtShQwdNmzat1O2TJ0/WQw89pBkzZmjp0qVq2LChevXqpb1791ZzSw/d4sWLlZmZqU8++UTvvPOO9u3bpz//+c8qKCgwOSNHjtTrr7+uefPmafHixdq4caMuueSSMLY6NC1bttQ999yjFStW6NNPP9VZZ52liy66SN9++62kmntcXsuXL9djjz2mE044wXV/TT6+4447Tps2bTI/H374odlWk49rx44d6t69u+rXr6/58+fru+++0z//+U81atTI5NTk3ycoQ7gHwaN6nXzyyc6wYcPM7QMHDjgtWrSo1ZPEFRcXO5mZmU7z5s2dH3/88aDtJROj/ec//zH3/fDDD7VuYjTHcZz8/Hzn66+/dv106dLFufLKK52vv/66zpyLyy677KBJ4kaMGOFkZGQ4jvP7JGH333+/2Z6Xl1erJkYrkZyc7Dz66KOu++6++26nTZs2juPUjXOhIJPElXXMJZPEffrppyZn4cKFTBJXAbVxEtNg763aMulibZ90tVGjRs4TTzxRa46rNk4QO27cOKdDhw6lbqvJx+U4TGhbl9FBr2Pmzp3rREdHO7Nnz3a+++47Z8iQIU5SUpKTnZ0d7qZVmaFDhzqJiYnO+++/72zatMn87N692+Rcf/31TlpamvPuu+86n376qZORkWE6a7Wd/UfacerGuVi2bJlTr14956677nJWrVrlPPvss06DBg2cf//73ybnnnvucZKSkpxXX33V+eqrr5yLLrqoxi8tVpoBAwY4LVq0MMusvfTSS85hhx3m3HrrrSanNp6LnTt3Op9//rnz+eefO5KcBx54wPn888+dX3/91XGc0I75nHPOcU488URn6dKlzocffui0adOGZdbKqbCw0ImMjDxouburrrrKufDCC8PTqErg7aD/9NNPjiTn888/d+Wddtppzo033li9jasEq1atciQ5X3/9teM4jrNo0SJHkrNjxw5XXlpamvPAAw+EoYXls3//fue5555zoqKinG+//bbWHNdVV13ljBgxwnEc99/+mnx848aNcxo0aOA0a9bMSU9Pdy6//HLze7wmH5fjOE67du2cESNGOH/5y1+cJk2aOB07dnRmzpxptte23yf4HZPE1TGXXnqptmzZorFjxyo7O1sdO3bUggULDpoMqTaZPn26JOmMM85w3T9r1iwNHDhQkjRlyhRFRESob9++KiwsVK9evfToo49Wc0v9oS6ci5NOOkkvv/yyRo8erYkTJyo9PV1Tp041E6NJ0q233qqCggINGTJEubm5OvXUU7VgwYJaN3b/4Ycf1pgxY3TDDTdo8+bNat68ua677jqNHTvW5NTGc/Hpp5/qzDPPNLdHjRolSRowYIBmz54d0jE/++yzGjZsmHr06GE+Mw899FC1H0ttUFcmMa1Nky7WxklXv/76a2VkZGjv3r2Ki4vTyy+/rGOPPVZffPFFjT4uqfZOENu1a1fNnj1bxxxzjDZt2qQJEyboT3/6k7755psafVwSE9rWZXTQ66Bhw4Zp2LBh4W5GtXEc5w9zYmJiNG3atKBjBmuz999/33W7rpyL888/X+eff37Q7YFAQBMnTtTEiROrsVXVLz4+XlOnTtXUqVOD5tTGc3HGGWeU+bshlGNOTk7WnDlzqqJ5gO+VTLpqj/et6Y455hh98cUXysvL03/+8x8NGDBAixcvDnezKqxkgth33nmnRn+xWpqSJUEl6YQTTlDXrl3VunVrvfDCC4qNjQ1jyyquuLhYXbp00d133y1JOvHEE/XNN99oxowZGjBgQJhbh6rEJHEAACCs6sokprVl0sXaOulqVFSUjjrqKHXu3FlZWVnq0KGDHnzwwRp/XHVpgtikpCQdffTRWr16dY1/3ZjQtu6igw4AAMIqKipKnTt31qJFi8x9xcXFWrRokTIyMsLYssqVnp6u1NRU13Hm5+dr6dKlNeI4HcfRsGHD9PLLL+vdd99Venq6a3vnzp1Vv3591/GtXLlSa9eurRHH51VcXKzCwsIaf1w9evTQ119/rS+++ML8dOnSRVdccYWJa/Lx2Xbt2qWffvpJzZo1q/GvW/fu3Q9axvDHH39U69atJdX83ycIjhJ3AAAQdqNGjdKAAQPUpUsXnXzyyZo6daoKCgp09dVXh7tph2TXrl1avXq1ub1mzRp98cUXSk5OVlpamkaMGKFJkyapTZs2Sk9P15gxY9S8eXP16dMnfI0OUWZmpubMmaNXX31V8fHxZpxrYmKiYmNjlZiYqEGDBmnUqFFKTk5WQkKChg8froyMDHXr1i3MrS/b6NGjde655yotLU07d+7UnDlz9P7772vhwoU1+rik34YylcwTUKJhw4Zq3Lixub+mHt/NN9+sCy64QK1bt9bGjRs1btw4RUZG6rLLLqvxr9vIkSN1yimn6O6771a/fv20bNkyzZw5UzNnzpQks5Z9Tf19gjKEeZI6AAAAx3Ec5+GHH3bS0tKcqKgo5+STT3Y++eSTcDfpkL333nuOpIN+BgwY4DjOb0sjjRkzxklJSXGio6OdHj16OCtXrgxvo0NU2nFJcmbNmmVy9uzZ49xwww1Oo0aNnAYNGjgXX3yxs2nTpvA1OkTXXHON07p1aycqKspp0qSJ06NHD+ftt98222vqcQXjXcGlph7fpZde6jRr1syJiopyWrRo4Vx66aXO6tWrzfaaelwlXn/9def44493oqOjnbZt27pmcXecmv37BMEFHCeEGbQAAAAAAECVYgw6AAAAAAA+QAcdAAAAAAAfoIMOAAAAAIAP0EEHAAAAAMAH6KADAAAAAOADdNABAAAAAPABOugAAAAAAPgAHXQAAAAAAHyADjoAAAAAAD5ABx0AAAAAAB+ggw4AAAAAgA/QQQcAAAAAwAfooAMAAAAA4AN00AEAAAAA8AE66AAAAAAA+AAddAAAAAAAfIAOOgAAAAAAPkAHHQAAAAAAH6CDDgAAAACAD9BBBwAAAADAB+igAwAAAADgA3TQAQAAAADwATroAAAAAAD4AB10AAAAAAB8gA46AAAAAAA+QAcdAAAAAAAfoIMOAAAAAIAP0EEHAAAAAMAH6KADAAAAAOADdNABAAAAAPABOugAAAAAAPgAHXQAAAAAAHyADjoAAAAAAD5ABx0AAAAAAB+ggw4AAAAAgA/QQQcAAAAAwAfooAMAAAAA4AN00AEAAAAA8AE66AAAAAAA+AAddAAAAAAAfIAOOgAAAAAAPkAHHQAAAAAAH6CDDgAAAACAD9BBBwAAAADAB+igAwAAAADgA3TQAQAAAADwATroAAAAAAD4AB10AAAAAAB8gA46AAAAAAA+QAcdAAAAAAAf+H86eLiOh8nhfAAAAABJRU5ErkJggg==' width=1000.0/>\n",
       "            </div>\n",
       "        "
      ],
      "text/plain": [
       "Canvas(toolbar=Toolbar(toolitems=[('Home', 'Reset original view', 'home', 'home'), ('Back', 'Back to previous …"
      ]
     },
     "metadata": {},
     "output_type": "display_data"
    }
   ],
   "source": [
    "scan_idx_x, scan_idx_y = 12, 25\n",
    "det_image_selected = fourdstem_array[scan_idx_y, scan_idx_x]\n",
    "fig, ax = plt.subplots(1, 2, figsize=(10, 5))\n",
    "ax[0].imshow(np.abs(sample_image), \n",
    "             cmap='gray')\n",
    "ax[0].scatter(scan_idx_x, scan_idx_y, c='r', marker='x', alpha=1)\n",
    "ax[0].set_title('Sample')\n",
    "\n",
    "ax[1].imshow(np.abs(det_image_selected), cmap='gray')\n",
    "ax[1].axhline(detector_image.shape[0]/2, color='lightgrey', linestyle='--')\n",
    "ax[1].axvline(detector_image.shape[1]/2, color='lightgrey', linestyle='--')\n",
    "ax[1].set_title('Detector Image')\n",
    "plt.show()"
   ]
  }
 ],
 "metadata": {
  "kernelspec": {
   "display_name": "temgym",
   "language": "python",
   "name": "python3"
  },
  "language_info": {
   "codemirror_mode": {
    "name": "ipython",
    "version": 3
   },
   "file_extension": ".py",
   "mimetype": "text/x-python",
   "name": "python",
   "nbconvert_exporter": "python",
   "pygments_lexer": "ipython3",
   "version": "3.12.6"
  }
 },
 "nbformat": 4,
 "nbformat_minor": 2
}
