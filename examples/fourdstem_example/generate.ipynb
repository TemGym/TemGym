{
 "cells": [
  {
   "cell_type": "code",
   "execution_count": 1,
   "metadata": {},
   "outputs": [],
   "source": [
    "import os\n",
    "os.environ[\"XLA_PYTHON_CLIENT_MEM_FRACTION\"] = \".01\"\n",
    "\n",
    "from jax import numpy as jnp\n",
    "import jax\n",
    "from jax.scipy.interpolate import RegularGridInterpolator\n",
    "\n",
    "import temgymbasic.jax_components as comp\n",
    "from temgymbasic.jax_run import run_to_end, run_to_component\n",
    "from temgymbasic.jax_ray import Ray, propagate\n",
    "from temgymbasic.jax_utils import get_pytree_idx_from_model, get_pixel_coords\n",
    "import matplotlib.pyplot as plt\n",
    "\n",
    "import tqdm.auto as tqdm\n",
    "%matplotlib widget\n",
    "import numpy as np\n",
    "\n",
    "# set jax to use cpu\n",
    "jax.config.update(\"jax_platform_name\", \"cpu\")\n",
    "# jax.config.update(\"jax_enable_x64\", True)"
   ]
  },
  {
   "cell_type": "markdown",
   "metadata": {},
   "source": [
    "SYMPY Mathematics just to understand how to model the descanner with descan error, and how the variables propagate to the end. Feel free to ignore. "
   ]
  },
  {
   "cell_type": "code",
   "execution_count": 2,
   "metadata": {},
   "outputs": [
    {
     "data": {
      "text/latex": [
       "$\\displaystyle \\left[\\begin{matrix}x_{out}\\\\y_{out}\\\\\\theta_{x out}\\\\\\theta_{y out}\\\\1\\end{matrix}\\right] = \\left[\\begin{matrix}A_{xx} scan_{x} + A_{xy} scan_{y} + B_{xx} \\alpha \\cos{\\left(\\phi \\right)} + B_{xy} \\alpha \\sin{\\left(\\phi \\right)} + \\delta_{x}\\\\A_{yx} scan_{x} + A_{yy} scan_{y} + B_{yx} \\alpha \\cos{\\left(\\phi \\right)} + B_{yy} \\alpha \\sin{\\left(\\phi \\right)} + \\delta_{y}\\\\C_{xx} scan_{x} + C_{xy} scan_{y} + D_{xx} \\alpha \\cos{\\left(\\phi \\right)} + D_{xy} \\alpha \\sin{\\left(\\phi \\right)} + \\delta_{\\theta x}\\\\C_{yx} scan_{x} + C_{yy} scan_{y} + D_{yx} \\alpha \\cos{\\left(\\phi \\right)} + D_{yy} \\alpha \\sin{\\left(\\phi \\right)} + \\delta_{\\theta y}\\\\1\\end{matrix}\\right]$"
      ],
      "text/plain": [
       "Eq(Matrix([\n",
       "[      x_out],\n",
       "[      y_out],\n",
       "[theta_x_out],\n",
       "[theta_y_out],\n",
       "[          1]]), Matrix([\n",
       "[      A_xx*scan_{x} + A_xy*scan_{y} + B_xx*\\alpha*cos(\\phi) + B_xy*\\alpha*sin(\\phi) + delta_x],\n",
       "[      A_yx*scan_{x} + A_yy*scan_{y} + B_yx*\\alpha*cos(\\phi) + B_yy*\\alpha*sin(\\phi) + delta_y],\n",
       "[C_xx*scan_{x} + C_xy*scan_{y} + D_xx*\\alpha*cos(\\phi) + D_xy*\\alpha*sin(\\phi) + delta_theta_x],\n",
       "[C_yx*scan_{x} + C_yy*scan_{y} + D_yx*\\alpha*cos(\\phi) + D_yy*\\alpha*sin(\\phi) + delta_theta_y],\n",
       "[                                                                                            1]]))"
      ]
     },
     "metadata": {},
     "output_type": "display_data"
    },
    {
     "data": {
      "text/latex": [
       "$\\displaystyle x_{out} = A_{xx} scan_{x} + A_{xy} scan_{y} + B_{xx} \\alpha \\cos{\\left(\\phi \\right)} + B_{xy} \\alpha \\sin{\\left(\\phi \\right)} + \\delta_{x}$"
      ],
      "text/plain": [
       "Eq(x_out, A_xx*scan_{x} + A_xy*scan_{y} + B_xx*\\alpha*cos(\\phi) + B_xy*\\alpha*sin(\\phi) + delta_x)"
      ]
     },
     "metadata": {},
     "output_type": "display_data"
    },
    {
     "data": {
      "text/latex": [
       "$\\displaystyle y_{out} = A_{yx} scan_{x} + A_{yy} scan_{y} + B_{yx} \\alpha \\cos{\\left(\\phi \\right)} + B_{yy} \\alpha \\sin{\\left(\\phi \\right)} + \\delta_{y}$"
      ],
      "text/plain": [
       "Eq(y_out, A_yx*scan_{x} + A_yy*scan_{y} + B_yx*\\alpha*cos(\\phi) + B_yy*\\alpha*sin(\\phi) + delta_y)"
      ]
     },
     "metadata": {},
     "output_type": "display_data"
    },
    {
     "data": {
      "text/latex": [
       "$\\displaystyle \\theta_{x out} = C_{xx} scan_{x} + C_{xy} scan_{y} + D_{xx} \\alpha \\cos{\\left(\\phi \\right)} + D_{xy} \\alpha \\sin{\\left(\\phi \\right)} + \\delta_{\\theta x}$"
      ],
      "text/plain": [
       "Eq(theta_x_out, C_xx*scan_{x} + C_xy*scan_{y} + D_xx*\\alpha*cos(\\phi) + D_xy*\\alpha*sin(\\phi) + delta_theta_x)"
      ]
     },
     "metadata": {},
     "output_type": "display_data"
    },
    {
     "data": {
      "text/latex": [
       "$\\displaystyle \\theta_{y out} = C_{yx} scan_{x} + C_{yy} scan_{y} + D_{yx} \\alpha \\cos{\\left(\\phi \\right)} + D_{yy} \\alpha \\sin{\\left(\\phi \\right)} + \\delta_{\\theta y}$"
      ],
      "text/plain": [
       "Eq(theta_y_out, C_yx*scan_{x} + C_yy*scan_{y} + D_yx*\\alpha*cos(\\phi) + D_yy*\\alpha*sin(\\phi) + delta_theta_y)"
      ]
     },
     "metadata": {},
     "output_type": "display_data"
    },
    {
     "name": "stdout",
     "output_type": "stream",
     "text": [
      "(-A_xx*B_yy*scan_{x} - A_xy*B_yy*scan_{y} + A_yx*B_xy*scan_{x} + A_yy*B_xy*scan_{y} + B_xy*delta_y - B_xy*y_out - B_yy*delta_x + B_yy*x_out)/(B_xx*B_yy - B_xy*B_yx)\n",
      "(A_xx*B_yx*scan_{x} + A_xy*B_yx*scan_{y} - A_yx*B_xx*scan_{x} - A_yy*B_xx*scan_{y} - B_xx*delta_y + B_xx*y_out + B_yx*delta_x - B_yx*x_out)/(B_xx*B_yy - B_xy*B_yx)\n"
     ]
    }
   ],
   "source": [
    "import sympy as sp\n",
    "\n",
    "def create_2d_rotation_matrix_5x5(theta, flip_y=False):\n",
    "    \"\"\"\n",
    "    Returns a 5x5 sympy Matrix that applies a 2D rotation (for x,y and their slopes)\n",
    "    by angle 'theta', with an option to flip the y-axis.\n",
    "    \"\"\"\n",
    "    c = sp.cos(theta)\n",
    "    s = sp.sin(theta)\n",
    "\n",
    "    # By default: normal rotation blocks\n",
    "    #     [ c  -s ]\n",
    "    #     [ s   c ]\n",
    "    # If we 'flip_y', we reflect the final y-coordinates about the x-axis, i.e.\n",
    "    # (x, y) -> (x, -y) after rotation. That yields:\n",
    "    #     x' =  c*x - s*y\n",
    "    #     y' = -s*x - c*y\n",
    "    if flip_y:\n",
    "        # Rotation followed by flip in y\n",
    "        m11 =  c\n",
    "        m12 = -s\n",
    "        m21 = -s\n",
    "        m22 = -c\n",
    "    else:\n",
    "        # Normal rotation\n",
    "        m11 =  c\n",
    "        m12 = -s\n",
    "        m21 =  s\n",
    "        m22 =  c\n",
    "\n",
    "    M = sp.eye(5)  # Start as 5x5 identity\n",
    "    # Fill in the (x, y) rotation/flip block:\n",
    "    M[0, 0] = m11\n",
    "    M[0, 1] = m12\n",
    "    M[1, 0] = m21\n",
    "    M[1, 1] = m22\n",
    "\n",
    "    # # Fill in the (dx, dy) rotation/flip block:\n",
    "    # M[2, 2] = m11\n",
    "    # M[2, 3] = m12\n",
    "    # M[3, 2] = m21\n",
    "    # M[3, 3] = m22\n",
    "\n",
    "    return M\n",
    "\n",
    "x_out, y_out, theta_x_out, theta_y_out = sp.symbols('x_out y_out theta_x_out theta_y_out')\n",
    "x_in, y_in, theta_x_in, theta_y_in = sp.symbols('x_in y_in theta_x_in theta_y_in')\n",
    "\n",
    "# Lit pixels from Point Source\n",
    "# Make a 5x5 matrix for use in sympy with Axx, Axy, Ayx, Ayy, Bxx, Bxy, Byx, Byy... etc values in each quadrant\n",
    "A_xx, A_xy, A_yx, A_yy = sp.symbols('A_xx A_xy A_yx A_yy', real=True)\n",
    "B_xx, B_xy, B_yx, B_yy = sp.symbols('B_xx B_xy B_yx B_yy', real=True)\n",
    "C_xx, C_xy, C_yx, C_yy = sp.symbols('C_xx C_xy C_yx C_yy', real=True)\n",
    "D_xx, D_xy, D_yx, D_yy = sp.symbols('D_xx D_xy D_yx D_yy', real=True)\n",
    "delta_x, delta_y, delta_theta_x, delta_theta_y = sp.symbols('delta_x delta_y delta_theta_x delta_theta_y', real=True)\n",
    "\n",
    "#Populate the 5x5 matrix with the these symbols, with 0s in the bottom row, and 1 in the bottom right corner\n",
    "TransferMatrix = sp.Matrix([[A_xx, A_xy, B_xx, B_xy, delta_x],\n",
    "                            [A_yx, A_yy, B_yx, B_yy, delta_y],\n",
    "                            [C_xx, C_xy, D_xx, D_xy, delta_theta_x],\n",
    "                            [C_yx, C_yy, D_yx, D_yy, delta_theta_y],\n",
    "                            [0, 0, 0, 0, 1]])\n",
    "\n",
    "# create column vector of output coordinates, x_out, y_out, theta_x_out, theta_y_out 1\n",
    "out_coords = sp.Matrix([x_out, y_out, theta_x_out, theta_y_out, 1])\n",
    "semi_conv, phi = sp.symbols(r'\\alpha, \\phi')\n",
    "\n",
    "#Now for the incoordinates, I want the vector to be populated via the following:\n",
    "# x_in = scan_pos_x, y_in = scan_pos_y, but theta_x_in and theta_y_in should be a function to define a cone of rays \n",
    "# with a semi-convergence angle.\n",
    "theta_x_in = semi_conv * sp.cos(phi)\n",
    "theta_y_in = semi_conv * sp.sin(phi)\n",
    "scan_position_x, scan_position_y = sp.symbols('scan_{x} scan_{y}')\n",
    "\n",
    "in_coords = sp.Matrix([scan_position_x, scan_position_y, theta_x_in, theta_y_in, 1])\n",
    "transfer_equation = sp.Eq(out_coords, TransferMatrix * in_coords, evaluate=False)\n",
    "# reverse_equation = sp.Eq(in_coords, InvertedTransferMatrix * out_coords, evaluate=False)\n",
    "\n",
    "x_out_eq = sp.Eq(out_coords[0], transfer_equation.rhs[0])\n",
    "y_out_eq = sp.Eq(out_coords[1], transfer_equation.rhs[1])\n",
    "theta_x_out_eq = sp.Eq(out_coords[2], transfer_equation.rhs[2])\n",
    "theta_y_out_eq = sp.Eq(out_coords[3], transfer_equation.rhs[3])\n",
    "\n",
    "display(transfer_equation)\n",
    "display(x_out_eq)\n",
    "display(y_out_eq)\n",
    "display(theta_x_out_eq)\n",
    "display(theta_y_out_eq)\n",
    "\n",
    "#replace alpha * cos(phi) with u and alpha * sin(phi) with v, and use both equations to solve for u and v\n",
    "u, v = sp.symbols('u v')\n",
    "x_out_eq = x_out_eq.subs({theta_x_in: u, theta_y_in: v})\n",
    "y_out_eq = y_out_eq.subs({theta_x_in: u, theta_y_in: v})\n",
    "\n",
    "u_v_eq = sp.solve([x_out_eq, y_out_eq], [u, v])\n",
    "print(u_v_eq[u])\n",
    "print(u_v_eq[v])"
   ]
  },
  {
   "cell_type": "markdown",
   "metadata": {},
   "source": [
    "In the case where we are specific about the propagation and descan steps, we have the following, and for a ray with 0 initial slope. "
   ]
  },
  {
   "cell_type": "code",
   "execution_count": 3,
   "metadata": {},
   "outputs": [
    {
     "data": {
      "text/latex": [
       "$\\displaystyle \\left[\\begin{matrix}x_{out}\\\\y_{out}\\\\\\theta_{x out}\\\\\\theta_{y out}\\\\1\\end{matrix}\\right] = \\left[\\begin{matrix}\\alpha z_{def} \\left(E_{xy} \\cos{\\left(\\Omega \\right)} - E_{yy} \\sin{\\left(\\Omega \\right)} + E_{dxy} z_{samp}\\right) \\sin{\\left(\\phi \\right)} + \\alpha \\left(z_{def} \\left(E_{xx} \\cos{\\left(\\Omega \\right)} - E_{yx} \\sin{\\left(\\Omega \\right)} + E_{dxx} z_{samp}\\right) + z_{samp}\\right) \\cos{\\left(\\phi \\right)} - scan_{x} \\cos{\\left(\\Omega \\right)} + scan_{y} \\sin{\\left(\\Omega \\right)} + scan_{x} \\left(E_{xx} \\cos{\\left(\\Omega \\right)} - E_{yx} \\sin{\\left(\\Omega \\right)} + E_{dxx} z_{samp}\\right) + scan_{y} \\left(E_{xy} \\cos{\\left(\\Omega \\right)} - E_{yy} \\sin{\\left(\\Omega \\right)} + E_{dxy} z_{samp}\\right)\\\\- \\alpha z_{def} \\left(E_{xx} \\sin{\\left(\\Omega \\right)} + E_{yx} \\cos{\\left(\\Omega \\right)} - E_{dyx} z_{samp}\\right) \\cos{\\left(\\phi \\right)} - \\alpha \\left(z_{def} \\left(E_{xy} \\sin{\\left(\\Omega \\right)} + E_{yy} \\cos{\\left(\\Omega \\right)} - E_{dyy} z_{samp}\\right) - z_{samp}\\right) \\sin{\\left(\\phi \\right)} + scan_{x} \\sin{\\left(\\Omega \\right)} + scan_{y} \\cos{\\left(\\Omega \\right)} - scan_{x} \\left(E_{xx} \\sin{\\left(\\Omega \\right)} + E_{yx} \\cos{\\left(\\Omega \\right)} - E_{dyx} z_{samp}\\right) - scan_{y} \\left(E_{xy} \\sin{\\left(\\Omega \\right)} + E_{yy} \\cos{\\left(\\Omega \\right)} - E_{dyy} z_{samp}\\right)\\\\E_{dxx} scan_{x} + E_{dxy} \\alpha z_{def} \\sin{\\left(\\phi \\right)} + E_{dxy} scan_{y} + \\alpha \\left(E_{dxx} z_{def} + 1\\right) \\cos{\\left(\\phi \\right)}\\\\E_{dyx} \\alpha z_{def} \\cos{\\left(\\phi \\right)} + E_{dyx} scan_{x} + E_{dyy} scan_{y} + \\alpha \\left(E_{dyy} z_{def} + 1\\right) \\sin{\\left(\\phi \\right)}\\\\1\\end{matrix}\\right]$"
      ],
      "text/plain": [
       "Eq(Matrix([\n",
       "[      x_out],\n",
       "[      y_out],\n",
       "[theta_x_out],\n",
       "[theta_y_out],\n",
       "[          1]]), Matrix([\n",
       "[ \\alpha*z_def*(E_xy*cos(Omega) - E_yy*sin(Omega) + E_{dxy}*z_samp)*sin(\\phi) + \\alpha*(z_def*(E_xx*cos(Omega) - E_yx*sin(Omega) + E_{dxx}*z_samp) + z_samp)*cos(\\phi) - scan_x*cos(Omega) + scan_y*sin(Omega) + scan_{x}*(E_xx*cos(Omega) - E_yx*sin(Omega) + E_{dxx}*z_samp) + scan_{y}*(E_xy*cos(Omega) - E_yy*sin(Omega) + E_{dxy}*z_samp)],\n",
       "[-\\alpha*z_def*(E_xx*sin(Omega) + E_yx*cos(Omega) - E_{dyx}*z_samp)*cos(\\phi) - \\alpha*(z_def*(E_xy*sin(Omega) + E_yy*cos(Omega) - E_{dyy}*z_samp) - z_samp)*sin(\\phi) + scan_x*sin(Omega) + scan_y*cos(Omega) - scan_{x}*(E_xx*sin(Omega) + E_yx*cos(Omega) - E_{dyx}*z_samp) - scan_{y}*(E_xy*sin(Omega) + E_yy*cos(Omega) - E_{dyy}*z_samp)],\n",
       "[                                                                                                                                                                                                                                  E_{dxx}*scan_{x} + E_{dxy}*\\alpha*z_def*sin(\\phi) + E_{dxy}*scan_{y} + \\alpha*(E_{dxx}*z_def + 1)*cos(\\phi)],\n",
       "[                                                                                                                                                                                                                                  E_{dyx}*\\alpha*z_def*cos(\\phi) + E_{dyx}*scan_{x} + E_{dyy}*scan_{y} + \\alpha*(E_{dyy}*z_def + 1)*sin(\\phi)],\n",
       "[                                                                                                                                                                                                                                                                                                                                            1]]))"
      ]
     },
     "metadata": {},
     "output_type": "display_data"
    },
    {
     "data": {
      "text/latex": [
       "$\\displaystyle x_{out} = - scan_{x} \\cos{\\left(\\Omega \\right)} + scan_{y} \\sin{\\left(\\Omega \\right)} + scan_{x} \\left(E_{xx} \\cos{\\left(\\Omega \\right)} - E_{yx} \\sin{\\left(\\Omega \\right)} + E_{dxx} z_{samp}\\right) + scan_{y} \\left(E_{xy} \\cos{\\left(\\Omega \\right)} - E_{yy} \\sin{\\left(\\Omega \\right)} + E_{dxy} z_{samp}\\right)$"
      ],
      "text/plain": [
       "Eq(x_out, -scan_x*cos(Omega) + scan_y*sin(Omega) + scan_{x}*(E_xx*cos(Omega) - E_yx*sin(Omega) + E_{dxx}*z_samp) + scan_{y}*(E_xy*cos(Omega) - E_yy*sin(Omega) + E_{dxy}*z_samp))"
      ]
     },
     "metadata": {},
     "output_type": "display_data"
    },
    {
     "data": {
      "text/latex": [
       "$\\displaystyle y_{out} = scan_{x} \\sin{\\left(\\Omega \\right)} + scan_{y} \\cos{\\left(\\Omega \\right)} - scan_{x} \\left(E_{xx} \\sin{\\left(\\Omega \\right)} + E_{yx} \\cos{\\left(\\Omega \\right)} - E_{dyx} z_{samp}\\right) - scan_{y} \\left(E_{xy} \\sin{\\left(\\Omega \\right)} + E_{yy} \\cos{\\left(\\Omega \\right)} - E_{dyy} z_{samp}\\right)$"
      ],
      "text/plain": [
       "Eq(y_out, scan_x*sin(Omega) + scan_y*cos(Omega) - scan_{x}*(E_xx*sin(Omega) + E_yx*cos(Omega) - E_{dyx}*z_samp) - scan_{y}*(E_xy*sin(Omega) + E_yy*cos(Omega) - E_{dyy}*z_samp))"
      ]
     },
     "metadata": {},
     "output_type": "display_data"
    },
    {
     "data": {
      "text/latex": [
       "$\\displaystyle \\theta_{x out} = E_{dxx} scan_{x} + E_{dxy} scan_{y}$"
      ],
      "text/plain": [
       "Eq(theta_x_out, E_{dxx}*scan_{x} + E_{dxy}*scan_{y})"
      ]
     },
     "metadata": {},
     "output_type": "display_data"
    },
    {
     "data": {
      "text/latex": [
       "$\\displaystyle \\theta_{y out} = E_{dyx} scan_{x} + E_{dyy} scan_{y}$"
      ],
      "text/plain": [
       "Eq(theta_y_out, E_{dyx}*scan_{x} + E_{dyy}*scan_{y})"
      ]
     },
     "metadata": {},
     "output_type": "display_data"
    }
   ],
   "source": [
    "import sympy as sp\n",
    "\n",
    "defocus, sample_to_det_z, scan_x, scan_y = sp.symbols('z_def z_samp scan_x scan_y', real=True)\n",
    "E_xx, E_xy, E_yx, E_yy, E_dxx, E_dxy, E_dyx, E_dyy = sp.symbols(r'E_xx E_xy E_yx E_yy E_{dxx} E_{dxy} E_{dyx} E_{dyy}', real=True)\n",
    "rot = sp.symbols('Omega', real=True)\n",
    "\n",
    "DefocusMatrix = sp.Matrix([[1, 0, defocus, 0, 0],\n",
    "                            [0, 1, 0, defocus, 0],\n",
    "                            [0, 0, 1, 0, 0],\n",
    "                            [0, 0, 0, 1, 0],\n",
    "                            [0, 0, 0, 0, 1]])\n",
    "\n",
    "DescannerMatrixError = sp.Matrix([[E_xx, E_xy, 0, 0, -scan_x],\n",
    "                            [E_yx, E_yy, 0, 0, -scan_y],\n",
    "                            [E_dxx, E_dxy, 1, 0, 0],\n",
    "                            [E_dyx, E_dyy, 0, 1, 0],\n",
    "                            [0, 0, 0, 0, 1]])\n",
    "\n",
    "DescannerMatrixNoError = sp.Matrix([[1, 0, 0, 0, -scan_x],\n",
    "                                    [0, 1, 0, 0, -scan_y],\n",
    "                                    [0, 0, 1, 0, 0],\n",
    "                                    [0, 0, 0, 1, 0],\n",
    "                                    [0, 0, 0, 0, 1]])\n",
    "\n",
    "SampleDetMatrix = sp.Matrix([[1, 0, sample_to_det_z, 0, 0],\n",
    "                            [0, 1, 0, sample_to_det_z, 0],\n",
    "                            [0, 0, 1, 0, 0],\n",
    "                            [0, 0, 0, 1, 0],\n",
    "                            [0, 0, 0, 0, 1]])\n",
    "\n",
    "RotationMatrix = create_2d_rotation_matrix_5x5(rot, flip_y=True)\n",
    "\n",
    "TransferMatrix = SampleDetMatrix * RotationMatrix * DescannerMatrixError * DefocusMatrix\n",
    "\n",
    "transfer_equation = sp.Eq(out_coords, TransferMatrix * in_coords, evaluate=False)\n",
    "\n",
    "display(transfer_equation.simplify())\n",
    "\n",
    "x_out_eq = sp.Eq(out_coords[0], transfer_equation.rhs[0])\n",
    "y_out_eq = sp.Eq(out_coords[1], transfer_equation.rhs[1])\n",
    "\n",
    "r_sqr = x_out_eq.rhs ** 2 + y_out_eq.rhs ** 2\n",
    "theta_x_out_eq = sp.Eq(out_coords[2], transfer_equation.rhs[2])\n",
    "theta_y_out_eq = sp.Eq(out_coords[3], transfer_equation.rhs[3])\n",
    "\n",
    "#replace alpha with 0\n",
    "x_out_eq = x_out_eq.subs({semi_conv: 0})\n",
    "y_out_eq = y_out_eq.subs({semi_conv: 0})\n",
    "theta_x_out_eq = theta_x_out_eq.subs({semi_conv: 0})\n",
    "theta_y_out_eq = theta_y_out_eq.subs({semi_conv: 0})\n",
    "\n",
    "display(x_out_eq.simplify())\n",
    "display(y_out_eq.simplify())\n",
    "display(theta_x_out_eq)\n",
    "display(theta_y_out_eq)\n",
    "\n"
   ]
  },
  {
   "cell_type": "markdown",
   "metadata": {},
   "source": [
    "Begin by importing test image"
   ]
  },
  {
   "cell_type": "code",
   "execution_count": 4,
   "metadata": {},
   "outputs": [],
   "source": [
    "from scipy.ndimage import zoom\n",
    "\n",
    "sample_image = plt.imread(r'SilverFast_Resolution_Target_USAF_1951.png')[:, :, 0]\n",
    "image_shape = sample_image.shape\n",
    "\n",
    "#remove the black pixel border on the edges\n",
    "sample_image = sample_image[1:-1, 1:-1]\n",
    "\n",
    "# Downsample the sample_image by a factor of 2\n",
    "downsample_factor = 0.5\n",
    "sample_image = zoom(sample_image, downsample_factor)\n",
    "sample_image_shape = sample_image.shape\n",
    "\n",
    "\n",
    "sample_image = jnp.array(sample_image, dtype=jnp.complex64)"
   ]
  },
  {
   "cell_type": "markdown",
   "metadata": {},
   "source": [
    "Modelling Descan Error: In order to determine how the descan error description should look like, I thought only about what basic operations a descanner should apply so that we have a 5x5 coordinate transform that is still invertible, and I used jax to find where the operations I apply would populate the jacobian, which has helped me discover the following analysis. \n",
    "\n",
    "Importantly, even in the non-linear case (not yet demonstrated in this notebook but can be soon) we can always find a polynomial which we can then find roots of, that relate outgoing coordinates (positions and slopes), EXCEPT in certain circumstances like when a lens performs perfect imaging from the object plane to the image plane. In this case, there is no single angle that maps positions to positions. When certain coeffients in the polynomial description relating coordinates are zero, you will know you are in this regime, and there is no direct mapping. This is an advantage to this approach, that I don't see with an optimiser being sent at the model to find where rays go - with gradients in jax we will always be able to find a simpler polynomial we can find roots of (if certain terms exist) to tell us what angle ray will take us back to the input plane. \n",
    "\n",
    "All of this means that from my limited understanding so far I don't think an optimiser is entirely neccessary in the way it was implemented in pytorch: This does not mean I don't think an optimiser won't be needed to solve other parts of this problem, or be used in a different way, just strictly for ray tracing in this context: I can also write an optimiser to find where rays should go, and implement in jax if needed.\n",
    "\n",
    "For now though here is why I went with the approach of using gradients to obtain a polynomial coefficients to map one plane to another, and did not set out to demonstrate what you had in Pytorch:\n",
    "\n",
    "1: An optimiser won't understand if the setup of the system has a 1 to 1 mapping from input plane to output plane. With the polynomial coefficients I get from gradients, if the terms B (see matrix below) are zero, we know we are in perfect imaging and no unique angle mapping from input plane to output plane exists.  \n",
    "\n",
    "2: An optimiser won't understand if there are multiple solutions for paths through the system, where as with a polynomial description we know how many roots there are. \n",
    "\n",
    "3: One ray and it's gradients characterises the system and all it's coefficients each time with our nmethod. (It can even tell you the phase an amplitude of a local description around the wavefront if needed, not yet implemented), so we only need to send one ray through the system.\n",
    "\n",
    "With that noted here is the model we have for descan error:\n",
    "\n",
    "The overall matrix description we aiming for is as follows: (whereby we did not restrict ourselves to writing matrices for each component to discover the terms in this matrix, it's just a convenient representation. ***We have noted your critique for TemGym that components should be simple and apply basic operations, and not be restricted to matrices when writing this new version!***)\n",
    "\n",
    "***NOTE ABOUT TESTS:*** There are some tests for the absolute basics, but nothing for this 4D stem calibration now. That is next on my to do list also if you don't have time do so!\n",
    "\n",
    "$\\displaystyle \n",
    "\\left(\\begin{matrix} \n",
    "x_{out} \\\\[0.3em] \n",
    "y_{out} \\\\[0.3em] \n",
    "\\theta_{x-out} \\\\[0.3em] \n",
    "\\theta_{y-out} \\\\[0.3em]\n",
    "1 \n",
    "\\end{matrix}\\right)\n",
    "\\;=\\;\n",
    "\\left(\\begin{matrix} \n",
    "A_{xx} & A_{xy} & B_{xx} & B_{xy} & {\\Delta}x \\\\[0.5em] \n",
    "A_{yx} & A_{yy} & B_{yx} & B_{yy} & {\\Delta}y \\\\[0.5em] \n",
    "C_{xx} & C_{xy} & D_{xx} & D_{xy} & {\\Delta}\\theta_{x} \\\\[0.5em] \n",
    "C_{yx} & C_{yy} & D_{yx} & D_{yy} & {\\Delta}\\theta_{y} \\\\[0.5em] \n",
    "0      & 0      & 0      & 0      & 1 \n",
    "\\end{matrix}\\right)\n",
    "\\left(\\begin{matrix} \n",
    "x_{in} \\\\[0.3em] \n",
    "y_{in} \\\\[0.3em] \n",
    "\\theta_{x-in} \\\\[0.3em] \n",
    "\\theta_{y-in} \\\\[0.3em]\n",
    "1 \n",
    "\\end{matrix}\\right)$\n",
    "\n",
    "For an ideal descanner to perform it's job, and have a matrix that is invertible I have come up with the following:\n",
    "\n",
    "$\\displaystyle \n",
    "\\left(\\begin{matrix} \n",
    "x_{out} \\\\[0.3em] \n",
    "y_{out} \\\\[0.3em] \n",
    "\\theta_{x-out} \\\\[0.3em] \n",
    "\\theta_{y-out} \\\\[0.3em]\n",
    "1 \n",
    "\\end{matrix}\\right)\n",
    "\\;=\\;\n",
    "\\left(\\begin{matrix} \n",
    "1 & 0 & 0 & 0 & {\\Delta}scan-pos_x \\\\[0.5em]  \n",
    "0 & 1 & 0 & 0 & {\\Delta}scan-pos_y \\\\[0.5em]  \n",
    "0 & 0 & 1 & 0 & 0 \\\\[0.5em]  \n",
    "0 & 0 & 0 & 1 & 0 \\\\[0.5em]  \n",
    "0 & 0 & 0 & 0 & 1\n",
    "\\end{matrix}\\right)\n",
    "\\left(\\begin{matrix} \n",
    "x_{in} \\\\[0.3em] \n",
    "y_{in} \\\\[0.3em] \n",
    "\\theta_{x-in} \\\\[0.3em] \n",
    "\\theta_{y-in} \\\\[0.3em]\n",
    "1 \n",
    "\\end{matrix}\\right)$\n",
    "\n",
    "Where are the descan error terms in the matrix? \n",
    "\n",
    "Hidden in the Axx, Ayy and Cxx, Cyy positions: Axx and Ayy for descan position error, because they are the values \n",
    "that change outgoing position as a function of incoming position (A is actually the magnification value too in ABCD matrices). \n",
    "\n",
    "Cxx and Cyy because they are the values that affect outgoing angle as a function of incoming position.\n",
    "\n",
    "$\\displaystyle \n",
    "\\left(\\begin{matrix} \n",
    "x_{out} \\\\[0.3em] \n",
    "y_{out} \\\\[0.3em] \n",
    "\\theta_{x-out} \\\\[0.3em] \n",
    "\\theta_{y-out} \\\\[0.3em]\n",
    "1 \n",
    "\\end{matrix}\\right)\n",
    "\\;=\\;\n",
    "\\left(\\begin{matrix} \n",
    "DescanError \\; pos_{xx} & DescanError \\; pos_{xy} & 0 & 0 & {\\Delta}scan-pos_x \\\\[0.5em]  \n",
    "DescanError \\; pos_{yx} & DescanError \\; pos_{yy} & 0 & 0 & {\\Delta}scan-pos_y \\\\[0.5em]  \n",
    "DescanError \\; \\theta_{xx} & DescanError \\; \\theta_{xy} & 1 & 0 & 0 \\\\[0.5em]  \n",
    "DescanError \\; \\theta_{yx} & DescanError \\; \\theta_{yy} & 0 & 1 & 0 \\\\[0.5em]  \n",
    "0 & 0 & 0 & 0 & 1\n",
    "\\end{matrix}\\right)\n",
    "\\left(\\begin{matrix} \n",
    "x_{in} \\\\[0.3em] \n",
    "y_{in} \\\\[0.3em] \n",
    "\\theta_{x-in} \\\\[0.3em] \n",
    "\\theta_{y-in} \\\\[0.3em]\n",
    "1 \n",
    "\\end{matrix}\\right)$\n",
    "\n",
    "The bad news is this matrix changes it's ${\\Delta}scan-pos_x$ and ${\\Delta}scan-pos_y$ values each time, but the internal 4x4 matrix values are constant. \n",
    "\n",
    "Of course if there are mixed errors then they show up as cross terms in the matrix, and if there are errors as a function of input slope $\\theta_{in}$, they occupy the B and D quadrants. \n",
    "\n",
    "Ultimately, I think that in the linear case this should be the transfer matrix one is trying to figure out from the 4D stem dataset. \n"
   ]
  },
  {
   "cell_type": "markdown",
   "metadata": {},
   "source": [
    "Now we demonstrate the newer version of temgym to try and generate a forward model of the 4D stem overfocus experiment. \n",
    "\n",
    "***Set input Parameters***"
   ]
  },
  {
   "cell_type": "code",
   "execution_count": 5,
   "metadata": {},
   "outputs": [],
   "source": [
    "Axx, Ayy, Cxx, Cyy = 4, 3, -5, -4 # Normal Descan Error terms Axx, Ayy, Cxx, Cyy in transfer matrix\n",
    "Axy, Ayx, Cxy, Cyx = 6, -7, -3, 5 # Cross Descan Error terms Axy, Ayx, Cxy, Cyx in transfer matrix\n",
    "Axx, Ayy, Cxx, Cyy = 1, 1, 0, 0\n",
    "Axy, Ayx, Cxy, Cyx = 0, 0, 0, 0\n",
    "\n",
    "descan_error = [Axx, Axy, Ayx, Ayy, Cxx, Cxy, Cyx, Cyy]\n",
    "\n",
    "#Set up the parameters for the simulation\n",
    "defocus = 0.01\n",
    "semi_conv = 0.05\n",
    "camera_length = 1.0\n",
    "scan_size = sample_image_shape\n",
    "det_size = (64, 64)\n",
    "scan_px_size = 0.0001\n",
    "det_px_size= 0.002\n",
    "rotation = 45\n",
    "\n",
    "sample_image_shape = sample_image.shape  # (n_rows, n_cols)\n",
    "\n",
    "sample_extent_x_half = sample_image_shape[1] * scan_px_size / 2\n",
    "sample_extent_y_half = sample_image_shape[0] * scan_px_size / 2\n",
    "\n",
    "sample_coords_y = jnp.linspace(-sample_extent_y_half, sample_extent_y_half, sample_image_shape[0])\n",
    "sample_coords_x = jnp.linspace(-sample_extent_x_half, sample_extent_x_half, sample_image_shape[1])\n",
    "\n",
    "image_interpolant = RegularGridInterpolator((sample_coords_y, sample_coords_x), sample_image,\n",
    "                                            bounds_error=False, fill_value=1.0)\n",
    "\n",
    "\n",
    "#Create ray input z plane\n",
    "crossover_z = jnp.zeros((1))"
   ]
  },
  {
   "cell_type": "code",
   "execution_count": 6,
   "metadata": {},
   "outputs": [],
   "source": [
    "# Set up the function to calculate the jacobian after propagation from one component to another\n",
    "# We can run multiple rays if we want, but no need for now. \n",
    "jac_run_to_component = jax.vmap(jax.jacobian(run_to_component), in_axes=(0, None))\n",
    "\n",
    "@jax.jit\n",
    "def run_model_for_jacobians(ray, model):\n",
    "\n",
    "    model_jacobians = []\n",
    "\n",
    "    # Get all jacobians from one component to another\n",
    "    for i in range(1, len(model)):\n",
    "        distance = (model[i-1].z - ray.z).squeeze()\n",
    "        ray = propagate(distance, ray)\n",
    "        ray = model[i-1].step(ray)\n",
    "        \n",
    "        jacobian = jac_run_to_component(ray, model[i])\n",
    "        model_jacobians.append({\n",
    "            'jacobian': jacobian\n",
    "        })\n",
    "\n",
    "    # Edit the jacobian matrices to include shifts calculated \n",
    "    # from the opl derivative\n",
    "    each_ABCD = [] #ABCD matrices at each component\n",
    "    total_ABCD = jnp.eye(5)\n",
    "\n",
    "    for jacobian in model_jacobians:\n",
    "        ray_jacobian = jacobian['jacobian'] #dr_out/dr_in\n",
    "        shift_vectors = ray_jacobian.pathlength.matrix # This is the shift vector for each ray, dopl_out/dr_in\n",
    "        ABCD = ray_jacobian.matrix.matrix # This is the ABCD matrix for each ray, dr_out/dr_in\n",
    "        ABCD = ABCD.at[0, :, -1].set(shift_vectors[0, :])\n",
    "        ABCD = ABCD.at[0, -1, -1].set(1.0) # \n",
    "        each_ABCD.append(ABCD)\n",
    "        total_ABCD = ABCD @ total_ABCD\n",
    "\n",
    "    return model_jacobians, each_ABCD, total_ABCD, ray\n",
    "\n",
    "@jax.jit\n",
    "def run_model_for_rays(model, each_ABCD, input_slopes, scan_position):\n",
    "    #Given input model and it's transfer matrix, run the model to find the positions of the rays at the sample and detector\n",
    "\n",
    "    scan_pos_y, scan_pos_x = scan_position\n",
    "\n",
    "    input_slopes_x = input_slopes[0]\n",
    "    input_slopes_y = input_slopes[1]\n",
    "\n",
    "    # Make the input rays we can run through one last time in the model to find positions at sample and detector\n",
    "    rays_at_source_with_semi_conv = jnp.vstack([\n",
    "        jnp.full(len(input_slopes_x), scan_pos_x),\n",
    "        jnp.full(len(input_slopes_y), scan_pos_y),\n",
    "        input_slopes_x,\n",
    "        input_slopes_y,\n",
    "        jnp.ones_like(input_slopes_x)\n",
    "    ])\n",
    "\n",
    "    # Propagate the point source coordinates through the forward ABCD matrices\n",
    "    coord_list = [rays_at_source_with_semi_conv]\n",
    "    for ABCD in each_ABCD:\n",
    "        new_coord = jnp.dot(ABCD[0], coord_list[-1])\n",
    "        coord_list.append(new_coord)\n",
    "        \n",
    "    # Stack the propagated coordinates into an array for easier indexing\n",
    "    coords_array = jnp.stack(coord_list, axis=0)\n",
    "    \n",
    "    xs = coords_array[:, 0, :]\n",
    "    ys = coords_array[:, 1, :]\n",
    "    zs = jnp.array([comp.z for comp in model])\n",
    "\n",
    "    return xs, ys, zs\n",
    "\n",
    "@jax.jit\n",
    "def find_input_slopes_that_hit_detpx_from_pt_source_with_semiconv(pixel_coords, scan_pos, semi_conv, transformation_matrix):\n",
    "    \"\"\"\n",
    "    Given a set of detector pixel coordinates, a semi-convergence angle from a source, and a transformation matrix, find a mask that tells us \n",
    "    what slopes will hit the detector pixels from the point source.\n",
    "\n",
    "    Args:\n",
    "    - pixel_coords (jnp.array): A (N, 2) array of pixel coordinates in y, x format.\n",
    "    - scan_pos (jnp.array): A (2,) array of the scan position in x and y format.\n",
    "    - semi_conv (float): The semi-convergence angle of the point source.q\n",
    "    - transformation_matrix (jnp.array): A (5, 5) transformation matrix.\n",
    "    \"\"\"\n",
    "    # We rely on the fact that theta_x_in**2 + theta_y_in**2 = semi_conv**2, \n",
    "    # which can be evaluated to find all pixels less than any semi_conv from the point source \n",
    "    # For a point source, our system of equations is:\n",
    "    # [x_out, y_out, theta_x_out, theta_y_out, 1] = transformation_matrix @ [scan_pos_x, scan_pos_y, theta_x_in, theta_y_in, 1]\n",
    "    # where theta_x_in and theta_y_in are given by alpha * cos(phi) and alpha * sin(phi), with alpha being the semi convergence angle\n",
    "    # and phi the azimuthal angle of a ray from the point source. This is a parametric equation for a cone of rays from the point source\n",
    "    # giving us the means to find a mask, which will tell us which slopes will hit the detector pixel from the point source for a given semi_conv.\n",
    "    scan_pos_y, scan_pos_x = scan_pos\n",
    "    A_xx, A_xy, B_xx, B_xy = transformation_matrix[0, :4] # Select first row not including the last column of values from the 5x5 transfer matrix\n",
    "    A_yx, A_yy, B_yx, B_yy = transformation_matrix[1, :4] # Select second row not including the last column of values from the 5x5 transfer matrix\n",
    "    delta_x, delta_y = transformation_matrix[0, 4], transformation_matrix[1, 4] # Get the shift values from the final column of the transfer matrix\n",
    "    y_out, x_out = pixel_coords[:, 0], pixel_coords[:, 1]\n",
    "\n",
    "    denom = (B_xx*B_yy - B_xy*B_yx)\n",
    "    theta_x_in = (-A_xx*B_yy*scan_pos_x - A_xy*B_yy*scan_pos_y + A_yx*B_xy*scan_pos_x + \n",
    "         A_yy*B_xy*scan_pos_y + B_xy*delta_y - B_xy*y_out - B_yy*delta_x + B_yy*x_out) / denom\n",
    "    theta_y_in = (A_xx*B_yx*scan_pos_x + A_xy*B_yx*scan_pos_y - A_yx*B_xx*scan_pos_x - \n",
    "         A_yy*B_xx*scan_pos_y - B_xx*delta_y + B_xx*y_out + B_yx*delta_x - B_yx*x_out) / denom\n",
    "    F = (theta_x_in**2 + theta_y_in**2) - semi_conv **2\n",
    "    mask = F <= 0\n",
    "    input_slopes_x_masked = jnp.where(mask, theta_x_in, 0.0)\n",
    "    input_slopes_y_masked = jnp.where(mask, theta_y_in, 0.0)\n",
    "    input_slopes_masked = jnp.stack([input_slopes_x_masked, input_slopes_y_masked])\n",
    "    \n",
    "    return input_slopes_masked, mask\n",
    "    \n",
    "@jax.jit\n",
    "def map_px_on_sample_to_detector(detector_image, det_pixel_size,\n",
    "                                 ray_sample_coords_x, ray_sample_coords_y,\n",
    "                                 ray_det_coords_x, ray_det_coords_y):\n",
    "    # \"\"\"\n",
    "    # Map the pixel values from the sample to the detector image.\n",
    "    # \"\"\"\n",
    "    # sample_image_shape = sample_image.shape  # (n_rows, n_cols)\n",
    "\n",
    "    # # Create an interpolant defined on the image grid (note image indexing is row, col)\n",
    "    # y = jnp.arange(sample_image_shape[0])\n",
    "    # x = jnp.arange(sample_image_shape[1])\n",
    "\n",
    "    # image_interpolant = RegularGridInterpolator((y, x), sample_image,\n",
    "    #                                             bounds_error=False, fill_value=1.0)\n",
    "    detector_image_shape = detector_image.shape\n",
    "    \n",
    "    sample_pts = jnp.stack([ray_sample_coords_y, ray_sample_coords_x], axis=-1)\n",
    "    \n",
    "    # Get the pixel values from the image using nearest neighbor interpolation\n",
    "    sample_px_hit_by_rays = image_interpolant(sample_pts, method='nearest')\n",
    "\n",
    "    det_pixel_xs = (ray_det_coords_x / det_pixel_size) + detector_image_shape[1] / 2\n",
    "    det_pixel_ys = (ray_det_coords_y / det_pixel_size) + detector_image_shape[0] / 2\n",
    "    \n",
    "    det_pixel_xs = jnp.round(det_pixel_xs).astype(jnp.int32)\n",
    "    det_pixel_ys = jnp.round(det_pixel_ys).astype(jnp.int32)\n",
    "    \n",
    "    # detector_image = jnp.zeros(detector_image_shape, dtype=jnp.complex64)\n",
    "    det_image = detector_image.at[(det_pixel_ys, det_pixel_xs)].set(sample_px_hit_by_rays)\n",
    "    \n",
    "    return det_image\n"
   ]
  },
  {
   "cell_type": "markdown",
   "metadata": {},
   "source": [
    "Create the model: Just 3 components: Sample, Descanner and Detector, and create a forward dataset. ***Warning:*** this will probably take a minute or two to complete on a modern workstation.\n",
    "\n",
    "\n",
    "**Note:** there is one small extra trick to fill in the final column of the matrix as the partial derivative of a constant shift value is 0, so the jacobian will not tell us the shift or tilt delta that was applied by the decsanner. We are storing those values in the path length function of the descanner, which is a bit of a fudge for now: Ultimately, all of the terms in the coordinate transform should actually be calculated by differentiating an optical path length function, because the optical path length is the generating function behind the coordinate transform (It is to do with the optical path length representing the lagrangian of the system). For now though to keep it simple I just use optical path length to store shift and tilt deltas."
   ]
  },
  {
   "cell_type": "code",
   "execution_count": null,
   "metadata": {},
   "outputs": [
    {
     "ename": "TypeError",
     "evalue": "ScanGrid.__init__() got an unexpected keyword argument 'pixel_size'",
     "output_type": "error",
     "traceback": [
      "\u001b[0;31m---------------------------------------------------------------------------\u001b[0m",
      "\u001b[0;31mTypeError\u001b[0m                                 Traceback (most recent call last)",
      "Cell \u001b[0;32mIn[8], line 2\u001b[0m\n\u001b[1;32m      1\u001b[0m InputPlane \u001b[38;5;241m=\u001b[39m comp\u001b[38;5;241m.\u001b[39mInputPlane(z\u001b[38;5;241m=\u001b[39mcrossover_z, semi_conv\u001b[38;5;241m=\u001b[39msemi_conv)\n\u001b[0;32m----> 2\u001b[0m ScanGrid \u001b[38;5;241m=\u001b[39m \u001b[43mcomp\u001b[49m\u001b[38;5;241;43m.\u001b[39;49m\u001b[43mScanGrid\u001b[49m\u001b[43m(\u001b[49m\u001b[43mz\u001b[49m\u001b[38;5;241;43m=\u001b[39;49m\u001b[43mjnp\u001b[49m\u001b[38;5;241;43m.\u001b[39;49m\u001b[43marray\u001b[49m\u001b[43m(\u001b[49m\u001b[43m[\u001b[49m\u001b[43mdefocus\u001b[49m\u001b[43m]\u001b[49m\u001b[43m)\u001b[49m\u001b[43m,\u001b[49m\u001b[43m \u001b[49m\u001b[43mpixel_size\u001b[49m\u001b[38;5;241;43m=\u001b[39;49m\u001b[43mscan_px_size\u001b[49m\u001b[43m,\u001b[49m\u001b[43m \u001b[49m\u001b[43mshape\u001b[49m\u001b[38;5;241;43m=\u001b[39;49m\u001b[43msample_image_shape\u001b[49m\u001b[43m,\u001b[49m\u001b[43m \u001b[49m\u001b[43mrotation\u001b[49m\u001b[38;5;241;43m=\u001b[39;49m\u001b[43mrotation\u001b[49m\u001b[43m)\u001b[49m\n\u001b[1;32m      3\u001b[0m Descanner \u001b[38;5;241m=\u001b[39m comp\u001b[38;5;241m.\u001b[39mDescanner(z\u001b[38;5;241m=\u001b[39mjnp\u001b[38;5;241m.\u001b[39marray([defocus]), descan_error\u001b[38;5;241m=\u001b[39mdescan_error, offset_x\u001b[38;5;241m=\u001b[39m\u001b[38;5;241m0.0\u001b[39m, offset_y\u001b[38;5;241m=\u001b[39m\u001b[38;5;241m0.0\u001b[39m)\n\u001b[1;32m      4\u001b[0m Detector \u001b[38;5;241m=\u001b[39m comp\u001b[38;5;241m.\u001b[39mDetector(z\u001b[38;5;241m=\u001b[39mjnp\u001b[38;5;241m.\u001b[39marray([camera_length]), shape\u001b[38;5;241m=\u001b[39mdet_size, pixel_size\u001b[38;5;241m=\u001b[39mdet_px_size)\n",
      "\u001b[0;31mTypeError\u001b[0m: ScanGrid.__init__() got an unexpected keyword argument 'pixel_size'"
     ]
    }
   ],
   "source": [
    "InputPlane = comp.InputPlane(z=crossover_z, semi_conv=semi_conv)\n",
    "ScanGrid = comp.ScanGrid(z=jnp.array([defocus]), scan_step=[scan_px_size, scan_px_size], scan_shape=sample_image_shape, scan_rotation=rotation)\n",
    "Descanner = comp.Descanner(z=jnp.array([defocus]), descan_error=descan_error, offset_x=0.0, offset_y=0.0)\n",
    "Detector = comp.Detector(z=jnp.array([camera_length]), shape=det_size, pixel_size=det_px_size)\n",
    "\n",
    "scan_coords = ScanGrid.get_coords()\n",
    "detector_coords = Detector.get_coords()\n",
    "\n",
    "beam_radius_on_sample = defocus * semi_conv\n",
    "\n",
    "det_coords_y = detector_coords[:, 0]\n",
    "det_coords_x = detector_coords[:, 1]\n",
    "\n",
    "scan_coords_y = scan_coords[:, 0]\n",
    "scan_coords_x = scan_coords[:, 1]\n",
    "\n",
    "#Only select coordinates in scan_coords which are 1 beam radius in from the edge of the scan\n",
    "scan_coords = scan_coords.reshape((*sample_image_shape, 2))\n",
    "\n",
    "fourdstem_array = np.zeros((scan_size+det_size), dtype=np.complex64)\n",
    "\n",
    "x_out_centre = []\n",
    "y_out_centre = []\n",
    "x_out_centre_rm = []\n",
    "y_out_centre_rm = []\n",
    "\n",
    "scan_x_in = []\n",
    "scan_y_in = []\n",
    "\n",
    "for scan_idx_y in tqdm.trange(sample_image_shape[0], desc='Scan Y'):\n",
    "    for scan_idx_x in range(sample_image_shape[1]):\n",
    "        scan_pos = scan_coords[scan_idx_y, scan_idx_x] #Y X coords\n",
    "        \n",
    "        # Make the input ray\n",
    "        input_ray_positions = jnp.vstack([\n",
    "            scan_pos[1], # x\n",
    "            scan_pos[0], # y\n",
    "            jnp.array([0.0]), # dx\n",
    "            jnp.array([0.0]), # dy\n",
    "            jnp.ones((1))\n",
    "        ]).T\n",
    "\n",
    "        ray = Ray(z=InputPlane.z, \n",
    "                matrix=input_ray_positions, \n",
    "                amplitude=jnp.ones(1), \n",
    "                pathlength=jnp.zeros(1), \n",
    "                wavelength=jnp.ones(1),\n",
    "                blocked=jnp.zeros(1, dtype=float))\n",
    "        \n",
    "        #Make a new descanner with the new scan position, and update the model\n",
    "        Descanner = comp.Descanner(z=jnp.array([defocus]), descan_error=descan_error, offset_x=scan_pos[1], offset_y=scan_pos[0])\n",
    "\n",
    "        ## NOTE - We are making a new model each time also as requested in the design of TemGym in January. Model creation is never fixed. \n",
    "        model = [InputPlane, ScanGrid, Descanner, Detector]\n",
    "\n",
    "        # Run the model to get the jacobians of output with respect to input\n",
    "        model_jacobians, each_ABCD, total_ABCD, ray = run_model_for_jacobians(ray, model)\n",
    "\n",
    "        # Now for the most important function in here: \n",
    "        input_slopes, mask = find_input_slopes_that_hit_detpx_from_pt_source_with_semiconv(detector_coords, scan_pos, semi_conv, total_ABCD[0])\n",
    "\n",
    "        # Run the model for the rays at each plane\n",
    "        xs, ys, zs = run_model_for_rays(model, each_ABCD, input_slopes, scan_pos)\n",
    "\n",
    "        ray_sample_coords_x, ray_sample_coords_y = xs[1], ys[1] # The ray coordinates at the sample plane\n",
    "        ray_det_coords_x, ray_det_coords_y = xs[-1], ys[-1] # The ray coordinates at the detector plane\n",
    "\n",
    "        detector_image = jnp.zeros(det_size, dtype=jnp.complex64)\n",
    "\n",
    "        det_image = map_px_on_sample_to_detector(detector_image, \n",
    "                                                 det_px_size, \n",
    "                                                 ray_sample_coords_x, \n",
    "                                                 ray_sample_coords_y, \n",
    "                                                 ray_det_coords_x, \n",
    "                                                 ray_det_coords_y)\n",
    "        \n",
    "        fourdstem_array[scan_idx_y, scan_idx_x] = det_image"
   ]
  },
  {
   "cell_type": "code",
   "execution_count": null,
   "metadata": {},
   "outputs": [],
   "source": [
    "np.save(\"fourdstem_overfocused.npy\", np.abs(fourdstem_array))"
   ]
  },
  {
   "cell_type": "code",
   "execution_count": null,
   "metadata": {},
   "outputs": [
    {
     "data": {
      "application/vnd.jupyter.widget-view+json": {
       "model_id": "6c83645a47b2455889be75d1c22cc8fb",
       "version_major": 2,
       "version_minor": 0
      },
      "image/png": "[encoded data removed]",
      "text/html": [
       "\n",
       "            <div style=\"display: inline-block;\">\n",
       "                <div class=\"jupyter-widgets widget-label\" style=\"text-align: center;\">\n",
       "                    Figure\n",
       "                </div>\n",
       "                <img src='data:image/png;base64,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' width=1000.0/>\n",
       "            </div>\n",
       "        "
      ],
      "text/plain": [
       "Canvas(toolbar=Toolbar(toolitems=[('Home', 'Reset original view', 'home', 'home'), ('Back', 'Back to previous …"
      ]
     },
     "metadata": {},
     "output_type": "display_data"
    }
   ],
   "source": [
    "scan_idx_x, scan_idx_y = 12, 25\n",
    "det_image_selected = fourdstem_array[scan_idx_y, scan_idx_x]\n",
    "fig, ax = plt.subplots(1, 2, figsize=(10, 5))\n",
    "ax[0].imshow(np.abs(sample_image), \n",
    "             cmap='gray')\n",
    "ax[0].scatter(scan_idx_x, scan_idx_y, c='r', marker='x', alpha=1)\n",
    "ax[0].set_title('Sample')\n",
    "\n",
    "ax[1].imshow(np.abs(det_image_selected), cmap='gray')\n",
    "ax[1].axhline(detector_image.shape[0]/2, color='lightgrey', linestyle='--')\n",
    "ax[1].axvline(detector_image.shape[1]/2, color='lightgrey', linestyle='--')\n",
    "ax[1].set_title('Detector Image')\n",
    "plt.show()"
   ]
  }
 ],
 "metadata": {
  "kernelspec": {
   "display_name": "temgym",
   "language": "python",
   "name": "python3"
  },
  "language_info": {
   "codemirror_mode": {
    "name": "ipython",
    "version": 3
   },
   "file_extension": ".py",
   "mimetype": "text/x-python",
   "name": "python",
   "nbconvert_exporter": "python",
   "pygments_lexer": "ipython3",
   "version": "3.12.6"
  }
 },
 "nbformat": 4,
 "nbformat_minor": 2
}
