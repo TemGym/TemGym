{
 "cells": [
  {
   "cell_type": "code",
   "execution_count": 1,
   "metadata": {},
   "outputs": [],
   "source": [
    "import os\n",
    "os.environ[\"XLA_PYTHON_CLIENT_MEM_FRACTION\"] = \".01\"\n",
    "\n",
    "from jax import numpy as jnp\n",
    "import jax\n",
    "from jax.scipy.interpolate import RegularGridInterpolator\n",
    "\n",
    "import temgymbasic.jax_components as comp\n",
    "from temgymbasic.jax_run import run_to_end, run_to_component\n",
    "from temgymbasic.jax_ray import Ray, propagate\n",
    "from temgymbasic.jax_utils import get_pytree_idx_from_model, get_pixel_coords\n",
    "import matplotlib.pyplot as plt\n",
    "\n",
    "import tqdm.auto as tqdm\n",
    "%matplotlib widget\n",
    "import numpy as np\n",
    "\n",
    "# set jax to use cpu\n",
    "jax.config.update(\"jax_platform_name\", \"cpu\")\n",
    "# jax.config.update(\"jax_enable_x64\", True)"
   ]
  },
  {
   "cell_type": "markdown",
   "metadata": {},
   "source": [
    "SYMPY Mathematics just to understand how to model the descanner with descan error, and how the variables propagate to the end. Feel free to ignore. "
   ]
  },
  {
   "cell_type": "code",
   "execution_count": 2,
   "metadata": {},
   "outputs": [
    {
     "data": {
      "text/latex": [
       "$\\displaystyle \\left[\\begin{matrix}x_{out}\\\\y_{out}\\\\\\theta_{x out}\\\\\\theta_{y out}\\\\1\\end{matrix}\\right] = \\left[\\begin{matrix}A_{xx} scan_{x} + A_{xy} scan_{y} + B_{xx} \\alpha \\cos{\\left(\\phi \\right)} + B_{xy} \\alpha \\sin{\\left(\\phi \\right)} + \\delta_{x}\\\\A_{yx} scan_{x} + A_{yy} scan_{y} + B_{yx} \\alpha \\cos{\\left(\\phi \\right)} + B_{yy} \\alpha \\sin{\\left(\\phi \\right)} + \\delta_{y}\\\\C_{xx} scan_{x} + C_{xy} scan_{y} + D_{xx} \\alpha \\cos{\\left(\\phi \\right)} + D_{xy} \\alpha \\sin{\\left(\\phi \\right)} + \\delta_{\\theta x}\\\\C_{yx} scan_{x} + C_{yy} scan_{y} + D_{yx} \\alpha \\cos{\\left(\\phi \\right)} + D_{yy} \\alpha \\sin{\\left(\\phi \\right)} + \\delta_{\\theta y}\\\\1\\end{matrix}\\right]$"
      ],
      "text/plain": [
       "Eq(Matrix([\n",
       "[      x_out],\n",
       "[      y_out],\n",
       "[theta_x_out],\n",
       "[theta_y_out],\n",
       "[          1]]), Matrix([\n",
       "[      A_xx*scan_{x} + A_xy*scan_{y} + B_xx*\\alpha*cos(\\phi) + B_xy*\\alpha*sin(\\phi) + delta_x],\n",
       "[      A_yx*scan_{x} + A_yy*scan_{y} + B_yx*\\alpha*cos(\\phi) + B_yy*\\alpha*sin(\\phi) + delta_y],\n",
       "[C_xx*scan_{x} + C_xy*scan_{y} + D_xx*\\alpha*cos(\\phi) + D_xy*\\alpha*sin(\\phi) + delta_theta_x],\n",
       "[C_yx*scan_{x} + C_yy*scan_{y} + D_yx*\\alpha*cos(\\phi) + D_yy*\\alpha*sin(\\phi) + delta_theta_y],\n",
       "[                                                                                            1]]))"
      ]
     },
     "metadata": {},
     "output_type": "display_data"
    },
    {
     "data": {
      "text/latex": [
       "$\\displaystyle x_{out} = A_{xx} scan_{x} + A_{xy} scan_{y} + B_{xx} \\alpha \\cos{\\left(\\phi \\right)} + B_{xy} \\alpha \\sin{\\left(\\phi \\right)} + \\delta_{x}$"
      ],
      "text/plain": [
       "Eq(x_out, A_xx*scan_{x} + A_xy*scan_{y} + B_xx*\\alpha*cos(\\phi) + B_xy*\\alpha*sin(\\phi) + delta_x)"
      ]
     },
     "metadata": {},
     "output_type": "display_data"
    },
    {
     "data": {
      "text/latex": [
       "$\\displaystyle y_{out} = A_{yx} scan_{x} + A_{yy} scan_{y} + B_{yx} \\alpha \\cos{\\left(\\phi \\right)} + B_{yy} \\alpha \\sin{\\left(\\phi \\right)} + \\delta_{y}$"
      ],
      "text/plain": [
       "Eq(y_out, A_yx*scan_{x} + A_yy*scan_{y} + B_yx*\\alpha*cos(\\phi) + B_yy*\\alpha*sin(\\phi) + delta_y)"
      ]
     },
     "metadata": {},
     "output_type": "display_data"
    },
    {
     "data": {
      "text/latex": [
       "$\\displaystyle \\theta_{x out} = C_{xx} scan_{x} + C_{xy} scan_{y} + D_{xx} \\alpha \\cos{\\left(\\phi \\right)} + D_{xy} \\alpha \\sin{\\left(\\phi \\right)} + \\delta_{\\theta x}$"
      ],
      "text/plain": [
       "Eq(theta_x_out, C_xx*scan_{x} + C_xy*scan_{y} + D_xx*\\alpha*cos(\\phi) + D_xy*\\alpha*sin(\\phi) + delta_theta_x)"
      ]
     },
     "metadata": {},
     "output_type": "display_data"
    },
    {
     "data": {
      "text/latex": [
       "$\\displaystyle \\theta_{y out} = C_{yx} scan_{x} + C_{yy} scan_{y} + D_{yx} \\alpha \\cos{\\left(\\phi \\right)} + D_{yy} \\alpha \\sin{\\left(\\phi \\right)} + \\delta_{\\theta y}$"
      ],
      "text/plain": [
       "Eq(theta_y_out, C_yx*scan_{x} + C_yy*scan_{y} + D_yx*\\alpha*cos(\\phi) + D_yy*\\alpha*sin(\\phi) + delta_theta_y)"
      ]
     },
     "metadata": {},
     "output_type": "display_data"
    },
    {
     "name": "stdout",
     "output_type": "stream",
     "text": [
      "(-A_xx*B_yy*scan_{x} - A_xy*B_yy*scan_{y} + A_yx*B_xy*scan_{x} + A_yy*B_xy*scan_{y} + B_xy*delta_y - B_xy*y_out - B_yy*delta_x + B_yy*x_out)/(B_xx*B_yy - B_xy*B_yx)\n",
      "(A_xx*B_yx*scan_{x} + A_xy*B_yx*scan_{y} - A_yx*B_xx*scan_{x} - A_yy*B_xx*scan_{y} - B_xx*delta_y + B_xx*y_out + B_yx*delta_x - B_yx*x_out)/(B_xx*B_yy - B_xy*B_yx)\n"
     ]
    }
   ],
   "source": [
    "import sympy as sp\n",
    "\n",
    "def create_2d_rotation_matrix_5x5(theta, flip_y=False):\n",
    "    \"\"\"\n",
    "    Returns a 5x5 sympy Matrix that applies a 2D rotation (for x,y and their slopes)\n",
    "    by angle 'theta', with an option to flip the y-axis.\n",
    "    \"\"\"\n",
    "    c = sp.cos(theta)\n",
    "    s = sp.sin(theta)\n",
    "\n",
    "    # By default: normal rotation blocks\n",
    "    #     [ c  -s ]\n",
    "    #     [ s   c ]\n",
    "    # If we 'flip_y', we reflect the final y-coordinates about the x-axis, i.e.\n",
    "    # (x, y) -> (x, -y) after rotation. That yields:\n",
    "    #     x' =  c*x - s*y\n",
    "    #     y' = -s*x - c*y\n",
    "    if flip_y:\n",
    "        # Rotation followed by flip in y\n",
    "        m11 =  c\n",
    "        m12 = -s\n",
    "        m21 = -s\n",
    "        m22 = -c\n",
    "    else:\n",
    "        # Normal rotation\n",
    "        m11 =  c\n",
    "        m12 = -s\n",
    "        m21 =  s\n",
    "        m22 =  c\n",
    "\n",
    "    M = sp.eye(5)  # Start as 5x5 identity\n",
    "    # Fill in the (x, y) rotation/flip block:\n",
    "    M[0, 0] = m11\n",
    "    M[0, 1] = m12\n",
    "    M[1, 0] = m21\n",
    "    M[1, 1] = m22\n",
    "\n",
    "    # # Fill in the (dx, dy) rotation/flip block:\n",
    "    # M[2, 2] = m11\n",
    "    # M[2, 3] = m12\n",
    "    # M[3, 2] = m21\n",
    "    # M[3, 3] = m22\n",
    "\n",
    "    return M\n",
    "\n",
    "x_out, y_out, theta_x_out, theta_y_out = sp.symbols('x_out y_out theta_x_out theta_y_out')\n",
    "x_in, y_in, theta_x_in, theta_y_in = sp.symbols('x_in y_in theta_x_in theta_y_in')\n",
    "\n",
    "# Lit pixels from Point Source\n",
    "# Make a 5x5 matrix for use in sympy with Axx, Axy, Ayx, Ayy, Bxx, Bxy, Byx, Byy... etc values in each quadrant\n",
    "A_xx, A_xy, A_yx, A_yy = sp.symbols('A_xx A_xy A_yx A_yy', real=True)\n",
    "B_xx, B_xy, B_yx, B_yy = sp.symbols('B_xx B_xy B_yx B_yy', real=True)\n",
    "C_xx, C_xy, C_yx, C_yy = sp.symbols('C_xx C_xy C_yx C_yy', real=True)\n",
    "D_xx, D_xy, D_yx, D_yy = sp.symbols('D_xx D_xy D_yx D_yy', real=True)\n",
    "delta_x, delta_y, delta_theta_x, delta_theta_y = sp.symbols('delta_x delta_y delta_theta_x delta_theta_y', real=True)\n",
    "\n",
    "#Populate the 5x5 matrix with the these symbols, with 0s in the bottom row, and 1 in the bottom right corner\n",
    "TransferMatrix = sp.Matrix([[A_xx, A_xy, B_xx, B_xy, delta_x],\n",
    "                            [A_yx, A_yy, B_yx, B_yy, delta_y],\n",
    "                            [C_xx, C_xy, D_xx, D_xy, delta_theta_x],\n",
    "                            [C_yx, C_yy, D_yx, D_yy, delta_theta_y],\n",
    "                            [0, 0, 0, 0, 1]])\n",
    "\n",
    "# create column vector of output coordinates, x_out, y_out, theta_x_out, theta_y_out 1\n",
    "out_coords = sp.Matrix([x_out, y_out, theta_x_out, theta_y_out, 1])\n",
    "semi_conv, phi = sp.symbols(r'\\alpha, \\phi')\n",
    "\n",
    "#Now for the incoordinates, I want the vector to be populated via the following:\n",
    "# x_in = scan_pos_x, y_in = scan_pos_y, but theta_x_in and theta_y_in should be a function to define a cone of rays \n",
    "# with a semi-convergence angle.\n",
    "theta_x_in = semi_conv * sp.cos(phi)\n",
    "theta_y_in = semi_conv * sp.sin(phi)\n",
    "scan_position_x, scan_position_y = sp.symbols('scan_{x} scan_{y}')\n",
    "\n",
    "in_coords = sp.Matrix([scan_position_x, scan_position_y, theta_x_in, theta_y_in, 1])\n",
    "transfer_equation = sp.Eq(out_coords, TransferMatrix * in_coords, evaluate=False)\n",
    "# reverse_equation = sp.Eq(in_coords, InvertedTransferMatrix * out_coords, evaluate=False)\n",
    "\n",
    "x_out_eq = sp.Eq(out_coords[0], transfer_equation.rhs[0])\n",
    "y_out_eq = sp.Eq(out_coords[1], transfer_equation.rhs[1])\n",
    "theta_x_out_eq = sp.Eq(out_coords[2], transfer_equation.rhs[2])\n",
    "theta_y_out_eq = sp.Eq(out_coords[3], transfer_equation.rhs[3])\n",
    "\n",
    "display(transfer_equation)\n",
    "display(x_out_eq)\n",
    "display(y_out_eq)\n",
    "display(theta_x_out_eq)\n",
    "display(theta_y_out_eq)\n",
    "\n",
    "#replace alpha * cos(phi) with u and alpha * sin(phi) with v, and use both equations to solve for u and v\n",
    "u, v = sp.symbols('u v')\n",
    "x_out_eq = x_out_eq.subs({theta_x_in: u, theta_y_in: v})\n",
    "y_out_eq = y_out_eq.subs({theta_x_in: u, theta_y_in: v})\n",
    "\n",
    "u_v_eq = sp.solve([x_out_eq, y_out_eq], [u, v])\n",
    "print(u_v_eq[u])\n",
    "print(u_v_eq[v])"
   ]
  },
  {
   "cell_type": "markdown",
   "metadata": {},
   "source": [
    "In the case where we are specific about the propagation and descan steps, we have the following, and for a ray with 0 initial slope. "
   ]
  },
  {
   "cell_type": "code",
   "execution_count": 3,
   "metadata": {},
   "outputs": [
    {
     "data": {
      "text/latex": [
       "$\\displaystyle \\left[\\begin{matrix}x_{out}\\\\y_{out}\\\\\\theta_{x out}\\\\\\theta_{y out}\\\\1\\end{matrix}\\right] = \\left[\\begin{matrix}\\alpha z_{def} \\left(E_{xy} \\cos{\\left(\\Omega \\right)} - E_{yy} \\sin{\\left(\\Omega \\right)} + E_{dxy} z_{samp}\\right) \\sin{\\left(\\phi \\right)} + \\alpha \\left(z_{def} \\left(E_{xx} \\cos{\\left(\\Omega \\right)} - E_{yx} \\sin{\\left(\\Omega \\right)} + E_{dxx} z_{samp}\\right) + z_{samp}\\right) \\cos{\\left(\\phi \\right)} - scan_{x} \\cos{\\left(\\Omega \\right)} + scan_{y} \\sin{\\left(\\Omega \\right)} + scan_{x} \\left(E_{xx} \\cos{\\left(\\Omega \\right)} - E_{yx} \\sin{\\left(\\Omega \\right)} + E_{dxx} z_{samp}\\right) + scan_{y} \\left(E_{xy} \\cos{\\left(\\Omega \\right)} - E_{yy} \\sin{\\left(\\Omega \\right)} + E_{dxy} z_{samp}\\right)\\\\- \\alpha z_{def} \\left(E_{xx} \\sin{\\left(\\Omega \\right)} + E_{yx} \\cos{\\left(\\Omega \\right)} - E_{dyx} z_{samp}\\right) \\cos{\\left(\\phi \\right)} - \\alpha \\left(z_{def} \\left(E_{xy} \\sin{\\left(\\Omega \\right)} + E_{yy} \\cos{\\left(\\Omega \\right)} - E_{dyy} z_{samp}\\right) - z_{samp}\\right) \\sin{\\left(\\phi \\right)} + scan_{x} \\sin{\\left(\\Omega \\right)} + scan_{y} \\cos{\\left(\\Omega \\right)} - scan_{x} \\left(E_{xx} \\sin{\\left(\\Omega \\right)} + E_{yx} \\cos{\\left(\\Omega \\right)} - E_{dyx} z_{samp}\\right) - scan_{y} \\left(E_{xy} \\sin{\\left(\\Omega \\right)} + E_{yy} \\cos{\\left(\\Omega \\right)} - E_{dyy} z_{samp}\\right)\\\\E_{dxx} scan_{x} + E_{dxy} \\alpha z_{def} \\sin{\\left(\\phi \\right)} + E_{dxy} scan_{y} + \\alpha \\left(E_{dxx} z_{def} + 1\\right) \\cos{\\left(\\phi \\right)}\\\\E_{dyx} \\alpha z_{def} \\cos{\\left(\\phi \\right)} + E_{dyx} scan_{x} + E_{dyy} scan_{y} + \\alpha \\left(E_{dyy} z_{def} + 1\\right) \\sin{\\left(\\phi \\right)}\\\\1\\end{matrix}\\right]$"
      ],
      "text/plain": [
       "Eq(Matrix([\n",
       "[      x_out],\n",
       "[      y_out],\n",
       "[theta_x_out],\n",
       "[theta_y_out],\n",
       "[          1]]), Matrix([\n",
       "[ \\alpha*z_def*(E_xy*cos(Omega) - E_yy*sin(Omega) + E_{dxy}*z_samp)*sin(\\phi) + \\alpha*(z_def*(E_xx*cos(Omega) - E_yx*sin(Omega) + E_{dxx}*z_samp) + z_samp)*cos(\\phi) - scan_x*cos(Omega) + scan_y*sin(Omega) + scan_{x}*(E_xx*cos(Omega) - E_yx*sin(Omega) + E_{dxx}*z_samp) + scan_{y}*(E_xy*cos(Omega) - E_yy*sin(Omega) + E_{dxy}*z_samp)],\n",
       "[-\\alpha*z_def*(E_xx*sin(Omega) + E_yx*cos(Omega) - E_{dyx}*z_samp)*cos(\\phi) - \\alpha*(z_def*(E_xy*sin(Omega) + E_yy*cos(Omega) - E_{dyy}*z_samp) - z_samp)*sin(\\phi) + scan_x*sin(Omega) + scan_y*cos(Omega) - scan_{x}*(E_xx*sin(Omega) + E_yx*cos(Omega) - E_{dyx}*z_samp) - scan_{y}*(E_xy*sin(Omega) + E_yy*cos(Omega) - E_{dyy}*z_samp)],\n",
       "[                                                                                                                                                                                                                                  E_{dxx}*scan_{x} + E_{dxy}*\\alpha*z_def*sin(\\phi) + E_{dxy}*scan_{y} + \\alpha*(E_{dxx}*z_def + 1)*cos(\\phi)],\n",
       "[                                                                                                                                                                                                                                  E_{dyx}*\\alpha*z_def*cos(\\phi) + E_{dyx}*scan_{x} + E_{dyy}*scan_{y} + \\alpha*(E_{dyy}*z_def + 1)*sin(\\phi)],\n",
       "[                                                                                                                                                                                                                                                                                                                                            1]]))"
      ]
     },
     "metadata": {},
     "output_type": "display_data"
    },
    {
     "data": {
      "text/latex": [
       "$\\displaystyle x_{out} = - scan_{x} \\cos{\\left(\\Omega \\right)} + scan_{y} \\sin{\\left(\\Omega \\right)} + scan_{x} \\left(E_{xx} \\cos{\\left(\\Omega \\right)} - E_{yx} \\sin{\\left(\\Omega \\right)} + E_{dxx} z_{samp}\\right) + scan_{y} \\left(E_{xy} \\cos{\\left(\\Omega \\right)} - E_{yy} \\sin{\\left(\\Omega \\right)} + E_{dxy} z_{samp}\\right)$"
      ],
      "text/plain": [
       "Eq(x_out, -scan_x*cos(Omega) + scan_y*sin(Omega) + scan_{x}*(E_xx*cos(Omega) - E_yx*sin(Omega) + E_{dxx}*z_samp) + scan_{y}*(E_xy*cos(Omega) - E_yy*sin(Omega) + E_{dxy}*z_samp))"
      ]
     },
     "metadata": {},
     "output_type": "display_data"
    },
    {
     "data": {
      "text/latex": [
       "$\\displaystyle y_{out} = scan_{x} \\sin{\\left(\\Omega \\right)} + scan_{y} \\cos{\\left(\\Omega \\right)} - scan_{x} \\left(E_{xx} \\sin{\\left(\\Omega \\right)} + E_{yx} \\cos{\\left(\\Omega \\right)} - E_{dyx} z_{samp}\\right) - scan_{y} \\left(E_{xy} \\sin{\\left(\\Omega \\right)} + E_{yy} \\cos{\\left(\\Omega \\right)} - E_{dyy} z_{samp}\\right)$"
      ],
      "text/plain": [
       "Eq(y_out, scan_x*sin(Omega) + scan_y*cos(Omega) - scan_{x}*(E_xx*sin(Omega) + E_yx*cos(Omega) - E_{dyx}*z_samp) - scan_{y}*(E_xy*sin(Omega) + E_yy*cos(Omega) - E_{dyy}*z_samp))"
      ]
     },
     "metadata": {},
     "output_type": "display_data"
    },
    {
     "data": {
      "text/latex": [
       "$\\displaystyle \\theta_{x out} = E_{dxx} scan_{x} + E_{dxy} scan_{y}$"
      ],
      "text/plain": [
       "Eq(theta_x_out, E_{dxx}*scan_{x} + E_{dxy}*scan_{y})"
      ]
     },
     "metadata": {},
     "output_type": "display_data"
    },
    {
     "data": {
      "text/latex": [
       "$\\displaystyle \\theta_{y out} = E_{dyx} scan_{x} + E_{dyy} scan_{y}$"
      ],
      "text/plain": [
       "Eq(theta_y_out, E_{dyx}*scan_{x} + E_{dyy}*scan_{y})"
      ]
     },
     "metadata": {},
     "output_type": "display_data"
    }
   ],
   "source": [
    "import sympy as sp\n",
    "\n",
    "defocus, sample_to_det_z, scan_x, scan_y = sp.symbols('z_def z_samp scan_x scan_y', real=True)\n",
    "E_xx, E_xy, E_yx, E_yy, E_dxx, E_dxy, E_dyx, E_dyy = sp.symbols(r'E_xx E_xy E_yx E_yy E_{dxx} E_{dxy} E_{dyx} E_{dyy}', real=True)\n",
    "rot = sp.symbols('Omega', real=True)\n",
    "\n",
    "DefocusMatrix = sp.Matrix([[1, 0, defocus, 0, 0],\n",
    "                            [0, 1, 0, defocus, 0],\n",
    "                            [0, 0, 1, 0, 0],\n",
    "                            [0, 0, 0, 1, 0],\n",
    "                            [0, 0, 0, 0, 1]])\n",
    "\n",
    "DescannerMatrixError = sp.Matrix([[E_xx, E_xy, 0, 0, -scan_x],\n",
    "                            [E_yx, E_yy, 0, 0, -scan_y],\n",
    "                            [E_dxx, E_dxy, 1, 0, 0],\n",
    "                            [E_dyx, E_dyy, 0, 1, 0],\n",
    "                            [0, 0, 0, 0, 1]])\n",
    "\n",
    "DescannerMatrixNoError = sp.Matrix([[1, 0, 0, 0, -scan_x],\n",
    "                                    [0, 1, 0, 0, -scan_y],\n",
    "                                    [0, 0, 1, 0, 0],\n",
    "                                    [0, 0, 0, 1, 0],\n",
    "                                    [0, 0, 0, 0, 1]])\n",
    "\n",
    "SampleDetMatrix = sp.Matrix([[1, 0, sample_to_det_z, 0, 0],\n",
    "                            [0, 1, 0, sample_to_det_z, 0],\n",
    "                            [0, 0, 1, 0, 0],\n",
    "                            [0, 0, 0, 1, 0],\n",
    "                            [0, 0, 0, 0, 1]])\n",
    "\n",
    "RotationMatrix = create_2d_rotation_matrix_5x5(rot, flip_y=True)\n",
    "\n",
    "TransferMatrix = SampleDetMatrix * RotationMatrix * DescannerMatrixError * DefocusMatrix\n",
    "\n",
    "transfer_equation = sp.Eq(out_coords, TransferMatrix * in_coords, evaluate=False)\n",
    "\n",
    "display(transfer_equation.simplify())\n",
    "\n",
    "x_out_eq = sp.Eq(out_coords[0], transfer_equation.rhs[0])\n",
    "y_out_eq = sp.Eq(out_coords[1], transfer_equation.rhs[1])\n",
    "\n",
    "r_sqr = x_out_eq.rhs ** 2 + y_out_eq.rhs ** 2\n",
    "theta_x_out_eq = sp.Eq(out_coords[2], transfer_equation.rhs[2])\n",
    "theta_y_out_eq = sp.Eq(out_coords[3], transfer_equation.rhs[3])\n",
    "\n",
    "#replace alpha with 0\n",
    "x_out_eq = x_out_eq.subs({semi_conv: 0})\n",
    "y_out_eq = y_out_eq.subs({semi_conv: 0})\n",
    "theta_x_out_eq = theta_x_out_eq.subs({semi_conv: 0})\n",
    "theta_y_out_eq = theta_y_out_eq.subs({semi_conv: 0})\n",
    "\n",
    "display(x_out_eq.simplify())\n",
    "display(y_out_eq.simplify())\n",
    "display(theta_x_out_eq)\n",
    "display(theta_y_out_eq)\n",
    "\n"
   ]
  },
  {
   "cell_type": "markdown",
   "metadata": {},
   "source": [
    "Begin by importing test image"
   ]
  },
  {
   "cell_type": "code",
   "execution_count": 4,
   "metadata": {},
   "outputs": [],
   "source": [
    "from scipy.ndimage import zoom\n",
    "\n",
    "sample_image = plt.imread(r'SilverFast_Resolution_Target_USAF_1951.png')[:, :, 0]\n",
    "image_shape = sample_image.shape\n",
    "\n",
    "#remove the black pixel border on the edges\n",
    "sample_image = sample_image[1:-1, 1:-1]\n",
    "\n",
    "# Downsample the sample_image by a factor of 2\n",
    "downsample_factor = 0.5\n",
    "sample_image = zoom(sample_image, downsample_factor)\n",
    "sample_image_shape = sample_image.shape\n",
    "\n",
    "\n",
    "sample_image = jnp.array(sample_image, dtype=jnp.complex64)\n"
   ]
  },
  {
   "cell_type": "markdown",
   "metadata": {},
   "source": [
    "Modelling Descan Error: In order to determine how the descan error description should look like, I thought only about what basic operations a descanner should apply so that we have a 5x5 coordinate transform that is still invertible, and I used jax to find where the operations I apply would populate the jacobian, which has helped me discover the following analysis. \n",
    "\n",
    "Importantly, even in the non-linear case (not yet demonstrated in this notebook but can be soon) we can always find a polynomial which we can then find roots of, that relate outgoing coordinates (positions and slopes), EXCEPT in certain circumstances like when a lens performs perfect imaging from the object plane to the image plane. In this case, there is no single angle that maps positions to positions. When certain coeffients in the polynomial description relating coordinates are zero, you will know you are in this regime, and there is no direct mapping. This is an advantage to this approach, that I don't see with an optimiser being sent at the model to find where rays go - with gradients in jax we will always be able to find a simpler polynomial we can find roots of (if certain terms exist) to tell us what angle ray will take us back to the input plane. \n",
    "\n",
    "All of this means that from my limited understanding so far I don't think an optimiser is entirely neccessary in the way it was implemented in pytorch: This does not mean I don't think an optimiser won't be needed to solve other parts of this problem, or be used in a different way, just strictly for ray tracing in this context: I can also write an optimiser to find where rays should go, and implement in jax if needed.\n",
    "\n",
    "For now though here is why I went with the approach of using gradients to obtain a polynomial coefficients to map one plane to another, and did not set out to demonstrate what you had in Pytorch:\n",
    "\n",
    "1: An optimiser won't understand if the setup of the system has a 1 to 1 mapping from input plane to output plane. With the polynomial coefficients I get from gradients, if the terms B (see matrix below) are zero, we know we are in perfect imaging and no unique angle mapping from input plane to output plane exists.  \n",
    "\n",
    "2: An optimiser won't understand if there are multiple solutions for paths through the system, where as with a polynomial description we know how many roots there are. \n",
    "\n",
    "3: One ray and it's gradients characterises the system and all it's coefficients each time with our nmethod. (It can even tell you the phase an amplitude of a local description around the wavefront if needed, not yet implemented), so we only need to send one ray through the system.\n",
    "\n",
    "With that noted here is the model we have for descan error:\n",
    "\n",
    "The overall matrix description we aiming for is as follows: (whereby we did not restrict ourselves to writing matrices for each component to discover the terms in this matrix, it's just a convenient representation. ***We have noted your critique for TemGym that components should be simple and apply basic operations, and not be restricted to matrices when writing this new version!***)\n",
    "\n",
    "***NOTE ABOUT TESTS:*** There are some tests for the absolute basics, but nothing for this 4D stem calibration now. That is next on my to do list also if you don't have time do so!\n",
    "\n",
    "$\\displaystyle \n",
    "\\left(\\begin{matrix} \n",
    "x_{out} \\\\[0.3em] \n",
    "y_{out} \\\\[0.3em] \n",
    "\\theta_{x-out} \\\\[0.3em] \n",
    "\\theta_{y-out} \\\\[0.3em]\n",
    "1 \n",
    "\\end{matrix}\\right)\n",
    "\\;=\\;\n",
    "\\left(\\begin{matrix} \n",
    "A_{xx} & A_{xy} & B_{xx} & B_{xy} & {\\Delta}x \\\\[0.5em] \n",
    "A_{yx} & A_{yy} & B_{yx} & B_{yy} & {\\Delta}y \\\\[0.5em] \n",
    "C_{xx} & C_{xy} & D_{xx} & D_{xy} & {\\Delta}\\theta_{x} \\\\[0.5em] \n",
    "C_{yx} & C_{yy} & D_{yx} & D_{yy} & {\\Delta}\\theta_{y} \\\\[0.5em] \n",
    "0      & 0      & 0      & 0      & 1 \n",
    "\\end{matrix}\\right)\n",
    "\\left(\\begin{matrix} \n",
    "x_{in} \\\\[0.3em] \n",
    "y_{in} \\\\[0.3em] \n",
    "\\theta_{x-in} \\\\[0.3em] \n",
    "\\theta_{y-in} \\\\[0.3em]\n",
    "1 \n",
    "\\end{matrix}\\right)$\n",
    "\n",
    "For an ideal descanner to perform it's job, and have a matrix that is invertible I have come up with the following:\n",
    "\n",
    "$\\displaystyle \n",
    "\\left(\\begin{matrix} \n",
    "x_{out} \\\\[0.3em] \n",
    "y_{out} \\\\[0.3em] \n",
    "\\theta_{x-out} \\\\[0.3em] \n",
    "\\theta_{y-out} \\\\[0.3em]\n",
    "1 \n",
    "\\end{matrix}\\right)\n",
    "\\;=\\;\n",
    "\\left(\\begin{matrix} \n",
    "1 & 0 & 0 & 0 & {\\Delta}scan-pos_x \\\\[0.5em]  \n",
    "0 & 1 & 0 & 0 & {\\Delta}scan-pos_y \\\\[0.5em]  \n",
    "0 & 0 & 1 & 0 & 0 \\\\[0.5em]  \n",
    "0 & 0 & 0 & 1 & 0 \\\\[0.5em]  \n",
    "0 & 0 & 0 & 0 & 1\n",
    "\\end{matrix}\\right)\n",
    "\\left(\\begin{matrix} \n",
    "x_{in} \\\\[0.3em] \n",
    "y_{in} \\\\[0.3em] \n",
    "\\theta_{x-in} \\\\[0.3em] \n",
    "\\theta_{y-in} \\\\[0.3em]\n",
    "1 \n",
    "\\end{matrix}\\right)$\n",
    "\n",
    "Where are the descan error terms in the matrix? \n",
    "\n",
    "Hidden in the Axx, Ayy and Cxx, Cyy positions: Axx and Ayy for descan position error, because they are the values \n",
    "that change outgoing position as a function of incoming position (A is actually the magnification value too in ABCD matrices). \n",
    "\n",
    "Cxx and Cyy because they are the values that affect outgoing angle as a function of incoming position.\n",
    "\n",
    "$\\displaystyle \n",
    "\\left(\\begin{matrix} \n",
    "x_{out} \\\\[0.3em] \n",
    "y_{out} \\\\[0.3em] \n",
    "\\theta_{x-out} \\\\[0.3em] \n",
    "\\theta_{y-out} \\\\[0.3em]\n",
    "1 \n",
    "\\end{matrix}\\right)\n",
    "\\;=\\;\n",
    "\\left(\\begin{matrix} \n",
    "DescanError \\; pos_{xx} & DescanError \\; pos_{xy} & 0 & 0 & {\\Delta}scan-pos_x \\\\[0.5em]  \n",
    "DescanError \\; pos_{yx} & DescanError \\; pos_{yy} & 0 & 0 & {\\Delta}scan-pos_y \\\\[0.5em]  \n",
    "DescanError \\; \\theta_{xx} & DescanError \\; \\theta_{xy} & 1 & 0 & 0 \\\\[0.5em]  \n",
    "DescanError \\; \\theta_{yx} & DescanError \\; \\theta_{yy} & 0 & 1 & 0 \\\\[0.5em]  \n",
    "0 & 0 & 0 & 0 & 1\n",
    "\\end{matrix}\\right)\n",
    "\\left(\\begin{matrix} \n",
    "x_{in} \\\\[0.3em] \n",
    "y_{in} \\\\[0.3em] \n",
    "\\theta_{x-in} \\\\[0.3em] \n",
    "\\theta_{y-in} \\\\[0.3em]\n",
    "1 \n",
    "\\end{matrix}\\right)$\n",
    "\n",
    "The bad news is this matrix changes it's ${\\Delta}scan-pos_x$ and ${\\Delta}scan-pos_y$ values each time, but the internal 4x4 matrix values are constant. \n",
    "\n",
    "Of course if there are mixed errors then they show up as cross terms in the matrix, and if there are errors as a function of input slope $\\theta_{in}$, they occupy the B and D quadrants. \n",
    "\n",
    "Ultimately, I think that in the linear case this should be the transfer matrix one is trying to figure out from the 4D stem dataset. \n"
   ]
  },
  {
   "cell_type": "markdown",
   "metadata": {},
   "source": [
    "Now we demonstrate the newer version of temgym to try and generate a forward model of the 4D stem overfocus experiment. \n",
    "\n",
    "***Set input Parameters***"
   ]
  },
  {
   "cell_type": "code",
   "execution_count": null,
   "metadata": {},
   "outputs": [],
   "source": [
    "# Linear Descan Error #1, 1, 0, 0 represents no descan pos or tilt error \n",
    "Axx, Ayy, Cxx, Cyy = 4, 3, -5, -4 # Normal Descan Error terms Axx, Ayy, Cxx, Cyy in transfer matrix\n",
    "Axy, Ayx, Cxy, Cyx = 6, -7, -3, 5 # Cross Descan Error terms Axy, Ayx, Cxy, Cyx in transfer matrix\n",
    "\n",
    "descan_error = [Axx, Axy, Ayx, Ayy, Cxx, Cxy, Cyx, Cyy]\n",
    "\n",
    "#Set up the parameters for the simulation\n",
    "defocus = 0.01\n",
    "semi_conv = 0.025\n",
    "camera_length = 1.0\n",
    "scan_size = sample_image_shape\n",
    "det_size = (64, 64)\n",
    "scan_px_size = 0.0001\n",
    "det_px_size= 0.002\n",
    "rotation = 90\n",
    "\n",
    "#Create ray input z plane\n",
    "crossover_z = jnp.zeros((1))"
   ]
  },
  {
   "cell_type": "code",
   "execution_count": 6,
   "metadata": {},
   "outputs": [],
   "source": [
    "# Set up the function to calculate the jacobian after propagation from one component to another\n",
    "# We can run multiple rays if we want, but no need for now. \n",
    "jac_run_to_component = jax.vmap(jax.jacobian(run_to_component), in_axes=(0, None))\n",
    "\n",
    "@jax.jit\n",
    "def run_model_for_jacobians(ray, model):\n",
    "\n",
    "    model_jacobians = []\n",
    "\n",
    "    # Get all jacobians from one component to another\n",
    "    for i in range(1, len(model)):\n",
    "        distance = (model[i-1].z - ray.z).squeeze()\n",
    "        ray = propagate(distance, ray)\n",
    "        ray = model[i-1].step(ray)\n",
    "        \n",
    "        jacobian = jac_run_to_component(ray, model[i])\n",
    "        model_jacobians.append({\n",
    "            'jacobian': jacobian\n",
    "        })\n",
    "\n",
    "    # Edit the jacobian matrices to include shifts calculated \n",
    "    # from the opl derivative\n",
    "    each_ABCD = [] #ABCD matrices at each component\n",
    "    total_ABCD = jnp.eye(5)\n",
    "\n",
    "    for jacobian in model_jacobians:\n",
    "        ray_jacobian = jacobian['jacobian'] #dr_out/dr_in\n",
    "        shift_vectors = ray_jacobian.pathlength.matrix # This is the shift vector for each ray, dopl_out/dr_in\n",
    "        ABCD = ray_jacobian.matrix.matrix # This is the ABCD matrix for each ray, dr_out/dr_in\n",
    "        ABCD = ABCD.at[0, :, -1].set(shift_vectors[0, :])\n",
    "        ABCD = ABCD.at[0, -1, -1].set(1.0) # \n",
    "        each_ABCD.append(ABCD)\n",
    "        total_ABCD = ABCD @ total_ABCD\n",
    "\n",
    "    return model_jacobians, each_ABCD, total_ABCD, ray\n",
    "\n",
    "@jax.jit\n",
    "def run_model_for_rays(model, each_ABCD, input_slopes, scan_position):\n",
    "    #Given input model and it's transfer matrix, run the model to find the positions of the rays at the sample and detector\n",
    "\n",
    "    scan_pos_y, scan_pos_x = scan_position\n",
    "\n",
    "    input_slopes_x = input_slopes[0]\n",
    "    input_slopes_y = input_slopes[1]\n",
    "\n",
    "    # Make the input rays we can run through one last time in the model to find positions at sample and detector\n",
    "    rays_at_source_with_semi_conv = jnp.vstack([\n",
    "        jnp.full(len(input_slopes_x), scan_pos_x),\n",
    "        jnp.full(len(input_slopes_y), scan_pos_y),\n",
    "        input_slopes_x,\n",
    "        input_slopes_y,\n",
    "        jnp.ones_like(input_slopes_x)\n",
    "    ])\n",
    "\n",
    "    # Propagate the point source coordinates through the forward ABCD matrices\n",
    "    coord_list = [rays_at_source_with_semi_conv]\n",
    "    for ABCD in each_ABCD:\n",
    "        new_coord = jnp.dot(ABCD[0], coord_list[-1])\n",
    "        coord_list.append(new_coord)\n",
    "        \n",
    "    # Stack the propagated coordinates into an array for easier indexing\n",
    "    coords_array = jnp.stack(coord_list, axis=0)\n",
    "    \n",
    "    xs = coords_array[:, 0, :]\n",
    "    ys = coords_array[:, 1, :]\n",
    "    zs = jnp.array([comp.z for comp in model])\n",
    "\n",
    "    return xs, ys, zs\n",
    "\n",
    "@jax.jit\n",
    "def find_input_slopes_that_hit_detpx_from_pt_source_with_semiconv(pixel_coords, scan_pos, semi_conv, transformation_matrix):\n",
    "    \"\"\"\n",
    "    Given a set of detector pixel coordinates, a semi-convergence angle from a source, and a transformation matrix, find a mask that tells us \n",
    "    what slopes will hit the detector pixels from the point source.\n",
    "\n",
    "    Args:\n",
    "    - pixel_coords (jnp.array): A (N, 2) array of pixel coordinates in y, x format.\n",
    "    - scan_pos (jnp.array): A (2,) array of the scan position in x and y format.\n",
    "    - semi_conv (float): The semi-convergence angle of the point source.q\n",
    "    - transformation_matrix (jnp.array): A (5, 5) transformation matrix.\n",
    "    \"\"\"\n",
    "    # We rely on the fact that theta_x_in**2 + theta_y_in**2 = semi_conv**2, \n",
    "    # which can be evaluated to find all pixels less than any semi_conv from the point source \n",
    "    # For a point source, our system of equations is:\n",
    "    # [x_out, y_out, theta_x_out, theta_y_out, 1] = transformation_matrix @ [scan_pos_x, scan_pos_y, theta_x_in, theta_y_in, 1]\n",
    "    # where theta_x_in and theta_y_in are given by alpha * cos(phi) and alpha * sin(phi), with alpha being the semi convergence angle\n",
    "    # and phi the azimuthal angle of a ray from the point source. This is a parametric equation for a cone of rays from the point source\n",
    "    # giving us the means to find a mask, which will tell us which slopes will hit the detector pixel from the point source for a given semi_conv.\n",
    "    scan_pos_y, scan_pos_x = scan_pos\n",
    "    A_xx, A_xy, B_xx, B_xy = transformation_matrix[0, :4] # Select first row not including the last column of values from the 5x5 transfer matrix\n",
    "    A_yx, A_yy, B_yx, B_yy = transformation_matrix[1, :4] # Select second row not including the last column of values from the 5x5 transfer matrix\n",
    "    delta_x, delta_y = transformation_matrix[0, 4], transformation_matrix[1, 4] # Get the shift values from the final column of the transfer matrix\n",
    "    y_out, x_out = pixel_coords[:, 0], pixel_coords[:, 1]\n",
    "\n",
    "    denom = (B_xx*B_yy - B_xy*B_yx)\n",
    "    theta_x_in = (-A_xx*B_yy*scan_pos_x - A_xy*B_yy*scan_pos_y + A_yx*B_xy*scan_pos_x + \n",
    "         A_yy*B_xy*scan_pos_y + B_xy*delta_y - B_xy*y_out - B_yy*delta_x + B_yy*x_out) / denom\n",
    "    theta_y_in = (A_xx*B_yx*scan_pos_x + A_xy*B_yx*scan_pos_y - A_yx*B_xx*scan_pos_x - \n",
    "         A_yy*B_xx*scan_pos_y - B_xx*delta_y + B_xx*y_out + B_yx*delta_x - B_yx*x_out) / denom\n",
    "    F = (theta_x_in**2 + theta_y_in**2) - semi_conv **2\n",
    "    mask = F <= 0\n",
    "    input_slopes_x_masked = jnp.where(mask, theta_x_in, 0.0)\n",
    "    input_slopes_y_masked = jnp.where(mask, theta_y_in, 0.0)\n",
    "    input_slopes_masked = jnp.stack([input_slopes_x_masked, input_slopes_y_masked])\n",
    "    \n",
    "    return input_slopes_masked, mask\n",
    "    \n",
    "@jax.jit\n",
    "def map_px_on_sample_to_detector(sample_image, detector_image,\n",
    "                                 sample_pixel_size, det_pixel_size,\n",
    "                                 ray_sample_coords_x, ray_sample_coords_y,\n",
    "                                 ray_det_coords_x, ray_det_coords_y):\n",
    "    \"\"\"\n",
    "    Map the pixel values from the sample to the detector image.\n",
    "    \"\"\"\n",
    "    sample_image_shape = sample_image.shape  # (n_rows, n_cols)\n",
    "    detector_image_shape = detector_image.shape\n",
    "\n",
    "    # Create an interpolant defined on the image grid (note image indexing is row, col)\n",
    "    y = jnp.arange(sample_image_shape[0])\n",
    "    x = jnp.arange(sample_image_shape[1])\n",
    "\n",
    "    image_interpolant = RegularGridInterpolator((y, x), sample_image,\n",
    "                                                bounds_error=False, fill_value=1.0)\n",
    "\n",
    "    sample_pixel_xs = ray_sample_coords_x / sample_pixel_size + sample_image_shape[1] / 2\n",
    "    sample_pixel_ys = ray_sample_coords_y / sample_pixel_size + sample_image_shape[0] / 2\n",
    "\n",
    "    sample_pts = jnp.stack([sample_pixel_ys, sample_pixel_xs], axis=-1)\n",
    "    \n",
    "    # Get the pixel values from the image using nearest neighbor interpolation\n",
    "    sample_px_hit_by_rays = image_interpolant(sample_pts, method='nearest')\n",
    "\n",
    "    det_pixel_xs = (ray_det_coords_x / det_pixel_size) + detector_image_shape[1] / 2\n",
    "    det_pixel_ys = (ray_det_coords_y / det_pixel_size) + detector_image_shape[0] / 2\n",
    "    \n",
    "    det_pixel_xs = jnp.round(det_pixel_xs).astype(jnp.int32)\n",
    "    det_pixel_ys = jnp.round(det_pixel_ys).astype(jnp.int32)\n",
    "    \n",
    "    # detector_image = jnp.zeros(detector_image_shape, dtype=jnp.complex64)\n",
    "    det_image = detector_image.at[(det_pixel_ys, det_pixel_xs)].set(sample_px_hit_by_rays)\n",
    "    \n",
    "    return det_image\n"
   ]
  },
  {
   "cell_type": "markdown",
   "metadata": {},
   "source": [
    "Create the model: Just 3 components: Sample, Descanner and Detector, and create a forward dataset. ***Warning:*** this will probably take a minute or two to complete on a modern workstation.\n",
    "\n",
    "\n",
    "**Note:** there is one small extra trick to fill in the final column of the matrix as the partial derivative of a constant shift value is 0, so the jacobian will not tell us the shift or tilt delta that was applied by the decsanner. We are storing those values in the path length function of the descanner, which is a bit of a fudge for now: Ultimately, all of the terms in the coordinate transform should actually be calculated by differentiating an optical path length function, because the optical path length is the generating function behind the coordinate transform (It is to do with the optical path length representing the lagrangian of the system). For now though to keep it simple I just use optical path length to store shift and tilt deltas."
   ]
  },
  {
   "cell_type": "code",
   "execution_count": null,
   "metadata": {},
   "outputs": [
    {
     "data": {
      "application/vnd.jupyter.widget-view+json": {
       "model_id": "fb66f188221c4002a81c42ccd20c8ff5",
       "version_major": 2,
       "version_minor": 0
      },
      "text/plain": [
       "Scan Y:   0%|          | 0/103 [00:00<?, ?it/s]"
      ]
     },
     "metadata": {},
     "output_type": "display_data"
    }
   ],
   "source": [
    "InputPlane = comp.InputPlane(z=crossover_z)\n",
    "Sample = comp.Sample(z=jnp.array([defocus]), complex_image=sample_image, pixel_size=scan_px_size)\n",
    "Descanner = comp.Descanner(z=jnp.array([defocus]), descan_error=descan_error, offset_x=0.0, offset_y=0.0)\n",
    "Rotator = comp.Rotator(z=jnp.array([defocus]), angle=rotation)\n",
    "Detector = comp.Detector(z=jnp.array([camera_length]), shape=det_size, pixel_size=det_px_size)\n",
    "init_model = [InputPlane, Sample, Descanner, Rotator, Detector]\n",
    "\n",
    "sample_coords = Sample.get_coords()\n",
    "detector_coords = Detector.get_coords()\n",
    "\n",
    "beam_radius_on_sample = defocus * semi_conv\n",
    "\n",
    "det_coords_y = detector_coords[:, 0]\n",
    "det_coords_x = detector_coords[:, 1]\n",
    "\n",
    "sample_coords_y = sample_coords[:, 0]\n",
    "sample_coords_x = sample_coords[:, 1]\n",
    "\n",
    "#Only select coordinates in sample_coords which are 1 beam radius in from the edge of the sample\n",
    "sample_coords = sample_coords.reshape((*sample_image_shape, 2))\n",
    "\n",
    "fourdstem_array = np.zeros((scan_size+det_size), dtype=np.complex64)\n",
    "\n",
    "x_out_centre = []\n",
    "y_out_centre = []\n",
    "x_out_centre_rm = []\n",
    "y_out_centre_rm = []\n",
    "\n",
    "scan_x_in = []\n",
    "scan_y_in = []\n",
    "\n",
    "for scan_idx_y in tqdm.trange(sample_image_shape[0], desc='Scan Y'):\n",
    "    for scan_idx_x in range(sample_image_shape[1]):\n",
    "        scan_pos = sample_coords[scan_idx_y, scan_idx_x] #Y X coords\n",
    "\n",
    "        # Make the input ray\n",
    "        input_ray_positions = jnp.vstack([\n",
    "            scan_pos[1], # x\n",
    "            scan_pos[0], # y\n",
    "            jnp.array([0.0]), # dx\n",
    "            jnp.array([0.0]), # dy\n",
    "            jnp.ones((1))\n",
    "        ]).T\n",
    "\n",
    "        ray = Ray(z=InputPlane.z, \n",
    "                matrix=input_ray_positions, \n",
    "                amplitude=jnp.ones(1), \n",
    "                pathlength=jnp.zeros(1), \n",
    "                wavelength=jnp.ones(1),\n",
    "                blocked=jnp.zeros(1, dtype=float))\n",
    "        \n",
    "        #Make a new descanner with the new scan position, and update the model\n",
    "        Descanner = comp.Descanner(z=jnp.array([defocus]), descan_error=descan_error, offset_x=scan_pos[1], offset_y=scan_pos[0])\n",
    "\n",
    "        ## NOTE - We are making a new model each time also as requested in the design of TemGym in January. Model creation is never fixed. \n",
    "        model = [InputPlane, Sample, Descanner, Rotator, Detector]\n",
    "\n",
    "        # Run the model to get the jacobians of output with respect to input\n",
    "        model_jacobians, each_ABCD, total_ABCD, ray = run_model_for_jacobians(ray, model)\n",
    "\n",
    "        # Now for the most important function in here: \n",
    "        input_slopes, mask = find_input_slopes_that_hit_detpx_from_pt_source_with_semiconv(detector_coords, scan_pos, semi_conv, total_ABCD[0])\n",
    "\n",
    "        # Run the model for the rays at each plane\n",
    "        xs, ys, zs = run_model_for_rays(model, each_ABCD, input_slopes, scan_pos)\n",
    "\n",
    "        ray_sample_coords_x, ray_sample_coords_y = xs[1], ys[1] # The ray coordinates at the sample plane\n",
    "        ray_det_coords_x, ray_det_coords_y = xs[-1], ys[-1] # The ray coordinates at the detector plane\n",
    "\n",
    "        detector_image = jnp.zeros(det_size, dtype=jnp.complex64)\n",
    "        det_image = map_px_on_sample_to_detector(sample_image, \n",
    "                                                    detector_image, \n",
    "                                                    scan_px_size, \n",
    "                                                    det_px_size, \n",
    "                                                    ray_sample_coords_x, \n",
    "                                                    ray_sample_coords_y, \n",
    "                                                    ray_det_coords_x, \n",
    "                                                    ray_det_coords_y)\n",
    "        \n",
    "        fourdstem_array[scan_idx_y, scan_idx_x] = det_image"
   ]
  },
  {
   "cell_type": "code",
   "execution_count": 8,
   "metadata": {},
   "outputs": [],
   "source": [
    "np.save(\"fourdstem_overfocused.npy\", fourdstem_array)"
   ]
  },
  {
   "cell_type": "code",
   "execution_count": 9,
   "metadata": {},
   "outputs": [
    {
     "data": {
      "application/vnd.jupyter.widget-view+json": {
       "model_id": "3efcf7abc31a4144a3f2ba532d8d03dd",
       "version_major": 2,
       "version_minor": 0
      },
      "image/png": "[encoded data removed]",
      "text/html": [
       "\n",
       "            <div style=\"display: inline-block;\">\n",
       "                <div class=\"jupyter-widgets widget-label\" style=\"text-align: center;\">\n",
       "                    Figure\n",
       "                </div>\n",
       "                <img src='data:image/png;base64,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' width=1000.0/>\n",
       "            </div>\n",
       "        "
      ],
      "text/plain": [
       "Canvas(toolbar=Toolbar(toolitems=[('Home', 'Reset original view', 'home', 'home'), ('Back', 'Back to previous …"
      ]
     },
     "metadata": {},
     "output_type": "display_data"
    }
   ],
   "source": [
    "scan_idx_x, scan_idx_y = 45, 45\n",
    "det_image_selected = fourdstem_array[scan_idx_y, scan_idx_x]\n",
    "fig, ax = plt.subplots(1, 2, figsize=(10, 5))\n",
    "ax[0].imshow(np.abs(sample_image), \n",
    "             cmap='gray')\n",
    "ax[0].scatter(scan_idx_x, scan_idx_y, c='r', marker='x', alpha=1)\n",
    "ax[0].set_title('Sample')\n",
    "\n",
    "ax[1].imshow(np.abs(det_image_selected), cmap='gray')\n",
    "ax[1].axhline(detector_image.shape[0]/2, color='lightgrey', linestyle='--')\n",
    "ax[1].axvline(detector_image.shape[1]/2, color='lightgrey', linestyle='--')\n",
    "ax[1].set_title('Detector Image')\n",
    "plt.show()"
   ]
  }
 ],
 "metadata": {
  "kernelspec": {
   "display_name": "temgym",
   "language": "python",
   "name": "python3"
  },
  "language_info": {
   "codemirror_mode": {
    "name": "ipython",
    "version": 3
   },
   "file_extension": ".py",
   "mimetype": "text/x-python",
   "name": "python",
   "nbconvert_exporter": "python",
   "pygments_lexer": "ipython3",
   "version": "3.12.6"
  }
 },
 "nbformat": 4,
 "nbformat_minor": 2
}
