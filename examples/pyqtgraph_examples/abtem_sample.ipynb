{
 "cells": [
  {
   "cell_type": "code",
   "execution_count": null,
   "metadata": {},
   "outputs": [],
   "source": [
    "import ase\n",
    "import numpy as np\n",
    "import abtem\n",
    "import matplotlib.pyplot as plt\n",
    "from typing import Tuple, NamedTuple\n",
    "\n",
    "%config InlineBackend.rc = {\"figure.dpi\": 72, \"figure.figsize\": (6.0, 4.0)}\n",
    "%matplotlib ipympl\n",
    "\n",
    "# atoms = ase.Atoms(\n",
    "#     \"Si2\", positions=[(1.0, 2.0, 1.0), (3.0, 2.0, 1.0)], cell=[4, 4, 2]\n",
    "# )\n",
    "\n",
    "atoms = ase.Atoms(\n",
    "    \"Si1\", positions=[(2.0, 2.0, 1.0),], cell=[4, 4, 2]\n",
    ")\n",
    "\n",
    "\n",
    "phi_0 = 100e3\n",
    "\n",
    "fig, (ax1, ax2) = plt.subplots(1, 2, figsize=(12, 4))\n",
    "abtem.show_atoms(atoms, ax=ax1, title=\"Beam view\", numbering=True, merge=False)\n",
    "abtem.show_atoms(atoms, ax=ax2, plane=\"xz\", title=\"Side view\", legend=True)\n",
    "\n",
    "potential = abtem.Potential(atoms, sampling=0.04, projection=\"infinite\")\n",
    "\n",
    "potential_array = potential.build().project().compute()\n",
    "pot_array = np.flip(potential_array.array, axis=0)\n"
   ]
  },
  {
   "cell_type": "code",
   "execution_count": null,
   "metadata": {},
   "outputs": [],
   "source": [
    "class PlotParams(NamedTuple):\n",
    "    num_rays: int = 10\n",
    "    ray_color: str = 'dimgray'\n",
    "    fill_color: str = 'aquamarine'\n",
    "    fill_color_pair: Tuple[str, str] = ('khaki', 'deepskyblue')\n",
    "    fill_alpha: float = 0.0\n",
    "    ray_alpha: float = 1.\n",
    "    component_lw: float = 1.\n",
    "    edge_lw: float = 1.\n",
    "    ray_lw: float = 1.\n",
    "    label_fontsize: int = 12\n",
    "    figsize: Tuple[int, int] = (6, 6)\n",
    "    extent_scale: float = 1.1\n"
   ]
  },
  {
   "cell_type": "code",
   "execution_count": null,
   "metadata": {},
   "outputs": [],
   "source": [
    "visualization = potential.show(\n",
    "    project=True,\n",
    "    explode=True,\n",
    "    figsize=(16, 5),\n",
    "    common_color_scale=True,\n",
    "    cbar=True,\n",
    ")"
   ]
  },
  {
   "cell_type": "code",
   "execution_count": null,
   "metadata": {},
   "outputs": [],
   "source": [
    "x1 = 1.0\n",
    "atom_spacing = 3.0\n",
    "x2 = x1 + atom_spacing\n",
    "x_centre = 10.0\n",
    "x0 = x_centre - (x1) - atom_spacing/2\n",
    "z = 30\n",
    "# atoms = ase.Atoms(\n",
    "#     \"Si2\", positions=[(x0+x1, x_centre, z), (x0+x2, x_centre, z)], cell=[x_centre*2, x_centre*2, 60]\n",
    "# )\n",
    "\n",
    "atoms = ase.Atoms(\n",
    "    \"Si1\", positions=[(x_centre, x_centre, z)], cell=[x_centre*2, x_centre*2, 60]\n",
    ")\n",
    "\n",
    "phi_0 = 100e3\n",
    "\n",
    "fig, (ax1, ax2) = plt.subplots(1, 2, figsize=(12, 4))\n",
    "abtem.show_atoms(atoms, ax=ax1, title=\"Beam view\", numbering=True, merge=False)\n",
    "abtem.show_atoms(atoms, ax=ax2, plane=\"xz\", title=\"Side view\", legend=True)\n",
    "\n",
    "potential = abtem.Potential(atoms, sampling=0.01, projection=\"infinite\")\n",
    "\n",
    "potential_array = potential.build().project().compute()\n"
   ]
  },
  {
   "cell_type": "code",
   "execution_count": null,
   "metadata": {},
   "outputs": [],
   "source": [
    "visualization = potential.show(\n",
    "    project=True,\n",
    "    explode=True,\n",
    "    figsize=(16, 5),\n",
    "    common_color_scale=True,\n",
    "    cbar=True,\n",
    ")"
   ]
  },
  {
   "cell_type": "code",
   "execution_count": null,
   "metadata": {},
   "outputs": [],
   "source": [
    "plt.figure()\n",
    "plt.imshow(potential_array.array.T)"
   ]
  },
  {
   "cell_type": "code",
   "execution_count": null,
   "metadata": {},
   "outputs": [],
   "source": [
    "from scipy.interpolate import RegularGridInterpolator as RGI\n",
    "\n",
    "from temgymbasic.model import (\n",
    "    Model,\n",
    ")\n",
    "import temgymbasic.components as comp\n",
    "from temgymbasic.rays import Rays\n",
    "\n",
    "num_rays = 100\n",
    "\n",
    "x0 = -10 * 1e-10\n",
    "y0 = -10 * 1e-10\n",
    "\n",
    "extent = np.array(potential.extent) * 1e-10\n",
    "gpts = potential.gpts\n",
    "x = np.linspace(x0, x0 + extent[0], gpts[0], endpoint=True)\n",
    "y = np.linspace(y0, y0 + extent[1], gpts[1], endpoint=True)\n",
    "xx, yy = np.meshgrid(x, y, indexing='ij')\n",
    "\n",
    "phi_r = potential_array.array.T  # Be very careful with this - transpose only works because we have symmetry!\n",
    "\n",
    "pot_interp = RGI([x, y], phi_r, method='linear', bounds_error=False, fill_value=0.0)\n",
    "Ey, Ex = np.gradient(phi_r, x, y)\n",
    "Ex_interp = RGI([x, y], Ex, method='linear', bounds_error=False, fill_value=0.0)\n",
    "Ey_interp = RGI([x, y], Ey, method='linear', bounds_error=False, fill_value=0.0)\n",
    "\n",
    "plt.figure()\n",
    "plt.imshow(Ex)\n",
    "\n",
    "plt.figure()\n",
    "plt.imshow(Ey)\n",
    "detector_pixels = 2000\n",
    "components = (\n",
    "    comp.ParallelBeam(\n",
    "        z=-60e-10,\n",
    "        radius=10e-10,\n",
    "        phi_0=phi_0\n",
    "    ),\n",
    "    comp.PotentialSample(\n",
    "        z=-30e-10,\n",
    "        potential=pot_interp,\n",
    "        Ex=Ex_interp,\n",
    "        Ey=Ey_interp,\n",
    "    ),\n",
    "    comp.Detector(\n",
    "        z=0,\n",
    "        pixel_size=1e-11,\n",
    "        shape=(200, 200),\n",
    "    ),\n",
    ")\n",
    "\n",
    "\n",
    "model = Model(components)\n",
    "rays = tuple(model.run_iter(num_rays=num_rays))\n",
    "x = np.stack(tuple(r.x for r in rays), axis=0)\n",
    "y = np.stack(tuple(r.y for r in rays), axis=0)\n",
    "z = np.asarray(tuple(r.z for r in rays))\n",
    "\n",
    "fig, ax = plt.subplots()\n",
    "ax.plot(x, z, '-r')\n",
    "\n",
    "max_x = 12e-10\n",
    "min_x = -12e-10\n",
    "min_z = np.min([np.min(z)] + [c.z for c in model.components])\n",
    "max_z = np.max([np.max(z)] + [c.z for c in model.components])\n",
    "\n",
    "ax.set_xlim([-max_x, max_x])\n",
    "ax.set_ylim([max_z, min_z])"
   ]
  },
  {
   "cell_type": "code",
   "execution_count": null,
   "metadata": {},
   "outputs": [],
   "source": [
    "phi_0 = 100e3\n",
    "plane_wave = abtem.PlaneWave(energy=100e3)\n",
    "exit_wave = plane_wave.multislice(potential)\n",
    "exit_wave.compute()"
   ]
  },
  {
   "cell_type": "code",
   "execution_count": null,
   "metadata": {},
   "outputs": [],
   "source": [
    "exit_wave.intensity().show(cbar=True)\n",
    "intensity = exit_wave.intensity().compute()"
   ]
  },
  {
   "cell_type": "code",
   "execution_count": null,
   "metadata": {},
   "outputs": [],
   "source": [
    "lineprofile = intensity.interpolate_line_at_position(\n",
    "    center=(10, 10), angle=0, extent=20\n",
    ")\n",
    "lineprofile.show()"
   ]
  },
  {
   "cell_type": "code",
   "execution_count": null,
   "metadata": {},
   "outputs": [],
   "source": [
    "potential_series = abtem.Potential(\n",
    "    atoms, slice_thickness=0.05, sampling=0.04, exit_planes=2\n",
    ")\n",
    "\n",
    "exit_wave_series = plane_wave.multislice(potential_series).compute()"
   ]
  },
  {
   "cell_type": "code",
   "execution_count": null,
   "metadata": {},
   "outputs": [],
   "source": [
    "print(exit_wave_series.shape)\n",
    "\n",
    "plt.figure()\n",
    "plt.imshow(np.abs(exit_wave_series.array[:, :, 250]**2), extent=[0, 20, 0, 60], cmap='viridis', aspect='auto')\n",
    "plt.xlabel('x [Å]')\n",
    "plt.ylabel('z [Å]')\n",
    "plt.plot(x*1e10 + 10, -1*z*1e10, '-r')\n",
    "plt.xlim([0, 20.0])\n"
   ]
  },
  {
   "cell_type": "code",
   "execution_count": null,
   "metadata": {},
   "outputs": [],
   "source": [
    "model = Model(components)\n",
    "rays = tuple(model.run_iter(num_rays=2**20))\n",
    "wavefront = model.detector.get_image(rays[-1])\n",
    "\n",
    "plt.figure()\n",
    "plt.imshow(np.abs(wavefront)**2, extent=[0, 20, 0, 20])"
   ]
  }
 ],
 "metadata": {
  "kernelspec": {
   "display_name": "Python 3",
   "language": "python",
   "name": "python3"
  },
  "language_info": {
   "codemirror_mode": {
    "name": "ipython",
    "version": 3
   },
   "file_extension": ".py",
   "mimetype": "text/x-python",
   "name": "python",
   "nbconvert_exporter": "python",
   "pygments_lexer": "ipython3",
   "version": "3.11.8"
  }
 },
 "nbformat": 4,
 "nbformat_minor": 2
}
