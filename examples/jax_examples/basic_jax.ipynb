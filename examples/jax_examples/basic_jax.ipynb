{
 "cells": [
  {
   "cell_type": "code",
   "execution_count": 1,
   "metadata": {},
   "outputs": [],
   "source": [
    "import temgymbasic.jax_components as comp\n",
    "from temgymbasic.jax_run import run_to_end\n",
    "from temgymbasic.jax_ray import Ray\n",
    "from temgymbasic.jax_source import ParallelBeam\n",
    "import jax.numpy as jnp\n",
    "import jax\n",
    "# from .utils import circular_beam, point_beam"
   ]
  },
  {
   "cell_type": "code",
   "execution_count": 2,
   "metadata": {},
   "outputs": [],
   "source": [
    "model = [comp.Lens(z= 0.5, focal_length=0.1),\n",
    "         comp.DoubleDeflector(z=0.325,\n",
    "                             first=comp.Deflector(z=0.3, def_x=0.1, def_y=0.0), \n",
    "                             second=comp.Deflector(z=0.35, def_x=0.1, def_y=0.0)),\n",
    "         comp.Biprism(z=0.75, deflection=0.001),\n",
    "         comp.Aperture(z=0.8, radius=0.01),\n",
    "         comp.Detector(z=2.0, pixel_size=0.01, shape=(100, 100))]\n",
    "\n",
    "n_rays = 1\n",
    "n_rays_dim = int(jnp.sqrt(n_rays))\n",
    "\n",
    "input_amplitude = 1.0\n",
    "input_pathlength = 0.0\n",
    "input_wavelength = 1.0\n",
    "\n",
    "# Prepare multiple input rays (each row is a separate ray)\n",
    "r1mx = jnp.linspace(-0.1, 0.1, n_rays_dim) #x off set\n",
    "r1my = jnp.linspace(-0.1, 0.1, n_rays_dim) #y off set\n",
    "r1m = jnp.stack(jnp.meshgrid(r1mx, r1my), axis=-1).reshape(2, -1)\n",
    "\n",
    "theta1mx = jnp.linspace(-0.1, 0.1, n_rays_dim) #dx off set\n",
    "theta1my = jnp.linspace(-0.1, 0.1, n_rays_dim) #dy off set\n",
    "theta1m = jnp.stack(jnp.meshgrid(theta1mx, theta1my), axis=-1).reshape(2, -1)\n",
    "\n",
    "#Create ray input\n",
    "input_z = jnp.zeros((n_rays))\n",
    "input_matrix = jnp.vstack([r1m[0, :], r1m[1, :], theta1m[0, :], theta1m[1, :], jnp.ones((n_rays))]).T\n",
    "input_amplitude = jnp.ones((n_rays))\n",
    "input_pathlength = jnp.zeros((n_rays))\n",
    "input_wavelength = jnp.ones((n_rays))\n",
    "\n",
    "Rays = Ray(z=input_z, \n",
    "           matrix=input_matrix, \n",
    "           amplitude=input_amplitude, \n",
    "           pathlength=input_pathlength, \n",
    "           wavelength=input_wavelength)\n",
    "\n",
    "\n",
    "def create_ray(ray):\n",
    "    return Ray(z=ray.z, \n",
    "               matrix=ray.matrix,\n",
    "               amplitude=ray.amplitude,\n",
    "               pathlength=ray.pathlength,\n",
    "               wavelength=ray.wavelength)\n",
    "\n",
    "# vmap over run_model to process each ray in rays_input\n",
    "\n",
    "# Method 1\n",
    "batched_run_model_one_ray = jax.jit(jax.vmap(lambda r: run_to_end(create_ray(r), model)))\n",
    "all_rays1 = batched_run_model_one_ray(Rays)\n",
    "\n",
    "# Method 2\n",
    "batched_run_model_array_of_rays = jax.jit(jax.vmap(run_to_end, in_axes=(0, None)))\n",
    "all_rays2 = batched_run_model_array_of_rays(Rays, model)\n",
    "\n",
    "# Method 3\n",
    "all_rays3 = jax.jit(run_to_end)(Ray(z=0.0, \n",
    "                                         matrix=input_matrix, \n",
    "                                         amplitude=1., \n",
    "                                         pathlength=0., \n",
    "                                         wavelength=1.),\n",
    "                                         model)"
   ]
  },
  {
   "cell_type": "code",
   "execution_count": 3,
   "metadata": {},
   "outputs": [
    {
     "name": "stdout",
     "output_type": "stream",
     "text": [
      "True\n",
      "True\n",
      "True\n"
     ]
    }
   ],
   "source": [
    "# Test the the output ray matrix of all 3 methods is the same\n",
    "print(jnp.allclose(all_rays1, all_rays2))\n",
    "print(jnp.allclose(all_rays2, all_rays3))\n",
    "print(jnp.allclose(all_rays1, all_rays3))"
   ]
  },
  {
   "cell_type": "code",
   "execution_count": 4,
   "metadata": {},
   "outputs": [
    {
     "name": "stderr",
     "output_type": "stream",
     "text": [
      "\\\\grenfshome01\\DL277493\\TemGym\\src\\temgymbasic\\jax_utils.py:166: UserWarning: Explicitly requested dtype <class 'jax.numpy.float64'> requested in zeros is not available, and will be truncated to dtype float32. To enable more dtypes, set the jax_enable_x64 configuration option or the JAX_ENABLE_X64 shell environment variable. See https://github.com/jax-ml/jax#current-gotchas for more.\n",
      "  matrix = jnp.zeros(\n"
     ]
    },
    {
     "data": {
      "text/plain": [
       "Array([[-0.04117647, -0.07131974, -0.02941176, -0.05094267,  1.        ],\n",
       "       [-0.04117647, -0.07131974, -0.02941176, -0.05094267,  1.        ],\n",
       "       [-0.04117647, -0.07131974, -0.02941176, -0.05094267,  1.        ],\n",
       "       ...,\n",
       "       [-1.3978741 , -0.07712287, -0.9984815 , -0.05508776,  1.        ],\n",
       "       [-1.3978741 , -0.07712287, -0.9984815 , -0.05508776,  1.        ],\n",
       "       [-1.3978741 , -0.07712287, -0.9984815 , -0.05508776,  1.        ]],      dtype=float32)"
      ]
     },
     "execution_count": 4,
     "metadata": {},
     "output_type": "execute_result"
    }
   ],
   "source": [
    "Rays = ParallelBeam(z=0,\n",
    "                    radius=0.1,\n",
    "                    n_rays=1024,\n",
    "                    random=False,\n",
    "                    voltage=1.0)\n",
    "                    \n",
    "batched_run_model_one_ray(Rays)"
   ]
  },
  {
   "cell_type": "code",
   "execution_count": 5,
   "metadata": {},
   "outputs": [
    {
     "name": "stdout",
     "output_type": "stream",
     "text": [
      "23.7 μs ± 276 ns per loop (mean ± std. dev. of 7 runs, 10,000 loops each)\n"
     ]
    }
   ],
   "source": [
    "%timeit batched_run_model_array_of_rays(Rays, model)"
   ]
  },
  {
   "cell_type": "code",
   "execution_count": 6,
   "metadata": {},
   "outputs": [
    {
     "name": "stdout",
     "output_type": "stream",
     "text": [
      "22.7 μs ± 308 ns per loop (mean ± std. dev. of 7 runs, 10,000 loops each)\n"
     ]
    }
   ],
   "source": [
    "func = jax.jit(run_to_end)\n",
    "%timeit func(Ray(z=0.0, matrix=input_matrix, amplitude=1., pathlength=0., wavelength=1.), model)"
   ]
  },
  {
   "cell_type": "code",
   "execution_count": 7,
   "metadata": {},
   "outputs": [],
   "source": [
    "# Method 1\n",
    "batched_dro_dri = jax.vmap(lambda ray: jax.jacobian(run_to_end, argnums=0)(ray, model))\n",
    "dro_dri = batched_dro_dri(Rays)\n",
    "\n",
    "# # Method 2\n",
    "batched_run_model_array_of_rays = jax.vmap(jax.jacobian(run_to_end), in_axes=(0, None))\n",
    "dro_dri = batched_run_model_array_of_rays(Rays, model)\n",
    "\n",
    "\n",
    "# Method 3\n",
    "dro_dri = jax.jacobian(run_to_end, argnums=0)(Ray(z=0.0, matrix=input_matrix, amplitude=1., pathlength=0., wavelength=1.), model)\n"
   ]
  },
  {
   "cell_type": "code",
   "execution_count": 8,
   "metadata": {},
   "outputs": [
    {
     "name": "stdout",
     "output_type": "stream",
     "text": [
      "[[-14.    0.   -5.5   0.    0. ]\n",
      " [  0.  -14.    0.   -5.5   0. ]\n",
      " [-10.    0.   -4.    0.    0. ]\n",
      " [  0.  -10.    0.   -4.    0. ]\n",
      " [  0.    0.    0.    0.    0. ]]\n"
     ]
    }
   ],
   "source": [
    "ABCD = dro_dri.matrix.squeeze()\n",
    "print(ABCD)\n",
    "# Extract ABCD matrices\n",
    "# A = ABCD[:, :2, :2]\n",
    "# B = ABCD[:, :2, 2:4]\n",
    "# C = ABCD[:, 2:4, :2]\n",
    "# D = ABCD[:, 2:4, 2:4]\n"
   ]
  },
  {
   "cell_type": "code",
   "execution_count": 9,
   "metadata": {},
   "outputs": [],
   "source": [
    "\n",
    "# batched_run_model = jax.vmap(lambda ray: run_model_iter(ray, model))\n",
    "# all_rays = batched_run_model(Rays)\n",
    "\n",
    "# # # Partial derivatives of ray output with respect to ray input\n",
    "# batched_dro_dri = jax.vmap(lambda ray: jax.jacobian(run_model_to_end, argnums=0)(ray, model))\n",
    "# dro_dri = batched_dro_dri(Rays)\n",
    "\n",
    "# ABCD = dro_dri.matrix.matrix\n",
    "\n",
    "# # Extract ABCD matrices\n",
    "# A = ABCD[:, :2, :2]\n",
    "# B = ABCD[:, :2, 2:4]\n",
    "# C = ABCD[:, 2:4, :2]\n",
    "# D = ABCD[:, 2:4, 2:4]\n",
    "\n"
   ]
  },
  {
   "cell_type": "code",
   "execution_count": 10,
   "metadata": {},
   "outputs": [
    {
     "ename": "NameError",
     "evalue": "name 'C' is not defined",
     "output_type": "error",
     "traceback": [
      "\u001b[1;31m---------------------------------------------------------------------------\u001b[0m",
      "\u001b[1;31mNameError\u001b[0m                                 Traceback (most recent call last)",
      "Cell \u001b[1;32mIn[10], line 3\u001b[0m\n\u001b[0;32m      1\u001b[0m focal_length \u001b[38;5;241m=\u001b[39m model[\u001b[38;5;241m0\u001b[39m]\u001b[38;5;241m.\u001b[39mfocal_length\n\u001b[0;32m      2\u001b[0m expected_C \u001b[38;5;241m=\u001b[39m \u001b[38;5;241m-\u001b[39m\u001b[38;5;241m1\u001b[39m \u001b[38;5;241m/\u001b[39m focal_length \u001b[38;5;241m*\u001b[39m jnp\u001b[38;5;241m.\u001b[39meye(\u001b[38;5;241m2\u001b[39m)\n\u001b[1;32m----> 3\u001b[0m expected_C \u001b[38;5;241m=\u001b[39m jnp\u001b[38;5;241m.\u001b[39mrepeat(expected_C[\u001b[38;5;28;01mNone\u001b[39;00m, :, :], \u001b[43mC\u001b[49m\u001b[38;5;241m.\u001b[39mshape[\u001b[38;5;241m0\u001b[39m], axis\u001b[38;5;241m=\u001b[39m\u001b[38;5;241m0\u001b[39m)\n\u001b[0;32m      5\u001b[0m \u001b[38;5;66;03m# Verify that the 2x2 matric C is equal to -1/f on each diagonal element\u001b[39;00m\n\u001b[0;32m      6\u001b[0m \u001b[38;5;28;01massert\u001b[39;00m jnp\u001b[38;5;241m.\u001b[39mallclose(C, expected_C), \u001b[38;5;124m\"\u001b[39m\u001b[38;5;124mC does not match -1/f * I\u001b[39m\u001b[38;5;124m\"\u001b[39m\n",
      "\u001b[1;31mNameError\u001b[0m: name 'C' is not defined"
     ]
    }
   ],
   "source": [
    "focal_length = model[0].focal_length\n",
    "expected_C = -1 / focal_length * jnp.eye(2)\n",
    "expected_C = jnp.repeat(expected_C[None, :, :], C.shape[0], axis=0)\n",
    "\n",
    "# Verify that the 2x2 matric C is equal to -1/f on each diagonal element\n",
    "assert jnp.allclose(C, expected_C), \"C does not match -1/f * I\"\n",
    "print(\"Test passed: C is equal to -1/f * I.\")"
   ]
  },
  {
   "cell_type": "code",
   "execution_count": null,
   "metadata": {},
   "outputs": [],
   "source": [
    "# # Partial derivatives of ray output with respect to model parameters\n",
    "batched_dro_dri = jax.jit(jax.vmap(lambda r: jax.jacobian(run_model_to_end, argnums=1)(create_ray(r), model)))\n",
    "dro_dmodel = batched_dro_dri(rays_input)\n",
    "\n",
    "print(dro_dmodel)\n"
   ]
  }
 ],
 "metadata": {
  "kernelspec": {
   "display_name": "temgym",
   "language": "python",
   "name": "python3"
  },
  "language_info": {
   "codemirror_mode": {
    "name": "ipython",
    "version": 3
   },
   "file_extension": ".py",
   "mimetype": "text/x-python",
   "name": "python",
   "nbconvert_exporter": "python",
   "pygments_lexer": "ipython3",
   "version": "3.12.0"
  }
 },
 "nbformat": 4,
 "nbformat_minor": 2
}
