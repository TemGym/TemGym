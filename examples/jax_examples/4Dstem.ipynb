{
 "cells": [
  {
   "cell_type": "code",
   "execution_count": 1,
   "metadata": {},
   "outputs": [],
   "source": [
    "import os\n",
    "os.environ[\"XLA_PYTHON_CLIENT_MEM_FRACTION\"] = \".1\"\n",
    "\n",
    "from jax import numpy as jnp\n",
    "import jax\n",
    "import temgymbasic.jax_components as comp\n",
    "from temgymbasic.jax_run import run_to_end_model_wrapper\n",
    "from temgymbasic.jax_ray import Ray, propagate\n",
    "from temgymbasic.jax_utils import get_pytree_idx_from_model\n",
    "%matplotlib widget"
   ]
  },
  {
   "cell_type": "code",
   "execution_count": 5,
   "metadata": {},
   "outputs": [
    {
     "ename": "TypeError",
     "evalue": "'jaxlib.xla_extension.pytree.PyTreeDef' object is not iterable",
     "output_type": "error",
     "traceback": [
      "\u001b[0;31m---------------------------------------------------------------------------\u001b[0m",
      "\u001b[0;31mTypeError\u001b[0m                                 Traceback (most recent call last)",
      "Cell \u001b[0;32mIn[5], line 60\u001b[0m\n\u001b[1;32m     51\u001b[0m \u001b[38;5;66;03m# batched_run_model = jax.vmap(run_to_end, in_axes=(0, None))\u001b[39;00m\n\u001b[1;32m     52\u001b[0m \u001b[38;5;66;03m# jac_batched_run_model = jax.vmap(jax.jacobian(run_to_end), in_axes=(0, None))\u001b[39;00m\n\u001b[1;32m     53\u001b[0m \n\u001b[0;32m   (...)\u001b[0m\n\u001b[1;32m     57\u001b[0m \u001b[38;5;66;03m# Usage:\u001b[39;00m\n\u001b[1;32m     58\u001b[0m \u001b[38;5;66;03m# Suppose you want to differentiate with respect to the 'scan_position' of model component 1\u001b[39;00m\n\u001b[1;32m     59\u001b[0m target \u001b[38;5;241m=\u001b[39m {\u001b[38;5;241m1\u001b[39m: \u001b[38;5;124m'\u001b[39m\u001b[38;5;124mdescan_error\u001b[39m\u001b[38;5;124m'\u001b[39m}\n\u001b[0;32m---> 60\u001b[0m indices, model_flat, unravel_fn \u001b[38;5;241m=\u001b[39m \u001b[43mget_pytree_idx_from_model\u001b[49m\u001b[43m(\u001b[49m\u001b[43mmodel\u001b[49m\u001b[43m,\u001b[49m\u001b[43m \u001b[49m\u001b[43mtarget\u001b[49m\u001b[43m)\u001b[49m\n\u001b[1;32m     62\u001b[0m \u001b[38;5;66;03m# Here, indices['scan_position'] is the slice you want.\u001b[39;00m\n\u001b[1;32m     63\u001b[0m \u001b[38;5;66;03m# Now you can compute the Jacobian with respect to that slice:\u001b[39;00m\n\u001b[1;32m     64\u001b[0m jac \u001b[38;5;241m=\u001b[39m jax\u001b[38;5;241m.\u001b[39mjacobian(run_to_end_model_wrapper, argnums\u001b[38;5;241m=\u001b[39mindices[\u001b[38;5;124m'\u001b[39m\u001b[38;5;124mdescan_error\u001b[39m\u001b[38;5;124m'\u001b[39m])(model_flat, unravel_fn, Rays)\n",
      "File \u001b[0;32m~/TemGym/src/temgymbasic/jax_utils.py:40\u001b[0m, in \u001b[0;36mget_pytree_idx_from_model\u001b[0;34m(model, parameters)\u001b[0m\n\u001b[1;32m     36\u001b[0m flat_idx \u001b[38;5;241m=\u001b[39m \u001b[38;5;241m0\u001b[39m\n\u001b[1;32m     38\u001b[0m \u001b[38;5;66;03m# loop through the paths and leaves of the model to find the \u001b[39;00m\n\u001b[1;32m     39\u001b[0m \u001b[38;5;66;03m# parameters we want to differentiate with respect to. \u001b[39;00m\n\u001b[0;32m---> 40\u001b[0m \u001b[38;5;28;01mfor\u001b[39;00m path, leaf \u001b[38;5;129;01min\u001b[39;00m \u001b[38;5;28;43mzip\u001b[39;49m\u001b[43m(\u001b[49m\u001b[43mpaths\u001b[49m\u001b[43m,\u001b[49m\u001b[43m \u001b[49m\u001b[43mleaves\u001b[49m\u001b[43m)\u001b[49m:\n\u001b[1;32m     41\u001b[0m     component_idx \u001b[38;5;241m=\u001b[39m path[\u001b[38;5;241m0\u001b[39m]\n\u001b[1;32m     42\u001b[0m     component_params \u001b[38;5;241m=\u001b[39m path[\u001b[38;5;241m1\u001b[39m]\n",
      "\u001b[0;31mTypeError\u001b[0m: 'jaxlib.xla_extension.pytree.PyTreeDef' object is not iterable"
     ]
    }
   ],
   "source": [
    "descan_error = [0.0, 0.0, 0.0, 0.0]\n",
    "\n",
    "key = jax.random.PRNGKey(0)\n",
    "complex_image = jax.random.normal(key, (1, 1)) + 1j * jax.random.normal(key, (1, 1))\n",
    "\n",
    "defocus = 0.01\n",
    "\n",
    "model = [comp.Sample(z=defocus, complex_image=complex_image, pixel_size=0.001),\n",
    "         comp.Descanner(z=defocus, scan_position=(0.0, 0.0), descan_error=descan_error),\n",
    "         comp.Detector(z=1.0, pixel_size=0.01, shape=(256, 256))]\n",
    "\n",
    "n_rays = 1\n",
    "n_rays_dim = int(jnp.sqrt(n_rays))\n",
    "\n",
    "input_amplitude = 1.0\n",
    "input_pathlength = 0.0\n",
    "input_wavelength = 1.0\n",
    "\n",
    "# Prepare multiple input rays (each row is a separate ray)\n",
    "r1mx = jnp.linspace(0.0, 0.0, n_rays_dim) #x off set\n",
    "r1my = jnp.linspace(0.0, 0.0, n_rays_dim) #y off set\n",
    "r1m = jnp.stack(jnp.meshgrid(r1mx, r1my), axis=-1).reshape(2, -1)\n",
    "\n",
    "theta1mx = jnp.linspace(0.0, 0.0, n_rays_dim) #dx off set\n",
    "theta1my = jnp.linspace(0.0, 0.0, n_rays_dim) #dy off set\n",
    "theta1m = jnp.stack(jnp.meshgrid(theta1mx, theta1my), axis=-1).reshape(2, -1)\n",
    "\n",
    "#Create ray input\n",
    "crossover_z = jnp.zeros((n_rays_dim))\n",
    "sample_z = jnp.ones((n_rays_dim)) * defocus\n",
    "# input_matrix = jnp.array([0., 0., 0., 0., 1.])\n",
    "input_matrix = jnp.vstack([\n",
    "    r1m[0:1, :],\n",
    "    r1m[1:2, :],\n",
    "    theta1m[0:1, :],\n",
    "    theta1m[1:2, :],\n",
    "    jnp.ones((n_rays)).reshape(n_rays)\n",
    "]).T\n",
    "\n",
    "input_amplitude = jnp.ones(n_rays_dim)\n",
    "input_pathlength = jnp.zeros(n_rays_dim)\n",
    "input_wavelength = jnp.ones(n_rays_dim)\n",
    "input_blocked = jnp.zeros(n_rays_dim, dtype=float)\n",
    "\n",
    "Rays = Ray(z=crossover_z, \n",
    "           matrix=input_matrix, \n",
    "           amplitude=input_amplitude, \n",
    "           pathlength=input_pathlength, \n",
    "           wavelength=input_wavelength,\n",
    "           blocked=input_blocked)\n",
    "\n",
    "# batched_run_model = jax.vmap(run_to_end, in_axes=(0, None))\n",
    "# jac_batched_run_model = jax.vmap(jax.jacobian(run_to_end), in_axes=(0, None))\n",
    "\n",
    "# batched_run_model(Rays, model)\n",
    "# print(jac_batched_run_model(Rays, model))\n",
    "\n",
    "# Usage:\n",
    "# Suppose you want to differentiate with respect to the 'scan_position' of model component 1\n",
    "target = {1: 'descan_error'}\n",
    "indices, model_flat, unravel_fn = get_pytree_idx_from_model(model, target)\n",
    "\n",
    "# Here, indices['scan_position'] is the slice you want.\n",
    "# Now you can compute the Jacobian with respect to that slice:\n",
    "jac = jax.jacobian(run_to_end_model_wrapper, argnums=indices['descan_error'])(model_flat, unravel_fn, Rays)\n",
    "\n"
   ]
  },
  {
   "cell_type": "code",
   "execution_count": 4,
   "metadata": {},
   "outputs": [
    {
     "data": {
      "text/plain": [
       "{'matrix': Field(name='matrix',type=<class 'jax.Array'>,default=<dataclasses._MISSING_TYPE object at 0x725841661490>,default_factory=<dataclasses._MISSING_TYPE object at 0x725841661490>,init=True,repr=True,hash=None,compare=True,metadata=mappingproxy({}),kw_only=False,_field_type=_FIELD),\n",
       " 'z': Field(name='z',type=<class 'float'>,default=<dataclasses._MISSING_TYPE object at 0x725841661490>,default_factory=<dataclasses._MISSING_TYPE object at 0x725841661490>,init=True,repr=True,hash=None,compare=True,metadata=mappingproxy({}),kw_only=False,_field_type=_FIELD),\n",
       " 'amplitude': Field(name='amplitude',type=<class 'float'>,default=<dataclasses._MISSING_TYPE object at 0x725841661490>,default_factory=<dataclasses._MISSING_TYPE object at 0x725841661490>,init=True,repr=True,hash=None,compare=True,metadata=mappingproxy({}),kw_only=False,_field_type=_FIELD),\n",
       " 'pathlength': Field(name='pathlength',type=<class 'float'>,default=<dataclasses._MISSING_TYPE object at 0x725841661490>,default_factory=<dataclasses._MISSING_TYPE object at 0x725841661490>,init=True,repr=True,hash=None,compare=True,metadata=mappingproxy({}),kw_only=False,_field_type=_FIELD),\n",
       " 'wavelength': Field(name='wavelength',type=<class 'float'>,default=<dataclasses._MISSING_TYPE object at 0x725841661490>,default_factory=<dataclasses._MISSING_TYPE object at 0x725841661490>,init=True,repr=True,hash=None,compare=True,metadata=mappingproxy({}),kw_only=False,_field_type=_FIELD),\n",
       " 'blocked': Field(name='blocked',type=<class 'float'>,default=<dataclasses._MISSING_TYPE object at 0x725841661490>,default_factory=<dataclasses._MISSING_TYPE object at 0x725841661490>,init=True,repr=True,hash=None,compare=True,metadata=mappingproxy({}),kw_only=False,_field_type=_FIELD)}"
      ]
     },
     "execution_count": 4,
     "metadata": {},
     "output_type": "execute_result"
    }
   ],
   "source": [
    "Ray.__dataclass_fields__\n"
   ]
  },
  {
   "cell_type": "code",
   "execution_count": 3,
   "metadata": {},
   "outputs": [
    {
     "name": "stdout",
     "output_type": "stream",
     "text": [
      "(1, 5, 65550)\n"
     ]
    }
   ],
   "source": [
    "print(jac.shape)"
   ]
  },
  {
   "cell_type": "code",
   "execution_count": 4,
   "metadata": {},
   "outputs": [
    {
     "name": "stdout",
     "output_type": "stream",
     "text": [
      "PyTreeDef(CustomNode(Ray[()], [*, *, *, *, *, *]))\n"
     ]
    },
    {
     "data": {
      "text/plain": [
       "([Array([[0., 0., 0., 0., 1.]], dtype=float32),\n",
       "  Array([0.], dtype=float32),\n",
       "  Array([1.], dtype=float32),\n",
       "  Array([0.], dtype=float32),\n",
       "  Array([1.], dtype=float32),\n",
       "  Array([0.], dtype=float32)],\n",
       " PyTreeDef(CustomNode(Ray[()], [*, *, *, *, *, *])))"
      ]
     },
     "execution_count": 4,
     "metadata": {},
     "output_type": "execute_result"
    }
   ],
   "source": [
    "from jax.tree_util import tree_structure\n",
    "from jax.tree_util import tree_flatten, tree_unflatten\n",
    "print(tree_structure(Rays))\n",
    "\n",
    "tree_flatten(Rays)"
   ]
  },
  {
   "cell_type": "code",
   "execution_count": 5,
   "metadata": {},
   "outputs": [
    {
     "ename": "NameError",
     "evalue": "name 'coordinate_transforms' is not defined",
     "output_type": "error",
     "traceback": [
      "\u001b[0;31m---------------------------------------------------------------------------\u001b[0m",
      "\u001b[0;31mNameError\u001b[0m                                 Traceback (most recent call last)",
      "Cell \u001b[0;32mIn[5], line 1\u001b[0m\n\u001b[0;32m----> 1\u001b[0m \u001b[38;5;28;01mfor\u001b[39;00m coordinate_transform \u001b[38;5;129;01min\u001b[39;00m \u001b[43mcoordinate_transforms\u001b[49m:\n\u001b[1;32m      2\u001b[0m     \u001b[38;5;28mprint\u001b[39m(coordinate_transform)\n",
      "\u001b[0;31mNameError\u001b[0m: name 'coordinate_transforms' is not defined"
     ]
    }
   ],
   "source": [
    "for coordinate_transform in coordinate_transforms:\n",
    "    print(coordinate_transform)\n"
   ]
  }
 ],
 "metadata": {
  "kernelspec": {
   "display_name": "temgym",
   "language": "python",
   "name": "python3"
  },
  "language_info": {
   "codemirror_mode": {
    "name": "ipython",
    "version": 3
   },
   "file_extension": ".py",
   "mimetype": "text/x-python",
   "name": "python",
   "nbconvert_exporter": "python",
   "pygments_lexer": "ipython3",
   "version": "3.12.6"
  }
 },
 "nbformat": 4,
 "nbformat_minor": 2
}
