{
 "cells": [
  {
   "cell_type": "code",
   "execution_count": 1,
   "metadata": {},
   "outputs": [],
   "source": [
    "import os\n",
    "os.environ[\"XLA_PYTHON_CLIENT_MEM_FRACTION\"] = \".1\"\n",
    "\n",
    "from jax import numpy as jnp\n",
    "import jax\n",
    "import temgymbasic.jax_components as comp\n",
    "from temgymbasic.jax_run import run_to_end\n",
    "from temgymbasic.jax_ray import Ray, propagate\n",
    "from temgymbasic.jax_utils import get_pytree_idx_from_model\n",
    "import matplotlib.pyplot as plt\n",
    "%matplotlib widget"
   ]
  },
  {
   "cell_type": "code",
   "execution_count": 2,
   "metadata": {},
   "outputs": [
    {
     "name": "stdout",
     "output_type": "stream",
     "text": [
      "(21, 22)\n"
     ]
    }
   ],
   "source": [
    "from scipy.ndimage import zoom\n",
    "\n",
    "image = plt.imread('SilverFast_Resolution_Target_USAF_1951.png')[:, :, 0]\n",
    "image_shape = image.shape\n",
    "\n",
    "# Downsample the image by a factor of 2\n",
    "downsample_factor = 0.1\n",
    "image = zoom(image, downsample_factor)\n",
    "image_shape = image.shape\n",
    "\n",
    "descan_error = [0.0, 0.0, 0.0, 0.0]\n",
    "defocus = 0.01\n",
    "semi_conv = 0.001\n",
    "camera_length = 1.0\n",
    "scan_position = (0.1, 0.3)\n",
    "\n",
    "print(image.shape)"
   ]
  },
  {
   "cell_type": "code",
   "execution_count": 3,
   "metadata": {},
   "outputs": [],
   "source": [
    "key = jax.random.PRNGKey(0)\n",
    "complex_image = image + 1j * jax.random.normal(key, (image.shape))\n",
    "\n",
    "model = [comp.Sample(z=defocus, complex_image=complex_image, pixel_size=0.0001),\n",
    "         comp.Descanner(z=defocus, descan_error=descan_error, offset_x = scan_position[0], offset_y = scan_position[1]),\n",
    "         comp.Detector(z=camera_length, pixel_size=0.001, shape=(image.shape))]\n",
    "\n",
    "detector_coords = model[-1].get_det_coords()\n",
    "n_rays = 1\n",
    "n_rays_dim = int(jnp.sqrt(n_rays))\n",
    "\n",
    "input_amplitude = 1.0\n",
    "input_pathlength = 0.0\n",
    "input_wavelength = 1.0\n",
    "\n",
    "# Prepare multiple input rays (each row is a separate ray)\n",
    "r1mx = jnp.linspace(scan_position[0], scan_position[0], n_rays_dim) #x off set\n",
    "r1my = jnp.linspace(scan_position[1], scan_position[1], n_rays_dim) #y off set\n",
    "r1m = jnp.stack(jnp.meshgrid(r1mx, r1my), axis=-1).reshape(2, -1)\n",
    "\n",
    "theta1mx = jnp.linspace(0.0, 0.0, n_rays_dim) #dx off set\n",
    "theta1my = jnp.linspace(0.0, 0.0, n_rays_dim) #dy off set\n",
    "theta1m = jnp.stack(jnp.meshgrid(theta1mx, theta1my), axis=-1).reshape(2, -1)\n",
    "\n",
    "#Create ray input\n",
    "crossover_z = jnp.zeros((n_rays_dim))\n",
    "sample_z = jnp.ones((n_rays_dim)) * defocus\n",
    "\n",
    "input_matrix = jnp.vstack([\n",
    "    r1m[0:1, :],\n",
    "    r1m[1:2, :],\n",
    "    theta1m[0:1, :],\n",
    "    theta1m[1:2, :],\n",
    "    jnp.ones((n_rays)).reshape(n_rays)\n",
    "]).T\n",
    "\n",
    "input_amplitude = jnp.ones(n_rays_dim)\n",
    "input_pathlength = jnp.zeros(n_rays_dim)\n",
    "input_wavelength = jnp.ones(n_rays_dim)\n",
    "input_blocked = jnp.zeros(n_rays_dim, dtype=float)\n",
    "\n",
    "Rays = Ray(z=crossover_z, \n",
    "           matrix=input_matrix, \n",
    "           amplitude=input_amplitude, \n",
    "           pathlength=input_pathlength, \n",
    "           wavelength=input_wavelength,\n",
    "           blocked=input_blocked)\n",
    "\n",
    "batched_run_model = jax.vmap(run_to_end, in_axes=(0, None))\n",
    "jac_batched_run_model = jax.vmap(jax.jacobian(run_to_end), in_axes=(0, None))\n",
    "\n",
    "def run_to_end(ray, components):\n",
    "    for component in components:\n",
    "        distance = (component.z - ray.z).squeeze()\n",
    "        ray = propagate(distance, ray)\n",
    "        ray = component.step(ray)\n",
    "\n",
    "    return ray\n",
    "\n",
    "def run_to_component(ray, component):\n",
    "    distance = (component.z - ray.z).squeeze()\n",
    "    ray = propagate(distance, ray)\n",
    "    ray = component.step(ray)\n",
    "    return ray\n",
    "\n",
    "batched_run_to_component = jax.vmap(run_to_component, in_axes=(0, None))\n",
    "jac_run_to_component = jax.vmap(jax.jacobian(run_to_component), in_axes=(0, None))\n",
    "batched_run_model = jax.vmap(run_to_end, in_axes=(0, None))\n",
    "jac_batched_run_model = jax.vmap(jax.jacobian(run_to_end), in_axes=(0, None))\n",
    "\n",
    "jacobians_comp_to_end = []\n",
    "jacobians_comp_to_comp = []\n",
    "\n",
    "# Get all jacobians from one component to another\n",
    "for i in range(len(model)):\n",
    "    if i == 0:\n",
    "        ray = Rays\n",
    "    else:\n",
    "        distance = (model[i-1].z - ray.z).squeeze()\n",
    "        ray = propagate(distance, ray)\n",
    "        ray = model[i-1].step(ray)\n",
    "    \n",
    "    jacobian = jac_run_to_component(ray, model[i])\n",
    "    jacobians_comp_to_comp.append(jacobian)"
   ]
  },
  {
   "cell_type": "code",
   "execution_count": 4,
   "metadata": {},
   "outputs": [
    {
     "name": "stdout",
     "output_type": "stream",
     "text": [
      "Forward Coordinate Transform (RTM):\n",
      " [[[ 1.     0.     1.     0.    -0.1  ]\n",
      "  [ 0.     1.     0.     1.    -0.3  ]\n",
      "  [ 0.     0.     1.     0.    -0.001]\n",
      "  [ 0.     0.     0.     1.    -0.003]\n",
      "  [ 0.     0.     0.     0.     1.   ]]] \n",
      "\n",
      "Inverse Coordinate Transform (iRTM):\n",
      " [[[ 1.          0.         -1.          0.          0.099     ]\n",
      "  [ 0.          1.          0.         -1.          0.29700002]\n",
      "  [ 0.          0.          1.          0.          0.001     ]\n",
      "  [ 0.          0.          0.          1.          0.003     ]\n",
      "  [ 0.          0.          0.          0.          1.        ]]] \n",
      "\n",
      "Forward Coordinate Transform (RTM):\n",
      " [[[ 1.    0.    0.99  0.   -0.1 ]\n",
      "  [ 0.    1.    0.    0.99 -0.3 ]\n",
      "  [ 0.    0.    1.    0.    0.  ]\n",
      "  [ 0.    0.    0.    1.    0.  ]\n",
      "  [ 0.    0.    0.    0.    1.  ]]] \n",
      "\n",
      "Inverse Coordinate Transform (iRTM):\n",
      " [[[ 1.    0.   -0.99  0.    0.1 ]\n",
      "  [ 0.    1.    0.   -0.99  0.3 ]\n",
      "  [ 0.    0.    1.    0.    0.  ]\n",
      "  [ 0.    0.    0.    1.    0.  ]\n",
      "  [ 0.    0.    0.    0.    1.  ]]] \n",
      "\n",
      "Forward Coordinate Transform (RTM):\n",
      " [[[ 1.    0.    0.99  0.   -0.1 ]\n",
      "  [ 0.    1.    0.    0.99 -0.3 ]\n",
      "  [ 0.    0.    1.    0.    0.  ]\n",
      "  [ 0.    0.    0.    1.    0.  ]\n",
      "  [ 0.    0.    0.    0.    1.  ]]] \n",
      "\n",
      "Inverse Coordinate Transform (iRTM):\n",
      " [[[ 1.    0.   -0.99  0.    0.1 ]\n",
      "  [ 0.    1.    0.   -0.99  0.3 ]\n",
      "  [ 0.    0.    1.    0.    0.  ]\n",
      "  [ 0.    0.    0.    1.    0.  ]\n",
      "  [ 0.    0.    0.    0.    1.  ]]] \n",
      "\n",
      "Forward Coordinate Transform (RTM):\n",
      " [[[1. 0. 0. 0. 0.]\n",
      "  [0. 1. 0. 0. 0.]\n",
      "  [0. 0. 1. 0. 0.]\n",
      "  [0. 0. 0. 1. 0.]\n",
      "  [0. 0. 0. 0. 1.]]] \n",
      "\n",
      "Inverse Coordinate Transform (iRTM):\n",
      " [[[1. 0. 0. 0. 0.]\n",
      "  [0. 1. 0. 0. 0.]\n",
      "  [0. 0. 1. 0. 0.]\n",
      "  [0. 0. 0. 1. 0.]\n",
      "  [0. 0. 0. 0. 1.]]] \n",
      "\n"
     ]
    }
   ],
   "source": [
    "# Get all jacobians from each component to the end\n",
    "j=0\n",
    "for i in range(len(model)+1):\n",
    "    if i==0:\n",
    "        ray = Rays\n",
    "    else:\n",
    "        for j in range(i):\n",
    "            distance = (model[j].z - Rays.z)\n",
    "            ray = propagate(distance, Rays)\n",
    "            ray = model[j].step(ray)\n",
    "\n",
    "    jacobians_comp_to_end.append(jac_batched_run_model(ray, model[j:]))\n",
    "\n",
    "forward_ABCDs = []\n",
    "inverse_ABCDs = []\n",
    "for jacobian in jacobians_comp_to_end:\n",
    "    ABCD_matrices = jacobian.matrix.matrix # partial derivative of dro_dri\n",
    "    shift_vectors = jacobian.pathlength.matrix # partial derivative of dopl_dri\n",
    "\n",
    "    ABCD_final = ABCD_matrices.at[0, :, -1].set(shift_vectors[0, :])\n",
    "    ABCD_final = ABCD_final.at[0, -1, -1].set(1.0)\n",
    "    forward_ABCDs.append(ABCD_final)\n",
    "    print('Forward Coordinate Transform (RTM):\\n', ABCD_final, '\\n')\n",
    "    inverse_ABCD_final = jnp.linalg.inv(ABCD_final)\n",
    "    inverse_ABCDs.append(inverse_ABCD_final)\n",
    "    print('Inverse Coordinate Transform (iRTM):\\n', inverse_ABCD_final, '\\n')\n",
    "\n"
   ]
  },
  {
   "cell_type": "code",
   "execution_count": 5,
   "metadata": {},
   "outputs": [
    {
     "name": "stdout",
     "output_type": "stream",
     "text": [
      "[[[ 1.   0.   1.   0.  -0.1]\n",
      "  [ 0.   1.   0.   1.  -0.3]\n",
      "  [ 0.   0.   1.   0.   0. ]\n",
      "  [ 0.   0.   0.   1.   0. ]\n",
      "  [ 0.   0.   0.   0.   1. ]]]\n",
      "[[[ 1.   0.  -1.   0.   0.1]\n",
      "  [ 0.   1.   0.  -1.   0.3]\n",
      "  [ 0.   0.   1.   0.   0. ]\n",
      "  [ 0.   0.   0.   1.   0. ]\n",
      "  [ 0.   0.   0.   0.   1. ]]]\n",
      "[Array([[[ 1.  ,  0.  , -0.01,  0.  ,  0.  ],\n",
      "        [ 0.  ,  1.  ,  0.  , -0.01,  0.  ],\n",
      "        [ 0.  ,  0.  ,  1.  ,  0.  ,  0.  ],\n",
      "        [ 0.  ,  0.  ,  0.  ,  1.  ,  0.  ],\n",
      "        [ 0.  ,  0.  ,  0.  ,  0.  ,  1.  ]]], dtype=float32), Array([[[1. , 0. , 0. , 0. , 0.1],\n",
      "        [0. , 1. , 0. , 0. , 0.3],\n",
      "        [0. , 0. , 1. , 0. , 0. ],\n",
      "        [0. , 0. , 0. , 1. , 0. ],\n",
      "        [0. , 0. , 0. , 0. , 1. ]]], dtype=float32), Array([[[ 1.  ,  0.  , -0.99,  0.  ,  0.  ],\n",
      "        [ 0.  ,  1.  ,  0.  , -0.99,  0.  ],\n",
      "        [ 0.  ,  0.  ,  1.  ,  0.  ,  0.  ],\n",
      "        [ 0.  ,  0.  ,  0.  ,  1.  ,  0.  ],\n",
      "        [ 0.  ,  0.  ,  0.  ,  0.  ,  1.  ]]], dtype=float32)]\n"
     ]
    }
   ],
   "source": [
    "forward_ABCDs_comp_to_comp = []\n",
    "inverse_ABCDs_comp_to_comp = []\n",
    "total_forward = jnp.eye(5)\n",
    "total_inverse = jnp.eye(5)\n",
    "for jacobian in jacobians_comp_to_comp:\n",
    "    shift_vectors = jacobian.pathlength.matrix\n",
    "    ABCD_matrices = jacobian.matrix.matrix\n",
    "\n",
    "    ABCD = ABCD_matrices.at[0, :, -1].set(shift_vectors[0, :])\n",
    "    ABCD = ABCD.at[0, -1, -1].set(1.0)\n",
    "    forward_ABCDs_comp_to_comp.append(ABCD)\n",
    "    # print('Forward Coordinate Transform (RTM):\\n', ABCD, '\\n')\n",
    "    inverse_ABCD = jnp.linalg.inv(ABCD)\n",
    "    inverse_ABCDs_comp_to_comp.append(inverse_ABCD)\n",
    "    # print('Inverse Coordinate Transform (iRTM):\\n', inverse_ABCD, '\\n')\n",
    "    total_forward = ABCD @ total_forward\n",
    "    total_inverse = inverse_ABCD @ total_inverse\n",
    "\n",
    "print(total_forward)\n",
    "print(total_inverse)\n",
    "\n",
    "print(inverse_ABCDs_comp_to_comp)\n"
   ]
  },
  {
   "cell_type": "code",
   "execution_count": 31,
   "metadata": {},
   "outputs": [
    {
     "data": {
      "text/latex": [
       "$\\displaystyle x_{in} = - 1.0 \\theta_{x out} + 1.0 x_{out} + 0.1$"
      ],
      "text/plain": [
       "Eq(x_in, -1.0*theta_x_out + 1.0*x_out + 0.1)"
      ]
     },
     "metadata": {},
     "output_type": "display_data"
    },
    {
     "data": {
      "text/latex": [
       "$\\displaystyle y_{in} = - 1.0 \\theta_{y out} + 1.0 y_{out} + 0.3$"
      ],
      "text/plain": [
       "Eq(y_in, -1.0*theta_y_out + 1.0*y_out + 0.3)"
      ]
     },
     "metadata": {},
     "output_type": "display_data"
    },
    {
     "data": {
      "text/latex": [
       "$\\displaystyle - y_{in} + y_{out} + 0.3$"
      ],
      "text/plain": [
       "-y_in + y_out + 0.3"
      ]
     },
     "metadata": {},
     "output_type": "display_data"
    },
    {
     "data": {
      "text/latex": [
       "$\\displaystyle - x_{in} + x_{out} + 0.1$"
      ],
      "text/plain": [
       "-x_in + x_out + 0.1"
      ]
     },
     "metadata": {},
     "output_type": "display_data"
    }
   ],
   "source": [
    "import sympy as sp\n",
    "\n",
    "x_in, y_in, thetax_in, theta_y_in = sp.symbols('x_in y_in theta_x_in theta_y_in')\n",
    "x_out, y_out, theta_x_out, theta_y_out = sp.symbols('x_out y_out theta_x_out theta_y_out')\n",
    "\n",
    "in_coords = sp.Matrix([x_in, y_in, thetax_in, theta_y_in, 1])\n",
    "out_coords = sp.Matrix([x_out, y_out, theta_x_out, theta_y_out, 1])\n",
    "\n",
    "in_coords_expr = sp.Eq(in_coords, sp.Matrix(total_inverse[0]) @ out_coords)\n",
    "x_in_expr = sp.Eq(in_coords_expr.lhs[0], in_coords_expr.rhs[0])\n",
    "display(x_in_expr)\n",
    "y_in_expr = sp.Eq(in_coords_expr.lhs[1], in_coords_expr.rhs[1])\n",
    "display(y_in_expr)\n",
    "theta_y_out_as_f_of_ys = sp.solve(y_in_expr, theta_y_out)[0]\n",
    "display(theta_y_out_as_f_of_ys)\n",
    "theta_x_out_as_f_of_xs = sp.solve(x_in_expr, theta_x_out)[0]\n",
    "display(theta_x_out_as_f_of_xs)\n",
    "\n",
    "theta_x_out_as_f_of_xs_lam = sp.lambdify((x_in, x_out), theta_x_out_as_f_of_xs)\n",
    "theta_y_out_as_f_of_ys_lam = sp.lambdify((y_in, y_out), theta_y_out_as_f_of_ys)\n",
    "\n",
    "possible_theta_x_outs = theta_x_out_as_f_of_xs_lam(scan_position[0], detector_coords[:, 0])\n",
    "possible_theta_y_outs = theta_y_out_as_f_of_ys_lam(scan_position[1], detector_coords[:, 1])"
   ]
  },
  {
   "cell_type": "code",
   "execution_count": null,
   "metadata": {},
   "outputs": [
    {
     "name": "stderr",
     "output_type": "stream",
     "text": [
      "/tmp/ipykernel_384810/502183339.py:39: UserWarning: No artists with labels found to put in legend.  Note that artists whose label start with an underscore are ignored when legend() is called with no argument.\n",
      "  plt.legend()\n"
     ]
    },
    {
     "data": {
      "application/vnd.jupyter.widget-view+json": {
       "model_id": "a6a10b0529724f70b550f72037e1e3c9",
       "version_major": 2,
       "version_minor": 0
      },
      "image/png": "[encoded data removed]",
      "text/html": [
       "\n",
       "            <div style=\"display: inline-block;\">\n",
       "                <div class=\"jupyter-widgets widget-label\" style=\"text-align: center;\">\n",
       "                    Figure\n",
       "                </div>\n",
       "                <img src='data:image/png;base64,iVBORw0KGgoAAAANSUhEUgAAAoAAAAHgCAYAAAA10dzkAAAAOXRFWHRTb2Z0d2FyZQBNYXRwbG90bGliIHZlcnNpb24zLjkuMiwgaHR0cHM6Ly9tYXRwbG90bGliLm9yZy8hTgPZAAAACXBIWXMAAA9hAAAPYQGoP6dpAABFZklEQVR4nO3deVxU9f7H8feA7Ai4AKLhhrummAvibpGkptmtm1Y3kWtaaZrSrbRFzLxSaV67aZrm0rW8WrbYQw23tEUpcyFzL8U0r+AW4JYIfH9/9GB+joCCC6NzXs/HYx4P5zvfc87nnO8w8/acM+fYjDFGAAAAsAw3ZxcAAACAskUABAAAsBgCIAAAgMUQAAEAACyGAAgAAGAxBEAAAACLIQACAABYDAEQAADAYgiAAAAAFkMABAAAsBgCIAAAgMUQAAEAACyGAAgAAGAxBEAAAACLIQACAABYDAEQAADAYgiAAAAAFkMABAAAsBgCIAAAgMUQAAEAACyGAAgAAGAxBEAAAACLIQACAABYDAEQAADAYgiAAAAAFkMABAAAsBgCIAAAgMUQAAEAACyGAAgAAGAxBEAAAACLIQACAABYDAEQAADAYgiAAAAAFkMABAAAsBgCIHCd7d+/XzabTXPnznV2KZeUnJysyMhIeXt7y2azKTMz09klOVXnzp3VuXNn+/ObZRxxY7DZbBozZoyzywCKRQDEFZs7d65sNpv94e3trXr16unJJ59URkaGs8src/Pnz9fkyZOdXcYVOX78uB544AH5+Pho6tSpmjdvnvz8/JxdliWNHz9en332mbPLAODiyjm7ANz8xo4dq1q1aumPP/7Qt99+q2nTpmnZsmXatm2bfH19nV1emZk/f762bdum4cOHO7TXqFFDZ8+elYeHh3MKK4EffvhBJ0+e1CuvvKKYmBhnl3NDKqtxHD9+vO6//3717t37ui4HgLURAHHVunXrppYtW0qSHn30UVWqVEmTJk3S4sWL9eCDDxY5zenTpy2zh6lg7+iN7MiRI5KkoKAg5xZShkr7HrwZxvFGlp+fr5ycHLYhcIPgEDCuudtvv12SlJaWJknq37+//P39tXfvXnXv3l3ly5fXww8/LOnPL+Gnn35a4eHh8vLyUv369TVx4kQZYxzmabPZ9OSTT+qDDz5Q/fr15e3trRYtWujrr7926Pfrr79q8ODBql+/vnx8fFSpUiX99a9/1f79+wvVuXXrVnXq1Ek+Pj665ZZbNG7cOM2ZM0c2m82h/+LFi9WjRw9VrVpVXl5eioiI0CuvvKK8vDx7n86dO2vp0qX69ddf7YfEa9asKan4c8e+/PJLdejQQX5+fgoKCtI999yjnTt3OvQZM2aMbDabfvnlF/Xv319BQUEKDAxUfHy8zpw5U6Lx+Oijj9SiRQv5+PiocuXK+tvf/qZDhw451B4XFydJatWqlWw2m/r371/kvM6ePasGDRqoQYMGOnv2rL39xIkTCgsLU9u2bR22S3G+//57de/eXRUqVJCfn5+aNm2qN998s9TbR5K2bNmibt26KSAgQP7+/rrjjjv03XffOfQpOF3hq6++0uDBgxUSEqJbbrnF/vqMGTMUEREhHx8ftW7dWt98802h5RQ1jgXv7UOHDql3797y9/dXcHCw/vGPfxTaDhMnTlTbtm1VqVIl+fj4qEWLFlq0aJFDH5vNptOnT+u9996zv48uHItDhw7p73//u0JDQ+Xl5aXGjRtr9uzZhWp966231LhxY/n6+qpChQpq2bKl5s+fX3ggLpCTk6PRo0erRYsWCgwMlJ+fnzp06KA1a9YU6pufn68333xTt956q7y9vRUcHKy77rpLGzdudFiXgr/Zxo0by8vLS8nJyZJKNmbnz5/Xyy+/rLp168rb21uVKlVS+/bttXLlSnuf9PR0xcfH65ZbbpGXl5fCwsJ0zz33FPn3XmDt2rUOp65c+Cj4my1OwXjv27dPsbGx8vPzU9WqVTV27NhCn1kXK+lnU8F7dd26dUpISFBwcLD8/Px077336ujRo4Xm+8UXX9j/TsqXL68ePXpo+/btDn2uZDvB9bEHENfc3r17JUmVKlWyt+Xm5io2Nlbt27fXxIkT5evrK2OMevXqpTVr1mjAgAGKjIzU8uXL9cwzz+jQoUP617/+5TDfr776SgsXLtSwYcPk5eWlt99+W3fddZc2bNigJk2aSPrzUOb69evVt29f3XLLLdq/f7+mTZumzp07a8eOHfZD0ocOHVKXLl1ks9k0atQo+fn56d1335WXl1eh9Zk7d678/f2VkJAgf39/ffnllxo9erSys7M1YcIESdILL7ygrKws/fbbb/a6/f39i91Gq1atUrdu3VS7dm2NGTNGZ8+e1VtvvaV27dpp8+bNhb6IHnjgAdWqVUtJSUnavHmz3n33XYWEhOi111675FjMnTtX8fHxatWqlZKSkpSRkaE333xT69at05YtWxQUFKQXXnhB9evX14wZM+yH8yMiIoqcn4+Pj9577z21a9dOL7zwgiZNmiRJGjJkiLKysjR37ly5u7tfsqaVK1fq7rvvVlhYmJ566ilVqVJFO3fu1JIlS/TUU0+Vavts375dHTp0UEBAgJ599ll5eHjonXfeUefOnfXVV18pKirKYdmDBw9WcHCwRo8erdOnT0uSZs2apccee0xt27bV8OHDtW/fPvXq1UsVK1ZUeHj4JddFkvLy8hQbG6uoqChNnDhRq1at0htvvKGIiAg98cQT9n5vvvmmevXqpYcfflg5OTlasGCB/vrXv2rJkiXq0aOHJGnevHl69NFH1bp1aw0aNEiS7GORkZGhNm3a2INVcHCwvvjiCw0YMEDZ2dn2Uw9mzpypYcOG6f7779dTTz2lP/74Q1u3btX333+vhx56qNj1yM7O1rvvvqsHH3xQAwcO1MmTJzVr1izFxsZqw4YNioyMtPcdMGCA5s6dq27duunRRx9Vbm6uvvnmG3333Xf2owHSnyH+ww8/1JNPPqnKlSurZs2aJR6zMWPGKCkpyb49srOztXHjRm3evFl33nmnJOm+++7T9u3bNXToUNWsWVNHjhzRypUrdeDAgWLDXMOGDTVv3jyHtszMTCUkJCgkJKRE433XXXepTZs2ev3115WcnKzExETl5uZq7NixxU5X0s+mAkOHDlWFChWUmJio/fv3a/LkyXryySe1cOFCe5958+YpLi5OsbGxeu2113TmzBlNmzZN7du315YtW+zb4Eq2EyzAAFdozpw5RpJZtWqVOXr0qDl48KBZsGCBqVSpkvHx8TG//fabMcaYuLg4I8mMHDnSYfrPPvvMSDLjxo1zaL///vuNzWYzv/zyi71NkpFkNm7caG/79ddfjbe3t7n33nvtbWfOnClUZ0pKipFk/vOf/9jbhg4damw2m9myZYu97fjx46ZixYpGkklLS7vkPB977DHj6+tr/vjjD3tbjx49TI0aNQr1TUtLM5LMnDlz7G2RkZEmJCTEHD9+3N72448/Gjc3N9OvXz97W2JiopFk/v73vzvM89577zWVKlUqtKwL5eTkmJCQENOkSRNz9uxZe/uSJUuMJDN69Gh7W8FY/vDDD5ecZ4FRo0YZNzc38/XXX5uPPvrISDKTJ0++7HS5ubmmVq1apkaNGub33393eC0/P9/+75Jun969extPT0+zd+9ee9v//vc/U758edOxY8dC69e+fXuTm5trby/YRpGRkebcuXP29hkzZhhJplOnTva2osax4L09duxYh3Vp3ry5adGihUPbxe+jnJwc06RJE3P77bc7tPv5+Zm4uDhzsQEDBpiwsDBz7Ngxh/a+ffuawMBA+/zvuece07hx40LTX05ubq7DNjDGmN9//92EhoY6vP++/PJLI8kMGzas0DwuHENJxs3NzWzfvt2hT0nHrFmzZqZHjx7F1vv7778bSWbChAklX8ki5Ofnm7vvvtv4+/sXqvViBeM9dOhQh+l79OhhPD09zdGjR+3tkkxiYqL9eUk/mwreqzExMQ7bc8SIEcbd3d1kZmYaY4w5efKkCQoKMgMHDnSYZ3p6ugkMDLS3X6vtBNfDIWBctZiYGAUHBys8PFx9+/aVv7+/Pv30U1WrVs2h34V7QyRp2bJlcnd317Bhwxzan376aRlj9MUXXzi0R0dHq0WLFvbn1atX1z333KPly5fbD7f5+PjYXz9//ryOHz+uOnXqKCgoSJs3b7a/lpycrOjoaIe9GhUrVrQfmr7QhfM8efKkjh07pg4dOujMmTPatWvX5TZPIYcPH1Zqaqr69++vihUr2tubNm2qO++8U8uWLSs0zeOPP+7wvEOHDjp+/Liys7OLXc7GjRt15MgRDR482OG8qx49eqhBgwZaunRpqWsvMGbMGDVu3FhxcXEaPHiwOnXqVGgci7JlyxalpaVp+PDhhc43tNlskkq+ffLy8rRixQr17t1btWvXtvcLCwvTQw89pG+//bbQ9hk4cKDDHsqCbfT444/L09PT3t6/f38FBgaWeHsUNT779u1zaLvwffT7778rKytLHTp0cHhfFscYo48//lg9e/aUMUbHjh2zP2JjY5WVlWWfT1BQkH777Tf98MMPJa5fktzd3e3bID8/XydOnFBubq5atmzpUOPHH38sm82mxMTEQvMoGMMCnTp1UqNGjezPSzNmQUFB2r59u37++eci6/Xx8ZGnp6fWrl2r33//vVTreqFXXnlFS5Ys0dy5cx1qvZQnn3zS/u+CPbI5OTlatWpVsdOU9LOpwKBBgxy2Z4cOHZSXl6dff/1V0p970jMzM/Xggw86vB/c3d0VFRVlP3R/rbYTXA8BEFdt6tSpWrlypdasWaMdO3bYz4+5ULly5RzOuZL+PCematWqKl++vEN7w4YN7a9fqG7duoWWXa9ePZ05c8Z+bszZs2c1evRo+zmFlStXVnBwsDIzM5WVleWw7Dp16hSaX1Ft27dv17333qvAwEAFBAQoODhYf/vb3yTJYZ4lVbBe9evXL/Raw4YNdezYMfvhyQLVq1d3eF6hQgVJuuQH+qWW06BBg0LbtzQ8PT01e/ZspaWl6eTJk/ZzJwucPXtW6enpDg/p/08PKDhkX9q6L9w+R48e1ZkzZ4rtl5+fr4MHDzq016pVq8hlXfze8vDwcAgol1JwDtyFKlSoUGhslixZojZt2sjb21sVK1ZUcHCwpk2bVqL30NGjR5WZmakZM2YoODjY4REfHy/p/3/I89xzz8nf31+tW7dW3bp1NWTIEK1bt65E6/Lee++padOm9nPugoODtXTpUoca9+7dq6pVqzqE8+JcvL1LM2Zjx45VZmam6tWrp1tvvVXPPPOMtm7dau/v5eWl1157TV988YVCQ0PVsWNHvf766/b3WkkkJyfr5Zdf1qhRo3TfffeVaBo3N7dC74169epJ0iXPqSvpZ1OBy/3NFwTj22+/vdB7YsWKFfb3w7XYTnBNnAOIq9a6dWuH836K4uXlJTe36///jaFDh2rOnDkaPny4oqOjFRgYKJvNpr59+yo/P7/U88vMzFSnTp0UEBCgsWPHKiIiQt7e3tq8ebOee+65K5rnlSjuvDpzmRPPr6fly5dLkv744w/9/PPPDl/2CxcutAeTAs6stcCFe2Gulcud8yhJ33zzjXr16qWOHTvq7bffVlhYmDw8PDRnzpzL/jhDkv199re//c3+g52LNW3aVNKfQWr37t1asmSJkpOT9fHHH+vtt9/W6NGj9fLLLxe7jPfff1/9+/dX79699cwzzygkJETu7u5KSkqyB/fSuprt3bFjR+3du1eLFy/WihUr9O677+pf//qXpk+frkcffVSSNHz4cPXs2VOfffaZli9frpdeeklJSUn68ssv1bx580vOPy0tTQ8//LDuvPNOjRs37orrLKnSfjZd7m++YJp58+apSpUqhfqVK/f/X+9Xs53gugiAcJoaNWpo1apVOnnypMNewILDqjVq1HDoX9ShoD179sjX19e+B2bRokWKi4vTG2+8Ye/zxx9/FLqrRY0aNfTLL78Umt/FbWvXrtXx48f1ySefqGPHjvb2gl84X+jiw1/FKViv3bt3F3pt165dqly58jW5RM6Fyyn4ZXaB3bt3F9q+pbF161aNHTtW8fHxSk1N1aOPPqqffvrJftg0NjbW4deaBQp+0LBt27ZirzdY0u3j7e0tX1/fYvu5ubld9kccBcv6+eefHbbR+fPnlZaWpmbNml1y+pL6+OOP5e3treXLlzv80GjOnDmF+hb1PgoODlb58uWVl5dXous0+vn5qU+fPurTp49ycnL0l7/8Rf/85z81atSoYi/DsmjRItWuXVuffPKJQw0XH+qNiIjQ8uXLdeLEiRLtBbx4PUozZhUrVlR8fLzi4+N16tQpdezYUWPGjLEHwIJ6nn76aT399NP6+eefFRkZqTfeeEPvv/9+sXWcPXtWf/nLXxQUFKT//ve/pfrPaX5+vvbt22ff6yf9+Tkk6ZI/qCjpZ1NJFfwthYSElOg9cSXbCa6NQ8Bwmu7duysvL09TpkxxaP/Xv/4lm82mbt26ObSnpKQ4nCtz8OBBLV68WF27drX/b9nd3b3Qnqa33nqr0CU5YmNjlZKSotTUVHvbiRMn9MEHHzj0K5jvhfPMycnR22+/XWh9/Pz8SnQ4LywsTJGRkXrvvfccPvy3bdumFStWqHv37pedR0m0bNlSISEhmj59us6dO2dv/+KLL7Rz5077L09L6/z58+rfv7+qVq2qN998U3PnzlVGRoZGjBhh7xMWFqaYmBiHhyTddtttqlWrliZPnlzoi69gG5d0+7i7u6tr165avHixw6G3jIwMzZ8/X+3bt1dAQMAl16Vly5YKDg7W9OnTlZOTY2+fO3fuNb0Vnru7u2w2m8P7cP/+/UXe8cPPz6/Qst3d3XXffffp448/1rZt2wpNc+HlQY4fP+7wmqenpxo1aiRjjM6fP3/JGiXH9/r333+vlJQUh3733XefjDFF7k283F7e0ozZxevh7++vOnXq2N/LZ86c0R9//OHQJyIiQuXLl3d4vxfl8ccf1549e/Tpp5/aD62WxoWfWcYYTZkyRR4eHrrjjjuKnaakn00lFRsbq4CAAI0fP77IcS14T1zNdoJrYw8gnKZnz57q0qWLXnjhBe3fv1/NmjXTihUrtHjxYg0fPrzQpUiaNGmi2NhYh8vASHL4Irr77rs1b948BQYGqlGjRkpJSdGqVascLkkjSc8++6zef/993XnnnRo6dKj9MjDVq1fXiRMn7HtA2rZtqwoVKiguLk7Dhg2TzWbTvHnzivyia9GihRYuXKiEhAS1atVK/v7+6tmzZ5HrPmHCBHXr1k3R0dEaMGCA/TIngYGB1+z+oR4eHnrttdcUHx+vTp066cEHH7RfBqZmzZoOga00xo0bp9TUVK1evVrly5dX06ZNNXr0aL344ou6//77Lxlg3dzcNG3aNPXs2VORkZGKj49XWFiYdu3ape3bt9sPK5d0+4wbN04rV65U+/btNXjwYJUrV07vvPOOzp07p9dff71E22jcuHF67LHHdPvtt6tPnz5KS0vTnDlzSnwOYEn06NFDkyZN0l133aWHHnpIR44c0dSpU1WnTh2H89qkP99Hq1at0qRJk1S1alXVqlVLUVFRevXVV7VmzRpFRUVp4MCBatSokU6cOKHNmzdr1apVOnHihCSpa9euqlKlitq1a6fQ0FDt3LlTU6ZMUY8ePQqdb3uhu+++W5988onuvfde9ejRQ2lpaZo+fboaNWqkU6dO2ft16dJFjzzyiP7973/r559/1l133aX8/Hx988036tKli8MPJIpS0jFr1KiROnfurBYtWqhixYrauHGjFi1aZJ//nj17dMcdd+iBBx5Qo0aNVK5cOX366afKyMhQ3759i13+0qVL9Z///Ef33Xeftm7d6rD9/f39L3sHFm9vbyUnJysuLk5RUVH64osvtHTpUj3//POFzgW9ePuW5LOppAICAjRt2jQ98sgjuu2229S3b18FBwfrwIEDWrp0qdq1a6cpU6Zc8XaCBZT9D4/hKkp66ZC4uDjj5+dX5GsnT540I0aMMFWrVjUeHh6mbt26ZsKECQ6XPzDmz0sqDBkyxLz//vumbt26xsvLyzRv3tysWbPGod/vv/9u4uPjTeXKlY2/v7+JjY01u3btMjVq1Ch0aY0tW7aYDh06GC8vL3PLLbeYpKQk8+9//9tIMunp6fZ+69atM23atDE+Pj6matWq5tlnnzXLly83khyWf+rUKfPQQw+ZoKAgI8l+SZiiLh9ijDGrVq0y7dq1Mz4+PiYgIMD07NnT7Nixw6FPwWVgLry8hDH/v+0vvFxNcRYuXGiaN29uvLy8TMWKFc3DDz9sv0TPxfO73Fhu2rTJlCtXzuEyGMb8eQmRVq1amapVqxa6vEtRvv32W3PnnXea8uXLGz8/P9O0aVPz1ltvOfQpyfYxxpjNmzeb2NhY4+/vb3x9fU2XLl3M+vXrS7V+b7/9tqlVq5bx8vIyLVu2NF9//bXp1KlTiS4DU9R7u2DcLjRr1iz7e7dBgwZmzpw5RfbbtWuX6dixo/Hx8TGSHN63GRkZZsiQISY8PNx4eHiYKlWqmDvuuMPMmDHD3uedd94xHTt2NJUqVTJeXl4mIiLCPPPMMyYrK6vIdS+Qn59vxo8fb2rUqGH/+1qyZImJi4srdHmj3NxcM2HCBNOgQQPj6elpgoODTbdu3cymTZvsfQr+ZotSkjEbN26cad26tQkKCjI+Pj6mQYMG5p///KfJyckxxhhz7NgxM2TIENOgQQPj5+dnAgMDTVRUlPnwww8vuZ4F74WiHkVdxulCBeO9d+9e07VrV+Pr62tCQ0NNYmKiycvLc+iriy4DU9LPpuLeq2vWrCn0mVPQHhsbawIDA423t7eJiIgw/fv3t18y60q3E1yfzZgb4Mxs4DJsNpuGDBlS6HDxtTZ8+HC98847OnXqVIlO7gdgHf3799eiRYsc9ogCNyvOAYRlXXgrM+nPc47mzZun9u3bE/4AAC6NcwBhWdHR0ercubMaNmyojIwMzZo1S9nZ2XrppZecXRoAANcVARCW1b17dy1atEgzZsyQzWbTbbfdplmzZjlc7gUAAFfkMucAfv3115owYYI2bdqkw4cP69NPP73sr7nWrl2rhIQEbd++XeHh4XrxxRfVv3//MqkXAADAWVzmHMDTp0+rWbNmmjp1aon6p6WlqUePHurSpYtSU1M1fPhwPfroo/bLUAAAALgql9kDeCGbzXbZPYDPPfecli5d6nBR1b59+yozM1PJycllUCUAAIBzuMwewNJKSUkpdPucgrtDAAAAuDLL/ggkPT1doaGhDm2hoaHKzs7W2bNni7yJ+blz5xxunZOfn68TJ06oUqVKJb4PLAAAcC5jjE6ePKmqVauW6l7QrsSyAfBKJCUlFXn/SwAAcPM5ePCgbrnlFmeX4RSWDYBVqlRRRkaGQ1tGRoYCAgKK3PsnSaNGjVJCQoL9eVZWlqpXr66DBw9e9qbzAADgxpCdna3w8PBL3h/b1Vk2AEZHR2vZsmUObStXrlR0dHSx03h5ecnLy6tQe0BAAAEQAICbjJVP33KZA9+nTp1SamqqUlNTJf15mZfU1FQdOHBA0p977/r162fv//jjj2vfvn169tlntWvXLr399tv68MMPNWLECGeUDwAAUGZcJgBu3LhRzZs3V/PmzSVJCQkJat68uUaPHi1JOnz4sD0MSlKtWrW0dOlSrVy5Us2aNdMbb7yhd999V7GxsU6pHwAAoKy45HUAy0p2drYCAwOVlZXFIWAAAG4SfH9b+BxAAABwczLGKDc3V3l5eUW+7u7urnLlyln6HL/LIQACAICbRk5Ojg4fPqwzZ85csp+vr6/CwsLk6elZRpXdXAiAAADgppCfn6+0tDS5u7uratWq8vT0LLSXzxijnJwcHT16VGlpaapbt65lL/Z8KQRAAABwU8jJyVF+fr7Cw8Pl6+tbbD8fHx95eHjo119/VU5Ojry9vcuwypsDkRgAANxUSrJHj71+l8bWAQAAsBgCIAAAgMUQAAEAACyGAAgAAGAxBEAAAHBTKclNzLjR2aURAAEAwE3Bw8NDki57EegL+xRMA0dcBxAAANwU3N3dFRQUpCNHjkj6824fRV0I+syZMzpy5IiCgoLk7u7ujFJveARAAABw06hSpYok2UNgcYKCgux9URgBEAAA3DRsNpvCwsIUEhKi8+fPF9nHw8ODPX+XQQAEAAA3HXd3d0LeVeBHIAAAABZDAAQAALAYAiAAAIDFEAABAAAshgAIAABgMQRAAAAAiyEAAgAAWAwBEAAAwGIIgAAAABZDAAQAALAYAiAAAIDFEAABAAAshgAIAABgMQRAAAAAiyEAAgAAWAwBEAAAwGIIgAAAABZDAAQAALAYAiAAAIDFEAABAAAshgAIAABgMQRAAAAAiyEAAgAAWAwBEAAAwGIIgAAAABZDAAQAALAYAiAAAIDFEAABAAAshgAIAABgMQRAAAAAiyEAAgAAWAwBEAAAwGIIgAAAABZDAAQAALAYAiAAAIDFEAABAAAshgAIAABgMQRAAAAAiyEAAgAAWAwBEAAAwGIIgAAAABZDAAQAALAYAiAAAIDFEAABAAAshgAIAABgMQRAAAAAiyEAAgAAWAwBEAAAwGJcKgBOnTpVNWvWlLe3t6KiorRhw4ZL9p88ebLq168vHx8fhYeHa8SIEfrjjz/KqFoAAADncJkAuHDhQiUkJCgxMVGbN29Ws2bNFBsbqyNHjhTZf/78+Ro5cqQSExO1c+dOzZo1SwsXLtTzzz9fxpUDAACULZcJgJMmTdLAgQMVHx+vRo0aafr06fL19dXs2bOL7L9+/Xq1a9dODz30kGrWrKmuXbvqwQcfvOxeQwAAgJudSwTAnJwcbdq0STExMfY2Nzc3xcTEKCUlpchp2rZtq02bNtkD3759+7Rs2TJ17969TGoGAABwlnLOLuBaOHbsmPLy8hQaGurQHhoaql27dhU5zUMPPaRjx46pffv2MsYoNzdXjz/++CUPAZ87d07nzp2zP8/Ozr42KwAAAFCGXGIP4JVYu3atxo8fr7ffflubN2/WJ598oqVLl+qVV14pdpqkpCQFBgbaH+Hh4WVYMQAAwLVhM8YYZxdxtXJycuTr66tFixapd+/e9va4uDhlZmZq8eLFhabp0KGD2rRpowkTJtjb3n//fQ0aNEinTp2Sm1vhbFzUHsDw8HBlZWUpICDg2q4UAAC4LrKzsxUYGGjp72+X2APo6empFi1aaPXq1fa2/Px8rV69WtHR0UVOc+bMmUIhz93dXZJUXCb28vJSQECAwwMAAOBm4xLnAEpSQkKC4uLi1LJlS7Vu3VqTJ0/W6dOnFR8fL0nq16+fqlWrpqSkJElSz549NWnSJDVv3lxRUVH65Zdf9NJLL6lnz572IAgAAOCKXCYA9unTR0ePHtXo0aOVnp6uyMhIJScn238YcuDAAYc9fi+++KJsNptefPFFHTp0SMHBwerZs6f++c9/OmsVAAAAyoRLnAPoLJxDAADAzYfvbxc5BxAAAAAlRwAEAACwGAIgAACAxRAAAQAALIYACAAAYDEEQAAAAIshAAIAAFgMARAAAMBiCIAAAAAWQwAEAACwGAIgAACAxRAAAQAALIYACAAAYDEEQAAAAIshAAIAAFgMARAAAMBiCIAAAAAWQwAEAACwGAIgAACAxRAAAQAALIYACAAAYDEEQAAAAIshAAIAAFgMARAAAMBiCIAAAAAWQwAEAACwGAIgAACAxRAAAQAALIYACAAAYDEEQAAAAIshAAIAAFgMARAAAMBiCIAAAAAWQwAEAACwGAIgAACAxRAAAQAALIYACAAAYDEEQAAAAIshAAIAAFgMARAAAMBiCIAAAAAWQwAEAACwGAIgAACAxRAAAQAALIYACAAAYDEEQAAAAIshAAIAAFgMARAAAMBiCIAAAAAWQwAEAACwGAIgAACAxRAAAQAALIYACAAAYDEEQAAAAIshAAIAAFgMARAAAMBiCIAAAAAWQwAEAACwGAIgAACAxRAAAQAALIYACAAAYDEEQAAAAIu5IQJgTk6Odu/erdzcXGeXAgAA4PKcGgDPnDmjAQMGyNfXV40bN9aBAwckSUOHDtWrr75a6vlNnTpVNWvWlLe3t6KiorRhw4ZL9s/MzNSQIUMUFhYmLy8v1atXT8uWLbuidQEAALhZODUAjho1Sj/++KPWrl0rb29ve3tMTIwWLlxYqnktXLhQCQkJSkxM1ObNm9WsWTPFxsbqyJEjRfbPycnRnXfeqf3792vRokXavXu3Zs6cqWrVql3VOgEAANzoyjlz4Z999pkWLlyoNm3ayGaz2dsbN26svXv3lmpekyZN0sCBAxUfHy9Jmj59upYuXarZs2dr5MiRhfrPnj1bJ06c0Pr16+Xh4SFJqlmz5pWvDAAAwE3CqXsAjx49qpCQkELtp0+fdgiEl5OTk6NNmzYpJibG3ubm5qaYmBilpKQUOc3nn3+u6OhoDRkyRKGhoWrSpInGjx+vvLy8Ypdz7tw5ZWdnOzwAAABuNk4NgC1bttTSpUvtzwtC37vvvqvo6OgSz+fYsWPKy8tTaGioQ3toaKjS09OLnGbfvn1atGiR8vLytGzZMr300kt64403NG7cuGKXk5SUpMDAQPsjPDy8xDUCAADcKJx6CHj8+PHq1q2bduzYodzcXL355pvasWOH1q9fr6+++uq6Ljs/P18hISGaMWOG3N3d1aJFCx06dEgTJkxQYmJikdOMGjVKCQkJ9ufZ2dmEQAAAcNNx6h7A9u3bKzU1Vbm5ubr11lu1YsUKhYSEKCUlRS1atCjxfCpXrix3d3dlZGQ4tGdkZKhKlSpFThMWFqZ69erJ3d3d3tawYUOlp6crJyenyGm8vLwUEBDg8AAAALjZOHUPoCRFRERo5syZVzUPT09PtWjRQqtXr1bv3r0l/bmHb/Xq1XryySeLnKZdu3aaP3++8vPz5eb2Zw7es2ePwsLC5OnpeVX1AAAA3MicugfQ3d29yMu0HD9+3GHPXEkkJCRo5syZeu+997Rz50498cQTOn36tP1Xwf369dOoUaPs/Z944gmdOHFCTz31lPbs2aOlS5dq/PjxGjJkyNWtFAAAwA3OqXsAjTFFtp87d67Ue+H69Omjo0ePavTo0UpPT1dkZKSSk5PtPww5cOCAfU+fJIWHh2v58uUaMWKEmjZtqmrVqumpp57Sc889d+UrBAAAcBOwmeJS2HX073//W5I0YsQIvfLKK/L397e/lpeXp6+//lr79+/Xli1byrq0UsnOzlZgYKCysrI4HxAAgJsE399O2gP4r3/9S9KfewCnT5/ucLjX09NTNWvW1PTp051RGgAAgMtzSgBMS0uTJHXp0kWffPKJKlSo4IwyAAAALMmp5wCuWbPGmYsHAACwJKdfBua3337T559/rgMHDhS6/t6kSZOcVBUAAIDrcmoAXL16tXr16qXatWtr165datKkifbv3y9jjG677TZnlgYAAOCynHodwFGjRukf//iHfvrpJ3l7e+vjjz/WwYMH1alTJ/31r391ZmkAAAAuy6kBcOfOnerXr58kqVy5cjp79qz8/f01duxYvfbaa84sDQAAwGU5NQD6+fnZz/sLCwvT3r177a8dO3bMWWUBAAC4NKeeA9imTRt9++23atiwobp3766nn35aP/30kz755BO1adPGmaUBAAC4LKcGwEmTJunUqVOSpJdfflmnTp3SwoULVbduXX4BDAAAcJ045VZwroJbyQAAcPPh+/sGuA6gJOXk5OjIkSPKz893aK9evbqTKgIAAHBdTg2Ae/bs0YABA7R+/XqHdmOMbDab8vLynFQZAACA63JqAIyPj1e5cuW0ZMkShYWFyWazObMcAAAAS3BqAExNTdWmTZvUoEEDZ5YBAABgKU69DmCjRo243h8AAEAZc2oAfO211/Tss89q7dq1On78uLKzsx0eAAAAuPacehkYN7c/8+fF5/7dLD8C4WfkAADcfPj+dvI5gGvWrHHm4gEAACzJqQGwU6dOzlw8AACAJZV5ANy6dauaNGkiNzc3bd269ZJ9mzZtWkZVAQAAWEeZB8DIyEilp6crJCREkZGRstlsKuo0xJvhHEAAAICbUZkHwLS0NAUHB9v/DQAAgLJV5gGwRo0aRf4bAAAAZaPMA+Dnn39e4r69evW6jpUAAABYU5kHwN69ezs8v/gcwAuvCcg5gAAAANdemd8JJD8/3/5YsWKFIiMj9cUXXygzM1OZmZlatmyZbrvtNiUnJ5d1aQAAAJbg1OsADh8+XNOnT1f79u3tbbGxsfL19dWgQYO0c+dOJ1YHAADgmpx6L+C9e/cqKCioUHtgYKD2799f5vUAAABYgVMDYKtWrZSQkKCMjAx7W0ZGhp555hm1bt3aiZUBAAC4LqcGwFmzZunw4cOqXr266tSpozp16qh69eo6dOiQZs2a5czSAAAAXJZTzwGsW7eutm7dqpUrV2rXrl2SpIYNGyomJsbh18AAAAC4dpwWAM+fPy8fHx+lpqaqa9eu6tq1q7NKAQAAsBSnHQL28PBQ9erVudYfAABAGXPqOYAvvPCCnn/+eZ04ccKZZQAAAFiKU88BnDJlin755RdVrVpVNWrUkJ+fn8PrmzdvdlJlAAAArsupAfDi28IBAADg+rOZC2/Ei1LJzs5WYGCgsrKyFBAQ4OxyAABACfD97eQ9gAU2bdpkv+1b48aN1bx5cydXBAAA4LqcGgCPHDmivn37au3atfZbwmVmZqpLly5asGCBgoODnVkeAACAS3Lqr4CHDh2qkydPavv27Tpx4oROnDihbdu2KTs7W8OGDXNmaQAAAC7LqecABgYGatWqVWrVqpVD+4YNG9S1a1dlZmY6p7AS4hwCAABuPnx/O3kPYH5+vjw8PAq1e3h4KD8/3wkVAQAAuD6nBsDbb79dTz31lP73v//Z2w4dOqQRI0bojjvucGJlAAAArsupAXDKlCnKzs5WzZo1FRERoYiICNWqVUvZ2dl66623nFkaAACAy3Lqr4DDw8O1efNmrVq1Srt27ZIkNWzYUDExMc4sCwAAwKVxIeirwEmkAADcfPj+dvIhYEn66quv1LNnT9WpU0d16tRRr1699M033zi7LAAAAJfl1AD4/vvvKyYmRr6+vho2bJiGDRsmb29v3XHHHZo/f74zSwMAAHBZTj0E3LBhQw0aNEgjRoxwaJ80aZJmzpxpvz3cjYpdyAAA3Hz4/nbyHsB9+/apZ8+ehdp79eqltLQ0J1QEAADg+pwaAMPDw7V69epC7atWrVJ4eLgTKgIAAHB9Tr0MzNNPP61hw4YpNTVVbdu2lSStW7dOc+fO1ZtvvunM0gAAAFyWUwPgE088oSpVquiNN97Qhx9+KOnP8wIXLlyoe+65x5mlAQAAuCyuA3gVOIkUAICbD9/fTj4H8IcfftD3339fqP3777/Xxo0bnVARAACA63NqABwyZIgOHjxYqP3QoUMaMmSIEyoCAABwfU4NgDt27NBtt91WqL158+basWOHEyoCAABwfU4NgF5eXsrIyCjUfvjwYZUr59TfpwAAALgspwbArl27atSoUcrKyrK3ZWZm6vnnn9edd97pxMoAAABcl1N3s02cOFEdO3ZUjRo11Lx5c0lSamqqQkNDNW/ePGeWBgAA4LKcGgCrVaumrVu36oMPPtCPP/4oHx8fxcfH68EHH5SHh4czSwMAAHBZTj/Rzs/PT4MGDXJ2GQAAAJbh1HMAr7WpU6eqZs2a8vb2VlRUlDZs2FCi6RYsWCCbzabevXtf3wIBAABuAC4TABcuXKiEhAQlJiZq8+bNatasmWJjY3XkyJFLTrd//3794x//UIcOHcqoUgAAAOdymQA4adIkDRw4UPHx8WrUqJGmT58uX19fzZ49u9hp8vLy9PDDD+vll19W7dq1y7BaAAAA53GJAJiTk6NNmzYpJibG3ubm5qaYmBilpKQUO93YsWMVEhKiAQMGlGg5586dU3Z2tsMDAADgZuPUALhmzZpiX3vnnXdKPJ9jx44pLy9PoaGhDu2hoaFKT08vcppvv/1Ws2bN0syZM0u8nKSkJAUGBtof4eHhJZ4WAADgRuHUAHjXXXfpmWee0fnz5+1tx44dU8+ePTVy5MjrttyTJ0/qkUce0cyZM1W5cuUST1dw0eqCR1H3MQYAALjROfUyMGvWrFG/fv20cuVKzZ8/X2lpaRowYIDq16+v1NTUEs+ncuXKcnd3L3RbuYyMDFWpUqVQ/71792r//v3q2bOnvS0/P1+SVK5cOe3evVsRERGFpvPy8pKXl1eJ6wIAALgROXUPYNu2bZWamqomTZrotttu07333qsRI0Zo7dq1qlGjRonn4+npqRYtWmj16tX2tvz8fK1evVrR0dGF+jdo0EA//fSTUlNT7Y9evXqpS5cuSk1N5dAuAABwaU6/EPSePXu0ceNG3XLLLfrf//6n3bt368yZM/Lz8yvVfBISEhQXF6eWLVuqdevWmjx5sk6fPq34+HhJUr9+/VStWjUlJSXJ29tbTZo0cZg+KChIkgq1AwAAuBqn7gF89dVXFR0drTvvvFPbtm3Thg0btGXLFjVt2vSSv94tSp8+fTRx4kSNHj1akZGRSk1NVXJysv2HIQcOHNDhw4evx2oAAADcVGzGGOOshYeFhWn27Nnq1q2bve38+fN6/vnn9e9//1vnzp1zVmklkp2drcDAQGVlZSkgIMDZ5QAAgBLg+9vJh4B/+umnQr/C9fDw0IQJE3T33Xc7qSoAAADX5tRDwJe6BEunTp3KsBIAAADrcIk7gQAAAKDkCIAAAAAWQwAEAACwGAIgAACAxRAAAQAALIYACAAAYDEEQAAAAIshAAIAAFgMARAAAMBiCIAAAAAWQwAEAACwGAIgAACAxRAAAQAALIYACAAAYDEEQAAAAIshAAIAAFgMARAAAMBiCIAAAAAWQwAEAACwGAIgAACAxRAAAQAALIYACAAAYDEEQAAAAIshAAIAAFgMARAAAMBiCIAAAAAWQwAEAACwGAIgAACAxRAAAQAALIYACAAAYDEEQAAAAIshAAIAAFgMARAAAMBiCIAAAAAWQwAEAACwGAIgAACAxRAAAQAALIYACAAAYDEEQAAAAIshAAIAAFgMARAAAMBiCIAAAAAWQwAEAACwGAIgAACAxRAAAQAALIYACAAAYDEEQAAAAIshAAIAAFgMARAAAMBiCIAAAAAWQwAEAACwGAIgAACAxRAAAQAALIYACAAAYDEEQAAAAIshAAIAAFgMARAAAMBiCIAAAAAWQwAEAACwGAIgAACAxRAAAQAALMalAuDUqVNVs2ZNeXt7KyoqShs2bCi278yZM9WhQwdVqFBBFSpUUExMzCX7AwAAuAqXCYALFy5UQkKCEhMTtXnzZjVr1kyxsbE6cuRIkf3Xrl2rBx98UGvWrFFKSorCw8PVtWtXHTp0qIwrBwAAKFs2Y4xxdhHXQlRUlFq1aqUpU6ZIkvLz8xUeHq6hQ4dq5MiRl50+Ly9PFSpU0JQpU9SvX78SLTM7O1uBgYHKyspSQEDAVdUPAADKBt/fLrIHMCcnR5s2bVJMTIy9zc3NTTExMUpJSSnRPM6cOaPz58+rYsWKxfY5d+6csrOzHR4AAAA3G5cIgMeOHVNeXp5CQ0Md2kNDQ5Wenl6ieTz33HOqWrWqQ4i8WFJSkgIDA+2P8PDwq6obAADAGVwiAF6tV199VQsWLNCnn34qb2/vYvuNGjVKWVlZ9sfBgwfLsEoAAIBro5yzC7gWKleuLHd3d2VkZDi0Z2RkqEqVKpecduLEiXr11Ve1atUqNW3a9JJ9vby85OXlddX1AgAAOJNL7AH09PRUixYttHr1antbfn6+Vq9erejo6GKne/311/XKK68oOTlZLVu2LItSAQAAnM4l9gBKUkJCguLi4tSyZUu1bt1akydP1unTpxUfHy9J6tevn6pVq6akpCRJ0muvvabRo0dr/vz5qlmzpv1cQX9/f/n7+zttPQAAAK43lwmAffr00dGjRzV69Gilp6crMjJSycnJ9h+GHDhwQG5u/7/Dc9q0acrJydH999/vMJ/ExESNGTOmLEsHAAAoUy5zHUBn4DpCAADcfPj+dpFzAAEAAFByBEAAAACLIQACAABYDAEQAADAYgiAAAAAFkMABAAAsBgCIAAAgMUQAAEAACyGAAgAAGAxBEAAAACLIQACAABYDAEQAADAYgiAAAAAFkMABAAAsBgCIAAAgMUQAAEAACyGAAgAAGAxBEAAAACLIQACAABYDAEQAADAYgiAAAAAFkMABAAAsBgCIAAAgMUQAAEAACyGAAgAAGAxBEAAAACLIQACAABYDAEQAADAYgiAAAAAFkMABAAAsBgCIAAAgMUQAAEAACyGAAgAAGAxBEAAAACLIQACAABYDAEQAADAYgiAAAAAFkMABAAAsBgCIAAAgMUQAAEAACyGAAgAAGAxBEAAAACLIQACAABYDAEQAADAYgiAAAAAFkMABAAAsBgCIAAAgMUQAAEAACyGAAgAAGAxBEAAAACLIQACAABYDAEQAADAYgiAAAAAFkMABAAAsBgCIAAAgMUQAAEAACyGAAgAAGAxBEAAAACLIQACAABYDAEQAADAYgiAAAAAFkMABAAAsBgCIAAAgMW4VACcOnWqatasKW9vb0VFRWnDhg2X7P/RRx+pQYMG8vb21q233qply5aVUaUAAADO4zIBcOHChUpISFBiYqI2b96sZs2aKTY2VkeOHCmy//r16/Xggw9qwIAB2rJli3r37q3evXtr27ZtZVw5AABA2bIZY4yzi7gWoqKi1KpVK02ZMkWSlJ+fr/DwcA0dOlQjR44s1L9Pnz46ffq0lixZYm9r06aNIiMjNX369BItMzs7W4GBgcrKylJAQMC1WREAAHBd8f0tlXN2AddCTk6ONm3apFGjRtnb3NzcFBMTo5SUlCKnSUlJUUJCgkNbbGysPvvss2KXc+7cOZ07d87+PCsrS9KfbyQAAHBzKPjedpF9YFfEJQLgsWPHlJeXp9DQUIf20NBQ7dq1q8hp0tPTi+yfnp5e7HKSkpL08ssvF2oPDw+/gqoBAIAzHT9+XIGBgc4uwylcIgCWlVGjRjnsNczMzFSNGjV04MABy76BbhTZ2dkKDw/XwYMHLbs7/0bBWNxYGI8bB2Nx48jKylL16tVVsWJFZ5fiNC4RACtXrix3d3dlZGQ4tGdkZKhKlSpFTlOlSpVS9ZckLy8veXl5FWoPDAzkj/kGERAQwFjcIBiLGwvjceNgLG4cbm4u81vYUnOJNff09FSLFi20evVqe1t+fr5Wr16t6OjoIqeJjo526C9JK1euLLY/AACAq3CJPYCSlJCQoLi4OLVs2VKtW7fW5MmTdfr0acXHx0uS+vXrp2rVqikpKUmS9NRTT6lTp05644031KNHDy1YsEAbN27UjBkznLkaAAAA153LBMA+ffro6NGjGj16tNLT0xUZGank5GT7Dz0OHDjgsKu3bdu2mj9/vl588UU9//zzqlu3rj777DM1adKkxMv08vJSYmJikYeFUbYYixsHY3FjYTxuHIzFjYOxcKHrAAIAAKBkXOIcQAAAAJQcARAAAMBiCIAAAAAWQwAEAACwGALgZUydOlU1a9aUt7e3oqKitGHDhkv2/+ijj9SgQQN5e3vr1ltv1bJly8qoUtdXmrGYOXOmOnTooAoVKqhChQqKiYm57Nih5Er7d1FgwYIFstls6t279/Ut0EJKOxaZmZkaMmSIwsLC5OXlpXr16vE5dQ2VdjwmT56s+vXry8fHR+Hh4RoxYoT++OOPMqrWdX399dfq2bOnqlatKpvNps8+++yy06xdu1a33XabvLy8VKdOHc2dO/e61+lUBsVasGCB8fT0NLNnzzbbt283AwcONEFBQSYjI6PI/uvWrTPu7u7m9ddfNzt27DAvvvii8fDwMD/99FMZV+56SjsWDz30kJk6darZsmWL2blzp+nfv78JDAw0v/32WxlX7npKOxYF0tLSTLVq1UyHDh3MPffcUzbFurjSjsW5c+dMy5YtTffu3c23335r0tLSzNq1a01qamoZV+6aSjseH3zwgfHy8jIffPCBSUtLM8uXLzdhYWFmxIgRZVy561m2bJl54YUXzCeffGIkmU8//fSS/fft22d8fX1NQkKC2bFjh3nrrbeMu7u7SU5OLpuCnYAAeAmtW7c2Q4YMsT/Py8szVatWNUlJSUX2f+CBB0yPHj0c2qKiosxjjz12Xeu0gtKOxcVyc3NN+fLlzXvvvXe9SrSMKxmL3Nxc07ZtW/Puu++auLg4AuA1UtqxmDZtmqldu7bJyckpqxItpbTjMWTIEHP77bc7tCUkJJh27dpd1zqtpiQB8NlnnzWNGzd2aOvTp4+JjY29jpU5F4eAi5GTk6NNmzYpJibG3ubm5qaYmBilpKQUOU1KSopDf0mKjY0ttj9K5krG4mJnzpzR+fPnLX3j72vhSsdi7NixCgkJ0YABA8qiTEu4krH4/PPPFR0drSFDhig0NFRNmjTR+PHjlZeXV1Zlu6wrGY+2bdtq06ZN9sPE+/bt07Jly9S9e/cyqRn/z4rf3y5zJ5Br7dixY8rLy7PfSaRAaGiodu3aVeQ06enpRfZPT0+/bnVawZWMxcWee+45Va1atdAfOErnSsbi22+/1axZs5SamloGFVrHlYzFvn379OWXX+rhhx/WsmXL9Msvv2jw4ME6f/68EhMTy6Jsl3Ul4/HQQw/p2LFjat++vYwxys3N1eOPP67nn3++LErGBYr7/s7OztbZs2fl4+PjpMquH/YAwuW9+uqrWrBggT799FN5e3s7uxxLOXnypB555BHNnDlTlStXdnY5lpefn6+QkBDNmDFDLVq0UJ8+ffTCCy9o+vTpzi7NktauXavx48fr7bff1ubNm/XJJ59o6dKleuWVV5xdGiyAPYDFqFy5stzd3ZWRkeHQnpGRoSpVqhQ5TZUqVUrVHyVzJWNRYOLEiXr11Ve1atUqNW3a9HqWaQmlHYu9e/dq//796tmzp70tPz9fklSuXDnt3r1bERER17doF3UlfxdhYWHy8PCQu7u7va1hw4ZKT09XTk6OPD09r2vNruxKxuOll17SI488okcffVSSdOutt+r06dMaNGiQXnjhBYf71+P6Ku77OyAgwCX3/knsASyWp6enWrRoodWrV9vb8vPztXr1akVHRxc5TXR0tEN/SVq5cmWx/VEyVzIWkvT666/rlVdeUXJyslq2bFkWpbq80o5FgwYN9NNPPyk1NdX+6NWrl7p06aLU1FSFh4eXZfku5Ur+Ltq1a6dffvnFHsIlac+ePQoLCyP8XaUrGY8zZ84UCnkF4dwYc/2KRSGW/P529q9QbmQLFiwwXl5eZu7cuWbHjh1m0KBBJigoyKSnpxtjjHnkkUfMyJEj7f3XrVtnypUrZyZOnGh27txpEhMTuQzMNVLasXj11VeNp6enWbRokTl8+LD9cfLkSWetgsso7VhcjF8BXzulHYsDBw6Y8uXLmyeffNLs3r3bLFmyxISEhJhx48Y5axVcSmnHIzEx0ZQvX97897//Nfv27TMrVqwwERER5oEHHnDWKriMkydPmi1btpgtW7YYSWbSpElmy5Yt5tdffzXGGDNy5EjzyCOP2PsXXAbmmWeeMTt37jRTp07lMjBW99Zbb5nq1asbT09P07p1a/Pdd9/ZX+vUqZOJi4tz6P/hhx+aevXqGU9PT9O4cWOzdOnSMq7YdZVmLGrUqGEkFXokJiaWfeEuqLR/FxciAF5bpR2L9evXm6ioKOPl5WVq165t/vnPf5rc3Nwyrtp1lWY8zp8/b8aMGWMiIiKMt7e3CQ8PN4MHDza///572RfuYtasWVPkd0DB9o+LizOdOnUqNE1kZKTx9PQ0tWvXNnPmzCnzusuSzRj2MwMAAFgJ5wACAABYDAEQAADAYgiAAAAAFkMABAAAsBgCIAAAgMUQAAEAACyGAAgAAGAxBEAAKKExY8YoMjLykn32798vm82m1NTUMqkJAK4EF4IGgBI6deqUzp07p0qVKkmS+vfvr8zMTH322Wf2Pnl5eTp69KgqV66scuXKOalSALg0Pp0AoIT8/f3l7+9/yT7u7u6qUqVKGVUEAFeGQ8AAbkgFh1IvfnTu3LnYaWw2m6ZNm6Zu3brJx8dHtWvX1qJFixz6/PTTT7r99tvl4+OjSpUqadCgQTp16pT99bVr16p169by8/NTUFCQ2rVrp19//VWS4yHgMWPG6L333tPixYvtta1du7bIQ8BfffWVWrduLS8vL4WFhWnkyJHKzc21v965c2cNGzZMzz77rCpWrKgqVapozJgxV70NAaA4BEAAN6Tw8HAdPnzY/tiyZYsqVaqkjh07XnK6l156Sffdd59+/PFHPfzww+rbt6927twpSTp9+rRiY2NVoUIF/fDDD/roo4+0atUqPfnkk5Kk3Nxc9e7dW506ddLWrVuVkpKiQYMGyWazFVrOP/7xDz3wwAO666677DW2bdu2UL9Dhw6pe/fuatWqlX788UdNmzZNs2bN0rhx4xz6vffee/Lz89P333+v119/XWPHjtXKlSuvdPMBwKUZALjBnT171kRFRZm7777b5OXlFdtPknn88ccd2qKioswTTzxhjDFmxowZpkKFCubUqVP215cuXWrc3NxMenq6OX78uJFk1q5dW+T8ExMTTbNmzezP4+LizD333OPQJy0tzUgyW7ZsMcYY8/zzz5v69eub/Px8e5+pU6caf39/+7p06tTJtG/f3mE+rVq1Ms8991yx6woAV4M9gABueH//+9918uRJzZ8/X25ul/7Yio6OLvS8YA/gzp071axZM/n5+dlfb9eunfLz87V7925VrFhR/fv3V2xsrHr27Kk333xThw8fvqrad+7cqejoaIe9iO3atdOpU6f022+/2duaNm3qMF1YWJiOHDlyVcsGgOIQAAHc0MaNG6fly5fr888/V/ny5a/78ubMmaOUlBS1bdtWCxcuVL169fTdd99d9+V6eHg4PLfZbMrPz7/uywVgTQRAADesjz/+WGPHjtWHH36oiIiIEk1zcVj77rvv1LBhQ0lSw4YN9eOPP+r06dP219etWyc3NzfVr1/f3ta8eXONGjVK69evV5MmTTR//vwil+Xp6am8vLxL1tOwYUOlpKTIXHDFrXXr1ql8+fK65ZZbSrROAHCtEQAB3JC2bdumfv366bnnnlPjxo2Vnp6u9PR0nThx4pLTffTRR5o9e7b27NmjxMREbdiwwf4jj4cfflje3t6Ki4vTtm3btGbNGg0dOlSPPPKIQkNDlZaWplGjRiklJUW//vqrVqxYoZ9//tkeIC9Ws2ZNbd26Vbt379axY8d0/vz5Qn0GDx6sgwcPaujQodq1a5cWL16sxMREJSQkXPZwNgBcL3z6ALghbdy4UWfOnNG4ceMUFhZmf/zlL3+55HQvv/yyFixYoKZNm+o///mP/vvf/6pRo0aSJF9fXy1fvlwnTpxQq1atdP/99+uOO+7QlClT7K/v2rVL9913n+rVq6dBgwZpyJAheuyxx4pc1sCBA1W/fn21bNlSwcHBWrduXaE+1apV07Jly7RhwwY1a9ZMjz/+uAYMGKAXX3zxKrcQAFw57gQCwGXYbDZ9+umn6t27t7NLAYAbGnsAAQAALIYACAAAYDHcCxiAy+CMFgAoGfYAAgAAWAwBEAAAwGIIgAAAABZDAAQAALAYAiAAAIDFEAABAAAshgAIAABgMQRAAAAAiyEAAgAAWMz/AbGV1lDEgSLGAAAAAElFTkSuQmCC' width=640.0/>\n",
       "            </div>\n",
       "        "
      ],
      "text/plain": [
       "Canvas(toolbar=Toolbar(toolitems=[('Home', 'Reset original view', 'home', 'home'), ('Back', 'Back to previous …"
      ]
     },
     "metadata": {},
     "output_type": "display_data"
    }
   ],
   "source": [
    "input_matrix = jnp.vstack([\n",
    "    detector_coords[:, 0],\n",
    "    detector_coords[:, 1],\n",
    "    possible_theta_x_outs,\n",
    "    possible_theta_y_outs,\n",
    "    jnp.ones_like(possible_theta_x_outs)\n",
    "])\n",
    "\n",
    "zs = [crossover_z[0]] + [component.z for component in model]\n",
    "\n",
    "zs_inverse = zs[::-1]\n",
    "inverse_matrices = inverse_ABCDs_comp_to_comp[::-1]\n",
    "\n",
    "coords = []\n",
    "coords.append(input_matrix)\n",
    "for i in range(len(inverse_matrices)):\n",
    "    inverse_matrix = inverse_matrices[i][0]\n",
    "    new_coords = jnp.dot(inverse_matrix, coords[i])\n",
    "    coords.append(new_coords)\n",
    "\n",
    "coords_array = jnp.array(coords)\n",
    "xs = coords_array[:, 0, :]\n",
    "ys = coords_array[:, 1, :]\n",
    "num_rays = input_matrix.shape[1]\n",
    "\n",
    "# Extract the z values corresponding to each propagation plane (in reverse order)\n",
    "z_vals = zs_inverse  # [detector, descanner, sample, crossover]\n",
    "\n",
    "# Number of rays (columns in the coordinate matrices)\n",
    "num_rays = input_matrix.shape[1]\n",
    "\n",
    "plt.figure()\n",
    "for ray in range(num_rays):\n",
    "    plt.plot(z_vals, xs[:, ray], label=f'ray {ray}')\n",
    "\n",
    "plt.figure()\n",
    "plt.xlabel('z position')\n",
    "plt.ylabel('x coordinate')\n",
    "plt.title('Propagation of x-coordinates across z planes')\n",
    "plt.legend()\n",
    "plt.show()"
   ]
  }
 ],
 "metadata": {
  "kernelspec": {
   "display_name": "temgym",
   "language": "python",
   "name": "python3"
  },
  "language_info": {
   "codemirror_mode": {
    "name": "ipython",
    "version": 3
   },
   "file_extension": ".py",
   "mimetype": "text/x-python",
   "name": "python",
   "nbconvert_exporter": "python",
   "pygments_lexer": "ipython3",
   "version": "3.12.6"
  }
 },
 "nbformat": 4,
 "nbformat_minor": 2
}
