{
 "cells": [
  {
   "cell_type": "code",
   "execution_count": 4,
   "metadata": {},
   "outputs": [],
   "source": [
    "import temgymbasic.jax_components as comp\n",
    "from temgymbasic.jax_run import run_to_end\n",
    "from temgymbasic.jax_ray import Ray\n",
    "from temgymbasic.jax_source import PointBeam, ParallelBeam\n",
    "from temgymbasic.jax_utils import calculate_phi_0\n",
    "import jax.numpy as jnp\n",
    "import jax\n"
   ]
  },
  {
   "cell_type": "code",
   "execution_count": 10,
   "metadata": {},
   "outputs": [
    {
     "name": "stderr",
     "output_type": "stream",
     "text": [
      "\\\\grenfshome01\\DL277493\\TemGym\\src\\temgymbasic\\jax_utils.py:166: UserWarning: Explicitly requested dtype <class 'jax.numpy.float64'> requested in zeros is not available, and will be truncated to dtype float32. To enable more dtypes, set the jax_enable_x64 configuration option or the JAX_ENABLE_X64 shell environment variable. See https://github.com/jax-ml/jax#current-gotchas for more.\n",
      "  matrix = jnp.zeros(\n"
     ]
    },
    {
     "name": "stdout",
     "output_type": "stream",
     "text": [
      "Ray(matrix=Array([[0.  , 0.  , 0.01, 0.  , 1.  ]], dtype=float32), z=Array([0.], dtype=float32), amplitude=Array([1.], dtype=float32), pathlength=Array([0.], dtype=float32), wavelength=1.0, blocked=0)\n",
      "-8.0\n"
     ]
    }
   ],
   "source": [
    "components = [comp.Lens(z=0.2, focal_length=0.2),\n",
    "             comp.Detector(z=2.0, pixel_size=0.01, shape=(100, 100))]\n",
    "\n",
    "n_rays = 1\n",
    "n_rays_dim = int(jnp.sqrt(n_rays))\n",
    "\n",
    "Rays = PointBeam(0.0,\n",
    "                n_rays,\n",
    "                semi_angle=0.,\n",
    "                tilt_yx=(0, 0.01),\n",
    "                centre_yx=(0., 0.),\n",
    "                voltage=calculate_phi_0(1.0),\n",
    "                random=False)\n",
    "\n",
    "print(Rays)\n",
    "def create_ray(ray):\n",
    "    return Ray(z=ray.z, \n",
    "               matrix=ray.matrix,\n",
    "               amplitude=ray.amplitude,\n",
    "               pathlength=ray.pathlength,\n",
    "               wavelength=ray.wavelength)\n",
    "\n",
    "# Method 1\n",
    "one_ray = jax.jit(jax.vmap(lambda r: run_to_end(create_ray(r), components)))\n",
    "\n",
    "dro_dri = jax.jit(jax.vmap(lambda r: jax.jacobian(run_to_end, argnums=0)(create_ray(r), components)))(Rays)\n",
    "dro_dmodel = jax.jit(jax.vmap(lambda r: jax.jacobian(run_to_end, argnums=1)(create_ray(r), components)))(Rays)\n",
    "\n",
    "magnification = dro_dri.matrix.matrix[0, 0, 0]\n",
    "\n",
    "print(magnification)"
   ]
  },
  {
   "cell_type": "code",
   "execution_count": 9,
   "metadata": {},
   "outputs": [
    {
     "name": "stdout",
     "output_type": "stream",
     "text": [
      "[Lens(z=Array([[-0.08,  0.  , -0.05,  0.  ,  0.  ]], dtype=float32, weak_type=True), focal_length=Array([[0.08999999, 0.        , 0.05      , 0.        , 0.        ]],      dtype=float32, weak_type=True)), Detector(z=Array([[-6.9849193e-10,  0.0000000e+00,  0.0000000e+00,  0.0000000e+00,\n",
      "         0.0000000e+00]], dtype=float32, weak_type=True), pixel_size=0.01, shape=(100, 100), rotation=0.0, flip_y=False, center=(0.0, 0.0))]\n"
     ]
    }
   ],
   "source": [
    "print(dro_dmodel.matrix)"
   ]
  },
  {
   "cell_type": "markdown",
   "metadata": {},
   "source": [
    "Move Aperture based on gradients?"
   ]
  },
  {
   "cell_type": "markdown",
   "metadata": {},
   "source": [
    "Find Lens location that achieves a target magnification, while fixing focal length - Extend to Projector Lens system that can be moved around with a fixed set of focal lengths to achieve target magnification."
   ]
  },
  {
   "cell_type": "markdown",
   "metadata": {},
   "source": [
    "Align double deflector settings to find pivot point"
   ]
  }
 ],
 "metadata": {
  "kernelspec": {
   "display_name": "temgym",
   "language": "python",
   "name": "python3"
  },
  "language_info": {
   "codemirror_mode": {
    "name": "ipython",
    "version": 3
   },
   "file_extension": ".py",
   "mimetype": "text/x-python",
   "name": "python",
   "nbconvert_exporter": "python",
   "pygments_lexer": "ipython3",
   "version": "3.12.0"
  }
 },
 "nbformat": 4,
 "nbformat_minor": 2
}
