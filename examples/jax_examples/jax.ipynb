{
 "cells": [
  {
   "cell_type": "code",
   "execution_count": 1,
   "metadata": {},
   "outputs": [],
   "source": [
    "import temgymbasic.jax_components as comp\n",
    "from temgymbasic.jax_model import run_model_to_end, run_model_iter\n",
    "from temgymbasic.jax_ray import Ray\n",
    "import jax.numpy as jnp\n",
    "import jax\n",
    "# from .utils import circular_beam, point_beam"
   ]
  },
  {
   "cell_type": "code",
   "execution_count": 12,
   "metadata": {},
   "outputs": [],
   "source": [
    "model = [comp.Lens(z= 0.5, focal_length=0.1),\n",
    "         comp.DoubleDeflector(z=0.325,\n",
    "                              first=comp.Deflector(z=0.3, def_x=0.1, def_y=0.0), \n",
    "                              second=comp.Deflector(z=0.35, def_x=0.1, def_y=0.0)),\n",
    "         comp.Biprism(z=0.75, deflection=0.001),\n",
    "         comp.Aperture(z=0.8, radius=0.01),\n",
    "         comp.Detector(z=1.0, pixel_size=0.01, shape=(100, 100))]\n",
    "\n",
    "n_rays = 1024\n",
    "n_rays_dim = int(jnp.sqrt(n_rays))\n",
    "\n",
    "input_amplitude = 1.0\n",
    "input_pathlength = 0.0\n",
    "input_wavelength = 1.0\n",
    "\n",
    "# Prepare multiple input rays (each row is a separate ray)\n",
    "r1mx = jnp.linspace(-0.1, 0.1, n_rays_dim) #x off set\n",
    "r1my = jnp.linspace(-0.1, 0.1, n_rays_dim) #y off set\n",
    "r1m = jnp.stack(jnp.meshgrid(r1mx, r1my), axis=-1).reshape(2, -1)\n",
    "\n",
    "theta1mx = jnp.linspace(-0.0, 0.0, n_rays_dim) #dx off set\n",
    "theta1my = jnp.linspace(-0.0, 0.0, n_rays_dim) #dy off set\n",
    "theta1m = jnp.stack(jnp.meshgrid(theta1mx, theta1my), axis=-1).reshape(2, -1)\n",
    "\n",
    "#Create ray input\n",
    "input_z = jnp.zeros((n_rays))\n",
    "input_matrix = jnp.vstack([r1m[0, :], r1m[1, :], theta1m[0, :], theta1m[1, :], jnp.ones((n_rays))]).T\n",
    "input_amplitude = jnp.ones((n_rays))\n",
    "input_pathlength = jnp.zeros((n_rays))\n",
    "input_wavelength = jnp.ones((n_rays))\n",
    "\n",
    "Rays = Ray(z=input_z, \n",
    "           matrix=input_matrix, \n",
    "           amplitude=input_amplitude, \n",
    "           pathlength=input_pathlength, \n",
    "           wavelength=input_wavelength)\n",
    "\n",
    "\n",
    "def create_ray(ray):\n",
    "    return Ray(z=ray.z, \n",
    "               matrix=ray.matrix,\n",
    "               amplitude=ray.amplitude,\n",
    "               pathlength=ray.pathlength,\n",
    "               wavelength=ray.wavelength)\n",
    "\n",
    "# vmap over run_model to process each ray in rays_input\n",
    "\n",
    "# Method 1\n",
    "batched_run_model_one_ray = jax.jit(jax.vmap(lambda r: run_model_to_end(create_ray(r), model)))\n",
    "all_rays = batched_run_model_one_ray(Rays)\n",
    "\n",
    "# Method 2\n",
    "batched_run_model_array_of_rays = jax.jit(jax.vmap(run_model_to_end, in_axes=(0, None)))\n",
    "all_rays = batched_run_model_array_of_rays(Rays, model)\n",
    "\n",
    "# Method 3\n",
    "all_rays = jax.jit(run_model_to_end)(Ray(z=0.0, \n",
    "                                         matrix=input_matrix, \n",
    "                                         amplitude=1., \n",
    "                                         pathlength=0., \n",
    "                                         wavelength=1.),\n",
    "                                         model)"
   ]
  },
  {
   "cell_type": "code",
   "execution_count": 13,
   "metadata": {},
   "outputs": [
    {
     "name": "stdout",
     "output_type": "stream",
     "text": [
      "52.9 μs ± 2.71 μs per loop (mean ± std. dev. of 7 runs, 10,000 loops each)\n"
     ]
    }
   ],
   "source": [
    "%timeit batched_run_model_one_ray(Rays)"
   ]
  },
  {
   "cell_type": "code",
   "execution_count": 14,
   "metadata": {},
   "outputs": [
    {
     "name": "stdout",
     "output_type": "stream",
     "text": [
      "125 μs ± 9.46 μs per loop (mean ± std. dev. of 7 runs, 10,000 loops each)\n"
     ]
    }
   ],
   "source": [
    "%timeit batched_run_model_array_of_rays(Rays, model)"
   ]
  },
  {
   "cell_type": "code",
   "execution_count": 15,
   "metadata": {},
   "outputs": [
    {
     "name": "stdout",
     "output_type": "stream",
     "text": [
      "136 μs ± 3.42 μs per loop (mean ± std. dev. of 7 runs, 1,000 loops each)\n"
     ]
    }
   ],
   "source": [
    "func = jax.jit(run_model_to_end)\n",
    "%timeit func(Ray(z=0.0, matrix=input_matrix, amplitude=1., pathlength=0., wavelength=1.), model)"
   ]
  },
  {
   "cell_type": "code",
   "execution_count": 10,
   "metadata": {},
   "outputs": [],
   "source": [
    "# Method 1\n",
    "batched_dro_dri = jax.vmap(lambda ray: jax.jacobian(run_model_to_end, argnums=0)(ray, model))\n",
    "dro_dri = batched_dro_dri(Rays)\n",
    "\n",
    "# # Method 2\n",
    "batched_run_model_array_of_rays = jax.vmap(jax.jacobian(run_model_to_end), in_axes=(0, None))\n",
    "dro_dri = batched_run_model_array_of_rays(Rays, model)\n",
    "\n",
    "\n",
    "# Method 3\n",
    "dro_dri = jax.jacobian(run_model_to_end, argnums=0)(Ray(z=0.0, matrix=input_matrix, amplitude=1., pathlength=0., wavelength=1.), model)\n"
   ]
  },
  {
   "cell_type": "code",
   "execution_count": 5,
   "metadata": {},
   "outputs": [],
   "source": [
    "\n",
    "# batched_run_model = jax.vmap(lambda ray: run_model_iter(ray, model))\n",
    "# all_rays = batched_run_model(Rays)\n",
    "\n",
    "# # # Partial derivatives of ray output with respect to ray input\n",
    "# batched_dro_dri = jax.vmap(lambda ray: jax.jacobian(run_model_to_end, argnums=0)(ray, model))\n",
    "# dro_dri = batched_dro_dri(Rays)\n",
    "\n",
    "# ABCD = dro_dri.matrix.matrix\n",
    "\n",
    "# # Extract ABCD matrices\n",
    "# A = ABCD[:, :2, :2]\n",
    "# B = ABCD[:, :2, 2:4]\n",
    "# C = ABCD[:, 2:4, :2]\n",
    "# D = ABCD[:, 2:4, 2:4]\n",
    "\n"
   ]
  },
  {
   "cell_type": "code",
   "execution_count": null,
   "metadata": {},
   "outputs": [
    {
     "ename": "NameError",
     "evalue": "name 'C' is not defined",
     "output_type": "error",
     "traceback": [
      "\u001b[1;31m---------------------------------------------------------------------------\u001b[0m",
      "\u001b[1;31mNameError\u001b[0m                                 Traceback (most recent call last)",
      "Cell \u001b[1;32mIn[7], line 3\u001b[0m\n\u001b[0;32m      1\u001b[0m focal_length \u001b[38;5;241m=\u001b[39m model[\u001b[38;5;241m0\u001b[39m]\u001b[38;5;241m.\u001b[39mfocal_length\n\u001b[0;32m      2\u001b[0m expected_C \u001b[38;5;241m=\u001b[39m \u001b[38;5;241m-\u001b[39m\u001b[38;5;241m1\u001b[39m \u001b[38;5;241m/\u001b[39m focal_length \u001b[38;5;241m*\u001b[39m jnp\u001b[38;5;241m.\u001b[39meye(\u001b[38;5;241m2\u001b[39m)\n\u001b[1;32m----> 3\u001b[0m expected_C \u001b[38;5;241m=\u001b[39m jnp\u001b[38;5;241m.\u001b[39mrepeat(expected_C[\u001b[38;5;28;01mNone\u001b[39;00m, :, :], \u001b[43mC\u001b[49m\u001b[38;5;241m.\u001b[39mshape[\u001b[38;5;241m0\u001b[39m], axis\u001b[38;5;241m=\u001b[39m\u001b[38;5;241m0\u001b[39m)\n\u001b[0;32m      5\u001b[0m \u001b[38;5;66;03m# Verify that the 2x2 matric C is equal to -1/f on each diagonal element\u001b[39;00m\n\u001b[0;32m      6\u001b[0m \u001b[38;5;28;01massert\u001b[39;00m jnp\u001b[38;5;241m.\u001b[39mallclose(C, expected_C), \u001b[38;5;124m\"\u001b[39m\u001b[38;5;124mC does not match -1/f * I\u001b[39m\u001b[38;5;124m\"\u001b[39m\n",
      "\u001b[1;31mNameError\u001b[0m: name 'C' is not defined"
     ]
    }
   ],
   "source": [
    "focal_length = model[0].focal_length\n",
    "expected_C = -1 / focal_length * jnp.eye(2)\n",
    "expected_C = jnp.repeat(expected_C[None, :, :], C.shape[0], axis=0)\n",
    "\n",
    "# Verify that the 2x2 matric C is equal to -1/f on each diagonal element\n",
    "assert jnp.allclose(C, expected_C), \"C does not match -1/f * I\"\n",
    "print(\"Test passed: C is equal to -1/f * I.\")"
   ]
  },
  {
   "cell_type": "code",
   "execution_count": 8,
   "metadata": {},
   "outputs": [
    {
     "name": "stdout",
     "output_type": "stream",
     "text": [
      "[Lens(z=Array([[-1.000000e+00, -1.000000e+00,  4.656613e-10,  0.000000e+00,\n",
      "         0.000000e+00],\n",
      "       [-1.000000e+00,  1.000000e+00,  4.656613e-10,  0.000000e+00,\n",
      "         0.000000e+00],\n",
      "       [ 1.000000e+00,  1.000000e+00,  0.000000e+00,  0.000000e+00,\n",
      "         0.000000e+00],\n",
      "       [-1.000000e+00,  1.000000e+00,  4.656613e-10,  0.000000e+00,\n",
      "         0.000000e+00]], dtype=float32, weak_type=True), focal_length=Array([[-4.999999, -4.999999, -9.999999, -9.999999, -0.      ],\n",
      "       [-4.999999,  4.999999, -9.999999,  9.999999,  0.      ],\n",
      "       [ 4.999999,  4.999999,  9.999999,  9.999999,  0.      ],\n",
      "       [-4.999999,  4.999999, -9.999999,  9.999999,  0.      ]],      dtype=float32, weak_type=True)), DoubleDeflector(z=Array([[-2.0000005e-01,  0.0000000e+00,  9.3132280e-11,  0.0000000e+00,\n",
      "         0.0000000e+00],\n",
      "       [-2.0000005e-01,  0.0000000e+00,  9.3132280e-11,  0.0000000e+00,\n",
      "         0.0000000e+00],\n",
      "       [-1.9999999e-01,  0.0000000e+00,  0.0000000e+00,  0.0000000e+00,\n",
      "         0.0000000e+00],\n",
      "       [-2.0000005e-01,  0.0000000e+00,  9.3132280e-11,  0.0000000e+00,\n",
      "         0.0000000e+00]], dtype=float32, weak_type=True), first=Deflector(z=Array([[ 1.00000024e-01, -0.00000000e+00, -4.65661398e-11,\n",
      "        -0.00000000e+00, -0.00000000e+00],\n",
      "       [ 1.00000024e-01, -0.00000000e+00, -4.65661398e-11,\n",
      "        -0.00000000e+00, -0.00000000e+00],\n",
      "       [ 9.99999642e-02, -0.00000000e+00, -0.00000000e+00,\n",
      "        -0.00000000e+00, -0.00000000e+00],\n",
      "       [ 1.00000024e-01, -0.00000000e+00, -4.65661398e-11,\n",
      "        -0.00000000e+00, -0.00000000e+00]], dtype=float32, weak_type=True), def_x=Array([[0.67499995, 0.        , 1.        , 0.        , 0.        ],\n",
      "       [0.67499995, 0.        , 1.        , 0.        , 0.        ],\n",
      "       [0.67499995, 0.        , 1.        , 0.        , 0.        ],\n",
      "       [0.67499995, 0.        , 1.        , 0.        , 0.        ]],      dtype=float32, weak_type=True), def_y=Array([[0.        , 0.67499995, 0.        , 1.        , 0.        ],\n",
      "       [0.        , 0.67499995, 0.        , 1.        , 0.        ],\n",
      "       [0.        , 0.67499995, 0.        , 1.        , 0.        ],\n",
      "       [0.        , 0.67499995, 0.        , 1.        , 0.        ]],      dtype=float32, weak_type=True)), second=Deflector(z=Array([[-1.00000024e-01,  0.00000000e+00,  4.65661398e-11,\n",
      "         0.00000000e+00,  0.00000000e+00],\n",
      "       [-1.00000024e-01,  0.00000000e+00,  4.65661398e-11,\n",
      "         0.00000000e+00,  0.00000000e+00],\n",
      "       [-9.99999642e-02,  0.00000000e+00,  0.00000000e+00,\n",
      "         0.00000000e+00,  0.00000000e+00],\n",
      "       [-1.00000024e-01,  0.00000000e+00,  4.65661398e-11,\n",
      "         0.00000000e+00,  0.00000000e+00]], dtype=float32, weak_type=True), def_x=Array([[0.625, 0.   , 1.   , 0.   , 0.   ],\n",
      "       [0.625, 0.   , 1.   , 0.   , 0.   ],\n",
      "       [0.625, 0.   , 1.   , 0.   , 0.   ],\n",
      "       [0.625, 0.   , 1.   , 0.   , 0.   ]],      dtype=float32, weak_type=True), def_y=Array([[0.   , 0.625, 0.   , 1.   , 0.   ],\n",
      "       [0.   , 0.625, 0.   , 1.   , 0.   ],\n",
      "       [0.   , 0.625, 0.   , 1.   , 0.   ],\n",
      "       [0.   , 0.625, 0.   , 1.   , 0.   ]],      dtype=float32, weak_type=True))), Biprism(z=Array([[-1.0000467e-03,  0.0000000e+00, -5.5879357e-10,  0.0000000e+00,\n",
      "         0.0000000e+00],\n",
      "       [-1.0000467e-03,  0.0000000e+00, -5.5879357e-10,  0.0000000e+00,\n",
      "         0.0000000e+00],\n",
      "       [ 9.9998713e-04,  0.0000000e+00,  0.0000000e+00,  0.0000000e+00,\n",
      "         0.0000000e+00],\n",
      "       [-1.0000467e-03,  0.0000000e+00, -5.5879357e-10,  0.0000000e+00,\n",
      "         0.0000000e+00]], dtype=float32, weak_type=True), offset=Array([[ 1.1641532e-10, -0.0000000e+00,  4.6566129e-10, -0.0000000e+00,\n",
      "        -0.0000000e+00],\n",
      "       [ 1.1641532e-10, -0.0000000e+00,  4.6566129e-10, -0.0000000e+00,\n",
      "        -0.0000000e+00],\n",
      "       [-0.0000000e+00, -0.0000000e+00, -0.0000000e+00, -0.0000000e+00,\n",
      "        -0.0000000e+00],\n",
      "       [ 1.1641532e-10, -0.0000000e+00,  4.6566129e-10, -0.0000000e+00,\n",
      "        -0.0000000e+00]], dtype=float32, weak_type=True), rotation=Array([[-3.0477460e-13,  4.3633231e-06, -1.2190984e-12,  1.7453292e-05,\n",
      "         0.0000000e+00],\n",
      "       [ 3.0477460e-13,  4.3633231e-06,  1.2190984e-12,  1.7453292e-05,\n",
      "         0.0000000e+00],\n",
      "       [ 0.0000000e+00, -4.3633231e-06,  0.0000000e+00, -1.7453292e-05,\n",
      "         0.0000000e+00],\n",
      "       [ 3.0477460e-13,  4.3633231e-06,  1.2190984e-12,  1.7453292e-05,\n",
      "         0.0000000e+00]], dtype=float32, weak_type=True), deflection=Array([[ 0.25,  0.  ,  1.  ,  0.  ,  0.  ],\n",
      "       [ 0.25,  0.  ,  1.  ,  0.  ,  0.  ],\n",
      "       [-0.25,  0.  , -1.  ,  0.  ,  0.  ],\n",
      "       [ 0.25,  0.  ,  1.  ,  0.  ,  0.  ]],      dtype=float32, weak_type=True)), Aperture(z=Array([[0., 0., 0., 0., 0.],\n",
      "       [0., 0., 0., 0., 0.],\n",
      "       [0., 0., 0., 0., 0.],\n",
      "       [0., 0., 0., 0., 0.]], dtype=float32, weak_type=True), radius=Array([[0., 0., 0., 0., 0.],\n",
      "       [0., 0., 0., 0., 0.],\n",
      "       [0., 0., 0., 0., 0.],\n",
      "       [0., 0., 0., 0., 0.]], dtype=float32, weak_type=True), x=Array([[0., 0., 0., 0., 0.],\n",
      "       [0., 0., 0., 0., 0.],\n",
      "       [0., 0., 0., 0., 0.],\n",
      "       [0., 0., 0., 0., 0.]], dtype=float32, weak_type=True), y=Array([[0., 0., 0., 0., 0.],\n",
      "       [0., 0., 0., 0., 0.],\n",
      "       [0., 0., 0., 0., 0.],\n",
      "       [0., 0., 0., 0., 0.]], dtype=float32, weak_type=True)), Detector(z=Array([[ 1.2010001,  1.       ,  0.       ,  0.       ,  0.       ],\n",
      "       [ 1.2010001, -1.       ,  0.       ,  0.       ,  0.       ],\n",
      "       [-0.801    , -1.       , -0.       , -0.       , -0.       ],\n",
      "       [ 1.2010001, -1.       ,  0.       ,  0.       ,  0.       ]],      dtype=float32, weak_type=True), pixel_size=Array([[0., 0., 0., 0., 0.],\n",
      "       [0., 0., 0., 0., 0.],\n",
      "       [0., 0., 0., 0., 0.],\n",
      "       [0., 0., 0., 0., 0.]], dtype=float32, weak_type=True), shape=(100, 100), rotation=Array([[0., 0., 0., 0., 0.],\n",
      "       [0., 0., 0., 0., 0.],\n",
      "       [0., 0., 0., 0., 0.],\n",
      "       [0., 0., 0., 0., 0.]], dtype=float32, weak_type=True), flip_y=False, center=(0.0, 0.0))]\n"
     ]
    }
   ],
   "source": [
    "# # Partial derivatives of ray output with respect to model parameters\n",
    "batched_dro_dri = jax.jit(jax.vmap(lambda r: jax.jacobian(run_model_to_end, argnums=1)(create_ray(r), model)))\n",
    "dro_dmodel = batched_dro_dri(rays_input)\n",
    "\n",
    "print(dro_dmodel)\n"
   ]
  }
 ],
 "metadata": {
  "kernelspec": {
   "display_name": "temgym",
   "language": "python",
   "name": "python3"
  },
  "language_info": {
   "codemirror_mode": {
    "name": "ipython",
    "version": 3
   },
   "file_extension": ".py",
   "mimetype": "text/x-python",
   "name": "python",
   "nbconvert_exporter": "python",
   "pygments_lexer": "ipython3",
   "version": "3.12.0"
  }
 },
 "nbformat": 4,
 "nbformat_minor": 2
}
