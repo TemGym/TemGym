{
 "cells": [
  {
   "cell_type": "code",
   "execution_count": 4,
   "metadata": {},
   "outputs": [],
   "source": [
    "import temgymbasic.jax_components as comp\n",
    "from temgymbasic.jax_ray import Ray, propagate\n",
    "import jax.numpy as jnp\n",
    "import jax"
   ]
  },
  {
   "cell_type": "code",
   "execution_count": 5,
   "metadata": {},
   "outputs": [],
   "source": [
    "\n",
    "# Run the model\n",
    "@jax.jit #Unsure if I need jit here also????\n",
    "def run_model(ray, model):\n",
    "    for component in model:\n",
    "\n",
    "        distance = component.z - ray.z\n",
    "        ray = propagate(distance, ray)\n",
    "        ray = component.step(ray)\n",
    "\n",
    "    return ray.matrix\n",
    "\n",
    "model = [comp.Lens(z= 0.5, focal_length=0.1),\n",
    "         comp.Detector(z=1.0, pixel_size=0.01, shape=(100, 100))]\n",
    "\n",
    "n_rays = 4\n",
    "n_rays_dim = int(jnp.sqrt(n_rays))\n",
    "\n",
    "input_amplitude = 1.0\n",
    "input_pathlength = 0.0\n",
    "input_wavelength = 1.0\n",
    "\n",
    "# Prepare multiple input rays (each row is a separate ray)\n",
    "r1mx = jnp.linspace(-0.1, 0.1, n_rays_dim) #x off set\n",
    "r1my = jnp.linspace(-0.1, 0.1, n_rays_dim) #y off set\n",
    "r1m = jnp.stack(jnp.meshgrid(r1mx, r1my), axis=-1).reshape(2, -1)\n",
    "\n",
    "theta1mx = jnp.linspace(-0.0, 0.0, n_rays_dim) #dx off set\n",
    "theta1my = jnp.linspace(-0.0, 0.0, n_rays_dim) #dy off set\n",
    "theta1m = jnp.stack(jnp.meshgrid(theta1mx, theta1my), axis=-1).reshape(2, -1)\n",
    "\n",
    "#Create ray input\n",
    "rays_input = jnp.vstack([r1m[0, :], r1m[1, :], theta1m[0, :], theta1m[1, :], jnp.ones((n_rays))]).T\n",
    "\n",
    "def create_ray(ray_data):\n",
    "    return Ray(z=0.0, \n",
    "               matrix=ray_data,\n",
    "               amplitude=input_amplitude,\n",
    "               pathlength=input_pathlength,\n",
    "               wavelength=input_wavelength)\n",
    "\n",
    "# vmap over run_model to process each ray in rays_input\n",
    "batched_run_model = jax.jit(jax.vmap(lambda r: run_model(create_ray(r), model)))\n",
    "ray_outputs = batched_run_model(rays_input)\n",
    "\n",
    "# # Partial derivatives of ray output with respect to ray input\n",
    "batched_dro_dri = jax.jit(jax.vmap(lambda r: jax.jacobian(run_model, argnums=0)(create_ray(r), model)))\n",
    "dro_dri = batched_dro_dri(rays_input)\n",
    "\n",
    "ABCD = dro_dri.matrix\n",
    "\n",
    "# Extract ABCD matrices\n",
    "A = ABCD[:, :2, :2]\n",
    "B = ABCD[:, :2, 2:4]\n",
    "C = ABCD[:, 2:4, :2]\n",
    "D = ABCD[:, 2:4, 2:4]"
   ]
  },
  {
   "cell_type": "code",
   "execution_count": 6,
   "metadata": {},
   "outputs": [
    {
     "name": "stdout",
     "output_type": "stream",
     "text": [
      "Test passed: C is equal to -1/f * I.\n"
     ]
    }
   ],
   "source": [
    "focal_length = model[0].focal_length\n",
    "expected_C = -1 / focal_length * jnp.eye(2)\n",
    "expected_C = jnp.repeat(expected_C[None, :, :], C.shape[0], axis=0)\n",
    "\n",
    "# Verify that the 2x2 matric C is equal to -1/f on each diagonal element\n",
    "assert jnp.allclose(C, expected_C), \"C does not match -1/f * I\"\n",
    "print(\"Test passed: C is equal to -1/f * I.\")"
   ]
  },
  {
   "cell_type": "code",
   "execution_count": 7,
   "metadata": {},
   "outputs": [
    {
     "name": "stdout",
     "output_type": "stream",
     "text": [
      "[Lens(z=Array([[-1., -1.,  0.,  0.,  0.],\n",
      "       [-1.,  1.,  0.,  0.,  0.],\n",
      "       [ 1.,  1.,  0.,  0.,  0.],\n",
      "       [-1.,  1.,  0.,  0.,  0.]], dtype=float32, weak_type=True), focal_length=Array([[-4.9999995, -4.9999995, -9.999999 , -9.999999 , -0.       ],\n",
      "       [-4.9999995,  4.9999995, -9.999999 ,  9.999999 ,  0.       ],\n",
      "       [ 4.9999995,  4.9999995,  9.999999 ,  9.999999 ,  0.       ],\n",
      "       [-4.9999995,  4.9999995, -9.999999 ,  9.999999 ,  0.       ]],      dtype=float32, weak_type=True)), Detector(z=Array([[ 1.,  1.,  0.,  0.,  0.],\n",
      "       [ 1., -1.,  0.,  0.,  0.],\n",
      "       [-1., -1., -0., -0., -0.],\n",
      "       [ 1., -1.,  0.,  0.,  0.]], dtype=float32, weak_type=True), pixel_size=Array([[0., 0., 0., 0., 0.],\n",
      "       [0., 0., 0., 0., 0.],\n",
      "       [0., 0., 0., 0., 0.],\n",
      "       [0., 0., 0., 0., 0.]], dtype=float32, weak_type=True), shape=(100, 100), rotation=Array([[0., 0., 0., 0., 0.],\n",
      "       [0., 0., 0., 0., 0.],\n",
      "       [0., 0., 0., 0., 0.],\n",
      "       [0., 0., 0., 0., 0.]], dtype=float32, weak_type=True), flip_y=False, center=(0.0, 0.0))]\n"
     ]
    }
   ],
   "source": [
    "# # Partial derivatives of ray output with respect to model parameters\n",
    "batched_dro_dri = jax.jit(jax.vmap(lambda r: jax.jacobian(run_model, argnums=1)(create_ray(r), model)))\n",
    "dro_dmodel = batched_dro_dri(rays_input)\n",
    "\n",
    "print(dro_dmodel)\n"
   ]
  }
 ],
 "metadata": {
  "kernelspec": {
   "display_name": "temgym",
   "language": "python",
   "name": "python3"
  },
  "language_info": {
   "codemirror_mode": {
    "name": "ipython",
    "version": 3
   },
   "file_extension": ".py",
   "mimetype": "text/x-python",
   "name": "python",
   "nbconvert_exporter": "python",
   "pygments_lexer": "ipython3",
   "version": "3.12.0"
  }
 },
 "nbformat": 4,
 "nbformat_minor": 2
}
