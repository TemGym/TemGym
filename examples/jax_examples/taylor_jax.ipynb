{
 "cells": [
  {
   "cell_type": "code",
   "execution_count": 3,
   "metadata": {},
   "outputs": [
    {
     "name": "stdout",
     "output_type": "stream",
     "text": [
      "Taylor coefficients:\n",
      "Term 0: 1.0\n",
      "Term 1: 1.0\n",
      "Term 2: 0.5\n",
      "Term 3: 0.16666666666666666\n",
      "Term 4: 0.041666666666666664\n",
      "Term 5: 0.008333333333333333\n",
      "\n",
      "At t = 1.0:\n",
      "Taylor approximation: 2.7166666666666663\n",
      "Exact value: 2.718281828459045\n",
      "Error: 0.0016151617923787498\n"
     ]
    }
   ],
   "source": [
    "import jax\n",
    "import jax.numpy as jnp\n",
    "from jax import config\n",
    "from jax.experimental import jet\n",
    "\n",
    "config.update(\"jax_enable_x64\", True)  # For better numerical precision\n",
    "\n",
    "def taylor_expand_ode(vf, initial_value, num_terms):\n",
    "    \"\"\"\n",
    "    Compute Taylor expansion of an ODE solution using JAX's jet.\n",
    "    \n",
    "    Args:\n",
    "        vf: Vector field function that takes state as input\n",
    "        initial_value: Initial state (should be a JAX array)\n",
    "        num_terms: Number of terms in the Taylor expansion\n",
    "    \n",
    "    Returns:\n",
    "        List of Taylor coefficients [y0, y1, y2, ..., yn]\n",
    "        where yi is the i-th Taylor coefficient divided by i!.\n",
    "    \"\"\"\n",
    "    if num_terms == 0:\n",
    "        return [initial_value]\n",
    "    \n",
    "    # Initial term is just the initial value\n",
    "    taylor_coeffs = [initial_value]\n",
    "    \n",
    "    # Compute first derivative (vector field evaluation)\n",
    "    primals = vf(initial_value)\n",
    "    taylor_coeffs.append(primals)  # y1 (dy/dt)\n",
    "    \n",
    "    factorial = 1  # Keep track of factorial\n",
    "    \n",
    "    # Compute higher-order derivatives using jet\n",
    "    for i in range(1, num_terms - 1):\n",
    "        factorial *= i + 1  # Update factorial\n",
    "        \n",
    "        # Get current coefficients excluding initial value\n",
    "        series = taylor_coeffs[1:]\n",
    "        \n",
    "        # Call jet with appropriate primals and series\n",
    "        primals_out, series_out = jet.jet(vf, (initial_value,), (series,))\n",
    "        \n",
    "        # Normalize the term by factorial\n",
    "        new_term = series_out[0] / factorial\n",
    "        \n",
    "        # Append new coefficient\n",
    "        taylor_coeffs.append(new_term)\n",
    "        \n",
    "    return taylor_coeffs\n",
    "\n",
    "# Example usage with a simple ODE dy/dt = y (exponential growth)\n",
    "def exponential_vf(y):\n",
    "    return y\n",
    "\n",
    "# Test the implementation\n",
    "initial_value = jnp.array(1.0)\n",
    "num_terms = 6\n",
    "\n",
    "coeffs = taylor_expand_ode(exponential_vf, initial_value, num_terms)\n",
    "\n",
    "print(\"Taylor coefficients:\")\n",
    "for i, coeff in enumerate(coeffs):\n",
    "    print(f\"Term {i}: {coeff}\")\n",
    "\n",
    "# Evaluate the Taylor polynomial at t=1.0\n",
    "def evaluate_taylor_polynomial(coeffs, t):\n",
    "    result = jnp.zeros_like(coeffs[0])\n",
    "    for i, coeff in enumerate(coeffs):\n",
    "        result += coeff * (t ** i)\n",
    "    return result\n",
    "\n",
    "t_eval = 1.0\n",
    "approx_value = evaluate_taylor_polynomial(coeffs, t_eval)\n",
    "exact_value = jnp.exp(t_eval)\n",
    "\n",
    "print(f\"\\nAt t = {t_eval}:\")\n",
    "print(f\"Taylor approximation: {approx_value}\")\n",
    "print(f\"Exact value: {exact_value}\")\n",
    "print(f\"Error: {abs(exact_value - approx_value)}\")\n"
   ]
  },
  {
   "cell_type": "code",
   "execution_count": null,
   "metadata": {},
   "outputs": [
    {
     "data": {
      "image/png": "[encoded data removed]",
      "text/latex": [
       "$\\displaystyle x_{1}$"
      ],
      "text/plain": [
       "x₁"
      ]
     },
     "metadata": {},
     "output_type": "display_data"
    },
    {
     "data": {
      "image/png": "[encoded data removed]",
      "text/latex": [
       "$\\displaystyle x_1^{\\prime}$"
      ],
      "text/plain": [
       "x_1__{\\prime}"
      ]
     },
     "metadata": {},
     "output_type": "display_data"
    }
   ],
   "source": [
    "import sympy as sp\n",
    "sp.init_printing()\n",
    "x_1, x_1_prime, x_2, x_2_prime, R_1,  = sp.symbols('x_1 x_1^{\\\\prime} R')\n",
    "display(x_1, x_1_prime)\n",
    "\n",
    "# Write the taylor expansion of output coordinate x_2 as a function of x_1 and x_1_prime\n",
    "\n",
    "distance = sp.sqrt(x_1**2 + R_1**2)"
   ]
  },
  {
   "cell_type": "code",
   "execution_count": 30,
   "metadata": {},
   "outputs": [
    {
     "name": "stdout",
     "output_type": "stream",
     "text": [
      "F expanded around (x_in=0, xprime_in=0) up to order (1,1):\n",
      "x_in**2*xprime_in*Subs(Derivative(F(x_in, xprime_in), (x_in, 2), xprime_in), (x_in, xprime_in), (0, 0))/2 + x_in**2*Subs(Derivative(F(x_in, 0), (x_in, 2)), x_in, 0)/2 + x_in*xprime_in*Subs(Derivative(F(x_in, xprime_in), x_in, xprime_in), (xprime_in, x_in), (0, 0)) + x_in*Subs(Derivative(F(x_in, 0), x_in), x_in, 0) + xprime_in*Subs(Derivative(F(0, xprime_in), xprime_in), xprime_in, 0) + F(0, 0)\n"
     ]
    }
   ],
   "source": [
    "import sympy\n",
    "from sympy import symbols, Function, diff, factorial, Derivative\n",
    "\n",
    "# -------------------------------------------\n",
    "# 1) Define our input variables symbolically\n",
    "# -------------------------------------------\n",
    "x_in, xprime_in = symbols('x_in xprime_in', real=True)\n",
    "\n",
    "# ------------------------------------------------------\n",
    "# 2) Define a generic function F(x_in, xprime_in) in Sympy\n",
    "#    Note: This is *not* an explicit expression, but a\n",
    "#    symbolic \"placeholder\" function.\n",
    "# ------------------------------------------------------\n",
    "F = Function('F')(x_in, xprime_in)\n",
    "\n",
    "# -------------------------------------------------------------\n",
    "# 3) Define a helper to do the 2D Taylor expansion about (x0,y0)\n",
    "#    up to orders (nx, ny).\n",
    "#    Because F is generic, we'll end up with derivative objects\n",
    "#    like Derivative(F(0,0), x_in).\n",
    "# -------------------------------------------------------------\n",
    "def taylor_2d_symbolic(f, x, x0, y, y0, nx, ny):\n",
    "    \"\"\"\n",
    "    Return the two-variable Taylor expansion of a *generic* function\n",
    "    f(x, y) around (x0, y0), up to 'nx' in (x-x0) and 'ny' in (y-y0).\n",
    "\n",
    "    Since 'f' is symbolic (no explicit formula), the result will contain\n",
    "    unevaluated partial derivatives (e.g., Derivative(F(0,0), x)).\n",
    "    \"\"\"\n",
    "    expansion = 0\n",
    "    # Double-sum for m=0..nx, n=0..ny\n",
    "    for m in range(nx + 1):\n",
    "        for n in range(ny + 1):\n",
    "            # Compute the (m,n)-th partial derivative of f\n",
    "            # i.e. \\partial^{m+n} f / (\\partial x^m \\partial y^n)\n",
    "            df = diff(f, (x, m), (y, n))\n",
    "            \n",
    "            # Evaluate that derivative at (x0, y0).  For a *generic* F,\n",
    "            # this remains a 'Derivative(F(0,0), x, ...)' object.\n",
    "            df_at_0 = df.subs({x: x0, y: y0})\n",
    "            \n",
    "            # The standard Taylor term = df_at_0 * ( (x-x0)^m (y-y0)^n ) / (m! n!)\n",
    "            term = df_at_0 * ( (x - x0)**m * (y - y0)**n ) / ( factorial(m)*factorial(n) )\n",
    "            expansion += term\n",
    "\n",
    "    return sympy.simplify(expansion)\n",
    "\n",
    "# --------------------------------------------\n",
    "# 4) Perform the Taylor expansion around (0,0)\n",
    "#    up to first order (nx=1, ny=1) for example\n",
    "# --------------------------------------------\n",
    "F_expanded = taylor_2d_symbolic(F, x_in, 0, xprime_in, 0, nx=2, ny=1)\n",
    "\n",
    "print(\"F expanded around (x_in=0, xprime_in=0) up to order (1,1):\")\n",
    "print(F_expanded.doit())\n"
   ]
  }
 ],
 "metadata": {
  "kernelspec": {
   "display_name": "temgym",
   "language": "python",
   "name": "python3"
  },
  "language_info": {
   "codemirror_mode": {
    "name": "ipython",
    "version": 3
   },
   "file_extension": ".py",
   "mimetype": "text/x-python",
   "name": "python",
   "nbconvert_exporter": "python",
   "pygments_lexer": "ipython3",
   "version": "3.12.0"
  }
 },
 "nbformat": 4,
 "nbformat_minor": 2
}
