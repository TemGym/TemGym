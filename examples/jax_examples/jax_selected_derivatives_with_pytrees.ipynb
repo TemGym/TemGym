{
 "cells": [
  {
   "cell_type": "code",
   "execution_count": 2,
   "metadata": {},
   "outputs": [],
   "source": [
    "import temgymbasic.jax_components as comp\n",
    "from temgymbasic.jax_run import run_to_end\n",
    "from temgymbasic.jax_ray import Ray\n",
    "from temgymbasic.jax_utils import get_pytree_idx_from_model\n",
    "from temgymbasic.jax_source import ParallelBeam\n",
    "import jax.numpy as jnp\n",
    "import jax\n",
    "import sympy as sp\n",
    "# from .utils import circular_beam, point_beam"
   ]
  },
  {
   "cell_type": "code",
   "execution_count": 3,
   "metadata": {},
   "outputs": [],
   "source": [
    "def run_to_end_model_wrapper(model_flat, unravel_fn, rays):\n",
    "    # Unravel to get the model pytree\n",
    "    model = unravel_fn(model_flat)\n",
    "    output = run_to_end(rays, model)\n",
    "    # Assuming output is vector-valued, you might want to reduce it to a scalar or\n",
    "    # use jacobian directly.\n",
    "    return output"
   ]
  },
  {
   "cell_type": "code",
   "execution_count": null,
   "metadata": {},
   "outputs": [],
   "source": [
    "model = [comp.Lens(z=0.5, focal_length=0.1),\n",
    "         comp.Detector(z=2.0, pixel_size=0.01, shape=(100, 100))]\n",
    "\n",
    "n_rays = 1\n",
    "n_rays_dim = int(jnp.sqrt(n_rays))\n",
    "\n",
    "input_amplitude = 1.0\n",
    "input_pathlength = 0.0\n",
    "input_wavelength = 1.0\n",
    "input_blocked = 0.0\n",
    "\n",
    "#Create ray input\n",
    "input_z = jnp.zeros((n_rays))\n",
    "input_matrix = jnp.vstack([0.0, 0.0, 0.0, 0.0, 1.0]).T\n",
    "input_amplitude = jnp.ones((n_rays))\n",
    "input_pathlength = jnp.zeros((n_rays))\n",
    "input_wavelength = jnp.ones((n_rays))\n",
    "input_blocked = jnp.zeros((n_rays))\n",
    "\n",
    "Rays = Ray(z=input_z, \n",
    "           matrix=input_matrix, \n",
    "           amplitude=input_amplitude, \n",
    "           pathlength=input_pathlength, \n",
    "           wavelength=input_wavelength,\n",
    "           blocked=input_blocked)\n",
    "\n",
    "\n",
    "\n",
    "# Suppose you want to differentiate with respect to the 'scan_position' of model component 1\\n,\n",
    "target = {0: 'focal_length'}\n",
    "\n",
    "paths, model_flat =  jax.tree.flatten_with_path(model)\n",
    "argnums = [i for i, (path, value) in enumerate(paths)]\n",
    "\n",
    "# For each component in model, get the index of the component in the list, \n",
    "# and each parameter of the component, and assign the unique index of argnums to it. \n",
    "# Put this into a dictionary\n",
    "component_variable_pytree_index = {}\n",
    "for idx, component in enumerate(model):\n",
    "    component_idx = idx\n",
    "    for key, value in component.__dict__.items():\n",
    "        component_variable_pytree_index\n",
    "\n",
    "# Here, indices['scan_position'] is the slice you want.\\n,\n",
    "# Now you can compute the Jacobian with respect to that slice:\\n,\n",
    "# jac = jax.jacobian(run_to_end_model_wrapper, argnums=0)(model_flat, unravel_fn, Rays)\n"
   ]
  },
  {
   "cell_type": "code",
   "execution_count": 13,
   "metadata": {},
   "outputs": [
    {
     "data": {
      "text/plain": [
       "[0, 1, 2, 3, 4]"
      ]
     },
     "execution_count": 13,
     "metadata": {},
     "output_type": "execute_result"
    }
   ],
   "source": [
    "jax.tree.map_with_path(lambda path, x: x + path[0].idx, [0, 0, 0, 0, 0])"
   ]
  }
 ],
 "metadata": {
  "kernelspec": {
   "display_name": "temgym",
   "language": "python",
   "name": "python3"
  },
  "language_info": {
   "codemirror_mode": {
    "name": "ipython",
    "version": 3
   },
   "file_extension": ".py",
   "mimetype": "text/x-python",
   "name": "python",
   "nbconvert_exporter": "python",
   "pygments_lexer": "ipython3",
   "version": "3.12.6"
  }
 },
 "nbformat": 4,
 "nbformat_minor": 2
}
