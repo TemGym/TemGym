{
 "cells": [
  {
   "cell_type": "code",
   "execution_count": 1,
   "metadata": {},
   "outputs": [],
   "source": [
    "import sys\n",
    "from temgymbasic.model import (\n",
    "    Model,\n",
    ")\n",
    "from temgymbasic import components as comp\n",
    "import matplotlib.pyplot as plt\n",
    "from PySide6.QtWidgets import QApplication\n",
    "from temgymbasic.gui import TemGymWindow\n",
    "\n",
    "import numpy as np\n",
    "from temgymbasic.utils import calculate_phi_0\n",
    "from temgymbasic import gbd\n",
    "\n",
    "from typing import Tuple, NamedTuple\n",
    "from temgymbasic.plotting import plot_model\n",
    "%matplotlib ipympl"
   ]
  },
  {
   "cell_type": "code",
   "execution_count": 2,
   "metadata": {},
   "outputs": [],
   "source": [
    "def make_detector_for_gauss_rays(x_det, y_det, n_rays):\n",
    "    x,y = np.meshgrid(x_det, y_det)\n",
    "    \n",
    "    r = np.array([x.ravel(), y.ravel()]).T\n",
    "    r = np.broadcast_to(r, [n_rays, *r.shape])\n",
    "    r = np.swapaxes(r, 0, 1)\n",
    "\n",
    "    return r\n"
   ]
  },
  {
   "cell_type": "code",
   "execution_count": 3,
   "metadata": {},
   "outputs": [],
   "source": [
    "n_rays = 1000\n",
    "wavelength = 0.001\n",
    "k = 2 * np.pi / wavelength\n",
    "\n",
    "wavelengths = np.full(n_rays, wavelength)\n",
    "\n",
    "a = 5\n",
    "b = 5\n",
    "\n",
    "size = 256\n",
    "det_shape = (size, size)\n",
    "pixel_size = 0.2 / size\n",
    "dsize = det_shape[0] * pixel_size\n",
    "\n",
    "x_det = np.linspace(-dsize / 2, dsize / 2, size)\n",
    "\n",
    "theta_x = 0\n",
    "theta_y = 0\n",
    "\n",
    "deg_yx = np.deg2rad((theta_y, theta_x ))\n",
    "tilt_yx = np.tan(deg_yx)\n",
    "\n",
    "wo = 0.01\n",
    "wos = np.full(n_rays, wo)\n",
    "\n",
    "div = wavelength / (np.pi * wo)\n",
    "\n",
    "dPx = wo\n",
    "dPy = wo\n",
    "dHx = div\n",
    "dHy = div\n",
    "\n",
    "z_r = (np.pi * wo ** 2) / wavelengths \n",
    "\n",
    "x0 = 0.1\n",
    "y0 = 0\n",
    "\n",
    "coeffs = [0.0001, 0, 0, 0, 0]"
   ]
  },
  {
   "cell_type": "code",
   "execution_count": 4,
   "metadata": {},
   "outputs": [],
   "source": [
    "components = (\n",
    "    # comp.PointBeam(\n",
    "    #     z=0.0,\n",
    "    #     voltage=calculate_phi_0(wavelength),\n",
    "    #     semi_angle = 0.01,\n",
    "    #     tilt_yx=tilt_yx\n",
    "    # ),\n",
    "    comp.GaussBeam(\n",
    "        z=0.0,\n",
    "        voltage=calculate_phi_0(wavelength),\n",
    "        radius=x0,\n",
    "        wo=wo,\n",
    "        tilt_yx=tilt_yx\n",
    "    ),\n",
    "    # comp.PerfectLens(\n",
    "    #     z = a,\n",
    "    #     f = 10,\n",
    "    #     z1 = -a,\n",
    "    #     z2 = b,\n",
    "    # ),\n",
    "    comp.AberratedLens(\n",
    "        z = a,\n",
    "        f = 1,\n",
    "        z1 = -a,\n",
    "        z2 = b,\n",
    "        coeffs=coeffs,\n",
    "    ),\n",
    "    comp.AccumulatingDetector(\n",
    "        z=a + b,\n",
    "        pixel_size=pixel_size,\n",
    "        shape=det_shape,\n",
    "        buffer_length=64,\n",
    "        ray_type='Gauss'\n",
    "    ),\n",
    ")\n",
    "\n"
   ]
  },
  {
   "cell_type": "code",
   "execution_count": 5,
   "metadata": {},
   "outputs": [],
   "source": [
    "model = Model(components)\n",
    "rays = tuple(model.run_iter(num_rays=n_rays))\n",
    "image = model.detector.get_image(rays[-1])\n",
    "det_x = np.linspace(-det_shape[1]//2*pixel_size, det_shape[1]//2*pixel_size, det_shape[1])"
   ]
  },
  {
   "cell_type": "code",
   "execution_count": null,
   "metadata": {},
   "outputs": [],
   "source": [
    "plt.figure()\n",
    "plt.imshow(image)"
   ]
  },
  {
   "cell_type": "code",
   "execution_count": null,
   "metadata": {},
   "outputs": [],
   "source": [
    "end_rays = rays[-1].data[0:4, :].T\n",
    "path_length = rays[-1].path_length[0::5]\n",
    "\n",
    "split_end_rays = np.split(end_rays, n_rays, axis=0)\n",
    "\n",
    "rayset1 = np.stack(split_end_rays, axis=-1)\n",
    "\n",
    "xEnd, yEnd = rayset1[0, 0], rayset1[0, 2]\n",
    "lEnd, mEnd = rayset1[0, 1], rayset1[0, 3]\n",
    "\n",
    "phi_x2m = rays[-2].data[1, 0::5]\n",
    "phi_y2m = rays[-2].data[3, 0::5]\n",
    "\n",
    "p2m = np.array([phi_x2m, phi_y2m]).T\n",
    "r2 = make_detector_for_gauss_rays(x_det, x_det, n_rays)\n",
    "r = r2.copy()\n",
    "\n",
    "r[:, :,  0] = r2[:, :,  0] - xEnd\n",
    "r[:, :,  1] = r2[:, :,  1] - yEnd\n",
    "\n",
    "A, B, C, D = gbd.differential_matrix(rayset1, dPx, dPy, dHx, dHy)\n",
    "Qinv = gbd.calculate_Qinv(z_r)\n",
    "Qpinv = gbd.calculate_Qpinv(A, B, C, D, Qinv)\n",
    "field = gbd.propagate_misaligned_gaussian(Qinv, Qpinv, r, p2m.T, k, A, B, path_length).reshape(det_shape)\n",
    "# field = zero_phase(field, size//2, size//2)"
   ]
  },
  {
   "cell_type": "code",
   "execution_count": null,
   "metadata": {},
   "outputs": [],
   "source": [
    "fig, (ax1, ax2) = plt.subplots(1, 2)\n",
    "ax1.imshow(np.abs(field),cmap='gray')\n",
    "ax1.axvline(size // 2, color='white', alpha=0.3)\n",
    "ax1.axhline(size // 2, color='white', alpha=0.3)\n",
    "ax2.imshow(np.angle(field),cmap='RdBu')\n",
    "ax2.axvline(size // 2, color='k', alpha=0.3)\n",
    "ax2.axhline(size // 2, color='k', alpha=0.3)\n",
    "fig.suptitle(\"GBP\")"
   ]
  }
 ],
 "metadata": {
  "kernelspec": {
   "display_name": "TemGym",
   "language": "python",
   "name": "python3"
  },
  "language_info": {
   "codemirror_mode": {
    "name": "ipython",
    "version": 3
   },
   "file_extension": ".py",
   "mimetype": "text/x-python",
   "name": "python",
   "nbconvert_exporter": "python",
   "pygments_lexer": "ipython3",
   "version": "3.11.9"
  }
 },
 "nbformat": 4,
 "nbformat_minor": 2
}
