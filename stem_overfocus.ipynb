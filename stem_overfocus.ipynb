{
 "cells": [
  {
   "cell_type": "code",
   "execution_count": null,
   "metadata": {},
   "outputs": [
    {
     "ename": "",
     "evalue": "",
     "output_type": "error",
     "traceback": [
      "\u001b[1;31mRunning cells with 'c:\\Users\\dl277493\\AppData\\Local\\miniconda3\\envs\\temgymbasic\\python.exe' requires the ipykernel package.\n",
      "\u001b[1;31mRun the following command to install 'ipykernel' into the Python environment. \n",
      "\u001b[1;31mCommand: 'conda install -p c:\\Users\\dl277493\\AppData\\Local\\miniconda3\\envs\\temgymbasic ipykernel --update-deps --force-reinstall'"
     ]
    }
   ],
   "source": [
    "%load_ext autoreload"
   ]
  },
  {
   "cell_type": "code",
   "execution_count": null,
   "metadata": {},
   "outputs": [
    {
     "ename": "",
     "evalue": "",
     "output_type": "error",
     "traceback": [
      "\u001b[1;31mRunning cells with 'c:\\Users\\dl277493\\AppData\\Local\\miniconda3\\envs\\temgymbasic\\python.exe' requires the ipykernel package.\n",
      "\u001b[1;31mRun the following command to install 'ipykernel' into the Python environment. \n",
      "\u001b[1;31mCommand: 'conda install -p c:\\Users\\dl277493\\AppData\\Local\\miniconda3\\envs\\temgymbasic ipykernel --update-deps --force-reinstall'"
     ]
    }
   ],
   "source": [
    "from typing import TypedDict\n",
    "\n",
    "import numpy as np\n",
    "from temgymbasic import components as comp\n",
    "from temgymbasic.model import Model\n",
    "from temgymbasic.functions import get_pixel_coords\n",
    "from temgym_proto import STEMModel, DoubleDeflector\n",
    "import numba\n",
    "%matplotlib ipympl\n",
    "\n"
   ]
  },
  {
   "cell_type": "code",
   "execution_count": null,
   "metadata": {},
   "outputs": [
    {
     "ename": "",
     "evalue": "",
     "output_type": "error",
     "traceback": [
      "\u001b[1;31mRunning cells with 'c:\\Users\\dl277493\\AppData\\Local\\miniconda3\\envs\\temgymbasic\\python.exe' requires the ipykernel package.\n",
      "\u001b[1;31mRun the following command to install 'ipykernel' into the Python environment. \n",
      "\u001b[1;31mCommand: 'conda install -p c:\\Users\\dl277493\\AppData\\Local\\miniconda3\\envs\\temgymbasic ipykernel --update-deps --force-reinstall'"
     ]
    }
   ],
   "source": [
    "class OverfocusParams(TypedDict):\n",
    "    overfocus: float  # m\n",
    "    scan_pixel_size: float  # m\n",
    "    camera_length: float  # m\n",
    "    detector_pixel_size: float  # m\n",
    "    semiconv: float  # rad\n",
    "    cy: float\n",
    "    cx: float\n",
    "    scan_rotation: float\n",
    "    flip_y: bool\n",
    "\n"
   ]
  },
  {
   "cell_type": "code",
   "execution_count": null,
   "metadata": {},
   "outputs": [
    {
     "ename": "",
     "evalue": "",
     "output_type": "error",
     "traceback": [
      "\u001b[1;31mRunning cells with 'c:\\Users\\dl277493\\AppData\\Local\\miniconda3\\envs\\temgymbasic\\python.exe' requires the ipykernel package.\n",
      "\u001b[1;31mRun the following command to install 'ipykernel' into the Python environment. \n",
      "\u001b[1;31mCommand: 'conda install -p c:\\Users\\dl277493\\AppData\\Local\\miniconda3\\envs\\temgymbasic ipykernel --update-deps --force-reinstall'"
     ]
    }
   ],
   "source": [
    "def make_model(params: OverfocusParams, dataset_shape):\n",
    "    # We have to make it square\n",
    "    sample = np.ones((dataset_shape[0], dataset_shape[0]))\n",
    "    \n",
    "    # Create a list of components to model a simplified 4DSTEM experiment\n",
    "    components = [\n",
    "        comp.DoubleDeflector(name='Scan Coils', z_up=0.3, z_low=0.25),\n",
    "        comp.Lens(name='Lens', z=0.20),\n",
    "        comp.Sample(\n",
    "            name='Sample',\n",
    "            sample=sample,\n",
    "            z=params['camera_length'],\n",
    "            width=sample.shape[0] * params['scan_pixel_size']\n",
    "        ),\n",
    "        comp.DoubleDeflector(\n",
    "            name='Descan Coils',\n",
    "            z_up=0.1,\n",
    "            z_low=0.05,\n",
    "            scan_rotation=0.\n",
    "        )\n",
    "    ]\n",
    "\n",
    "    # Create the model Electron microscope. Initially we create a parallel\n",
    "    # circular beam leaving the \"gun\"\n",
    "    model = Model(\n",
    "        components,\n",
    "        beam_z=0.4,\n",
    "        beam_type='paralell',\n",
    "        num_rays=7,  # somehow the minimum\n",
    "        experiment='4DSTEM',\n",
    "        detector_pixels=dataset_shape[1],\n",
    "        detector_size=dataset_shape[1] * params['detector_pixel_size'],\n",
    "    )\n",
    "    model.set_obj_lens_f_from_overfocus(params['overfocus'])\n",
    "    model.scan_pixels = dataset_shape[0]\n",
    "    return model\n",
    "\n",
    "def make_model_proto(params: OverfocusParams, dataset_shape):\n",
    "    sample = np.ones((dataset_shape[0], dataset_shape[1]))\n",
    "    model = STEMModel(\n",
    "        camera_length=params['camera_length'],\n",
    "        semiconv_angle=params['semiconv'],\n",
    "        scan_step_yx=(params['scan_pixel_size'], params['scan_pixel_size']),\n",
    "        scan_shape=(sample.shape[0], sample.shape[1]),\n",
    "        scan_rotation=params['scan_rotation'],\n",
    "        flip_y=params['flip_y'],\n",
    "        overfocus=params['overfocus'],\n",
    "        detector_z=0.4\n",
    "    )\n",
    "    return model"
   ]
  },
  {
   "cell_type": "code",
   "execution_count": null,
   "metadata": {},
   "outputs": [
    {
     "ename": "",
     "evalue": "",
     "output_type": "error",
     "traceback": [
      "\u001b[1;31mRunning cells with 'c:\\Users\\dl277493\\AppData\\Local\\miniconda3\\envs\\temgymbasic\\python.exe' requires the ipykernel package.\n",
      "\u001b[1;31mRun the following command to install 'ipykernel' into the Python environment. \n",
      "\u001b[1;31mCommand: 'conda install -p c:\\Users\\dl277493\\AppData\\Local\\miniconda3\\envs\\temgymbasic ipykernel --update-deps --force-reinstall'"
     ]
    }
   ],
   "source": [
    "def get_translation_matrix(params: OverfocusParams, model):\n",
    "    a = []\n",
    "    b = []\n",
    "    model.scan_pixel_x = 0\n",
    "    model.scan_pixel_y = 0\n",
    "    for scan_y in (0, model.scan_pixels - 1):\n",
    "        for scan_x in (0, model.scan_pixels - 1):\n",
    "            model.scan_pixel_y = scan_y\n",
    "            model.scan_pixel_x = scan_x\n",
    "            model.update_scan_coil_ratio()\n",
    "            model.step()\n",
    "            sample_rays_x = model.r[model.sample_r_idx, 0, :]\n",
    "            sample_rays_y = model.r[model.sample_r_idx, 2, :]\n",
    "            detector_rays_x = model.r[-1, 0, :]\n",
    "            detector_rays_y = model.r[-1, 2, :]\n",
    "            sample_coords_x, sample_coords_y = get_pixel_coords(\n",
    "                rays_x=sample_rays_x,\n",
    "                rays_y=sample_rays_y,\n",
    "                size=model.components[model.sample_idx].sample_size,\n",
    "                pixels=model.components[model.sample_idx].sample_pixels,\n",
    "            )\n",
    "            detector_coords_x, detector_coords_y = get_pixel_coords(\n",
    "                rays_x=detector_rays_x,\n",
    "                rays_y=detector_rays_y,\n",
    "                size=model.detector_size,\n",
    "                pixels=model.detector_pixels,\n",
    "                flip_y=params['flip_y'],\n",
    "                scan_rotation=params['scan_rotation'],\n",
    "            )\n",
    "            for i in range(len(sample_coords_x)):\n",
    "                a.append((\n",
    "                    sample_coords_y[i],\n",
    "                    sample_coords_x[i],\n",
    "                    model.scan_pixel_y,\n",
    "                    model.scan_pixel_x,\n",
    "                    1\n",
    "                ))\n",
    "                b.append((detector_coords_y[i], detector_coords_x[i]))\n",
    "    res = np.linalg.lstsq(a, b, rcond=None)\n",
    "    return res[0]\n",
    "\n",
    "def get_translation_matrix_proto(params: OverfocusParams, model):\n",
    "    yxs = ((0, 0), (model.sample.scan_shape[0], model.sample.scan_shape[1]), (0, model.sample.scan_shape[1]))\n",
    "    num_rays = 5\n",
    "    \n",
    "    detector_idx = -1\n",
    "    sample_idx = 4\n",
    "\n",
    "    a=[]\n",
    "    b=[]\n",
    "\n",
    "    for yx in yxs:\n",
    "        rays=tuple(model.scan_point_iter(num_rays=num_rays, yx=yx))\n",
    "        detector_rays=rays[detector_idx]\n",
    "        sample_rays=rays[sample_idx]\n",
    "        \n",
    "        for i in range(len(detector_rays.x)):\n",
    "            b.append((detector_rays.y[i], detector_rays.x[i]))\n",
    "        \n",
    "        for i in range(len(sample_rays.x)):\n",
    "            a.append((\n",
    "                #Need to convert sample rays to pixel coordinates - should be I think -\n",
    "                #sample_coords=sample_rays/sample_pixel_size * sample_pixels + sample_pixels/2 + 1\n",
    "                #but I must have made a mistake. \n",
    "                sample_rays.y[i]  \n",
    "                sample_rays.x[i] \n",
    "                yx[0],\n",
    "                yx[1],\n",
    "                1\n",
    "            ))\n",
    "\n",
    "    print(np.array(a).shape, np.array(b).shape)\n",
    "    print(np.array(b), np.array(b).shape)\n",
    "    res = np.linalg.lstsq(a, b, rcond=None)\n",
    "\n",
    "    return res[0]\n"
   ]
  },
  {
   "cell_type": "code",
   "execution_count": null,
   "metadata": {},
   "outputs": [
    {
     "ename": "",
     "evalue": "",
     "output_type": "error",
     "traceback": [
      "\u001b[1;31mRunning cells with 'c:\\Users\\dl277493\\AppData\\Local\\miniconda3\\envs\\temgymbasic\\python.exe' requires the ipykernel package.\n",
      "\u001b[1;31mRun the following command to install 'ipykernel' into the Python environment. \n",
      "\u001b[1;31mCommand: 'conda install -p c:\\Users\\dl277493\\AppData\\Local\\miniconda3\\envs\\temgymbasic ipykernel --update-deps --force-reinstall'"
     ]
    }
   ],
   "source": [
    "def plot_rays(model):\n",
    "        # Iterate over components and their ray positions\n",
    "    num_rays = 3\n",
    "    yx = (0, 128)\n",
    "    all_rays = tuple(model.scan_point_iter(num_rays=num_rays, yx=yx))\n",
    "\n",
    "    import matplotlib.pyplot as plt\n",
    "    fig, ax = plt.subplots()\n",
    "    xvals = np.stack(tuple(r.x for r in all_rays), axis=0)\n",
    "    zvals = np.asarray(tuple(r.z for r in all_rays))\n",
    "    ax.plot(xvals, zvals)\n",
    "\n",
    "    # Optional: Mark the component positions\n",
    "    extent = 1.5 * np.abs(xvals).max()\n",
    "    for component in model.components:\n",
    "        if isinstance(component, DoubleDeflector):\n",
    "            ax.hlines(\n",
    "                component.first.z, -extent, extent, linestyle='--'\n",
    "            )\n",
    "            ax.text(-extent, component.first.z, repr(component.first), va='bottom')\n",
    "            ax.hlines(\n",
    "                component.second.z, -extent, extent, linestyle='--'\n",
    "            )\n",
    "            ax.text(-extent, component.second.z, repr(component.second), va='bottom')\n",
    "        else:\n",
    "            ax.hlines(component.z, -extent, extent, label=repr(component))\n",
    "            ax.text(-extent, component.z, repr(component), va='bottom')\n",
    "\n",
    "    ax.hlines(\n",
    "        model.objective.ffp, -extent, extent, linestyle=':'\n",
    "    )\n",
    "\n",
    "    ax.axvline(color='black', linestyle=\":\", alpha=0.3)\n",
    "    _, scan_pos_x = model.sample.scan_position(yx)\n",
    "    ax.plot([scan_pos_x], [model.sample.z], 'ko')\n",
    "\n",
    "    ax.set_xlabel('x position')\n",
    "    ax.set_ylabel('z position')\n",
    "    ax.invert_yaxis()\n",
    "    ax.set_title(f'Ray paths for {num_rays} rays at position {yx}')\n",
    "    plt.show()\n"
   ]
  },
  {
   "cell_type": "code",
   "execution_count": null,
   "metadata": {},
   "outputs": [
    {
     "ename": "",
     "evalue": "",
     "output_type": "error",
     "traceback": [
      "\u001b[1;31mRunning cells with 'c:\\Users\\dl277493\\AppData\\Local\\miniconda3\\envs\\temgymbasic\\python.exe' requires the ipykernel package.\n",
      "\u001b[1;31mRun the following command to install 'ipykernel' into the Python environment. \n",
      "\u001b[1;31mCommand: 'conda install -p c:\\Users\\dl277493\\AppData\\Local\\miniconda3\\envs\\temgymbasic ipykernel --update-deps --force-reinstall'"
     ]
    }
   ],
   "source": [
    "    dataset_shape = [128, 128]\n",
    "    overfocus_params = OverfocusParams(\n",
    "        overfocus=0.01,  # m\n",
    "        scan_pixel_size=0.01,  # m\n",
    "        camera_length=0.15,  # m\n",
    "        detector_pixel_size=0.050,  # m\n",
    "        semiconv=5,  # rad\n",
    "        scan_rotation=0,\n",
    "        flip_y=False,\n",
    "        # Offset to avoid subchip gap\n",
    "        cy=128,\n",
    "        cx=128,\n",
    "    )\n",
    "    \n",
    "    model = make_model(overfocus_params, dataset_shape)\n",
    "    model_proto = make_model_proto(overfocus_params, dataset_shape)\n",
    "    res = get_translation_matrix(overfocus_params, model)\n",
    "    res_proto = get_translation_matrix_proto(overfocus_params, model_proto)\n",
    "    plot_rays(model_proto)\n",
    "    print(res, '\\n\\n', res_proto)"
   ]
  }
 ],
 "metadata": {
  "kernelspec": {
   "display_name": "Python 3",
   "language": "python",
   "name": "python3"
  },
  "language_info": {
   "codemirror_mode": {
    "name": "ipython",
    "version": 3
   },
   "file_extension": ".py",
   "mimetype": "text/x-python",
   "name": "python",
   "nbconvert_exporter": "python",
   "pygments_lexer": "ipython3",
   "version": "3.11.7"
  }
 },
 "nbformat": 4,
 "nbformat_minor": 2
}
