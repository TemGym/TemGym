{
 "cells": [
  {
   "cell_type": "code",
   "execution_count": 1,
   "id": "2afdedb8",
   "metadata": {},
   "outputs": [],
   "source": [
    "%matplotlib widget"
   ]
  },
  {
   "cell_type": "code",
   "execution_count": 2,
   "id": "0195cf88",
   "metadata": {},
   "outputs": [],
   "source": [
    "import numpy as np\n",
    "import matplotlib.pyplot as plt\n",
    "from functools import partial\n",
    "import torch"
   ]
  },
  {
   "cell_type": "code",
   "execution_count": 3,
   "id": "2b4950f6-c5fd-4858-9a02-f6c440e770ce",
   "metadata": {},
   "outputs": [],
   "source": [
    "rays = torch.tensor([\n",
    "    (0, 1, 0), # y\n",
    "    (0, 0, 1), # dy\n",
    "    (0, 0, 0), # x\n",
    "    (0, 0, 0), # dx\n",
    "    (1, 1, 1), # wave real\n",
    "    (0, 0, 0), # wave imag\n",
    "    (1, 1, 1), # one\n",
    "]).to(torch.float64)\n",
    "NUM_COMPONENTS = 7\n",
    "Y = 0\n",
    "DY = 1\n",
    "X = 2\n",
    "DX = 3\n",
    "WAVE_REAL = 4\n",
    "WAVE_IMAG = 5\n",
    "ONE = 6"
   ]
  },
  {
   "cell_type": "code",
   "execution_count": 4,
   "id": "0f8516e1-acdf-4884-83c1-a3f37bdac6c8",
   "metadata": {},
   "outputs": [],
   "source": [
    "def wave(rays):\n",
    "    w = rays[WAVE_REAL] + 1j*rays[WAVE_IMAG]\n",
    "    return w"
   ]
  },
  {
   "cell_type": "code",
   "execution_count": 5,
   "id": "e39e97ef-acdf-4c7c-a00a-3ce52a14575d",
   "metadata": {},
   "outputs": [],
   "source": [
    "def identity():\n",
    "    return torch.eye(NUM_COMPONENTS, dtype=torch.float64)"
   ]
  },
  {
   "cell_type": "code",
   "execution_count": 6,
   "id": "bcfbab8a-f565-496b-a941-baac06af0603",
   "metadata": {},
   "outputs": [],
   "source": [
    "image = torch.tensor((\n",
    "    (1, 2, 3, 4),\n",
    "    (5, 6, 7, 8),\n",
    "    (9, 10, 11, 12),\n",
    "    (13, 14, 15, 16)\n",
    ")).to(torch.float64)"
   ]
  },
  {
   "cell_type": "code",
   "execution_count": 7,
   "id": "a88df2b5-a0e6-4047-8cc4-b3dcc1db5971",
   "metadata": {},
   "outputs": [],
   "source": [
    "def shifter(sy, sx):\n",
    "    base = identity()\n",
    "    proxy = sy + sx\n",
    "    arr = base.to(torch.result_type(base, proxy))\n",
    "    arr[Y, ONE] = sy\n",
    "    arr[X, ONE] = sx\n",
    "    return arr"
   ]
  },
  {
   "cell_type": "code",
   "execution_count": 8,
   "id": "cfdebe3a-f4a1-4bf7-8f5e-ffaa348a32ab",
   "metadata": {},
   "outputs": [
    {
     "data": {
      "text/plain": [
       "tensor([[1., 0., 0., 0., 0., 0., 1.],\n",
       "        [0., 1., 0., 0., 0., 0., 0.],\n",
       "        [0., 0., 1., 0., 0., 0., 0.],\n",
       "        [0., 0., 0., 1., 0., 0., 0.],\n",
       "        [0., 0., 0., 0., 1., 0., 0.],\n",
       "        [0., 0., 0., 0., 0., 1., 0.],\n",
       "        [0., 0., 0., 0., 0., 0., 1.]], dtype=torch.float64)"
      ]
     },
     "execution_count": 8,
     "metadata": {},
     "output_type": "execute_result"
    }
   ],
   "source": [
    "shifter(1, 0)"
   ]
  },
  {
   "cell_type": "code",
   "execution_count": 9,
   "id": "30da5830-9cd3-498b-ba84-77fefe00466c",
   "metadata": {},
   "outputs": [],
   "source": [
    "def tilter(ty, tx):\n",
    "    base = identity()\n",
    "    proxy = ty + tx\n",
    "    arr = base.to(torch.result_type(base, proxy))\n",
    "    arr[DY, ONE] = ty\n",
    "    arr[DX, ONE] = tx\n",
    "    return arr"
   ]
  },
  {
   "cell_type": "code",
   "execution_count": 10,
   "id": "05598d14-dc0d-4ede-a7d0-f4e9853f596d",
   "metadata": {},
   "outputs": [
    {
     "data": {
      "text/plain": [
       "tensor([[1., 0., 0., 0., 0., 0., 0.],\n",
       "        [0., 1., 0., 0., 0., 0., 1.],\n",
       "        [0., 0., 1., 0., 0., 0., 0.],\n",
       "        [0., 0., 0., 1., 0., 0., 0.],\n",
       "        [0., 0., 0., 0., 1., 0., 0.],\n",
       "        [0., 0., 0., 0., 0., 1., 0.],\n",
       "        [0., 0., 0., 0., 0., 0., 1.]], dtype=torch.float64)"
      ]
     },
     "execution_count": 10,
     "metadata": {},
     "output_type": "execute_result"
    }
   ],
   "source": [
    "tilter(1, 0)"
   ]
  },
  {
   "cell_type": "code",
   "execution_count": 11,
   "id": "c06cd548-2605-4168-9c7a-5a5eec1bedb5",
   "metadata": {},
   "outputs": [
    {
     "data": {
      "text/plain": [
       "tensor([[0., 1., 0.],\n",
       "        [1., 1., 2.],\n",
       "        [0., 0., 0.],\n",
       "        [0., 0., 0.],\n",
       "        [1., 1., 1.],\n",
       "        [0., 0., 0.],\n",
       "        [1., 1., 1.]], dtype=torch.float64)"
      ]
     },
     "execution_count": 11,
     "metadata": {},
     "output_type": "execute_result"
    }
   ],
   "source": [
    "tilter(1, 0) @ rays"
   ]
  },
  {
   "cell_type": "code",
   "execution_count": 12,
   "id": "2b9d407c-11c4-4cae-838c-97956f919f6c",
   "metadata": {},
   "outputs": [],
   "source": [
    "def free_space(d):\n",
    "    base = identity()\n",
    "    arr = base.to(torch.result_type(base, d))\n",
    "    arr[Y, DY] = d\n",
    "    arr[X, DX] = d\n",
    "    return arr"
   ]
  },
  {
   "cell_type": "code",
   "execution_count": 13,
   "id": "c7ccf577-2ca8-48a0-ad1d-f977147ec9b4",
   "metadata": {},
   "outputs": [
    {
     "data": {
      "text/plain": [
       "tensor([[1., 2., 2.],\n",
       "        [0., 0., 1.],\n",
       "        [0., 0., 0.],\n",
       "        [0., 0., 0.],\n",
       "        [1., 1., 1.],\n",
       "        [0., 0., 0.],\n",
       "        [1., 1., 1.]], dtype=torch.float64)"
      ]
     },
     "execution_count": 13,
     "metadata": {},
     "output_type": "execute_result"
    }
   ],
   "source": [
    "shifter(1, 0) @ free_space(1) @ rays"
   ]
  },
  {
   "cell_type": "code",
   "execution_count": 14,
   "id": "3da927cd-d132-404c-9992-ba6dc07f8383",
   "metadata": {},
   "outputs": [],
   "source": [
    "def circular_aperture(r, cy, cx):\n",
    "    def transfer(rays, forward=True):\n",
    "        shifted = rays[(Y, X), :] - torch.tensor(((cy,), (cx,)))\n",
    "        distances = torch.linalg.norm(shifted, axis=0)\n",
    "        blocked = distances >= r\n",
    "        result = rays.clone()\n",
    "        result[WAVE_REAL, blocked] = 0\n",
    "        result[WAVE_IMAG, blocked] = 0        \n",
    "        return result\n",
    "    return transfer"
   ]
  },
  {
   "cell_type": "code",
   "execution_count": 15,
   "id": "9979e075-f15b-473c-aeac-bed2cfe54628",
   "metadata": {},
   "outputs": [
    {
     "data": {
      "text/plain": [
       "tensor([[0., 1., 0.],\n",
       "        [0., 0., 1.],\n",
       "        [0., 0., 0.],\n",
       "        [0., 0., 0.],\n",
       "        [1., 0., 1.],\n",
       "        [0., 0., 0.],\n",
       "        [1., 1., 1.]], dtype=torch.float64)"
      ]
     },
     "execution_count": 15,
     "metadata": {},
     "output_type": "execute_result"
    }
   ],
   "source": [
    "aperture_transfer = circular_aperture(0.0001, 0, 0)\n",
    "aperture_transfer(rays)"
   ]
  },
  {
   "cell_type": "code",
   "execution_count": 16,
   "id": "a479479e-f2c9-4010-876a-f9939845fff5",
   "metadata": {},
   "outputs": [],
   "source": [
    "def semiconv_aperture(semiconv):\n",
    "    def transfer(rays, forward=True):\n",
    "        tilts = rays[(DY, DX), :]\n",
    "        abs_tilts = torch.linalg.norm(tilts, axis=0)\n",
    "        blocked = abs_tilts >= semiconv\n",
    "        result = rays.clone()\n",
    "        result[WAVE_REAL, blocked] = 0\n",
    "        result[WAVE_IMAG, blocked] = 0        \n",
    "        return result\n",
    "    return transfer"
   ]
  },
  {
   "cell_type": "code",
   "execution_count": 17,
   "id": "fe5fb739-3216-4af8-afe1-f467463eea0b",
   "metadata": {},
   "outputs": [],
   "source": [
    "def rotate(radians):\n",
    "    base = identity()\n",
    "    radians = torch.tensor(radians)\n",
    "    arr = base.to(torch.result_type(base, torch.sin(radians)))\n",
    "    arr[Y, Y] = torch.cos(radians)\n",
    "    arr[DY, DY] = torch.cos(radians)\n",
    "    \n",
    "    arr[X, X] = torch.cos(radians)\n",
    "    arr[DX, DX] = torch.cos(radians)\n",
    "    \n",
    "    arr[Y, X] = torch.sin(radians)\n",
    "    arr[DY, DX] = torch.sin(radians)\n",
    "    \n",
    "    arr[X, Y] = -torch.sin(radians)\n",
    "    arr[DX, DY] = -torch.sin(radians)\n",
    "    return arr"
   ]
  },
  {
   "cell_type": "code",
   "execution_count": 18,
   "id": "e78cd66a-e1ce-4344-b9b5-69f728486b29",
   "metadata": {},
   "outputs": [
    {
     "data": {
      "text/plain": [
       "(tensor([[0., 1., 0.],\n",
       "         [0., 0., 1.],\n",
       "         [0., 0., 0.],\n",
       "         [0., 0., 0.],\n",
       "         [1., 1., 1.],\n",
       "         [0., 0., 0.],\n",
       "         [1., 1., 1.]], dtype=torch.float64),\n",
       " tensor([[ 0.0000e+00, -4.3711e-08,  0.0000e+00],\n",
       "         [ 0.0000e+00,  0.0000e+00, -4.3711e-08],\n",
       "         [ 0.0000e+00, -1.0000e+00,  0.0000e+00],\n",
       "         [ 0.0000e+00,  0.0000e+00, -1.0000e+00],\n",
       "         [ 1.0000e+00,  1.0000e+00,  1.0000e+00],\n",
       "         [ 0.0000e+00,  0.0000e+00,  0.0000e+00],\n",
       "         [ 1.0000e+00,  1.0000e+00,  1.0000e+00]], dtype=torch.float64))"
      ]
     },
     "execution_count": 18,
     "metadata": {},
     "output_type": "execute_result"
    }
   ],
   "source": [
    "rays, rotate(np.pi/2) @ rays"
   ]
  },
  {
   "cell_type": "code",
   "execution_count": 19,
   "id": "9f032d09-f803-4207-9cfb-5da5bdc1c8be",
   "metadata": {},
   "outputs": [],
   "source": [
    "def scale(factor):\n",
    "    base = identity()\n",
    "    arr = base.to(torch.result_type(base, factor))\n",
    "    arr[Y, Y] = factor\n",
    "    arr[DY, DY] = factor\n",
    "    arr[X, X] = factor\n",
    "    arr[DX, DX] = factor\n",
    "    return arr"
   ]
  },
  {
   "cell_type": "code",
   "execution_count": 20,
   "id": "53bccccd-2261-4f92-88c7-af956b264644",
   "metadata": {},
   "outputs": [
    {
     "data": {
      "text/plain": [
       "tensor([[ 0.0000e+00, -2.0000e+00,  0.0000e+00],\n",
       "        [ 0.0000e+00,  0.0000e+00, -2.0000e+00],\n",
       "        [ 0.0000e+00,  1.7485e-07,  0.0000e+00],\n",
       "        [ 0.0000e+00,  0.0000e+00,  1.7485e-07],\n",
       "        [ 1.0000e+00,  1.0000e+00,  1.0000e+00],\n",
       "        [ 0.0000e+00,  0.0000e+00,  0.0000e+00],\n",
       "        [ 1.0000e+00,  1.0000e+00,  1.0000e+00]], dtype=torch.float64)"
      ]
     },
     "execution_count": 20,
     "metadata": {},
     "output_type": "execute_result"
    }
   ],
   "source": [
    "rotate(np.pi) @ (scale(2) @ rays)"
   ]
  },
  {
   "cell_type": "code",
   "execution_count": 21,
   "id": "40684cda-dd6a-4d36-8d11-d2af42c4f5e6",
   "metadata": {},
   "outputs": [],
   "source": [
    "def flip_y(yes: bool = True):\n",
    "    arr = identity()\n",
    "    if yes:\n",
    "        arr[Y, Y] = -1\n",
    "        arr[DY, DY] = -1\n",
    "    return arr"
   ]
  },
  {
   "cell_type": "code",
   "execution_count": 22,
   "id": "77406d22-be39-4df2-85ac-daeefc20e7e9",
   "metadata": {},
   "outputs": [
    {
     "data": {
      "text/plain": [
       "tensor([[ 0., -1.,  0.],\n",
       "        [ 0.,  0., -1.],\n",
       "        [ 0.,  0.,  0.],\n",
       "        [ 0.,  0.,  0.],\n",
       "        [ 1.,  1.,  1.],\n",
       "        [ 0.,  0.,  0.],\n",
       "        [ 1.,  1.,  1.]], dtype=torch.float64)"
      ]
     },
     "execution_count": 22,
     "metadata": {},
     "output_type": "execute_result"
    }
   ],
   "source": [
    "flip_y() @ rays"
   ]
  },
  {
   "cell_type": "code",
   "execution_count": null,
   "id": "3513bd5f-c543-4348-a197-3f878cd8e9b5",
   "metadata": {},
   "outputs": [],
   "source": []
  },
  {
   "cell_type": "code",
   "execution_count": 23,
   "id": "28603ee3-51de-48ce-9604-beccaa41789b",
   "metadata": {},
   "outputs": [
    {
     "data": {
      "text/plain": [
       "tensor([-1,  0])"
      ]
     },
     "execution_count": 23,
     "metadata": {},
     "output_type": "execute_result"
    }
   ],
   "source": [
    "torch.tensor((\n",
    "    (-1, 0),\n",
    "    (0, 1),\n",
    ")) @ torch.tensor((1, 0))"
   ]
  },
  {
   "cell_type": "code",
   "execution_count": 24,
   "id": "b44fc42f-7edf-4739-9b9a-9331966b9946",
   "metadata": {},
   "outputs": [],
   "source": [
    "def get_sampling_matrix(cy_pix, cx_pix, pixel_pitch, do_flip_y, rotation):\n",
    "    return shifter(cy_pix, cx_pix) @ flip_y(do_flip_y) @ rotate(-rotation) @ scale(1/pixel_pitch)"
   ]
  },
  {
   "cell_type": "code",
   "execution_count": 25,
   "id": "8ae4856d-0552-4c99-9caf-443739f84d15",
   "metadata": {},
   "outputs": [
    {
     "data": {
      "text/plain": [
       "tensor([[0.5000, 0.0000],\n",
       "        [0.0000, 0.0000],\n",
       "        [0.0000, 0.5000],\n",
       "        [0.0000, 0.0000],\n",
       "        [0.0000, 0.0000],\n",
       "        [0.0000, 0.0000],\n",
       "        [1.0000, 1.0000]], dtype=torch.float64)"
      ]
     },
     "execution_count": 25,
     "metadata": {},
     "output_type": "execute_result"
    }
   ],
   "source": [
    "m = get_sampling_matrix(0, 0, 0.5, False, 0)\n",
    "inp = torch.zeros((NUM_COMPONENTS, 2), dtype=torch.float64)\n",
    "inp[Y, 0] = 1\n",
    "inp[X, 1] = 1\n",
    "inp[ONE, :] = 1\n",
    "torch.linalg.inv(m) @ inp"
   ]
  },
  {
   "cell_type": "code",
   "execution_count": 26,
   "id": "ff4d1b08-ba0c-479c-b3bc-aec4190529c3",
   "metadata": {},
   "outputs": [],
   "source": [
    "def sampling(cy_pix, cx_pix, pixel_pitch, do_flip_y, rotation):\n",
    "    # Executed right to left\n",
    "    # negative rotation since target coordinate system and not rays\n",
    "    # are rotated.\n",
    "    transformation_matrix = get_sampling_matrix(cy_pix, cx_pix, pixel_pitch, do_flip_y, rotation)\n",
    "\n",
    "    def sample(rays):\n",
    "        sampled = transformation_matrix @ rays\n",
    "        return sampled\n",
    "    return sample"
   ]
  },
  {
   "cell_type": "code",
   "execution_count": 27,
   "id": "64f78513-c510-4b06-a279-d7f962555da9",
   "metadata": {},
   "outputs": [
    {
     "data": {
      "text/plain": [
       "tensor([[ 3.0000e+00,  3.0000e+00,  3.0000e+00],\n",
       "        [ 0.0000e+00,  0.0000e+00, -4.3711e-07],\n",
       "        [ 4.0000e+00,  1.4000e+01,  4.0000e+00],\n",
       "        [ 0.0000e+00,  0.0000e+00,  1.0000e+01],\n",
       "        [ 1.0000e+00,  1.0000e+00,  1.0000e+00],\n",
       "        [ 0.0000e+00,  0.0000e+00,  0.0000e+00],\n",
       "        [ 1.0000e+00,  1.0000e+00,  1.0000e+00]], dtype=torch.float64)"
      ]
     },
     "execution_count": 27,
     "metadata": {},
     "output_type": "execute_result"
    }
   ],
   "source": [
    "sampling(3, 4, 0.1, False, np.pi/2)(rays)"
   ]
  },
  {
   "cell_type": "code",
   "execution_count": 28,
   "id": "b293a2da-9eee-4a31-8b3f-98482c552e7d",
   "metadata": {},
   "outputs": [],
   "source": [
    "def scan_to(sy_px, sx_px, cy_pix, cx_pix, pixel_pitch, do_flip_y, scan_rotation):\n",
    "    transformation_matrix = get_sampling_matrix(cy_pix, cx_pix, pixel_pitch, do_flip_y, scan_rotation)\n",
    "    # we want to go from scan coordinates to real coordinates, while\n",
    "    # sampling goes from real coordinates to sampling coordinates.\n",
    "    # For that reason we invert the matrix\n",
    "    inverse = torch.linalg.inv(transformation_matrix)\n",
    "    # Prepare pseudo rays as input to transform from scan coordinates to\n",
    "    # real coordinates\n",
    "    inp = torch.zeros((NUM_COMPONENTS, 2), dtype=torch.result_type(sy_px, sx_px)).to(torch.float64)\n",
    "    inp[ONE, :] = 1\n",
    "    inp[Y, 0] = sy_px\n",
    "    inp[X, 1] = sx_px\n",
    "    res = inverse @ inp\n",
    "    return (res[Y, 0], res[X, 1])"
   ]
  },
  {
   "cell_type": "code",
   "execution_count": 29,
   "id": "41a7a5a1-03dc-4305-a466-8702221192af",
   "metadata": {},
   "outputs": [],
   "source": [
    "def precess_to(deflection, rotation):\n",
    "    rotation = torch.tensor(rotation)\n",
    "    tx = deflection * np.cos(rotation)\n",
    "    ty = deflection * np.sin(rotation)\n",
    "    return (ty, tx)"
   ]
  },
  {
   "cell_type": "code",
   "execution_count": 30,
   "id": "7afb3a45-2949-408c-ac6d-46773c8696d1",
   "metadata": {},
   "outputs": [],
   "source": [
    "def scan(sy_px, sx_px, cy_pix, cx_pix, pixel_pitch, do_flip_y, scan_rotation):\n",
    "    (sy, sx) = scan_to(sy_px, sx_px, cy_pix, cx_pix, pixel_pitch, do_flip_y, scan_rotation)\n",
    "    return shifter(sy, sx)"
   ]
  },
  {
   "cell_type": "code",
   "execution_count": 31,
   "id": "b60640a4-6c34-4b5e-a39a-193fa57dcae2",
   "metadata": {},
   "outputs": [],
   "source": [
    "def precess(deflection, rotation):\n",
    "    ty, tx = precess_to(deflection, rotation)\n",
    "    return tilter(ty, tx)"
   ]
  },
  {
   "cell_type": "code",
   "execution_count": 32,
   "id": "78ed1f73-a2c9-4bb9-ac2f-5d6edd8c092b",
   "metadata": {},
   "outputs": [],
   "source": [
    "def deprecess(deflection, rotation):\n",
    "    ty, tx = precess_to(deflection, rotation)\n",
    "    return np.linalg.inv(tilter(ty, tx))"
   ]
  },
  {
   "cell_type": "code",
   "execution_count": 33,
   "id": "91bd3df3-35b0-4238-aa3e-5edea25987e9",
   "metadata": {},
   "outputs": [],
   "source": [
    "def descan_error(y_deflection, x_deflection, shift_matrix, tilt_matrix):\n",
    "    # Apply left to right, from correct to error\n",
    "    y_shift, x_shift = shift_matrix @ torch.tensor((y_deflection, x_deflection))\n",
    "    y_tilt, x_tilt = tilt_matrix @ torch.tensor((y_deflection, x_deflection))\n",
    "    return (y_tilt, x_tilt), (y_shift, x_shift)"
   ]
  },
  {
   "cell_type": "code",
   "execution_count": 34,
   "id": "cdeb1315-a86b-4849-af4f-00c6c2aa2066",
   "metadata": {},
   "outputs": [],
   "source": [
    "def descan(sy_px, sx_px, cy_pix, cx_pix, pixel_pitch, do_flip_y, scan_rotation, shift_error_matrix, tilt_error_matrix):\n",
    "    (sy, sx) = scan_to(sy_px, sx_px, cy_pix, cx_pix, pixel_pitch, do_flip_y, scan_rotation)\n",
    "    (y_tilt, x_tilt), (y_shift, x_shift) = descan_error(sy, sx, shift_error_matrix, tilt_error_matrix)\n",
    "    return shifter(y_shift, x_shift) @ tilter(y_tilt, x_tilt) @ torch.linalg.inv(shifter(sy, sx))"
   ]
  },
  {
   "cell_type": "code",
   "execution_count": 35,
   "id": "46d428e7-e7a2-462e-9ef6-38c41ce46506",
   "metadata": {},
   "outputs": [
    {
     "data": {
      "text/plain": [
       "tensor([[0.0000, 1.0000, 0.0000],\n",
       "        [0.0000, 0.0000, 1.0000],\n",
       "        [0.0000, 0.0000, 0.0000],\n",
       "        [0.0500, 0.0500, 0.0500],\n",
       "        [1.0000, 1.0000, 1.0000],\n",
       "        [0.0000, 0.0000, 0.0000],\n",
       "        [1.0000, 1.0000, 1.0000]], dtype=torch.float64)"
      ]
     },
     "execution_count": 35,
     "metadata": {},
     "output_type": "execute_result"
    }
   ],
   "source": [
    "shift_error_matrix = torch.tensor(((0, 0), (0, 0)), dtype=torch.float64)\n",
    "tilt_error_matrix = torch.tensor(((0.1, 0), (0, 0.1)), dtype=torch.float64)\n",
    "\n",
    "descan(0, 1, 0, 0, 0.5, False, 0, shift_error_matrix, tilt_error_matrix) @ scan(0, 1, 0, 0, 0.5, False, 0) @ rays\n"
   ]
  },
  {
   "cell_type": "code",
   "execution_count": 36,
   "id": "a6b708b3-5cde-41bc-950a-fb9085b956ca",
   "metadata": {},
   "outputs": [
    {
     "data": {
      "text/plain": [
       "tensor([[0., 1., 0.],\n",
       "        [0., 0., 1.],\n",
       "        [0., 0., 0.],\n",
       "        [0., 0., 0.],\n",
       "        [1., 1., 1.],\n",
       "        [0., 0., 0.],\n",
       "        [1., 1., 1.]], dtype=torch.float64)"
      ]
     },
     "execution_count": 36,
     "metadata": {},
     "output_type": "execute_result"
    }
   ],
   "source": [
    "torch.linalg.inv(scan(1, 2, 16, 16, 0.5, False, 0)) @ scan(1, 2, 16, 16, 0.5, False, 0) @ rays"
   ]
  },
  {
   "cell_type": "code",
   "execution_count": 37,
   "id": "03618b7e-9910-4137-ae1c-6190b2b73e6d",
   "metadata": {},
   "outputs": [],
   "source": [
    "def specimen_function(image, cy_pix, cx_pix, pixel_pitch, do_flip_y=False, rotation=0):\n",
    "    samp = sampling(\n",
    "        cy_pix=cy_pix,\n",
    "        cx_pix=cx_pix,\n",
    "        pixel_pitch=pixel_pitch,\n",
    "        do_flip_y=do_flip_y,\n",
    "        rotation=rotation,\n",
    "    )\n",
    "    def transfer(rays, forward=True):\n",
    "        samp_rays = samp(rays)\n",
    "        yx = samp_rays[(Y, X), :]\n",
    "        # Drop eventual imaginary part and round to nearest integer\n",
    "        yx = torch.round(yx.real).to(int)\n",
    "        # Bounds check\n",
    "        valid = torch.all((yx >= 0) * (yx < torch.tensor(image.shape)[:, np.newaxis]), axis=0)\n",
    "        valid_yx = yx[:, valid]\n",
    "        factors = torch.ones(size=(yx.shape[1], ), dtype=torch.result_type(image, rays))\n",
    "        factors[valid] = image[*valid_yx]\n",
    "        input_wave = wave(rays)\n",
    "        exit_wave = input_wave * factors\n",
    "        result = rays.clone().to(exit_wave.real.dtype)\n",
    "        result[WAVE_REAL] = exit_wave.real\n",
    "        result[WAVE_IMAG] = exit_wave.imag\n",
    "        return result\n",
    "    return transfer"
   ]
  },
  {
   "cell_type": "code",
   "execution_count": 38,
   "id": "8ae60e6a-dd52-4ca1-a63e-43fd733d62fc",
   "metadata": {},
   "outputs": [],
   "source": [
    "specimen_transfer = specimen_function(\n",
    "    image,\n",
    "    cy_pix=1,\n",
    "    cx_pix=1,\n",
    "    pixel_pitch=1\n",
    ")"
   ]
  },
  {
   "cell_type": "code",
   "execution_count": 39,
   "id": "73c986f4-dcf4-431a-8067-03cec0653a7c",
   "metadata": {},
   "outputs": [
    {
     "data": {
      "text/plain": [
       "tensor([[ 0.,  1.,  0.],\n",
       "        [ 0.,  0.,  1.],\n",
       "        [ 0.,  0.,  0.],\n",
       "        [ 0.,  0.,  0.],\n",
       "        [ 6., 10.,  6.],\n",
       "        [ 0.,  0.,  0.],\n",
       "        [ 1.,  1.,  1.]], dtype=torch.float64)"
      ]
     },
     "execution_count": 39,
     "metadata": {},
     "output_type": "execute_result"
    }
   ],
   "source": [
    "specimen_transfer(rays)"
   ]
  },
  {
   "cell_type": "code",
   "execution_count": 40,
   "id": "458dd194-a110-4a78-b9c9-25edb5cf9243",
   "metadata": {},
   "outputs": [],
   "source": [
    "class Simple4DSTEM:\n",
    "    def __init__(self, semiconv,\n",
    "                 overfocus,\n",
    "                 scan_size_y, scan_size_x, scan_y, scan_x, scan_pixel_pitch, scan_rotation,\n",
    "                 specimen,\n",
    "                 descan_shift_error, descan_tilt_error,\n",
    "                 camera_length,\n",
    "                 detector_pixel_pitch, flip_y, cy_px, cx_px):\n",
    "        model = {}\n",
    "        samples = {}\n",
    "        model['limiter'] = semiconv_aperture(semiconv)\n",
    "        model['defocus_space'] = free_space(overfocus)\n",
    "        scan_cy = scan_size_y / 2\n",
    "        scan_cx = scan_size_x / 2\n",
    "        model['scan_deflector'] = scan(\n",
    "            sy_px=scan_y,\n",
    "            sx_px=scan_x,\n",
    "            cy_pix=scan_cy,\n",
    "            cx_pix=scan_cx,\n",
    "            pixel_pitch=scan_pixel_pitch,\n",
    "            do_flip_y=False,\n",
    "            scan_rotation=scan_rotation,\n",
    "        )\n",
    "        model['specimen'] = specimen\n",
    "        model['descan_deflector'] = descan(\n",
    "            sy_px=scan_y,\n",
    "            sx_px=scan_x,\n",
    "            cy_pix=scan_cy,\n",
    "            cx_pix=scan_cx,\n",
    "            pixel_pitch=scan_pixel_pitch,\n",
    "            do_flip_y=False,\n",
    "            scan_rotation=scan_rotation,\n",
    "            shift_error_matrix=descan_shift_error,\n",
    "            tilt_error_matrix=descan_tilt_error,\n",
    "        )\n",
    "        model['camera_space'] = free_space(camera_length)\n",
    "        samples['detector'] = sampling(\n",
    "            cy_pix=cy_px, cx_pix=cx_px,\n",
    "            pixel_pitch=detector_pixel_pitch,\n",
    "            do_flip_y=flip_y,\n",
    "            rotation=0\n",
    "        )\n",
    "        self.detector_sampling_matrix = get_sampling_matrix(\n",
    "            cy_pix=cy_px, cx_pix=cx_px,\n",
    "            pixel_pitch=detector_pixel_pitch,\n",
    "            do_flip_y=flip_y,\n",
    "            rotation=0\n",
    "        )\n",
    "        self.model = model\n",
    "        self.samples = samples\n",
    "        self.keys = ['limiter', 'defocus_space', 'scan_deflector', 'specimen', 'descan_deflector', 'camera_space', 'detector']\n",
    "\n",
    "    def get_forward_function(self):\n",
    "        def forward(rays):\n",
    "            samples = {}\n",
    "            for key in self.keys:\n",
    "                try:\n",
    "                    transformer = self.model[key]\n",
    "                    if callable(transformer):\n",
    "                        rays = transformer(rays)\n",
    "                    else:\n",
    "                        rays = transformer @ rays\n",
    "                    samples[key] = rays\n",
    "                except KeyError:\n",
    "                    samples[key] = self.samples[key](rays)\n",
    "            return samples, rays\n",
    "        return forward\n",
    "\n",
    "    def get_inverse_function(self):\n",
    "        inverse_model = {}\n",
    "        for key in self.keys:\n",
    "            try:\n",
    "                transformer = self.model[key]\n",
    "                if callable(transformer):\n",
    "                    inverse_model[key] = partial(transformer, forward=False)\n",
    "                else:\n",
    "                    inverse_model[key] = np.linalg.inv(transformer)\n",
    "            except KeyError:\n",
    "                pass\n",
    "        \n",
    "        def inverse(rays):\n",
    "            samples = {}\n",
    "            for key in reversed(self.keys):\n",
    "                try:\n",
    "                    transformer = inverse_model[key]\n",
    "                    if callable(transformer):\n",
    "                        rays = transformer(rays)\n",
    "                    else:\n",
    "                        rays = transformer @ rays\n",
    "                    samples[key] = rays\n",
    "                except KeyError:\n",
    "                    samples[key] = self.samples[key](rays)\n",
    "            return samples, rays\n",
    "\n",
    "        return inverse\n",
    "\n",
    "    def get_detector_pixel_rays(self, size_y, size_x):\n",
    "        # First, figure out the position of each detector pixel\n",
    "        # We invert the matrix that goes from ray to pixel,\n",
    "        # and then apply the inverted matrix to pseudo rays with the detector pixel indices\n",
    "        # as Y, X positions.\n",
    "        # This gives us the ray positions.\n",
    "        det = self.detector_sampling_matrix\n",
    "        inv_det = torch.linalg.inv(det)\n",
    "        ray_count = size_y * size_x\n",
    "        pix_rays = torch.zeros((NUM_COMPONENTS, ray_count), dtype=torch.float64)\n",
    "        pix_rays[ONE, :] = 1\n",
    "        y, x = torch.meshgrid(torch.arange(size_y), torch.arange(size_x), indexing='ij')\n",
    "        y = y.reshape(-1, )\n",
    "        x = x.reshape(-1, )\n",
    "        pix_rays[X] = x\n",
    "        pix_rays[Y] = y\n",
    "        # Here we invert and get rays that go through the pixels.\n",
    "        position_rays = inv_det @ pix_rays\n",
    "        \n",
    "        inverse = self.get_inverse_function()\n",
    "\n",
    "        # find tilts that will make the rays pass the optical axis at the origin\n",
    "        \n",
    "        # Technically, it COULD be more efficient to optimize rays individually since they are independent.\n",
    "        # However, the much greater parallelism seems to make simultaneous optimization extremely efficient,\n",
    "        # and back-tracing the gradients should make these cross-terms zero anyway (I guess?).\n",
    "\n",
    "        def find_tilts():\n",
    "            \n",
    "            def loss_func(tilts):\n",
    "                # Some PyTorch magic? Still need to work out how everything functions...\n",
    "                r = pix_rays.detach().clone()\n",
    "                # Apply the tilts to the rays at the bottom of the model\n",
    "                r[(DY, DX), ...] = tilts\n",
    "                # Trace them back to the origin\n",
    "                samples, rays = inverse(r)\n",
    "\n",
    "                # extract their distance from the optical axis\n",
    "                start_position = samples['limiter'][(Y, X), ...]\n",
    "                # We want to make all of them zero\n",
    "                return torch.linalg.norm(start_position)\n",
    "\n",
    "            # Starting value: No tilt\n",
    "            tilts = torch.zeros((2, ray_count), dtype=torch.float64).requires_grad_()\n",
    "\n",
    "            # This one works well, including a ludicrous learning rate, see below\n",
    "            opt = torch.optim.Rprop([tilts], lr=1)\n",
    "            count = 0\n",
    "            # Just for the while loop\n",
    "            loss = torch.tensor((1., ))\n",
    "            while loss > 1e-4 and count < 1000:\n",
    "                count += 1\n",
    "                opt.zero_grad()\n",
    "                loss = loss_func(tilts)\n",
    "                loss.backward()\n",
    "                opt.step()\n",
    "            assert loss <= 1e-4\n",
    "            return tilts\n",
    "\n",
    "        tilts = find_tilts()\n",
    "        # Update our rays with the tilts we found\n",
    "        pix_rays[(DY, DX), ...] = tilts\n",
    "        return pix_rays"
   ]
  },
  {
   "cell_type": "code",
   "execution_count": 41,
   "id": "740567a7-df3d-4210-9424-4b934023505e",
   "metadata": {},
   "outputs": [
    {
     "data": {
      "text/plain": [
       "tensor([[ 0.0000,  0.0000,  0.0000,  ..., 31.0000, 31.0000, 31.0000],\n",
       "        [ 0.0000,  0.0000,  0.0000,  ..., 10.3333, 10.3333, 10.3333],\n",
       "        [ 0.0000,  1.0000,  2.0000,  ..., 29.0000, 30.0000, 31.0000],\n",
       "        ...,\n",
       "        [ 0.0000,  0.0000,  0.0000,  ...,  0.0000,  0.0000,  0.0000],\n",
       "        [ 0.0000,  0.0000,  0.0000,  ...,  0.0000,  0.0000,  0.0000],\n",
       "        [ 1.0000,  1.0000,  1.0000,  ...,  1.0000,  1.0000,  1.0000]],\n",
       "       dtype=torch.float64, grad_fn=<IndexPutBackward0>)"
      ]
     },
     "execution_count": 41,
     "metadata": {},
     "output_type": "execute_result"
    }
   ],
   "source": [
    "def dummy_specimen(rays, forward=True):\n",
    "    return rays\n",
    "    \n",
    "model = Simple4DSTEM(\n",
    "    semiconv=0.03,\n",
    "    overfocus=1,\n",
    "    scan_size_y=16,\n",
    "    scan_size_x=16,\n",
    "    scan_y=8,\n",
    "    scan_x=8,\n",
    "    scan_pixel_pitch=0.01,\n",
    "    scan_rotation=0,\n",
    "    specimen=dummy_specimen,\n",
    "    descan_shift_error=torch.zeros((2, 2), dtype=torch.float64),\n",
    "    descan_tilt_error=torch.zeros((2, 2), dtype=torch.float64),\n",
    "    camera_length=2,\n",
    "    detector_pixel_pitch=0.1,\n",
    "    flip_y=False,\n",
    "    cy_px=16,\n",
    "    cx_px=16,\n",
    ")\n",
    "model.get_detector_pixel_rays(32, 32)"
   ]
  },
  {
   "cell_type": "code",
   "execution_count": 42,
   "id": "35e73c49-4bdd-4002-b738-8aec37f15d56",
   "metadata": {},
   "outputs": [
    {
     "name": "stdout",
     "output_type": "stream",
     "text": [
      "39.5 ms ± 1.03 ms per loop (mean ± std. dev. of 7 runs, 10 loops each)\n"
     ]
    }
   ],
   "source": [
    "%timeit model.get_detector_pixel_rays(32, 32)"
   ]
  },
  {
   "cell_type": "markdown",
   "id": "7b72f4ec-8e6a-44b4-b18b-b5bf0e2c54e4",
   "metadata": {},
   "source": [
    "## Test bed for different optimizers\n",
    "\n",
    "Torch includes a great number of optimizers: https://pytorch.org/docs/stable/optim.html\n",
    "\n",
    "Here, we can benchmark which ones converge best with a very, very well-behaved forward model."
   ]
  },
  {
   "cell_type": "code",
   "execution_count": 43,
   "id": "5de587a2-332a-4221-9ce6-2c021370090c",
   "metadata": {},
   "outputs": [
    {
     "name": "stdout",
     "output_type": "stream",
     "text": [
      "tensor(0., grad_fn=<LinalgVectorNormBackward0>)\n"
     ]
    },
    {
     "data": {
      "text/plain": [
       "[<matplotlib.lines.Line2D at 0x7f7d6aa70890>]"
      ]
     },
     "execution_count": 43,
     "metadata": {},
     "output_type": "execute_result"
    },
    {
     "data": {
      "application/vnd.jupyter.widget-view+json": {
       "model_id": "4e0ea30e365e4ba983cf941eebae7a16",
       "version_major": 2,
       "version_minor": 0
      },
      "image/png": "[encoded data removed]",
      "text/html": [
       "\n",
       "            <div style=\"display: inline-block;\">\n",
       "                <div class=\"jupyter-widgets widget-label\" style=\"text-align: center;\">\n",
       "                    Figure\n",
       "                </div>\n",
       "                <img src='data:image/png;base64,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' width=640.0/>\n",
       "            </div>\n",
       "        "
      ],
      "text/plain": [
       "Canvas(toolbar=Toolbar(toolitems=[('Home', 'Reset original view', 'home', 'home'), ('Back', 'Back to previous …"
      ]
     },
     "metadata": {},
     "output_type": "display_data"
    }
   ],
   "source": [
    "obj = torch.ones((3,)).requires_grad_()\n",
    "\n",
    "def loss(sth):\n",
    "    return torch.linalg.norm(sth)\n",
    "\n",
    "losses = []\n",
    "\n",
    "opt = torch.optim.Rprop([obj], lr=1,)\n",
    "for i in range(20):\n",
    "    def closure():\n",
    "        opt.zero_grad()\n",
    "        l = loss(obj)\n",
    "        l.backward()\n",
    "        losses.append(float(l))\n",
    "        return l\n",
    "    opt.step(closure)\n",
    "print(loss(obj))\n",
    "fig, axes = plt.subplots()\n",
    "axes.plot(losses)"
   ]
  },
  {
   "cell_type": "markdown",
   "id": "46382ecf-fd54-4074-a7cf-74f4a13b9862",
   "metadata": {},
   "source": [
    "Adafactor tensor(1.0910e-05, grad_fn=<LinalgVectorNormBackward0>)\n",
    "Adagrad tensor(0., grad_fn=<LinalgVectorNormBackward0>)\n",
    "RMSprop tensor(0., grad_fn=<LinalgVectorNormBackward0>)\n",
    "Rprop tensor(1.7292e-06, grad_fn=<LinalgVectorNormBackward0>)"
   ]
  },
  {
   "cell_type": "code",
   "execution_count": 44,
   "id": "d0d6665f-a666-45c3-95d2-a97b0ce419d3",
   "metadata": {},
   "outputs": [
    {
     "data": {
      "text/plain": [
       "(tensor([[0, 0, 0, 0],\n",
       "         [1, 1, 1, 1],\n",
       "         [2, 2, 2, 2]]),\n",
       " tensor([[0, 1, 2, 3],\n",
       "         [0, 1, 2, 3],\n",
       "         [0, 1, 2, 3]]))"
      ]
     },
     "execution_count": 44,
     "metadata": {},
     "output_type": "execute_result"
    }
   ],
   "source": [
    "torch.meshgrid(torch.arange(end=3), torch.arange(end=4), indexing='ij')"
   ]
  },
  {
   "cell_type": "code",
   "execution_count": 45,
   "id": "19a8f14d-f9a3-4613-a1e0-0239362a9acb",
   "metadata": {},
   "outputs": [
    {
     "data": {
      "text/plain": [
       "array([[[0, 0, 0, 0],\n",
       "        [1, 1, 1, 1],\n",
       "        [2, 2, 2, 2]],\n",
       "\n",
       "       [[0, 1, 2, 3],\n",
       "        [0, 1, 2, 3],\n",
       "        [0, 1, 2, 3]]])"
      ]
     },
     "execution_count": 45,
     "metadata": {},
     "output_type": "execute_result"
    }
   ],
   "source": [
    "np.mgrid[:3, :4]"
   ]
  },
  {
   "cell_type": "markdown",
   "id": "64668a31-7352-460b-88ba-55505545e1ed",
   "metadata": {},
   "source": [
    "## Take-away\n",
    "\n",
    "* Try to not limit architecture to linear functions and ray transfer matrices, but generalized transfer functions\n",
    "* Both forward and backward propagation desirable, at least for ray positions.\n",
    "* Pure functions, inspired by functional programming, work well here\n",
    "  * Make sure the model cannot have an invalid or inconsistent state -- issue with current TemGym!\n",
    "  * 1:1 mapping between model and model parameters desirable\n",
    "  * Creating a model SHOULD be cheap compared to propagating many rays, so we can just create new models instead of modifying existing ones. That makes it easier to ensure models are consistent with their parameters.\n",
    "* Not only ray propagation, but also solver to find rays with certain properties! Here, for each detector pixel find a ray that goes through the focus point.\n",
    "  * Make model invertible. For linear functions, `np.linalg.inv()` does the trick, but more generally one should probably use pytorch or sth like this. Here, use \"minimize\" as a stand-in, but pytorch would be WAY more powerful and faster since it can auto-differentiate.\n",
    "* Try to generalize and re-use functions, in particular the ones doing coordinate transformations\n"
   ]
  },
  {
   "cell_type": "code",
   "execution_count": null,
   "id": "4c34fc1e",
   "metadata": {},
   "outputs": [],
   "source": []
  }
 ],
 "metadata": {
  "kernelspec": {
   "display_name": "Python 3 (ipykernel)",
   "language": "python",
   "name": "python3"
  },
  "language_info": {
   "codemirror_mode": {
    "name": "ipython",
    "version": 3
   },
   "file_extension": ".py",
   "mimetype": "text/x-python",
   "name": "python",
   "nbconvert_exporter": "python",
   "pygments_lexer": "ipython3",
   "version": "3.12.7"
  }
 },
 "nbformat": 4,
 "nbformat_minor": 5
}
